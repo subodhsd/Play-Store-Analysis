{
  "nbformat": 4,
  "nbformat_minor": 0,
  "metadata": {
    "colab": {
      "provenance": [],
      "collapsed_sections": [],
      "authorship_tag": "ABX9TyP76LVRYT9aYgOrpYfzxkPO",
      "include_colab_link": true
    },
    "kernelspec": {
      "name": "python3",
      "display_name": "Python 3"
    },
    "language_info": {
      "name": "python"
    }
  },
  "cells": [
    {
      "cell_type": "markdown",
      "metadata": {
        "id": "view-in-github",
        "colab_type": "text"
      },
      "source": [
        "<a href=\"https://colab.research.google.com/github/subodhsd/Play-Store-Analysis/blob/main/Play_Store_App_Review_Analysis_Final.ipynb\" target=\"_parent\"><img src=\"https://colab.research.google.com/assets/colab-badge.svg\" alt=\"Open In Colab\"/></a>"
      ]
    },
    {
      "cell_type": "markdown",
      "source": [
        "# Play Store App Review Analysis"
      ],
      "metadata": {
        "id": "CIXMM-gjep8F"
      }
    },
    {
      "cell_type": "markdown",
      "metadata": {
        "id": "Y06xIdG26kRF"
      },
      "source": [
        "## <b> The Play Store apps data has enormous potential to drive app-making businesses to success. Actionable insights can be drawn for developers to work on and capture the Android market. </b>\n",
        "\n",
        "## <b> Each app (row) has values for catergory, rating, size, and more. Another dataset contains customer reviews of the android apps.</b>\n",
        "\n",
        "## <b> Explore and analyze the data to discover key factors responsible for app engagement and success. </b>"
      ]
    },
    {
      "cell_type": "markdown",
      "metadata": {
        "id": "4YNpPoXbFizl"
      },
      "source": [
        "   Nowadays, mobile apps are becoming one of the most fundamental parts of our life. With the rapid increase in app usage, The app market is also growing exponentially. Currently, the Google play store is the most dominant android app marketplace. At this time, It contains more than 2.5 million apps and thousands of apps are launched every single day.\n",
        "\n",
        "   Since a number of the dominant player with several quality apps are already present in the market, there is tough competition for newcomers. To survive and grow in this competitive market we need a great strategy. We have to find some answers from previous market insights. For example- in which niche should we create our app? Should we make our app free or paid? etc.\n",
        "\n",
        "   To find the answer to many such questions we are going to do a detailed analysis of over ten thousand apps in Google Play across different categories.\n",
        "\n",
        "Let's take a look at the datasets we are going to use for our analysis.\n",
        "\n",
        "**Play Store Data.csv**- This dataset contains 13 features. Different features \n",
        "indicate a different property of an app. For example- the category of the app, Rating of the app, etc.\n",
        "\n",
        "\n",
        "**Reviews. CSV**-This data set contain 5 features. The 'Translated_Review' feature contains the pre-processed review of each app. Based on these reviews there are three more features \"Sentiment\", \"Sentiment_Polarity\" and \"Sentiment_Subjectivity\"."
      ]
    },
    {
      "cell_type": "markdown",
      "metadata": {
        "id": "rT41rJ6wHKNr"
      },
      "source": [
        "# **🪕Play Store Data Analysis**"
      ]
    },
    {
      "cell_type": "code",
      "execution_count": null,
      "metadata": {
        "id": "dByMsuzT8Tnw"
      },
      "outputs": [],
      "source": [
        "# importing libraries\n",
        "# numpy-for linear transformation\n",
        "# pandas-for data manipulation and analysis\n",
        "# matplotlib,seaborn,plotly-for visualization\n",
        "import numpy as np\n",
        "import pandas as pd \n",
        "import matplotlib.pyplot as plt\n",
        "import seaborn as sns\n",
        "import plotly.express as px"
      ]
    },
    {
      "cell_type": "code",
      "execution_count": null,
      "metadata": {
        "colab": {
          "base_uri": "https://localhost:8080/"
        },
        "id": "5EmiRntTPams",
        "outputId": "7f36fba4-99dc-4d9b-82ab-fa8377657e67"
      },
      "outputs": [
        {
          "output_type": "stream",
          "name": "stdout",
          "text": [
            "Drive already mounted at /content/drive; to attempt to forcibly remount, call drive.mount(\"/content/drive\", force_remount=True).\n"
          ]
        }
      ],
      "source": [
        "from google.colab import drive\n",
        "drive.mount('/content/drive')"
      ]
    },
    {
      "cell_type": "code",
      "execution_count": null,
      "metadata": {
        "id": "J-Aj6OQRPWet"
      },
      "outputs": [],
      "source": [
        "#loading csv files\n",
        "playstore_data_path = '/content/drive/MyDrive/Colab Notebooks/Play Store App Review Analysis/Play Store Data.csv'\n",
        "user_review_data_path = '/content/drive/MyDrive/Colab Notebooks/Play Store App Review Analysis/User Reviews.csv'\n",
        "playstore_df = pd.read_csv(playstore_data_path)\n",
        "review_df = pd.read_csv(user_review_data_path)"
      ]
    },
    {
      "cell_type": "markdown",
      "metadata": {
        "id": "XN-_KgLoBvj8"
      },
      "source": [
        "# Exploring Playstore and User Review Dataframe."
      ]
    },
    {
      "cell_type": "markdown",
      "metadata": {
        "id": "f-k87TwkKqnZ"
      },
      "source": [
        "### 1.Playstore Dataframe\n",
        "\n",
        "\n"
      ]
    },
    {
      "cell_type": "code",
      "execution_count": null,
      "metadata": {
        "colab": {
          "base_uri": "https://localhost:8080/"
        },
        "id": "P_hawKOLonzw",
        "outputId": "87e223dc-2dd2-4384-b1ba-1a28c22bb189"
      },
      "outputs": [
        {
          "output_type": "execute_result",
          "data": {
            "text/plain": [
              "(10841, 13)"
            ]
          },
          "metadata": {},
          "execution_count": 353
        }
      ],
      "source": [
        "#shape of the play store dataset\n",
        "playstore_df.shape"
      ]
    },
    {
      "cell_type": "code",
      "execution_count": null,
      "metadata": {
        "colab": {
          "base_uri": "https://localhost:8080/",
          "height": 337
        },
        "id": "T0YkjPBlP8Xu",
        "outputId": "7e2cd520-0a2d-4f5b-e48f-6ad7a5f3d67a"
      },
      "outputs": [
        {
          "output_type": "execute_result",
          "data": {
            "text/plain": [
              "                                                 App        Category  Rating  \\\n",
              "0     Photo Editor & Candy Camera & Grid & ScrapBook  ART_AND_DESIGN     4.1   \n",
              "1                                Coloring book moana  ART_AND_DESIGN     3.9   \n",
              "2  U Launcher Lite – FREE Live Cool Themes, Hide ...  ART_AND_DESIGN     4.7   \n",
              "3                              Sketch - Draw & Paint  ART_AND_DESIGN     4.5   \n",
              "4              Pixel Draw - Number Art Coloring Book  ART_AND_DESIGN     4.3   \n",
              "\n",
              "  Reviews  Size     Installs  Type Price Content Rating  \\\n",
              "0     159   19M      10,000+  Free     0       Everyone   \n",
              "1     967   14M     500,000+  Free     0       Everyone   \n",
              "2   87510  8.7M   5,000,000+  Free     0       Everyone   \n",
              "3  215644   25M  50,000,000+  Free     0           Teen   \n",
              "4     967  2.8M     100,000+  Free     0       Everyone   \n",
              "\n",
              "                      Genres      Last Updated         Current Ver  \\\n",
              "0               Art & Design   January 7, 2018               1.0.0   \n",
              "1  Art & Design;Pretend Play  January 15, 2018               2.0.0   \n",
              "2               Art & Design    August 1, 2018               1.2.4   \n",
              "3               Art & Design      June 8, 2018  Varies with device   \n",
              "4    Art & Design;Creativity     June 20, 2018                 1.1   \n",
              "\n",
              "    Android Ver  \n",
              "0  4.0.3 and up  \n",
              "1  4.0.3 and up  \n",
              "2  4.0.3 and up  \n",
              "3    4.2 and up  \n",
              "4    4.4 and up  "
            ],
            "text/html": [
              "\n",
              "  <div id=\"df-9296faa1-a49f-4fda-a990-c75575aea49b\">\n",
              "    <div class=\"colab-df-container\">\n",
              "      <div>\n",
              "<style scoped>\n",
              "    .dataframe tbody tr th:only-of-type {\n",
              "        vertical-align: middle;\n",
              "    }\n",
              "\n",
              "    .dataframe tbody tr th {\n",
              "        vertical-align: top;\n",
              "    }\n",
              "\n",
              "    .dataframe thead th {\n",
              "        text-align: right;\n",
              "    }\n",
              "</style>\n",
              "<table border=\"1\" class=\"dataframe\">\n",
              "  <thead>\n",
              "    <tr style=\"text-align: right;\">\n",
              "      <th></th>\n",
              "      <th>App</th>\n",
              "      <th>Category</th>\n",
              "      <th>Rating</th>\n",
              "      <th>Reviews</th>\n",
              "      <th>Size</th>\n",
              "      <th>Installs</th>\n",
              "      <th>Type</th>\n",
              "      <th>Price</th>\n",
              "      <th>Content Rating</th>\n",
              "      <th>Genres</th>\n",
              "      <th>Last Updated</th>\n",
              "      <th>Current Ver</th>\n",
              "      <th>Android Ver</th>\n",
              "    </tr>\n",
              "  </thead>\n",
              "  <tbody>\n",
              "    <tr>\n",
              "      <th>0</th>\n",
              "      <td>Photo Editor &amp; Candy Camera &amp; Grid &amp; ScrapBook</td>\n",
              "      <td>ART_AND_DESIGN</td>\n",
              "      <td>4.1</td>\n",
              "      <td>159</td>\n",
              "      <td>19M</td>\n",
              "      <td>10,000+</td>\n",
              "      <td>Free</td>\n",
              "      <td>0</td>\n",
              "      <td>Everyone</td>\n",
              "      <td>Art &amp; Design</td>\n",
              "      <td>January 7, 2018</td>\n",
              "      <td>1.0.0</td>\n",
              "      <td>4.0.3 and up</td>\n",
              "    </tr>\n",
              "    <tr>\n",
              "      <th>1</th>\n",
              "      <td>Coloring book moana</td>\n",
              "      <td>ART_AND_DESIGN</td>\n",
              "      <td>3.9</td>\n",
              "      <td>967</td>\n",
              "      <td>14M</td>\n",
              "      <td>500,000+</td>\n",
              "      <td>Free</td>\n",
              "      <td>0</td>\n",
              "      <td>Everyone</td>\n",
              "      <td>Art &amp; Design;Pretend Play</td>\n",
              "      <td>January 15, 2018</td>\n",
              "      <td>2.0.0</td>\n",
              "      <td>4.0.3 and up</td>\n",
              "    </tr>\n",
              "    <tr>\n",
              "      <th>2</th>\n",
              "      <td>U Launcher Lite – FREE Live Cool Themes, Hide ...</td>\n",
              "      <td>ART_AND_DESIGN</td>\n",
              "      <td>4.7</td>\n",
              "      <td>87510</td>\n",
              "      <td>8.7M</td>\n",
              "      <td>5,000,000+</td>\n",
              "      <td>Free</td>\n",
              "      <td>0</td>\n",
              "      <td>Everyone</td>\n",
              "      <td>Art &amp; Design</td>\n",
              "      <td>August 1, 2018</td>\n",
              "      <td>1.2.4</td>\n",
              "      <td>4.0.3 and up</td>\n",
              "    </tr>\n",
              "    <tr>\n",
              "      <th>3</th>\n",
              "      <td>Sketch - Draw &amp; Paint</td>\n",
              "      <td>ART_AND_DESIGN</td>\n",
              "      <td>4.5</td>\n",
              "      <td>215644</td>\n",
              "      <td>25M</td>\n",
              "      <td>50,000,000+</td>\n",
              "      <td>Free</td>\n",
              "      <td>0</td>\n",
              "      <td>Teen</td>\n",
              "      <td>Art &amp; Design</td>\n",
              "      <td>June 8, 2018</td>\n",
              "      <td>Varies with device</td>\n",
              "      <td>4.2 and up</td>\n",
              "    </tr>\n",
              "    <tr>\n",
              "      <th>4</th>\n",
              "      <td>Pixel Draw - Number Art Coloring Book</td>\n",
              "      <td>ART_AND_DESIGN</td>\n",
              "      <td>4.3</td>\n",
              "      <td>967</td>\n",
              "      <td>2.8M</td>\n",
              "      <td>100,000+</td>\n",
              "      <td>Free</td>\n",
              "      <td>0</td>\n",
              "      <td>Everyone</td>\n",
              "      <td>Art &amp; Design;Creativity</td>\n",
              "      <td>June 20, 2018</td>\n",
              "      <td>1.1</td>\n",
              "      <td>4.4 and up</td>\n",
              "    </tr>\n",
              "  </tbody>\n",
              "</table>\n",
              "</div>\n",
              "      <button class=\"colab-df-convert\" onclick=\"convertToInteractive('df-9296faa1-a49f-4fda-a990-c75575aea49b')\"\n",
              "              title=\"Convert this dataframe to an interactive table.\"\n",
              "              style=\"display:none;\">\n",
              "        \n",
              "  <svg xmlns=\"http://www.w3.org/2000/svg\" height=\"24px\"viewBox=\"0 0 24 24\"\n",
              "       width=\"24px\">\n",
              "    <path d=\"M0 0h24v24H0V0z\" fill=\"none\"/>\n",
              "    <path d=\"M18.56 5.44l.94 2.06.94-2.06 2.06-.94-2.06-.94-.94-2.06-.94 2.06-2.06.94zm-11 1L8.5 8.5l.94-2.06 2.06-.94-2.06-.94L8.5 2.5l-.94 2.06-2.06.94zm10 10l.94 2.06.94-2.06 2.06-.94-2.06-.94-.94-2.06-.94 2.06-2.06.94z\"/><path d=\"M17.41 7.96l-1.37-1.37c-.4-.4-.92-.59-1.43-.59-.52 0-1.04.2-1.43.59L10.3 9.45l-7.72 7.72c-.78.78-.78 2.05 0 2.83L4 21.41c.39.39.9.59 1.41.59.51 0 1.02-.2 1.41-.59l7.78-7.78 2.81-2.81c.8-.78.8-2.07 0-2.86zM5.41 20L4 18.59l7.72-7.72 1.47 1.35L5.41 20z\"/>\n",
              "  </svg>\n",
              "      </button>\n",
              "      \n",
              "  <style>\n",
              "    .colab-df-container {\n",
              "      display:flex;\n",
              "      flex-wrap:wrap;\n",
              "      gap: 12px;\n",
              "    }\n",
              "\n",
              "    .colab-df-convert {\n",
              "      background-color: #E8F0FE;\n",
              "      border: none;\n",
              "      border-radius: 50%;\n",
              "      cursor: pointer;\n",
              "      display: none;\n",
              "      fill: #1967D2;\n",
              "      height: 32px;\n",
              "      padding: 0 0 0 0;\n",
              "      width: 32px;\n",
              "    }\n",
              "\n",
              "    .colab-df-convert:hover {\n",
              "      background-color: #E2EBFA;\n",
              "      box-shadow: 0px 1px 2px rgba(60, 64, 67, 0.3), 0px 1px 3px 1px rgba(60, 64, 67, 0.15);\n",
              "      fill: #174EA6;\n",
              "    }\n",
              "\n",
              "    [theme=dark] .colab-df-convert {\n",
              "      background-color: #3B4455;\n",
              "      fill: #D2E3FC;\n",
              "    }\n",
              "\n",
              "    [theme=dark] .colab-df-convert:hover {\n",
              "      background-color: #434B5C;\n",
              "      box-shadow: 0px 1px 3px 1px rgba(0, 0, 0, 0.15);\n",
              "      filter: drop-shadow(0px 1px 2px rgba(0, 0, 0, 0.3));\n",
              "      fill: #FFFFFF;\n",
              "    }\n",
              "  </style>\n",
              "\n",
              "      <script>\n",
              "        const buttonEl =\n",
              "          document.querySelector('#df-9296faa1-a49f-4fda-a990-c75575aea49b button.colab-df-convert');\n",
              "        buttonEl.style.display =\n",
              "          google.colab.kernel.accessAllowed ? 'block' : 'none';\n",
              "\n",
              "        async function convertToInteractive(key) {\n",
              "          const element = document.querySelector('#df-9296faa1-a49f-4fda-a990-c75575aea49b');\n",
              "          const dataTable =\n",
              "            await google.colab.kernel.invokeFunction('convertToInteractive',\n",
              "                                                     [key], {});\n",
              "          if (!dataTable) return;\n",
              "\n",
              "          const docLinkHtml = 'Like what you see? Visit the ' +\n",
              "            '<a target=\"_blank\" href=https://colab.research.google.com/notebooks/data_table.ipynb>data table notebook</a>'\n",
              "            + ' to learn more about interactive tables.';\n",
              "          element.innerHTML = '';\n",
              "          dataTable['output_type'] = 'display_data';\n",
              "          await google.colab.output.renderOutput(dataTable, element);\n",
              "          const docLink = document.createElement('div');\n",
              "          docLink.innerHTML = docLinkHtml;\n",
              "          element.appendChild(docLink);\n",
              "        }\n",
              "      </script>\n",
              "    </div>\n",
              "  </div>\n",
              "  "
            ]
          },
          "metadata": {},
          "execution_count": 354
        }
      ],
      "source": [
        "#displaying first 5 rows of the dataset\n",
        "playstore_df.head()"
      ]
    },
    {
      "cell_type": "code",
      "execution_count": null,
      "metadata": {
        "colab": {
          "base_uri": "https://localhost:8080/",
          "height": 320
        },
        "id": "kAJ4NPR3pUJE",
        "outputId": "cecc223b-3521-4032-b24e-14cd2e842d04"
      },
      "outputs": [
        {
          "output_type": "execute_result",
          "data": {
            "text/plain": [
              "                                                 App             Category  \\\n",
              "10836                               Sya9a Maroc - FR               FAMILY   \n",
              "10837               Fr. Mike Schmitz Audio Teachings               FAMILY   \n",
              "10838                         Parkinson Exercices FR              MEDICAL   \n",
              "10839                  The SCP Foundation DB fr nn5n  BOOKS_AND_REFERENCE   \n",
              "10840  iHoroscope - 2018 Daily Horoscope & Astrology            LIFESTYLE   \n",
              "\n",
              "       Rating Reviews                Size     Installs  Type Price  \\\n",
              "10836     4.5      38                 53M       5,000+  Free     0   \n",
              "10837     5.0       4                3.6M         100+  Free     0   \n",
              "10838     NaN       3                9.5M       1,000+  Free     0   \n",
              "10839     4.5     114  Varies with device       1,000+  Free     0   \n",
              "10840     4.5  398307                 19M  10,000,000+  Free     0   \n",
              "\n",
              "      Content Rating             Genres      Last Updated         Current Ver  \\\n",
              "10836       Everyone          Education     July 25, 2017                1.48   \n",
              "10837       Everyone          Education      July 6, 2018                 1.0   \n",
              "10838       Everyone            Medical  January 20, 2017                 1.0   \n",
              "10839     Mature 17+  Books & Reference  January 19, 2015  Varies with device   \n",
              "10840       Everyone          Lifestyle     July 25, 2018  Varies with device   \n",
              "\n",
              "              Android Ver  \n",
              "10836          4.1 and up  \n",
              "10837          4.1 and up  \n",
              "10838          2.2 and up  \n",
              "10839  Varies with device  \n",
              "10840  Varies with device  "
            ],
            "text/html": [
              "\n",
              "  <div id=\"df-ae9e938b-aa96-4296-915c-c864150e7a0e\">\n",
              "    <div class=\"colab-df-container\">\n",
              "      <div>\n",
              "<style scoped>\n",
              "    .dataframe tbody tr th:only-of-type {\n",
              "        vertical-align: middle;\n",
              "    }\n",
              "\n",
              "    .dataframe tbody tr th {\n",
              "        vertical-align: top;\n",
              "    }\n",
              "\n",
              "    .dataframe thead th {\n",
              "        text-align: right;\n",
              "    }\n",
              "</style>\n",
              "<table border=\"1\" class=\"dataframe\">\n",
              "  <thead>\n",
              "    <tr style=\"text-align: right;\">\n",
              "      <th></th>\n",
              "      <th>App</th>\n",
              "      <th>Category</th>\n",
              "      <th>Rating</th>\n",
              "      <th>Reviews</th>\n",
              "      <th>Size</th>\n",
              "      <th>Installs</th>\n",
              "      <th>Type</th>\n",
              "      <th>Price</th>\n",
              "      <th>Content Rating</th>\n",
              "      <th>Genres</th>\n",
              "      <th>Last Updated</th>\n",
              "      <th>Current Ver</th>\n",
              "      <th>Android Ver</th>\n",
              "    </tr>\n",
              "  </thead>\n",
              "  <tbody>\n",
              "    <tr>\n",
              "      <th>10836</th>\n",
              "      <td>Sya9a Maroc - FR</td>\n",
              "      <td>FAMILY</td>\n",
              "      <td>4.5</td>\n",
              "      <td>38</td>\n",
              "      <td>53M</td>\n",
              "      <td>5,000+</td>\n",
              "      <td>Free</td>\n",
              "      <td>0</td>\n",
              "      <td>Everyone</td>\n",
              "      <td>Education</td>\n",
              "      <td>July 25, 2017</td>\n",
              "      <td>1.48</td>\n",
              "      <td>4.1 and up</td>\n",
              "    </tr>\n",
              "    <tr>\n",
              "      <th>10837</th>\n",
              "      <td>Fr. Mike Schmitz Audio Teachings</td>\n",
              "      <td>FAMILY</td>\n",
              "      <td>5.0</td>\n",
              "      <td>4</td>\n",
              "      <td>3.6M</td>\n",
              "      <td>100+</td>\n",
              "      <td>Free</td>\n",
              "      <td>0</td>\n",
              "      <td>Everyone</td>\n",
              "      <td>Education</td>\n",
              "      <td>July 6, 2018</td>\n",
              "      <td>1.0</td>\n",
              "      <td>4.1 and up</td>\n",
              "    </tr>\n",
              "    <tr>\n",
              "      <th>10838</th>\n",
              "      <td>Parkinson Exercices FR</td>\n",
              "      <td>MEDICAL</td>\n",
              "      <td>NaN</td>\n",
              "      <td>3</td>\n",
              "      <td>9.5M</td>\n",
              "      <td>1,000+</td>\n",
              "      <td>Free</td>\n",
              "      <td>0</td>\n",
              "      <td>Everyone</td>\n",
              "      <td>Medical</td>\n",
              "      <td>January 20, 2017</td>\n",
              "      <td>1.0</td>\n",
              "      <td>2.2 and up</td>\n",
              "    </tr>\n",
              "    <tr>\n",
              "      <th>10839</th>\n",
              "      <td>The SCP Foundation DB fr nn5n</td>\n",
              "      <td>BOOKS_AND_REFERENCE</td>\n",
              "      <td>4.5</td>\n",
              "      <td>114</td>\n",
              "      <td>Varies with device</td>\n",
              "      <td>1,000+</td>\n",
              "      <td>Free</td>\n",
              "      <td>0</td>\n",
              "      <td>Mature 17+</td>\n",
              "      <td>Books &amp; Reference</td>\n",
              "      <td>January 19, 2015</td>\n",
              "      <td>Varies with device</td>\n",
              "      <td>Varies with device</td>\n",
              "    </tr>\n",
              "    <tr>\n",
              "      <th>10840</th>\n",
              "      <td>iHoroscope - 2018 Daily Horoscope &amp; Astrology</td>\n",
              "      <td>LIFESTYLE</td>\n",
              "      <td>4.5</td>\n",
              "      <td>398307</td>\n",
              "      <td>19M</td>\n",
              "      <td>10,000,000+</td>\n",
              "      <td>Free</td>\n",
              "      <td>0</td>\n",
              "      <td>Everyone</td>\n",
              "      <td>Lifestyle</td>\n",
              "      <td>July 25, 2018</td>\n",
              "      <td>Varies with device</td>\n",
              "      <td>Varies with device</td>\n",
              "    </tr>\n",
              "  </tbody>\n",
              "</table>\n",
              "</div>\n",
              "      <button class=\"colab-df-convert\" onclick=\"convertToInteractive('df-ae9e938b-aa96-4296-915c-c864150e7a0e')\"\n",
              "              title=\"Convert this dataframe to an interactive table.\"\n",
              "              style=\"display:none;\">\n",
              "        \n",
              "  <svg xmlns=\"http://www.w3.org/2000/svg\" height=\"24px\"viewBox=\"0 0 24 24\"\n",
              "       width=\"24px\">\n",
              "    <path d=\"M0 0h24v24H0V0z\" fill=\"none\"/>\n",
              "    <path d=\"M18.56 5.44l.94 2.06.94-2.06 2.06-.94-2.06-.94-.94-2.06-.94 2.06-2.06.94zm-11 1L8.5 8.5l.94-2.06 2.06-.94-2.06-.94L8.5 2.5l-.94 2.06-2.06.94zm10 10l.94 2.06.94-2.06 2.06-.94-2.06-.94-.94-2.06-.94 2.06-2.06.94z\"/><path d=\"M17.41 7.96l-1.37-1.37c-.4-.4-.92-.59-1.43-.59-.52 0-1.04.2-1.43.59L10.3 9.45l-7.72 7.72c-.78.78-.78 2.05 0 2.83L4 21.41c.39.39.9.59 1.41.59.51 0 1.02-.2 1.41-.59l7.78-7.78 2.81-2.81c.8-.78.8-2.07 0-2.86zM5.41 20L4 18.59l7.72-7.72 1.47 1.35L5.41 20z\"/>\n",
              "  </svg>\n",
              "      </button>\n",
              "      \n",
              "  <style>\n",
              "    .colab-df-container {\n",
              "      display:flex;\n",
              "      flex-wrap:wrap;\n",
              "      gap: 12px;\n",
              "    }\n",
              "\n",
              "    .colab-df-convert {\n",
              "      background-color: #E8F0FE;\n",
              "      border: none;\n",
              "      border-radius: 50%;\n",
              "      cursor: pointer;\n",
              "      display: none;\n",
              "      fill: #1967D2;\n",
              "      height: 32px;\n",
              "      padding: 0 0 0 0;\n",
              "      width: 32px;\n",
              "    }\n",
              "\n",
              "    .colab-df-convert:hover {\n",
              "      background-color: #E2EBFA;\n",
              "      box-shadow: 0px 1px 2px rgba(60, 64, 67, 0.3), 0px 1px 3px 1px rgba(60, 64, 67, 0.15);\n",
              "      fill: #174EA6;\n",
              "    }\n",
              "\n",
              "    [theme=dark] .colab-df-convert {\n",
              "      background-color: #3B4455;\n",
              "      fill: #D2E3FC;\n",
              "    }\n",
              "\n",
              "    [theme=dark] .colab-df-convert:hover {\n",
              "      background-color: #434B5C;\n",
              "      box-shadow: 0px 1px 3px 1px rgba(0, 0, 0, 0.15);\n",
              "      filter: drop-shadow(0px 1px 2px rgba(0, 0, 0, 0.3));\n",
              "      fill: #FFFFFF;\n",
              "    }\n",
              "  </style>\n",
              "\n",
              "      <script>\n",
              "        const buttonEl =\n",
              "          document.querySelector('#df-ae9e938b-aa96-4296-915c-c864150e7a0e button.colab-df-convert');\n",
              "        buttonEl.style.display =\n",
              "          google.colab.kernel.accessAllowed ? 'block' : 'none';\n",
              "\n",
              "        async function convertToInteractive(key) {\n",
              "          const element = document.querySelector('#df-ae9e938b-aa96-4296-915c-c864150e7a0e');\n",
              "          const dataTable =\n",
              "            await google.colab.kernel.invokeFunction('convertToInteractive',\n",
              "                                                     [key], {});\n",
              "          if (!dataTable) return;\n",
              "\n",
              "          const docLinkHtml = 'Like what you see? Visit the ' +\n",
              "            '<a target=\"_blank\" href=https://colab.research.google.com/notebooks/data_table.ipynb>data table notebook</a>'\n",
              "            + ' to learn more about interactive tables.';\n",
              "          element.innerHTML = '';\n",
              "          dataTable['output_type'] = 'display_data';\n",
              "          await google.colab.output.renderOutput(dataTable, element);\n",
              "          const docLink = document.createElement('div');\n",
              "          docLink.innerHTML = docLinkHtml;\n",
              "          element.appendChild(docLink);\n",
              "        }\n",
              "      </script>\n",
              "    </div>\n",
              "  </div>\n",
              "  "
            ]
          },
          "metadata": {},
          "execution_count": 355
        }
      ],
      "source": [
        "#displaying last 5 rows of the dataset\n",
        "playstore_df.tail()"
      ]
    },
    {
      "cell_type": "code",
      "execution_count": null,
      "metadata": {
        "colab": {
          "base_uri": "https://localhost:8080/"
        },
        "id": "cQhK3QePep0G",
        "outputId": "4537090b-684b-4ea9-901b-a263237f6c18"
      },
      "outputs": [
        {
          "output_type": "stream",
          "name": "stdout",
          "text": [
            "<class 'pandas.core.frame.DataFrame'>\n",
            "RangeIndex: 10841 entries, 0 to 10840\n",
            "Data columns (total 13 columns):\n",
            " #   Column          Non-Null Count  Dtype  \n",
            "---  ------          --------------  -----  \n",
            " 0   App             10841 non-null  object \n",
            " 1   Category        10841 non-null  object \n",
            " 2   Rating          9367 non-null   float64\n",
            " 3   Reviews         10841 non-null  object \n",
            " 4   Size            10841 non-null  object \n",
            " 5   Installs        10841 non-null  object \n",
            " 6   Type            10840 non-null  object \n",
            " 7   Price           10841 non-null  object \n",
            " 8   Content Rating  10840 non-null  object \n",
            " 9   Genres          10841 non-null  object \n",
            " 10  Last Updated    10841 non-null  object \n",
            " 11  Current Ver     10833 non-null  object \n",
            " 12  Android Ver     10838 non-null  object \n",
            "dtypes: float64(1), object(12)\n",
            "memory usage: 1.1+ MB\n"
          ]
        }
      ],
      "source": [
        "# information about the features in the dataset\n",
        "playstore_df.info()"
      ]
    },
    {
      "cell_type": "markdown",
      "metadata": {
        "id": "Uf7WUWSLMVc6"
      },
      "source": [
        "### Lets explore all the features in the Dataset \n",
        "\n",
        "\n",
        "\n",
        "1.   **App** - describes the name of each apps.\n",
        "2.   **Category** - Category at which the app belongs.\n",
        "3.   **Rating** -Average rating of the app received from its users.\n",
        "4.   **Reviews** - The total number of reviews got by the apps from its users.\n",
        "5.   **Size**- Memory size occupied by the app in the mobile device.            \n",
        "6.   **Installs**- The total number of downloads for the application.\n",
        "7.   **Type** - whether the app is free or paid\n",
        "8.   **Price**-If the app is paid, what is the cost required to install the app. \n",
        "9.   **Content Rating** - It specifies weather the app is suitable for all age group or not.\n",
        "10.  **Genres**- the other categories to which the app can belong.\n",
        "11.  **Last Updated**- Last updated date of the app.\n",
        "12.  **Current Ver**-The current version of the app.\n",
        "13.  **Android Ver**-The Android Version which can support the application. \n",
        "\n",
        "\n",
        "\n",
        "\n",
        "\n",
        "\n"
      ]
    },
    {
      "cell_type": "markdown",
      "metadata": {
        "id": "O-h3N-OKYsHc"
      },
      "source": [
        "### 2.Review Dataframe"
      ]
    },
    {
      "cell_type": "code",
      "execution_count": null,
      "metadata": {
        "colab": {
          "base_uri": "https://localhost:8080/"
        },
        "id": "aW54ii7UBKTO",
        "outputId": "ddd161e3-4694-4052-b2f8-2997eb2080a6"
      },
      "outputs": [
        {
          "output_type": "execute_result",
          "data": {
            "text/plain": [
              "(64295, 5)"
            ]
          },
          "metadata": {},
          "execution_count": 357
        }
      ],
      "source": [
        "#shape of the Review dataset\n",
        "review_df.shape"
      ]
    },
    {
      "cell_type": "code",
      "execution_count": null,
      "metadata": {
        "colab": {
          "base_uri": "https://localhost:8080/",
          "height": 206
        },
        "id": "cHUBO_srBKAi",
        "outputId": "acf24ebd-5eae-4ecc-846a-b56a1b921f64"
      },
      "outputs": [
        {
          "output_type": "execute_result",
          "data": {
            "text/plain": [
              "                     App                                  Translated_Review  \\\n",
              "0  10 Best Foods for You  I like eat delicious food. That's I'm cooking ...   \n",
              "1  10 Best Foods for You    This help eating healthy exercise regular basis   \n",
              "2  10 Best Foods for You                                                NaN   \n",
              "3  10 Best Foods for You         Works great especially going grocery store   \n",
              "4  10 Best Foods for You                                       Best idea us   \n",
              "\n",
              "  Sentiment  Sentiment_Polarity  Sentiment_Subjectivity  \n",
              "0  Positive                1.00                0.533333  \n",
              "1  Positive                0.25                0.288462  \n",
              "2       NaN                 NaN                     NaN  \n",
              "3  Positive                0.40                0.875000  \n",
              "4  Positive                1.00                0.300000  "
            ],
            "text/html": [
              "\n",
              "  <div id=\"df-5c6da88b-5c26-4085-b48d-a1e4ee5dd4a7\">\n",
              "    <div class=\"colab-df-container\">\n",
              "      <div>\n",
              "<style scoped>\n",
              "    .dataframe tbody tr th:only-of-type {\n",
              "        vertical-align: middle;\n",
              "    }\n",
              "\n",
              "    .dataframe tbody tr th {\n",
              "        vertical-align: top;\n",
              "    }\n",
              "\n",
              "    .dataframe thead th {\n",
              "        text-align: right;\n",
              "    }\n",
              "</style>\n",
              "<table border=\"1\" class=\"dataframe\">\n",
              "  <thead>\n",
              "    <tr style=\"text-align: right;\">\n",
              "      <th></th>\n",
              "      <th>App</th>\n",
              "      <th>Translated_Review</th>\n",
              "      <th>Sentiment</th>\n",
              "      <th>Sentiment_Polarity</th>\n",
              "      <th>Sentiment_Subjectivity</th>\n",
              "    </tr>\n",
              "  </thead>\n",
              "  <tbody>\n",
              "    <tr>\n",
              "      <th>0</th>\n",
              "      <td>10 Best Foods for You</td>\n",
              "      <td>I like eat delicious food. That's I'm cooking ...</td>\n",
              "      <td>Positive</td>\n",
              "      <td>1.00</td>\n",
              "      <td>0.533333</td>\n",
              "    </tr>\n",
              "    <tr>\n",
              "      <th>1</th>\n",
              "      <td>10 Best Foods for You</td>\n",
              "      <td>This help eating healthy exercise regular basis</td>\n",
              "      <td>Positive</td>\n",
              "      <td>0.25</td>\n",
              "      <td>0.288462</td>\n",
              "    </tr>\n",
              "    <tr>\n",
              "      <th>2</th>\n",
              "      <td>10 Best Foods for You</td>\n",
              "      <td>NaN</td>\n",
              "      <td>NaN</td>\n",
              "      <td>NaN</td>\n",
              "      <td>NaN</td>\n",
              "    </tr>\n",
              "    <tr>\n",
              "      <th>3</th>\n",
              "      <td>10 Best Foods for You</td>\n",
              "      <td>Works great especially going grocery store</td>\n",
              "      <td>Positive</td>\n",
              "      <td>0.40</td>\n",
              "      <td>0.875000</td>\n",
              "    </tr>\n",
              "    <tr>\n",
              "      <th>4</th>\n",
              "      <td>10 Best Foods for You</td>\n",
              "      <td>Best idea us</td>\n",
              "      <td>Positive</td>\n",
              "      <td>1.00</td>\n",
              "      <td>0.300000</td>\n",
              "    </tr>\n",
              "  </tbody>\n",
              "</table>\n",
              "</div>\n",
              "      <button class=\"colab-df-convert\" onclick=\"convertToInteractive('df-5c6da88b-5c26-4085-b48d-a1e4ee5dd4a7')\"\n",
              "              title=\"Convert this dataframe to an interactive table.\"\n",
              "              style=\"display:none;\">\n",
              "        \n",
              "  <svg xmlns=\"http://www.w3.org/2000/svg\" height=\"24px\"viewBox=\"0 0 24 24\"\n",
              "       width=\"24px\">\n",
              "    <path d=\"M0 0h24v24H0V0z\" fill=\"none\"/>\n",
              "    <path d=\"M18.56 5.44l.94 2.06.94-2.06 2.06-.94-2.06-.94-.94-2.06-.94 2.06-2.06.94zm-11 1L8.5 8.5l.94-2.06 2.06-.94-2.06-.94L8.5 2.5l-.94 2.06-2.06.94zm10 10l.94 2.06.94-2.06 2.06-.94-2.06-.94-.94-2.06-.94 2.06-2.06.94z\"/><path d=\"M17.41 7.96l-1.37-1.37c-.4-.4-.92-.59-1.43-.59-.52 0-1.04.2-1.43.59L10.3 9.45l-7.72 7.72c-.78.78-.78 2.05 0 2.83L4 21.41c.39.39.9.59 1.41.59.51 0 1.02-.2 1.41-.59l7.78-7.78 2.81-2.81c.8-.78.8-2.07 0-2.86zM5.41 20L4 18.59l7.72-7.72 1.47 1.35L5.41 20z\"/>\n",
              "  </svg>\n",
              "      </button>\n",
              "      \n",
              "  <style>\n",
              "    .colab-df-container {\n",
              "      display:flex;\n",
              "      flex-wrap:wrap;\n",
              "      gap: 12px;\n",
              "    }\n",
              "\n",
              "    .colab-df-convert {\n",
              "      background-color: #E8F0FE;\n",
              "      border: none;\n",
              "      border-radius: 50%;\n",
              "      cursor: pointer;\n",
              "      display: none;\n",
              "      fill: #1967D2;\n",
              "      height: 32px;\n",
              "      padding: 0 0 0 0;\n",
              "      width: 32px;\n",
              "    }\n",
              "\n",
              "    .colab-df-convert:hover {\n",
              "      background-color: #E2EBFA;\n",
              "      box-shadow: 0px 1px 2px rgba(60, 64, 67, 0.3), 0px 1px 3px 1px rgba(60, 64, 67, 0.15);\n",
              "      fill: #174EA6;\n",
              "    }\n",
              "\n",
              "    [theme=dark] .colab-df-convert {\n",
              "      background-color: #3B4455;\n",
              "      fill: #D2E3FC;\n",
              "    }\n",
              "\n",
              "    [theme=dark] .colab-df-convert:hover {\n",
              "      background-color: #434B5C;\n",
              "      box-shadow: 0px 1px 3px 1px rgba(0, 0, 0, 0.15);\n",
              "      filter: drop-shadow(0px 1px 2px rgba(0, 0, 0, 0.3));\n",
              "      fill: #FFFFFF;\n",
              "    }\n",
              "  </style>\n",
              "\n",
              "      <script>\n",
              "        const buttonEl =\n",
              "          document.querySelector('#df-5c6da88b-5c26-4085-b48d-a1e4ee5dd4a7 button.colab-df-convert');\n",
              "        buttonEl.style.display =\n",
              "          google.colab.kernel.accessAllowed ? 'block' : 'none';\n",
              "\n",
              "        async function convertToInteractive(key) {\n",
              "          const element = document.querySelector('#df-5c6da88b-5c26-4085-b48d-a1e4ee5dd4a7');\n",
              "          const dataTable =\n",
              "            await google.colab.kernel.invokeFunction('convertToInteractive',\n",
              "                                                     [key], {});\n",
              "          if (!dataTable) return;\n",
              "\n",
              "          const docLinkHtml = 'Like what you see? Visit the ' +\n",
              "            '<a target=\"_blank\" href=https://colab.research.google.com/notebooks/data_table.ipynb>data table notebook</a>'\n",
              "            + ' to learn more about interactive tables.';\n",
              "          element.innerHTML = '';\n",
              "          dataTable['output_type'] = 'display_data';\n",
              "          await google.colab.output.renderOutput(dataTable, element);\n",
              "          const docLink = document.createElement('div');\n",
              "          docLink.innerHTML = docLinkHtml;\n",
              "          element.appendChild(docLink);\n",
              "        }\n",
              "      </script>\n",
              "    </div>\n",
              "  </div>\n",
              "  "
            ]
          },
          "metadata": {},
          "execution_count": 358
        }
      ],
      "source": [
        "#displaying first 5 rows of the dataset\n",
        "review_df.head()"
      ]
    },
    {
      "cell_type": "code",
      "execution_count": null,
      "metadata": {
        "colab": {
          "base_uri": "https://localhost:8080/",
          "height": 206
        },
        "id": "IfMjNJYQBJz7",
        "outputId": "1882e0aa-a23f-41c2-e12e-ff23bdc94cb8"
      },
      "outputs": [
        {
          "output_type": "execute_result",
          "data": {
            "text/plain": [
              "                               App Translated_Review Sentiment  \\\n",
              "64290  Houzz Interior Design Ideas               NaN       NaN   \n",
              "64291  Houzz Interior Design Ideas               NaN       NaN   \n",
              "64292  Houzz Interior Design Ideas               NaN       NaN   \n",
              "64293  Houzz Interior Design Ideas               NaN       NaN   \n",
              "64294  Houzz Interior Design Ideas               NaN       NaN   \n",
              "\n",
              "       Sentiment_Polarity  Sentiment_Subjectivity  \n",
              "64290                 NaN                     NaN  \n",
              "64291                 NaN                     NaN  \n",
              "64292                 NaN                     NaN  \n",
              "64293                 NaN                     NaN  \n",
              "64294                 NaN                     NaN  "
            ],
            "text/html": [
              "\n",
              "  <div id=\"df-e59f1719-8148-43ef-b9e0-8c364c24ee8a\">\n",
              "    <div class=\"colab-df-container\">\n",
              "      <div>\n",
              "<style scoped>\n",
              "    .dataframe tbody tr th:only-of-type {\n",
              "        vertical-align: middle;\n",
              "    }\n",
              "\n",
              "    .dataframe tbody tr th {\n",
              "        vertical-align: top;\n",
              "    }\n",
              "\n",
              "    .dataframe thead th {\n",
              "        text-align: right;\n",
              "    }\n",
              "</style>\n",
              "<table border=\"1\" class=\"dataframe\">\n",
              "  <thead>\n",
              "    <tr style=\"text-align: right;\">\n",
              "      <th></th>\n",
              "      <th>App</th>\n",
              "      <th>Translated_Review</th>\n",
              "      <th>Sentiment</th>\n",
              "      <th>Sentiment_Polarity</th>\n",
              "      <th>Sentiment_Subjectivity</th>\n",
              "    </tr>\n",
              "  </thead>\n",
              "  <tbody>\n",
              "    <tr>\n",
              "      <th>64290</th>\n",
              "      <td>Houzz Interior Design Ideas</td>\n",
              "      <td>NaN</td>\n",
              "      <td>NaN</td>\n",
              "      <td>NaN</td>\n",
              "      <td>NaN</td>\n",
              "    </tr>\n",
              "    <tr>\n",
              "      <th>64291</th>\n",
              "      <td>Houzz Interior Design Ideas</td>\n",
              "      <td>NaN</td>\n",
              "      <td>NaN</td>\n",
              "      <td>NaN</td>\n",
              "      <td>NaN</td>\n",
              "    </tr>\n",
              "    <tr>\n",
              "      <th>64292</th>\n",
              "      <td>Houzz Interior Design Ideas</td>\n",
              "      <td>NaN</td>\n",
              "      <td>NaN</td>\n",
              "      <td>NaN</td>\n",
              "      <td>NaN</td>\n",
              "    </tr>\n",
              "    <tr>\n",
              "      <th>64293</th>\n",
              "      <td>Houzz Interior Design Ideas</td>\n",
              "      <td>NaN</td>\n",
              "      <td>NaN</td>\n",
              "      <td>NaN</td>\n",
              "      <td>NaN</td>\n",
              "    </tr>\n",
              "    <tr>\n",
              "      <th>64294</th>\n",
              "      <td>Houzz Interior Design Ideas</td>\n",
              "      <td>NaN</td>\n",
              "      <td>NaN</td>\n",
              "      <td>NaN</td>\n",
              "      <td>NaN</td>\n",
              "    </tr>\n",
              "  </tbody>\n",
              "</table>\n",
              "</div>\n",
              "      <button class=\"colab-df-convert\" onclick=\"convertToInteractive('df-e59f1719-8148-43ef-b9e0-8c364c24ee8a')\"\n",
              "              title=\"Convert this dataframe to an interactive table.\"\n",
              "              style=\"display:none;\">\n",
              "        \n",
              "  <svg xmlns=\"http://www.w3.org/2000/svg\" height=\"24px\"viewBox=\"0 0 24 24\"\n",
              "       width=\"24px\">\n",
              "    <path d=\"M0 0h24v24H0V0z\" fill=\"none\"/>\n",
              "    <path d=\"M18.56 5.44l.94 2.06.94-2.06 2.06-.94-2.06-.94-.94-2.06-.94 2.06-2.06.94zm-11 1L8.5 8.5l.94-2.06 2.06-.94-2.06-.94L8.5 2.5l-.94 2.06-2.06.94zm10 10l.94 2.06.94-2.06 2.06-.94-2.06-.94-.94-2.06-.94 2.06-2.06.94z\"/><path d=\"M17.41 7.96l-1.37-1.37c-.4-.4-.92-.59-1.43-.59-.52 0-1.04.2-1.43.59L10.3 9.45l-7.72 7.72c-.78.78-.78 2.05 0 2.83L4 21.41c.39.39.9.59 1.41.59.51 0 1.02-.2 1.41-.59l7.78-7.78 2.81-2.81c.8-.78.8-2.07 0-2.86zM5.41 20L4 18.59l7.72-7.72 1.47 1.35L5.41 20z\"/>\n",
              "  </svg>\n",
              "      </button>\n",
              "      \n",
              "  <style>\n",
              "    .colab-df-container {\n",
              "      display:flex;\n",
              "      flex-wrap:wrap;\n",
              "      gap: 12px;\n",
              "    }\n",
              "\n",
              "    .colab-df-convert {\n",
              "      background-color: #E8F0FE;\n",
              "      border: none;\n",
              "      border-radius: 50%;\n",
              "      cursor: pointer;\n",
              "      display: none;\n",
              "      fill: #1967D2;\n",
              "      height: 32px;\n",
              "      padding: 0 0 0 0;\n",
              "      width: 32px;\n",
              "    }\n",
              "\n",
              "    .colab-df-convert:hover {\n",
              "      background-color: #E2EBFA;\n",
              "      box-shadow: 0px 1px 2px rgba(60, 64, 67, 0.3), 0px 1px 3px 1px rgba(60, 64, 67, 0.15);\n",
              "      fill: #174EA6;\n",
              "    }\n",
              "\n",
              "    [theme=dark] .colab-df-convert {\n",
              "      background-color: #3B4455;\n",
              "      fill: #D2E3FC;\n",
              "    }\n",
              "\n",
              "    [theme=dark] .colab-df-convert:hover {\n",
              "      background-color: #434B5C;\n",
              "      box-shadow: 0px 1px 3px 1px rgba(0, 0, 0, 0.15);\n",
              "      filter: drop-shadow(0px 1px 2px rgba(0, 0, 0, 0.3));\n",
              "      fill: #FFFFFF;\n",
              "    }\n",
              "  </style>\n",
              "\n",
              "      <script>\n",
              "        const buttonEl =\n",
              "          document.querySelector('#df-e59f1719-8148-43ef-b9e0-8c364c24ee8a button.colab-df-convert');\n",
              "        buttonEl.style.display =\n",
              "          google.colab.kernel.accessAllowed ? 'block' : 'none';\n",
              "\n",
              "        async function convertToInteractive(key) {\n",
              "          const element = document.querySelector('#df-e59f1719-8148-43ef-b9e0-8c364c24ee8a');\n",
              "          const dataTable =\n",
              "            await google.colab.kernel.invokeFunction('convertToInteractive',\n",
              "                                                     [key], {});\n",
              "          if (!dataTable) return;\n",
              "\n",
              "          const docLinkHtml = 'Like what you see? Visit the ' +\n",
              "            '<a target=\"_blank\" href=https://colab.research.google.com/notebooks/data_table.ipynb>data table notebook</a>'\n",
              "            + ' to learn more about interactive tables.';\n",
              "          element.innerHTML = '';\n",
              "          dataTable['output_type'] = 'display_data';\n",
              "          await google.colab.output.renderOutput(dataTable, element);\n",
              "          const docLink = document.createElement('div');\n",
              "          docLink.innerHTML = docLinkHtml;\n",
              "          element.appendChild(docLink);\n",
              "        }\n",
              "      </script>\n",
              "    </div>\n",
              "  </div>\n",
              "  "
            ]
          },
          "metadata": {},
          "execution_count": 359
        }
      ],
      "source": [
        "#displaying last 5 rows of the dataset\n",
        "review_df.tail()"
      ]
    },
    {
      "cell_type": "code",
      "execution_count": null,
      "metadata": {
        "colab": {
          "base_uri": "https://localhost:8080/"
        },
        "id": "KIfoSTK8BKJu",
        "outputId": "a2affcc8-fc36-42c0-b71b-afeceaf0b73a"
      },
      "outputs": [
        {
          "output_type": "stream",
          "name": "stdout",
          "text": [
            "<class 'pandas.core.frame.DataFrame'>\n",
            "RangeIndex: 64295 entries, 0 to 64294\n",
            "Data columns (total 5 columns):\n",
            " #   Column                  Non-Null Count  Dtype  \n",
            "---  ------                  --------------  -----  \n",
            " 0   App                     64295 non-null  object \n",
            " 1   Translated_Review       37427 non-null  object \n",
            " 2   Sentiment               37432 non-null  object \n",
            " 3   Sentiment_Polarity      37432 non-null  float64\n",
            " 4   Sentiment_Subjectivity  37432 non-null  float64\n",
            "dtypes: float64(2), object(3)\n",
            "memory usage: 2.5+ MB\n"
          ]
        }
      ],
      "source": [
        "# information about the features in the dataset\n",
        "review_df.info()"
      ]
    },
    {
      "cell_type": "markdown",
      "metadata": {
        "id": "6eqGfAvTZYoO"
      },
      "source": [
        "### Lets explore all the features in the Dataset \n",
        "\n",
        "\n",
        "\n",
        "1.   **App** - describes the name of each apps.\n",
        "2.   **Translated_Review**-English translation of the user reviews.\n",
        "3.   **Sentiment** - It gives the emotion of the reviewer related with his review.It can be ‘Positive’, ‘Negative’, or ‘Neutral’.\n",
        "4.   **Sentiment_Polarity** - The polarity of the review.It ranges from [-1 to 1]. -1 means \"negative sentiment\" and 1 means \"positive sentiment\" \n",
        "5.   **Sentiment_Subjectivity** - How the opinion of a particular reviewer is aligned with the opinion of the general public.It ranges from [0 to 1]. Heigher the subjectivity means the review is closer to the opinion of general public."
      ]
    },
    {
      "cell_type": "markdown",
      "metadata": {
        "id": "YnTYClbOu3YM"
      },
      "source": [
        "# **Data Cleaning**"
      ]
    },
    {
      "cell_type": "markdown",
      "metadata": {
        "id": "TyWC2WxPf6b8"
      },
      "source": [
        "##**Play Store Dataset**"
      ]
    },
    {
      "cell_type": "code",
      "execution_count": null,
      "metadata": {
        "id": "VLWVjJlaQ499"
      },
      "outputs": [],
      "source": [
        "df = playstore_df.copy()"
      ]
    },
    {
      "cell_type": "markdown",
      "metadata": {
        "id": "4NnxY07nxRQI"
      },
      "source": [
        "## 1- Converting \"Review\" column type from \"object\" to \"int\".\n"
      ]
    },
    {
      "cell_type": "code",
      "execution_count": null,
      "metadata": {
        "colab": {
          "base_uri": "https://localhost:8080/",
          "height": 512
        },
        "id": "ANbIdp8axLnk",
        "outputId": "15057126-8bf5-4466-a2eb-d988403e2ac6"
      },
      "outputs": [
        {
          "output_type": "error",
          "ename": "SyntaxError",
          "evalue": "ignored",
          "traceback": [
            "Traceback \u001b[0;36m(most recent call last)\u001b[0m:\n",
            "  File \u001b[1;32m\"/usr/local/lib/python3.7/dist-packages/IPython/core/interactiveshell.py\"\u001b[0m, line \u001b[1;32m3326\u001b[0m, in \u001b[1;35mrun_code\u001b[0m\n    exec(code_obj, self.user_global_ns, self.user_ns)\n",
            "  File \u001b[1;32m\"<ipython-input-362-377d2d6462cf>\"\u001b[0m, line \u001b[1;32m1\u001b[0m, in \u001b[1;35m<module>\u001b[0m\n    df['Reviews']=df['Reviews'].apply(lambda x : eval(x))\n",
            "  File \u001b[1;32m\"/usr/local/lib/python3.7/dist-packages/pandas/core/series.py\"\u001b[0m, line \u001b[1;32m4357\u001b[0m, in \u001b[1;35mapply\u001b[0m\n    return SeriesApply(self, func, convert_dtype, args, kwargs).apply()\n",
            "  File \u001b[1;32m\"/usr/local/lib/python3.7/dist-packages/pandas/core/apply.py\"\u001b[0m, line \u001b[1;32m1043\u001b[0m, in \u001b[1;35mapply\u001b[0m\n    return self.apply_standard()\n",
            "  File \u001b[1;32m\"/usr/local/lib/python3.7/dist-packages/pandas/core/apply.py\"\u001b[0m, line \u001b[1;32m1101\u001b[0m, in \u001b[1;35mapply_standard\u001b[0m\n    convert=self.convert_dtype,\n",
            "  File \u001b[1;32m\"pandas/_libs/lib.pyx\"\u001b[0m, line \u001b[1;32m2859\u001b[0m, in \u001b[1;35mpandas._libs.lib.map_infer\u001b[0m\n",
            "\u001b[0;36m  File \u001b[0;32m\"<ipython-input-362-377d2d6462cf>\"\u001b[0;36m, line \u001b[0;32m1\u001b[0;36m, in \u001b[0;35m<lambda>\u001b[0;36m\u001b[0m\n\u001b[0;31m    df['Reviews']=df['Reviews'].apply(lambda x : eval(x))\u001b[0m\n",
            "\u001b[0;36m  File \u001b[0;32m\"<string>\"\u001b[0;36m, line \u001b[0;32m1\u001b[0m\n\u001b[0;31m    3.0M\u001b[0m\n\u001b[0m       ^\u001b[0m\n\u001b[0;31mSyntaxError\u001b[0m\u001b[0;31m:\u001b[0m unexpected EOF while parsing\n"
          ]
        }
      ],
      "source": [
        "df['Reviews']=df['Reviews'].apply(lambda x : eval(x))"
      ]
    },
    {
      "cell_type": "markdown",
      "metadata": {
        "id": "uXpwCMLVu-B3"
      },
      "source": [
        "### While converting Reviews into \"int\" type we found some Error. Which show that one of the value in review column is 3.0M.So we have to remove that row from the data set."
      ]
    },
    {
      "cell_type": "code",
      "execution_count": null,
      "metadata": {
        "colab": {
          "base_uri": "https://localhost:8080/",
          "height": 81
        },
        "id": "eLOfVGsJviHu",
        "outputId": "7430b0da-45a9-4cae-94c7-c477a3e083a1"
      },
      "outputs": [
        {
          "output_type": "execute_result",
          "data": {
            "text/plain": [
              "                                           App Category  Rating Reviews  \\\n",
              "10472  Life Made WI-Fi Touchscreen Photo Frame      1.9    19.0    3.0M   \n",
              "\n",
              "         Size Installs Type     Price Content Rating             Genres  \\\n",
              "10472  1,000+     Free    0  Everyone            NaN  February 11, 2018   \n",
              "\n",
              "      Last Updated Current Ver Android Ver  \n",
              "10472       1.0.19  4.0 and up         NaN  "
            ],
            "text/html": [
              "\n",
              "  <div id=\"df-34c7f096-909c-402b-90f3-d3fc629d7bbc\">\n",
              "    <div class=\"colab-df-container\">\n",
              "      <div>\n",
              "<style scoped>\n",
              "    .dataframe tbody tr th:only-of-type {\n",
              "        vertical-align: middle;\n",
              "    }\n",
              "\n",
              "    .dataframe tbody tr th {\n",
              "        vertical-align: top;\n",
              "    }\n",
              "\n",
              "    .dataframe thead th {\n",
              "        text-align: right;\n",
              "    }\n",
              "</style>\n",
              "<table border=\"1\" class=\"dataframe\">\n",
              "  <thead>\n",
              "    <tr style=\"text-align: right;\">\n",
              "      <th></th>\n",
              "      <th>App</th>\n",
              "      <th>Category</th>\n",
              "      <th>Rating</th>\n",
              "      <th>Reviews</th>\n",
              "      <th>Size</th>\n",
              "      <th>Installs</th>\n",
              "      <th>Type</th>\n",
              "      <th>Price</th>\n",
              "      <th>Content Rating</th>\n",
              "      <th>Genres</th>\n",
              "      <th>Last Updated</th>\n",
              "      <th>Current Ver</th>\n",
              "      <th>Android Ver</th>\n",
              "    </tr>\n",
              "  </thead>\n",
              "  <tbody>\n",
              "    <tr>\n",
              "      <th>10472</th>\n",
              "      <td>Life Made WI-Fi Touchscreen Photo Frame</td>\n",
              "      <td>1.9</td>\n",
              "      <td>19.0</td>\n",
              "      <td>3.0M</td>\n",
              "      <td>1,000+</td>\n",
              "      <td>Free</td>\n",
              "      <td>0</td>\n",
              "      <td>Everyone</td>\n",
              "      <td>NaN</td>\n",
              "      <td>February 11, 2018</td>\n",
              "      <td>1.0.19</td>\n",
              "      <td>4.0 and up</td>\n",
              "      <td>NaN</td>\n",
              "    </tr>\n",
              "  </tbody>\n",
              "</table>\n",
              "</div>\n",
              "      <button class=\"colab-df-convert\" onclick=\"convertToInteractive('df-34c7f096-909c-402b-90f3-d3fc629d7bbc')\"\n",
              "              title=\"Convert this dataframe to an interactive table.\"\n",
              "              style=\"display:none;\">\n",
              "        \n",
              "  <svg xmlns=\"http://www.w3.org/2000/svg\" height=\"24px\"viewBox=\"0 0 24 24\"\n",
              "       width=\"24px\">\n",
              "    <path d=\"M0 0h24v24H0V0z\" fill=\"none\"/>\n",
              "    <path d=\"M18.56 5.44l.94 2.06.94-2.06 2.06-.94-2.06-.94-.94-2.06-.94 2.06-2.06.94zm-11 1L8.5 8.5l.94-2.06 2.06-.94-2.06-.94L8.5 2.5l-.94 2.06-2.06.94zm10 10l.94 2.06.94-2.06 2.06-.94-2.06-.94-.94-2.06-.94 2.06-2.06.94z\"/><path d=\"M17.41 7.96l-1.37-1.37c-.4-.4-.92-.59-1.43-.59-.52 0-1.04.2-1.43.59L10.3 9.45l-7.72 7.72c-.78.78-.78 2.05 0 2.83L4 21.41c.39.39.9.59 1.41.59.51 0 1.02-.2 1.41-.59l7.78-7.78 2.81-2.81c.8-.78.8-2.07 0-2.86zM5.41 20L4 18.59l7.72-7.72 1.47 1.35L5.41 20z\"/>\n",
              "  </svg>\n",
              "      </button>\n",
              "      \n",
              "  <style>\n",
              "    .colab-df-container {\n",
              "      display:flex;\n",
              "      flex-wrap:wrap;\n",
              "      gap: 12px;\n",
              "    }\n",
              "\n",
              "    .colab-df-convert {\n",
              "      background-color: #E8F0FE;\n",
              "      border: none;\n",
              "      border-radius: 50%;\n",
              "      cursor: pointer;\n",
              "      display: none;\n",
              "      fill: #1967D2;\n",
              "      height: 32px;\n",
              "      padding: 0 0 0 0;\n",
              "      width: 32px;\n",
              "    }\n",
              "\n",
              "    .colab-df-convert:hover {\n",
              "      background-color: #E2EBFA;\n",
              "      box-shadow: 0px 1px 2px rgba(60, 64, 67, 0.3), 0px 1px 3px 1px rgba(60, 64, 67, 0.15);\n",
              "      fill: #174EA6;\n",
              "    }\n",
              "\n",
              "    [theme=dark] .colab-df-convert {\n",
              "      background-color: #3B4455;\n",
              "      fill: #D2E3FC;\n",
              "    }\n",
              "\n",
              "    [theme=dark] .colab-df-convert:hover {\n",
              "      background-color: #434B5C;\n",
              "      box-shadow: 0px 1px 3px 1px rgba(0, 0, 0, 0.15);\n",
              "      filter: drop-shadow(0px 1px 2px rgba(0, 0, 0, 0.3));\n",
              "      fill: #FFFFFF;\n",
              "    }\n",
              "  </style>\n",
              "\n",
              "      <script>\n",
              "        const buttonEl =\n",
              "          document.querySelector('#df-34c7f096-909c-402b-90f3-d3fc629d7bbc button.colab-df-convert');\n",
              "        buttonEl.style.display =\n",
              "          google.colab.kernel.accessAllowed ? 'block' : 'none';\n",
              "\n",
              "        async function convertToInteractive(key) {\n",
              "          const element = document.querySelector('#df-34c7f096-909c-402b-90f3-d3fc629d7bbc');\n",
              "          const dataTable =\n",
              "            await google.colab.kernel.invokeFunction('convertToInteractive',\n",
              "                                                     [key], {});\n",
              "          if (!dataTable) return;\n",
              "\n",
              "          const docLinkHtml = 'Like what you see? Visit the ' +\n",
              "            '<a target=\"_blank\" href=https://colab.research.google.com/notebooks/data_table.ipynb>data table notebook</a>'\n",
              "            + ' to learn more about interactive tables.';\n",
              "          element.innerHTML = '';\n",
              "          dataTable['output_type'] = 'display_data';\n",
              "          await google.colab.output.renderOutput(dataTable, element);\n",
              "          const docLink = document.createElement('div');\n",
              "          docLink.innerHTML = docLinkHtml;\n",
              "          element.appendChild(docLink);\n",
              "        }\n",
              "      </script>\n",
              "    </div>\n",
              "  </div>\n",
              "  "
            ]
          },
          "metadata": {},
          "execution_count": 363
        }
      ],
      "source": [
        "# Finding the row index of that value.\n",
        "df[df['Reviews']=='3.0M']"
      ]
    },
    {
      "cell_type": "markdown",
      "metadata": {
        "id": "orzBPI25vsdR"
      },
      "source": [
        "### We have found that index no 10472 contain the value 3.0M.\n"
      ]
    },
    {
      "cell_type": "code",
      "execution_count": null,
      "metadata": {
        "id": "n0k9_dACu8hz"
      },
      "outputs": [],
      "source": [
        "# Dropping that index value using drop method and reseting index again.\n",
        "df = df.drop(10472).reset_index(drop=True)"
      ]
    },
    {
      "cell_type": "code",
      "execution_count": null,
      "metadata": {
        "id": "IuVBWgFoqonL"
      },
      "outputs": [],
      "source": [
        "# Evaluating the values.\n",
        "df['Reviews']=df['Reviews'].apply(lambda x : eval(x))"
      ]
    },
    {
      "cell_type": "markdown",
      "metadata": {
        "id": "LIf6KPvkxvjD"
      },
      "source": [
        "## 2- Converting \"Size\" type from \"object\" to \"float\"."
      ]
    },
    {
      "cell_type": "code",
      "execution_count": null,
      "metadata": {
        "colab": {
          "base_uri": "https://localhost:8080/",
          "height": 320
        },
        "id": "RXeVX4yr3LD4",
        "outputId": "596c63d1-46fb-43ad-e7f3-1b85f0c97587"
      },
      "outputs": [
        {
          "output_type": "execute_result",
          "data": {
            "text/plain": [
              "                                                 App             Category  \\\n",
              "10835                               Sya9a Maroc - FR               FAMILY   \n",
              "10836               Fr. Mike Schmitz Audio Teachings               FAMILY   \n",
              "10837                         Parkinson Exercices FR              MEDICAL   \n",
              "10838                  The SCP Foundation DB fr nn5n  BOOKS_AND_REFERENCE   \n",
              "10839  iHoroscope - 2018 Daily Horoscope & Astrology            LIFESTYLE   \n",
              "\n",
              "       Rating  Reviews                Size     Installs  Type Price  \\\n",
              "10835     4.5       38                 53M       5,000+  Free     0   \n",
              "10836     5.0        4                3.6M         100+  Free     0   \n",
              "10837     NaN        3                9.5M       1,000+  Free     0   \n",
              "10838     4.5      114  Varies with device       1,000+  Free     0   \n",
              "10839     4.5   398307                 19M  10,000,000+  Free     0   \n",
              "\n",
              "      Content Rating             Genres      Last Updated         Current Ver  \\\n",
              "10835       Everyone          Education     July 25, 2017                1.48   \n",
              "10836       Everyone          Education      July 6, 2018                 1.0   \n",
              "10837       Everyone            Medical  January 20, 2017                 1.0   \n",
              "10838     Mature 17+  Books & Reference  January 19, 2015  Varies with device   \n",
              "10839       Everyone          Lifestyle     July 25, 2018  Varies with device   \n",
              "\n",
              "              Android Ver  \n",
              "10835          4.1 and up  \n",
              "10836          4.1 and up  \n",
              "10837          2.2 and up  \n",
              "10838  Varies with device  \n",
              "10839  Varies with device  "
            ],
            "text/html": [
              "\n",
              "  <div id=\"df-e34c9058-e69c-4858-aa09-cf4a1af3d257\">\n",
              "    <div class=\"colab-df-container\">\n",
              "      <div>\n",
              "<style scoped>\n",
              "    .dataframe tbody tr th:only-of-type {\n",
              "        vertical-align: middle;\n",
              "    }\n",
              "\n",
              "    .dataframe tbody tr th {\n",
              "        vertical-align: top;\n",
              "    }\n",
              "\n",
              "    .dataframe thead th {\n",
              "        text-align: right;\n",
              "    }\n",
              "</style>\n",
              "<table border=\"1\" class=\"dataframe\">\n",
              "  <thead>\n",
              "    <tr style=\"text-align: right;\">\n",
              "      <th></th>\n",
              "      <th>App</th>\n",
              "      <th>Category</th>\n",
              "      <th>Rating</th>\n",
              "      <th>Reviews</th>\n",
              "      <th>Size</th>\n",
              "      <th>Installs</th>\n",
              "      <th>Type</th>\n",
              "      <th>Price</th>\n",
              "      <th>Content Rating</th>\n",
              "      <th>Genres</th>\n",
              "      <th>Last Updated</th>\n",
              "      <th>Current Ver</th>\n",
              "      <th>Android Ver</th>\n",
              "    </tr>\n",
              "  </thead>\n",
              "  <tbody>\n",
              "    <tr>\n",
              "      <th>10835</th>\n",
              "      <td>Sya9a Maroc - FR</td>\n",
              "      <td>FAMILY</td>\n",
              "      <td>4.5</td>\n",
              "      <td>38</td>\n",
              "      <td>53M</td>\n",
              "      <td>5,000+</td>\n",
              "      <td>Free</td>\n",
              "      <td>0</td>\n",
              "      <td>Everyone</td>\n",
              "      <td>Education</td>\n",
              "      <td>July 25, 2017</td>\n",
              "      <td>1.48</td>\n",
              "      <td>4.1 and up</td>\n",
              "    </tr>\n",
              "    <tr>\n",
              "      <th>10836</th>\n",
              "      <td>Fr. Mike Schmitz Audio Teachings</td>\n",
              "      <td>FAMILY</td>\n",
              "      <td>5.0</td>\n",
              "      <td>4</td>\n",
              "      <td>3.6M</td>\n",
              "      <td>100+</td>\n",
              "      <td>Free</td>\n",
              "      <td>0</td>\n",
              "      <td>Everyone</td>\n",
              "      <td>Education</td>\n",
              "      <td>July 6, 2018</td>\n",
              "      <td>1.0</td>\n",
              "      <td>4.1 and up</td>\n",
              "    </tr>\n",
              "    <tr>\n",
              "      <th>10837</th>\n",
              "      <td>Parkinson Exercices FR</td>\n",
              "      <td>MEDICAL</td>\n",
              "      <td>NaN</td>\n",
              "      <td>3</td>\n",
              "      <td>9.5M</td>\n",
              "      <td>1,000+</td>\n",
              "      <td>Free</td>\n",
              "      <td>0</td>\n",
              "      <td>Everyone</td>\n",
              "      <td>Medical</td>\n",
              "      <td>January 20, 2017</td>\n",
              "      <td>1.0</td>\n",
              "      <td>2.2 and up</td>\n",
              "    </tr>\n",
              "    <tr>\n",
              "      <th>10838</th>\n",
              "      <td>The SCP Foundation DB fr nn5n</td>\n",
              "      <td>BOOKS_AND_REFERENCE</td>\n",
              "      <td>4.5</td>\n",
              "      <td>114</td>\n",
              "      <td>Varies with device</td>\n",
              "      <td>1,000+</td>\n",
              "      <td>Free</td>\n",
              "      <td>0</td>\n",
              "      <td>Mature 17+</td>\n",
              "      <td>Books &amp; Reference</td>\n",
              "      <td>January 19, 2015</td>\n",
              "      <td>Varies with device</td>\n",
              "      <td>Varies with device</td>\n",
              "    </tr>\n",
              "    <tr>\n",
              "      <th>10839</th>\n",
              "      <td>iHoroscope - 2018 Daily Horoscope &amp; Astrology</td>\n",
              "      <td>LIFESTYLE</td>\n",
              "      <td>4.5</td>\n",
              "      <td>398307</td>\n",
              "      <td>19M</td>\n",
              "      <td>10,000,000+</td>\n",
              "      <td>Free</td>\n",
              "      <td>0</td>\n",
              "      <td>Everyone</td>\n",
              "      <td>Lifestyle</td>\n",
              "      <td>July 25, 2018</td>\n",
              "      <td>Varies with device</td>\n",
              "      <td>Varies with device</td>\n",
              "    </tr>\n",
              "  </tbody>\n",
              "</table>\n",
              "</div>\n",
              "      <button class=\"colab-df-convert\" onclick=\"convertToInteractive('df-e34c9058-e69c-4858-aa09-cf4a1af3d257')\"\n",
              "              title=\"Convert this dataframe to an interactive table.\"\n",
              "              style=\"display:none;\">\n",
              "        \n",
              "  <svg xmlns=\"http://www.w3.org/2000/svg\" height=\"24px\"viewBox=\"0 0 24 24\"\n",
              "       width=\"24px\">\n",
              "    <path d=\"M0 0h24v24H0V0z\" fill=\"none\"/>\n",
              "    <path d=\"M18.56 5.44l.94 2.06.94-2.06 2.06-.94-2.06-.94-.94-2.06-.94 2.06-2.06.94zm-11 1L8.5 8.5l.94-2.06 2.06-.94-2.06-.94L8.5 2.5l-.94 2.06-2.06.94zm10 10l.94 2.06.94-2.06 2.06-.94-2.06-.94-.94-2.06-.94 2.06-2.06.94z\"/><path d=\"M17.41 7.96l-1.37-1.37c-.4-.4-.92-.59-1.43-.59-.52 0-1.04.2-1.43.59L10.3 9.45l-7.72 7.72c-.78.78-.78 2.05 0 2.83L4 21.41c.39.39.9.59 1.41.59.51 0 1.02-.2 1.41-.59l7.78-7.78 2.81-2.81c.8-.78.8-2.07 0-2.86zM5.41 20L4 18.59l7.72-7.72 1.47 1.35L5.41 20z\"/>\n",
              "  </svg>\n",
              "      </button>\n",
              "      \n",
              "  <style>\n",
              "    .colab-df-container {\n",
              "      display:flex;\n",
              "      flex-wrap:wrap;\n",
              "      gap: 12px;\n",
              "    }\n",
              "\n",
              "    .colab-df-convert {\n",
              "      background-color: #E8F0FE;\n",
              "      border: none;\n",
              "      border-radius: 50%;\n",
              "      cursor: pointer;\n",
              "      display: none;\n",
              "      fill: #1967D2;\n",
              "      height: 32px;\n",
              "      padding: 0 0 0 0;\n",
              "      width: 32px;\n",
              "    }\n",
              "\n",
              "    .colab-df-convert:hover {\n",
              "      background-color: #E2EBFA;\n",
              "      box-shadow: 0px 1px 2px rgba(60, 64, 67, 0.3), 0px 1px 3px 1px rgba(60, 64, 67, 0.15);\n",
              "      fill: #174EA6;\n",
              "    }\n",
              "\n",
              "    [theme=dark] .colab-df-convert {\n",
              "      background-color: #3B4455;\n",
              "      fill: #D2E3FC;\n",
              "    }\n",
              "\n",
              "    [theme=dark] .colab-df-convert:hover {\n",
              "      background-color: #434B5C;\n",
              "      box-shadow: 0px 1px 3px 1px rgba(0, 0, 0, 0.15);\n",
              "      filter: drop-shadow(0px 1px 2px rgba(0, 0, 0, 0.3));\n",
              "      fill: #FFFFFF;\n",
              "    }\n",
              "  </style>\n",
              "\n",
              "      <script>\n",
              "        const buttonEl =\n",
              "          document.querySelector('#df-e34c9058-e69c-4858-aa09-cf4a1af3d257 button.colab-df-convert');\n",
              "        buttonEl.style.display =\n",
              "          google.colab.kernel.accessAllowed ? 'block' : 'none';\n",
              "\n",
              "        async function convertToInteractive(key) {\n",
              "          const element = document.querySelector('#df-e34c9058-e69c-4858-aa09-cf4a1af3d257');\n",
              "          const dataTable =\n",
              "            await google.colab.kernel.invokeFunction('convertToInteractive',\n",
              "                                                     [key], {});\n",
              "          if (!dataTable) return;\n",
              "\n",
              "          const docLinkHtml = 'Like what you see? Visit the ' +\n",
              "            '<a target=\"_blank\" href=https://colab.research.google.com/notebooks/data_table.ipynb>data table notebook</a>'\n",
              "            + ' to learn more about interactive tables.';\n",
              "          element.innerHTML = '';\n",
              "          dataTable['output_type'] = 'display_data';\n",
              "          await google.colab.output.renderOutput(dataTable, element);\n",
              "          const docLink = document.createElement('div');\n",
              "          docLink.innerHTML = docLinkHtml;\n",
              "          element.appendChild(docLink);\n",
              "        }\n",
              "      </script>\n",
              "    </div>\n",
              "  </div>\n",
              "  "
            ]
          },
          "metadata": {},
          "execution_count": 366
        }
      ],
      "source": [
        "df.tail()"
      ]
    },
    {
      "cell_type": "markdown",
      "metadata": {
        "id": "dkvjpYXNfPtj"
      },
      "source": [
        "### It is observed that \"Size column contain values in MB (M), kb(k) and \"Varies with device\".\n"
      ]
    },
    {
      "cell_type": "code",
      "execution_count": null,
      "metadata": {
        "colab": {
          "base_uri": "https://localhost:8080/"
        },
        "id": "vnYLYj_EHdZ7",
        "outputId": "13662d4a-e2b2-4061-a8db-a5b1ab79f5b1"
      },
      "outputs": [
        {
          "output_type": "execute_result",
          "data": {
            "text/plain": [
              "(1695, 13)"
            ]
          },
          "metadata": {},
          "execution_count": 367
        }
      ],
      "source": [
        "df[df['Size']=='Varies with device'].shape"
      ]
    },
    {
      "cell_type": "markdown",
      "metadata": {
        "id": "uJmejj3fHshI"
      },
      "source": [
        "###In the size coloumn the sizes are in different units. Some of them are in 'M' means MB some of them are in 'K' means KB.For those which are in MB we just convert it to float after removing the 'M' charecter from it. For those which are in KB first we convert it to float after removing 'K from it than we convert it to MB by dividing it by **1024** \n",
        "\n",
        "### Again we can see there are **1695** rows that has **\"Varies with device\"** value in **\"Size\"** column. Replacing this value with mean value will affect the visualization. Replacing **Varies with device** value with np.NaN which is of float type.\n"
      ]
    },
    {
      "cell_type": "code",
      "execution_count": null,
      "metadata": {
        "id": "MtkmcjO11JHM"
      },
      "outputs": [],
      "source": [
        "def converting_size_into_float(string):\n",
        "  '''\n",
        "  This function helps in removing 'M'(MB) and 'k'(kb) which are present at the end of the string and replace 'Varies with device' with np.NaN. This function also evaluate the values present. \n",
        "  '''\n",
        "  \n",
        "  if string[-1] == 'M':\n",
        "    return eval(string.strip('M'))\n",
        "\n",
        "  elif string[-1] == 'k':\n",
        "    a =string.strip('k')\n",
        "    b = str(round(eval(a)/1024,1))\n",
        "    return eval(b)\n",
        "\n",
        "  elif string == 'Varies with device':\n",
        "    string = np.NaN  \n",
        "    return string\n",
        "  else:\n",
        "    return eval(string)"
      ]
    },
    {
      "cell_type": "code",
      "execution_count": null,
      "metadata": {
        "id": "0I8uw1qZ-nr3"
      },
      "outputs": [],
      "source": [
        "# Applying defined function.\n",
        "df['Size_in_MB']= df['Size'].apply(lambda x : converting_size_into_float(x))"
      ]
    },
    {
      "cell_type": "markdown",
      "metadata": {
        "id": "ReCBQ1n0wNZv"
      },
      "source": [
        "## 3- Converting \"Install\" type from \"object to \"int\"."
      ]
    },
    {
      "cell_type": "markdown",
      "metadata": {
        "id": "yppYDQOFdh6m"
      },
      "source": [
        "### In **Install** column values are of **object** type and contain '+' and ',' in them. So we are going remove '+' and ',' from the values and then convert them into **int** type using **eval** method."
      ]
    },
    {
      "cell_type": "code",
      "execution_count": null,
      "metadata": {
        "id": "AeOAVUTzw_F5"
      },
      "outputs": [],
      "source": [
        "# Creating function to remove + and ,.\n",
        "def remove_plus_and_comma(string):\n",
        "  '''\n",
        "  This function removes '+' and ',' from the string.\n",
        "  '''\n",
        "  string = string.replace(',','')\n",
        "  string = string.strip('+')\n",
        "  return string"
      ]
    },
    {
      "cell_type": "code",
      "execution_count": null,
      "metadata": {
        "id": "IKMt6_xlxFXO"
      },
      "outputs": [],
      "source": [
        "# Applying defined function on the column and evaluating those values.\n",
        "df['Installs'] = df['Installs'].apply(lambda x: eval(remove_plus_and_comma(x)))"
      ]
    },
    {
      "cell_type": "markdown",
      "metadata": {
        "id": "p8rf66k2zFmG"
      },
      "source": [
        "## 4- Converting \"Price\" type from \"object\" to \"float\"."
      ]
    },
    {
      "cell_type": "markdown",
      "metadata": {
        "id": "g-VoE8WlfTfb"
      },
      "source": [
        "### **Price** column value has $ symbol in them and they are of object type. we'll remove the symbol and change the type.  "
      ]
    },
    {
      "cell_type": "code",
      "execution_count": null,
      "metadata": {
        "id": "Zq5WCYNXxspx"
      },
      "outputs": [],
      "source": [
        "# Creating function to remove $ symbol.\n",
        "def remove_sign(string):\n",
        "  '''\n",
        "  This function removes $ symbol from the string and convert given string data type from 'str' to 'float'.\n",
        "  '''\n",
        "  return round(float(string.strip('$')),2)"
      ]
    },
    {
      "cell_type": "code",
      "execution_count": null,
      "metadata": {
        "id": "pWW1ydW-00L6"
      },
      "outputs": [],
      "source": [
        "# Applying the function.\n",
        "df['price_in_dollar'] = df['Price'].apply(lambda x : remove_sign(x))"
      ]
    },
    {
      "cell_type": "markdown",
      "metadata": {
        "id": "3xrBK8pn2PDS"
      },
      "source": [
        "## 5- Converting **Last Update** type from \"object\" to \"datetime\"."
      ]
    },
    {
      "cell_type": "code",
      "execution_count": null,
      "metadata": {
        "id": "to25QswZ1Yef"
      },
      "outputs": [],
      "source": [
        "# Converting str into datetime formate using 'to_datetime' function.\n",
        "df['Last Updated'] = pd.to_datetime(df['Last Updated'])"
      ]
    },
    {
      "cell_type": "markdown",
      "metadata": {
        "id": "ygqes-4El0dk"
      },
      "source": [
        "# **Handling the NaN values**"
      ]
    },
    {
      "cell_type": "markdown",
      "metadata": {
        "id": "FIuVXFV8iWBG"
      },
      "source": [
        "## 6- Handling Rating column "
      ]
    },
    {
      "cell_type": "code",
      "execution_count": null,
      "metadata": {
        "colab": {
          "base_uri": "https://localhost:8080/"
        },
        "id": "rzB6mU0OKuob",
        "outputId": "dd2b529a-83e9-4734-ded2-65493d29abe0"
      },
      "outputs": [
        {
          "output_type": "execute_result",
          "data": {
            "text/plain": [
              "1474"
            ]
          },
          "metadata": {},
          "execution_count": 375
        }
      ],
      "source": [
        "#checking the null value in Rating colunn\n",
        "len(df[df['Rating'].isnull()]['Rating'])"
      ]
    },
    {
      "cell_type": "markdown",
      "metadata": {
        "id": "iNMl1t8GoDJy"
      },
      "source": [
        "### Rating column contain 1474 NaN values. We cannot drop this much amount of row from dataset because it will lose a huge percentage of information.We gonna replace all the NaN values with the average of non-null values."
      ]
    },
    {
      "cell_type": "code",
      "execution_count": null,
      "metadata": {
        "id": "82jcMs6Rm-2H"
      },
      "outputs": [],
      "source": [
        "# Finding average of non-null values from Rating column.\n",
        "non_null_mean= round(df[~df['Rating'].isnull()]['Rating'].mean(),1)"
      ]
    },
    {
      "cell_type": "code",
      "execution_count": null,
      "metadata": {
        "id": "6pEBauVipN82"
      },
      "outputs": [],
      "source": [
        "# Replacing null values with average rating.\n",
        "df['Rating'].fillna(value= non_null_mean, inplace=True)\n"
      ]
    },
    {
      "cell_type": "markdown",
      "metadata": {
        "id": "jJp9jwNoqk-b"
      },
      "source": [
        "## 7- Removing Null value from \"Type\" column."
      ]
    },
    {
      "cell_type": "markdown",
      "metadata": {
        "id": "komIRIMDUT80"
      },
      "source": [
        "### **Type** column contain only one NaN value."
      ]
    },
    {
      "cell_type": "code",
      "execution_count": null,
      "metadata": {
        "colab": {
          "base_uri": "https://localhost:8080/"
        },
        "id": "FLO0A4Reqg7H",
        "outputId": "c004b1dd-e904-44b6-fee6-7162c60e36bf"
      },
      "outputs": [
        {
          "output_type": "execute_result",
          "data": {
            "text/plain": [
              "9148    NaN\n",
              "Name: Type, dtype: object"
            ]
          },
          "metadata": {},
          "execution_count": 378
        }
      ],
      "source": [
        "df[df['Type'].isnull()]['Type']"
      ]
    },
    {
      "cell_type": "markdown",
      "metadata": {
        "id": "nXKIYk53q8Zj"
      },
      "source": [
        "### It is observed that Type column contain Null value at index 9148."
      ]
    },
    {
      "cell_type": "code",
      "execution_count": null,
      "metadata": {
        "id": "xpcKWItDq6tS"
      },
      "outputs": [],
      "source": [
        "# Removing row having index 9148 and reseting the index.\n",
        "df = df.drop(9148).reset_index(drop=True)"
      ]
    },
    {
      "cell_type": "markdown",
      "metadata": {
        "id": "rn5Mxv-0sKSB"
      },
      "source": [
        "## 8- Removing Null values from \"Current Ver\"."
      ]
    },
    {
      "cell_type": "code",
      "execution_count": null,
      "metadata": {
        "colab": {
          "base_uri": "https://localhost:8080/"
        },
        "id": "5RJtCQHlsF-o",
        "outputId": "2e3ec49b-831c-4898-e11e-c0e5414facc2"
      },
      "outputs": [
        {
          "output_type": "execute_result",
          "data": {
            "text/plain": [
              "(8,)"
            ]
          },
          "metadata": {},
          "execution_count": 380
        }
      ],
      "source": [
        "df[df['Current Ver'].isnull()]['Current Ver'].shape"
      ]
    },
    {
      "cell_type": "markdown",
      "metadata": {
        "id": "SQd-RmBmstke"
      },
      "source": [
        "### Number of Null value present in the 'Current Ver' column is 8.\n"
      ]
    },
    {
      "cell_type": "code",
      "execution_count": null,
      "metadata": {
        "id": "Ufk5uaOftH2J"
      },
      "outputs": [],
      "source": [
        "# Removing the rows containing Null values from Dataframe.\n",
        "df = df[~df['Current Ver'].isnull()]\n"
      ]
    },
    {
      "cell_type": "markdown",
      "metadata": {
        "id": "ioAtRqeDtp-V"
      },
      "source": [
        "## 9- Removing Null values from \"Android Ver\" column."
      ]
    },
    {
      "cell_type": "code",
      "execution_count": null,
      "metadata": {
        "colab": {
          "base_uri": "https://localhost:8080/"
        },
        "id": "dVl5wQxQtlJj",
        "outputId": "9b40b34b-7d6d-4def-b1bd-a973b65cf3c0"
      },
      "outputs": [
        {
          "output_type": "execute_result",
          "data": {
            "text/plain": [
              "2"
            ]
          },
          "metadata": {},
          "execution_count": 382
        }
      ],
      "source": [
        "len(df[df['Android Ver'].isnull()]['Android Ver'])"
      ]
    },
    {
      "cell_type": "markdown",
      "metadata": {
        "id": "3NT4FG3SuG1C"
      },
      "source": [
        "### Number of Null values present in the \"Android Ver\" column is 2."
      ]
    },
    {
      "cell_type": "code",
      "execution_count": null,
      "metadata": {
        "id": "YYMK6oxUt94f"
      },
      "outputs": [],
      "source": [
        "# Removing Rows containing Null value from dataframe.\n",
        "df= df[~df['Android Ver'].isnull()]"
      ]
    },
    {
      "cell_type": "markdown",
      "metadata": {
        "id": "FDE-0WWkaFIX"
      },
      "source": [
        "### Android Ver type is of object and there are different values. we'll get the create another column in the Dataframe which will store the minimum android version for the App."
      ]
    },
    {
      "cell_type": "code",
      "execution_count": null,
      "metadata": {
        "id": "Ffo5_NA6Veyi"
      },
      "outputs": [],
      "source": [
        "# creating a function to obtain minimum version for the App.\n",
        "def get_ver(string):\n",
        "  '''\n",
        "  This function is used to obtain minimum android version required.\n",
        "  '''\n",
        "\n",
        "  if string =='Varies with device':\n",
        "    return eval('1.0')\n",
        "  else:\n",
        "    string = string[0:3]\n",
        "    return eval(string)\n",
        "  \n",
        "\n",
        "\n"
      ]
    },
    {
      "cell_type": "code",
      "execution_count": null,
      "metadata": {
        "id": "j1Adm3QCZCpz"
      },
      "outputs": [],
      "source": [
        "# Applying the function.\n",
        "df['min_ver']=df['Android Ver'].apply(lambda x : get_ver(x))"
      ]
    },
    {
      "cell_type": "markdown",
      "metadata": {
        "id": "mDiyTzr_U3BS"
      },
      "source": [
        "## Checking and Removing Duplicate values from the data set."
      ]
    },
    {
      "cell_type": "markdown",
      "metadata": {
        "id": "bd61QijSVBUe"
      },
      "source": [
        "### As we can see in the Dataframe only one column that contain **UNIQUE** value which cannot be repeate and that column is **App** column."
      ]
    },
    {
      "cell_type": "code",
      "execution_count": null,
      "metadata": {
        "id": "ujqEYC0ER_NY"
      },
      "outputs": [],
      "source": [
        "# Creating temperory dataframe to find the number of duplicate apps.\n",
        "a = df['App'].value_counts().reset_index()"
      ]
    },
    {
      "cell_type": "code",
      "execution_count": null,
      "metadata": {
        "colab": {
          "base_uri": "https://localhost:8080/"
        },
        "id": "DHms49olT53L",
        "outputId": "22dd9e49-1bef-4190-efa6-0d5dad160dfb"
      },
      "outputs": [
        {
          "output_type": "execute_result",
          "data": {
            "text/plain": [
              "798"
            ]
          },
          "metadata": {},
          "execution_count": 387
        }
      ],
      "source": [
        "# Finding the number of duplicate rows.\n",
        "len(a[a['App']>=2])"
      ]
    },
    {
      "cell_type": "markdown",
      "metadata": {
        "id": "1LyTjJBlVj4F"
      },
      "source": [
        "### As we can see above Dataframe contains 798 duplicate rows."
      ]
    },
    {
      "cell_type": "code",
      "execution_count": null,
      "metadata": {
        "id": "xMOEfsiJUd2D"
      },
      "outputs": [],
      "source": [
        "# Removing DUPLICATES from the Dataframe.\n",
        "df=df.drop_duplicates(subset = 'App')"
      ]
    },
    {
      "cell_type": "markdown",
      "metadata": {
        "id": "48HSxOUWc5An"
      },
      "source": [
        "Reseting index"
      ]
    },
    {
      "cell_type": "code",
      "execution_count": null,
      "metadata": {
        "id": "g056_yOibko-"
      },
      "outputs": [],
      "source": [
        "df=df.reset_index()"
      ]
    },
    {
      "cell_type": "code",
      "execution_count": null,
      "metadata": {
        "id": "6lRvBd0e8Kq1"
      },
      "outputs": [],
      "source": [
        "df.drop(['index'],axis = 1,inplace=True)"
      ]
    },
    {
      "cell_type": "code",
      "execution_count": null,
      "metadata": {
        "colab": {
          "base_uri": "https://localhost:8080/"
        },
        "id": "A7BIeNqVUxIL",
        "outputId": "60815bc2-5628-45be-de6b-838f2c683a23"
      },
      "outputs": [
        {
          "output_type": "execute_result",
          "data": {
            "text/plain": [
              "(9648, 16)"
            ]
          },
          "metadata": {},
          "execution_count": 391
        }
      ],
      "source": [
        "df.shape"
      ]
    },
    {
      "cell_type": "markdown",
      "metadata": {
        "id": "qAH9u3kpV6f9"
      },
      "source": [
        "### - After removing \"Duplicates\" and \"NaN values\" from the Dataframe we now have a modified Dataframe with 9648 rows and 16 columns."
      ]
    },
    {
      "cell_type": "markdown",
      "metadata": {
        "id": "OuUzBJ69Na7d"
      },
      "source": [
        "##2.User Review dataset"
      ]
    },
    {
      "cell_type": "code",
      "execution_count": null,
      "metadata": {
        "id": "LKK-4UmsuhnD"
      },
      "outputs": [],
      "source": [
        "r_df = review_df.copy()"
      ]
    },
    {
      "cell_type": "code",
      "execution_count": null,
      "metadata": {
        "colab": {
          "base_uri": "https://localhost:8080/"
        },
        "id": "iXR4q_kiNhyK",
        "outputId": "47aca631-f6cb-4f42-f233-bc195ba87867"
      },
      "outputs": [
        {
          "output_type": "stream",
          "name": "stdout",
          "text": [
            "<class 'pandas.core.frame.DataFrame'>\n",
            "RangeIndex: 64295 entries, 0 to 64294\n",
            "Data columns (total 5 columns):\n",
            " #   Column                  Non-Null Count  Dtype  \n",
            "---  ------                  --------------  -----  \n",
            " 0   App                     64295 non-null  object \n",
            " 1   Translated_Review       37427 non-null  object \n",
            " 2   Sentiment               37432 non-null  object \n",
            " 3   Sentiment_Polarity      37432 non-null  float64\n",
            " 4   Sentiment_Subjectivity  37432 non-null  float64\n",
            "dtypes: float64(2), object(3)\n",
            "memory usage: 2.5+ MB\n"
          ]
        }
      ],
      "source": [
        "r_df.info()"
      ]
    },
    {
      "cell_type": "code",
      "execution_count": null,
      "metadata": {
        "colab": {
          "base_uri": "https://localhost:8080/",
          "height": 206
        },
        "id": "wVKGqmwONpW9",
        "outputId": "cf5f4bea-a6c0-4e8d-8daa-9375470351ff"
      },
      "outputs": [
        {
          "output_type": "execute_result",
          "data": {
            "text/plain": [
              "                     App                                  Translated_Review  \\\n",
              "0  10 Best Foods for You  I like eat delicious food. That's I'm cooking ...   \n",
              "1  10 Best Foods for You    This help eating healthy exercise regular basis   \n",
              "2  10 Best Foods for You                                                NaN   \n",
              "3  10 Best Foods for You         Works great especially going grocery store   \n",
              "4  10 Best Foods for You                                       Best idea us   \n",
              "\n",
              "  Sentiment  Sentiment_Polarity  Sentiment_Subjectivity  \n",
              "0  Positive                1.00                0.533333  \n",
              "1  Positive                0.25                0.288462  \n",
              "2       NaN                 NaN                     NaN  \n",
              "3  Positive                0.40                0.875000  \n",
              "4  Positive                1.00                0.300000  "
            ],
            "text/html": [
              "\n",
              "  <div id=\"df-03da8b82-9f0f-4048-9447-61cea8916113\">\n",
              "    <div class=\"colab-df-container\">\n",
              "      <div>\n",
              "<style scoped>\n",
              "    .dataframe tbody tr th:only-of-type {\n",
              "        vertical-align: middle;\n",
              "    }\n",
              "\n",
              "    .dataframe tbody tr th {\n",
              "        vertical-align: top;\n",
              "    }\n",
              "\n",
              "    .dataframe thead th {\n",
              "        text-align: right;\n",
              "    }\n",
              "</style>\n",
              "<table border=\"1\" class=\"dataframe\">\n",
              "  <thead>\n",
              "    <tr style=\"text-align: right;\">\n",
              "      <th></th>\n",
              "      <th>App</th>\n",
              "      <th>Translated_Review</th>\n",
              "      <th>Sentiment</th>\n",
              "      <th>Sentiment_Polarity</th>\n",
              "      <th>Sentiment_Subjectivity</th>\n",
              "    </tr>\n",
              "  </thead>\n",
              "  <tbody>\n",
              "    <tr>\n",
              "      <th>0</th>\n",
              "      <td>10 Best Foods for You</td>\n",
              "      <td>I like eat delicious food. That's I'm cooking ...</td>\n",
              "      <td>Positive</td>\n",
              "      <td>1.00</td>\n",
              "      <td>0.533333</td>\n",
              "    </tr>\n",
              "    <tr>\n",
              "      <th>1</th>\n",
              "      <td>10 Best Foods for You</td>\n",
              "      <td>This help eating healthy exercise regular basis</td>\n",
              "      <td>Positive</td>\n",
              "      <td>0.25</td>\n",
              "      <td>0.288462</td>\n",
              "    </tr>\n",
              "    <tr>\n",
              "      <th>2</th>\n",
              "      <td>10 Best Foods for You</td>\n",
              "      <td>NaN</td>\n",
              "      <td>NaN</td>\n",
              "      <td>NaN</td>\n",
              "      <td>NaN</td>\n",
              "    </tr>\n",
              "    <tr>\n",
              "      <th>3</th>\n",
              "      <td>10 Best Foods for You</td>\n",
              "      <td>Works great especially going grocery store</td>\n",
              "      <td>Positive</td>\n",
              "      <td>0.40</td>\n",
              "      <td>0.875000</td>\n",
              "    </tr>\n",
              "    <tr>\n",
              "      <th>4</th>\n",
              "      <td>10 Best Foods for You</td>\n",
              "      <td>Best idea us</td>\n",
              "      <td>Positive</td>\n",
              "      <td>1.00</td>\n",
              "      <td>0.300000</td>\n",
              "    </tr>\n",
              "  </tbody>\n",
              "</table>\n",
              "</div>\n",
              "      <button class=\"colab-df-convert\" onclick=\"convertToInteractive('df-03da8b82-9f0f-4048-9447-61cea8916113')\"\n",
              "              title=\"Convert this dataframe to an interactive table.\"\n",
              "              style=\"display:none;\">\n",
              "        \n",
              "  <svg xmlns=\"http://www.w3.org/2000/svg\" height=\"24px\"viewBox=\"0 0 24 24\"\n",
              "       width=\"24px\">\n",
              "    <path d=\"M0 0h24v24H0V0z\" fill=\"none\"/>\n",
              "    <path d=\"M18.56 5.44l.94 2.06.94-2.06 2.06-.94-2.06-.94-.94-2.06-.94 2.06-2.06.94zm-11 1L8.5 8.5l.94-2.06 2.06-.94-2.06-.94L8.5 2.5l-.94 2.06-2.06.94zm10 10l.94 2.06.94-2.06 2.06-.94-2.06-.94-.94-2.06-.94 2.06-2.06.94z\"/><path d=\"M17.41 7.96l-1.37-1.37c-.4-.4-.92-.59-1.43-.59-.52 0-1.04.2-1.43.59L10.3 9.45l-7.72 7.72c-.78.78-.78 2.05 0 2.83L4 21.41c.39.39.9.59 1.41.59.51 0 1.02-.2 1.41-.59l7.78-7.78 2.81-2.81c.8-.78.8-2.07 0-2.86zM5.41 20L4 18.59l7.72-7.72 1.47 1.35L5.41 20z\"/>\n",
              "  </svg>\n",
              "      </button>\n",
              "      \n",
              "  <style>\n",
              "    .colab-df-container {\n",
              "      display:flex;\n",
              "      flex-wrap:wrap;\n",
              "      gap: 12px;\n",
              "    }\n",
              "\n",
              "    .colab-df-convert {\n",
              "      background-color: #E8F0FE;\n",
              "      border: none;\n",
              "      border-radius: 50%;\n",
              "      cursor: pointer;\n",
              "      display: none;\n",
              "      fill: #1967D2;\n",
              "      height: 32px;\n",
              "      padding: 0 0 0 0;\n",
              "      width: 32px;\n",
              "    }\n",
              "\n",
              "    .colab-df-convert:hover {\n",
              "      background-color: #E2EBFA;\n",
              "      box-shadow: 0px 1px 2px rgba(60, 64, 67, 0.3), 0px 1px 3px 1px rgba(60, 64, 67, 0.15);\n",
              "      fill: #174EA6;\n",
              "    }\n",
              "\n",
              "    [theme=dark] .colab-df-convert {\n",
              "      background-color: #3B4455;\n",
              "      fill: #D2E3FC;\n",
              "    }\n",
              "\n",
              "    [theme=dark] .colab-df-convert:hover {\n",
              "      background-color: #434B5C;\n",
              "      box-shadow: 0px 1px 3px 1px rgba(0, 0, 0, 0.15);\n",
              "      filter: drop-shadow(0px 1px 2px rgba(0, 0, 0, 0.3));\n",
              "      fill: #FFFFFF;\n",
              "    }\n",
              "  </style>\n",
              "\n",
              "      <script>\n",
              "        const buttonEl =\n",
              "          document.querySelector('#df-03da8b82-9f0f-4048-9447-61cea8916113 button.colab-df-convert');\n",
              "        buttonEl.style.display =\n",
              "          google.colab.kernel.accessAllowed ? 'block' : 'none';\n",
              "\n",
              "        async function convertToInteractive(key) {\n",
              "          const element = document.querySelector('#df-03da8b82-9f0f-4048-9447-61cea8916113');\n",
              "          const dataTable =\n",
              "            await google.colab.kernel.invokeFunction('convertToInteractive',\n",
              "                                                     [key], {});\n",
              "          if (!dataTable) return;\n",
              "\n",
              "          const docLinkHtml = 'Like what you see? Visit the ' +\n",
              "            '<a target=\"_blank\" href=https://colab.research.google.com/notebooks/data_table.ipynb>data table notebook</a>'\n",
              "            + ' to learn more about interactive tables.';\n",
              "          element.innerHTML = '';\n",
              "          dataTable['output_type'] = 'display_data';\n",
              "          await google.colab.output.renderOutput(dataTable, element);\n",
              "          const docLink = document.createElement('div');\n",
              "          docLink.innerHTML = docLinkHtml;\n",
              "          element.appendChild(docLink);\n",
              "        }\n",
              "      </script>\n",
              "    </div>\n",
              "  </div>\n",
              "  "
            ]
          },
          "metadata": {},
          "execution_count": 66
        }
      ],
      "source": [
        "r_df.head()"
      ]
    },
    {
      "cell_type": "markdown",
      "metadata": {
        "id": "a100GWaTPhXW"
      },
      "source": [
        "## Handling Null values in User data review Dataframe."
      ]
    },
    {
      "cell_type": "code",
      "source": [
        "r_df.isnull().sum()"
      ],
      "metadata": {
        "colab": {
          "base_uri": "https://localhost:8080/"
        },
        "id": "k2Hvnnp2jlY7",
        "outputId": "3398cea4-e829-472e-c290-579248214620"
      },
      "execution_count": null,
      "outputs": [
        {
          "output_type": "execute_result",
          "data": {
            "text/plain": [
              "App                           0\n",
              "Translated_Review         26868\n",
              "Sentiment                 26863\n",
              "Sentiment_Polarity        26863\n",
              "Sentiment_Subjectivity    26863\n",
              "dtype: int64"
            ]
          },
          "metadata": {},
          "execution_count": 67
        }
      ]
    },
    {
      "cell_type": "code",
      "execution_count": null,
      "metadata": {
        "colab": {
          "base_uri": "https://localhost:8080/"
        },
        "id": "ETcCBFhFNryB",
        "outputId": "a96a821e-7bfb-41b0-d6cb-6bbe938c14ab"
      },
      "outputs": [
        {
          "output_type": "execute_result",
          "data": {
            "text/plain": [
              "(26868, 5)"
            ]
          },
          "metadata": {},
          "execution_count": 69
        }
      ],
      "source": [
        "r_df[r_df['Translated_Review'].isnull()].shape"
      ]
    },
    {
      "cell_type": "markdown",
      "metadata": {
        "id": "h6SfB1aueLip"
      },
      "source": [
        "### There are 26868 Null Values in T**ranslated Review** column."
      ]
    },
    {
      "cell_type": "markdown",
      "metadata": {
        "id": "EP1uLzsmQCh7"
      },
      "source": [
        "### Removing NaN values from **Translated_Review** column, cause the rows containing NaN values are of no use and we cannot impute null values for these column. \n",
        "### If there is no review then there will be no sentiment.\n",
        "### Therefore, We will remove all the rows that contains NaN values in Translated_Review columm."
      ]
    },
    {
      "cell_type": "code",
      "execution_count": null,
      "metadata": {
        "id": "tJZPlxd8Ptec"
      },
      "outputs": [],
      "source": [
        "r_df= r_df[~r_df['Translated_Review'].isnull()]"
      ]
    },
    {
      "cell_type": "markdown",
      "metadata": {
        "id": "mWwqF-Iwgb2e"
      },
      "source": [
        "Reseting index"
      ]
    },
    {
      "cell_type": "code",
      "execution_count": null,
      "metadata": {
        "id": "-KwnPUIiRIf4"
      },
      "outputs": [],
      "source": [
        "r_df= r_df.reset_index()"
      ]
    },
    {
      "cell_type": "code",
      "execution_count": null,
      "metadata": {
        "id": "W4iLeGgafa-q"
      },
      "outputs": [],
      "source": [
        "r_df.drop(['index'],axis=1,inplace=True)"
      ]
    },
    {
      "cell_type": "code",
      "execution_count": null,
      "metadata": {
        "colab": {
          "base_uri": "https://localhost:8080/"
        },
        "id": "m9zM1cJKhcD_",
        "outputId": "a1ef891e-8a78-4c9e-b527-a8261dd26cc0"
      },
      "outputs": [
        {
          "output_type": "stream",
          "name": "stdout",
          "text": [
            "<class 'pandas.core.frame.DataFrame'>\n",
            "RangeIndex: 37427 entries, 0 to 37426\n",
            "Data columns (total 5 columns):\n",
            " #   Column                  Non-Null Count  Dtype  \n",
            "---  ------                  --------------  -----  \n",
            " 0   App                     37427 non-null  object \n",
            " 1   Translated_Review       37427 non-null  object \n",
            " 2   Sentiment               37427 non-null  object \n",
            " 3   Sentiment_Polarity      37427 non-null  float64\n",
            " 4   Sentiment_Subjectivity  37427 non-null  float64\n",
            "dtypes: float64(2), object(3)\n",
            "memory usage: 1.4+ MB\n"
          ]
        }
      ],
      "source": [
        "r_df.info()"
      ]
    },
    {
      "cell_type": "markdown",
      "metadata": {
        "id": "RbduEuAeaEwV"
      },
      "source": [
        "# **Data Visualization**"
      ]
    },
    {
      "cell_type": "markdown",
      "metadata": {
        "id": "ROyMVMOt8wRk"
      },
      "source": [
        "## Q1-Correlation Heatmap\n"
      ]
    },
    {
      "cell_type": "code",
      "execution_count": null,
      "metadata": {
        "colab": {
          "base_uri": "https://localhost:8080/",
          "height": 237
        },
        "id": "lJPkJUfc85NM",
        "outputId": "d237ae64-23a4-484a-ad99-638494d32c3b"
      },
      "outputs": [
        {
          "output_type": "execute_result",
          "data": {
            "text/plain": [
              "                   Rating   Reviews  Installs  Size_in_MB  price_in_dollar  \\\n",
              "Rating           1.000000  0.054032  0.038869    0.055865        -0.019378   \n",
              "Reviews          0.054032  1.000000  0.625158    0.179275        -0.007604   \n",
              "Installs         0.038869  0.625158  1.000000    0.134216        -0.009413   \n",
              "Size_in_MB       0.055865  0.179275  0.134216    1.000000        -0.022500   \n",
              "price_in_dollar -0.019378 -0.007604 -0.009413   -0.022500         1.000000   \n",
              "min_ver         -0.005648 -0.092561 -0.134702    0.139515         0.018573   \n",
              "\n",
              "                  min_ver  \n",
              "Rating          -0.005648  \n",
              "Reviews         -0.092561  \n",
              "Installs        -0.134702  \n",
              "Size_in_MB       0.139515  \n",
              "price_in_dollar  0.018573  \n",
              "min_ver          1.000000  "
            ],
            "text/html": [
              "\n",
              "  <div id=\"df-eddea8c9-3abd-4600-af16-c7f3b5ec0a79\">\n",
              "    <div class=\"colab-df-container\">\n",
              "      <div>\n",
              "<style scoped>\n",
              "    .dataframe tbody tr th:only-of-type {\n",
              "        vertical-align: middle;\n",
              "    }\n",
              "\n",
              "    .dataframe tbody tr th {\n",
              "        vertical-align: top;\n",
              "    }\n",
              "\n",
              "    .dataframe thead th {\n",
              "        text-align: right;\n",
              "    }\n",
              "</style>\n",
              "<table border=\"1\" class=\"dataframe\">\n",
              "  <thead>\n",
              "    <tr style=\"text-align: right;\">\n",
              "      <th></th>\n",
              "      <th>Rating</th>\n",
              "      <th>Reviews</th>\n",
              "      <th>Installs</th>\n",
              "      <th>Size_in_MB</th>\n",
              "      <th>price_in_dollar</th>\n",
              "      <th>min_ver</th>\n",
              "    </tr>\n",
              "  </thead>\n",
              "  <tbody>\n",
              "    <tr>\n",
              "      <th>Rating</th>\n",
              "      <td>1.000000</td>\n",
              "      <td>0.054032</td>\n",
              "      <td>0.038869</td>\n",
              "      <td>0.055865</td>\n",
              "      <td>-0.019378</td>\n",
              "      <td>-0.005648</td>\n",
              "    </tr>\n",
              "    <tr>\n",
              "      <th>Reviews</th>\n",
              "      <td>0.054032</td>\n",
              "      <td>1.000000</td>\n",
              "      <td>0.625158</td>\n",
              "      <td>0.179275</td>\n",
              "      <td>-0.007604</td>\n",
              "      <td>-0.092561</td>\n",
              "    </tr>\n",
              "    <tr>\n",
              "      <th>Installs</th>\n",
              "      <td>0.038869</td>\n",
              "      <td>0.625158</td>\n",
              "      <td>1.000000</td>\n",
              "      <td>0.134216</td>\n",
              "      <td>-0.009413</td>\n",
              "      <td>-0.134702</td>\n",
              "    </tr>\n",
              "    <tr>\n",
              "      <th>Size_in_MB</th>\n",
              "      <td>0.055865</td>\n",
              "      <td>0.179275</td>\n",
              "      <td>0.134216</td>\n",
              "      <td>1.000000</td>\n",
              "      <td>-0.022500</td>\n",
              "      <td>0.139515</td>\n",
              "    </tr>\n",
              "    <tr>\n",
              "      <th>price_in_dollar</th>\n",
              "      <td>-0.019378</td>\n",
              "      <td>-0.007604</td>\n",
              "      <td>-0.009413</td>\n",
              "      <td>-0.022500</td>\n",
              "      <td>1.000000</td>\n",
              "      <td>0.018573</td>\n",
              "    </tr>\n",
              "    <tr>\n",
              "      <th>min_ver</th>\n",
              "      <td>-0.005648</td>\n",
              "      <td>-0.092561</td>\n",
              "      <td>-0.134702</td>\n",
              "      <td>0.139515</td>\n",
              "      <td>0.018573</td>\n",
              "      <td>1.000000</td>\n",
              "    </tr>\n",
              "  </tbody>\n",
              "</table>\n",
              "</div>\n",
              "      <button class=\"colab-df-convert\" onclick=\"convertToInteractive('df-eddea8c9-3abd-4600-af16-c7f3b5ec0a79')\"\n",
              "              title=\"Convert this dataframe to an interactive table.\"\n",
              "              style=\"display:none;\">\n",
              "        \n",
              "  <svg xmlns=\"http://www.w3.org/2000/svg\" height=\"24px\"viewBox=\"0 0 24 24\"\n",
              "       width=\"24px\">\n",
              "    <path d=\"M0 0h24v24H0V0z\" fill=\"none\"/>\n",
              "    <path d=\"M18.56 5.44l.94 2.06.94-2.06 2.06-.94-2.06-.94-.94-2.06-.94 2.06-2.06.94zm-11 1L8.5 8.5l.94-2.06 2.06-.94-2.06-.94L8.5 2.5l-.94 2.06-2.06.94zm10 10l.94 2.06.94-2.06 2.06-.94-2.06-.94-.94-2.06-.94 2.06-2.06.94z\"/><path d=\"M17.41 7.96l-1.37-1.37c-.4-.4-.92-.59-1.43-.59-.52 0-1.04.2-1.43.59L10.3 9.45l-7.72 7.72c-.78.78-.78 2.05 0 2.83L4 21.41c.39.39.9.59 1.41.59.51 0 1.02-.2 1.41-.59l7.78-7.78 2.81-2.81c.8-.78.8-2.07 0-2.86zM5.41 20L4 18.59l7.72-7.72 1.47 1.35L5.41 20z\"/>\n",
              "  </svg>\n",
              "      </button>\n",
              "      \n",
              "  <style>\n",
              "    .colab-df-container {\n",
              "      display:flex;\n",
              "      flex-wrap:wrap;\n",
              "      gap: 12px;\n",
              "    }\n",
              "\n",
              "    .colab-df-convert {\n",
              "      background-color: #E8F0FE;\n",
              "      border: none;\n",
              "      border-radius: 50%;\n",
              "      cursor: pointer;\n",
              "      display: none;\n",
              "      fill: #1967D2;\n",
              "      height: 32px;\n",
              "      padding: 0 0 0 0;\n",
              "      width: 32px;\n",
              "    }\n",
              "\n",
              "    .colab-df-convert:hover {\n",
              "      background-color: #E2EBFA;\n",
              "      box-shadow: 0px 1px 2px rgba(60, 64, 67, 0.3), 0px 1px 3px 1px rgba(60, 64, 67, 0.15);\n",
              "      fill: #174EA6;\n",
              "    }\n",
              "\n",
              "    [theme=dark] .colab-df-convert {\n",
              "      background-color: #3B4455;\n",
              "      fill: #D2E3FC;\n",
              "    }\n",
              "\n",
              "    [theme=dark] .colab-df-convert:hover {\n",
              "      background-color: #434B5C;\n",
              "      box-shadow: 0px 1px 3px 1px rgba(0, 0, 0, 0.15);\n",
              "      filter: drop-shadow(0px 1px 2px rgba(0, 0, 0, 0.3));\n",
              "      fill: #FFFFFF;\n",
              "    }\n",
              "  </style>\n",
              "\n",
              "      <script>\n",
              "        const buttonEl =\n",
              "          document.querySelector('#df-eddea8c9-3abd-4600-af16-c7f3b5ec0a79 button.colab-df-convert');\n",
              "        buttonEl.style.display =\n",
              "          google.colab.kernel.accessAllowed ? 'block' : 'none';\n",
              "\n",
              "        async function convertToInteractive(key) {\n",
              "          const element = document.querySelector('#df-eddea8c9-3abd-4600-af16-c7f3b5ec0a79');\n",
              "          const dataTable =\n",
              "            await google.colab.kernel.invokeFunction('convertToInteractive',\n",
              "                                                     [key], {});\n",
              "          if (!dataTable) return;\n",
              "\n",
              "          const docLinkHtml = 'Like what you see? Visit the ' +\n",
              "            '<a target=\"_blank\" href=https://colab.research.google.com/notebooks/data_table.ipynb>data table notebook</a>'\n",
              "            + ' to learn more about interactive tables.';\n",
              "          element.innerHTML = '';\n",
              "          dataTable['output_type'] = 'display_data';\n",
              "          await google.colab.output.renderOutput(dataTable, element);\n",
              "          const docLink = document.createElement('div');\n",
              "          docLink.innerHTML = docLinkHtml;\n",
              "          element.appendChild(docLink);\n",
              "        }\n",
              "      </script>\n",
              "    </div>\n",
              "  </div>\n",
              "  "
            ]
          },
          "metadata": {},
          "execution_count": 74
        }
      ],
      "source": [
        "df.corr()"
      ]
    },
    {
      "cell_type": "code",
      "execution_count": null,
      "metadata": {
        "colab": {
          "base_uri": "https://localhost:8080/",
          "height": 522
        },
        "id": "TZV46CJa9BtP",
        "outputId": "44baa128-12d1-4019-e572-594f73b56985"
      },
      "outputs": [
        {
          "output_type": "execute_result",
          "data": {
            "text/plain": [
              "Text(0.5, 1.0, 'Corelation Heatmap for Playstore Data')"
            ]
          },
          "metadata": {},
          "execution_count": 75
        },
        {
          "output_type": "display_data",
          "data": {
            "text/plain": [
              "<Figure size 1080x576 with 2 Axes>"
            ],
            "image/png": "[encoded data removed]"
          },
          "metadata": {
            "needs_background": "light"
          }
        }
      ],
      "source": [
        "# Heat map for play_store\n",
        "plt.rcParams['figure.figsize'] = (15, 8)\n",
        "sns.heatmap(df.corr(), annot= True)\n",
        "plt.title('Corelation Heatmap for Playstore Data', size=20)"
      ]
    },
    {
      "cell_type": "markdown",
      "metadata": {
        "id": "BdaxNjp6EZEM"
      },
      "source": [
        "## **Observation**:\n",
        "\n",
        "* There is a strong positive correlation between the Reviews and Installs column. This is pretty much obvious. Higher the number of installs, higher is the user base, and higher are the total number of reviews dropped by the users.\n",
        "* The Price is slightly negatively correlated with the Rating, Reviews, and Installs.` This means that as the prices of the app increases, the average rating, total number of reviews and Installs fall slightly.\n",
        "* The Rating is slightly positively correlated with the Installs and Reviews` column. This indicates that as the average user rating increases, the app installs and number of reviews also increase."
      ]
    },
    {
      "cell_type": "markdown",
      "metadata": {
        "id": "_l8tsy6D-y-X"
      },
      "source": [
        "## Let us check if there is any co-relation in both the dataframes."
      ]
    },
    {
      "cell_type": "code",
      "execution_count": null,
      "metadata": {
        "id": "T6FM9_K6-3X3"
      },
      "outputs": [],
      "source": [
        "merged_df = pd.merge(df, r_df, on='App', how = \"inner\")\n"
      ]
    },
    {
      "cell_type": "code",
      "execution_count": null,
      "metadata": {
        "colab": {
          "base_uri": "https://localhost:8080/",
          "height": 676
        },
        "id": "PAxZq_OH-6fC",
        "outputId": "3883ecda-0b86-45f7-d9be-d7897de00b11"
      },
      "outputs": [
        {
          "output_type": "execute_result",
          "data": {
            "text/plain": [
              "                             data_type  count of non null values  NaN values  \\\n",
              "App                             object                     35929           0   \n",
              "Category                        object                     35929           0   \n",
              "Rating                         float64                     35929           0   \n",
              "Reviews                          int64                     35929           0   \n",
              "Size                            object                     35929           0   \n",
              "Installs                         int64                     35929           0   \n",
              "Type                            object                     35929           0   \n",
              "Price                           object                     35929           0   \n",
              "Content Rating                  object                     35929           0   \n",
              "Genres                          object                     35929           0   \n",
              "Last Updated            datetime64[ns]                     35929           0   \n",
              "Current Ver                     object                     35929           0   \n",
              "Android Ver                     object                     35929           0   \n",
              "Size_in_MB                     float64                     24069       11860   \n",
              "price_in_dollar                float64                     35929           0   \n",
              "min_ver                        float64                     35929           0   \n",
              "Translated_Review               object                     35929           0   \n",
              "Sentiment                       object                     35929           0   \n",
              "Sentiment_Polarity             float64                     35929           0   \n",
              "Sentiment_Subjectivity         float64                     35929           0   \n",
              "\n",
              "                        % NaN values  unique_count  \n",
              "App                         0.000000           816  \n",
              "Category                    0.000000            33  \n",
              "Rating                      0.000000            22  \n",
              "Reviews                     0.000000           807  \n",
              "Size                        0.000000           168  \n",
              "Installs                    0.000000            12  \n",
              "Type                        0.000000             2  \n",
              "Price                       0.000000             9  \n",
              "Content Rating              0.000000             5  \n",
              "Genres                      0.000000            67  \n",
              "Last Updated                0.000000           247  \n",
              "Current Ver                 0.000000           498  \n",
              "Android Ver                 0.000000            22  \n",
              "Size_in_MB                  0.330095           165  \n",
              "price_in_dollar             0.000000             9  \n",
              "min_ver                     0.000000            18  \n",
              "Translated_Review           0.000000         26682  \n",
              "Sentiment                   0.000000             3  \n",
              "Sentiment_Polarity          0.000000          5295  \n",
              "Sentiment_Subjectivity      0.000000          4382  "
            ],
            "text/html": [
              "\n",
              "  <div id=\"df-1c8d09ee-d481-4311-abf7-7cc7a28ae668\">\n",
              "    <div class=\"colab-df-container\">\n",
              "      <div>\n",
              "<style scoped>\n",
              "    .dataframe tbody tr th:only-of-type {\n",
              "        vertical-align: middle;\n",
              "    }\n",
              "\n",
              "    .dataframe tbody tr th {\n",
              "        vertical-align: top;\n",
              "    }\n",
              "\n",
              "    .dataframe thead th {\n",
              "        text-align: right;\n",
              "    }\n",
              "</style>\n",
              "<table border=\"1\" class=\"dataframe\">\n",
              "  <thead>\n",
              "    <tr style=\"text-align: right;\">\n",
              "      <th></th>\n",
              "      <th>data_type</th>\n",
              "      <th>count of non null values</th>\n",
              "      <th>NaN values</th>\n",
              "      <th>% NaN values</th>\n",
              "      <th>unique_count</th>\n",
              "    </tr>\n",
              "  </thead>\n",
              "  <tbody>\n",
              "    <tr>\n",
              "      <th>App</th>\n",
              "      <td>object</td>\n",
              "      <td>35929</td>\n",
              "      <td>0</td>\n",
              "      <td>0.000000</td>\n",
              "      <td>816</td>\n",
              "    </tr>\n",
              "    <tr>\n",
              "      <th>Category</th>\n",
              "      <td>object</td>\n",
              "      <td>35929</td>\n",
              "      <td>0</td>\n",
              "      <td>0.000000</td>\n",
              "      <td>33</td>\n",
              "    </tr>\n",
              "    <tr>\n",
              "      <th>Rating</th>\n",
              "      <td>float64</td>\n",
              "      <td>35929</td>\n",
              "      <td>0</td>\n",
              "      <td>0.000000</td>\n",
              "      <td>22</td>\n",
              "    </tr>\n",
              "    <tr>\n",
              "      <th>Reviews</th>\n",
              "      <td>int64</td>\n",
              "      <td>35929</td>\n",
              "      <td>0</td>\n",
              "      <td>0.000000</td>\n",
              "      <td>807</td>\n",
              "    </tr>\n",
              "    <tr>\n",
              "      <th>Size</th>\n",
              "      <td>object</td>\n",
              "      <td>35929</td>\n",
              "      <td>0</td>\n",
              "      <td>0.000000</td>\n",
              "      <td>168</td>\n",
              "    </tr>\n",
              "    <tr>\n",
              "      <th>Installs</th>\n",
              "      <td>int64</td>\n",
              "      <td>35929</td>\n",
              "      <td>0</td>\n",
              "      <td>0.000000</td>\n",
              "      <td>12</td>\n",
              "    </tr>\n",
              "    <tr>\n",
              "      <th>Type</th>\n",
              "      <td>object</td>\n",
              "      <td>35929</td>\n",
              "      <td>0</td>\n",
              "      <td>0.000000</td>\n",
              "      <td>2</td>\n",
              "    </tr>\n",
              "    <tr>\n",
              "      <th>Price</th>\n",
              "      <td>object</td>\n",
              "      <td>35929</td>\n",
              "      <td>0</td>\n",
              "      <td>0.000000</td>\n",
              "      <td>9</td>\n",
              "    </tr>\n",
              "    <tr>\n",
              "      <th>Content Rating</th>\n",
              "      <td>object</td>\n",
              "      <td>35929</td>\n",
              "      <td>0</td>\n",
              "      <td>0.000000</td>\n",
              "      <td>5</td>\n",
              "    </tr>\n",
              "    <tr>\n",
              "      <th>Genres</th>\n",
              "      <td>object</td>\n",
              "      <td>35929</td>\n",
              "      <td>0</td>\n",
              "      <td>0.000000</td>\n",
              "      <td>67</td>\n",
              "    </tr>\n",
              "    <tr>\n",
              "      <th>Last Updated</th>\n",
              "      <td>datetime64[ns]</td>\n",
              "      <td>35929</td>\n",
              "      <td>0</td>\n",
              "      <td>0.000000</td>\n",
              "      <td>247</td>\n",
              "    </tr>\n",
              "    <tr>\n",
              "      <th>Current Ver</th>\n",
              "      <td>object</td>\n",
              "      <td>35929</td>\n",
              "      <td>0</td>\n",
              "      <td>0.000000</td>\n",
              "      <td>498</td>\n",
              "    </tr>\n",
              "    <tr>\n",
              "      <th>Android Ver</th>\n",
              "      <td>object</td>\n",
              "      <td>35929</td>\n",
              "      <td>0</td>\n",
              "      <td>0.000000</td>\n",
              "      <td>22</td>\n",
              "    </tr>\n",
              "    <tr>\n",
              "      <th>Size_in_MB</th>\n",
              "      <td>float64</td>\n",
              "      <td>24069</td>\n",
              "      <td>11860</td>\n",
              "      <td>0.330095</td>\n",
              "      <td>165</td>\n",
              "    </tr>\n",
              "    <tr>\n",
              "      <th>price_in_dollar</th>\n",
              "      <td>float64</td>\n",
              "      <td>35929</td>\n",
              "      <td>0</td>\n",
              "      <td>0.000000</td>\n",
              "      <td>9</td>\n",
              "    </tr>\n",
              "    <tr>\n",
              "      <th>min_ver</th>\n",
              "      <td>float64</td>\n",
              "      <td>35929</td>\n",
              "      <td>0</td>\n",
              "      <td>0.000000</td>\n",
              "      <td>18</td>\n",
              "    </tr>\n",
              "    <tr>\n",
              "      <th>Translated_Review</th>\n",
              "      <td>object</td>\n",
              "      <td>35929</td>\n",
              "      <td>0</td>\n",
              "      <td>0.000000</td>\n",
              "      <td>26682</td>\n",
              "    </tr>\n",
              "    <tr>\n",
              "      <th>Sentiment</th>\n",
              "      <td>object</td>\n",
              "      <td>35929</td>\n",
              "      <td>0</td>\n",
              "      <td>0.000000</td>\n",
              "      <td>3</td>\n",
              "    </tr>\n",
              "    <tr>\n",
              "      <th>Sentiment_Polarity</th>\n",
              "      <td>float64</td>\n",
              "      <td>35929</td>\n",
              "      <td>0</td>\n",
              "      <td>0.000000</td>\n",
              "      <td>5295</td>\n",
              "    </tr>\n",
              "    <tr>\n",
              "      <th>Sentiment_Subjectivity</th>\n",
              "      <td>float64</td>\n",
              "      <td>35929</td>\n",
              "      <td>0</td>\n",
              "      <td>0.000000</td>\n",
              "      <td>4382</td>\n",
              "    </tr>\n",
              "  </tbody>\n",
              "</table>\n",
              "</div>\n",
              "      <button class=\"colab-df-convert\" onclick=\"convertToInteractive('df-1c8d09ee-d481-4311-abf7-7cc7a28ae668')\"\n",
              "              title=\"Convert this dataframe to an interactive table.\"\n",
              "              style=\"display:none;\">\n",
              "        \n",
              "  <svg xmlns=\"http://www.w3.org/2000/svg\" height=\"24px\"viewBox=\"0 0 24 24\"\n",
              "       width=\"24px\">\n",
              "    <path d=\"M0 0h24v24H0V0z\" fill=\"none\"/>\n",
              "    <path d=\"M18.56 5.44l.94 2.06.94-2.06 2.06-.94-2.06-.94-.94-2.06-.94 2.06-2.06.94zm-11 1L8.5 8.5l.94-2.06 2.06-.94-2.06-.94L8.5 2.5l-.94 2.06-2.06.94zm10 10l.94 2.06.94-2.06 2.06-.94-2.06-.94-.94-2.06-.94 2.06-2.06.94z\"/><path d=\"M17.41 7.96l-1.37-1.37c-.4-.4-.92-.59-1.43-.59-.52 0-1.04.2-1.43.59L10.3 9.45l-7.72 7.72c-.78.78-.78 2.05 0 2.83L4 21.41c.39.39.9.59 1.41.59.51 0 1.02-.2 1.41-.59l7.78-7.78 2.81-2.81c.8-.78.8-2.07 0-2.86zM5.41 20L4 18.59l7.72-7.72 1.47 1.35L5.41 20z\"/>\n",
              "  </svg>\n",
              "      </button>\n",
              "      \n",
              "  <style>\n",
              "    .colab-df-container {\n",
              "      display:flex;\n",
              "      flex-wrap:wrap;\n",
              "      gap: 12px;\n",
              "    }\n",
              "\n",
              "    .colab-df-convert {\n",
              "      background-color: #E8F0FE;\n",
              "      border: none;\n",
              "      border-radius: 50%;\n",
              "      cursor: pointer;\n",
              "      display: none;\n",
              "      fill: #1967D2;\n",
              "      height: 32px;\n",
              "      padding: 0 0 0 0;\n",
              "      width: 32px;\n",
              "    }\n",
              "\n",
              "    .colab-df-convert:hover {\n",
              "      background-color: #E2EBFA;\n",
              "      box-shadow: 0px 1px 2px rgba(60, 64, 67, 0.3), 0px 1px 3px 1px rgba(60, 64, 67, 0.15);\n",
              "      fill: #174EA6;\n",
              "    }\n",
              "\n",
              "    [theme=dark] .colab-df-convert {\n",
              "      background-color: #3B4455;\n",
              "      fill: #D2E3FC;\n",
              "    }\n",
              "\n",
              "    [theme=dark] .colab-df-convert:hover {\n",
              "      background-color: #434B5C;\n",
              "      box-shadow: 0px 1px 3px 1px rgba(0, 0, 0, 0.15);\n",
              "      filter: drop-shadow(0px 1px 2px rgba(0, 0, 0, 0.3));\n",
              "      fill: #FFFFFF;\n",
              "    }\n",
              "  </style>\n",
              "\n",
              "      <script>\n",
              "        const buttonEl =\n",
              "          document.querySelector('#df-1c8d09ee-d481-4311-abf7-7cc7a28ae668 button.colab-df-convert');\n",
              "        buttonEl.style.display =\n",
              "          google.colab.kernel.accessAllowed ? 'block' : 'none';\n",
              "\n",
              "        async function convertToInteractive(key) {\n",
              "          const element = document.querySelector('#df-1c8d09ee-d481-4311-abf7-7cc7a28ae668');\n",
              "          const dataTable =\n",
              "            await google.colab.kernel.invokeFunction('convertToInteractive',\n",
              "                                                     [key], {});\n",
              "          if (!dataTable) return;\n",
              "\n",
              "          const docLinkHtml = 'Like what you see? Visit the ' +\n",
              "            '<a target=\"_blank\" href=https://colab.research.google.com/notebooks/data_table.ipynb>data table notebook</a>'\n",
              "            + ' to learn more about interactive tables.';\n",
              "          element.innerHTML = '';\n",
              "          dataTable['output_type'] = 'display_data';\n",
              "          await google.colab.output.renderOutput(dataTable, element);\n",
              "          const docLink = document.createElement('div');\n",
              "          docLink.innerHTML = docLinkHtml;\n",
              "          element.appendChild(docLink);\n",
              "        }\n",
              "      </script>\n",
              "    </div>\n",
              "  </div>\n",
              "  "
            ]
          },
          "metadata": {},
          "execution_count": 77
        }
      ],
      "source": [
        "def merged_dfinfo():\n",
        "  temp = pd.DataFrame(index=merged_df.columns)\n",
        "  temp['data_type'] = merged_df.dtypes\n",
        "  temp[\"count of non null values\"] = merged_df.count()\n",
        "  temp['NaN values'] = merged_df.isnull().sum()\n",
        "  temp['% NaN values'] =merged_df.isnull().mean()\n",
        "  temp['unique_count'] = merged_df.nunique() \n",
        "  return temp\n",
        "merged_dfinfo()"
      ]
    },
    {
      "cell_type": "code",
      "execution_count": null,
      "metadata": {
        "colab": {
          "base_uri": "https://localhost:8080/",
          "height": 300
        },
        "id": "BRa10BL_AdEr",
        "outputId": "40883d59-be31-4cdb-d5a1-65bf5a0a4d5b"
      },
      "outputs": [
        {
          "output_type": "execute_result",
          "data": {
            "text/plain": [
              "                          Rating   Reviews  Installs  Size_in_MB  \\\n",
              "Rating                  1.000000  0.075736  0.020145    0.167536   \n",
              "Reviews                 0.075736  1.000000  0.564256    0.430136   \n",
              "Installs                0.020145  0.564256  1.000000    0.213743   \n",
              "Size_in_MB              0.167536  0.430136  0.213743    1.000000   \n",
              "price_in_dollar        -0.010055 -0.020591 -0.025213   -0.019786   \n",
              "min_ver                -0.051343 -0.098488 -0.211734    0.125560   \n",
              "Sentiment_Polarity      0.092903 -0.080021 -0.057842   -0.159388   \n",
              "Sentiment_Subjectivity  0.068758 -0.009315 -0.006307    0.009183   \n",
              "\n",
              "                        price_in_dollar   min_ver  Sentiment_Polarity  \\\n",
              "Rating                        -0.010055 -0.051343            0.092903   \n",
              "Reviews                       -0.020591 -0.098488           -0.080021   \n",
              "Installs                      -0.025213 -0.211734           -0.057842   \n",
              "Size_in_MB                    -0.019786  0.125560           -0.159388   \n",
              "price_in_dollar                1.000000  0.038220            0.024148   \n",
              "min_ver                        0.038220  1.000000           -0.016333   \n",
              "Sentiment_Polarity             0.024148 -0.016333            1.000000   \n",
              "Sentiment_Subjectivity         0.003182  0.007466            0.259668   \n",
              "\n",
              "                        Sentiment_Subjectivity  \n",
              "Rating                                0.068758  \n",
              "Reviews                              -0.009315  \n",
              "Installs                             -0.006307  \n",
              "Size_in_MB                            0.009183  \n",
              "price_in_dollar                       0.003182  \n",
              "min_ver                               0.007466  \n",
              "Sentiment_Polarity                    0.259668  \n",
              "Sentiment_Subjectivity                1.000000  "
            ],
            "text/html": [
              "\n",
              "  <div id=\"df-35e67ee6-deb1-417d-9509-a0b0ea5c2aec\">\n",
              "    <div class=\"colab-df-container\">\n",
              "      <div>\n",
              "<style scoped>\n",
              "    .dataframe tbody tr th:only-of-type {\n",
              "        vertical-align: middle;\n",
              "    }\n",
              "\n",
              "    .dataframe tbody tr th {\n",
              "        vertical-align: top;\n",
              "    }\n",
              "\n",
              "    .dataframe thead th {\n",
              "        text-align: right;\n",
              "    }\n",
              "</style>\n",
              "<table border=\"1\" class=\"dataframe\">\n",
              "  <thead>\n",
              "    <tr style=\"text-align: right;\">\n",
              "      <th></th>\n",
              "      <th>Rating</th>\n",
              "      <th>Reviews</th>\n",
              "      <th>Installs</th>\n",
              "      <th>Size_in_MB</th>\n",
              "      <th>price_in_dollar</th>\n",
              "      <th>min_ver</th>\n",
              "      <th>Sentiment_Polarity</th>\n",
              "      <th>Sentiment_Subjectivity</th>\n",
              "    </tr>\n",
              "  </thead>\n",
              "  <tbody>\n",
              "    <tr>\n",
              "      <th>Rating</th>\n",
              "      <td>1.000000</td>\n",
              "      <td>0.075736</td>\n",
              "      <td>0.020145</td>\n",
              "      <td>0.167536</td>\n",
              "      <td>-0.010055</td>\n",
              "      <td>-0.051343</td>\n",
              "      <td>0.092903</td>\n",
              "      <td>0.068758</td>\n",
              "    </tr>\n",
              "    <tr>\n",
              "      <th>Reviews</th>\n",
              "      <td>0.075736</td>\n",
              "      <td>1.000000</td>\n",
              "      <td>0.564256</td>\n",
              "      <td>0.430136</td>\n",
              "      <td>-0.020591</td>\n",
              "      <td>-0.098488</td>\n",
              "      <td>-0.080021</td>\n",
              "      <td>-0.009315</td>\n",
              "    </tr>\n",
              "    <tr>\n",
              "      <th>Installs</th>\n",
              "      <td>0.020145</td>\n",
              "      <td>0.564256</td>\n",
              "      <td>1.000000</td>\n",
              "      <td>0.213743</td>\n",
              "      <td>-0.025213</td>\n",
              "      <td>-0.211734</td>\n",
              "      <td>-0.057842</td>\n",
              "      <td>-0.006307</td>\n",
              "    </tr>\n",
              "    <tr>\n",
              "      <th>Size_in_MB</th>\n",
              "      <td>0.167536</td>\n",
              "      <td>0.430136</td>\n",
              "      <td>0.213743</td>\n",
              "      <td>1.000000</td>\n",
              "      <td>-0.019786</td>\n",
              "      <td>0.125560</td>\n",
              "      <td>-0.159388</td>\n",
              "      <td>0.009183</td>\n",
              "    </tr>\n",
              "    <tr>\n",
              "      <th>price_in_dollar</th>\n",
              "      <td>-0.010055</td>\n",
              "      <td>-0.020591</td>\n",
              "      <td>-0.025213</td>\n",
              "      <td>-0.019786</td>\n",
              "      <td>1.000000</td>\n",
              "      <td>0.038220</td>\n",
              "      <td>0.024148</td>\n",
              "      <td>0.003182</td>\n",
              "    </tr>\n",
              "    <tr>\n",
              "      <th>min_ver</th>\n",
              "      <td>-0.051343</td>\n",
              "      <td>-0.098488</td>\n",
              "      <td>-0.211734</td>\n",
              "      <td>0.125560</td>\n",
              "      <td>0.038220</td>\n",
              "      <td>1.000000</td>\n",
              "      <td>-0.016333</td>\n",
              "      <td>0.007466</td>\n",
              "    </tr>\n",
              "    <tr>\n",
              "      <th>Sentiment_Polarity</th>\n",
              "      <td>0.092903</td>\n",
              "      <td>-0.080021</td>\n",
              "      <td>-0.057842</td>\n",
              "      <td>-0.159388</td>\n",
              "      <td>0.024148</td>\n",
              "      <td>-0.016333</td>\n",
              "      <td>1.000000</td>\n",
              "      <td>0.259668</td>\n",
              "    </tr>\n",
              "    <tr>\n",
              "      <th>Sentiment_Subjectivity</th>\n",
              "      <td>0.068758</td>\n",
              "      <td>-0.009315</td>\n",
              "      <td>-0.006307</td>\n",
              "      <td>0.009183</td>\n",
              "      <td>0.003182</td>\n",
              "      <td>0.007466</td>\n",
              "      <td>0.259668</td>\n",
              "      <td>1.000000</td>\n",
              "    </tr>\n",
              "  </tbody>\n",
              "</table>\n",
              "</div>\n",
              "      <button class=\"colab-df-convert\" onclick=\"convertToInteractive('df-35e67ee6-deb1-417d-9509-a0b0ea5c2aec')\"\n",
              "              title=\"Convert this dataframe to an interactive table.\"\n",
              "              style=\"display:none;\">\n",
              "        \n",
              "  <svg xmlns=\"http://www.w3.org/2000/svg\" height=\"24px\"viewBox=\"0 0 24 24\"\n",
              "       width=\"24px\">\n",
              "    <path d=\"M0 0h24v24H0V0z\" fill=\"none\"/>\n",
              "    <path d=\"M18.56 5.44l.94 2.06.94-2.06 2.06-.94-2.06-.94-.94-2.06-.94 2.06-2.06.94zm-11 1L8.5 8.5l.94-2.06 2.06-.94-2.06-.94L8.5 2.5l-.94 2.06-2.06.94zm10 10l.94 2.06.94-2.06 2.06-.94-2.06-.94-.94-2.06-.94 2.06-2.06.94z\"/><path d=\"M17.41 7.96l-1.37-1.37c-.4-.4-.92-.59-1.43-.59-.52 0-1.04.2-1.43.59L10.3 9.45l-7.72 7.72c-.78.78-.78 2.05 0 2.83L4 21.41c.39.39.9.59 1.41.59.51 0 1.02-.2 1.41-.59l7.78-7.78 2.81-2.81c.8-.78.8-2.07 0-2.86zM5.41 20L4 18.59l7.72-7.72 1.47 1.35L5.41 20z\"/>\n",
              "  </svg>\n",
              "      </button>\n",
              "      \n",
              "  <style>\n",
              "    .colab-df-container {\n",
              "      display:flex;\n",
              "      flex-wrap:wrap;\n",
              "      gap: 12px;\n",
              "    }\n",
              "\n",
              "    .colab-df-convert {\n",
              "      background-color: #E8F0FE;\n",
              "      border: none;\n",
              "      border-radius: 50%;\n",
              "      cursor: pointer;\n",
              "      display: none;\n",
              "      fill: #1967D2;\n",
              "      height: 32px;\n",
              "      padding: 0 0 0 0;\n",
              "      width: 32px;\n",
              "    }\n",
              "\n",
              "    .colab-df-convert:hover {\n",
              "      background-color: #E2EBFA;\n",
              "      box-shadow: 0px 1px 2px rgba(60, 64, 67, 0.3), 0px 1px 3px 1px rgba(60, 64, 67, 0.15);\n",
              "      fill: #174EA6;\n",
              "    }\n",
              "\n",
              "    [theme=dark] .colab-df-convert {\n",
              "      background-color: #3B4455;\n",
              "      fill: #D2E3FC;\n",
              "    }\n",
              "\n",
              "    [theme=dark] .colab-df-convert:hover {\n",
              "      background-color: #434B5C;\n",
              "      box-shadow: 0px 1px 3px 1px rgba(0, 0, 0, 0.15);\n",
              "      filter: drop-shadow(0px 1px 2px rgba(0, 0, 0, 0.3));\n",
              "      fill: #FFFFFF;\n",
              "    }\n",
              "  </style>\n",
              "\n",
              "      <script>\n",
              "        const buttonEl =\n",
              "          document.querySelector('#df-35e67ee6-deb1-417d-9509-a0b0ea5c2aec button.colab-df-convert');\n",
              "        buttonEl.style.display =\n",
              "          google.colab.kernel.accessAllowed ? 'block' : 'none';\n",
              "\n",
              "        async function convertToInteractive(key) {\n",
              "          const element = document.querySelector('#df-35e67ee6-deb1-417d-9509-a0b0ea5c2aec');\n",
              "          const dataTable =\n",
              "            await google.colab.kernel.invokeFunction('convertToInteractive',\n",
              "                                                     [key], {});\n",
              "          if (!dataTable) return;\n",
              "\n",
              "          const docLinkHtml = 'Like what you see? Visit the ' +\n",
              "            '<a target=\"_blank\" href=https://colab.research.google.com/notebooks/data_table.ipynb>data table notebook</a>'\n",
              "            + ' to learn more about interactive tables.';\n",
              "          element.innerHTML = '';\n",
              "          dataTable['output_type'] = 'display_data';\n",
              "          await google.colab.output.renderOutput(dataTable, element);\n",
              "          const docLink = document.createElement('div');\n",
              "          docLink.innerHTML = docLinkHtml;\n",
              "          element.appendChild(docLink);\n",
              "        }\n",
              "      </script>\n",
              "    </div>\n",
              "  </div>\n",
              "  "
            ]
          },
          "metadata": {},
          "execution_count": 78
        }
      ],
      "source": [
        "merged_df.corr()"
      ]
    },
    {
      "cell_type": "code",
      "execution_count": null,
      "metadata": {
        "colab": {
          "base_uri": "https://localhost:8080/",
          "height": 630
        },
        "id": "L8aZ507nAhY7",
        "outputId": "2bf08c7e-2b9a-44da-c58c-7981db127f66"
      },
      "outputs": [
        {
          "output_type": "execute_result",
          "data": {
            "text/plain": [
              "Text(0.5, 1.0, ' Heatmap for merged Dataframe')"
            ]
          },
          "metadata": {},
          "execution_count": 79
        },
        {
          "output_type": "display_data",
          "data": {
            "text/plain": [
              "<Figure size 1584x720 with 2 Axes>"
            ],
            "image/png": "[encoded data removed]"
          },
          "metadata": {
            "needs_background": "light"
          }
        }
      ],
      "source": [
        "# Correlation heatmap\n",
        "# Heat Map for the merged data frame\n",
        "plt.rcParams['figure.figsize'] = (22, 10)\n",
        "sns.heatmap(merged_df.corr(), annot= True, cmap='Greens')\n",
        "plt.title(' Heatmap for merged Dataframe', size=20)"
      ]
    },
    {
      "cell_type": "markdown",
      "metadata": {
        "id": "_A2yYb3HA6Yn"
      },
      "source": [
        "## Q2-What is the ratio of number of Paid apps and Free apps?"
      ]
    },
    {
      "cell_type": "code",
      "execution_count": null,
      "metadata": {
        "id": "qyxXKQFRBvB1"
      },
      "outputs": [],
      "source": [
        "data = df['Type'].value_counts() \n",
        "labels = ['Free', 'Paid']"
      ]
    },
    {
      "cell_type": "code",
      "execution_count": null,
      "metadata": {
        "colab": {
          "base_uri": "https://localhost:8080/",
          "height": 609
        },
        "id": "rOtGtQlLCPaG",
        "outputId": "186bb320-54e5-4a09-f1e3-b81170c42fa8"
      },
      "outputs": [
        {
          "output_type": "execute_result",
          "data": {
            "text/plain": [
              "<matplotlib.legend.Legend at 0x7f69bc2b8610>"
            ]
          },
          "metadata": {},
          "execution_count": 81
        },
        {
          "output_type": "display_data",
          "data": {
            "text/plain": [
              "<Figure size 720x720 with 1 Axes>"
            ],
            "image/png": "[encoded data removed]"
          },
          "metadata": {}
        }
      ],
      "source": [
        "\n",
        "# create pie chart\n",
        "plt.figure(figsize=(10,10))\n",
        "colors = [\"#00EE76\",\"#7B8895\"]\n",
        "explode=(0.01,0.1)\n",
        "plt.pie(data, labels = labels, colors = colors, autopct='%.2f%%',explode=explode,textprops={'fontsize': 15})\n",
        "plt.title('Distribution of Paid and Free apps',size=15,loc='center')\n",
        "plt.legend()"
      ]
    },
    {
      "cell_type": "markdown",
      "metadata": {
        "id": "0rOZWBB1DQdI"
      },
      "source": [
        "**Observation:**\n",
        "\n",
        "From the above graph we can see that 92% of apps in google play store are free and 8% are paid."
      ]
    },
    {
      "cell_type": "markdown",
      "metadata": {
        "id": "ZCeHJhjmzWvf"
      },
      "source": [
        "# Q3-Distribution of apps in terms of rating"
      ]
    },
    {
      "cell_type": "markdown",
      "metadata": {
        "id": "tYmJe8uN_gHs"
      },
      "source": [
        "###Distribution of rating coloumn"
      ]
    },
    {
      "cell_type": "code",
      "execution_count": null,
      "metadata": {
        "colab": {
          "base_uri": "https://localhost:8080/",
          "height": 409
        },
        "id": "ZGseq1ty2sZD",
        "outputId": "f1e3f17f-e4b9-431e-e0d9-1014e49729f4"
      },
      "outputs": [
        {
          "output_type": "execute_result",
          "data": {
            "text/plain": [
              "<matplotlib.lines.Line2D at 0x7f69bf0ac610>"
            ]
          },
          "metadata": {},
          "execution_count": 82
        },
        {
          "output_type": "display_data",
          "data": {
            "text/plain": [
              "<Figure size 720x360 with 1 Axes>"
            ],
            "image/png": "[encoded data removed]"
          },
          "metadata": {}
        }
      ],
      "source": [
        "#first check the distribution of the rating coloumn\n",
        "plt.style.use('ggplot')\n",
        "sns.displot(data=df[\"Rating\"],kde = True,height=5, aspect=2,color=\"darkblue\")\n",
        "plt.xlabel(\"Rating\", fontsize = 16)\n",
        "plt.ylabel(\"Count\", fontsize = 16)\n",
        "plt.title(\"Distribution Of Rating\", fontsize = 20)\n",
        "plt.axvline(x=df[\"Rating\"].mean(),color='red')"
      ]
    },
    {
      "cell_type": "markdown",
      "metadata": {
        "id": "UxkONH8hrpL5"
      },
      "source": [
        "### Observations\n",
        "\n",
        "\n",
        "*   Most of the apps are rated between 4.0 to 4.6\n",
        "*   The average rating is close to 4.2\n",
        "\n"
      ]
    },
    {
      "cell_type": "markdown",
      "metadata": {
        "id": "b6yHEUnq_zlx"
      },
      "source": [
        "###Number of apps in terms of ratings"
      ]
    },
    {
      "cell_type": "code",
      "execution_count": null,
      "metadata": {
        "id": "_G-jYm4_RWir"
      },
      "outputs": [],
      "source": [
        "#function to create color map list\n",
        "def colormap():\n",
        "  '''this function will return a color_list that as per the values of the df_rating_dist['Ratings'] series used for the color coding of \n",
        "     the bar chart representing df_rating_dist['Ratings'] series '''\n",
        "  color_list=[]\n",
        "  for i,item in df_rating_dist['Ratings'].iteritems():\n",
        "    if item>=4:\n",
        "      color_list.append(\"blue\")\n",
        "    elif item<4 and item>=3:\n",
        "      color_list.append(\"yellow\")\n",
        "    else:\n",
        "      color_list.append(\"red\")\n",
        "  return color_list\n",
        "\n",
        "\n",
        "\n"
      ]
    },
    {
      "cell_type": "code",
      "execution_count": null,
      "metadata": {
        "colab": {
          "base_uri": "https://localhost:8080/",
          "height": 535
        },
        "id": "etRUkrJH2854",
        "outputId": "a7e25c72-ebe8-4999-99ab-a349d2281981"
      },
      "outputs": [
        {
          "output_type": "display_data",
          "data": {
            "text/plain": [
              "<Figure size 1440x576 with 1 Axes>"
            ],
            "image/png": "[encoded data removed]"
          },
          "metadata": {}
        }
      ],
      "source": [
        "# bar chart for Number of apps with different ratings\n",
        "df_rating_dist=df[\"Rating\"].value_counts().reset_index().sort_values(by=['Rating'],ascending=False)\n",
        "df_rating_dist.rename(columns = {'index':'Ratings', 'Rating':'Number of Apps',\n",
        "                              }, inplace = True)\n",
        "plt.style.use('ggplot')\n",
        "bar=df_rating_dist.plot.bar(figsize=(20,8),x='Ratings',y='Number of Apps',color=colormap());\n",
        "plt.xlabel(\"Ratings\", fontsize = 16)\n",
        "plt.ylabel(\"Number of Apps\", fontsize = 16)\n",
        "plt.title(\"Distribution Of Apps in Terms of Rating\", fontsize = 20)\n",
        "plt.yticks(fontsize=14);\n",
        "plt.xticks(fontsize=14);\n",
        "\n",
        "\n"
      ]
    },
    {
      "cell_type": "markdown",
      "metadata": {
        "id": "kn0ggqUMtKrJ"
      },
      "source": [
        "### Observations\n",
        "\n",
        "\n",
        "*   Most number of app is rated with the rating 4.2,followed the rateings 4.3, 4.4, 4.5 respectively\n",
        "*   Blue bars representing the apps rated with 4.0 or above  contains the highest numbers of apps, followed by the yellow bars representing the apps rated between [3.0 to 4.0], followed by the red bars representing the apps rated bellow 3.0  \n",
        "\n"
      ]
    },
    {
      "cell_type": "markdown",
      "metadata": {
        "id": "lPezWzIqANwr"
      },
      "source": [
        "###percentge distribution of top rated apps vs average rated apps vs low rated apps"
      ]
    },
    {
      "cell_type": "code",
      "execution_count": null,
      "metadata": {
        "id": "34VB4Oyq-n9n"
      },
      "outputs": [],
      "source": [
        "#function to group the rating coloumn in 3 category\n",
        "def app_dist(item):\n",
        "  '''function to convert the rateing column into 3 category'''\n",
        "  if item>=4:\n",
        "      return \"top-rated apps\"\n",
        "  elif item<4 and item>=3:\n",
        "      return \"average-rated apps\"\n",
        "  else:\n",
        "      return \"low-rated apps\""
      ]
    },
    {
      "cell_type": "code",
      "execution_count": null,
      "metadata": {
        "colab": {
          "base_uri": "https://localhost:8080/",
          "height": 175
        },
        "id": "pSkZvY7xCRP0",
        "outputId": "5931e28d-cdaf-4296-c81e-65ff6e75a9be"
      },
      "outputs": [
        {
          "output_type": "execute_result",
          "data": {
            "text/plain": [
              "                    Percentage of Apps\n",
              "Rating category                       \n",
              "top-rated apps                    7739\n",
              "average-rated apps                1630\n",
              "low-rated apps                     279"
            ],
            "text/html": [
              "\n",
              "  <div id=\"df-0d1c9ed3-f06e-489a-94fd-cb4281f4fd19\">\n",
              "    <div class=\"colab-df-container\">\n",
              "      <div>\n",
              "<style scoped>\n",
              "    .dataframe tbody tr th:only-of-type {\n",
              "        vertical-align: middle;\n",
              "    }\n",
              "\n",
              "    .dataframe tbody tr th {\n",
              "        vertical-align: top;\n",
              "    }\n",
              "\n",
              "    .dataframe thead th {\n",
              "        text-align: right;\n",
              "    }\n",
              "</style>\n",
              "<table border=\"1\" class=\"dataframe\">\n",
              "  <thead>\n",
              "    <tr style=\"text-align: right;\">\n",
              "      <th></th>\n",
              "      <th>Percentage of Apps</th>\n",
              "    </tr>\n",
              "    <tr>\n",
              "      <th>Rating category</th>\n",
              "      <th></th>\n",
              "    </tr>\n",
              "  </thead>\n",
              "  <tbody>\n",
              "    <tr>\n",
              "      <th>top-rated apps</th>\n",
              "      <td>7739</td>\n",
              "    </tr>\n",
              "    <tr>\n",
              "      <th>average-rated apps</th>\n",
              "      <td>1630</td>\n",
              "    </tr>\n",
              "    <tr>\n",
              "      <th>low-rated apps</th>\n",
              "      <td>279</td>\n",
              "    </tr>\n",
              "  </tbody>\n",
              "</table>\n",
              "</div>\n",
              "      <button class=\"colab-df-convert\" onclick=\"convertToInteractive('df-0d1c9ed3-f06e-489a-94fd-cb4281f4fd19')\"\n",
              "              title=\"Convert this dataframe to an interactive table.\"\n",
              "              style=\"display:none;\">\n",
              "        \n",
              "  <svg xmlns=\"http://www.w3.org/2000/svg\" height=\"24px\"viewBox=\"0 0 24 24\"\n",
              "       width=\"24px\">\n",
              "    <path d=\"M0 0h24v24H0V0z\" fill=\"none\"/>\n",
              "    <path d=\"M18.56 5.44l.94 2.06.94-2.06 2.06-.94-2.06-.94-.94-2.06-.94 2.06-2.06.94zm-11 1L8.5 8.5l.94-2.06 2.06-.94-2.06-.94L8.5 2.5l-.94 2.06-2.06.94zm10 10l.94 2.06.94-2.06 2.06-.94-2.06-.94-.94-2.06-.94 2.06-2.06.94z\"/><path d=\"M17.41 7.96l-1.37-1.37c-.4-.4-.92-.59-1.43-.59-.52 0-1.04.2-1.43.59L10.3 9.45l-7.72 7.72c-.78.78-.78 2.05 0 2.83L4 21.41c.39.39.9.59 1.41.59.51 0 1.02-.2 1.41-.59l7.78-7.78 2.81-2.81c.8-.78.8-2.07 0-2.86zM5.41 20L4 18.59l7.72-7.72 1.47 1.35L5.41 20z\"/>\n",
              "  </svg>\n",
              "      </button>\n",
              "      \n",
              "  <style>\n",
              "    .colab-df-container {\n",
              "      display:flex;\n",
              "      flex-wrap:wrap;\n",
              "      gap: 12px;\n",
              "    }\n",
              "\n",
              "    .colab-df-convert {\n",
              "      background-color: #E8F0FE;\n",
              "      border: none;\n",
              "      border-radius: 50%;\n",
              "      cursor: pointer;\n",
              "      display: none;\n",
              "      fill: #1967D2;\n",
              "      height: 32px;\n",
              "      padding: 0 0 0 0;\n",
              "      width: 32px;\n",
              "    }\n",
              "\n",
              "    .colab-df-convert:hover {\n",
              "      background-color: #E2EBFA;\n",
              "      box-shadow: 0px 1px 2px rgba(60, 64, 67, 0.3), 0px 1px 3px 1px rgba(60, 64, 67, 0.15);\n",
              "      fill: #174EA6;\n",
              "    }\n",
              "\n",
              "    [theme=dark] .colab-df-convert {\n",
              "      background-color: #3B4455;\n",
              "      fill: #D2E3FC;\n",
              "    }\n",
              "\n",
              "    [theme=dark] .colab-df-convert:hover {\n",
              "      background-color: #434B5C;\n",
              "      box-shadow: 0px 1px 3px 1px rgba(0, 0, 0, 0.15);\n",
              "      filter: drop-shadow(0px 1px 2px rgba(0, 0, 0, 0.3));\n",
              "      fill: #FFFFFF;\n",
              "    }\n",
              "  </style>\n",
              "\n",
              "      <script>\n",
              "        const buttonEl =\n",
              "          document.querySelector('#df-0d1c9ed3-f06e-489a-94fd-cb4281f4fd19 button.colab-df-convert');\n",
              "        buttonEl.style.display =\n",
              "          google.colab.kernel.accessAllowed ? 'block' : 'none';\n",
              "\n",
              "        async function convertToInteractive(key) {\n",
              "          const element = document.querySelector('#df-0d1c9ed3-f06e-489a-94fd-cb4281f4fd19');\n",
              "          const dataTable =\n",
              "            await google.colab.kernel.invokeFunction('convertToInteractive',\n",
              "                                                     [key], {});\n",
              "          if (!dataTable) return;\n",
              "\n",
              "          const docLinkHtml = 'Like what you see? Visit the ' +\n",
              "            '<a target=\"_blank\" href=https://colab.research.google.com/notebooks/data_table.ipynb>data table notebook</a>'\n",
              "            + ' to learn more about interactive tables.';\n",
              "          element.innerHTML = '';\n",
              "          dataTable['output_type'] = 'display_data';\n",
              "          await google.colab.output.renderOutput(dataTable, element);\n",
              "          const docLink = document.createElement('div');\n",
              "          docLink.innerHTML = docLinkHtml;\n",
              "          element.appendChild(docLink);\n",
              "        }\n",
              "      </script>\n",
              "    </div>\n",
              "  </div>\n",
              "  "
            ]
          },
          "metadata": {},
          "execution_count": 86
        }
      ],
      "source": [
        "#number of apps in terms of rating category \n",
        "df_app_dist=df['Rating'].apply(lambda x:app_dist(x)).value_counts().reset_index()\n",
        "df_app_dist.rename(columns = { 'index':'Rating category','Rating':'Percentage of Apps',\n",
        "                              }, inplace = True)\n",
        "df_app_dist = df_app_dist.set_index('Rating category')\n",
        "df_app_dist"
      ]
    },
    {
      "cell_type": "code",
      "execution_count": null,
      "metadata": {
        "colab": {
          "base_uri": "https://localhost:8080/",
          "height": 428
        },
        "id": "0kFim4TBCRYd",
        "outputId": "90f2fe2c-6114-4543-b8c5-2e4161482dc4"
      },
      "outputs": [
        {
          "output_type": "display_data",
          "data": {
            "text/plain": [
              "<Figure size 720x504 with 1 Axes>"
            ],
            "image/png": "[encoded data removed]"
          },
          "metadata": {}
        }
      ],
      "source": [
        "#pie chart for parcentage distribution of ratteing of the apps\n",
        "explode = (0, 0.2, 0)\n",
        "labels = 'Top-Rated apps', 'Average-Rated Apps', 'Low-Rated Apps',\n",
        "wp = { 'linewidth' : 1, 'edgecolor' : \"green\" }\n",
        "fig, ax = plt.subplots(figsize =(10, 7))\n",
        "wedges, texts, autotexts=ax.pie(data=df_app_dist,x='Percentage of Apps',labels=labels,autopct='%1.1f%%',shadow=True,explode=explode,colors=['navajowhite','aquamarine','lightblue'],wedgeprops = wp,textprops = dict(color =\"magenta\"))\n",
        "plt.setp(autotexts, size = 15, weight =\"bold\")\n",
        "plt.legend( loc=1)\n",
        "ax.set_title(\"Apps Percentage In Terms Of Different Category Rating\");\n"
      ]
    },
    {
      "cell_type": "markdown",
      "metadata": {
        "id": "kv-wCFLGwJO9"
      },
      "source": [
        "### observations\n",
        "\n",
        "\n",
        "*   80.2% apps are top rated app(4.0 or above)\n",
        "*   16.9% apps are average rated app(3.0 to 3.9)\n",
        "*   2.9% apps are low rated app(1 to 2.9)\n",
        "\n",
        "\n",
        "\n",
        "\n",
        "\n",
        "\n",
        "\n"
      ]
    },
    {
      "cell_type": "markdown",
      "metadata": {
        "id": "-blnXQfNZgf3"
      },
      "source": [
        "# Q4- Total number of app in each category."
      ]
    },
    {
      "cell_type": "code",
      "execution_count": null,
      "metadata": {
        "id": "eoOEG0i1hshp"
      },
      "outputs": [],
      "source": [
        "# Creating temperory dataset which contain unique categories and no of apps in that category.\n",
        "cat_df = df.groupby('Category')['App'].count().sort_values(ascending = False).reset_index()"
      ]
    },
    {
      "cell_type": "code",
      "execution_count": null,
      "metadata": {
        "colab": {
          "base_uri": "https://localhost:8080/",
          "height": 542
        },
        "id": "RpK9IJzKcRIq",
        "outputId": "afdff823-0210-47cf-e750-60272e6e5634"
      },
      "outputs": [
        {
          "output_type": "display_data",
          "data": {
            "text/html": [
              "<html>\n",
              "<head><meta charset=\"utf-8\" /></head>\n",
              "<body>\n",
              "    <div>            <script src=\"https://cdnjs.cloudflare.com/ajax/libs/mathjax/2.7.5/MathJax.js?config=TeX-AMS-MML_SVG\"></script><script type=\"text/javascript\">if (window.MathJax) {MathJax.Hub.Config({SVG: {font: \"STIX-Web\"}});}</script>                <script type=\"text/javascript\">window.PlotlyConfig = {MathJaxConfig: 'local'};</script>\n",
              "        <script src=\"https://cdn.plot.ly/plotly-2.8.3.min.js\"></script>                <div id=\"91ee72b4-9d24-4ee0-b200-4f4c01425414\" class=\"plotly-graph-div\" style=\"height:525px; width:100%;\"></div>            <script type=\"text/javascript\">                                    window.PLOTLYENV=window.PLOTLYENV || {};                                    if (document.getElementById(\"91ee72b4-9d24-4ee0-b200-4f4c01425414\")) {                    Plotly.newPlot(                        \"91ee72b4-9d24-4ee0-b200-4f4c01425414\",                        [{\"alignmentgroup\":\"True\",\"hovertemplate\":\"Category=%{x}<br>Number of Apps=%{y}<extra></extra>\",\"legendgroup\":\"\",\"marker\":{\"color\":\"#636efa\",\"pattern\":{\"shape\":\"\"}},\"name\":\"\",\"offsetgroup\":\"\",\"orientation\":\"v\",\"showlegend\":false,\"textposition\":\"auto\",\"texttemplate\":\"%{y}\",\"x\":[\"FAMILY\",\"GAME\",\"TOOLS\",\"BUSINESS\",\"MEDICAL\",\"PERSONALIZATION\",\"PRODUCTIVITY\",\"LIFESTYLE\",\"FINANCE\",\"SPORTS\",\"COMMUNICATION\",\"HEALTH_AND_FITNESS\",\"PHOTOGRAPHY\",\"NEWS_AND_MAGAZINES\",\"SOCIAL\",\"BOOKS_AND_REFERENCE\",\"TRAVEL_AND_LOCAL\",\"SHOPPING\",\"DATING\",\"VIDEO_PLAYERS\",\"MAPS_AND_NAVIGATION\",\"EDUCATION\",\"FOOD_AND_DRINK\",\"ENTERTAINMENT\",\"AUTO_AND_VEHICLES\",\"LIBRARIES_AND_DEMO\",\"WEATHER\",\"HOUSE_AND_HOME\",\"EVENTS\",\"ART_AND_DESIGN\",\"PARENTING\",\"COMICS\",\"BEAUTY\"],\"xaxis\":\"x\",\"y\":[1828,959,825,420,395,374,374,369,345,325,315,288,281,254,239,221,219,202,171,163,131,119,112,102,85,83,79,74,64,63,60,56,53],\"yaxis\":\"y\",\"type\":\"bar\"}],                        {\"template\":{\"data\":{\"bar\":[{\"error_x\":{\"color\":\"#2a3f5f\"},\"error_y\":{\"color\":\"#2a3f5f\"},\"marker\":{\"line\":{\"color\":\"#E5ECF6\",\"width\":0.5},\"pattern\":{\"fillmode\":\"overlay\",\"size\":10,\"solidity\":0.2}},\"type\":\"bar\"}],\"barpolar\":[{\"marker\":{\"line\":{\"color\":\"#E5ECF6\",\"width\":0.5},\"pattern\":{\"fillmode\":\"overlay\",\"size\":10,\"solidity\":0.2}},\"type\":\"barpolar\"}],\"carpet\":[{\"aaxis\":{\"endlinecolor\":\"#2a3f5f\",\"gridcolor\":\"white\",\"linecolor\":\"white\",\"minorgridcolor\":\"white\",\"startlinecolor\":\"#2a3f5f\"},\"baxis\":{\"endlinecolor\":\"#2a3f5f\",\"gridcolor\":\"white\",\"linecolor\":\"white\",\"minorgridcolor\":\"white\",\"startlinecolor\":\"#2a3f5f\"},\"type\":\"carpet\"}],\"choropleth\":[{\"colorbar\":{\"outlinewidth\":0,\"ticks\":\"\"},\"type\":\"choropleth\"}],\"contour\":[{\"colorbar\":{\"outlinewidth\":0,\"ticks\":\"\"},\"colorscale\":[[0.0,\"#0d0887\"],[0.1111111111111111,\"#46039f\"],[0.2222222222222222,\"#7201a8\"],[0.3333333333333333,\"#9c179e\"],[0.4444444444444444,\"#bd3786\"],[0.5555555555555556,\"#d8576b\"],[0.6666666666666666,\"#ed7953\"],[0.7777777777777778,\"#fb9f3a\"],[0.8888888888888888,\"#fdca26\"],[1.0,\"#f0f921\"]],\"type\":\"contour\"}],\"contourcarpet\":[{\"colorbar\":{\"outlinewidth\":0,\"ticks\":\"\"},\"type\":\"contourcarpet\"}],\"heatmap\":[{\"colorbar\":{\"outlinewidth\":0,\"ticks\":\"\"},\"colorscale\":[[0.0,\"#0d0887\"],[0.1111111111111111,\"#46039f\"],[0.2222222222222222,\"#7201a8\"],[0.3333333333333333,\"#9c179e\"],[0.4444444444444444,\"#bd3786\"],[0.5555555555555556,\"#d8576b\"],[0.6666666666666666,\"#ed7953\"],[0.7777777777777778,\"#fb9f3a\"],[0.8888888888888888,\"#fdca26\"],[1.0,\"#f0f921\"]],\"type\":\"heatmap\"}],\"heatmapgl\":[{\"colorbar\":{\"outlinewidth\":0,\"ticks\":\"\"},\"colorscale\":[[0.0,\"#0d0887\"],[0.1111111111111111,\"#46039f\"],[0.2222222222222222,\"#7201a8\"],[0.3333333333333333,\"#9c179e\"],[0.4444444444444444,\"#bd3786\"],[0.5555555555555556,\"#d8576b\"],[0.6666666666666666,\"#ed7953\"],[0.7777777777777778,\"#fb9f3a\"],[0.8888888888888888,\"#fdca26\"],[1.0,\"#f0f921\"]],\"type\":\"heatmapgl\"}],\"histogram\":[{\"marker\":{\"pattern\":{\"fillmode\":\"overlay\",\"size\":10,\"solidity\":0.2}},\"type\":\"histogram\"}],\"histogram2d\":[{\"colorbar\":{\"outlinewidth\":0,\"ticks\":\"\"},\"colorscale\":[[0.0,\"#0d0887\"],[0.1111111111111111,\"#46039f\"],[0.2222222222222222,\"#7201a8\"],[0.3333333333333333,\"#9c179e\"],[0.4444444444444444,\"#bd3786\"],[0.5555555555555556,\"#d8576b\"],[0.6666666666666666,\"#ed7953\"],[0.7777777777777778,\"#fb9f3a\"],[0.8888888888888888,\"#fdca26\"],[1.0,\"#f0f921\"]],\"type\":\"histogram2d\"}],\"histogram2dcontour\":[{\"colorbar\":{\"outlinewidth\":0,\"ticks\":\"\"},\"colorscale\":[[0.0,\"#0d0887\"],[0.1111111111111111,\"#46039f\"],[0.2222222222222222,\"#7201a8\"],[0.3333333333333333,\"#9c179e\"],[0.4444444444444444,\"#bd3786\"],[0.5555555555555556,\"#d8576b\"],[0.6666666666666666,\"#ed7953\"],[0.7777777777777778,\"#fb9f3a\"],[0.8888888888888888,\"#fdca26\"],[1.0,\"#f0f921\"]],\"type\":\"histogram2dcontour\"}],\"mesh3d\":[{\"colorbar\":{\"outlinewidth\":0,\"ticks\":\"\"},\"type\":\"mesh3d\"}],\"parcoords\":[{\"line\":{\"colorbar\":{\"outlinewidth\":0,\"ticks\":\"\"}},\"type\":\"parcoords\"}],\"pie\":[{\"automargin\":true,\"type\":\"pie\"}],\"scatter\":[{\"marker\":{\"colorbar\":{\"outlinewidth\":0,\"ticks\":\"\"}},\"type\":\"scatter\"}],\"scatter3d\":[{\"line\":{\"colorbar\":{\"outlinewidth\":0,\"ticks\":\"\"}},\"marker\":{\"colorbar\":{\"outlinewidth\":0,\"ticks\":\"\"}},\"type\":\"scatter3d\"}],\"scattercarpet\":[{\"marker\":{\"colorbar\":{\"outlinewidth\":0,\"ticks\":\"\"}},\"type\":\"scattercarpet\"}],\"scattergeo\":[{\"marker\":{\"colorbar\":{\"outlinewidth\":0,\"ticks\":\"\"}},\"type\":\"scattergeo\"}],\"scattergl\":[{\"marker\":{\"colorbar\":{\"outlinewidth\":0,\"ticks\":\"\"}},\"type\":\"scattergl\"}],\"scattermapbox\":[{\"marker\":{\"colorbar\":{\"outlinewidth\":0,\"ticks\":\"\"}},\"type\":\"scattermapbox\"}],\"scatterpolar\":[{\"marker\":{\"colorbar\":{\"outlinewidth\":0,\"ticks\":\"\"}},\"type\":\"scatterpolar\"}],\"scatterpolargl\":[{\"marker\":{\"colorbar\":{\"outlinewidth\":0,\"ticks\":\"\"}},\"type\":\"scatterpolargl\"}],\"scatterternary\":[{\"marker\":{\"colorbar\":{\"outlinewidth\":0,\"ticks\":\"\"}},\"type\":\"scatterternary\"}],\"surface\":[{\"colorbar\":{\"outlinewidth\":0,\"ticks\":\"\"},\"colorscale\":[[0.0,\"#0d0887\"],[0.1111111111111111,\"#46039f\"],[0.2222222222222222,\"#7201a8\"],[0.3333333333333333,\"#9c179e\"],[0.4444444444444444,\"#bd3786\"],[0.5555555555555556,\"#d8576b\"],[0.6666666666666666,\"#ed7953\"],[0.7777777777777778,\"#fb9f3a\"],[0.8888888888888888,\"#fdca26\"],[1.0,\"#f0f921\"]],\"type\":\"surface\"}],\"table\":[{\"cells\":{\"fill\":{\"color\":\"#EBF0F8\"},\"line\":{\"color\":\"white\"}},\"header\":{\"fill\":{\"color\":\"#C8D4E3\"},\"line\":{\"color\":\"white\"}},\"type\":\"table\"}]},\"layout\":{\"annotationdefaults\":{\"arrowcolor\":\"#2a3f5f\",\"arrowhead\":0,\"arrowwidth\":1},\"autotypenumbers\":\"strict\",\"coloraxis\":{\"colorbar\":{\"outlinewidth\":0,\"ticks\":\"\"}},\"colorscale\":{\"diverging\":[[0,\"#8e0152\"],[0.1,\"#c51b7d\"],[0.2,\"#de77ae\"],[0.3,\"#f1b6da\"],[0.4,\"#fde0ef\"],[0.5,\"#f7f7f7\"],[0.6,\"#e6f5d0\"],[0.7,\"#b8e186\"],[0.8,\"#7fbc41\"],[0.9,\"#4d9221\"],[1,\"#276419\"]],\"sequential\":[[0.0,\"#0d0887\"],[0.1111111111111111,\"#46039f\"],[0.2222222222222222,\"#7201a8\"],[0.3333333333333333,\"#9c179e\"],[0.4444444444444444,\"#bd3786\"],[0.5555555555555556,\"#d8576b\"],[0.6666666666666666,\"#ed7953\"],[0.7777777777777778,\"#fb9f3a\"],[0.8888888888888888,\"#fdca26\"],[1.0,\"#f0f921\"]],\"sequentialminus\":[[0.0,\"#0d0887\"],[0.1111111111111111,\"#46039f\"],[0.2222222222222222,\"#7201a8\"],[0.3333333333333333,\"#9c179e\"],[0.4444444444444444,\"#bd3786\"],[0.5555555555555556,\"#d8576b\"],[0.6666666666666666,\"#ed7953\"],[0.7777777777777778,\"#fb9f3a\"],[0.8888888888888888,\"#fdca26\"],[1.0,\"#f0f921\"]]},\"colorway\":[\"#636efa\",\"#EF553B\",\"#00cc96\",\"#ab63fa\",\"#FFA15A\",\"#19d3f3\",\"#FF6692\",\"#B6E880\",\"#FF97FF\",\"#FECB52\"],\"font\":{\"color\":\"#2a3f5f\"},\"geo\":{\"bgcolor\":\"white\",\"lakecolor\":\"white\",\"landcolor\":\"#E5ECF6\",\"showlakes\":true,\"showland\":true,\"subunitcolor\":\"white\"},\"hoverlabel\":{\"align\":\"left\"},\"hovermode\":\"closest\",\"mapbox\":{\"style\":\"light\"},\"paper_bgcolor\":\"white\",\"plot_bgcolor\":\"#E5ECF6\",\"polar\":{\"angularaxis\":{\"gridcolor\":\"white\",\"linecolor\":\"white\",\"ticks\":\"\"},\"bgcolor\":\"#E5ECF6\",\"radialaxis\":{\"gridcolor\":\"white\",\"linecolor\":\"white\",\"ticks\":\"\"}},\"scene\":{\"xaxis\":{\"backgroundcolor\":\"#E5ECF6\",\"gridcolor\":\"white\",\"gridwidth\":2,\"linecolor\":\"white\",\"showbackground\":true,\"ticks\":\"\",\"zerolinecolor\":\"white\"},\"yaxis\":{\"backgroundcolor\":\"#E5ECF6\",\"gridcolor\":\"white\",\"gridwidth\":2,\"linecolor\":\"white\",\"showbackground\":true,\"ticks\":\"\",\"zerolinecolor\":\"white\"},\"zaxis\":{\"backgroundcolor\":\"#E5ECF6\",\"gridcolor\":\"white\",\"gridwidth\":2,\"linecolor\":\"white\",\"showbackground\":true,\"ticks\":\"\",\"zerolinecolor\":\"white\"}},\"shapedefaults\":{\"line\":{\"color\":\"#2a3f5f\"}},\"ternary\":{\"aaxis\":{\"gridcolor\":\"white\",\"linecolor\":\"white\",\"ticks\":\"\"},\"baxis\":{\"gridcolor\":\"white\",\"linecolor\":\"white\",\"ticks\":\"\"},\"bgcolor\":\"#E5ECF6\",\"caxis\":{\"gridcolor\":\"white\",\"linecolor\":\"white\",\"ticks\":\"\"}},\"title\":{\"x\":0.05},\"xaxis\":{\"automargin\":true,\"gridcolor\":\"white\",\"linecolor\":\"white\",\"ticks\":\"\",\"title\":{\"standoff\":15},\"zerolinecolor\":\"white\",\"zerolinewidth\":2},\"yaxis\":{\"automargin\":true,\"gridcolor\":\"white\",\"linecolor\":\"white\",\"ticks\":\"\",\"title\":{\"standoff\":15},\"zerolinecolor\":\"white\",\"zerolinewidth\":2}}},\"xaxis\":{\"anchor\":\"y\",\"domain\":[0.0,1.0],\"title\":{\"text\":\"Category\"}},\"yaxis\":{\"anchor\":\"x\",\"domain\":[0.0,1.0],\"title\":{\"text\":\"Number of Apps\"}},\"legend\":{\"tracegroupgap\":0},\"margin\":{\"t\":60},\"barmode\":\"relative\",\"title\":{\"font\":{\"size\":22,\"color\":\"black\",\"family\":\"Arial, sans-serif\"},\"text\":\"Number of Apps in each Category\",\"x\":0.5}},                        {\"responsive\": true}                    ).then(function(){\n",
              "                            \n",
              "var gd = document.getElementById('91ee72b4-9d24-4ee0-b200-4f4c01425414');\n",
              "var x = new MutationObserver(function (mutations, observer) {{\n",
              "        var display = window.getComputedStyle(gd).display;\n",
              "        if (!display || display === 'none') {{\n",
              "            console.log([gd, 'removed!']);\n",
              "            Plotly.purge(gd);\n",
              "            observer.disconnect();\n",
              "        }}\n",
              "}});\n",
              "\n",
              "// Listen for the removal of the full notebook cells\n",
              "var notebookContainer = gd.closest('#notebook-container');\n",
              "if (notebookContainer) {{\n",
              "    x.observe(notebookContainer, {childList: true});\n",
              "}}\n",
              "\n",
              "// Listen for the clearing of the current output cell\n",
              "var outputEl = gd.closest('.output');\n",
              "if (outputEl) {{\n",
              "    x.observe(outputEl, {childList: true});\n",
              "}}\n",
              "\n",
              "                        })                };                            </script>        </div>\n",
              "</body>\n",
              "</html>"
            ]
          },
          "metadata": {}
        }
      ],
      "source": [
        "# Plotting Bar graph.\n",
        "fig =px.bar(cat_df,x= 'Category',y= 'App',labels={'App':'Number of Apps'},text_auto=True)\n",
        "fig.update_layout(title_text='Number of Apps in each Category', title_x=0.5,titlefont=dict(size =22, color='black', family='Arial, sans-serif'))\n",
        "\n",
        "fig.show()"
      ]
    },
    {
      "cell_type": "markdown",
      "metadata": {
        "id": "Z8YFEilKwl-0"
      },
      "source": [
        "## **Observation:**\n",
        "### As we can see most number of apps in the Playstore are of **Family** category followed by **Game** and **Tools** category.\n",
        "### **Beauty** and **Comics** category has least number of apps."
      ]
    },
    {
      "cell_type": "markdown",
      "metadata": {
        "id": "v18Gqgx2iVLS"
      },
      "source": [
        "# Q5- Most apps in terms of content rating"
      ]
    },
    {
      "cell_type": "code",
      "execution_count": null,
      "metadata": {
        "colab": {
          "base_uri": "https://localhost:8080/",
          "height": 237
        },
        "id": "iuxjMQb66pkR",
        "outputId": "e84ae304-7dbf-4e6f-ff61-c9fbb58580cf"
      },
      "outputs": [
        {
          "output_type": "execute_result",
          "data": {
            "text/plain": [
              "    Content Rating   App\n",
              "0  Adults only 18+     3\n",
              "1         Everyone  7893\n",
              "2     Everyone 10+   321\n",
              "3       Mature 17+   393\n",
              "4             Teen  1036\n",
              "5          Unrated     2"
            ],
            "text/html": [
              "\n",
              "  <div id=\"df-90cdfbb0-23e5-4af2-b431-ac9a2f593887\">\n",
              "    <div class=\"colab-df-container\">\n",
              "      <div>\n",
              "<style scoped>\n",
              "    .dataframe tbody tr th:only-of-type {\n",
              "        vertical-align: middle;\n",
              "    }\n",
              "\n",
              "    .dataframe tbody tr th {\n",
              "        vertical-align: top;\n",
              "    }\n",
              "\n",
              "    .dataframe thead th {\n",
              "        text-align: right;\n",
              "    }\n",
              "</style>\n",
              "<table border=\"1\" class=\"dataframe\">\n",
              "  <thead>\n",
              "    <tr style=\"text-align: right;\">\n",
              "      <th></th>\n",
              "      <th>Content Rating</th>\n",
              "      <th>App</th>\n",
              "    </tr>\n",
              "  </thead>\n",
              "  <tbody>\n",
              "    <tr>\n",
              "      <th>0</th>\n",
              "      <td>Adults only 18+</td>\n",
              "      <td>3</td>\n",
              "    </tr>\n",
              "    <tr>\n",
              "      <th>1</th>\n",
              "      <td>Everyone</td>\n",
              "      <td>7893</td>\n",
              "    </tr>\n",
              "    <tr>\n",
              "      <th>2</th>\n",
              "      <td>Everyone 10+</td>\n",
              "      <td>321</td>\n",
              "    </tr>\n",
              "    <tr>\n",
              "      <th>3</th>\n",
              "      <td>Mature 17+</td>\n",
              "      <td>393</td>\n",
              "    </tr>\n",
              "    <tr>\n",
              "      <th>4</th>\n",
              "      <td>Teen</td>\n",
              "      <td>1036</td>\n",
              "    </tr>\n",
              "    <tr>\n",
              "      <th>5</th>\n",
              "      <td>Unrated</td>\n",
              "      <td>2</td>\n",
              "    </tr>\n",
              "  </tbody>\n",
              "</table>\n",
              "</div>\n",
              "      <button class=\"colab-df-convert\" onclick=\"convertToInteractive('df-90cdfbb0-23e5-4af2-b431-ac9a2f593887')\"\n",
              "              title=\"Convert this dataframe to an interactive table.\"\n",
              "              style=\"display:none;\">\n",
              "        \n",
              "  <svg xmlns=\"http://www.w3.org/2000/svg\" height=\"24px\"viewBox=\"0 0 24 24\"\n",
              "       width=\"24px\">\n",
              "    <path d=\"M0 0h24v24H0V0z\" fill=\"none\"/>\n",
              "    <path d=\"M18.56 5.44l.94 2.06.94-2.06 2.06-.94-2.06-.94-.94-2.06-.94 2.06-2.06.94zm-11 1L8.5 8.5l.94-2.06 2.06-.94-2.06-.94L8.5 2.5l-.94 2.06-2.06.94zm10 10l.94 2.06.94-2.06 2.06-.94-2.06-.94-.94-2.06-.94 2.06-2.06.94z\"/><path d=\"M17.41 7.96l-1.37-1.37c-.4-.4-.92-.59-1.43-.59-.52 0-1.04.2-1.43.59L10.3 9.45l-7.72 7.72c-.78.78-.78 2.05 0 2.83L4 21.41c.39.39.9.59 1.41.59.51 0 1.02-.2 1.41-.59l7.78-7.78 2.81-2.81c.8-.78.8-2.07 0-2.86zM5.41 20L4 18.59l7.72-7.72 1.47 1.35L5.41 20z\"/>\n",
              "  </svg>\n",
              "      </button>\n",
              "      \n",
              "  <style>\n",
              "    .colab-df-container {\n",
              "      display:flex;\n",
              "      flex-wrap:wrap;\n",
              "      gap: 12px;\n",
              "    }\n",
              "\n",
              "    .colab-df-convert {\n",
              "      background-color: #E8F0FE;\n",
              "      border: none;\n",
              "      border-radius: 50%;\n",
              "      cursor: pointer;\n",
              "      display: none;\n",
              "      fill: #1967D2;\n",
              "      height: 32px;\n",
              "      padding: 0 0 0 0;\n",
              "      width: 32px;\n",
              "    }\n",
              "\n",
              "    .colab-df-convert:hover {\n",
              "      background-color: #E2EBFA;\n",
              "      box-shadow: 0px 1px 2px rgba(60, 64, 67, 0.3), 0px 1px 3px 1px rgba(60, 64, 67, 0.15);\n",
              "      fill: #174EA6;\n",
              "    }\n",
              "\n",
              "    [theme=dark] .colab-df-convert {\n",
              "      background-color: #3B4455;\n",
              "      fill: #D2E3FC;\n",
              "    }\n",
              "\n",
              "    [theme=dark] .colab-df-convert:hover {\n",
              "      background-color: #434B5C;\n",
              "      box-shadow: 0px 1px 3px 1px rgba(0, 0, 0, 0.15);\n",
              "      filter: drop-shadow(0px 1px 2px rgba(0, 0, 0, 0.3));\n",
              "      fill: #FFFFFF;\n",
              "    }\n",
              "  </style>\n",
              "\n",
              "      <script>\n",
              "        const buttonEl =\n",
              "          document.querySelector('#df-90cdfbb0-23e5-4af2-b431-ac9a2f593887 button.colab-df-convert');\n",
              "        buttonEl.style.display =\n",
              "          google.colab.kernel.accessAllowed ? 'block' : 'none';\n",
              "\n",
              "        async function convertToInteractive(key) {\n",
              "          const element = document.querySelector('#df-90cdfbb0-23e5-4af2-b431-ac9a2f593887');\n",
              "          const dataTable =\n",
              "            await google.colab.kernel.invokeFunction('convertToInteractive',\n",
              "                                                     [key], {});\n",
              "          if (!dataTable) return;\n",
              "\n",
              "          const docLinkHtml = 'Like what you see? Visit the ' +\n",
              "            '<a target=\"_blank\" href=https://colab.research.google.com/notebooks/data_table.ipynb>data table notebook</a>'\n",
              "            + ' to learn more about interactive tables.';\n",
              "          element.innerHTML = '';\n",
              "          dataTable['output_type'] = 'display_data';\n",
              "          await google.colab.output.renderOutput(dataTable, element);\n",
              "          const docLink = document.createElement('div');\n",
              "          docLink.innerHTML = docLinkHtml;\n",
              "          element.appendChild(docLink);\n",
              "        }\n",
              "      </script>\n",
              "    </div>\n",
              "  </div>\n",
              "  "
            ]
          },
          "metadata": {},
          "execution_count": 90
        }
      ],
      "source": [
        "# Most apps in terms of Content Rating\n",
        "\n",
        "df.groupby(['Content Rating'])['App'].count().reset_index()\n"
      ]
    },
    {
      "cell_type": "code",
      "execution_count": null,
      "metadata": {
        "colab": {
          "base_uri": "https://localhost:8080/"
        },
        "id": "d5_GvvnXZhE0",
        "outputId": "d9dc05a8-0926-4a84-c94d-637522567105"
      },
      "outputs": [
        {
          "output_type": "execute_result",
          "data": {
            "text/plain": [
              "Everyone           7893\n",
              "Teen               1036\n",
              "Mature 17+          393\n",
              "Everyone 10+        321\n",
              "Adults only 18+       3\n",
              "Unrated               2\n",
              "Name: Content Rating, dtype: int64"
            ]
          },
          "metadata": {},
          "execution_count": 91
        }
      ],
      "source": [
        "ax = df['Content Rating'].value_counts()\n",
        "ax"
      ]
    },
    {
      "cell_type": "code",
      "execution_count": null,
      "metadata": {
        "colab": {
          "base_uri": "https://localhost:8080/",
          "height": 658
        },
        "id": "EUr3MCY8hdbv",
        "outputId": "acb83d0a-4d9d-429f-ba20-31f729f0f641"
      },
      "outputs": [
        {
          "output_type": "execute_result",
          "data": {
            "text/plain": [
              "Text(0.5, 0, 'Content Rating')"
            ]
          },
          "metadata": {},
          "execution_count": 92
        },
        {
          "output_type": "display_data",
          "data": {
            "text/plain": [
              "<Figure size 864x648 with 1 Axes>"
            ],
            "image/png": "[encoded data removed]"
          },
          "metadata": {}
        }
      ],
      "source": [
        "plt.figure(figsize=(12,9))\n",
        "ax.plot(kind='bar')\n",
        "plt.title('Most apps in terms of content rating')\n",
        "plt.ylabel('Apps')\n",
        "plt.xlabel('Content Rating')"
      ]
    },
    {
      "cell_type": "code",
      "execution_count": null,
      "metadata": {
        "colab": {
          "base_uri": "https://localhost:8080/",
          "height": 542
        },
        "id": "w6oiKfBoj1pH",
        "outputId": "2199007a-95aa-4dc1-9392-841cb5f41faf"
      },
      "outputs": [
        {
          "output_type": "display_data",
          "data": {
            "text/html": [
              "<html>\n",
              "<head><meta charset=\"utf-8\" /></head>\n",
              "<body>\n",
              "    <div>            <script src=\"https://cdnjs.cloudflare.com/ajax/libs/mathjax/2.7.5/MathJax.js?config=TeX-AMS-MML_SVG\"></script><script type=\"text/javascript\">if (window.MathJax) {MathJax.Hub.Config({SVG: {font: \"STIX-Web\"}});}</script>                <script type=\"text/javascript\">window.PlotlyConfig = {MathJaxConfig: 'local'};</script>\n",
              "        <script src=\"https://cdn.plot.ly/plotly-2.8.3.min.js\"></script>                <div id=\"07a100d7-6828-4a21-814b-cf8a08201e1d\" class=\"plotly-graph-div\" style=\"height:525px; width:100%;\"></div>            <script type=\"text/javascript\">                                    window.PLOTLYENV=window.PLOTLYENV || {};                                    if (document.getElementById(\"07a100d7-6828-4a21-814b-cf8a08201e1d\")) {                    Plotly.newPlot(                        \"07a100d7-6828-4a21-814b-cf8a08201e1d\",                        [{\"customdata\":[[\"Everyone\"],[\"Everyone\"],[\"Everyone\"],[\"Teen\"],[\"Everyone\"],[\"Everyone\"],[\"Everyone\"],[\"Everyone\"],[\"Everyone\"],[\"Everyone\"],[\"Everyone\"],[\"Everyone\"],[\"Teen\"],[\"Everyone\"],[\"Everyone\"],[\"Everyone\"],[\"Everyone\"],[\"Everyone\"],[\"Everyone\"],[\"Everyone\"],[\"Everyone\"],[\"Everyone 10+\"],[\"Everyone\"],[\"Everyone\"],[\"Everyone\"],[\"Everyone\"],[\"Everyone\"],[\"Everyone\"],[\"Everyone\"],[\"Everyone\"],[\"Everyone\"],[\"Everyone\"],[\"Everyone\"],[\"Teen\"],[\"Everyone\"],[\"Everyone\"],[\"Everyone\"],[\"Everyone\"],[\"Everyone\"],[\"Everyone\"],[\"Everyone\"],[\"Everyone\"],[\"Everyone\"],[\"Everyone\"],[\"Everyone\"],[\"Everyone\"],[\"Everyone\"],[\"Everyone\"],[\"Everyone\"],[\"Everyone\"],[\"Everyone\"],[\"Everyone\"],[\"Everyone\"],[\"Everyone\"],[\"Everyone\"],[\"Everyone\"],[\"Everyone\"],[\"Everyone\"],[\"Everyone\"],[\"Everyone\"],[\"Everyone\"],[\"Everyone\"],[\"Everyone\"],[\"Everyone\"],[\"Everyone\"],[\"Everyone\"],[\"Everyone\"],[\"Everyone\"],[\"Everyone\"],[\"Everyone\"],[\"Everyone\"],[\"Teen\"],[\"Everyone\"],[\"Everyone\"],[\"Everyone\"],[\"Everyone\"],[\"Everyone 10+\"],[\"Everyone\"],[\"Everyone\"],[\"Everyone\"],[\"Everyone\"],[\"Everyone\"],[\"Everyone\"],[\"Everyone\"],[\"Everyone\"],[\"Everyone\"],[\"Everyone\"],[\"Everyone\"],[\"Everyone\"],[\"Everyone\"],[\"Everyone\"],[\"Everyone\"],[\"Everyone\"],[\"Everyone\"],[\"Everyone\"],[\"Everyone\"],[\"Everyone\"],[\"Everyone\"],[\"Everyone\"],[\"Everyone\"],[\"Everyone\"],[\"Everyone\"],[\"Everyone\"],[\"Everyone\"],[\"Everyone\"],[\"Everyone\"],[\"Everyone\"],[\"Everyone\"],[\"Everyone\"],[\"Everyone\"],[\"Everyone\"],[\"Teen\"],[\"Everyone 10+\"],[\"Everyone\"],[\"Everyone\"],[\"Everyone\"],[\"Everyone\"],[\"Everyone\"],[\"Everyone\"],[\"Everyone\"],[\"Everyone\"],[\"Everyone\"],[\"Everyone\"],[\"Everyone\"],[\"Everyone\"],[\"Teen\"],[\"Everyone\"],[\"Everyone\"],[\"Mature 17+\"],[\"Everyone 10+\"],[\"Everyone\"],[\"Everyone\"],[\"Mature 17+\"],[\"Mature 17+\"],[\"Everyone\"],[\"Everyone\"],[\"Everyone\"],[\"Everyone\"],[\"Teen\"],[\"Everyone\"],[\"Everyone 10+\"],[\"Everyone\"],[\"Teen\"],[\"Everyone\"],[\"Everyone\"],[\"Teen\"],[\"Everyone\"],[\"Teen\"],[\"Everyone\"],[\"Everyone\"],[\"Teen\"],[\"Teen\"],[\"Everyone\"],[\"Everyone\"],[\"Everyone\"],[\"Everyone\"],[\"Teen\"],[\"Everyone\"],[\"Everyone\"],[\"Everyone\"],[\"Everyone\"],[\"Everyone\"],[\"Everyone\"],[\"Everyone\"],[\"Teen\"],[\"Mature 17+\"],[\"Everyone\"],[\"Everyone\"],[\"Everyone\"],[\"Mature 17+\"],[\"Everyone\"],[\"Everyone\"],[\"Everyone\"],[\"Everyone\"],[\"Everyone\"],[\"Everyone\"],[\"Everyone\"],[\"Everyone\"],[\"Everyone\"],[\"Everyone\"],[\"Everyone\"],[\"Everyone\"],[\"Everyone\"],[\"Everyone\"],[\"Everyone\"],[\"Everyone 10+\"],[\"Everyone\"],[\"Everyone\"],[\"Everyone\"],[\"Everyone\"],[\"Everyone\"],[\"Everyone\"],[\"Everyone\"],[\"Everyone\"],[\"Everyone\"],[\"Everyone\"],[\"Everyone\"],[\"Everyone\"],[\"Everyone\"],[\"Everyone\"],[\"Everyone\"],[\"Everyone\"],[\"Everyone\"],[\"Everyone\"],[\"Everyone\"],[\"Everyone\"],[\"Everyone\"],[\"Everyone\"],[\"Everyone\"],[\"Everyone\"],[\"Everyone\"],[\"Everyone\"],[\"Everyone\"],[\"Everyone\"],[\"Everyone\"],[\"Everyone\"],[\"Everyone\"],[\"Everyone\"],[\"Everyone\"],[\"Everyone\"],[\"Everyone\"],[\"Everyone\"],[\"Everyone\"],[\"Everyone\"],[\"Everyone\"],[\"Everyone\"],[\"Everyone\"],[\"Everyone\"],[\"Everyone\"],[\"Everyone\"],[\"Everyone\"],[\"Everyone\"],[\"Everyone\"],[\"Everyone\"],[\"Everyone\"],[\"Everyone\"],[\"Everyone\"],[\"Everyone\"],[\"Everyone\"],[\"Everyone\"],[\"Everyone\"],[\"Everyone\"],[\"Everyone\"],[\"Everyone\"],[\"Everyone\"],[\"Everyone\"],[\"Everyone\"],[\"Everyone\"],[\"Everyone\"],[\"Everyone\"],[\"Everyone\"],[\"Everyone\"],[\"Everyone\"],[\"Everyone\"],[\"Everyone\"],[\"Everyone\"],[\"Everyone\"],[\"Everyone\"],[\"Everyone\"],[\"Everyone\"],[\"Teen\"],[\"Adults only 18+\"],[\"Teen\"],[\"Everyone\"],[\"Everyone\"],[\"Mature 17+\"],[\"Mature 17+\"],[\"Teen\"],[\"Teen\"],[\"Everyone\"],[\"Everyone\"],[\"Everyone 10+\"],[\"Everyone\"],[\"Teen\"],[\"Teen\"],[\"Mature 17+\"],[\"Mature 17+\"],[\"Everyone\"],[\"Teen\"],[\"Teen\"],[\"Teen\"],[\"Teen\"],[\"Everyone\"],[\"Everyone\"],[\"Everyone\"],[\"Everyone\"],[\"Teen\"],[\"Mature 17+\"],[\"Teen\"],[\"Everyone 10+\"],[\"Mature 17+\"],[\"Everyone\"],[\"Everyone\"],[\"Everyone\"],[\"Teen\"],[\"Everyone\"],[\"Everyone\"],[\"Everyone\"],[\"Everyone\"],[\"Everyone\"],[\"Teen\"],[\"Everyone\"],[\"Everyone\"],[\"Everyone\"],[\"Everyone\"],[\"Everyone\"],[\"Everyone\"],[\"Everyone\"],[\"Everyone\"],[\"Everyone\"],[\"Everyone\"],[\"Everyone\"],[\"Everyone\"],[\"Everyone\"],[\"Everyone\"],[\"Everyone\"],[\"Everyone\"],[\"Everyone\"],[\"Everyone\"],[\"Everyone\"],[\"Everyone\"],[\"Everyone\"],[\"Everyone\"],[\"Everyone\"],[\"Everyone\"],[\"Mature 17+\"],[\"Teen\"],[\"Everyone\"],[\"Everyone\"],[\"Teen\"],[\"Everyone\"],[\"Everyone\"],[\"Everyone\"],[\"Mature 17+\"],[\"Everyone\"],[\"Everyone\"],[\"Everyone\"],[\"Everyone\"],[\"Everyone\"],[\"Everyone\"],[\"Teen\"],[\"Teen\"],[\"Everyone\"],[\"Everyone\"],[\"Everyone\"],[\"Everyone\"],[\"Everyone\"],[\"Everyone\"],[\"Everyone\"],[\"Everyone\"],[\"Everyone\"],[\"Everyone\"],[\"Everyone\"],[\"Everyone\"],[\"Everyone\"],[\"Everyone\"],[\"Everyone\"],[\"Everyone\"],[\"Everyone\"],[\"Everyone\"],[\"Everyone\"],[\"Everyone\"],[\"Everyone\"],[\"Everyone\"],[\"Everyone\"],[\"Everyone\"],[\"Everyone\"],[\"Everyone\"],[\"Everyone\"],[\"Everyone\"],[\"Everyone\"],[\"Everyone\"],[\"Everyone\"],[\"Everyone\"],[\"Everyone\"],[\"Everyone\"],[\"Everyone\"],[\"Mature 17+\"],[\"Mature 17+\"],[\"Everyone\"],[\"Everyone\"],[\"Everyone\"],[\"Everyone\"],[\"Everyone\"],[\"Everyone\"],[\"Everyone\"],[\"Everyone\"],[\"Everyone\"],[\"Everyone\"],[\"Everyone\"],[\"Everyone\"],[\"Everyone\"],[\"Everyone\"],[\"Everyone\"],[\"Everyone\"],[\"Everyone\"],[\"Everyone\"],[\"Everyone\"],[\"Everyone\"],[\"Everyone\"],[\"Everyone\"],[\"Everyone\"],[\"Everyone\"],[\"Everyone\"],[\"Everyone\"],[\"Mature 17+\"],[\"Everyone\"],[\"Teen\"],[\"Everyone\"],[\"Teen\"],[\"Mature 17+\"],[\"Mature 17+\"],[\"Mature 17+\"],[\"Mature 17+\"],[\"Mature 17+\"],[\"Mature 17+\"],[\"Mature 17+\"],[\"Mature 17+\"],[\"Mature 17+\"],[\"Mature 17+\"],[\"Mature 17+\"],[\"Mature 17+\"],[\"Mature 17+\"],[\"Mature 17+\"],[\"Mature 17+\"],[\"Mature 17+\"],[\"Mature 17+\"],[\"Mature 17+\"],[\"Mature 17+\"],[\"Mature 17+\"],[\"Mature 17+\"],[\"Mature 17+\"],[\"Mature 17+\"],[\"Mature 17+\"],[\"Mature 17+\"],[\"Mature 17+\"],[\"Mature 17+\"],[\"Mature 17+\"],[\"Mature 17+\"],[\"Mature 17+\"],[\"Mature 17+\"],[\"Mature 17+\"],[\"Mature 17+\"],[\"Mature 17+\"],[\"Mature 17+\"],[\"Mature 17+\"],[\"Mature 17+\"],[\"Mature 17+\"],[\"Mature 17+\"],[\"Mature 17+\"],[\"Mature 17+\"],[\"Mature 17+\"],[\"Mature 17+\"],[\"Everyone\"],[\"Mature 17+\"],[\"Mature 17+\"],[\"Mature 17+\"],[\"Teen\"],[\"Mature 17+\"],[\"Mature 17+\"],[\"Mature 17+\"],[\"Mature 17+\"],[\"Mature 17+\"],[\"Mature 17+\"],[\"Mature 17+\"],[\"Mature 17+\"],[\"Mature 17+\"],[\"Mature 17+\"],[\"Mature 17+\"],[\"Mature 17+\"],[\"Mature 17+\"],[\"Mature 17+\"],[\"Mature 17+\"],[\"Mature 17+\"],[\"Teen\"],[\"Mature 17+\"],[\"Mature 17+\"],[\"Mature 17+\"],[\"Mature 17+\"],[\"Mature 17+\"],[\"Mature 17+\"],[\"Mature 17+\"],[\"Mature 17+\"],[\"Mature 17+\"],[\"Mature 17+\"],[\"Mature 17+\"],[\"Mature 17+\"],[\"Mature 17+\"],[\"Mature 17+\"],[\"Mature 17+\"],[\"Mature 17+\"],[\"Mature 17+\"],[\"Mature 17+\"],[\"Mature 17+\"],[\"Mature 17+\"],[\"Mature 17+\"],[\"Mature 17+\"],[\"Mature 17+\"],[\"Mature 17+\"],[\"Mature 17+\"],[\"Mature 17+\"],[\"Everyone\"],[\"Mature 17+\"],[\"Everyone\"],[\"Mature 17+\"],[\"Mature 17+\"],[\"Mature 17+\"],[\"Mature 17+\"],[\"Mature 17+\"],[\"Mature 17+\"],[\"Mature 17+\"],[\"Mature 17+\"],[\"Mature 17+\"],[\"Mature 17+\"],[\"Mature 17+\"],[\"Mature 17+\"],[\"Mature 17+\"],[\"Mature 17+\"],[\"Teen\"],[\"Mature 17+\"],[\"Mature 17+\"],[\"Mature 17+\"],[\"Mature 17+\"],[\"Mature 17+\"],[\"Everyone\"],[\"Mature 17+\"],[\"Everyone\"],[\"Mature 17+\"],[\"Mature 17+\"],[\"Mature 17+\"],[\"Mature 17+\"],[\"Teen\"],[\"Mature 17+\"],[\"Everyone\"],[\"Mature 17+\"],[\"Teen\"],[\"Everyone\"],[\"Everyone\"],[\"Mature 17+\"],[\"Mature 17+\"],[\"Mature 17+\"],[\"Everyone\"],[\"Teen\"],[\"Mature 17+\"],[\"Mature 17+\"],[\"Mature 17+\"],[\"Teen\"],[\"Everyone\"],[\"Mature 17+\"],[\"Mature 17+\"],[\"Mature 17+\"],[\"Everyone\"],[\"Mature 17+\"],[\"Mature 17+\"],[\"Mature 17+\"],[\"Mature 17+\"],[\"Mature 17+\"],[\"Everyone\"],[\"Everyone\"],[\"Mature 17+\"],[\"Mature 17+\"],[\"Mature 17+\"],[\"Mature 17+\"],[\"Mature 17+\"],[\"Mature 17+\"],[\"Mature 17+\"],[\"Mature 17+\"],[\"Mature 17+\"],[\"Mature 17+\"],[\"Mature 17+\"],[\"Mature 17+\"],[\"Everyone\"],[\"Everyone 10+\"],[\"Everyone\"],[\"Everyone\"],[\"Everyone\"],[\"Everyone\"],[\"Everyone\"],[\"Everyone\"],[\"Everyone\"],[\"Everyone\"],[\"Everyone\"],[\"Everyone\"],[\"Everyone\"],[\"Everyone\"],[\"Everyone\"],[\"Everyone\"],[\"Everyone\"],[\"Everyone\"],[\"Everyone\"],[\"Everyone\"],[\"Everyone\"],[\"Everyone\"],[\"Mature 17+\"],[\"Everyone\"],[\"Everyone\"],[\"Mature 17+\"],[\"Mature 17+\"],[\"Everyone\"],[\"Everyone\"],[\"Everyone\"],[\"Everyone\"],[\"Everyone\"],[\"Everyone\"],[\"Everyone\"],[\"Everyone\"],[\"Everyone\"],[\"Everyone\"],[\"Everyone\"],[\"Everyone\"],[\"Everyone\"],[\"Everyone\"],[\"Everyone\"],[\"Everyone 10+\"],[\"Everyone\"],[\"Everyone\"],[\"Everyone\"],[\"Everyone\"],[\"Everyone\"],[\"Everyone\"],[\"Everyone\"],[\"Everyone\"],[\"Everyone\"],[\"Everyone\"],[\"Everyone\"],[\"Everyone\"],[\"Everyone\"],[\"Everyone\"],[\"Everyone\"],[\"Everyone\"],[\"Everyone\"],[\"Everyone\"],[\"Everyone\"],[\"Everyone\"],[\"Everyone\"],[\"Everyone\"],[\"Everyone\"],[\"Everyone\"],[\"Everyone\"],[\"Everyone\"],[\"Everyone\"],[\"Everyone\"],[\"Everyone\"],[\"Everyone\"],[\"Everyone\"],[\"Everyone\"],[\"Everyone\"],[\"Everyone\"],[\"Everyone\"],[\"Everyone\"],[\"Everyone\"],[\"Everyone\"],[\"Everyone\"],[\"Everyone\"],[\"Everyone\"],[\"Everyone\"],[\"Everyone\"],[\"Everyone\"],[\"Everyone\"],[\"Everyone\"],[\"Everyone 10+\"],[\"Everyone\"],[\"Everyone\"],[\"Everyone\"],[\"Everyone\"],[\"Everyone\"],[\"Everyone\"],[\"Everyone\"],[\"Everyone\"],[\"Everyone\"],[\"Everyone\"],[\"Everyone\"],[\"Everyone\"],[\"Everyone\"],[\"Everyone\"],[\"Everyone\"],[\"Everyone\"],[\"Everyone\"],[\"Everyone\"],[\"Everyone\"],[\"Everyone\"],[\"Everyone\"],[\"Everyone\"],[\"Teen\"],[\"Everyone\"],[\"Everyone\"],[\"Everyone\"],[\"Everyone\"],[\"Everyone\"],[\"Everyone\"],[\"Teen\"],[\"Everyone\"],[\"Teen\"],[\"Teen\"],[\"Everyone\"],[\"Everyone\"],[\"Everyone\"],[\"Everyone\"],[\"Everyone\"],[\"Teen\"],[\"Teen\"],[\"Teen\"],[\"Teen\"],[\"Everyone\"],[\"Teen\"],[\"Everyone\"],[\"Everyone\"],[\"Mature 17+\"],[\"Everyone\"],[\"Everyone\"],[\"Teen\"],[\"Teen\"],[\"Everyone\"],[\"Teen\"],[\"Everyone\"],[\"Everyone\"],[\"Everyone\"],[\"Everyone\"],[\"Everyone\"],[\"Everyone\"],[\"Everyone\"],[\"Teen\"],[\"Everyone\"],[\"Teen\"],[\"Teen\"],[\"Teen\"],[\"Teen\"],[\"Everyone\"],[\"Everyone\"],[\"Teen\"],[\"Teen\"],[\"Teen\"],[\"Everyone\"],[\"Teen\"],[\"Everyone\"],[\"Everyone\"],[\"Everyone\"],[\"Teen\"],[\"Teen\"],[\"Teen\"],[\"Teen\"],[\"Teen\"],[\"Teen\"],[\"Teen\"],[\"Teen\"],[\"Teen\"],[\"Mature 17+\"],[\"Everyone\"],[\"Teen\"],[\"Everyone 10+\"],[\"Teen\"],[\"Teen\"],[\"Teen\"],[\"Teen\"],[\"Teen\"],[\"Teen\"],[\"Teen\"],[\"Teen\"],[\"Teen\"],[\"Teen\"],[\"Mature 17+\"],[\"Teen\"],[\"Teen\"],[\"Teen\"],[\"Teen\"],[\"Everyone\"],[\"Teen\"],[\"Everyone 10+\"],[\"Teen\"],[\"Teen\"],[\"Everyone\"],[\"Mature 17+\"],[\"Teen\"],[\"Teen\"],[\"Teen\"],[\"Everyone\"],[\"Teen\"],[\"Everyone\"],[\"Teen\"],[\"Everyone\"],[\"Teen\"],[\"Everyone\"],[\"Everyone\"],[\"Everyone\"],[\"Teen\"],[\"Teen\"],[\"Teen\"],[\"Mature 17+\"],[\"Teen\"],[\"Mature 17+\"],[\"Everyone\"],[\"Everyone\"],[\"Everyone\"],[\"Everyone\"],[\"Everyone\"],[\"Everyone\"],[\"Everyone\"],[\"Teen\"],[\"Everyone\"],[\"Everyone\"],[\"Everyone\"],[\"Everyone\"],[\"Everyone\"],[\"Everyone\"],[\"Everyone\"],[\"Everyone\"],[\"Everyone\"],[\"Teen\"],[\"Everyone\"],[\"Everyone\"],[\"Teen\"],[\"Everyone\"],[\"Everyone 10+\"],[\"Everyone\"],[\"Everyone 10+\"],[\"Everyone\"],[\"Everyone\"],[\"Everyone\"],[\"Everyone\"],[\"Everyone\"],[\"Everyone\"],[\"Everyone\"],[\"Everyone\"],[\"Teen\"],[\"Everyone 10+\"],[\"Everyone\"],[\"Everyone\"],[\"Everyone\"],[\"Everyone\"],[\"Everyone\"],[\"Everyone\"],[\"Everyone\"],[\"Everyone\"],[\"Everyone\"],[\"Everyone\"],[\"Teen\"],[\"Everyone\"],[\"Everyone\"],[\"Everyone\"],[\"Everyone\"],[\"Everyone\"],[\"Everyone\"],[\"Everyone\"],[\"Everyone\"],[\"Everyone\"],[\"Everyone\"],[\"Everyone\"],[\"Everyone\"],[\"Everyone\"],[\"Everyone\"],[\"Everyone\"],[\"Everyone\"],[\"Everyone\"],[\"Everyone\"],[\"Everyone\"],[\"Everyone\"],[\"Everyone\"],[\"Everyone\"],[\"Everyone\"],[\"Everyone\"],[\"Everyone\"],[\"Everyone\"],[\"Everyone\"],[\"Everyone\"],[\"Everyone\"],[\"Everyone\"],[\"Everyone\"],[\"Everyone\"],[\"Everyone\"],[\"Everyone\"],[\"Everyone\"],[\"Everyone\"],[\"Everyone\"],[\"Everyone\"],[\"Everyone\"],[\"Everyone\"],[\"Everyone\"],[\"Everyone\"],[\"Everyone\"],[\"Everyone\"],[\"Everyone\"],[\"Everyone\"],[\"Everyone\"],[\"Everyone\"],[\"Everyone\"],[\"Everyone\"],[\"Everyone\"],[\"Everyone\"],[\"Everyone\"],[\"Everyone\"],[\"Everyone\"],[\"Everyone\"],[\"Everyone\"],[\"Everyone\"],[\"Everyone\"],[\"Everyone\"],[\"Everyone\"],[\"Everyone\"],[\"Everyone\"],[\"Everyone\"],[\"Everyone\"],[\"Everyone\"],[\"Everyone\"],[\"Everyone\"],[\"Everyone\"],[\"Everyone\"],[\"Everyone\"],[\"Everyone\"],[\"Everyone\"],[\"Everyone\"],[\"Everyone\"],[\"Everyone\"],[\"Everyone\"],[\"Everyone\"],[\"Everyone\"],[\"Everyone\"],[\"Everyone\"],[\"Everyone\"],[\"Everyone\"],[\"Everyone\"],[\"Everyone\"],[\"Everyone\"],[\"Everyone\"],[\"Everyone\"],[\"Everyone\"],[\"Everyone\"],[\"Everyone\"],[\"Everyone\"],[\"Everyone\"],[\"Everyone\"],[\"Everyone\"],[\"Everyone\"],[\"Everyone\"],[\"Everyone\"],[\"Everyone\"],[\"Everyone\"],[\"Everyone\"],[\"Everyone\"],[\"Everyone\"],[\"Everyone\"],[\"Everyone\"],[\"Everyone\"],[\"Everyone\"],[\"Everyone\"],[\"Everyone\"],[\"Everyone\"],[\"Everyone\"],[\"Everyone\"],[\"Everyone\"],[\"Everyone\"],[\"Everyone\"],[\"Everyone\"],[\"Everyone\"],[\"Everyone\"],[\"Everyone\"],[\"Everyone\"],[\"Everyone\"],[\"Teen\"],[\"Everyone\"],[\"Everyone\"],[\"Everyone\"],[\"Everyone\"],[\"Everyone\"],[\"Everyone\"],[\"Everyone\"],[\"Everyone\"],[\"Everyone\"],[\"Everyone\"],[\"Everyone\"],[\"Everyone\"],[\"Everyone\"],[\"Everyone\"],[\"Everyone\"],[\"Everyone 10+\"],[\"Everyone\"],[\"Everyone\"],[\"Everyone\"],[\"Everyone\"],[\"Everyone\"],[\"Everyone\"],[\"Everyone\"],[\"Everyone\"],[\"Everyone\"],[\"Everyone\"],[\"Everyone\"],[\"Everyone\"],[\"Everyone\"],[\"Everyone\"],[\"Everyone\"],[\"Everyone\"],[\"Teen\"],[\"Everyone\"],[\"Everyone\"],[\"Everyone\"],[\"Everyone\"],[\"Teen\"],[\"Everyone\"],[\"Everyone\"],[\"Everyone\"],[\"Everyone 10+\"],[\"Everyone\"],[\"Everyone\"],[\"Everyone\"],[\"Everyone\"],[\"Everyone\"],[\"Everyone\"],[\"Everyone\"],[\"Teen\"],[\"Everyone\"],[\"Everyone\"],[\"Everyone\"],[\"Teen\"],[\"Everyone\"],[\"Everyone\"],[\"Everyone\"],[\"Everyone\"],[\"Everyone\"],[\"Everyone\"],[\"Everyone\"],[\"Everyone\"],[\"Everyone\"],[\"Everyone\"],[\"Everyone\"],[\"Everyone\"],[\"Everyone\"],[\"Everyone\"],[\"Everyone\"],[\"Everyone\"],[\"Everyone\"],[\"Everyone\"],[\"Everyone\"],[\"Everyone\"],[\"Everyone\"],[\"Everyone\"],[\"Everyone\"],[\"Everyone\"],[\"Everyone\"],[\"Everyone\"],[\"Everyone\"],[\"Everyone\"],[\"Everyone\"],[\"Everyone\"],[\"Everyone\"],[\"Everyone\"],[\"Everyone\"],[\"Everyone\"],[\"Everyone\"],[\"Everyone\"],[\"Everyone\"],[\"Everyone\"],[\"Everyone\"],[\"Everyone\"],[\"Teen\"],[\"Everyone\"],[\"Everyone\"],[\"Everyone\"],[\"Everyone\"],[\"Everyone\"],[\"Everyone\"],[\"Everyone\"],[\"Everyone\"],[\"Everyone\"],[\"Everyone\"],[\"Everyone\"],[\"Everyone\"],[\"Everyone\"],[\"Everyone\"],[\"Everyone\"],[\"Everyone\"],[\"Mature 17+\"],[\"Everyone\"],[\"Teen\"],[\"Everyone\"],[\"Teen\"],[\"Teen\"],[\"Everyone\"],[\"Everyone\"],[\"Everyone\"],[\"Everyone\"],[\"Everyone\"],[\"Everyone\"],[\"Everyone\"],[\"Everyone\"],[\"Teen\"],[\"Everyone\"],[\"Everyone\"],[\"Everyone\"],[\"Everyone\"],[\"Everyone\"],[\"Everyone\"],[\"Everyone\"],[\"Everyone\"],[\"Everyone\"],[\"Everyone\"],[\"Everyone\"],[\"Everyone\"],[\"Everyone\"],[\"Everyone\"],[\"Everyone\"],[\"Everyone\"],[\"Everyone\"],[\"Teen\"],[\"Everyone\"],[\"Everyone\"],[\"Everyone\"],[\"Everyone\"],[\"Everyone\"],[\"Everyone\"],[\"Everyone\"],[\"Everyone\"],[\"Everyone\"],[\"Everyone\"],[\"Everyone\"],[\"Everyone\"],[\"Everyone\"],[\"Everyone\"],[\"Everyone\"],[\"Teen\"],[\"Teen\"],[\"Everyone\"],[\"Everyone\"],[\"Everyone 10+\"],[\"Everyone\"],[\"Everyone\"],[\"Everyone\"],[\"Everyone\"],[\"Teen\"],[\"Everyone\"],[\"Everyone\"],[\"Everyone\"],[\"Everyone\"],[\"Everyone\"],[\"Teen\"],[\"Everyone 10+\"],[\"Everyone\"],[\"Everyone\"],[\"Everyone\"],[\"Everyone\"],[\"Everyone\"],[\"Everyone\"],[\"Everyone\"],[\"Everyone 10+\"],[\"Everyone\"],[\"Everyone\"],[\"Everyone\"],[\"Everyone\"],[\"Everyone\"],[\"Everyone\"],[\"Teen\"],[\"Everyone\"],[\"Everyone\"],[\"Everyone\"],[\"Everyone\"],[\"Everyone\"],[\"Everyone\"],[\"Everyone\"],[\"Everyone\"],[\"Teen\"],[\"Everyone\"],[\"Everyone\"],[\"Everyone\"],[\"Everyone 10+\"],[\"Everyone\"],[\"Everyone\"],[\"Teen\"],[\"Everyone\"],[\"Everyone\"],[\"Everyone\"],[\"Everyone\"],[\"Everyone\"],[\"Everyone\"],[\"Everyone\"],[\"Everyone\"],[\"Everyone\"],[\"Everyone\"],[\"Everyone\"],[\"Everyone\"],[\"Everyone\"],[\"Everyone\"],[\"Everyone\"],[\"Everyone\"],[\"Everyone\"],[\"Everyone\"],[\"Everyone\"],[\"Everyone\"],[\"Everyone\"],[\"Everyone\"],[\"Everyone\"],[\"Everyone\"],[\"Everyone\"],[\"Everyone\"],[\"Everyone\"],[\"Everyone\"],[\"Teen\"],[\"Everyone\"],[\"Everyone\"],[\"Everyone\"],[\"Everyone\"],[\"Everyone\"],[\"Everyone\"],[\"Everyone\"],[\"Everyone\"],[\"Everyone\"],[\"Everyone\"],[\"Everyone\"],[\"Teen\"],[\"Everyone\"],[\"Everyone\"],[\"Everyone\"],[\"Everyone\"],[\"Everyone\"],[\"Everyone\"],[\"Everyone\"],[\"Everyone\"],[\"Everyone\"],[\"Everyone\"],[\"Everyone\"],[\"Everyone\"],[\"Everyone\"],[\"Everyone\"],[\"Everyone\"],[\"Everyone\"],[\"Everyone\"],[\"Everyone\"],[\"Everyone\"],[\"Everyone\"],[\"Everyone\"],[\"Everyone\"],[\"Everyone\"],[\"Everyone\"],[\"Everyone\"],[\"Everyone\"],[\"Everyone\"],[\"Everyone\"],[\"Everyone\"],[\"Everyone\"],[\"Everyone\"],[\"Everyone\"],[\"Everyone\"],[\"Everyone\"],[\"Everyone\"],[\"Everyone\"],[\"Everyone\"],[\"Everyone\"],[\"Everyone\"],[\"Everyone\"],[\"Everyone\"],[\"Everyone\"],[\"Everyone\"],[\"Everyone\"],[\"Everyone\"],[\"Everyone\"],[\"Everyone\"],[\"Everyone\"],[\"Everyone\"],[\"Everyone\"],[\"Everyone\"],[\"Everyone\"],[\"Everyone\"],[\"Everyone\"],[\"Everyone\"],[\"Everyone\"],[\"Everyone\"],[\"Everyone\"],[\"Everyone\"],[\"Everyone\"],[\"Everyone\"],[\"Everyone\"],[\"Everyone\"],[\"Everyone\"],[\"Everyone\"],[\"Everyone\"],[\"Teen\"],[\"Everyone\"],[\"Everyone\"],[\"Everyone\"],[\"Everyone\"],[\"Everyone\"],[\"Everyone\"],[\"Everyone\"],[\"Everyone 10+\"],[\"Everyone\"],[\"Everyone\"],[\"Everyone\"],[\"Everyone\"],[\"Everyone\"],[\"Everyone\"],[\"Everyone\"],[\"Everyone\"],[\"Everyone\"],[\"Everyone\"],[\"Everyone\"],[\"Teen\"],[\"Everyone\"],[\"Everyone\"],[\"Everyone\"],[\"Everyone\"],[\"Everyone\"],[\"Everyone\"],[\"Everyone\"],[\"Everyone\"],[\"Everyone\"],[\"Everyone\"],[\"Mature 17+\"],[\"Everyone\"],[\"Everyone\"],[\"Everyone\"],[\"Everyone\"],[\"Everyone\"],[\"Teen\"],[\"Everyone\"],[\"Everyone\"],[\"Everyone\"],[\"Everyone\"],[\"Everyone\"],[\"Everyone\"],[\"Everyone\"],[\"Everyone\"],[\"Everyone\"],[\"Teen\"],[\"Everyone\"],[\"Everyone\"],[\"Everyone\"],[\"Everyone\"],[\"Everyone\"],[\"Everyone\"],[\"Everyone\"],[\"Teen\"],[\"Everyone\"],[\"Teen\"],[\"Everyone\"],[\"Everyone\"],[\"Everyone\"],[\"Everyone\"],[\"Everyone\"],[\"Everyone\"],[\"Everyone\"],[\"Everyone\"],[\"Everyone\"],[\"Everyone\"],[\"Everyone\"],[\"Everyone\"],[\"Everyone\"],[\"Everyone\"],[\"Everyone\"],[\"Everyone\"],[\"Everyone\"],[\"Everyone\"],[\"Everyone\"],[\"Everyone\"],[\"Everyone\"],[\"Everyone\"],[\"Teen\"],[\"Everyone 10+\"],[\"Everyone 10+\"],[\"Everyone\"],[\"Everyone\"],[\"Everyone\"],[\"Everyone\"],[\"Everyone\"],[\"Everyone 10+\"],[\"Everyone\"],[\"Everyone\"],[\"Everyone\"],[\"Everyone\"],[\"Everyone\"],[\"Everyone 10+\"],[\"Everyone\"],[\"Everyone\"],[\"Mature 17+\"],[\"Everyone 10+\"],[\"Teen\"],[\"Everyone\"],[\"Everyone\"],[\"Everyone\"],[\"Everyone\"],[\"Everyone\"],[\"Everyone\"],[\"Everyone\"],[\"Teen\"],[\"Everyone\"],[\"Everyone\"],[\"Teen\"],[\"Everyone\"],[\"Everyone\"],[\"Everyone 10+\"],[\"Everyone\"],[\"Everyone\"],[\"Everyone\"],[\"Everyone\"],[\"Everyone\"],[\"Everyone\"],[\"Everyone 10+\"],[\"Everyone\"],[\"Everyone 10+\"],[\"Everyone\"],[\"Everyone\"],[\"Everyone\"],[\"Everyone\"],[\"Mature 17+\"],[\"Everyone\"],[\"Everyone\"],[\"Everyone\"],[\"Everyone\"],[\"Everyone\"],[\"Everyone\"],[\"Teen\"],[\"Teen\"],[\"Everyone\"],[\"Everyone\"],[\"Teen\"],[\"Everyone\"],[\"Everyone\"],[\"Everyone\"],[\"Everyone\"],[\"Everyone\"],[\"Everyone\"],[\"Everyone\"],[\"Everyone\"],[\"Everyone\"],[\"Everyone\"],[\"Everyone\"],[\"Teen\"],[\"Everyone\"],[\"Everyone\"],[\"Everyone\"],[\"Teen\"],[\"Teen\"],[\"Everyone\"],[\"Teen\"],[\"Everyone 10+\"],[\"Everyone\"],[\"Everyone\"],[\"Everyone\"],[\"Everyone\"],[\"Everyone\"],[\"Everyone\"],[\"Everyone\"],[\"Everyone\"],[\"Everyone\"],[\"Everyone\"],[\"Everyone\"],[\"Everyone\"],[\"Teen\"],[\"Teen\"],[\"Everyone\"],[\"Everyone 10+\"],[\"Everyone 10+\"],[\"Everyone 10+\"],[\"Teen\"],[\"Everyone\"],[\"Everyone\"],[\"Everyone\"],[\"Everyone\"],[\"Everyone\"],[\"Teen\"],[\"Teen\"],[\"Teen\"],[\"Teen\"],[\"Everyone\"],[\"Teen\"],[\"Teen\"],[\"Everyone 10+\"],[\"Everyone\"],[\"Everyone\"],[\"Everyone\"],[\"Everyone\"],[\"Teen\"],[\"Everyone\"],[\"Everyone\"],[\"Everyone\"],[\"Everyone\"],[\"Teen\"],[\"Teen\"],[\"Mature 17+\"],[\"Everyone\"],[\"Teen\"],[\"Teen\"],[\"Teen\"],[\"Everyone 10+\"],[\"Teen\"],[\"Everyone 10+\"],[\"Teen\"],[\"Mature 17+\"],[\"Teen\"],[\"Teen\"],[\"Everyone\"],[\"Everyone 10+\"],[\"Everyone\"],[\"Teen\"],[\"Everyone\"],[\"Everyone\"],[\"Teen\"],[\"Teen\"],[\"Everyone\"],[\"Everyone\"],[\"Teen\"],[\"Teen\"],[\"Everyone\"],[\"Teen\"],[\"Everyone 10+\"],[\"Teen\"],[\"Everyone\"],[\"Mature 17+\"],[\"Everyone 10+\"],[\"Mature 17+\"],[\"Teen\"],[\"Everyone\"],[\"Teen\"],[\"Teen\"],[\"Everyone 10+\"],[\"Teen\"],[\"Teen\"],[\"Teen\"],[\"Teen\"],[\"Everyone\"],[\"Everyone\"],[\"Everyone\"],[\"Everyone\"],[\"Everyone\"],[\"Everyone\"],[\"Everyone 10+\"],[\"Teen\"],[\"Teen\"],[\"Everyone\"],[\"Everyone 10+\"],[\"Everyone\"],[\"Teen\"],[\"Mature 17+\"],[\"Teen\"],[\"Teen\"],[\"Everyone\"],[\"Everyone 10+\"],[\"Teen\"],[\"Teen\"],[\"Everyone\"],[\"Everyone\"],[\"Everyone 10+\"],[\"Teen\"],[\"Everyone\"],[\"Everyone 10+\"],[\"Everyone 10+\"],[\"Teen\"],[\"Everyone\"],[\"Everyone 10+\"],[\"Everyone\"],[\"Everyone 10+\"],[\"Teen\"],[\"Everyone\"],[\"Mature 17+\"],[\"Teen\"],[\"Everyone 10+\"],[\"Everyone 10+\"],[\"Teen\"],[\"Teen\"],[\"Everyone\"],[\"Everyone\"],[\"Everyone\"],[\"Everyone\"],[\"Everyone\"],[\"Teen\"],[\"Everyone\"],[\"Everyone\"],[\"Everyone\"],[\"Everyone\"],[\"Everyone\"],[\"Teen\"],[\"Everyone\"],[\"Everyone 10+\"],[\"Everyone\"],[\"Everyone 10+\"],[\"Everyone\"],[\"Everyone\"],[\"Everyone\"],[\"Everyone\"],[\"Everyone\"],[\"Everyone\"],[\"Everyone\"],[\"Everyone\"],[\"Everyone\"],[\"Everyone\"],[\"Everyone\"],[\"Everyone\"],[\"Everyone\"],[\"Everyone\"],[\"Everyone\"],[\"Everyone\"],[\"Everyone\"],[\"Everyone\"],[\"Everyone\"],[\"Everyone\"],[\"Everyone\"],[\"Everyone\"],[\"Everyone\"],[\"Everyone\"],[\"Everyone\"],[\"Everyone\"],[\"Everyone\"],[\"Everyone\"],[\"Everyone\"],[\"Everyone\"],[\"Everyone\"],[\"Everyone\"],[\"Everyone\"],[\"Everyone 10+\"],[\"Everyone\"],[\"Everyone\"],[\"Everyone\"],[\"Everyone\"],[\"Everyone\"],[\"Everyone\"],[\"Everyone\"],[\"Everyone\"],[\"Everyone\"],[\"Everyone\"],[\"Everyone\"],[\"Everyone\"],[\"Everyone\"],[\"Everyone\"],[\"Everyone\"],[\"Everyone\"],[\"Everyone 10+\"],[\"Everyone\"],[\"Everyone\"],[\"Everyone\"],[\"Everyone\"],[\"Everyone 10+\"],[\"Everyone\"],[\"Everyone\"],[\"Everyone\"],[\"Everyone\"],[\"Everyone\"],[\"Everyone\"],[\"Everyone\"],[\"Everyone\"],[\"Everyone\"],[\"Everyone\"],[\"Everyone\"],[\"Everyone\"],[\"Everyone\"],[\"Everyone\"],[\"Everyone\"],[\"Everyone\"],[\"Everyone\"],[\"Everyone\"],[\"Everyone\"],[\"Everyone 10+\"],[\"Everyone\"],[\"Everyone\"],[\"Everyone\"],[\"Everyone\"],[\"Everyone\"],[\"Everyone\"],[\"Everyone\"],[\"Everyone\"],[\"Everyone\"],[\"Everyone\"],[\"Everyone\"],[\"Everyone\"],[\"Everyone\"],[\"Everyone\"],[\"Everyone\"],[\"Everyone\"],[\"Everyone\"],[\"Everyone\"],[\"Everyone\"],[\"Everyone\"],[\"Everyone\"],[\"Everyone\"],[\"Everyone\"],[\"Everyone\"],[\"Everyone\"],[\"Everyone 10+\"],[\"Everyone\"],[\"Everyone\"],[\"Everyone\"],[\"Everyone\"],[\"Everyone\"],[\"Everyone\"],[\"Everyone\"],[\"Everyone\"],[\"Everyone\"],[\"Everyone\"],[\"Everyone\"],[\"Everyone\"],[\"Everyone\"],[\"Everyone\"],[\"Everyone\"],[\"Everyone\"],[\"Everyone\"],[\"Everyone\"],[\"Everyone\"],[\"Everyone\"],[\"Everyone\"],[\"Everyone\"],[\"Everyone\"],[\"Everyone\"],[\"Everyone\"],[\"Everyone\"],[\"Everyone\"],[\"Everyone\"],[\"Everyone\"],[\"Everyone\"],[\"Everyone\"],[\"Everyone\"],[\"Everyone\"],[\"Everyone\"],[\"Everyone\"],[\"Everyone\"],[\"Everyone\"],[\"Everyone\"],[\"Everyone\"],[\"Everyone\"],[\"Everyone\"],[\"Everyone\"],[\"Everyone\"],[\"Everyone\"],[\"Everyone\"],[\"Everyone\"],[\"Everyone\"],[\"Everyone\"],[\"Everyone\"],[\"Everyone\"],[\"Everyone\"],[\"Everyone\"],[\"Everyone\"],[\"Everyone\"],[\"Everyone\"],[\"Everyone\"],[\"Everyone\"],[\"Everyone\"],[\"Everyone\"],[\"Everyone\"],[\"Everyone\"],[\"Everyone\"],[\"Everyone\"],[\"Everyone\"],[\"Everyone\"],[\"Everyone\"],[\"Everyone\"],[\"Everyone\"],[\"Everyone 10+\"],[\"Everyone 10+\"],[\"Everyone\"],[\"Everyone\"],[\"Everyone\"],[\"Everyone\"],[\"Everyone\"],[\"Everyone 10+\"],[\"Everyone\"],[\"Everyone\"],[\"Everyone\"],[\"Mature 17+\"],[\"Everyone\"],[\"Everyone\"],[\"Everyone\"],[\"Everyone\"],[\"Everyone\"],[\"Everyone\"],[\"Everyone\"],[\"Everyone\"],[\"Everyone\"],[\"Everyone\"],[\"Everyone\"],[\"Everyone\"],[\"Everyone\"],[\"Everyone\"],[\"Everyone\"],[\"Teen\"],[\"Everyone\"],[\"Everyone\"],[\"Everyone\"],[\"Everyone\"],[\"Everyone\"],[\"Everyone\"],[\"Everyone\"],[\"Everyone\"],[\"Everyone\"],[\"Everyone\"],[\"Everyone\"],[\"Everyone\"],[\"Everyone\"],[\"Everyone\"],[\"Everyone\"],[\"Everyone\"],[\"Everyone\"],[\"Everyone\"],[\"Everyone\"],[\"Everyone\"],[\"Everyone 10+\"],[\"Everyone\"],[\"Everyone\"],[\"Everyone\"],[\"Everyone\"],[\"Everyone\"],[\"Everyone\"],[\"Everyone\"],[\"Everyone\"],[\"Everyone\"],[\"Everyone\"],[\"Everyone\"],[\"Everyone\"],[\"Everyone\"],[\"Everyone\"],[\"Everyone\"],[\"Everyone\"],[\"Everyone\"],[\"Everyone\"],[\"Everyone\"],[\"Everyone\"],[\"Everyone\"],[\"Everyone\"],[\"Everyone\"],[\"Everyone\"],[\"Everyone\"],[\"Everyone\"],[\"Everyone\"],[\"Everyone\"],[\"Everyone\"],[\"Everyone\"],[\"Everyone\"],[\"Everyone\"],[\"Everyone\"],[\"Everyone\"],[\"Everyone\"],[\"Everyone\"],[\"Everyone\"],[\"Everyone\"],[\"Everyone\"],[\"Everyone\"],[\"Everyone\"],[\"Everyone\"],[\"Everyone\"],[\"Everyone\"],[\"Everyone\"],[\"Everyone\"],[\"Everyone\"],[\"Everyone\"],[\"Everyone\"],[\"Everyone\"],[\"Everyone\"],[\"Everyone\"],[\"Everyone\"],[\"Everyone\"],[\"Everyone\"],[\"Everyone\"],[\"Everyone\"],[\"Everyone\"],[\"Everyone\"],[\"Everyone\"],[\"Everyone\"],[\"Everyone\"],[\"Everyone\"],[\"Everyone\"],[\"Everyone\"],[\"Everyone\"],[\"Everyone\"],[\"Everyone\"],[\"Everyone\"],[\"Everyone\"],[\"Everyone\"],[\"Everyone\"],[\"Everyone\"],[\"Everyone\"],[\"Mature 17+\"],[\"Everyone 10+\"],[\"Everyone\"],[\"Everyone\"],[\"Everyone\"],[\"Everyone\"],[\"Everyone\"],[\"Everyone\"],[\"Everyone\"],[\"Everyone\"],[\"Everyone\"],[\"Everyone\"],[\"Everyone\"],[\"Everyone\"],[\"Everyone\"],[\"Everyone\"],[\"Everyone\"],[\"Everyone\"],[\"Everyone\"],[\"Everyone\"],[\"Everyone\"],[\"Everyone\"],[\"Everyone\"],[\"Everyone\"],[\"Everyone\"],[\"Everyone\"],[\"Everyone\"],[\"Everyone\"],[\"Everyone\"],[\"Everyone\"],[\"Everyone\"],[\"Everyone\"],[\"Everyone\"],[\"Everyone\"],[\"Everyone\"],[\"Everyone\"],[\"Everyone\"],[\"Everyone\"],[\"Everyone\"],[\"Everyone\"],[\"Everyone\"],[\"Everyone\"],[\"Everyone\"],[\"Everyone\"],[\"Everyone\"],[\"Everyone\"],[\"Everyone\"],[\"Everyone\"],[\"Everyone\"],[\"Everyone 10+\"],[\"Everyone\"],[\"Everyone\"],[\"Everyone\"],[\"Everyone\"],[\"Everyone\"],[\"Everyone\"],[\"Everyone\"],[\"Everyone\"],[\"Mature 17+\"],[\"Everyone\"],[\"Everyone\"],[\"Everyone\"],[\"Everyone\"],[\"Everyone\"],[\"Everyone\"],[\"Everyone\"],[\"Everyone\"],[\"Everyone\"],[\"Everyone\"],[\"Everyone\"],[\"Everyone\"],[\"Everyone\"],[\"Everyone\"],[\"Everyone\"],[\"Everyone\"],[\"Everyone\"],[\"Everyone\"],[\"Everyone\"],[\"Everyone\"],[\"Everyone\"],[\"Everyone\"],[\"Everyone\"],[\"Everyone\"],[\"Everyone\"],[\"Everyone\"],[\"Everyone\"],[\"Everyone\"],[\"Everyone\"],[\"Everyone\"],[\"Everyone\"],[\"Everyone\"],[\"Everyone\"],[\"Everyone\"],[\"Everyone\"],[\"Everyone\"],[\"Everyone\"],[\"Everyone\"],[\"Everyone\"],[\"Everyone\"],[\"Everyone\"],[\"Everyone\"],[\"Everyone\"],[\"Everyone\"],[\"Everyone\"],[\"Everyone\"],[\"Everyone\"],[\"Everyone\"],[\"Everyone\"],[\"Everyone\"],[\"Everyone\"],[\"Everyone\"],[\"Everyone\"],[\"Everyone\"],[\"Everyone\"],[\"Everyone\"],[\"Everyone\"],[\"Everyone\"],[\"Mature 17+\"],[\"Everyone\"],[\"Everyone\"],[\"Everyone\"],[\"Teen\"],[\"Everyone\"],[\"Everyone\"],[\"Everyone\"],[\"Everyone\"],[\"Everyone\"],[\"Mature 17+\"],[\"Everyone\"],[\"Everyone\"],[\"Everyone\"],[\"Everyone\"],[\"Everyone\"],[\"Everyone\"],[\"Everyone\"],[\"Everyone\"],[\"Teen\"],[\"Teen\"],[\"Teen\"],[\"Everyone\"],[\"Mature 17+\"],[\"Everyone\"],[\"Teen\"],[\"Everyone\"],[\"Teen\"],[\"Everyone\"],[\"Teen\"],[\"Everyone\"],[\"Everyone\"],[\"Teen\"],[\"Teen\"],[\"Everyone\"],[\"Mature 17+\"],[\"Everyone\"],[\"Everyone\"],[\"Everyone\"],[\"Everyone\"],[\"Teen\"],[\"Teen\"],[\"Everyone\"],[\"Everyone\"],[\"Mature 17+\"],[\"Everyone\"],[\"Teen\"],[\"Teen\"],[\"Mature 17+\"],[\"Everyone 10+\"],[\"Everyone\"],[\"Everyone\"],[\"Mature 17+\"],[\"Mature 17+\"],[\"Teen\"],[\"Teen\"],[\"Everyone\"],[\"Everyone\"],[\"Teen\"],[\"Everyone\"],[\"Teen\"],[\"Everyone\"],[\"Mature 17+\"],[\"Everyone\"],[\"Everyone\"],[\"Everyone\"],[\"Mature 17+\"],[\"Mature 17+\"],[\"Mature 17+\"],[\"Everyone\"],[\"Mature 17+\"],[\"Teen\"],[\"Mature 17+\"],[\"Mature 17+\"],[\"Everyone\"],[\"Teen\"],[\"Teen\"],[\"Teen\"],[\"Teen\"],[\"Teen\"],[\"Teen\"],[\"Mature 17+\"],[\"Everyone\"],[\"Teen\"],[\"Teen\"],[\"Mature 17+\"],[\"Teen\"],[\"Everyone\"],[\"Mature 17+\"],[\"Mature 17+\"],[\"Mature 17+\"],[\"Mature 17+\"],[\"Everyone\"],[\"Everyone\"],[\"Mature 17+\"],[\"Teen\"],[\"Mature 17+\"],[\"Mature 17+\"],[\"Teen\"],[\"Everyone\"],[\"Everyone\"],[\"Everyone\"],[\"Everyone\"],[\"Everyone\"],[\"Teen\"],[\"Everyone\"],[\"Teen\"],[\"Teen\"],[\"Teen\"],[\"Everyone\"],[\"Everyone\"],[\"Everyone\"],[\"Everyone\"],[\"Everyone\"],[\"Everyone\"],[\"Everyone\"],[\"Everyone\"],[\"Everyone\"],[\"Teen\"],[\"Everyone\"],[\"Everyone\"],[\"Teen\"],[\"Everyone\"],[\"Everyone\"],[\"Everyone\"],[\"Everyone\"],[\"Everyone\"],[\"Teen\"],[\"Everyone\"],[\"Teen\"],[\"Everyone\"],[\"Everyone\"],[\"Everyone\"],[\"Everyone\"],[\"Everyone\"],[\"Everyone\"],[\"Everyone\"],[\"Everyone\"],[\"Everyone\"],[\"Everyone\"],[\"Everyone\"],[\"Everyone\"],[\"Teen\"],[\"Everyone\"],[\"Everyone\"],[\"Everyone\"],[\"Teen\"],[\"Everyone\"],[\"Everyone\"],[\"Everyone\"],[\"Everyone\"],[\"Everyone\"],[\"Everyone\"],[\"Everyone\"],[\"Everyone\"],[\"Everyone\"],[\"Everyone\"],[\"Everyone\"],[\"Everyone\"],[\"Teen\"],[\"Everyone\"],[\"Everyone\"],[\"Everyone\"],[\"Everyone\"],[\"Everyone\"],[\"Everyone\"],[\"Everyone\"],[\"Everyone\"],[\"Everyone\"],[\"Everyone\"],[\"Everyone\"],[\"Everyone\"],[\"Everyone\"],[\"Everyone\"],[\"Everyone\"],[\"Teen\"],[\"Everyone\"],[\"Everyone\"],[\"Teen\"],[\"Everyone\"],[\"Teen\"],[\"Everyone\"],[\"Everyone\"],[\"Everyone\"],[\"Teen\"],[\"Everyone\"],[\"Everyone\"],[\"Everyone\"],[\"Everyone\"],[\"Teen\"],[\"Everyone\"],[\"Teen\"],[\"Everyone\"],[\"Teen\"],[\"Everyone\"],[\"Everyone\"],[\"Everyone\"],[\"Everyone\"],[\"Everyone\"],[\"Everyone\"],[\"Everyone\"],[\"Everyone\"],[\"Everyone\"],[\"Everyone\"],[\"Everyone\"],[\"Everyone\"],[\"Everyone\"],[\"Everyone\"],[\"Everyone\"],[\"Everyone\"],[\"Everyone\"],[\"Everyone\"],[\"Everyone\"],[\"Everyone\"],[\"Everyone\"],[\"Everyone\"],[\"Everyone\"],[\"Everyone\"],[\"Everyone\"],[\"Everyone\"],[\"Everyone\"],[\"Everyone\"],[\"Mature 17+\"],[\"Everyone\"],[\"Everyone\"],[\"Everyone\"],[\"Everyone\"],[\"Everyone\"],[\"Everyone\"],[\"Everyone\"],[\"Everyone\"],[\"Everyone\"],[\"Everyone\"],[\"Everyone\"],[\"Everyone\"],[\"Everyone\"],[\"Everyone\"],[\"Everyone\"],[\"Everyone\"],[\"Everyone\"],[\"Everyone\"],[\"Everyone\"],[\"Everyone\"],[\"Everyone\"],[\"Everyone\"],[\"Everyone\"],[\"Everyone\"],[\"Everyone\"],[\"Everyone\"],[\"Everyone\"],[\"Everyone\"],[\"Everyone\"],[\"Everyone\"],[\"Teen\"],[\"Everyone\"],[\"Mature 17+\"],[\"Everyone\"],[\"Everyone\"],[\"Everyone\"],[\"Everyone\"],[\"Everyone\"],[\"Everyone\"],[\"Everyone\"],[\"Everyone\"],[\"Everyone\"],[\"Everyone\"],[\"Everyone\"],[\"Everyone\"],[\"Everyone\"],[\"Everyone\"],[\"Everyone\"],[\"Everyone\"],[\"Everyone\"],[\"Everyone\"],[\"Everyone\"],[\"Everyone\"],[\"Everyone\"],[\"Everyone\"],[\"Everyone\"],[\"Everyone\"],[\"Everyone\"],[\"Everyone\"],[\"Everyone\"],[\"Everyone\"],[\"Everyone\"],[\"Everyone\"],[\"Everyone\"],[\"Everyone\"],[\"Everyone\"],[\"Everyone\"],[\"Everyone\"],[\"Everyone\"],[\"Everyone\"],[\"Everyone\"],[\"Everyone\"],[\"Everyone\"],[\"Everyone\"],[\"Teen\"],[\"Everyone\"],[\"Everyone\"],[\"Everyone\"],[\"Everyone\"],[\"Everyone\"],[\"Everyone\"],[\"Everyone\"],[\"Everyone\"],[\"Everyone\"],[\"Everyone\"],[\"Everyone\"],[\"Everyone\"],[\"Everyone\"],[\"Teen\"],[\"Everyone\"],[\"Everyone\"],[\"Mature 17+\"],[\"Everyone\"],[\"Everyone\"],[\"Everyone\"],[\"Everyone\"],[\"Everyone\"],[\"Everyone\"],[\"Everyone\"],[\"Everyone\"],[\"Everyone\"],[\"Everyone\"],[\"Everyone 10+\"],[\"Everyone\"],[\"Everyone\"],[\"Everyone\"],[\"Everyone\"],[\"Everyone 10+\"],[\"Everyone\"],[\"Everyone\"],[\"Everyone\"],[\"Everyone\"],[\"Everyone\"],[\"Everyone\"],[\"Everyone\"],[\"Everyone\"],[\"Mature 17+\"],[\"Everyone\"],[\"Mature 17+\"],[\"Everyone\"],[\"Everyone\"],[\"Everyone\"],[\"Everyone\"],[\"Everyone\"],[\"Everyone\"],[\"Everyone\"],[\"Everyone\"],[\"Everyone\"],[\"Everyone\"],[\"Everyone\"],[\"Everyone\"],[\"Everyone\"],[\"Everyone\"],[\"Everyone\"],[\"Everyone 10+\"],[\"Everyone\"],[\"Teen\"],[\"Everyone\"],[\"Everyone\"],[\"Everyone\"],[\"Everyone\"],[\"Everyone\"],[\"Everyone\"],[\"Everyone\"],[\"Everyone\"],[\"Everyone\"],[\"Everyone\"],[\"Everyone\"],[\"Everyone\"],[\"Everyone\"],[\"Everyone\"],[\"Everyone\"],[\"Everyone\"],[\"Everyone\"],[\"Everyone\"],[\"Teen\"],[\"Everyone\"],[\"Everyone\"],[\"Everyone\"],[\"Everyone\"],[\"Everyone\"],[\"Everyone\"],[\"Everyone\"],[\"Everyone 10+\"],[\"Everyone\"],[\"Everyone\"],[\"Everyone\"],[\"Everyone\"],[\"Everyone\"],[\"Everyone\"],[\"Everyone\"],[\"Mature 17+\"],[\"Adults only 18+\"],[\"Everyone\"],[\"Everyone\"],[\"Everyone\"],[\"Everyone\"],[\"Everyone\"],[\"Everyone\"],[\"Everyone\"],[\"Everyone\"],[\"Everyone\"],[\"Everyone\"],[\"Everyone\"],[\"Teen\"],[\"Everyone\"],[\"Everyone\"],[\"Everyone\"],[\"Everyone\"],[\"Everyone\"],[\"Everyone\"],[\"Everyone\"],[\"Everyone\"],[\"Everyone\"],[\"Everyone\"],[\"Everyone\"],[\"Everyone\"],[\"Everyone\"],[\"Everyone\"],[\"Everyone\"],[\"Everyone\"],[\"Everyone\"],[\"Everyone\"],[\"Everyone\"],[\"Everyone\"],[\"Everyone\"],[\"Everyone\"],[\"Everyone\"],[\"Everyone\"],[\"Everyone\"],[\"Everyone\"],[\"Everyone\"],[\"Everyone\"],[\"Everyone\"],[\"Everyone\"],[\"Everyone\"],[\"Everyone\"],[\"Everyone\"],[\"Mature 17+\"],[\"Everyone\"],[\"Everyone\"],[\"Everyone\"],[\"Everyone\"],[\"Everyone\"],[\"Everyone\"],[\"Everyone\"],[\"Everyone\"],[\"Everyone\"],[\"Everyone\"],[\"Everyone\"],[\"Everyone\"],[\"Everyone\"],[\"Everyone\"],[\"Everyone\"],[\"Everyone\"],[\"Everyone\"],[\"Teen\"],[\"Everyone\"],[\"Everyone\"],[\"Everyone\"],[\"Everyone\"],[\"Everyone\"],[\"Everyone\"],[\"Everyone\"],[\"Everyone\"],[\"Everyone\"],[\"Everyone\"],[\"Everyone\"],[\"Everyone\"],[\"Everyone\"],[\"Everyone\"],[\"Everyone\"],[\"Everyone\"],[\"Everyone\"],[\"Everyone\"],[\"Everyone\"],[\"Everyone\"],[\"Everyone\"],[\"Everyone\"],[\"Everyone\"],[\"Everyone\"],[\"Teen\"],[\"Everyone\"],[\"Everyone\"],[\"Everyone\"],[\"Everyone\"],[\"Everyone\"],[\"Everyone\"],[\"Everyone\"],[\"Everyone\"],[\"Everyone\"],[\"Everyone\"],[\"Everyone\"],[\"Everyone\"],[\"Everyone\"],[\"Everyone\"],[\"Everyone\"],[\"Everyone\"],[\"Everyone\"],[\"Everyone\"],[\"Teen\"],[\"Everyone\"],[\"Everyone\"],[\"Everyone\"],[\"Everyone\"],[\"Everyone\"],[\"Everyone\"],[\"Everyone\"],[\"Everyone\"],[\"Everyone\"],[\"Everyone\"],[\"Everyone\"],[\"Everyone\"],[\"Everyone\"],[\"Everyone\"],[\"Everyone\"],[\"Everyone\"],[\"Teen\"],[\"Everyone\"],[\"Everyone\"],[\"Everyone\"],[\"Everyone\"],[\"Everyone\"],[\"Everyone\"],[\"Everyone\"],[\"Everyone\"],[\"Everyone\"],[\"Everyone\"],[\"Everyone\"],[\"Everyone\"],[\"Everyone\"],[\"Everyone\"],[\"Everyone\"],[\"Everyone\"],[\"Everyone\"],[\"Everyone\"],[\"Everyone\"],[\"Everyone\"],[\"Everyone\"],[\"Everyone\"],[\"Everyone\"],[\"Everyone\"],[\"Everyone\"],[\"Everyone\"],[\"Everyone\"],[\"Everyone\"],[\"Everyone\"],[\"Everyone\"],[\"Everyone\"],[\"Everyone\"],[\"Everyone\"],[\"Everyone\"],[\"Everyone\"],[\"Everyone\"],[\"Everyone\"],[\"Everyone\"],[\"Everyone\"],[\"Everyone\"],[\"Everyone\"],[\"Everyone\"],[\"Everyone\"],[\"Everyone\"],[\"Everyone\"],[\"Everyone\"],[\"Everyone\"],[\"Everyone\"],[\"Everyone\"],[\"Everyone\"],[\"Everyone\"],[\"Everyone\"],[\"Everyone\"],[\"Everyone\"],[\"Everyone\"],[\"Everyone\"],[\"Everyone\"],[\"Everyone\"],[\"Everyone\"],[\"Everyone\"],[\"Everyone\"],[\"Everyone\"],[\"Everyone\"],[\"Everyone\"],[\"Everyone\"],[\"Everyone\"],[\"Everyone\"],[\"Everyone\"],[\"Everyone\"],[\"Everyone\"],[\"Everyone\"],[\"Everyone\"],[\"Everyone\"],[\"Everyone\"],[\"Everyone\"],[\"Everyone\"],[\"Everyone\"],[\"Everyone\"],[\"Everyone\"],[\"Everyone\"],[\"Everyone\"],[\"Everyone\"],[\"Everyone\"],[\"Everyone\"],[\"Everyone\"],[\"Everyone\"],[\"Everyone\"],[\"Everyone\"],[\"Everyone\"],[\"Everyone\"],[\"Everyone\"],[\"Everyone\"],[\"Everyone\"],[\"Everyone\"],[\"Everyone\"],[\"Everyone\"],[\"Everyone\"],[\"Everyone\"],[\"Everyone\"],[\"Everyone\"],[\"Everyone\"],[\"Everyone\"],[\"Everyone\"],[\"Everyone\"],[\"Everyone\"],[\"Everyone\"],[\"Everyone\"],[\"Everyone\"],[\"Everyone\"],[\"Everyone\"],[\"Everyone\"],[\"Everyone\"],[\"Everyone\"],[\"Everyone\"],[\"Everyone\"],[\"Everyone\"],[\"Everyone\"],[\"Everyone\"],[\"Everyone\"],[\"Everyone\"],[\"Everyone 10+\"],[\"Teen\"],[\"Everyone\"],[\"Mature 17+\"],[\"Everyone\"],[\"Everyone\"],[\"Everyone\"],[\"Teen\"],[\"Everyone 10+\"],[\"Everyone\"],[\"Everyone 10+\"],[\"Everyone\"],[\"Everyone\"],[\"Everyone\"],[\"Everyone\"],[\"Everyone\"],[\"Everyone\"],[\"Everyone\"],[\"Teen\"],[\"Everyone\"],[\"Everyone\"],[\"Everyone\"],[\"Everyone\"],[\"Everyone\"],[\"Everyone\"],[\"Everyone\"],[\"Everyone\"],[\"Everyone\"],[\"Everyone\"],[\"Everyone\"],[\"Everyone\"],[\"Everyone\"],[\"Everyone\"],[\"Everyone\"],[\"Everyone\"],[\"Everyone\"],[\"Everyone\"],[\"Everyone\"],[\"Everyone\"],[\"Everyone\"],[\"Everyone\"],[\"Everyone\"],[\"Everyone\"],[\"Everyone\"],[\"Everyone\"],[\"Everyone\"],[\"Everyone\"],[\"Everyone\"],[\"Everyone\"],[\"Everyone\"],[\"Everyone\"],[\"Everyone\"],[\"Everyone\"],[\"Everyone\"],[\"Everyone\"],[\"Everyone\"],[\"Everyone\"],[\"Teen\"],[\"Everyone\"],[\"Everyone\"],[\"Teen\"],[\"Everyone\"],[\"Everyone\"],[\"Everyone\"],[\"Everyone\"],[\"Everyone\"],[\"Everyone\"],[\"Everyone\"],[\"Everyone\"],[\"Teen\"],[\"Teen\"],[\"Everyone\"],[\"Everyone\"],[\"Everyone\"],[\"Everyone\"],[\"Everyone\"],[\"Everyone\"],[\"Everyone\"],[\"Everyone\"],[\"Everyone\"],[\"Everyone\"],[\"Everyone\"],[\"Everyone\"],[\"Everyone\"],[\"Everyone\"],[\"Everyone\"],[\"Everyone\"],[\"Everyone\"],[\"Everyone\"],[\"Everyone\"],[\"Everyone\"],[\"Everyone\"],[\"Everyone\"],[\"Everyone\"],[\"Everyone\"],[\"Everyone\"],[\"Everyone\"],[\"Everyone\"],[\"Everyone\"],[\"Everyone\"],[\"Everyone\"],[\"Everyone\"],[\"Everyone\"],[\"Everyone\"],[\"Everyone\"],[\"Everyone\"],[\"Everyone\"],[\"Everyone\"],[\"Everyone\"],[\"Everyone\"],[\"Everyone\"],[\"Everyone\"],[\"Everyone\"],[\"Everyone\"],[\"Everyone\"],[\"Everyone\"],[\"Everyone\"],[\"Everyone\"],[\"Everyone\"],[\"Everyone\"],[\"Everyone\"],[\"Everyone\"],[\"Everyone\"],[\"Everyone\"],[\"Everyone\"],[\"Everyone\"],[\"Everyone\"],[\"Everyone\"],[\"Everyone\"],[\"Everyone\"],[\"Everyone\"],[\"Everyone\"],[\"Everyone\"],[\"Everyone\"],[\"Everyone\"],[\"Everyone\"],[\"Everyone\"],[\"Everyone\"],[\"Everyone\"],[\"Everyone\"],[\"Everyone\"],[\"Everyone\"],[\"Everyone\"],[\"Everyone\"],[\"Everyone\"],[\"Everyone\"],[\"Everyone\"],[\"Everyone\"],[\"Everyone\"],[\"Everyone\"],[\"Everyone\"],[\"Everyone\"],[\"Everyone\"],[\"Everyone\"],[\"Everyone\"],[\"Everyone\"],[\"Everyone\"],[\"Everyone\"],[\"Everyone\"],[\"Everyone\"],[\"Everyone\"],[\"Everyone\"],[\"Everyone\"],[\"Everyone\"],[\"Everyone\"],[\"Everyone\"],[\"Everyone\"],[\"Everyone\"],[\"Everyone\"],[\"Everyone\"],[\"Everyone\"],[\"Everyone\"],[\"Everyone\"],[\"Everyone\"],[\"Everyone\"],[\"Everyone\"],[\"Everyone\"],[\"Everyone\"],[\"Everyone\"],[\"Everyone\"],[\"Everyone\"],[\"Everyone\"],[\"Everyone\"],[\"Everyone\"],[\"Everyone\"],[\"Everyone\"],[\"Everyone\"],[\"Everyone\"],[\"Everyone\"],[\"Everyone\"],[\"Everyone\"],[\"Everyone\"],[\"Everyone\"],[\"Everyone\"],[\"Everyone\"],[\"Everyone\"],[\"Everyone\"],[\"Everyone\"],[\"Everyone\"],[\"Everyone\"],[\"Mature 17+\"],[\"Everyone\"],[\"Everyone\"],[\"Everyone\"],[\"Everyone\"],[\"Teen\"],[\"Everyone\"],[\"Everyone\"],[\"Everyone\"],[\"Everyone\"],[\"Everyone\"],[\"Everyone\"],[\"Everyone\"],[\"Everyone\"],[\"Everyone\"],[\"Everyone\"],[\"Everyone\"],[\"Everyone\"],[\"Everyone\"],[\"Everyone\"],[\"Everyone\"],[\"Everyone\"],[\"Everyone\"],[\"Everyone\"],[\"Everyone\"],[\"Everyone\"],[\"Everyone\"],[\"Everyone\"],[\"Everyone\"],[\"Everyone\"],[\"Everyone\"],[\"Everyone\"],[\"Everyone\"],[\"Everyone\"],[\"Everyone\"],[\"Everyone\"],[\"Everyone\"],[\"Everyone\"],[\"Everyone\"],[\"Everyone\"],[\"Everyone\"],[\"Everyone\"],[\"Everyone\"],[\"Everyone\"],[\"Everyone\"],[\"Everyone\"],[\"Everyone\"],[\"Everyone\"],[\"Everyone\"],[\"Everyone\"],[\"Everyone\"],[\"Everyone\"],[\"Everyone\"],[\"Everyone\"],[\"Everyone\"],[\"Everyone\"],[\"Everyone\"],[\"Everyone\"],[\"Everyone\"],[\"Everyone\"],[\"Everyone\"],[\"Everyone\"],[\"Everyone\"],[\"Everyone\"],[\"Everyone\"],[\"Everyone\"],[\"Everyone\"],[\"Everyone\"],[\"Everyone\"],[\"Everyone\"],[\"Everyone\"],[\"Everyone\"],[\"Everyone\"],[\"Everyone\"],[\"Everyone\"],[\"Everyone\"],[\"Everyone\"],[\"Everyone\"],[\"Everyone\"],[\"Teen\"],[\"Everyone\"],[\"Everyone\"],[\"Everyone\"],[\"Everyone\"],[\"Teen\"],[\"Everyone\"],[\"Everyone\"],[\"Everyone\"],[\"Teen\"],[\"Everyone\"],[\"Everyone\"],[\"Everyone\"],[\"Teen\"],[\"Everyone\"],[\"Everyone\"],[\"Everyone\"],[\"Teen\"],[\"Everyone\"],[\"Teen\"],[\"Everyone\"],[\"Everyone\"],[\"Everyone\"],[\"Everyone\"],[\"Teen\"],[\"Everyone\"],[\"Teen\"],[\"Teen\"],[\"Everyone\"],[\"Everyone\"],[\"Everyone\"],[\"Everyone\"],[\"Everyone\"],[\"Teen\"],[\"Everyone\"],[\"Everyone\"],[\"Everyone\"],[\"Everyone\"],[\"Everyone\"],[\"Everyone\"],[\"Everyone\"],[\"Everyone\"],[\"Everyone 10+\"],[\"Everyone\"],[\"Everyone\"],[\"Everyone\"],[\"Teen\"],[\"Teen\"],[\"Teen\"],[\"Everyone\"],[\"Everyone 10+\"],[\"Teen\"],[\"Everyone\"],[\"Everyone 10+\"],[\"Everyone\"],[\"Everyone 10+\"],[\"Everyone\"],[\"Everyone 10+\"],[\"Teen\"],[\"Everyone 10+\"],[\"Everyone\"],[\"Everyone\"],[\"Everyone 10+\"],[\"Everyone\"],[\"Teen\"],[\"Teen\"],[\"Teen\"],[\"Teen\"],[\"Everyone\"],[\"Everyone\"],[\"Everyone\"],[\"Teen\"],[\"Mature 17+\"],[\"Everyone\"],[\"Teen\"],[\"Teen\"],[\"Mature 17+\"],[\"Mature 17+\"],[\"Everyone\"],[\"Everyone\"],[\"Everyone\"],[\"Everyone 10+\"],[\"Everyone 10+\"],[\"Everyone 10+\"],[\"Mature 17+\"],[\"Teen\"],[\"Teen\"],[\"Everyone\"],[\"Everyone\"],[\"Everyone\"],[\"Everyone\"],[\"Everyone\"],[\"Everyone 10+\"],[\"Everyone 10+\"],[\"Everyone\"],[\"Everyone\"],[\"Teen\"],[\"Teen\"],[\"Teen\"],[\"Teen\"],[\"Everyone\"],[\"Everyone\"],[\"Everyone\"],[\"Teen\"],[\"Everyone 10+\"],[\"Everyone\"],[\"Everyone 10+\"],[\"Everyone\"],[\"Everyone 10+\"],[\"Mature 17+\"],[\"Everyone 10+\"],[\"Everyone 10+\"],[\"Teen\"],[\"Everyone 10+\"],[\"Teen\"],[\"Teen\"],[\"Teen\"],[\"Everyone\"],[\"Everyone 10+\"],[\"Everyone\"],[\"Everyone 10+\"],[\"Everyone 10+\"],[\"Everyone 10+\"],[\"Mature 17+\"],[\"Everyone 10+\"],[\"Everyone 10+\"],[\"Teen\"],[\"Everyone 10+\"],[\"Everyone\"],[\"Everyone\"],[\"Everyone 10+\"],[\"Everyone 10+\"],[\"Teen\"],[\"Everyone 10+\"],[\"Everyone\"],[\"Everyone 10+\"],[\"Mature 17+\"],[\"Everyone\"],[\"Everyone\"],[\"Everyone\"],[\"Everyone\"],[\"Everyone\"],[\"Everyone\"],[\"Everyone\"],[\"Everyone\"],[\"Everyone\"],[\"Everyone\"],[\"Everyone\"],[\"Everyone\"],[\"Everyone\"],[\"Everyone\"],[\"Everyone\"],[\"Everyone\"],[\"Everyone\"],[\"Everyone\"],[\"Everyone\"],[\"Everyone\"],[\"Everyone\"],[\"Everyone\"],[\"Everyone\"],[\"Everyone\"],[\"Everyone\"],[\"Everyone\"],[\"Everyone\"],[\"Everyone\"],[\"Everyone\"],[\"Everyone\"],[\"Everyone\"],[\"Everyone\"],[\"Everyone\"],[\"Everyone\"],[\"Everyone\"],[\"Everyone\"],[\"Everyone\"],[\"Everyone\"],[\"Everyone\"],[\"Everyone\"],[\"Everyone\"],[\"Everyone\"],[\"Everyone\"],[\"Everyone\"],[\"Everyone\"],[\"Everyone\"],[\"Everyone\"],[\"Everyone\"],[\"Everyone\"],[\"Everyone\"],[\"Everyone\"],[\"Everyone\"],[\"Mature 17+\"],[\"Everyone\"],[\"Everyone\"],[\"Teen\"],[\"Teen\"],[\"Everyone\"],[\"Everyone\"],[\"Everyone\"],[\"Everyone\"],[\"Everyone\"],[\"Everyone\"],[\"Everyone\"],[\"Teen\"],[\"Mature 17+\"],[\"Everyone\"],[\"Everyone\"],[\"Teen\"],[\"Teen\"],[\"Everyone\"],[\"Everyone\"],[\"Everyone\"],[\"Everyone\"],[\"Everyone\"],[\"Teen\"],[\"Everyone\"],[\"Everyone 10+\"],[\"Everyone\"],[\"Teen\"],[\"Mature 17+\"],[\"Everyone\"],[\"Everyone\"],[\"Everyone\"],[\"Everyone\"],[\"Everyone\"],[\"Everyone\"],[\"Everyone 10+\"],[\"Everyone\"],[\"Everyone 10+\"],[\"Teen\"],[\"Everyone\"],[\"Everyone\"],[\"Everyone\"],[\"Teen\"],[\"Everyone 10+\"],[\"Everyone\"],[\"Teen\"],[\"Everyone\"],[\"Mature 17+\"],[\"Everyone\"],[\"Everyone\"],[\"Teen\"],[\"Everyone\"],[\"Everyone\"],[\"Everyone\"],[\"Mature 17+\"],[\"Everyone\"],[\"Everyone 10+\"],[\"Everyone\"],[\"Everyone\"],[\"Everyone\"],[\"Everyone\"],[\"Everyone\"],[\"Teen\"],[\"Everyone\"],[\"Everyone\"],[\"Everyone\"],[\"Everyone\"],[\"Everyone\"],[\"Teen\"],[\"Everyone\"],[\"Everyone\"],[\"Everyone\"],[\"Everyone\"],[\"Everyone\"],[\"Everyone\"],[\"Mature 17+\"],[\"Everyone\"],[\"Everyone\"],[\"Everyone\"],[\"Teen\"],[\"Everyone\"],[\"Teen\"],[\"Everyone\"],[\"Everyone\"],[\"Everyone 10+\"],[\"Everyone\"],[\"Everyone\"],[\"Everyone\"],[\"Everyone\"],[\"Everyone\"],[\"Everyone\"],[\"Mature 17+\"],[\"Everyone\"],[\"Everyone\"],[\"Everyone\"],[\"Everyone\"],[\"Everyone\"],[\"Everyone\"],[\"Everyone\"],[\"Everyone\"],[\"Everyone\"],[\"Everyone\"],[\"Everyone\"],[\"Everyone\"],[\"Everyone\"],[\"Everyone\"],[\"Everyone\"],[\"Everyone\"],[\"Everyone\"],[\"Everyone\"],[\"Everyone\"],[\"Everyone\"],[\"Everyone\"],[\"Everyone\"],[\"Teen\"],[\"Teen\"],[\"Mature 17+\"],[\"Mature 17+\"],[\"Everyone\"],[\"Everyone\"],[\"Everyone\"],[\"Everyone 10+\"],[\"Everyone\"],[\"Teen\"],[\"Everyone\"],[\"Everyone\"],[\"Everyone\"],[\"Teen\"],[\"Everyone\"],[\"Everyone\"],[\"Everyone\"],[\"Everyone\"],[\"Everyone\"],[\"Everyone\"],[\"Everyone\"],[\"Everyone\"],[\"Teen\"],[\"Everyone\"],[\"Everyone\"],[\"Everyone\"],[\"Teen\"],[\"Teen\"],[\"Everyone\"],[\"Everyone\"],[\"Teen\"],[\"Mature 17+\"],[\"Everyone\"],[\"Everyone\"],[\"Everyone\"],[\"Everyone\"],[\"Everyone\"],[\"Everyone\"],[\"Everyone 10+\"],[\"Everyone\"],[\"Everyone\"],[\"Everyone\"],[\"Everyone\"],[\"Everyone\"],[\"Everyone\"],[\"Teen\"],[\"Everyone\"],[\"Everyone\"],[\"Everyone\"],[\"Everyone 10+\"],[\"Everyone\"],[\"Everyone\"],[\"Everyone\"],[\"Everyone\"],[\"Everyone\"],[\"Everyone\"],[\"Everyone\"],[\"Everyone\"],[\"Everyone\"],[\"Everyone\"],[\"Everyone\"],[\"Teen\"],[\"Everyone\"],[\"Teen\"],[\"Everyone\"],[\"Everyone\"],[\"Teen\"],[\"Everyone\"],[\"Everyone\"],[\"Everyone\"],[\"Everyone\"],[\"Everyone\"],[\"Everyone\"],[\"Everyone\"],[\"Everyone\"],[\"Everyone\"],[\"Everyone\"],[\"Everyone\"],[\"Mature 17+\"],[\"Everyone\"],[\"Everyone\"],[\"Everyone\"],[\"Everyone\"],[\"Everyone\"],[\"Everyone\"],[\"Teen\"],[\"Everyone\"],[\"Teen\"],[\"Everyone\"],[\"Everyone\"],[\"Everyone\"],[\"Everyone\"],[\"Everyone\"],[\"Everyone\"],[\"Everyone\"],[\"Everyone\"],[\"Everyone\"],[\"Everyone\"],[\"Everyone\"],[\"Everyone\"],[\"Everyone\"],[\"Everyone\"],[\"Everyone\"],[\"Everyone\"],[\"Everyone\"],[\"Everyone\"],[\"Everyone\"],[\"Everyone\"],[\"Everyone\"],[\"Everyone\"],[\"Everyone\"],[\"Everyone\"],[\"Everyone\"],[\"Everyone\"],[\"Mature 17+\"],[\"Everyone\"],[\"Everyone\"],[\"Everyone\"],[\"Everyone\"],[\"Mature 17+\"],[\"Everyone\"],[\"Everyone\"],[\"Everyone\"],[\"Everyone\"],[\"Teen\"],[\"Everyone\"],[\"Everyone 10+\"],[\"Everyone\"],[\"Everyone\"],[\"Everyone\"],[\"Everyone\"],[\"Everyone\"],[\"Everyone\"],[\"Everyone\"],[\"Everyone\"],[\"Everyone\"],[\"Everyone\"],[\"Everyone\"],[\"Everyone\"],[\"Everyone\"],[\"Everyone\"],[\"Everyone\"],[\"Everyone\"],[\"Everyone\"],[\"Everyone\"],[\"Everyone\"],[\"Everyone\"],[\"Everyone\"],[\"Everyone\"],[\"Everyone\"],[\"Everyone\"],[\"Everyone\"],[\"Everyone\"],[\"Everyone\"],[\"Teen\"],[\"Everyone\"],[\"Everyone\"],[\"Everyone\"],[\"Everyone\"],[\"Everyone 10+\"],[\"Everyone\"],[\"Everyone\"],[\"Teen\"],[\"Everyone\"],[\"Everyone\"],[\"Everyone\"],[\"Everyone 10+\"],[\"Teen\"],[\"Everyone\"],[\"Everyone\"],[\"Everyone\"],[\"Everyone\"],[\"Everyone\"],[\"Everyone\"],[\"Everyone\"],[\"Everyone\"],[\"Everyone\"],[\"Everyone\"],[\"Everyone\"],[\"Everyone\"],[\"Everyone\"],[\"Everyone\"],[\"Mature 17+\"],[\"Everyone\"],[\"Everyone\"],[\"Everyone\"],[\"Everyone\"],[\"Teen\"],[\"Teen\"],[\"Everyone\"],[\"Everyone\"],[\"Everyone\"],[\"Everyone\"],[\"Teen\"],[\"Everyone\"],[\"Everyone\"],[\"Teen\"],[\"Everyone\"],[\"Everyone\"],[\"Teen\"],[\"Everyone\"],[\"Mature 17+\"],[\"Everyone\"],[\"Everyone\"],[\"Everyone\"],[\"Everyone\"],[\"Everyone\"],[\"Everyone\"],[\"Everyone\"],[\"Everyone\"],[\"Everyone\"],[\"Everyone\"],[\"Everyone\"],[\"Everyone\"],[\"Everyone\"],[\"Everyone\"],[\"Teen\"],[\"Everyone\"],[\"Everyone\"],[\"Teen\"],[\"Mature 17+\"],[\"Everyone\"],[\"Everyone\"],[\"Everyone 10+\"],[\"Everyone 10+\"],[\"Everyone\"],[\"Everyone\"],[\"Everyone\"],[\"Everyone\"],[\"Everyone\"],[\"Everyone\"],[\"Teen\"],[\"Everyone\"],[\"Everyone\"],[\"Everyone\"],[\"Everyone\"],[\"Everyone\"],[\"Everyone\"],[\"Everyone\"],[\"Everyone\"],[\"Mature 17+\"],[\"Everyone\"],[\"Everyone\"],[\"Everyone\"],[\"Everyone\"],[\"Everyone\"],[\"Everyone\"],[\"Everyone 10+\"],[\"Everyone\"],[\"Everyone\"],[\"Everyone\"],[\"Everyone\"],[\"Everyone\"],[\"Everyone\"],[\"Everyone\"],[\"Everyone\"],[\"Everyone\"],[\"Everyone\"],[\"Everyone\"],[\"Everyone\"],[\"Everyone\"],[\"Everyone\"],[\"Everyone\"],[\"Everyone\"],[\"Everyone\"],[\"Everyone\"],[\"Everyone\"],[\"Everyone\"],[\"Everyone\"],[\"Everyone\"],[\"Everyone\"],[\"Everyone\"],[\"Everyone\"],[\"Teen\"],[\"Everyone\"],[\"Everyone 10+\"],[\"Everyone 10+\"],[\"Teen\"],[\"Everyone\"],[\"Everyone\"],[\"Everyone\"],[\"Everyone 10+\"],[\"Everyone\"],[\"Everyone\"],[\"Everyone 10+\"],[\"Everyone\"],[\"Everyone\"],[\"Everyone\"],[\"Everyone\"],[\"Everyone 10+\"],[\"Teen\"],[\"Everyone 10+\"],[\"Everyone\"],[\"Everyone 10+\"],[\"Everyone\"],[\"Everyone\"],[\"Everyone\"],[\"Everyone\"],[\"Everyone\"],[\"Everyone\"],[\"Everyone\"],[\"Everyone\"],[\"Everyone\"],[\"Everyone\"],[\"Teen\"],[\"Everyone\"],[\"Everyone\"],[\"Everyone 10+\"],[\"Everyone\"],[\"Everyone\"],[\"Everyone\"],[\"Everyone 10+\"],[\"Everyone\"],[\"Teen\"],[\"Teen\"],[\"Everyone\"],[\"Everyone\"],[\"Everyone\"],[\"Everyone\"],[\"Everyone\"],[\"Everyone\"],[\"Everyone\"],[\"Everyone\"],[\"Teen\"],[\"Everyone\"],[\"Everyone\"],[\"Mature 17+\"],[\"Everyone\"],[\"Everyone\"],[\"Everyone\"],[\"Everyone\"],[\"Everyone\"],[\"Everyone\"],[\"Teen\"],[\"Everyone\"],[\"Everyone\"],[\"Everyone\"],[\"Everyone\"],[\"Everyone\"],[\"Everyone\"],[\"Everyone\"],[\"Everyone\"],[\"Everyone\"],[\"Everyone\"],[\"Mature 17+\"],[\"Everyone\"],[\"Everyone\"],[\"Everyone\"],[\"Everyone\"],[\"Everyone\"],[\"Everyone\"],[\"Everyone\"],[\"Everyone\"],[\"Everyone\"],[\"Everyone\"],[\"Everyone\"],[\"Everyone\"],[\"Everyone\"],[\"Everyone\"],[\"Everyone\"],[\"Everyone\"],[\"Everyone\"],[\"Everyone\"],[\"Everyone\"],[\"Everyone\"],[\"Everyone\"],[\"Everyone\"],[\"Everyone\"],[\"Everyone\"],[\"Everyone\"],[\"Everyone\"],[\"Everyone\"],[\"Everyone\"],[\"Everyone\"],[\"Everyone\"],[\"Everyone\"],[\"Everyone\"],[\"Everyone\"],[\"Everyone\"],[\"Mature 17+\"],[\"Everyone\"],[\"Everyone\"],[\"Everyone\"],[\"Everyone\"],[\"Teen\"],[\"Everyone\"],[\"Everyone\"],[\"Everyone\"],[\"Everyone\"],[\"Teen\"],[\"Teen\"],[\"Everyone\"],[\"Everyone\"],[\"Everyone\"],[\"Everyone\"],[\"Teen\"],[\"Everyone\"],[\"Everyone\"],[\"Everyone\"],[\"Everyone\"],[\"Everyone\"],[\"Everyone\"],[\"Everyone\"],[\"Everyone\"],[\"Everyone\"],[\"Everyone\"],[\"Everyone\"],[\"Everyone\"],[\"Everyone\"],[\"Everyone\"],[\"Everyone\"],[\"Everyone\"],[\"Everyone\"],[\"Everyone\"],[\"Everyone\"],[\"Everyone\"],[\"Everyone\"],[\"Everyone\"],[\"Everyone\"],[\"Everyone\"],[\"Everyone\"],[\"Everyone\"],[\"Everyone\"],[\"Everyone\"],[\"Everyone\"],[\"Everyone\"],[\"Everyone\"],[\"Everyone\"],[\"Everyone\"],[\"Everyone\"],[\"Everyone\"],[\"Everyone\"],[\"Everyone\"],[\"Everyone\"],[\"Everyone\"],[\"Everyone\"],[\"Everyone\"],[\"Everyone\"],[\"Everyone\"],[\"Everyone\"],[\"Everyone\"],[\"Everyone\"],[\"Teen\"],[\"Teen\"],[\"Everyone\"],[\"Teen\"],[\"Everyone\"],[\"Everyone\"],[\"Everyone\"],[\"Mature 17+\"],[\"Everyone\"],[\"Everyone\"],[\"Everyone\"],[\"Everyone\"],[\"Everyone\"],[\"Everyone\"],[\"Everyone\"],[\"Everyone\"],[\"Everyone\"],[\"Everyone\"],[\"Teen\"],[\"Everyone\"],[\"Everyone\"],[\"Everyone\"],[\"Everyone\"],[\"Teen\"],[\"Teen\"],[\"Everyone\"],[\"Everyone\"],[\"Everyone\"],[\"Everyone\"],[\"Mature 17+\"],[\"Everyone\"],[\"Everyone\"],[\"Everyone\"],[\"Everyone\"],[\"Everyone\"],[\"Everyone\"],[\"Everyone\"],[\"Everyone\"],[\"Everyone\"],[\"Everyone\"],[\"Everyone\"],[\"Everyone\"],[\"Everyone\"],[\"Everyone\"],[\"Everyone\"],[\"Everyone\"],[\"Everyone\"],[\"Everyone\"],[\"Teen\"],[\"Teen\"],[\"Everyone\"],[\"Everyone\"],[\"Teen\"],[\"Everyone\"],[\"Everyone\"],[\"Teen\"],[\"Everyone\"],[\"Everyone 10+\"],[\"Everyone\"],[\"Everyone\"],[\"Everyone\"],[\"Everyone\"],[\"Everyone\"],[\"Everyone\"],[\"Mature 17+\"],[\"Everyone\"],[\"Teen\"],[\"Everyone 10+\"],[\"Mature 17+\"],[\"Everyone\"],[\"Mature 17+\"],[\"Everyone\"],[\"Everyone\"],[\"Everyone\"],[\"Everyone\"],[\"Everyone\"],[\"Everyone\"],[\"Everyone\"],[\"Everyone\"],[\"Everyone\"],[\"Everyone\"],[\"Everyone 10+\"],[\"Everyone\"],[\"Everyone\"],[\"Everyone\"],[\"Everyone\"],[\"Mature 17+\"],[\"Everyone\"],[\"Teen\"],[\"Everyone\"],[\"Everyone\"],[\"Everyone\"],[\"Everyone\"],[\"Everyone\"],[\"Teen\"],[\"Mature 17+\"],[\"Everyone\"],[\"Everyone\"],[\"Everyone\"],[\"Teen\"],[\"Everyone\"],[\"Everyone\"],[\"Everyone\"],[\"Everyone\"],[\"Everyone\"],[\"Teen\"],[\"Teen\"],[\"Teen\"],[\"Everyone\"],[\"Teen\"],[\"Teen\"],[\"Everyone 10+\"],[\"Mature 17+\"],[\"Teen\"],[\"Everyone\"],[\"Everyone\"],[\"Everyone\"],[\"Everyone\"],[\"Everyone\"],[\"Teen\"],[\"Everyone\"],[\"Everyone\"],[\"Mature 17+\"],[\"Everyone\"],[\"Everyone\"],[\"Teen\"],[\"Everyone\"],[\"Everyone\"],[\"Everyone\"],[\"Teen\"],[\"Everyone\"],[\"Everyone\"],[\"Everyone 10+\"],[\"Everyone\"],[\"Everyone\"],[\"Teen\"],[\"Everyone\"],[\"Everyone\"],[\"Everyone\"],[\"Mature 17+\"],[\"Mature 17+\"],[\"Mature 17+\"],[\"Teen\"],[\"Everyone\"],[\"Everyone\"],[\"Everyone\"],[\"Everyone\"],[\"Everyone\"],[\"Everyone\"],[\"Everyone 10+\"],[\"Everyone\"],[\"Everyone\"],[\"Everyone\"],[\"Everyone\"],[\"Everyone\"],[\"Everyone\"],[\"Everyone\"],[\"Everyone\"],[\"Everyone\"],[\"Everyone\"],[\"Everyone\"],[\"Everyone\"],[\"Everyone\"],[\"Everyone\"],[\"Teen\"],[\"Everyone\"],[\"Everyone\"],[\"Everyone\"],[\"Everyone\"],[\"Everyone\"],[\"Everyone\"],[\"Everyone\"],[\"Everyone\"],[\"Everyone\"],[\"Everyone\"],[\"Everyone\"],[\"Everyone\"],[\"Everyone\"],[\"Everyone\"],[\"Everyone\"],[\"Everyone\"],[\"Everyone\"],[\"Everyone\"],[\"Everyone\"],[\"Everyone\"],[\"Teen\"],[\"Everyone\"],[\"Teen\"],[\"Everyone 10+\"],[\"Everyone\"],[\"Everyone\"],[\"Everyone\"],[\"Everyone\"],[\"Everyone\"],[\"Everyone\"],[\"Everyone\"],[\"Everyone\"],[\"Teen\"],[\"Teen\"],[\"Everyone\"],[\"Everyone\"],[\"Everyone\"],[\"Everyone\"],[\"Mature 17+\"],[\"Everyone\"],[\"Everyone\"],[\"Everyone\"],[\"Everyone\"],[\"Everyone\"],[\"Everyone\"],[\"Everyone\"],[\"Everyone\"],[\"Teen\"],[\"Everyone\"],[\"Everyone\"],[\"Everyone\"],[\"Teen\"],[\"Teen\"],[\"Teen\"],[\"Everyone\"],[\"Everyone\"],[\"Teen\"],[\"Teen\"],[\"Everyone\"],[\"Teen\"],[\"Everyone\"],[\"Everyone\"],[\"Teen\"],[\"Everyone\"],[\"Teen\"],[\"Mature 17+\"],[\"Teen\"],[\"Teen\"],[\"Everyone 10+\"],[\"Teen\"],[\"Everyone\"],[\"Teen\"],[\"Teen\"],[\"Mature 17+\"],[\"Teen\"],[\"Everyone\"],[\"Teen\"],[\"Teen\"],[\"Everyone\"],[\"Everyone\"],[\"Teen\"],[\"Everyone\"],[\"Everyone 10+\"],[\"Mature 17+\"],[\"Teen\"],[\"Everyone\"],[\"Teen\"],[\"Teen\"],[\"Everyone\"],[\"Teen\"],[\"Everyone\"],[\"Everyone\"],[\"Everyone\"],[\"Everyone\"],[\"Teen\"],[\"Everyone\"],[\"Everyone 10+\"],[\"Everyone\"],[\"Everyone\"],[\"Everyone\"],[\"Teen\"],[\"Everyone\"],[\"Everyone\"],[\"Everyone\"],[\"Everyone\"],[\"Everyone\"],[\"Everyone\"],[\"Everyone\"],[\"Everyone\"],[\"Everyone\"],[\"Everyone\"],[\"Everyone\"],[\"Everyone\"],[\"Everyone\"],[\"Everyone\"],[\"Everyone\"],[\"Everyone\"],[\"Everyone\"],[\"Everyone\"],[\"Everyone\"],[\"Everyone\"],[\"Everyone\"],[\"Everyone\"],[\"Everyone\"],[\"Everyone\"],[\"Everyone\"],[\"Everyone\"],[\"Everyone\"],[\"Everyone\"],[\"Everyone\"],[\"Everyone\"],[\"Everyone\"],[\"Everyone\"],[\"Everyone\"],[\"Everyone\"],[\"Everyone\"],[\"Everyone\"],[\"Everyone\"],[\"Everyone\"],[\"Everyone\"],[\"Everyone\"],[\"Everyone\"],[\"Everyone\"],[\"Everyone\"],[\"Everyone\"],[\"Teen\"],[\"Everyone\"],[\"Everyone\"],[\"Everyone\"],[\"Everyone\"],[\"Everyone\"],[\"Everyone\"],[\"Everyone\"],[\"Everyone\"],[\"Everyone\"],[\"Everyone\"],[\"Everyone\"],[\"Everyone\"],[\"Everyone\"],[\"Everyone\"],[\"Everyone\"],[\"Everyone\"],[\"Everyone\"],[\"Everyone\"],[\"Everyone\"],[\"Everyone\"],[\"Everyone\"],[\"Everyone\"],[\"Everyone\"],[\"Everyone\"],[\"Everyone\"],[\"Everyone\"],[\"Everyone\"],[\"Everyone\"],[\"Everyone\"],[\"Everyone\"],[\"Everyone\"],[\"Everyone\"],[\"Everyone\"],[\"Everyone\"],[\"Everyone\"],[\"Everyone\"],[\"Everyone\"],[\"Everyone\"],[\"Everyone\"],[\"Everyone\"],[\"Everyone\"],[\"Everyone\"],[\"Everyone\"],[\"Everyone\"],[\"Everyone\"],[\"Everyone\"],[\"Everyone\"],[\"Everyone\"],[\"Everyone\"],[\"Everyone\"],[\"Everyone\"],[\"Everyone\"],[\"Everyone\"],[\"Everyone\"],[\"Everyone\"],[\"Teen\"],[\"Everyone\"],[\"Everyone\"],[\"Everyone\"],[\"Everyone\"],[\"Everyone\"],[\"Everyone\"],[\"Everyone\"],[\"Everyone\"],[\"Everyone\"],[\"Everyone\"],[\"Everyone\"],[\"Everyone\"],[\"Everyone\"],[\"Everyone\"],[\"Everyone\"],[\"Everyone\"],[\"Everyone\"],[\"Everyone\"],[\"Everyone\"],[\"Everyone\"],[\"Everyone\"],[\"Everyone\"],[\"Everyone\"],[\"Everyone\"],[\"Everyone\"],[\"Everyone\"],[\"Everyone\"],[\"Everyone\"],[\"Everyone\"],[\"Everyone\"],[\"Everyone\"],[\"Everyone\"],[\"Everyone\"],[\"Everyone\"],[\"Everyone\"],[\"Teen\"],[\"Everyone\"],[\"Everyone\"],[\"Teen\"],[\"Everyone\"],[\"Everyone\"],[\"Everyone\"],[\"Teen\"],[\"Teen\"],[\"Everyone\"],[\"Everyone\"],[\"Teen\"],[\"Everyone\"],[\"Everyone\"],[\"Everyone\"],[\"Everyone\"],[\"Everyone\"],[\"Everyone\"],[\"Everyone 10+\"],[\"Everyone 10+\"],[\"Everyone\"],[\"Everyone\"],[\"Everyone 10+\"],[\"Everyone\"],[\"Everyone\"],[\"Everyone\"],[\"Everyone\"],[\"Everyone\"],[\"Everyone\"],[\"Everyone\"],[\"Everyone\"],[\"Everyone\"],[\"Everyone\"],[\"Everyone\"],[\"Everyone\"],[\"Everyone\"],[\"Everyone\"],[\"Everyone\"],[\"Everyone\"],[\"Everyone\"],[\"Everyone\"],[\"Everyone\"],[\"Everyone\"],[\"Everyone\"],[\"Everyone\"],[\"Teen\"],[\"Everyone\"],[\"Everyone\"],[\"Mature 17+\"],[\"Everyone\"],[\"Teen\"],[\"Teen\"],[\"Everyone\"],[\"Everyone\"],[\"Everyone\"],[\"Teen\"],[\"Everyone\"],[\"Everyone\"],[\"Everyone\"],[\"Everyone\"],[\"Everyone\"],[\"Everyone\"],[\"Everyone\"],[\"Everyone\"],[\"Everyone\"],[\"Everyone\"],[\"Everyone\"],[\"Everyone\"],[\"Everyone\"],[\"Teen\"],[\"Everyone\"],[\"Everyone\"],[\"Teen\"],[\"Teen\"],[\"Everyone\"],[\"Everyone 10+\"],[\"Everyone\"],[\"Everyone\"],[\"Everyone\"],[\"Everyone\"],[\"Everyone\"],[\"Everyone\"],[\"Everyone\"],[\"Everyone\"],[\"Everyone\"],[\"Everyone\"],[\"Everyone\"],[\"Everyone\"],[\"Everyone\"],[\"Everyone\"],[\"Everyone\"],[\"Everyone\"],[\"Everyone\"],[\"Everyone\"],[\"Everyone\"],[\"Everyone\"],[\"Everyone\"],[\"Everyone\"],[\"Everyone\"],[\"Everyone\"],[\"Everyone\"],[\"Everyone\"],[\"Everyone\"],[\"Everyone\"],[\"Everyone\"],[\"Everyone\"],[\"Everyone\"],[\"Everyone\"],[\"Everyone\"],[\"Everyone\"],[\"Everyone\"],[\"Everyone\"],[\"Everyone\"],[\"Everyone\"],[\"Everyone\"],[\"Teen\"],[\"Everyone\"],[\"Everyone\"],[\"Everyone\"],[\"Everyone\"],[\"Everyone\"],[\"Everyone\"],[\"Everyone\"],[\"Everyone\"],[\"Everyone\"],[\"Everyone\"],[\"Everyone\"],[\"Everyone\"],[\"Everyone\"],[\"Everyone\"],[\"Everyone\"],[\"Everyone\"],[\"Everyone\"],[\"Everyone\"],[\"Everyone\"],[\"Everyone\"],[\"Everyone\"],[\"Everyone\"],[\"Everyone\"],[\"Everyone\"],[\"Everyone\"],[\"Everyone\"],[\"Everyone\"],[\"Everyone\"],[\"Everyone\"],[\"Everyone\"],[\"Teen\"],[\"Everyone\"],[\"Everyone\"],[\"Everyone\"],[\"Everyone\"],[\"Everyone\"],[\"Everyone\"],[\"Everyone\"],[\"Teen\"],[\"Everyone\"],[\"Everyone\"],[\"Everyone\"],[\"Everyone\"],[\"Everyone\"],[\"Everyone\"],[\"Everyone\"],[\"Everyone\"],[\"Everyone\"],[\"Everyone\"],[\"Everyone\"],[\"Everyone\"],[\"Everyone\"],[\"Everyone\"],[\"Everyone\"],[\"Everyone\"],[\"Everyone\"],[\"Everyone\"],[\"Everyone\"],[\"Mature 17+\"],[\"Everyone\"],[\"Everyone\"],[\"Everyone\"],[\"Everyone\"],[\"Everyone\"],[\"Everyone\"],[\"Everyone\"],[\"Everyone\"],[\"Everyone 10+\"],[\"Everyone\"],[\"Everyone\"],[\"Everyone\"],[\"Everyone\"],[\"Everyone\"],[\"Everyone\"],[\"Everyone\"],[\"Everyone\"],[\"Everyone\"],[\"Everyone\"],[\"Everyone\"],[\"Everyone\"],[\"Everyone\"],[\"Everyone\"],[\"Everyone\"],[\"Everyone\"],[\"Everyone\"],[\"Everyone\"],[\"Everyone\"],[\"Everyone\"],[\"Everyone\"],[\"Everyone\"],[\"Everyone\"],[\"Everyone\"],[\"Everyone\"],[\"Everyone\"],[\"Everyone\"],[\"Everyone\"],[\"Mature 17+\"],[\"Everyone\"],[\"Everyone\"],[\"Everyone\"],[\"Everyone\"],[\"Everyone\"],[\"Everyone\"],[\"Everyone\"],[\"Everyone\"],[\"Teen\"],[\"Everyone\"],[\"Everyone\"],[\"Everyone\"],[\"Everyone\"],[\"Teen\"],[\"Everyone\"],[\"Everyone\"],[\"Everyone\"],[\"Everyone\"],[\"Everyone\"],[\"Everyone\"],[\"Everyone\"],[\"Everyone\"],[\"Teen\"],[\"Everyone\"],[\"Everyone\"],[\"Everyone\"],[\"Everyone\"],[\"Everyone\"],[\"Everyone\"],[\"Everyone\"],[\"Everyone\"],[\"Everyone\"],[\"Everyone\"],[\"Everyone\"],[\"Everyone 10+\"],[\"Everyone\"],[\"Everyone\"],[\"Everyone\"],[\"Everyone\"],[\"Everyone\"],[\"Everyone\"],[\"Everyone\"],[\"Everyone\"],[\"Everyone\"],[\"Everyone\"],[\"Teen\"],[\"Everyone\"],[\"Everyone\"],[\"Everyone\"],[\"Everyone\"],[\"Everyone\"],[\"Everyone\"],[\"Everyone\"],[\"Everyone\"],[\"Everyone 10+\"],[\"Everyone\"],[\"Everyone 10+\"],[\"Everyone\"],[\"Everyone\"],[\"Everyone\"],[\"Everyone\"],[\"Teen\"],[\"Teen\"],[\"Teen\"],[\"Teen\"],[\"Everyone\"],[\"Everyone\"],[\"Everyone\"],[\"Everyone\"],[\"Everyone\"],[\"Everyone\"],[\"Teen\"],[\"Everyone\"],[\"Everyone\"],[\"Teen\"],[\"Everyone\"],[\"Teen\"],[\"Everyone\"],[\"Teen\"],[\"Mature 17+\"],[\"Everyone\"],[\"Teen\"],[\"Mature 17+\"],[\"Everyone\"],[\"Everyone\"],[\"Everyone\"],[\"Teen\"],[\"Teen\"],[\"Everyone\"],[\"Teen\"],[\"Everyone\"],[\"Everyone\"],[\"Teen\"],[\"Everyone 10+\"],[\"Everyone\"],[\"Everyone\"],[\"Everyone 10+\"],[\"Everyone\"],[\"Everyone\"],[\"Everyone\"],[\"Everyone\"],[\"Everyone\"],[\"Everyone\"],[\"Everyone\"],[\"Everyone\"],[\"Everyone\"],[\"Teen\"],[\"Everyone\"],[\"Everyone\"],[\"Everyone\"],[\"Everyone\"],[\"Everyone\"],[\"Everyone\"],[\"Everyone\"],[\"Everyone\"],[\"Everyone\"],[\"Everyone\"],[\"Everyone\"],[\"Everyone\"],[\"Everyone\"],[\"Everyone\"],[\"Everyone\"],[\"Everyone\"],[\"Everyone\"],[\"Everyone 10+\"],[\"Everyone\"],[\"Everyone\"],[\"Everyone\"],[\"Everyone\"],[\"Everyone\"],[\"Everyone\"],[\"Everyone\"],[\"Everyone\"],[\"Everyone\"],[\"Everyone\"],[\"Everyone\"],[\"Everyone\"],[\"Everyone\"],[\"Everyone\"],[\"Everyone\"],[\"Everyone\"],[\"Everyone\"],[\"Teen\"],[\"Teen\"],[\"Everyone\"],[\"Everyone\"],[\"Everyone\"],[\"Everyone\"],[\"Everyone\"],[\"Everyone\"],[\"Everyone\"],[\"Everyone\"],[\"Everyone\"],[\"Everyone\"],[\"Everyone\"],[\"Everyone\"],[\"Everyone\"],[\"Everyone\"],[\"Everyone 10+\"],[\"Everyone\"],[\"Teen\"],[\"Everyone\"],[\"Everyone\"],[\"Everyone\"],[\"Everyone 10+\"],[\"Everyone\"],[\"Everyone\"],[\"Everyone\"],[\"Teen\"],[\"Everyone\"],[\"Everyone\"],[\"Everyone\"],[\"Everyone 10+\"],[\"Everyone\"],[\"Everyone\"],[\"Everyone\"],[\"Everyone\"],[\"Everyone\"],[\"Everyone\"],[\"Everyone\"],[\"Teen\"],[\"Everyone\"],[\"Everyone\"],[\"Teen\"],[\"Everyone\"],[\"Mature 17+\"],[\"Everyone\"],[\"Everyone\"],[\"Teen\"],[\"Everyone\"],[\"Everyone\"],[\"Teen\"],[\"Teen\"],[\"Mature 17+\"],[\"Everyone\"],[\"Teen\"],[\"Mature 17+\"],[\"Teen\"],[\"Everyone\"],[\"Mature 17+\"],[\"Teen\"],[\"Everyone\"],[\"Everyone 10+\"],[\"Teen\"],[\"Everyone 10+\"],[\"Mature 17+\"],[\"Everyone\"],[\"Everyone\"],[\"Teen\"],[\"Mature 17+\"],[\"Everyone\"],[\"Everyone\"],[\"Everyone\"],[\"Everyone\"],[\"Mature 17+\"],[\"Everyone\"],[\"Teen\"],[\"Everyone\"],[\"Everyone\"],[\"Everyone\"],[\"Teen\"],[\"Everyone\"],[\"Everyone\"],[\"Everyone\"],[\"Everyone\"],[\"Everyone\"],[\"Everyone\"],[\"Everyone\"],[\"Everyone\"],[\"Everyone\"],[\"Everyone\"],[\"Everyone\"],[\"Everyone\"],[\"Everyone\"],[\"Everyone\"],[\"Everyone\"],[\"Everyone\"],[\"Everyone\"],[\"Everyone\"],[\"Everyone\"],[\"Everyone\"],[\"Everyone\"],[\"Everyone\"],[\"Everyone\"],[\"Everyone\"],[\"Everyone\"],[\"Everyone\"],[\"Everyone\"],[\"Everyone\"],[\"Everyone\"],[\"Everyone\"],[\"Everyone\"],[\"Everyone\"],[\"Everyone\"],[\"Everyone\"],[\"Everyone\"],[\"Everyone\"],[\"Everyone\"],[\"Everyone\"],[\"Teen\"],[\"Mature 17+\"],[\"Everyone\"],[\"Everyone\"],[\"Teen\"],[\"Everyone\"],[\"Everyone\"],[\"Everyone 10+\"],[\"Everyone 10+\"],[\"Everyone\"],[\"Everyone\"],[\"Everyone\"],[\"Everyone\"],[\"Everyone\"],[\"Everyone\"],[\"Everyone\"],[\"Everyone\"],[\"Everyone\"],[\"Everyone\"],[\"Everyone\"],[\"Everyone\"],[\"Everyone\"],[\"Everyone\"],[\"Everyone\"],[\"Everyone\"],[\"Everyone\"],[\"Mature 17+\"],[\"Everyone\"],[\"Everyone\"],[\"Everyone 10+\"],[\"Everyone 10+\"],[\"Teen\"],[\"Everyone 10+\"],[\"Teen\"],[\"Everyone\"],[\"Mature 17+\"],[\"Teen\"],[\"Teen\"],[\"Teen\"],[\"Teen\"],[\"Everyone\"],[\"Mature 17+\"],[\"Everyone\"],[\"Everyone\"],[\"Everyone\"],[\"Everyone 10+\"],[\"Everyone\"],[\"Teen\"],[\"Everyone 10+\"],[\"Everyone\"],[\"Everyone\"],[\"Everyone\"],[\"Everyone\"],[\"Everyone\"],[\"Everyone\"],[\"Everyone\"],[\"Everyone\"],[\"Teen\"],[\"Everyone\"],[\"Everyone\"],[\"Everyone\"],[\"Everyone\"],[\"Everyone 10+\"],[\"Everyone\"],[\"Everyone\"],[\"Everyone\"],[\"Everyone\"],[\"Everyone\"],[\"Everyone\"],[\"Everyone\"],[\"Everyone\"],[\"Everyone\"],[\"Everyone\"],[\"Everyone\"],[\"Teen\"],[\"Everyone\"],[\"Everyone\"],[\"Everyone\"],[\"Everyone\"],[\"Everyone\"],[\"Everyone\"],[\"Everyone\"],[\"Everyone\"],[\"Everyone\"],[\"Everyone\"],[\"Everyone\"],[\"Everyone\"],[\"Everyone\"],[\"Everyone 10+\"],[\"Everyone\"],[\"Everyone 10+\"],[\"Everyone\"],[\"Everyone\"],[\"Everyone\"],[\"Teen\"],[\"Everyone\"],[\"Everyone\"],[\"Everyone\"],[\"Everyone\"],[\"Everyone\"],[\"Everyone\"],[\"Everyone\"],[\"Everyone 10+\"],[\"Everyone\"],[\"Everyone\"],[\"Everyone\"],[\"Everyone\"],[\"Everyone\"],[\"Teen\"],[\"Everyone\"],[\"Everyone\"],[\"Everyone\"],[\"Everyone 10+\"],[\"Teen\"],[\"Teen\"],[\"Teen\"],[\"Mature 17+\"],[\"Everyone 10+\"],[\"Everyone 10+\"],[\"Teen\"],[\"Teen\"],[\"Everyone\"],[\"Teen\"],[\"Everyone\"],[\"Teen\"],[\"Everyone\"],[\"Teen\"],[\"Teen\"],[\"Teen\"],[\"Teen\"],[\"Teen\"],[\"Teen\"],[\"Teen\"],[\"Teen\"],[\"Everyone 10+\"],[\"Teen\"],[\"Teen\"],[\"Teen\"],[\"Teen\"],[\"Everyone 10+\"],[\"Teen\"],[\"Everyone\"],[\"Teen\"],[\"Teen\"],[\"Teen\"],[\"Everyone\"],[\"Teen\"],[\"Mature 17+\"],[\"Everyone\"],[\"Everyone\"],[\"Everyone\"],[\"Everyone\"],[\"Everyone\"],[\"Everyone\"],[\"Everyone\"],[\"Everyone\"],[\"Everyone\"],[\"Everyone\"],[\"Everyone\"],[\"Everyone\"],[\"Everyone\"],[\"Everyone\"],[\"Everyone\"],[\"Everyone\"],[\"Everyone\"],[\"Everyone\"],[\"Everyone\"],[\"Everyone\"],[\"Everyone\"],[\"Everyone\"],[\"Everyone\"],[\"Everyone\"],[\"Teen\"],[\"Everyone\"],[\"Everyone\"],[\"Everyone\"],[\"Everyone\"],[\"Everyone\"],[\"Everyone\"],[\"Teen\"],[\"Everyone\"],[\"Teen\"],[\"Everyone\"],[\"Teen\"],[\"Teen\"],[\"Everyone\"],[\"Everyone\"],[\"Everyone\"],[\"Everyone\"],[\"Everyone\"],[\"Everyone\"],[\"Everyone\"],[\"Teen\"],[\"Everyone\"],[\"Everyone\"],[\"Everyone\"],[\"Teen\"],[\"Everyone\"],[\"Everyone\"],[\"Everyone\"],[\"Everyone\"],[\"Everyone\"],[\"Everyone\"],[\"Everyone\"],[\"Teen\"],[\"Everyone\"],[\"Everyone\"],[\"Everyone\"],[\"Everyone\"],[\"Everyone\"],[\"Everyone\"],[\"Everyone\"],[\"Everyone\"],[\"Everyone\"],[\"Everyone\"],[\"Everyone\"],[\"Everyone\"],[\"Everyone\"],[\"Everyone\"],[\"Everyone\"],[\"Everyone\"],[\"Everyone\"],[\"Everyone\"],[\"Everyone\"],[\"Teen\"],[\"Everyone\"],[\"Everyone\"],[\"Everyone\"],[\"Everyone\"],[\"Everyone\"],[\"Everyone\"],[\"Everyone\"],[\"Everyone\"],[\"Everyone\"],[\"Everyone\"],[\"Everyone\"],[\"Everyone\"],[\"Everyone\"],[\"Everyone\"],[\"Everyone\"],[\"Everyone\"],[\"Everyone\"],[\"Everyone\"],[\"Everyone\"],[\"Everyone\"],[\"Everyone 10+\"],[\"Everyone\"],[\"Everyone\"],[\"Everyone\"],[\"Teen\"],[\"Everyone\"],[\"Everyone\"],[\"Teen\"],[\"Everyone\"],[\"Everyone\"],[\"Everyone\"],[\"Teen\"],[\"Everyone\"],[\"Teen\"],[\"Everyone\"],[\"Everyone 10+\"],[\"Everyone\"],[\"Everyone\"],[\"Everyone\"],[\"Everyone\"],[\"Everyone\"],[\"Everyone\"],[\"Everyone\"],[\"Everyone\"],[\"Everyone\"],[\"Everyone\"],[\"Everyone\"],[\"Everyone 10+\"],[\"Everyone 10+\"],[\"Everyone\"],[\"Everyone\"],[\"Everyone\"],[\"Everyone\"],[\"Everyone\"],[\"Everyone\"],[\"Everyone\"],[\"Everyone\"],[\"Everyone\"],[\"Everyone\"],[\"Everyone\"],[\"Everyone 10+\"],[\"Everyone\"],[\"Everyone\"],[\"Everyone\"],[\"Everyone\"],[\"Everyone\"],[\"Everyone\"],[\"Everyone\"],[\"Teen\"],[\"Everyone\"],[\"Everyone\"],[\"Everyone\"],[\"Teen\"],[\"Everyone\"],[\"Everyone\"],[\"Everyone\"],[\"Everyone\"],[\"Everyone\"],[\"Everyone\"],[\"Everyone\"],[\"Teen\"],[\"Everyone\"],[\"Everyone\"],[\"Everyone\"],[\"Everyone\"],[\"Everyone\"],[\"Everyone\"],[\"Everyone\"],[\"Everyone\"],[\"Everyone\"],[\"Everyone 10+\"],[\"Teen\"],[\"Everyone\"],[\"Teen\"],[\"Teen\"],[\"Everyone\"],[\"Everyone\"],[\"Everyone\"],[\"Everyone\"],[\"Everyone\"],[\"Everyone\"],[\"Mature 17+\"],[\"Everyone\"],[\"Mature 17+\"],[\"Everyone\"],[\"Everyone\"],[\"Everyone\"],[\"Everyone\"],[\"Everyone\"],[\"Everyone\"],[\"Everyone 10+\"],[\"Everyone\"],[\"Everyone\"],[\"Mature 17+\"],[\"Everyone\"],[\"Mature 17+\"],[\"Everyone\"],[\"Everyone\"],[\"Everyone\"],[\"Everyone\"],[\"Teen\"],[\"Everyone\"],[\"Everyone\"],[\"Everyone\"],[\"Everyone\"],[\"Mature 17+\"],[\"Everyone\"],[\"Mature 17+\"],[\"Teen\"],[\"Mature 17+\"],[\"Everyone\"],[\"Everyone\"],[\"Everyone\"],[\"Everyone\"],[\"Everyone\"],[\"Everyone\"],[\"Everyone\"],[\"Everyone\"],[\"Everyone\"],[\"Everyone\"],[\"Everyone\"],[\"Everyone\"],[\"Everyone\"],[\"Everyone\"],[\"Everyone\"],[\"Everyone\"],[\"Everyone\"],[\"Everyone\"],[\"Everyone\"],[\"Everyone\"],[\"Everyone\"],[\"Everyone\"],[\"Teen\"],[\"Everyone\"],[\"Everyone\"],[\"Everyone\"],[\"Everyone\"],[\"Everyone\"],[\"Everyone\"],[\"Everyone\"],[\"Everyone\"],[\"Everyone\"],[\"Everyone\"],[\"Everyone\"],[\"Everyone\"],[\"Everyone\"],[\"Everyone\"],[\"Everyone\"],[\"Everyone\"],[\"Everyone\"],[\"Everyone\"],[\"Everyone\"],[\"Everyone\"],[\"Everyone\"],[\"Everyone\"],[\"Everyone\"],[\"Everyone\"],[\"Everyone\"],[\"Everyone\"],[\"Everyone\"],[\"Everyone\"],[\"Everyone\"],[\"Everyone\"],[\"Everyone\"],[\"Everyone\"],[\"Everyone\"],[\"Everyone\"],[\"Everyone\"],[\"Everyone\"],[\"Everyone\"],[\"Everyone\"],[\"Everyone\"],[\"Everyone\"],[\"Everyone\"],[\"Everyone\"],[\"Everyone\"],[\"Everyone\"],[\"Everyone\"],[\"Everyone\"],[\"Everyone\"],[\"Everyone\"],[\"Everyone\"],[\"Everyone\"],[\"Everyone\"],[\"Everyone\"],[\"Everyone\"],[\"Everyone\"],[\"Everyone\"],[\"Everyone 10+\"],[\"Everyone\"],[\"Everyone\"],[\"Everyone\"],[\"Everyone\"],[\"Teen\"],[\"Everyone\"],[\"Everyone\"],[\"Everyone\"],[\"Everyone 10+\"],[\"Everyone\"],[\"Everyone\"],[\"Everyone\"],[\"Everyone\"],[\"Everyone\"],[\"Everyone\"],[\"Everyone\"],[\"Everyone\"],[\"Everyone 10+\"],[\"Everyone\"],[\"Everyone\"],[\"Everyone\"],[\"Everyone\"],[\"Everyone\"],[\"Everyone\"],[\"Everyone\"],[\"Teen\"],[\"Everyone\"],[\"Everyone\"],[\"Everyone\"],[\"Everyone\"],[\"Everyone\"],[\"Everyone\"],[\"Everyone\"],[\"Everyone\"],[\"Everyone\"],[\"Everyone\"],[\"Everyone\"],[\"Everyone\"],[\"Everyone\"],[\"Everyone\"],[\"Everyone\"],[\"Everyone\"],[\"Everyone\"],[\"Everyone\"],[\"Everyone\"],[\"Teen\"],[\"Everyone\"],[\"Everyone\"],[\"Everyone\"],[\"Everyone\"],[\"Everyone\"],[\"Everyone\"],[\"Everyone\"],[\"Everyone\"],[\"Everyone\"],[\"Everyone\"],[\"Everyone\"],[\"Everyone\"],[\"Teen\"],[\"Everyone\"],[\"Everyone\"],[\"Everyone\"],[\"Everyone\"],[\"Everyone\"],[\"Everyone\"],[\"Everyone\"],[\"Everyone\"],[\"Everyone\"],[\"Everyone\"],[\"Everyone\"],[\"Everyone\"],[\"Everyone\"],[\"Everyone\"],[\"Everyone\"],[\"Everyone\"],[\"Everyone\"],[\"Everyone\"],[\"Everyone\"],[\"Everyone\"],[\"Everyone\"],[\"Everyone\"],[\"Teen\"],[\"Everyone\"],[\"Everyone\"],[\"Everyone\"],[\"Everyone\"],[\"Everyone\"],[\"Everyone\"],[\"Everyone\"],[\"Everyone\"],[\"Everyone\"],[\"Everyone\"],[\"Everyone\"],[\"Everyone\"],[\"Everyone\"],[\"Everyone\"],[\"Everyone\"],[\"Everyone\"],[\"Everyone\"],[\"Everyone\"],[\"Everyone\"],[\"Everyone\"],[\"Teen\"],[\"Teen\"],[\"Everyone\"],[\"Teen\"],[\"Teen\"],[\"Everyone\"],[\"Everyone\"],[\"Teen\"],[\"Everyone\"],[\"Everyone\"],[\"Teen\"],[\"Everyone\"],[\"Everyone\"],[\"Everyone\"],[\"Everyone\"],[\"Everyone\"],[\"Teen\"],[\"Everyone\"],[\"Everyone\"],[\"Teen\"],[\"Everyone\"],[\"Teen\"],[\"Teen\"],[\"Teen\"],[\"Teen\"],[\"Everyone\"],[\"Everyone\"],[\"Everyone\"],[\"Everyone 10+\"],[\"Teen\"],[\"Everyone\"],[\"Everyone 10+\"],[\"Everyone 10+\"],[\"Everyone\"],[\"Teen\"],[\"Everyone\"],[\"Everyone\"],[\"Everyone\"],[\"Everyone\"],[\"Teen\"],[\"Teen\"],[\"Teen\"],[\"Everyone\"],[\"Everyone\"],[\"Everyone\"],[\"Everyone\"],[\"Teen\"],[\"Everyone\"],[\"Mature 17+\"],[\"Mature 17+\"],[\"Mature 17+\"],[\"Mature 17+\"],[\"Teen\"],[\"Teen\"],[\"Teen\"],[\"Mature 17+\"],[\"Everyone\"],[\"Mature 17+\"],[\"Everyone\"],[\"Everyone\"],[\"Teen\"],[\"Everyone\"],[\"Everyone\"],[\"Everyone\"],[\"Everyone\"],[\"Mature 17+\"],[\"Everyone\"],[\"Everyone\"],[\"Teen\"],[\"Everyone\"],[\"Everyone\"],[\"Everyone\"],[\"Everyone\"],[\"Everyone\"],[\"Everyone\"],[\"Everyone\"],[\"Everyone\"],[\"Everyone\"],[\"Everyone\"],[\"Everyone\"],[\"Everyone\"],[\"Everyone\"],[\"Everyone\"],[\"Everyone\"],[\"Everyone\"],[\"Everyone\"],[\"Everyone\"],[\"Mature 17+\"],[\"Everyone\"],[\"Everyone\"],[\"Everyone\"],[\"Everyone\"],[\"Everyone\"],[\"Everyone\"],[\"Everyone\"],[\"Everyone\"],[\"Everyone\"],[\"Everyone\"],[\"Teen\"],[\"Everyone\"],[\"Everyone\"],[\"Everyone\"],[\"Everyone\"],[\"Everyone\"],[\"Everyone\"],[\"Everyone\"],[\"Everyone\"],[\"Everyone\"],[\"Everyone\"],[\"Everyone\"],[\"Everyone\"],[\"Teen\"],[\"Everyone\"],[\"Everyone\"],[\"Everyone\"],[\"Everyone\"],[\"Everyone\"],[\"Everyone\"],[\"Everyone\"],[\"Everyone\"],[\"Everyone\"],[\"Teen\"],[\"Everyone\"],[\"Everyone\"],[\"Teen\"],[\"Teen\"],[\"Everyone\"],[\"Everyone\"],[\"Everyone\"],[\"Everyone\"],[\"Everyone\"],[\"Teen\"],[\"Teen\"],[\"Everyone\"],[\"Everyone\"],[\"Teen\"],[\"Everyone\"],[\"Everyone\"],[\"Everyone\"],[\"Everyone\"],[\"Everyone\"],[\"Everyone\"],[\"Everyone\"],[\"Everyone\"],[\"Everyone\"],[\"Everyone 10+\"],[\"Everyone\"],[\"Teen\"],[\"Everyone\"],[\"Everyone\"],[\"Everyone\"],[\"Everyone\"],[\"Everyone\"],[\"Everyone\"],[\"Everyone\"],[\"Everyone\"],[\"Teen\"],[\"Everyone\"],[\"Everyone\"],[\"Everyone\"],[\"Everyone\"],[\"Everyone\"],[\"Everyone\"],[\"Everyone\"],[\"Everyone\"],[\"Everyone\"],[\"Everyone\"],[\"Everyone\"],[\"Everyone\"],[\"Everyone\"],[\"Mature 17+\"],[\"Everyone\"],[\"Everyone\"],[\"Everyone\"],[\"Everyone\"],[\"Everyone\"],[\"Everyone\"],[\"Everyone\"],[\"Everyone\"],[\"Everyone\"],[\"Everyone\"],[\"Teen\"],[\"Everyone\"],[\"Everyone\"],[\"Everyone\"],[\"Everyone\"],[\"Everyone\"],[\"Everyone\"],[\"Everyone\"],[\"Everyone\"],[\"Everyone\"],[\"Everyone\"],[\"Teen\"],[\"Everyone\"],[\"Everyone\"],[\"Everyone\"],[\"Everyone\"],[\"Teen\"],[\"Everyone\"],[\"Everyone\"],[\"Everyone\"],[\"Everyone\"],[\"Everyone\"],[\"Mature 17+\"],[\"Everyone\"],[\"Everyone\"],[\"Everyone\"],[\"Everyone\"],[\"Everyone\"],[\"Teen\"],[\"Everyone\"],[\"Mature 17+\"],[\"Everyone\"],[\"Everyone\"],[\"Everyone\"],[\"Everyone\"],[\"Everyone\"],[\"Everyone\"],[\"Everyone\"],[\"Everyone\"],[\"Everyone\"],[\"Mature 17+\"],[\"Everyone\"],[\"Everyone\"],[\"Everyone\"],[\"Mature 17+\"],[\"Everyone\"],[\"Mature 17+\"],[\"Everyone\"],[\"Everyone\"],[\"Everyone\"],[\"Everyone\"],[\"Everyone\"],[\"Everyone\"],[\"Everyone\"],[\"Everyone\"],[\"Teen\"],[\"Everyone\"],[\"Everyone\"],[\"Everyone\"],[\"Everyone\"],[\"Teen\"],[\"Everyone\"],[\"Everyone\"],[\"Everyone\"],[\"Everyone\"],[\"Everyone\"],[\"Everyone\"],[\"Everyone\"],[\"Everyone\"],[\"Everyone\"],[\"Everyone\"],[\"Everyone\"],[\"Everyone\"],[\"Teen\"],[\"Everyone\"],[\"Everyone\"],[\"Teen\"],[\"Everyone\"],[\"Teen\"],[\"Teen\"],[\"Mature 17+\"],[\"Everyone\"],[\"Everyone\"],[\"Everyone\"],[\"Mature 17+\"],[\"Teen\"],[\"Everyone\"],[\"Teen\"],[\"Everyone\"],[\"Everyone\"],[\"Teen\"],[\"Teen\"],[\"Everyone\"],[\"Teen\"],[\"Everyone\"],[\"Everyone\"],[\"Everyone\"],[\"Teen\"],[\"Everyone\"],[\"Everyone\"],[\"Teen\"],[\"Everyone\"],[\"Teen\"],[\"Everyone\"],[\"Teen\"],[\"Everyone\"],[\"Everyone\"],[\"Teen\"],[\"Everyone\"],[\"Everyone\"],[\"Everyone\"],[\"Everyone\"],[\"Everyone\"],[\"Everyone\"],[\"Everyone\"],[\"Everyone\"],[\"Everyone\"],[\"Everyone\"],[\"Everyone\"],[\"Everyone\"],[\"Mature 17+\"],[\"Teen\"],[\"Everyone\"],[\"Mature 17+\"],[\"Everyone\"],[\"Everyone\"],[\"Everyone\"],[\"Everyone\"],[\"Teen\"],[\"Everyone\"],[\"Everyone\"],[\"Everyone\"],[\"Everyone\"],[\"Everyone\"],[\"Everyone\"],[\"Everyone\"],[\"Everyone\"],[\"Everyone\"],[\"Everyone\"],[\"Everyone\"],[\"Everyone\"],[\"Everyone\"],[\"Everyone\"],[\"Everyone\"],[\"Everyone\"],[\"Everyone\"],[\"Everyone\"],[\"Everyone\"],[\"Everyone\"],[\"Everyone\"],[\"Everyone\"],[\"Teen\"],[\"Mature 17+\"],[\"Mature 17+\"],[\"Teen\"],[\"Mature 17+\"],[\"Mature 17+\"],[\"Teen\"],[\"Teen\"],[\"Teen\"],[\"Everyone\"],[\"Teen\"],[\"Teen\"],[\"Teen\"],[\"Teen\"],[\"Teen\"],[\"Mature 17+\"],[\"Mature 17+\"],[\"Everyone\"],[\"Everyone\"],[\"Teen\"],[\"Everyone\"],[\"Everyone\"],[\"Adults only 18+\"],[\"Everyone\"],[\"Teen\"],[\"Everyone\"],[\"Everyone\"],[\"Everyone\"],[\"Everyone\"],[\"Teen\"],[\"Everyone\"],[\"Everyone\"],[\"Everyone\"],[\"Everyone\"],[\"Everyone\"],[\"Everyone\"],[\"Everyone\"],[\"Everyone\"],[\"Everyone\"],[\"Everyone\"],[\"Everyone\"],[\"Everyone\"],[\"Everyone\"],[\"Everyone\"],[\"Everyone\"],[\"Everyone\"],[\"Teen\"],[\"Everyone\"],[\"Everyone\"],[\"Everyone\"],[\"Everyone\"],[\"Everyone\"],[\"Everyone\"],[\"Everyone\"],[\"Everyone\"],[\"Everyone\"],[\"Teen\"],[\"Everyone\"],[\"Everyone\"],[\"Everyone\"],[\"Everyone\"],[\"Everyone\"],[\"Everyone\"],[\"Everyone\"],[\"Everyone\"],[\"Everyone\"],[\"Teen\"],[\"Everyone\"],[\"Everyone\"],[\"Everyone\"],[\"Everyone\"],[\"Everyone\"],[\"Everyone\"],[\"Everyone\"],[\"Everyone\"],[\"Everyone\"],[\"Everyone\"],[\"Everyone\"],[\"Everyone\"],[\"Everyone\"],[\"Everyone\"],[\"Everyone\"],[\"Everyone\"],[\"Everyone\"],[\"Everyone\"],[\"Everyone\"],[\"Everyone\"],[\"Everyone\"],[\"Everyone\"],[\"Everyone\"],[\"Everyone\"],[\"Everyone\"],[\"Everyone\"],[\"Everyone\"],[\"Everyone\"],[\"Everyone\"],[\"Everyone\"],[\"Everyone\"],[\"Everyone\"],[\"Everyone\"],[\"Everyone\"],[\"Everyone\"],[\"Everyone\"],[\"Everyone\"],[\"Everyone\"],[\"Everyone\"],[\"Everyone\"],[\"Everyone\"],[\"Everyone\"],[\"Everyone\"],[\"Everyone\"],[\"Everyone\"],[\"Teen\"],[\"Everyone\"],[\"Everyone\"],[\"Everyone\"],[\"Everyone\"],[\"Everyone\"],[\"Everyone\"],[\"Everyone\"],[\"Everyone\"],[\"Everyone\"],[\"Everyone\"],[\"Everyone\"],[\"Everyone\"],[\"Everyone\"],[\"Everyone\"],[\"Everyone\"],[\"Teen\"],[\"Everyone\"],[\"Everyone\"],[\"Everyone\"],[\"Everyone\"],[\"Everyone\"],[\"Everyone\"],[\"Everyone\"],[\"Everyone\"],[\"Everyone\"],[\"Everyone\"],[\"Everyone\"],[\"Everyone\"],[\"Everyone\"],[\"Everyone\"],[\"Everyone\"],[\"Everyone 10+\"],[\"Everyone\"],[\"Everyone\"],[\"Everyone\"],[\"Teen\"],[\"Everyone\"],[\"Teen\"],[\"Teen\"],[\"Everyone\"],[\"Everyone\"],[\"Everyone\"],[\"Teen\"],[\"Teen\"],[\"Everyone\"],[\"Teen\"],[\"Everyone\"],[\"Teen\"],[\"Everyone\"],[\"Everyone\"],[\"Everyone\"],[\"Teen\"],[\"Everyone 10+\"],[\"Teen\"],[\"Everyone\"],[\"Teen\"],[\"Everyone\"],[\"Everyone\"],[\"Everyone\"],[\"Everyone\"],[\"Everyone\"],[\"Everyone\"],[\"Everyone\"],[\"Everyone\"],[\"Everyone\"],[\"Everyone\"],[\"Everyone\"],[\"Everyone\"],[\"Everyone\"],[\"Everyone\"],[\"Everyone\"],[\"Everyone\"],[\"Everyone\"],[\"Everyone\"],[\"Everyone\"],[\"Everyone\"],[\"Everyone\"],[\"Everyone\"],[\"Everyone\"],[\"Everyone\"],[\"Everyone\"],[\"Everyone\"],[\"Everyone\"],[\"Everyone\"],[\"Everyone\"],[\"Everyone\"],[\"Everyone\"],[\"Everyone\"],[\"Everyone\"],[\"Everyone 10+\"],[\"Everyone\"],[\"Everyone\"],[\"Everyone\"],[\"Everyone\"],[\"Everyone\"],[\"Everyone\"],[\"Everyone\"],[\"Everyone\"],[\"Everyone 10+\"],[\"Everyone\"],[\"Everyone\"],[\"Everyone\"],[\"Everyone\"],[\"Everyone\"],[\"Everyone\"],[\"Everyone\"],[\"Everyone\"],[\"Teen\"],[\"Everyone 10+\"],[\"Everyone\"],[\"Everyone\"],[\"Everyone\"],[\"Everyone\"],[\"Everyone\"],[\"Everyone\"],[\"Everyone\"],[\"Everyone\"],[\"Everyone\"],[\"Everyone\"],[\"Everyone\"],[\"Everyone\"],[\"Everyone\"],[\"Everyone\"],[\"Everyone\"],[\"Everyone\"],[\"Everyone\"],[\"Everyone\"],[\"Everyone\"],[\"Everyone\"],[\"Everyone\"],[\"Everyone\"],[\"Everyone\"],[\"Teen\"],[\"Everyone\"],[\"Everyone\"],[\"Everyone\"],[\"Everyone\"],[\"Everyone\"],[\"Everyone\"],[\"Everyone 10+\"],[\"Everyone\"],[\"Everyone\"],[\"Everyone\"],[\"Everyone\"],[\"Everyone\"],[\"Everyone\"],[\"Everyone\"],[\"Everyone\"],[\"Everyone\"],[\"Everyone\"],[\"Everyone\"],[\"Everyone\"],[\"Everyone\"],[\"Everyone\"],[\"Everyone\"],[\"Everyone\"],[\"Everyone\"],[\"Teen\"],[\"Everyone\"],[\"Everyone\"],[\"Everyone\"],[\"Everyone\"],[\"Everyone\"],[\"Everyone\"],[\"Everyone 10+\"],[\"Teen\"],[\"Everyone\"],[\"Everyone\"],[\"Everyone\"],[\"Everyone\"],[\"Everyone\"],[\"Everyone\"],[\"Everyone\"],[\"Everyone\"],[\"Everyone\"],[\"Teen\"],[\"Everyone\"],[\"Teen\"],[\"Everyone 10+\"],[\"Teen\"],[\"Everyone\"],[\"Teen\"],[\"Teen\"],[\"Everyone\"],[\"Everyone\"],[\"Everyone\"],[\"Everyone\"],[\"Everyone\"],[\"Teen\"],[\"Everyone\"],[\"Everyone\"],[\"Teen\"],[\"Everyone\"],[\"Everyone\"],[\"Everyone\"],[\"Everyone\"],[\"Everyone\"],[\"Everyone\"],[\"Everyone\"],[\"Everyone\"],[\"Everyone\"],[\"Everyone\"],[\"Everyone\"],[\"Mature 17+\"],[\"Everyone\"],[\"Everyone\"],[\"Everyone\"],[\"Everyone\"],[\"Everyone\"],[\"Everyone\"],[\"Everyone\"],[\"Everyone\"],[\"Everyone\"],[\"Everyone\"],[\"Everyone\"],[\"Teen\"],[\"Everyone\"],[\"Everyone\"],[\"Everyone\"],[\"Everyone\"],[\"Everyone\"],[\"Everyone\"],[\"Everyone\"],[\"Everyone\"],[\"Teen\"],[\"Teen\"],[\"Everyone\"],[\"Everyone\"],[\"Everyone\"],[\"Everyone\"],[\"Everyone\"],[\"Everyone\"],[\"Everyone\"],[\"Teen\"],[\"Everyone\"],[\"Everyone\"],[\"Everyone\"],[\"Everyone\"],[\"Everyone\"],[\"Everyone\"],[\"Everyone\"],[\"Everyone\"],[\"Everyone\"],[\"Everyone\"],[\"Everyone\"],[\"Everyone\"],[\"Everyone\"],[\"Everyone\"],[\"Everyone\"],[\"Teen\"],[\"Everyone\"],[\"Everyone\"],[\"Everyone\"],[\"Everyone\"],[\"Everyone\"],[\"Everyone\"],[\"Everyone\"],[\"Everyone\"],[\"Everyone\"],[\"Everyone\"],[\"Everyone\"],[\"Everyone\"],[\"Mature 17+\"],[\"Everyone\"],[\"Everyone\"],[\"Everyone\"],[\"Everyone\"],[\"Everyone\"],[\"Everyone\"],[\"Everyone\"],[\"Everyone\"],[\"Everyone\"],[\"Everyone\"],[\"Everyone\"],[\"Everyone\"],[\"Everyone\"],[\"Everyone\"],[\"Everyone\"],[\"Everyone\"],[\"Everyone\"],[\"Everyone\"],[\"Everyone\"],[\"Everyone\"],[\"Everyone\"],[\"Everyone\"],[\"Everyone\"],[\"Everyone\"],[\"Everyone\"],[\"Teen\"],[\"Everyone\"],[\"Everyone\"],[\"Everyone\"],[\"Everyone\"],[\"Everyone\"],[\"Everyone\"],[\"Everyone\"],[\"Everyone\"],[\"Everyone\"],[\"Everyone\"],[\"Everyone\"],[\"Everyone\"],[\"Everyone\"],[\"Everyone\"],[\"Everyone\"],[\"Everyone\"],[\"Everyone\"],[\"Everyone\"],[\"Everyone\"],[\"Everyone\"],[\"Everyone\"],[\"Everyone\"],[\"Everyone\"],[\"Everyone\"],[\"Everyone\"],[\"Everyone\"],[\"Teen\"],[\"Everyone\"],[\"Mature 17+\"],[\"Everyone\"],[\"Everyone\"],[\"Everyone\"],[\"Everyone 10+\"],[\"Everyone\"],[\"Everyone\"],[\"Everyone\"],[\"Everyone\"],[\"Everyone\"],[\"Everyone\"],[\"Everyone\"],[\"Everyone\"],[\"Everyone\"],[\"Everyone\"],[\"Everyone\"],[\"Teen\"],[\"Everyone\"],[\"Everyone\"],[\"Everyone\"],[\"Everyone\"],[\"Everyone\"],[\"Everyone\"],[\"Everyone\"],[\"Everyone\"],[\"Everyone\"],[\"Everyone\"],[\"Everyone\"],[\"Everyone 10+\"],[\"Everyone\"],[\"Everyone\"],[\"Everyone\"],[\"Everyone\"],[\"Everyone\"],[\"Everyone\"],[\"Teen\"],[\"Everyone\"],[\"Teen\"],[\"Everyone\"],[\"Everyone\"],[\"Everyone\"],[\"Everyone\"],[\"Everyone\"],[\"Everyone\"],[\"Everyone\"],[\"Everyone\"],[\"Everyone\"],[\"Everyone\"],[\"Everyone\"],[\"Everyone\"],[\"Everyone\"],[\"Everyone\"],[\"Everyone\"],[\"Everyone\"],[\"Everyone\"],[\"Everyone\"],[\"Everyone\"],[\"Everyone\"],[\"Everyone\"],[\"Everyone\"],[\"Everyone\"],[\"Everyone\"],[\"Everyone\"],[\"Everyone\"],[\"Everyone\"],[\"Everyone\"],[\"Everyone\"],[\"Everyone\"],[\"Everyone\"],[\"Everyone\"],[\"Everyone\"],[\"Mature 17+\"],[\"Everyone\"],[\"Everyone\"],[\"Everyone\"],[\"Everyone\"],[\"Everyone 10+\"],[\"Everyone\"],[\"Everyone\"],[\"Everyone\"],[\"Everyone\"],[\"Everyone\"],[\"Everyone\"],[\"Everyone\"],[\"Everyone\"],[\"Everyone\"],[\"Everyone\"],[\"Everyone\"],[\"Everyone\"],[\"Everyone\"],[\"Everyone\"],[\"Everyone\"],[\"Everyone\"],[\"Everyone\"],[\"Everyone\"],[\"Everyone\"],[\"Everyone\"],[\"Everyone\"],[\"Everyone\"],[\"Everyone\"],[\"Everyone\"],[\"Everyone\"],[\"Everyone\"],[\"Everyone\"],[\"Everyone\"],[\"Everyone\"],[\"Everyone\"],[\"Everyone\"],[\"Everyone\"],[\"Everyone\"],[\"Everyone\"],[\"Everyone\"],[\"Teen\"],[\"Everyone\"],[\"Everyone\"],[\"Everyone\"],[\"Everyone\"],[\"Teen\"],[\"Teen\"],[\"Everyone\"],[\"Everyone\"],[\"Everyone\"],[\"Everyone\"],[\"Everyone\"],[\"Everyone 10+\"],[\"Everyone\"],[\"Everyone\"],[\"Everyone\"],[\"Everyone\"],[\"Everyone\"],[\"Everyone\"],[\"Everyone\"],[\"Everyone\"],[\"Everyone\"],[\"Everyone\"],[\"Teen\"],[\"Everyone\"],[\"Everyone\"],[\"Teen\"],[\"Everyone\"],[\"Everyone\"],[\"Everyone\"],[\"Everyone\"],[\"Everyone\"],[\"Everyone\"],[\"Everyone\"],[\"Everyone\"],[\"Everyone\"],[\"Everyone\"],[\"Everyone\"],[\"Everyone\"],[\"Everyone\"],[\"Everyone\"],[\"Everyone\"],[\"Everyone\"],[\"Teen\"],[\"Everyone\"],[\"Everyone\"],[\"Everyone\"],[\"Everyone\"],[\"Everyone\"],[\"Mature 17+\"],[\"Everyone\"],[\"Everyone\"],[\"Everyone\"],[\"Everyone\"],[\"Everyone\"],[\"Everyone\"],[\"Everyone\"],[\"Everyone\"],[\"Everyone\"],[\"Everyone\"],[\"Everyone\"],[\"Everyone\"],[\"Teen\"],[\"Everyone\"],[\"Everyone\"],[\"Mature 17+\"],[\"Everyone\"],[\"Everyone\"],[\"Teen\"],[\"Everyone\"],[\"Everyone\"],[\"Everyone\"],[\"Everyone\"],[\"Everyone\"],[\"Everyone\"],[\"Everyone\"],[\"Everyone\"],[\"Everyone\"],[\"Everyone\"],[\"Everyone\"],[\"Everyone\"],[\"Everyone\"],[\"Everyone\"],[\"Everyone\"],[\"Everyone\"],[\"Everyone\"],[\"Everyone\"],[\"Everyone\"],[\"Mature 17+\"],[\"Everyone\"],[\"Teen\"],[\"Everyone\"],[\"Everyone\"],[\"Everyone\"],[\"Everyone\"],[\"Teen\"],[\"Everyone\"],[\"Everyone\"],[\"Everyone\"],[\"Everyone\"],[\"Everyone\"],[\"Everyone\"],[\"Everyone\"],[\"Everyone\"],[\"Everyone\"],[\"Everyone\"],[\"Everyone\"],[\"Teen\"],[\"Everyone\"],[\"Everyone\"],[\"Everyone\"],[\"Everyone\"],[\"Teen\"],[\"Everyone\"],[\"Teen\"],[\"Teen\"],[\"Everyone\"],[\"Everyone\"],[\"Everyone\"],[\"Everyone\"],[\"Everyone\"],[\"Teen\"],[\"Everyone\"],[\"Teen\"],[\"Mature 17+\"],[\"Everyone\"],[\"Teen\"],[\"Everyone\"],[\"Everyone\"],[\"Everyone\"],[\"Everyone\"],[\"Everyone\"],[\"Everyone\"],[\"Everyone\"],[\"Everyone\"],[\"Everyone\"],[\"Everyone\"],[\"Everyone\"],[\"Everyone\"],[\"Everyone\"],[\"Everyone\"],[\"Teen\"],[\"Everyone\"],[\"Everyone\"],[\"Mature 17+\"],[\"Everyone\"],[\"Everyone\"],[\"Everyone\"],[\"Everyone\"],[\"Everyone\"],[\"Everyone\"],[\"Everyone\"],[\"Everyone\"],[\"Teen\"],[\"Everyone\"],[\"Everyone\"],[\"Everyone\"],[\"Everyone\"],[\"Everyone\"],[\"Everyone\"],[\"Everyone\"],[\"Everyone\"],[\"Everyone\"],[\"Everyone\"],[\"Everyone\"],[\"Everyone\"],[\"Everyone\"],[\"Everyone\"],[\"Everyone\"],[\"Teen\"],[\"Everyone\"],[\"Everyone\"],[\"Teen\"],[\"Everyone\"],[\"Everyone\"],[\"Everyone\"],[\"Everyone\"],[\"Everyone\"],[\"Everyone\"],[\"Everyone\"],[\"Everyone\"],[\"Everyone\"],[\"Everyone\"],[\"Everyone\"],[\"Everyone\"],[\"Everyone\"],[\"Everyone\"],[\"Everyone\"],[\"Everyone\"],[\"Everyone\"],[\"Everyone\"],[\"Everyone\"],[\"Everyone\"],[\"Everyone\"],[\"Everyone\"],[\"Everyone\"],[\"Everyone\"],[\"Everyone\"],[\"Everyone\"],[\"Everyone\"],[\"Everyone\"],[\"Everyone\"],[\"Everyone\"],[\"Everyone\"],[\"Everyone\"],[\"Everyone\"],[\"Everyone\"],[\"Everyone\"],[\"Everyone\"],[\"Everyone\"],[\"Mature 17+\"],[\"Everyone\"],[\"Everyone\"],[\"Everyone\"],[\"Everyone\"],[\"Everyone\"],[\"Everyone\"],[\"Everyone\"],[\"Everyone 10+\"],[\"Everyone\"],[\"Everyone\"],[\"Everyone\"],[\"Everyone\"],[\"Everyone\"],[\"Everyone\"],[\"Everyone\"],[\"Everyone 10+\"],[\"Everyone 10+\"],[\"Everyone\"],[\"Everyone\"],[\"Everyone 10+\"],[\"Everyone\"],[\"Everyone\"],[\"Everyone\"],[\"Everyone\"],[\"Everyone 10+\"],[\"Everyone\"],[\"Everyone\"],[\"Everyone\"],[\"Everyone\"],[\"Everyone\"],[\"Everyone\"],[\"Everyone\"],[\"Everyone\"],[\"Everyone\"],[\"Everyone\"],[\"Everyone\"],[\"Everyone\"],[\"Everyone\"],[\"Everyone\"],[\"Everyone\"],[\"Everyone\"],[\"Everyone\"],[\"Everyone\"],[\"Everyone\"],[\"Teen\"],[\"Everyone\"],[\"Everyone\"],[\"Everyone\"],[\"Everyone\"],[\"Everyone\"],[\"Everyone\"],[\"Everyone\"],[\"Everyone\"],[\"Everyone\"],[\"Teen\"],[\"Teen\"],[\"Everyone\"],[\"Everyone\"],[\"Everyone\"],[\"Everyone\"],[\"Teen\"],[\"Everyone\"],[\"Everyone\"],[\"Everyone\"],[\"Teen\"],[\"Teen\"],[\"Everyone\"],[\"Everyone\"],[\"Everyone\"],[\"Everyone\"],[\"Teen\"],[\"Everyone\"],[\"Everyone\"],[\"Everyone\"],[\"Everyone\"],[\"Mature 17+\"],[\"Everyone\"],[\"Everyone\"],[\"Everyone\"],[\"Teen\"],[\"Everyone\"],[\"Teen\"],[\"Everyone\"],[\"Everyone\"],[\"Everyone\"],[\"Everyone\"],[\"Teen\"],[\"Everyone\"],[\"Everyone\"],[\"Everyone\"],[\"Everyone\"],[\"Everyone\"],[\"Everyone\"],[\"Everyone 10+\"],[\"Everyone\"],[\"Teen\"],[\"Everyone\"],[\"Teen\"],[\"Everyone\"],[\"Everyone\"],[\"Everyone\"],[\"Everyone\"],[\"Everyone\"],[\"Teen\"],[\"Everyone\"],[\"Everyone\"],[\"Mature 17+\"],[\"Everyone\"],[\"Everyone\"],[\"Everyone\"],[\"Everyone\"],[\"Everyone\"],[\"Everyone\"],[\"Everyone\"],[\"Everyone\"],[\"Everyone\"],[\"Everyone\"],[\"Teen\"],[\"Everyone\"],[\"Teen\"],[\"Unrated\"],[\"Teen\"],[\"Teen\"],[\"Everyone\"],[\"Everyone\"],[\"Teen\"],[\"Everyone\"],[\"Everyone\"],[\"Everyone\"],[\"Everyone\"],[\"Everyone\"],[\"Teen\"],[\"Everyone\"],[\"Teen\"],[\"Everyone\"],[\"Everyone\"],[\"Everyone\"],[\"Teen\"],[\"Everyone\"],[\"Everyone\"],[\"Everyone\"],[\"Everyone\"],[\"Everyone\"],[\"Everyone\"],[\"Everyone 10+\"],[\"Everyone\"],[\"Teen\"],[\"Everyone\"],[\"Everyone\"],[\"Teen\"],[\"Everyone\"],[\"Everyone\"],[\"Everyone\"],[\"Everyone\"],[\"Everyone\"],[\"Everyone\"],[\"Everyone\"],[\"Everyone\"],[\"Everyone\"],[\"Everyone\"],[\"Everyone\"],[\"Everyone\"],[\"Everyone\"],[\"Everyone 10+\"],[\"Everyone\"],[\"Everyone\"],[\"Teen\"],[\"Everyone\"],[\"Everyone\"],[\"Everyone\"],[\"Everyone\"],[\"Everyone 10+\"],[\"Everyone\"],[\"Everyone\"],[\"Everyone\"],[\"Everyone\"],[\"Everyone\"],[\"Everyone\"],[\"Everyone\"],[\"Everyone\"],[\"Everyone\"],[\"Everyone\"],[\"Everyone\"],[\"Everyone\"],[\"Everyone\"],[\"Everyone\"],[\"Everyone\"],[\"Everyone\"],[\"Everyone\"],[\"Everyone\"],[\"Everyone\"],[\"Everyone\"],[\"Everyone\"],[\"Everyone\"],[\"Everyone\"],[\"Everyone\"],[\"Everyone\"],[\"Everyone\"],[\"Everyone\"],[\"Everyone\"],[\"Everyone\"],[\"Everyone\"],[\"Mature 17+\"],[\"Everyone\"],[\"Everyone\"],[\"Everyone\"],[\"Everyone\"],[\"Everyone\"],[\"Everyone\"],[\"Everyone 10+\"],[\"Everyone\"],[\"Everyone\"],[\"Mature 17+\"],[\"Everyone\"],[\"Everyone\"],[\"Everyone\"],[\"Everyone\"],[\"Everyone\"],[\"Everyone\"],[\"Teen\"],[\"Everyone\"],[\"Mature 17+\"],[\"Everyone\"],[\"Everyone\"],[\"Everyone\"],[\"Teen\"],[\"Everyone\"],[\"Everyone\"],[\"Everyone\"],[\"Everyone\"],[\"Everyone\"],[\"Everyone\"],[\"Teen\"],[\"Mature 17+\"],[\"Everyone\"],[\"Everyone\"],[\"Everyone\"],[\"Everyone\"],[\"Teen\"],[\"Everyone\"],[\"Everyone\"],[\"Everyone 10+\"],[\"Everyone\"],[\"Everyone\"],[\"Everyone\"],[\"Teen\"],[\"Everyone\"],[\"Mature 17+\"],[\"Everyone\"],[\"Everyone\"],[\"Everyone\"],[\"Everyone\"],[\"Teen\"],[\"Everyone 10+\"],[\"Mature 17+\"],[\"Teen\"],[\"Mature 17+\"],[\"Mature 17+\"],[\"Everyone\"],[\"Teen\"],[\"Everyone\"],[\"Everyone\"],[\"Everyone\"],[\"Mature 17+\"],[\"Everyone\"],[\"Everyone\"],[\"Everyone\"],[\"Teen\"],[\"Teen\"],[\"Mature 17+\"],[\"Everyone\"],[\"Mature 17+\"],[\"Everyone\"],[\"Everyone\"],[\"Everyone\"],[\"Everyone\"],[\"Mature 17+\"],[\"Mature 17+\"],[\"Teen\"],[\"Everyone\"],[\"Everyone\"],[\"Everyone\"],[\"Everyone\"],[\"Everyone\"],[\"Everyone\"],[\"Everyone 10+\"],[\"Everyone\"],[\"Everyone\"],[\"Everyone\"],[\"Teen\"],[\"Everyone\"],[\"Everyone\"],[\"Everyone\"],[\"Mature 17+\"],[\"Everyone\"],[\"Everyone\"],[\"Everyone\"],[\"Everyone\"],[\"Everyone\"],[\"Mature 17+\"],[\"Everyone\"],[\"Everyone\"],[\"Everyone\"],[\"Everyone\"],[\"Everyone\"],[\"Mature 17+\"],[\"Everyone\"],[\"Everyone\"],[\"Everyone\"],[\"Mature 17+\"],[\"Everyone\"],[\"Teen\"],[\"Everyone\"],[\"Everyone\"],[\"Everyone\"],[\"Everyone\"],[\"Teen\"],[\"Everyone\"],[\"Teen\"],[\"Everyone\"],[\"Mature 17+\"],[\"Mature 17+\"],[\"Everyone\"],[\"Everyone\"],[\"Everyone\"],[\"Everyone\"],[\"Teen\"],[\"Everyone\"],[\"Everyone\"],[\"Everyone\"],[\"Everyone\"],[\"Everyone\"],[\"Everyone\"],[\"Teen\"],[\"Everyone\"],[\"Everyone\"],[\"Everyone\"],[\"Everyone\"],[\"Everyone\"],[\"Everyone\"],[\"Everyone\"],[\"Everyone\"],[\"Everyone\"],[\"Everyone\"],[\"Everyone\"],[\"Everyone\"],[\"Everyone\"],[\"Everyone\"],[\"Everyone\"],[\"Everyone\"],[\"Everyone\"],[\"Everyone\"],[\"Everyone\"],[\"Everyone\"],[\"Everyone\"],[\"Everyone\"],[\"Everyone\"],[\"Everyone\"],[\"Everyone\"],[\"Everyone\"],[\"Everyone\"],[\"Everyone\"],[\"Everyone\"],[\"Everyone\"],[\"Everyone\"],[\"Everyone\"],[\"Everyone\"],[\"Everyone\"],[\"Everyone\"],[\"Everyone\"],[\"Everyone\"],[\"Everyone\"],[\"Everyone\"],[\"Everyone\"],[\"Everyone\"],[\"Everyone\"],[\"Everyone\"],[\"Everyone\"],[\"Everyone\"],[\"Everyone 10+\"],[\"Everyone\"],[\"Everyone 10+\"],[\"Everyone\"],[\"Everyone\"],[\"Everyone 10+\"],[\"Everyone\"],[\"Everyone\"],[\"Everyone 10+\"],[\"Everyone\"],[\"Everyone\"],[\"Everyone\"],[\"Everyone\"],[\"Mature 17+\"],[\"Everyone 10+\"],[\"Everyone\"],[\"Everyone\"],[\"Everyone 10+\"],[\"Everyone\"],[\"Everyone\"],[\"Everyone\"],[\"Everyone\"],[\"Everyone\"],[\"Everyone\"],[\"Everyone\"],[\"Everyone\"],[\"Everyone 10+\"],[\"Everyone\"],[\"Everyone 10+\"],[\"Everyone\"],[\"Everyone\"],[\"Everyone 10+\"],[\"Everyone\"],[\"Everyone 10+\"],[\"Everyone\"],[\"Everyone 10+\"],[\"Everyone\"],[\"Everyone\"],[\"Everyone\"],[\"Everyone\"],[\"Everyone\"],[\"Everyone\"],[\"Everyone\"],[\"Everyone\"],[\"Everyone\"],[\"Everyone\"],[\"Everyone\"],[\"Everyone\"],[\"Everyone\"],[\"Everyone\"],[\"Everyone\"],[\"Everyone\"],[\"Everyone\"],[\"Everyone\"],[\"Everyone\"],[\"Everyone\"],[\"Teen\"],[\"Everyone\"],[\"Everyone\"],[\"Everyone\"],[\"Everyone\"],[\"Everyone\"],[\"Everyone\"],[\"Everyone\"],[\"Everyone\"],[\"Everyone\"],[\"Everyone\"],[\"Everyone\"],[\"Everyone\"],[\"Everyone\"],[\"Everyone\"],[\"Everyone\"],[\"Everyone\"],[\"Teen\"],[\"Everyone\"],[\"Teen\"],[\"Everyone\"],[\"Everyone\"],[\"Everyone\"],[\"Teen\"],[\"Everyone\"],[\"Everyone\"],[\"Everyone\"],[\"Teen\"],[\"Everyone\"],[\"Everyone\"],[\"Everyone 10+\"],[\"Everyone\"],[\"Everyone\"],[\"Teen\"],[\"Everyone\"],[\"Everyone\"],[\"Everyone\"],[\"Everyone\"],[\"Everyone\"],[\"Everyone\"],[\"Everyone\"],[\"Teen\"],[\"Everyone\"],[\"Everyone\"],[\"Everyone\"],[\"Everyone\"],[\"Everyone\"],[\"Everyone\"],[\"Everyone\"],[\"Everyone\"],[\"Everyone\"],[\"Everyone\"],[\"Everyone\"],[\"Teen\"],[\"Everyone\"],[\"Everyone\"],[\"Everyone\"],[\"Everyone\"],[\"Everyone\"],[\"Everyone\"],[\"Everyone\"],[\"Teen\"],[\"Everyone\"],[\"Everyone\"],[\"Everyone\"],[\"Everyone\"],[\"Everyone\"],[\"Everyone\"],[\"Everyone\"],[\"Everyone\"],[\"Everyone\"],[\"Everyone\"],[\"Everyone 10+\"],[\"Everyone\"],[\"Everyone 10+\"],[\"Everyone 10+\"],[\"Everyone\"],[\"Everyone\"],[\"Everyone\"],[\"Everyone\"],[\"Everyone\"],[\"Everyone\"],[\"Everyone\"],[\"Everyone\"],[\"Everyone\"],[\"Everyone\"],[\"Everyone\"],[\"Everyone\"],[\"Everyone\"],[\"Everyone\"],[\"Everyone\"],[\"Everyone\"],[\"Everyone\"],[\"Everyone\"],[\"Everyone\"],[\"Everyone\"],[\"Teen\"],[\"Teen\"],[\"Everyone\"],[\"Everyone\"],[\"Teen\"],[\"Everyone\"],[\"Everyone\"],[\"Everyone\"],[\"Everyone\"],[\"Everyone\"],[\"Everyone\"],[\"Teen\"],[\"Everyone\"],[\"Teen\"],[\"Everyone\"],[\"Everyone 10+\"],[\"Everyone\"],[\"Everyone\"],[\"Everyone\"],[\"Everyone\"],[\"Everyone\"],[\"Everyone\"],[\"Everyone\"],[\"Everyone\"],[\"Everyone\"],[\"Everyone\"],[\"Everyone\"],[\"Everyone\"],[\"Everyone\"],[\"Everyone\"],[\"Everyone\"],[\"Everyone\"],[\"Everyone 10+\"],[\"Everyone\"],[\"Everyone\"],[\"Everyone\"],[\"Everyone\"],[\"Everyone\"],[\"Everyone\"],[\"Everyone\"],[\"Everyone\"],[\"Everyone\"],[\"Everyone\"],[\"Everyone\"],[\"Everyone\"],[\"Everyone\"],[\"Everyone\"],[\"Everyone\"],[\"Everyone\"],[\"Everyone\"],[\"Everyone\"],[\"Everyone\"],[\"Everyone\"],[\"Everyone\"],[\"Everyone\"],[\"Teen\"],[\"Everyone\"],[\"Everyone\"],[\"Everyone\"],[\"Everyone\"],[\"Everyone\"],[\"Everyone\"],[\"Everyone\"],[\"Everyone\"],[\"Everyone\"],[\"Everyone\"],[\"Everyone\"],[\"Everyone\"],[\"Everyone\"],[\"Mature 17+\"],[\"Everyone\"],[\"Mature 17+\"],[\"Mature 17+\"],[\"Teen\"],[\"Everyone\"],[\"Teen\"],[\"Everyone\"],[\"Everyone\"],[\"Everyone\"],[\"Teen\"],[\"Everyone\"],[\"Teen\"],[\"Everyone\"],[\"Everyone\"],[\"Teen\"],[\"Everyone\"],[\"Everyone\"],[\"Everyone\"],[\"Everyone\"],[\"Everyone\"],[\"Teen\"],[\"Everyone\"],[\"Everyone\"],[\"Teen\"],[\"Teen\"],[\"Everyone\"],[\"Teen\"],[\"Everyone\"],[\"Teen\"],[\"Everyone\"],[\"Everyone\"],[\"Teen\"],[\"Everyone\"],[\"Everyone\"],[\"Everyone\"],[\"Everyone\"],[\"Teen\"],[\"Everyone\"],[\"Everyone\"],[\"Everyone\"],[\"Everyone\"],[\"Everyone\"],[\"Everyone\"],[\"Everyone\"],[\"Everyone\"],[\"Everyone\"],[\"Everyone\"],[\"Everyone\"],[\"Everyone\"],[\"Everyone\"],[\"Everyone\"],[\"Everyone\"],[\"Everyone\"],[\"Everyone\"],[\"Everyone\"],[\"Everyone\"],[\"Everyone\"],[\"Everyone\"],[\"Everyone\"],[\"Everyone\"],[\"Everyone\"],[\"Everyone\"],[\"Everyone\"],[\"Everyone\"],[\"Everyone\"],[\"Everyone\"],[\"Teen\"],[\"Everyone\"],[\"Everyone\"],[\"Mature 17+\"],[\"Everyone\"],[\"Everyone\"],[\"Everyone\"],[\"Everyone\"],[\"Everyone\"],[\"Everyone\"],[\"Everyone\"],[\"Everyone\"],[\"Everyone\"],[\"Everyone\"],[\"Everyone\"],[\"Teen\"],[\"Everyone\"],[\"Everyone\"],[\"Everyone\"],[\"Everyone\"],[\"Everyone\"],[\"Everyone\"],[\"Everyone\"],[\"Everyone\"],[\"Everyone\"],[\"Teen\"],[\"Everyone\"],[\"Everyone\"],[\"Everyone\"],[\"Everyone\"],[\"Everyone\"],[\"Everyone\"],[\"Everyone\"],[\"Everyone\"],[\"Everyone\"],[\"Everyone\"],[\"Everyone\"],[\"Everyone\"],[\"Everyone\"],[\"Everyone\"],[\"Everyone\"],[\"Everyone\"],[\"Everyone\"],[\"Everyone\"],[\"Everyone\"],[\"Everyone\"],[\"Everyone\"],[\"Everyone\"],[\"Everyone\"],[\"Everyone\"],[\"Everyone\"],[\"Everyone\"],[\"Everyone\"],[\"Everyone\"],[\"Everyone\"],[\"Everyone\"],[\"Everyone\"],[\"Everyone\"],[\"Everyone\"],[\"Teen\"],[\"Teen\"],[\"Everyone\"],[\"Everyone\"],[\"Everyone\"],[\"Everyone\"],[\"Everyone\"],[\"Everyone\"],[\"Everyone\"],[\"Everyone\"],[\"Everyone\"],[\"Teen\"],[\"Everyone\"],[\"Everyone\"],[\"Everyone\"],[\"Everyone\"],[\"Everyone\"],[\"Everyone\"],[\"Everyone\"],[\"Everyone\"],[\"Everyone\"],[\"Everyone\"],[\"Everyone\"],[\"Everyone\"],[\"Everyone\"],[\"Everyone\"],[\"Everyone\"],[\"Everyone\"],[\"Everyone\"],[\"Everyone\"],[\"Everyone\"],[\"Everyone\"],[\"Everyone\"],[\"Everyone\"],[\"Everyone\"],[\"Everyone\"],[\"Everyone\"],[\"Everyone\"],[\"Everyone\"],[\"Everyone\"],[\"Everyone\"],[\"Everyone\"],[\"Everyone\"],[\"Everyone\"],[\"Everyone\"],[\"Everyone\"],[\"Everyone\"],[\"Everyone\"],[\"Everyone\"],[\"Everyone\"],[\"Everyone\"],[\"Everyone\"],[\"Everyone\"],[\"Everyone\"],[\"Everyone\"],[\"Teen\"],[\"Mature 17+\"],[\"Everyone\"],[\"Everyone\"],[\"Everyone\"],[\"Everyone\"],[\"Everyone\"],[\"Everyone\"],[\"Everyone\"],[\"Everyone\"],[\"Everyone\"],[\"Everyone\"],[\"Everyone\"],[\"Teen\"],[\"Everyone\"],[\"Teen\"],[\"Everyone\"],[\"Everyone\"],[\"Everyone\"],[\"Everyone\"],[\"Teen\"],[\"Everyone\"],[\"Everyone\"],[\"Everyone\"],[\"Everyone\"],[\"Teen\"],[\"Everyone\"],[\"Everyone\"],[\"Everyone\"],[\"Everyone\"],[\"Everyone\"],[\"Everyone\"],[\"Everyone\"],[\"Everyone\"],[\"Everyone\"],[\"Teen\"],[\"Everyone\"],[\"Teen\"],[\"Teen\"],[\"Teen\"],[\"Everyone\"],[\"Everyone\"],[\"Everyone\"],[\"Everyone\"],[\"Everyone\"],[\"Everyone\"],[\"Everyone\"],[\"Everyone\"],[\"Everyone\"],[\"Everyone\"],[\"Everyone\"],[\"Everyone\"],[\"Everyone\"],[\"Everyone\"],[\"Everyone\"],[\"Everyone\"],[\"Everyone\"],[\"Everyone\"],[\"Everyone\"],[\"Everyone\"],[\"Everyone\"],[\"Everyone\"],[\"Everyone\"],[\"Everyone\"],[\"Everyone\"],[\"Everyone\"],[\"Everyone\"],[\"Everyone\"],[\"Everyone\"],[\"Everyone\"],[\"Everyone\"],[\"Teen\"],[\"Everyone\"],[\"Everyone\"],[\"Everyone\"],[\"Everyone\"],[\"Teen\"],[\"Everyone\"],[\"Everyone\"],[\"Everyone\"],[\"Everyone\"],[\"Everyone\"],[\"Everyone\"],[\"Everyone\"],[\"Everyone\"],[\"Everyone\"],[\"Everyone\"],[\"Everyone\"],[\"Everyone 10+\"],[\"Everyone\"],[\"Everyone\"],[\"Everyone\"],[\"Everyone\"],[\"Everyone\"],[\"Everyone\"],[\"Everyone\"],[\"Everyone\"],[\"Everyone\"],[\"Everyone\"],[\"Everyone\"],[\"Everyone\"],[\"Everyone\"],[\"Everyone\"],[\"Everyone\"],[\"Everyone\"],[\"Everyone 10+\"],[\"Everyone\"],[\"Everyone\"],[\"Everyone\"],[\"Everyone\"],[\"Teen\"],[\"Everyone\"],[\"Everyone\"],[\"Everyone\"],[\"Everyone\"],[\"Everyone\"],[\"Everyone 10+\"],[\"Everyone\"],[\"Everyone\"],[\"Everyone\"],[\"Everyone\"],[\"Everyone 10+\"],[\"Everyone\"],[\"Everyone\"],[\"Everyone 10+\"],[\"Everyone\"],[\"Everyone 10+\"],[\"Everyone\"],[\"Teen\"],[\"Everyone\"],[\"Everyone\"],[\"Everyone\"],[\"Everyone\"],[\"Everyone\"],[\"Everyone\"],[\"Everyone\"],[\"Everyone\"],[\"Everyone\"],[\"Teen\"],[\"Everyone\"],[\"Everyone\"],[\"Everyone\"],[\"Everyone\"],[\"Mature 17+\"],[\"Teen\"],[\"Everyone\"],[\"Everyone\"],[\"Everyone\"],[\"Everyone\"],[\"Everyone\"],[\"Everyone\"],[\"Everyone\"],[\"Everyone\"],[\"Everyone\"],[\"Everyone\"],[\"Teen\"],[\"Everyone\"],[\"Everyone\"],[\"Everyone\"],[\"Everyone\"],[\"Everyone\"],[\"Everyone\"],[\"Everyone\"],[\"Everyone\"],[\"Everyone\"],[\"Everyone\"],[\"Everyone\"],[\"Everyone\"],[\"Everyone\"],[\"Everyone\"],[\"Everyone\"],[\"Everyone\"],[\"Everyone\"],[\"Teen\"],[\"Teen\"],[\"Everyone\"],[\"Everyone\"],[\"Everyone\"],[\"Everyone\"],[\"Everyone\"],[\"Everyone\"],[\"Mature 17+\"],[\"Teen\"],[\"Everyone\"],[\"Everyone\"],[\"Everyone\"],[\"Everyone 10+\"],[\"Everyone\"],[\"Everyone\"],[\"Teen\"],[\"Everyone\"],[\"Everyone\"],[\"Mature 17+\"],[\"Everyone\"],[\"Everyone\"],[\"Everyone\"],[\"Everyone\"],[\"Everyone\"],[\"Everyone\"],[\"Everyone\"],[\"Everyone\"],[\"Teen\"],[\"Everyone\"],[\"Everyone\"],[\"Everyone\"],[\"Everyone\"],[\"Everyone\"],[\"Everyone\"],[\"Everyone\"],[\"Everyone\"],[\"Everyone\"],[\"Everyone\"],[\"Everyone\"],[\"Everyone\"],[\"Everyone\"],[\"Everyone\"],[\"Everyone\"],[\"Everyone\"],[\"Everyone\"],[\"Everyone\"],[\"Everyone\"],[\"Everyone\"],[\"Everyone\"],[\"Everyone\"],[\"Teen\"],[\"Everyone\"],[\"Everyone\"],[\"Everyone\"],[\"Everyone\"],[\"Everyone\"],[\"Everyone\"],[\"Everyone\"],[\"Everyone\"],[\"Everyone\"],[\"Everyone 10+\"],[\"Everyone\"],[\"Everyone\"],[\"Everyone\"],[\"Everyone\"],[\"Teen\"],[\"Teen\"],[\"Teen\"],[\"Teen\"],[\"Mature 17+\"],[\"Everyone 10+\"],[\"Everyone\"],[\"Everyone\"],[\"Everyone 10+\"],[\"Everyone\"],[\"Teen\"],[\"Teen\"],[\"Everyone\"],[\"Everyone\"],[\"Everyone\"],[\"Everyone\"],[\"Teen\"],[\"Everyone\"],[\"Everyone\"],[\"Unrated\"],[\"Everyone\"],[\"Everyone\"],[\"Everyone\"],[\"Everyone\"],[\"Teen\"],[\"Everyone 10+\"],[\"Everyone\"],[\"Mature 17+\"],[\"Everyone\"],[\"Everyone\"],[\"Everyone 10+\"],[\"Everyone\"],[\"Everyone\"],[\"Everyone\"],[\"Everyone\"],[\"Everyone\"],[\"Everyone\"],[\"Everyone\"],[\"Everyone\"],[\"Everyone\"],[\"Everyone 10+\"],[\"Everyone\"],[\"Everyone\"],[\"Everyone\"],[\"Everyone\"],[\"Everyone\"],[\"Teen\"],[\"Everyone\"],[\"Everyone\"],[\"Everyone\"],[\"Everyone\"],[\"Everyone\"],[\"Everyone\"],[\"Everyone\"],[\"Everyone\"],[\"Everyone\"],[\"Everyone\"],[\"Everyone\"],[\"Everyone\"],[\"Everyone\"],[\"Everyone 10+\"],[\"Everyone\"],[\"Everyone\"],[\"Teen\"],[\"Everyone\"],[\"Everyone\"],[\"Everyone\"],[\"Everyone 10+\"],[\"Everyone\"],[\"Everyone\"],[\"Everyone\"],[\"Everyone\"],[\"Everyone\"],[\"Everyone\"],[\"Everyone\"],[\"Teen\"],[\"Everyone\"],[\"Everyone\"],[\"Everyone\"],[\"Everyone\"],[\"Everyone\"],[\"Everyone\"],[\"Everyone\"],[\"Everyone\"],[\"Everyone\"],[\"Everyone\"],[\"Everyone\"],[\"Everyone\"],[\"Everyone\"],[\"Everyone\"],[\"Everyone\"],[\"Everyone\"],[\"Everyone\"],[\"Everyone\"],[\"Everyone\"],[\"Everyone\"],[\"Everyone\"],[\"Everyone\"],[\"Everyone\"],[\"Everyone\"],[\"Everyone\"],[\"Everyone\"],[\"Everyone\"],[\"Everyone\"],[\"Everyone\"],[\"Everyone\"],[\"Everyone\"],[\"Everyone\"],[\"Everyone\"],[\"Everyone\"],[\"Everyone\"],[\"Everyone\"],[\"Everyone\"],[\"Everyone\"],[\"Everyone\"],[\"Everyone\"],[\"Everyone\"],[\"Everyone\"],[\"Everyone\"],[\"Everyone\"],[\"Everyone\"],[\"Everyone\"],[\"Everyone\"],[\"Everyone\"],[\"Everyone\"],[\"Everyone\"],[\"Everyone\"],[\"Everyone\"],[\"Everyone\"],[\"Everyone\"],[\"Everyone\"],[\"Everyone\"],[\"Everyone\"],[\"Everyone\"],[\"Everyone\"],[\"Everyone\"],[\"Everyone\"],[\"Everyone\"],[\"Everyone\"],[\"Teen\"],[\"Everyone\"],[\"Everyone\"],[\"Teen\"],[\"Teen\"],[\"Teen\"],[\"Teen\"],[\"Teen\"],[\"Everyone\"],[\"Everyone\"],[\"Teen\"],[\"Teen\"],[\"Everyone 10+\"],[\"Everyone\"],[\"Teen\"],[\"Everyone\"],[\"Teen\"],[\"Everyone\"],[\"Mature 17+\"],[\"Everyone\"],[\"Everyone\"],[\"Everyone\"],[\"Everyone\"],[\"Everyone 10+\"],[\"Everyone 10+\"],[\"Teen\"],[\"Everyone\"],[\"Mature 17+\"],[\"Everyone\"],[\"Everyone\"],[\"Everyone\"],[\"Everyone\"],[\"Everyone 10+\"],[\"Everyone\"],[\"Everyone\"],[\"Everyone\"],[\"Teen\"],[\"Everyone\"],[\"Everyone\"],[\"Teen\"],[\"Everyone\"],[\"Everyone 10+\"],[\"Everyone\"],[\"Mature 17+\"],[\"Everyone\"],[\"Everyone\"],[\"Teen\"],[\"Everyone\"],[\"Everyone\"],[\"Everyone\"],[\"Everyone\"],[\"Everyone 10+\"],[\"Everyone\"],[\"Everyone\"],[\"Everyone 10+\"],[\"Everyone 10+\"],[\"Everyone\"],[\"Everyone 10+\"],[\"Mature 17+\"],[\"Everyone\"],[\"Everyone\"],[\"Everyone\"],[\"Everyone\"],[\"Everyone\"],[\"Everyone\"],[\"Everyone\"],[\"Everyone\"],[\"Everyone\"],[\"Everyone\"],[\"Everyone\"],[\"Everyone\"],[\"Everyone\"],[\"Everyone\"],[\"Everyone\"],[\"Everyone\"],[\"Everyone\"],[\"Everyone\"],[\"Everyone\"],[\"Everyone\"],[\"Everyone\"],[\"Everyone\"],[\"Everyone\"],[\"Everyone\"],[\"Everyone\"],[\"Mature 17+\"],[\"Everyone\"],[\"Everyone\"],[\"Everyone\"],[\"Everyone\"],[\"Everyone\"],[\"Everyone\"],[\"Everyone\"],[\"Teen\"],[\"Everyone\"],[\"Everyone\"],[\"Everyone\"],[\"Everyone\"],[\"Everyone\"],[\"Everyone\"],[\"Everyone\"],[\"Teen\"],[\"Everyone\"],[\"Everyone\"],[\"Everyone\"],[\"Teen\"],[\"Everyone\"],[\"Teen\"],[\"Everyone\"],[\"Everyone\"],[\"Everyone\"],[\"Everyone\"],[\"Everyone\"],[\"Everyone\"],[\"Everyone\"],[\"Everyone\"],[\"Everyone\"],[\"Everyone\"],[\"Everyone\"],[\"Mature 17+\"],[\"Everyone\"],[\"Everyone\"],[\"Everyone\"],[\"Everyone\"],[\"Everyone\"],[\"Everyone\"],[\"Everyone\"],[\"Everyone\"],[\"Everyone\"],[\"Everyone\"],[\"Everyone\"],[\"Everyone\"],[\"Everyone\"],[\"Everyone\"],[\"Everyone\"],[\"Everyone\"],[\"Everyone\"],[\"Everyone\"],[\"Everyone\"],[\"Everyone\"],[\"Mature 17+\"],[\"Everyone 10+\"],[\"Teen\"],[\"Everyone\"],[\"Everyone\"],[\"Everyone\"],[\"Everyone\"],[\"Everyone\"],[\"Teen\"],[\"Everyone\"],[\"Everyone\"],[\"Everyone\"],[\"Everyone\"],[\"Teen\"],[\"Everyone\"],[\"Everyone\"],[\"Everyone\"],[\"Everyone\"],[\"Everyone\"],[\"Everyone\"],[\"Everyone\"],[\"Everyone\"],[\"Everyone\"],[\"Everyone\"],[\"Everyone\"],[\"Everyone\"],[\"Everyone\"],[\"Everyone\"],[\"Everyone\"],[\"Everyone\"],[\"Everyone\"],[\"Everyone\"],[\"Everyone\"],[\"Everyone\"],[\"Everyone\"],[\"Everyone\"],[\"Teen\"],[\"Everyone\"],[\"Everyone\"],[\"Everyone\"],[\"Everyone\"],[\"Everyone\"],[\"Everyone\"],[\"Everyone 10+\"],[\"Everyone\"],[\"Everyone\"],[\"Everyone 10+\"],[\"Everyone\"],[\"Teen\"],[\"Everyone\"],[\"Teen\"],[\"Everyone 10+\"],[\"Everyone\"],[\"Everyone\"],[\"Everyone\"],[\"Everyone\"],[\"Everyone\"],[\"Teen\"],[\"Everyone\"],[\"Everyone\"],[\"Everyone\"],[\"Everyone\"],[\"Everyone\"],[\"Everyone\"],[\"Teen\"],[\"Everyone\"],[\"Everyone\"],[\"Teen\"],[\"Teen\"],[\"Everyone\"],[\"Everyone 10+\"],[\"Everyone\"],[\"Everyone\"],[\"Everyone\"],[\"Everyone 10+\"],[\"Everyone\"],[\"Everyone\"],[\"Everyone\"],[\"Teen\"],[\"Everyone\"],[\"Everyone\"],[\"Teen\"],[\"Everyone 10+\"],[\"Everyone 10+\"],[\"Everyone\"],[\"Everyone\"],[\"Everyone\"],[\"Everyone\"],[\"Everyone\"],[\"Everyone\"],[\"Everyone\"],[\"Everyone\"],[\"Teen\"],[\"Everyone\"],[\"Teen\"],[\"Everyone\"],[\"Everyone\"],[\"Everyone\"],[\"Everyone\"],[\"Everyone\"],[\"Everyone\"],[\"Everyone\"],[\"Everyone\"],[\"Everyone\"],[\"Everyone\"],[\"Everyone\"],[\"Everyone\"],[\"Everyone\"],[\"Everyone\"],[\"Everyone\"],[\"Everyone\"],[\"Everyone\"],[\"Everyone\"],[\"Everyone\"],[\"Everyone\"],[\"Everyone\"],[\"Everyone\"],[\"Everyone\"],[\"Everyone\"],[\"Mature 17+\"],[\"Everyone\"],[\"Teen\"],[\"Everyone\"],[\"Everyone\"],[\"Everyone\"],[\"Everyone\"],[\"Everyone\"],[\"Mature 17+\"],[\"Everyone\"],[\"Everyone\"],[\"Everyone\"],[\"Everyone\"],[\"Teen\"],[\"Everyone\"],[\"Everyone\"],[\"Everyone\"],[\"Teen\"],[\"Everyone\"],[\"Teen\"],[\"Everyone\"],[\"Teen\"],[\"Everyone\"],[\"Everyone\"],[\"Everyone\"],[\"Everyone\"],[\"Teen\"],[\"Teen\"],[\"Mature 17+\"],[\"Everyone\"],[\"Everyone\"],[\"Everyone\"],[\"Everyone\"],[\"Everyone\"],[\"Everyone\"],[\"Everyone\"],[\"Everyone\"],[\"Everyone\"],[\"Everyone\"],[\"Everyone\"],[\"Everyone\"],[\"Everyone 10+\"],[\"Teen\"],[\"Everyone 10+\"],[\"Everyone\"],[\"Everyone\"],[\"Everyone\"],[\"Everyone\"],[\"Everyone\"],[\"Everyone\"],[\"Everyone\"],[\"Everyone\"],[\"Everyone\"],[\"Everyone\"],[\"Everyone\"],[\"Everyone 10+\"],[\"Everyone\"],[\"Everyone\"],[\"Everyone\"],[\"Everyone\"],[\"Teen\"],[\"Everyone\"],[\"Everyone\"],[\"Everyone\"],[\"Everyone\"],[\"Everyone\"],[\"Everyone\"],[\"Teen\"],[\"Everyone\"],[\"Everyone\"],[\"Everyone\"],[\"Everyone\"],[\"Mature 17+\"],[\"Everyone\"],[\"Everyone\"],[\"Everyone\"],[\"Everyone\"],[\"Everyone 10+\"],[\"Everyone\"],[\"Everyone\"],[\"Everyone\"],[\"Everyone\"],[\"Everyone\"],[\"Everyone\"],[\"Mature 17+\"],[\"Everyone\"],[\"Everyone\"],[\"Everyone\"],[\"Everyone\"],[\"Everyone\"],[\"Everyone\"],[\"Everyone\"],[\"Everyone\"],[\"Everyone\"],[\"Everyone\"],[\"Everyone\"],[\"Everyone\"],[\"Everyone\"],[\"Everyone\"],[\"Everyone\"],[\"Everyone\"],[\"Mature 17+\"],[\"Everyone\"],[\"Mature 17+\"],[\"Teen\"],[\"Everyone\"],[\"Everyone\"],[\"Everyone\"],[\"Everyone\"],[\"Everyone\"],[\"Everyone\"],[\"Everyone\"],[\"Everyone\"],[\"Everyone\"],[\"Everyone\"],[\"Everyone\"],[\"Everyone\"],[\"Everyone\"],[\"Everyone\"],[\"Everyone\"],[\"Everyone\"],[\"Everyone\"],[\"Everyone\"],[\"Everyone\"],[\"Everyone\"],[\"Everyone\"],[\"Everyone\"],[\"Everyone\"],[\"Everyone\"],[\"Everyone\"],[\"Everyone\"],[\"Everyone\"],[\"Everyone\"],[\"Everyone\"],[\"Everyone\"],[\"Everyone\"],[\"Everyone\"],[\"Everyone\"],[\"Everyone\"],[\"Everyone\"],[\"Everyone\"],[\"Everyone\"],[\"Everyone\"],[\"Everyone\"],[\"Everyone\"],[\"Everyone\"],[\"Everyone\"],[\"Everyone\"],[\"Everyone\"],[\"Everyone\"],[\"Everyone\"],[\"Everyone\"],[\"Everyone\"],[\"Everyone\"],[\"Everyone\"],[\"Everyone\"],[\"Everyone\"],[\"Everyone\"],[\"Everyone\"],[\"Everyone\"],[\"Everyone\"],[\"Everyone\"],[\"Everyone\"],[\"Everyone\"],[\"Everyone\"],[\"Everyone\"],[\"Everyone\"],[\"Everyone\"],[\"Everyone\"],[\"Everyone\"],[\"Everyone\"],[\"Everyone\"],[\"Everyone\"],[\"Everyone\"],[\"Everyone\"],[\"Everyone\"],[\"Everyone\"],[\"Everyone\"],[\"Everyone\"],[\"Everyone\"],[\"Everyone\"],[\"Everyone\"],[\"Everyone\"],[\"Everyone\"],[\"Everyone\"],[\"Everyone\"],[\"Everyone\"],[\"Everyone\"],[\"Everyone\"],[\"Everyone\"],[\"Everyone\"],[\"Everyone\"],[\"Everyone\"],[\"Everyone\"],[\"Everyone\"],[\"Everyone 10+\"],[\"Everyone\"],[\"Everyone\"],[\"Everyone\"],[\"Everyone\"],[\"Everyone\"],[\"Everyone\"],[\"Everyone\"],[\"Everyone\"],[\"Everyone\"],[\"Everyone\"],[\"Everyone\"],[\"Teen\"],[\"Everyone\"],[\"Everyone\"],[\"Everyone\"],[\"Everyone\"],[\"Everyone\"],[\"Everyone\"],[\"Everyone\"],[\"Everyone\"],[\"Everyone\"],[\"Everyone\"],[\"Everyone\"],[\"Everyone\"],[\"Teen\"],[\"Everyone\"],[\"Everyone\"],[\"Everyone\"],[\"Everyone\"],[\"Everyone\"],[\"Everyone\"],[\"Everyone\"],[\"Everyone\"],[\"Everyone\"],[\"Everyone\"],[\"Teen\"],[\"Everyone\"],[\"Everyone\"],[\"Everyone\"],[\"Everyone\"],[\"Everyone\"],[\"Everyone\"],[\"Everyone\"],[\"Everyone\"],[\"Everyone\"],[\"Everyone\"],[\"Everyone\"],[\"Everyone\"],[\"Everyone\"],[\"Everyone\"],[\"Everyone\"],[\"Everyone\"],[\"Everyone\"],[\"Everyone\"],[\"Everyone\"],[\"Everyone\"],[\"Everyone\"],[\"Everyone\"],[\"Everyone\"],[\"Everyone\"],[\"Everyone\"],[\"Everyone\"],[\"Everyone\"],[\"Everyone\"],[\"Everyone\"],[\"Everyone\"],[\"Everyone\"],[\"Everyone\"],[\"Everyone\"],[\"Everyone\"],[\"Everyone\"],[\"Everyone\"],[\"Everyone\"],[\"Everyone\"],[\"Everyone\"],[\"Everyone\"],[\"Everyone\"],[\"Everyone\"],[\"Everyone\"],[\"Everyone\"],[\"Everyone\"],[\"Everyone\"],[\"Everyone\"],[\"Everyone\"],[\"Everyone\"],[\"Everyone\"],[\"Everyone\"],[\"Teen\"],[\"Everyone\"],[\"Everyone\"],[\"Everyone\"],[\"Everyone\"],[\"Teen\"],[\"Everyone\"],[\"Everyone\"],[\"Everyone 10+\"],[\"Everyone\"],[\"Everyone\"],[\"Everyone\"],[\"Everyone\"],[\"Everyone\"],[\"Everyone\"],[\"Everyone\"],[\"Everyone 10+\"],[\"Everyone\"],[\"Everyone\"],[\"Everyone\"],[\"Everyone\"],[\"Everyone\"],[\"Everyone\"],[\"Everyone\"],[\"Everyone\"],[\"Everyone\"],[\"Everyone\"],[\"Teen\"],[\"Everyone\"],[\"Everyone\"],[\"Everyone\"],[\"Everyone\"],[\"Everyone\"],[\"Everyone\"],[\"Everyone\"],[\"Teen\"],[\"Everyone\"],[\"Everyone\"],[\"Everyone\"],[\"Everyone\"],[\"Everyone\"],[\"Everyone\"],[\"Everyone\"],[\"Everyone\"],[\"Everyone\"],[\"Everyone\"],[\"Everyone\"],[\"Everyone\"],[\"Everyone\"],[\"Everyone\"],[\"Everyone\"],[\"Everyone\"],[\"Everyone\"],[\"Everyone\"],[\"Everyone\"],[\"Teen\"],[\"Everyone\"],[\"Everyone\"],[\"Teen\"],[\"Everyone\"],[\"Everyone\"],[\"Everyone\"],[\"Everyone\"],[\"Everyone\"],[\"Everyone\"],[\"Everyone\"],[\"Teen\"],[\"Everyone\"],[\"Everyone\"],[\"Mature 17+\"],[\"Everyone\"],[\"Everyone\"],[\"Everyone 10+\"],[\"Everyone\"],[\"Everyone\"],[\"Everyone\"],[\"Everyone\"],[\"Everyone\"],[\"Everyone\"],[\"Everyone\"],[\"Everyone\"],[\"Everyone\"],[\"Everyone\"],[\"Everyone\"],[\"Everyone\"],[\"Everyone\"],[\"Everyone\"],[\"Teen\"],[\"Everyone\"],[\"Everyone\"],[\"Everyone\"],[\"Everyone\"],[\"Everyone\"],[\"Everyone\"],[\"Everyone\"],[\"Everyone\"],[\"Everyone\"],[\"Everyone\"],[\"Everyone\"],[\"Everyone\"],[\"Everyone\"],[\"Everyone\"],[\"Everyone\"],[\"Everyone\"],[\"Everyone\"],[\"Everyone\"],[\"Everyone\"],[\"Everyone\"],[\"Everyone\"],[\"Everyone\"],[\"Everyone\"],[\"Teen\"],[\"Everyone\"],[\"Everyone\"],[\"Everyone\"],[\"Everyone\"],[\"Everyone\"],[\"Everyone\"],[\"Everyone\"],[\"Teen\"],[\"Everyone\"],[\"Everyone\"],[\"Everyone\"],[\"Everyone\"],[\"Everyone\"],[\"Everyone\"],[\"Everyone\"],[\"Everyone\"],[\"Everyone\"],[\"Everyone\"],[\"Everyone\"],[\"Everyone\"],[\"Everyone\"],[\"Everyone\"],[\"Everyone\"],[\"Everyone\"],[\"Everyone\"],[\"Everyone\"],[\"Everyone\"],[\"Everyone\"],[\"Everyone\"],[\"Teen\"],[\"Teen\"],[\"Everyone\"],[\"Everyone\"],[\"Everyone\"],[\"Everyone\"],[\"Everyone\"],[\"Everyone\"],[\"Teen\"],[\"Teen\"],[\"Everyone\"],[\"Everyone\"],[\"Everyone\"],[\"Everyone\"],[\"Everyone\"],[\"Everyone\"],[\"Everyone\"],[\"Everyone\"],[\"Everyone\"],[\"Everyone\"],[\"Everyone\"],[\"Everyone\"],[\"Everyone\"],[\"Everyone\"],[\"Everyone\"],[\"Everyone\"],[\"Everyone\"],[\"Teen\"],[\"Everyone\"],[\"Everyone\"],[\"Teen\"],[\"Everyone\"],[\"Everyone 10+\"],[\"Everyone\"],[\"Everyone\"],[\"Teen\"],[\"Everyone 10+\"],[\"Everyone 10+\"],[\"Everyone 10+\"],[\"Everyone\"],[\"Everyone\"],[\"Everyone\"],[\"Everyone\"],[\"Everyone\"],[\"Everyone\"],[\"Everyone\"],[\"Everyone\"],[\"Everyone\"],[\"Everyone\"],[\"Teen\"],[\"Everyone\"],[\"Everyone\"],[\"Everyone\"],[\"Teen\"],[\"Mature 17+\"],[\"Everyone\"],[\"Everyone 10+\"],[\"Everyone\"],[\"Everyone 10+\"],[\"Everyone\"],[\"Everyone\"],[\"Everyone\"],[\"Everyone\"],[\"Everyone\"],[\"Everyone\"],[\"Everyone\"],[\"Teen\"],[\"Everyone\"],[\"Everyone\"],[\"Everyone\"],[\"Everyone\"],[\"Everyone\"],[\"Everyone\"],[\"Everyone\"],[\"Everyone\"],[\"Everyone\"],[\"Everyone\"],[\"Teen\"],[\"Teen\"],[\"Teen\"],[\"Teen\"],[\"Everyone\"],[\"Teen\"],[\"Everyone\"],[\"Everyone\"],[\"Everyone\"],[\"Everyone\"],[\"Teen\"],[\"Everyone\"],[\"Everyone\"],[\"Teen\"],[\"Everyone\"],[\"Everyone\"],[\"Everyone\"],[\"Everyone\"],[\"Everyone\"],[\"Everyone\"],[\"Everyone\"],[\"Everyone\"],[\"Teen\"],[\"Everyone\"],[\"Everyone\"],[\"Everyone\"],[\"Everyone\"],[\"Everyone\"],[\"Everyone\"],[\"Everyone\"],[\"Everyone\"],[\"Everyone\"],[\"Everyone\"],[\"Everyone\"],[\"Everyone\"],[\"Teen\"],[\"Everyone\"],[\"Everyone\"],[\"Everyone\"],[\"Everyone\"],[\"Everyone\"],[\"Everyone\"],[\"Everyone\"],[\"Everyone\"],[\"Everyone\"],[\"Everyone\"],[\"Everyone\"],[\"Everyone\"],[\"Everyone\"],[\"Everyone\"],[\"Everyone\"],[\"Everyone\"],[\"Everyone\"],[\"Everyone\"],[\"Everyone\"],[\"Everyone\"],[\"Teen\"],[\"Everyone\"],[\"Everyone\"],[\"Everyone\"],[\"Everyone\"],[\"Everyone\"],[\"Everyone\"],[\"Everyone\"],[\"Everyone\"],[\"Everyone\"],[\"Everyone\"],[\"Everyone\"],[\"Everyone\"],[\"Teen\"],[\"Everyone\"],[\"Everyone\"],[\"Everyone\"],[\"Everyone\"],[\"Everyone\"],[\"Everyone\"],[\"Everyone\"],[\"Everyone\"],[\"Everyone\"],[\"Teen\"],[\"Everyone\"],[\"Everyone\"],[\"Everyone\"],[\"Everyone\"],[\"Everyone\"],[\"Everyone\"],[\"Everyone\"],[\"Everyone\"],[\"Everyone\"],[\"Everyone\"],[\"Everyone\"],[\"Everyone\"],[\"Teen\"],[\"Teen\"],[\"Everyone\"],[\"Everyone\"],[\"Everyone\"],[\"Everyone\"],[\"Everyone\"],[\"Everyone\"],[\"Everyone\"],[\"Everyone\"],[\"Everyone\"],[\"Everyone\"],[\"Everyone\"],[\"Everyone\"],[\"Everyone\"],[\"Everyone\"],[\"Teen\"],[\"Teen\"],[\"Everyone\"],[\"Everyone\"],[\"Everyone\"],[\"Everyone\"],[\"Everyone\"],[\"Everyone\"],[\"Everyone\"],[\"Everyone\"],[\"Everyone\"],[\"Everyone 10+\"],[\"Everyone\"],[\"Everyone\"],[\"Everyone\"],[\"Everyone\"],[\"Everyone\"],[\"Everyone\"],[\"Everyone\"],[\"Everyone\"],[\"Everyone\"],[\"Teen\"],[\"Everyone\"],[\"Everyone\"],[\"Everyone\"],[\"Everyone\"],[\"Everyone\"],[\"Everyone\"],[\"Everyone\"],[\"Everyone\"],[\"Everyone\"],[\"Everyone\"],[\"Everyone\"],[\"Everyone\"],[\"Everyone\"],[\"Everyone\"],[\"Everyone\"],[\"Everyone\"],[\"Teen\"],[\"Everyone\"],[\"Everyone\"],[\"Everyone\"],[\"Everyone\"],[\"Everyone\"],[\"Everyone\"],[\"Everyone\"],[\"Everyone\"],[\"Everyone\"],[\"Teen\"],[\"Mature 17+\"],[\"Everyone\"],[\"Everyone\"],[\"Teen\"],[\"Everyone\"],[\"Mature 17+\"],[\"Everyone\"],[\"Everyone 10+\"],[\"Everyone\"],[\"Everyone\"],[\"Everyone\"],[\"Everyone\"],[\"Everyone\"],[\"Everyone\"],[\"Everyone\"],[\"Everyone\"],[\"Everyone\"],[\"Everyone\"],[\"Everyone\"],[\"Everyone\"],[\"Everyone\"],[\"Everyone\"],[\"Everyone\"],[\"Everyone\"],[\"Everyone\"],[\"Everyone\"],[\"Everyone 10+\"],[\"Everyone\"],[\"Everyone\"],[\"Teen\"],[\"Mature 17+\"],[\"Everyone\"],[\"Mature 17+\"],[\"Teen\"],[\"Everyone\"],[\"Everyone\"],[\"Teen\"],[\"Everyone\"],[\"Everyone\"],[\"Everyone\"],[\"Everyone\"],[\"Everyone\"],[\"Teen\"],[\"Everyone\"],[\"Everyone\"],[\"Teen\"],[\"Teen\"],[\"Everyone\"],[\"Everyone\"],[\"Teen\"],[\"Everyone\"],[\"Teen\"],[\"Everyone\"],[\"Teen\"],[\"Everyone\"],[\"Everyone\"],[\"Everyone\"],[\"Everyone\"],[\"Everyone\"],[\"Everyone\"],[\"Everyone\"],[\"Everyone\"],[\"Teen\"],[\"Everyone\"],[\"Everyone\"],[\"Everyone\"],[\"Everyone\"],[\"Everyone\"],[\"Everyone\"],[\"Everyone\"],[\"Everyone\"],[\"Everyone\"],[\"Everyone\"],[\"Everyone\"],[\"Everyone\"],[\"Everyone\"],[\"Mature 17+\"],[\"Everyone\"],[\"Everyone\"],[\"Everyone\"],[\"Everyone\"],[\"Everyone\"],[\"Mature 17+\"],[\"Everyone\"],[\"Everyone\"],[\"Everyone\"],[\"Everyone\"],[\"Everyone\"],[\"Everyone 10+\"],[\"Everyone\"],[\"Everyone\"],[\"Everyone\"],[\"Everyone\"],[\"Everyone\"],[\"Everyone\"],[\"Everyone\"],[\"Everyone\"],[\"Everyone\"],[\"Everyone\"],[\"Everyone\"],[\"Everyone\"],[\"Everyone\"],[\"Everyone\"],[\"Everyone\"],[\"Teen\"],[\"Teen\"],[\"Mature 17+\"],[\"Everyone\"],[\"Teen\"],[\"Everyone\"],[\"Everyone\"],[\"Everyone\"],[\"Everyone\"],[\"Everyone\"],[\"Everyone\"],[\"Everyone\"],[\"Teen\"],[\"Everyone 10+\"],[\"Teen\"],[\"Everyone\"],[\"Everyone\"],[\"Everyone\"],[\"Everyone\"],[\"Teen\"],[\"Everyone\"],[\"Teen\"],[\"Everyone\"],[\"Everyone\"],[\"Everyone\"],[\"Everyone\"],[\"Everyone\"],[\"Everyone\"],[\"Everyone\"],[\"Teen\"],[\"Everyone\"],[\"Everyone\"],[\"Everyone\"],[\"Everyone 10+\"],[\"Everyone\"],[\"Everyone\"],[\"Everyone\"],[\"Everyone\"],[\"Everyone\"],[\"Everyone\"],[\"Everyone\"],[\"Everyone\"],[\"Everyone\"],[\"Teen\"],[\"Everyone\"],[\"Everyone\"],[\"Everyone\"],[\"Everyone\"],[\"Everyone\"],[\"Everyone\"],[\"Everyone\"],[\"Everyone\"],[\"Everyone\"],[\"Teen\"],[\"Teen\"],[\"Everyone\"],[\"Teen\"],[\"Teen\"],[\"Everyone\"],[\"Everyone\"],[\"Everyone\"],[\"Everyone\"],[\"Everyone\"],[\"Everyone\"],[\"Everyone\"],[\"Everyone\"],[\"Everyone\"],[\"Everyone\"],[\"Everyone\"],[\"Everyone\"],[\"Everyone\"],[\"Everyone\"],[\"Everyone\"],[\"Everyone\"],[\"Everyone\"],[\"Everyone\"],[\"Everyone 10+\"],[\"Teen\"],[\"Everyone\"],[\"Everyone\"],[\"Everyone\"],[\"Everyone\"],[\"Everyone\"],[\"Everyone\"],[\"Everyone\"],[\"Everyone\"],[\"Everyone\"],[\"Everyone\"],[\"Everyone\"],[\"Everyone 10+\"],[\"Everyone\"],[\"Teen\"],[\"Teen\"],[\"Everyone\"],[\"Everyone\"],[\"Everyone\"],[\"Teen\"],[\"Everyone\"],[\"Everyone\"],[\"Everyone\"],[\"Everyone\"],[\"Everyone\"],[\"Everyone\"],[\"Everyone\"],[\"Everyone 10+\"],[\"Everyone\"],[\"Everyone\"],[\"Everyone\"],[\"Everyone\"],[\"Everyone\"],[\"Everyone\"],[\"Everyone\"],[\"Everyone\"],[\"Everyone\"],[\"Everyone\"],[\"Teen\"],[\"Everyone 10+\"],[\"Everyone\"],[\"Teen\"],[\"Everyone 10+\"],[\"Everyone\"],[\"Everyone 10+\"],[\"Teen\"],[\"Teen\"],[\"Teen\"],[\"Everyone\"],[\"Everyone\"],[\"Everyone\"],[\"Teen\"],[\"Mature 17+\"],[\"Everyone\"],[\"Teen\"],[\"Teen\"],[\"Teen\"],[\"Teen\"],[\"Everyone\"],[\"Teen\"],[\"Teen\"],[\"Teen\"],[\"Everyone\"],[\"Teen\"],[\"Teen\"],[\"Teen\"],[\"Teen\"],[\"Everyone\"],[\"Teen\"],[\"Everyone\"],[\"Teen\"],[\"Everyone\"],[\"Everyone\"],[\"Everyone 10+\"],[\"Teen\"],[\"Teen\"],[\"Everyone\"],[\"Everyone\"],[\"Teen\"],[\"Everyone\"],[\"Everyone\"],[\"Everyone\"],[\"Everyone 10+\"],[\"Everyone\"],[\"Everyone\"],[\"Everyone\"],[\"Everyone\"],[\"Everyone\"],[\"Mature 17+\"],[\"Everyone\"],[\"Everyone\"],[\"Everyone\"],[\"Everyone\"],[\"Everyone\"],[\"Everyone\"],[\"Everyone\"],[\"Everyone\"],[\"Everyone\"],[\"Everyone\"],[\"Everyone\"],[\"Teen\"],[\"Everyone\"],[\"Everyone\"],[\"Everyone\"],[\"Teen\"],[\"Teen\"],[\"Everyone\"],[\"Teen\"],[\"Teen\"],[\"Everyone\"],[\"Everyone\"],[\"Everyone\"],[\"Everyone\"],[\"Everyone\"],[\"Everyone\"],[\"Everyone\"],[\"Everyone\"],[\"Teen\"],[\"Everyone\"],[\"Everyone\"],[\"Everyone\"],[\"Everyone\"],[\"Everyone\"],[\"Everyone\"],[\"Everyone\"],[\"Everyone\"],[\"Everyone\"],[\"Everyone\"],[\"Everyone\"],[\"Everyone\"],[\"Everyone\"],[\"Everyone\"],[\"Everyone\"],[\"Everyone\"],[\"Everyone\"],[\"Everyone\"],[\"Everyone\"],[\"Everyone\"],[\"Everyone\"],[\"Everyone\"],[\"Everyone\"],[\"Everyone\"],[\"Everyone\"],[\"Everyone\"],[\"Everyone\"],[\"Everyone\"],[\"Everyone\"],[\"Everyone\"],[\"Teen\"],[\"Everyone\"],[\"Everyone\"],[\"Everyone\"],[\"Everyone\"],[\"Everyone\"],[\"Everyone\"],[\"Everyone\"],[\"Everyone\"],[\"Teen\"],[\"Everyone\"],[\"Everyone 10+\"],[\"Mature 17+\"],[\"Teen\"],[\"Everyone\"],[\"Everyone\"],[\"Everyone\"],[\"Everyone\"],[\"Everyone\"],[\"Everyone\"],[\"Everyone 10+\"],[\"Mature 17+\"],[\"Everyone\"],[\"Teen\"],[\"Teen\"],[\"Everyone\"],[\"Teen\"],[\"Everyone 10+\"],[\"Everyone\"],[\"Everyone\"],[\"Everyone\"],[\"Everyone\"],[\"Teen\"],[\"Everyone\"],[\"Teen\"],[\"Teen\"],[\"Everyone 10+\"],[\"Everyone\"],[\"Teen\"],[\"Everyone\"],[\"Everyone\"],[\"Everyone 10+\"],[\"Everyone\"],[\"Everyone\"],[\"Everyone\"],[\"Everyone\"],[\"Everyone\"],[\"Everyone\"],[\"Everyone\"],[\"Everyone\"],[\"Teen\"],[\"Everyone\"],[\"Everyone\"],[\"Teen\"],[\"Teen\"],[\"Teen\"],[\"Teen\"],[\"Teen\"],[\"Teen\"],[\"Everyone 10+\"],[\"Everyone 10+\"],[\"Teen\"],[\"Teen\"],[\"Everyone\"],[\"Everyone 10+\"],[\"Everyone\"],[\"Everyone 10+\"],[\"Teen\"],[\"Teen\"],[\"Everyone\"],[\"Teen\"],[\"Everyone\"],[\"Everyone\"],[\"Teen\"],[\"Everyone\"],[\"Everyone\"],[\"Teen\"],[\"Everyone\"],[\"Everyone\"],[\"Teen\"],[\"Everyone\"],[\"Everyone 10+\"],[\"Everyone\"],[\"Everyone\"],[\"Everyone\"],[\"Teen\"],[\"Everyone\"],[\"Everyone\"],[\"Everyone\"],[\"Everyone\"],[\"Everyone\"],[\"Everyone\"],[\"Everyone\"],[\"Everyone\"],[\"Everyone\"],[\"Everyone\"],[\"Everyone\"],[\"Everyone\"],[\"Everyone\"],[\"Everyone\"],[\"Everyone\"],[\"Everyone\"],[\"Everyone\"],[\"Everyone\"],[\"Everyone\"],[\"Everyone\"],[\"Everyone\"],[\"Everyone\"],[\"Everyone\"],[\"Everyone\"],[\"Everyone\"],[\"Everyone\"],[\"Everyone\"],[\"Everyone\"],[\"Everyone\"],[\"Everyone\"],[\"Everyone\"],[\"Everyone\"],[\"Everyone\"],[\"Everyone\"],[\"Everyone 10+\"],[\"Everyone\"],[\"Everyone\"],[\"Everyone\"],[\"Everyone\"],[\"Everyone\"],[\"Everyone\"],[\"Everyone\"],[\"Everyone\"],[\"Everyone\"],[\"Everyone\"],[\"Everyone\"],[\"Everyone\"],[\"Everyone\"],[\"Everyone\"],[\"Teen\"],[\"Everyone\"],[\"Teen\"],[\"Everyone\"],[\"Everyone\"],[\"Everyone 10+\"],[\"Everyone\"],[\"Mature 17+\"],[\"Teen\"],[\"Everyone\"],[\"Everyone\"],[\"Everyone\"],[\"Everyone\"],[\"Everyone\"],[\"Everyone\"],[\"Everyone\"],[\"Everyone\"],[\"Everyone\"],[\"Everyone\"],[\"Everyone\"],[\"Everyone\"],[\"Everyone\"],[\"Everyone\"],[\"Everyone\"],[\"Everyone\"],[\"Everyone\"],[\"Everyone\"],[\"Everyone\"],[\"Everyone\"],[\"Everyone\"],[\"Everyone\"],[\"Everyone\"],[\"Everyone\"],[\"Everyone\"],[\"Everyone\"],[\"Everyone\"],[\"Everyone\"],[\"Everyone\"],[\"Everyone\"],[\"Everyone\"],[\"Everyone\"],[\"Everyone\"],[\"Everyone\"],[\"Everyone\"],[\"Everyone 10+\"],[\"Everyone\"],[\"Everyone\"],[\"Teen\"],[\"Everyone\"],[\"Everyone\"],[\"Everyone\"],[\"Everyone\"],[\"Everyone\"],[\"Everyone\"],[\"Everyone\"],[\"Everyone\"],[\"Everyone\"],[\"Everyone\"],[\"Everyone\"],[\"Everyone\"],[\"Everyone\"],[\"Everyone\"],[\"Everyone\"],[\"Everyone\"],[\"Everyone\"],[\"Everyone\"],[\"Everyone\"],[\"Everyone\"],[\"Everyone\"],[\"Everyone\"],[\"Everyone\"],[\"Everyone\"],[\"Everyone\"],[\"Everyone\"],[\"Everyone\"],[\"Everyone\"],[\"Everyone\"],[\"Everyone\"],[\"Everyone\"],[\"Everyone\"],[\"Everyone\"],[\"Everyone\"],[\"Everyone 10+\"],[\"Everyone\"],[\"Everyone\"],[\"Everyone\"],[\"Everyone 10+\"],[\"Everyone\"],[\"Everyone\"],[\"Everyone\"],[\"Everyone\"],[\"Everyone\"],[\"Everyone\"],[\"Everyone\"],[\"Everyone\"],[\"Everyone\"],[\"Everyone\"],[\"Everyone\"],[\"Everyone\"],[\"Teen\"],[\"Everyone\"],[\"Everyone\"],[\"Everyone\"],[\"Everyone\"],[\"Everyone\"],[\"Everyone\"],[\"Everyone\"],[\"Everyone\"],[\"Everyone\"],[\"Everyone\"],[\"Everyone\"],[\"Everyone\"],[\"Everyone\"],[\"Everyone\"],[\"Everyone\"],[\"Everyone\"],[\"Everyone\"],[\"Everyone\"],[\"Everyone\"],[\"Everyone\"],[\"Everyone\"],[\"Everyone\"],[\"Everyone\"],[\"Everyone 10+\"],[\"Everyone\"],[\"Everyone\"],[\"Everyone\"],[\"Everyone\"],[\"Everyone\"],[\"Everyone\"],[\"Everyone\"],[\"Everyone\"],[\"Everyone\"],[\"Everyone\"],[\"Everyone\"],[\"Everyone\"],[\"Teen\"],[\"Everyone\"],[\"Everyone\"],[\"Everyone\"],[\"Everyone\"],[\"Everyone\"],[\"Everyone\"],[\"Everyone\"],[\"Teen\"],[\"Everyone\"],[\"Everyone\"],[\"Everyone\"],[\"Everyone\"],[\"Everyone\"],[\"Everyone\"],[\"Everyone\"],[\"Everyone\"],[\"Everyone\"],[\"Everyone\"],[\"Everyone\"],[\"Everyone\"],[\"Everyone\"],[\"Teen\"],[\"Mature 17+\"],[\"Everyone\"],[\"Everyone\"],[\"Mature 17+\"],[\"Everyone 10+\"],[\"Everyone 10+\"],[\"Everyone 10+\"],[\"Teen\"],[\"Everyone\"],[\"Everyone\"],[\"Teen\"],[\"Everyone 10+\"],[\"Everyone\"],[\"Everyone\"],[\"Everyone\"],[\"Everyone\"],[\"Everyone 10+\"],[\"Teen\"],[\"Everyone\"],[\"Everyone\"],[\"Everyone\"],[\"Everyone\"],[\"Everyone\"],[\"Everyone\"],[\"Everyone\"],[\"Teen\"],[\"Everyone\"],[\"Teen\"],[\"Everyone\"],[\"Everyone\"],[\"Everyone\"],[\"Everyone\"],[\"Everyone\"],[\"Everyone\"],[\"Everyone\"],[\"Everyone\"],[\"Everyone\"],[\"Everyone\"],[\"Everyone\"],[\"Everyone\"],[\"Everyone\"],[\"Everyone\"],[\"Everyone\"],[\"Everyone\"],[\"Everyone\"],[\"Everyone 10+\"],[\"Everyone\"],[\"Everyone\"],[\"Everyone\"],[\"Everyone\"],[\"Everyone\"],[\"Everyone\"],[\"Teen\"],[\"Everyone\"],[\"Everyone\"],[\"Everyone\"],[\"Everyone 10+\"],[\"Everyone\"],[\"Everyone\"],[\"Everyone\"],[\"Everyone\"],[\"Everyone 10+\"],[\"Everyone\"],[\"Everyone\"],[\"Everyone\"],[\"Everyone\"],[\"Teen\"],[\"Everyone\"],[\"Everyone\"],[\"Everyone\"],[\"Everyone\"],[\"Everyone\"],[\"Everyone\"],[\"Everyone\"],[\"Everyone\"],[\"Everyone\"],[\"Everyone\"],[\"Everyone\"],[\"Everyone\"],[\"Everyone\"],[\"Everyone\"],[\"Everyone\"],[\"Everyone\"],[\"Everyone\"],[\"Everyone\"],[\"Everyone\"],[\"Everyone\"],[\"Everyone\"],[\"Everyone\"],[\"Everyone\"],[\"Everyone\"],[\"Teen\"],[\"Everyone\"],[\"Teen\"],[\"Everyone\"],[\"Everyone\"],[\"Everyone\"],[\"Everyone\"],[\"Everyone\"],[\"Teen\"],[\"Everyone\"],[\"Teen\"],[\"Everyone\"],[\"Everyone\"],[\"Everyone\"],[\"Everyone\"],[\"Everyone\"],[\"Everyone\"],[\"Everyone\"],[\"Everyone\"],[\"Everyone\"],[\"Everyone\"],[\"Everyone\"],[\"Teen\"],[\"Everyone\"],[\"Everyone\"],[\"Everyone 10+\"],[\"Everyone\"],[\"Everyone\"],[\"Everyone\"],[\"Everyone\"],[\"Everyone\"],[\"Everyone\"],[\"Everyone\"],[\"Everyone\"],[\"Everyone\"],[\"Everyone\"],[\"Everyone\"],[\"Everyone\"],[\"Everyone\"],[\"Everyone\"],[\"Everyone\"],[\"Everyone\"],[\"Everyone\"],[\"Everyone\"],[\"Teen\"],[\"Everyone\"],[\"Everyone\"],[\"Everyone\"],[\"Everyone\"],[\"Everyone\"],[\"Everyone\"],[\"Everyone\"],[\"Everyone\"],[\"Everyone\"],[\"Everyone\"],[\"Everyone\"],[\"Everyone\"],[\"Everyone\"],[\"Everyone\"],[\"Everyone\"],[\"Everyone\"],[\"Everyone\"],[\"Everyone\"],[\"Everyone\"],[\"Everyone\"],[\"Everyone\"],[\"Everyone\"],[\"Mature 17+\"],[\"Everyone\"],[\"Everyone\"],[\"Everyone\"],[\"Teen\"],[\"Everyone\"],[\"Everyone\"],[\"Everyone\"],[\"Teen\"],[\"Everyone\"],[\"Teen\"],[\"Everyone\"],[\"Everyone\"],[\"Everyone\"],[\"Everyone\"],[\"Everyone\"],[\"Teen\"],[\"Everyone\"],[\"Everyone\"],[\"Everyone\"],[\"Everyone\"],[\"Everyone\"],[\"Everyone 10+\"],[\"Teen\"],[\"Teen\"],[\"Teen\"],[\"Everyone\"],[\"Teen\"],[\"Everyone\"],[\"Teen\"],[\"Teen\"],[\"Teen\"],[\"Everyone\"],[\"Everyone\"],[\"Everyone\"],[\"Everyone\"],[\"Teen\"],[\"Everyone\"],[\"Everyone\"],[\"Teen\"],[\"Everyone\"],[\"Everyone\"],[\"Everyone\"],[\"Teen\"],[\"Teen\"],[\"Everyone\"],[\"Everyone\"],[\"Everyone\"],[\"Everyone\"],[\"Everyone\"],[\"Everyone\"],[\"Everyone\"],[\"Teen\"],[\"Everyone\"],[\"Teen\"],[\"Teen\"],[\"Teen\"],[\"Everyone\"],[\"Mature 17+\"],[\"Teen\"],[\"Everyone\"],[\"Everyone\"],[\"Everyone\"],[\"Everyone\"],[\"Everyone\"],[\"Everyone\"],[\"Everyone\"],[\"Everyone\"],[\"Everyone\"],[\"Everyone\"],[\"Everyone\"],[\"Everyone\"],[\"Everyone\"],[\"Everyone\"],[\"Teen\"],[\"Everyone\"],[\"Everyone\"],[\"Everyone\"],[\"Everyone\"],[\"Everyone\"],[\"Everyone\"],[\"Everyone\"],[\"Everyone\"],[\"Everyone\"],[\"Everyone\"],[\"Everyone\"],[\"Everyone\"],[\"Everyone\"],[\"Everyone\"],[\"Everyone\"],[\"Teen\"],[\"Everyone\"],[\"Everyone\"],[\"Everyone\"],[\"Everyone\"],[\"Teen\"],[\"Everyone\"],[\"Everyone\"],[\"Everyone\"],[\"Teen\"],[\"Everyone\"],[\"Everyone\"],[\"Everyone\"],[\"Everyone\"],[\"Everyone\"],[\"Everyone\"],[\"Everyone\"],[\"Everyone\"],[\"Everyone\"],[\"Everyone\"],[\"Everyone\"],[\"Teen\"],[\"Everyone\"],[\"Everyone\"],[\"Everyone\"],[\"Everyone\"],[\"Everyone\"],[\"Everyone\"],[\"Everyone\"],[\"Everyone 10+\"],[\"Everyone\"],[\"Everyone\"],[\"Everyone\"],[\"Everyone\"],[\"Everyone\"],[\"Everyone\"],[\"Everyone\"],[\"Everyone\"],[\"Everyone\"],[\"Everyone\"],[\"Everyone\"],[\"Everyone\"],[\"Everyone\"],[\"Everyone\"],[\"Everyone\"],[\"Everyone\"],[\"Everyone\"],[\"Everyone\"],[\"Everyone\"],[\"Teen\"],[\"Everyone\"],[\"Teen\"],[\"Everyone\"],[\"Everyone\"],[\"Everyone\"],[\"Everyone\"],[\"Everyone\"],[\"Everyone\"],[\"Everyone\"],[\"Everyone\"],[\"Everyone\"],[\"Everyone\"],[\"Everyone\"],[\"Everyone\"],[\"Everyone\"],[\"Everyone\"],[\"Everyone\"],[\"Everyone\"],[\"Everyone\"],[\"Everyone\"],[\"Everyone\"],[\"Everyone\"],[\"Everyone\"],[\"Everyone\"],[\"Everyone\"],[\"Everyone\"],[\"Everyone\"],[\"Everyone\"],[\"Everyone\"],[\"Everyone\"],[\"Everyone\"],[\"Everyone\"],[\"Everyone\"],[\"Everyone\"],[\"Everyone\"],[\"Everyone\"],[\"Everyone 10+\"],[\"Everyone\"],[\"Everyone\"],[\"Everyone\"],[\"Everyone\"],[\"Everyone\"],[\"Teen\"],[\"Everyone\"],[\"Everyone\"],[\"Teen\"],[\"Everyone\"],[\"Everyone\"],[\"Everyone\"],[\"Everyone\"],[\"Teen\"],[\"Everyone\"],[\"Mature 17+\"],[\"Everyone\"],[\"Everyone 10+\"],[\"Everyone\"],[\"Everyone 10+\"],[\"Everyone\"],[\"Everyone\"],[\"Everyone\"],[\"Everyone\"],[\"Everyone 10+\"],[\"Everyone 10+\"],[\"Mature 17+\"],[\"Mature 17+\"],[\"Everyone\"],[\"Everyone\"],[\"Everyone\"],[\"Everyone\"],[\"Teen\"],[\"Everyone\"],[\"Teen\"],[\"Teen\"],[\"Everyone\"],[\"Everyone\"],[\"Mature 17+\"],[\"Teen\"],[\"Everyone\"],[\"Teen\"],[\"Everyone\"],[\"Everyone\"],[\"Teen\"],[\"Everyone\"],[\"Teen\"],[\"Teen\"],[\"Teen\"],[\"Teen\"],[\"Teen\"],[\"Teen\"],[\"Everyone\"],[\"Everyone\"],[\"Everyone\"],[\"Everyone\"],[\"Teen\"],[\"Teen\"],[\"Teen\"],[\"Everyone\"],[\"Everyone\"],[\"Everyone\"],[\"Everyone 10+\"],[\"Teen\"],[\"Teen\"],[\"Teen\"],[\"Teen\"],[\"Everyone\"],[\"Everyone\"],[\"Everyone\"],[\"Everyone\"],[\"Everyone\"],[\"Everyone\"],[\"Teen\"],[\"Teen\"],[\"Everyone\"],[\"Everyone\"],[\"Everyone\"],[\"Everyone\"],[\"Teen\"],[\"Everyone\"],[\"Everyone\"],[\"Everyone\"],[\"Teen\"],[\"Everyone\"],[\"Everyone\"],[\"Everyone\"],[\"Everyone\"],[\"Everyone\"],[\"Everyone\"],[\"Everyone\"],[\"Everyone\"],[\"Everyone\"],[\"Everyone\"],[\"Everyone\"],[\"Everyone\"],[\"Everyone\"],[\"Everyone\"],[\"Everyone\"],[\"Everyone\"],[\"Everyone\"],[\"Everyone\"],[\"Everyone\"],[\"Everyone\"],[\"Everyone\"],[\"Everyone\"],[\"Everyone\"],[\"Everyone\"],[\"Everyone\"],[\"Everyone\"],[\"Everyone\"],[\"Everyone\"],[\"Everyone\"],[\"Everyone\"],[\"Everyone\"],[\"Everyone\"],[\"Everyone\"],[\"Everyone\"],[\"Everyone\"],[\"Everyone\"],[\"Everyone\"],[\"Everyone\"],[\"Everyone\"],[\"Everyone\"],[\"Teen\"],[\"Teen\"],[\"Everyone\"],[\"Everyone\"],[\"Everyone\"],[\"Everyone\"],[\"Everyone\"],[\"Teen\"],[\"Everyone\"],[\"Everyone\"],[\"Everyone\"],[\"Teen\"],[\"Teen\"],[\"Teen\"],[\"Teen\"],[\"Everyone\"],[\"Teen\"],[\"Teen\"],[\"Teen\"],[\"Everyone\"],[\"Teen\"],[\"Everyone\"],[\"Everyone\"],[\"Mature 17+\"],[\"Everyone\"],[\"Everyone\"],[\"Everyone\"],[\"Everyone\"],[\"Mature 17+\"],[\"Everyone\"],[\"Everyone\"],[\"Teen\"],[\"Everyone\"],[\"Everyone\"],[\"Teen\"],[\"Everyone\"],[\"Everyone\"],[\"Teen\"],[\"Everyone\"],[\"Everyone\"],[\"Everyone\"],[\"Everyone\"],[\"Everyone\"],[\"Everyone\"],[\"Everyone\"],[\"Everyone\"],[\"Everyone\"],[\"Everyone\"],[\"Everyone\"],[\"Everyone\"],[\"Everyone\"],[\"Everyone\"],[\"Everyone\"],[\"Everyone\"],[\"Everyone\"],[\"Everyone\"],[\"Everyone\"],[\"Everyone\"],[\"Everyone\"],[\"Everyone\"],[\"Everyone\"],[\"Everyone\"],[\"Everyone\"],[\"Everyone\"],[\"Everyone\"],[\"Everyone\"],[\"Everyone\"],[\"Everyone\"],[\"Everyone\"],[\"Teen\"],[\"Everyone\"],[\"Everyone\"],[\"Everyone\"],[\"Everyone\"],[\"Everyone\"],[\"Everyone\"],[\"Everyone\"],[\"Everyone\"],[\"Everyone\"],[\"Everyone\"],[\"Everyone\"],[\"Everyone\"],[\"Everyone\"],[\"Everyone\"],[\"Everyone\"],[\"Everyone\"],[\"Everyone\"],[\"Everyone\"],[\"Teen\"],[\"Everyone\"],[\"Teen\"],[\"Everyone\"],[\"Everyone\"],[\"Everyone\"],[\"Teen\"],[\"Everyone\"],[\"Everyone\"],[\"Everyone\"],[\"Everyone\"],[\"Everyone\"],[\"Everyone\"],[\"Everyone\"],[\"Everyone\"],[\"Teen\"],[\"Everyone\"],[\"Everyone\"],[\"Everyone\"],[\"Everyone\"],[\"Everyone\"],[\"Teen\"],[\"Everyone\"],[\"Everyone\"],[\"Everyone\"],[\"Teen\"],[\"Everyone\"],[\"Everyone\"],[\"Everyone\"],[\"Everyone\"],[\"Everyone\"],[\"Everyone\"],[\"Everyone\"],[\"Everyone\"],[\"Everyone\"],[\"Everyone\"],[\"Everyone\"],[\"Everyone\"],[\"Everyone\"],[\"Everyone\"],[\"Everyone\"],[\"Everyone\"],[\"Everyone\"],[\"Everyone\"],[\"Teen\"],[\"Everyone\"],[\"Mature 17+\"],[\"Everyone\"],[\"Everyone\"],[\"Everyone\"],[\"Everyone\"],[\"Everyone\"],[\"Everyone\"],[\"Everyone\"],[\"Everyone\"],[\"Everyone\"],[\"Everyone\"],[\"Everyone\"],[\"Everyone\"],[\"Everyone\"],[\"Everyone\"],[\"Everyone\"],[\"Everyone\"],[\"Everyone\"],[\"Teen\"],[\"Everyone\"],[\"Everyone\"],[\"Everyone 10+\"],[\"Everyone\"],[\"Everyone\"],[\"Everyone\"],[\"Everyone\"],[\"Everyone\"],[\"Everyone\"],[\"Everyone\"],[\"Everyone\"],[\"Everyone\"],[\"Everyone\"],[\"Teen\"],[\"Teen\"],[\"Teen\"],[\"Teen\"],[\"Teen\"],[\"Teen\"],[\"Teen\"],[\"Everyone\"],[\"Teen\"],[\"Everyone\"],[\"Everyone\"],[\"Everyone\"],[\"Everyone\"],[\"Everyone\"],[\"Everyone\"],[\"Everyone\"],[\"Everyone\"],[\"Everyone\"],[\"Everyone\"],[\"Teen\"],[\"Everyone\"],[\"Teen\"],[\"Everyone\"],[\"Everyone\"],[\"Everyone\"],[\"Everyone\"],[\"Everyone\"],[\"Everyone\"],[\"Everyone\"],[\"Everyone\"],[\"Everyone\"],[\"Teen\"],[\"Teen\"],[\"Everyone\"],[\"Teen\"],[\"Teen\"],[\"Everyone\"],[\"Everyone\"],[\"Everyone\"],[\"Everyone\"],[\"Everyone\"],[\"Everyone\"],[\"Everyone\"],[\"Everyone\"],[\"Everyone\"],[\"Everyone\"],[\"Everyone\"],[\"Everyone\"],[\"Everyone\"],[\"Mature 17+\"],[\"Everyone\"],[\"Everyone\"],[\"Everyone\"],[\"Everyone\"],[\"Everyone\"],[\"Everyone\"],[\"Everyone\"],[\"Everyone\"],[\"Everyone\"],[\"Everyone\"],[\"Everyone\"],[\"Everyone\"],[\"Mature 17+\"],[\"Everyone\"],[\"Mature 17+\"],[\"Everyone\"],[\"Everyone\"],[\"Everyone\"],[\"Everyone\"],[\"Everyone\"],[\"Everyone\"],[\"Everyone\"],[\"Everyone\"],[\"Everyone\"],[\"Everyone\"],[\"Everyone\"],[\"Everyone\"],[\"Everyone\"],[\"Everyone\"],[\"Teen\"],[\"Mature 17+\"],[\"Everyone\"],[\"Everyone\"],[\"Everyone\"],[\"Everyone\"],[\"Everyone\"],[\"Everyone\"],[\"Everyone\"],[\"Everyone\"],[\"Everyone\"],[\"Everyone\"],[\"Everyone\"],[\"Everyone\"],[\"Teen\"],[\"Everyone\"],[\"Everyone\"],[\"Everyone\"],[\"Everyone\"],[\"Everyone\"],[\"Everyone\"],[\"Everyone\"],[\"Everyone\"],[\"Everyone\"],[\"Everyone\"],[\"Everyone\"],[\"Everyone\"],[\"Everyone\"],[\"Everyone\"],[\"Everyone\"],[\"Mature 17+\"],[\"Everyone\"],[\"Everyone\"],[\"Everyone\"],[\"Teen\"],[\"Everyone\"],[\"Everyone\"],[\"Everyone\"],[\"Everyone\"],[\"Everyone\"],[\"Everyone\"],[\"Everyone\"],[\"Everyone\"],[\"Everyone 10+\"],[\"Everyone\"],[\"Teen\"],[\"Teen\"],[\"Mature 17+\"],[\"Everyone 10+\"],[\"Everyone\"],[\"Everyone\"],[\"Teen\"],[\"Everyone\"],[\"Everyone 10+\"],[\"Everyone\"],[\"Everyone\"],[\"Everyone\"],[\"Teen\"],[\"Everyone\"],[\"Everyone\"],[\"Everyone\"],[\"Everyone\"],[\"Everyone\"],[\"Everyone\"],[\"Everyone\"],[\"Everyone\"],[\"Teen\"],[\"Teen\"],[\"Teen\"],[\"Everyone\"],[\"Everyone\"],[\"Everyone\"],[\"Everyone\"],[\"Everyone\"],[\"Everyone\"],[\"Everyone\"],[\"Everyone\"],[\"Everyone\"],[\"Teen\"],[\"Everyone\"],[\"Everyone\"],[\"Everyone\"],[\"Everyone\"],[\"Teen\"],[\"Teen\"],[\"Everyone\"],[\"Everyone\"],[\"Everyone\"],[\"Everyone\"],[\"Teen\"],[\"Mature 17+\"],[\"Everyone\"],[\"Everyone\"],[\"Everyone\"],[\"Everyone\"],[\"Everyone\"],[\"Everyone\"],[\"Everyone\"],[\"Everyone\"],[\"Everyone\"],[\"Everyone\"],[\"Everyone\"],[\"Everyone\"],[\"Mature 17+\"],[\"Everyone\"]],\"domain\":{\"x\":[0.0,1.0],\"y\":[0.0,1.0]},\"hovertemplate\":\"Content Rating=%{customdata[0]}<extra></extra>\",\"labels\":[\"Everyone\",\"Everyone\",\"Everyone\",\"Teen\",\"Everyone\",\"Everyone\",\"Everyone\",\"Everyone\",\"Everyone\",\"Everyone\",\"Everyone\",\"Everyone\",\"Teen\",\"Everyone\",\"Everyone\",\"Everyone\",\"Everyone\",\"Everyone\",\"Everyone\",\"Everyone\",\"Everyone\",\"Everyone 10+\",\"Everyone\",\"Everyone\",\"Everyone\",\"Everyone\",\"Everyone\",\"Everyone\",\"Everyone\",\"Everyone\",\"Everyone\",\"Everyone\",\"Everyone\",\"Teen\",\"Everyone\",\"Everyone\",\"Everyone\",\"Everyone\",\"Everyone\",\"Everyone\",\"Everyone\",\"Everyone\",\"Everyone\",\"Everyone\",\"Everyone\",\"Everyone\",\"Everyone\",\"Everyone\",\"Everyone\",\"Everyone\",\"Everyone\",\"Everyone\",\"Everyone\",\"Everyone\",\"Everyone\",\"Everyone\",\"Everyone\",\"Everyone\",\"Everyone\",\"Everyone\",\"Everyone\",\"Everyone\",\"Everyone\",\"Everyone\",\"Everyone\",\"Everyone\",\"Everyone\",\"Everyone\",\"Everyone\",\"Everyone\",\"Everyone\",\"Teen\",\"Everyone\",\"Everyone\",\"Everyone\",\"Everyone\",\"Everyone 10+\",\"Everyone\",\"Everyone\",\"Everyone\",\"Everyone\",\"Everyone\",\"Everyone\",\"Everyone\",\"Everyone\",\"Everyone\",\"Everyone\",\"Everyone\",\"Everyone\",\"Everyone\",\"Everyone\",\"Everyone\",\"Everyone\",\"Everyone\",\"Everyone\",\"Everyone\",\"Everyone\",\"Everyone\",\"Everyone\",\"Everyone\",\"Everyone\",\"Everyone\",\"Everyone\",\"Everyone\",\"Everyone\",\"Everyone\",\"Everyone\",\"Everyone\",\"Everyone\",\"Everyone\",\"Everyone\",\"Teen\",\"Everyone 10+\",\"Everyone\",\"Everyone\",\"Everyone\",\"Everyone\",\"Everyone\",\"Everyone\",\"Everyone\",\"Everyone\",\"Everyone\",\"Everyone\",\"Everyone\",\"Everyone\",\"Teen\",\"Everyone\",\"Everyone\",\"Mature 17+\",\"Everyone 10+\",\"Everyone\",\"Everyone\",\"Mature 17+\",\"Mature 17+\",\"Everyone\",\"Everyone\",\"Everyone\",\"Everyone\",\"Teen\",\"Everyone\",\"Everyone 10+\",\"Everyone\",\"Teen\",\"Everyone\",\"Everyone\",\"Teen\",\"Everyone\",\"Teen\",\"Everyone\",\"Everyone\",\"Teen\",\"Teen\",\"Everyone\",\"Everyone\",\"Everyone\",\"Everyone\",\"Teen\",\"Everyone\",\"Everyone\",\"Everyone\",\"Everyone\",\"Everyone\",\"Everyone\",\"Everyone\",\"Teen\",\"Mature 17+\",\"Everyone\",\"Everyone\",\"Everyone\",\"Mature 17+\",\"Everyone\",\"Everyone\",\"Everyone\",\"Everyone\",\"Everyone\",\"Everyone\",\"Everyone\",\"Everyone\",\"Everyone\",\"Everyone\",\"Everyone\",\"Everyone\",\"Everyone\",\"Everyone\",\"Everyone\",\"Everyone 10+\",\"Everyone\",\"Everyone\",\"Everyone\",\"Everyone\",\"Everyone\",\"Everyone\",\"Everyone\",\"Everyone\",\"Everyone\",\"Everyone\",\"Everyone\",\"Everyone\",\"Everyone\",\"Everyone\",\"Everyone\",\"Everyone\",\"Everyone\",\"Everyone\",\"Everyone\",\"Everyone\",\"Everyone\",\"Everyone\",\"Everyone\",\"Everyone\",\"Everyone\",\"Everyone\",\"Everyone\",\"Everyone\",\"Everyone\",\"Everyone\",\"Everyone\",\"Everyone\",\"Everyone\",\"Everyone\",\"Everyone\",\"Everyone\",\"Everyone\",\"Everyone\",\"Everyone\",\"Everyone\",\"Everyone\",\"Everyone\",\"Everyone\",\"Everyone\",\"Everyone\",\"Everyone\",\"Everyone\",\"Everyone\",\"Everyone\",\"Everyone\",\"Everyone\",\"Everyone\",\"Everyone\",\"Everyone\",\"Everyone\",\"Everyone\",\"Everyone\",\"Everyone\",\"Everyone\",\"Everyone\",\"Everyone\",\"Everyone\",\"Everyone\",\"Everyone\",\"Everyone\",\"Everyone\",\"Everyone\",\"Everyone\",\"Everyone\",\"Everyone\",\"Everyone\",\"Everyone\",\"Everyone\",\"Everyone\",\"Teen\",\"Adults only 18+\",\"Teen\",\"Everyone\",\"Everyone\",\"Mature 17+\",\"Mature 17+\",\"Teen\",\"Teen\",\"Everyone\",\"Everyone\",\"Everyone 10+\",\"Everyone\",\"Teen\",\"Teen\",\"Mature 17+\",\"Mature 17+\",\"Everyone\",\"Teen\",\"Teen\",\"Teen\",\"Teen\",\"Everyone\",\"Everyone\",\"Everyone\",\"Everyone\",\"Teen\",\"Mature 17+\",\"Teen\",\"Everyone 10+\",\"Mature 17+\",\"Everyone\",\"Everyone\",\"Everyone\",\"Teen\",\"Everyone\",\"Everyone\",\"Everyone\",\"Everyone\",\"Everyone\",\"Teen\",\"Everyone\",\"Everyone\",\"Everyone\",\"Everyone\",\"Everyone\",\"Everyone\",\"Everyone\",\"Everyone\",\"Everyone\",\"Everyone\",\"Everyone\",\"Everyone\",\"Everyone\",\"Everyone\",\"Everyone\",\"Everyone\",\"Everyone\",\"Everyone\",\"Everyone\",\"Everyone\",\"Everyone\",\"Everyone\",\"Everyone\",\"Everyone\",\"Mature 17+\",\"Teen\",\"Everyone\",\"Everyone\",\"Teen\",\"Everyone\",\"Everyone\",\"Everyone\",\"Mature 17+\",\"Everyone\",\"Everyone\",\"Everyone\",\"Everyone\",\"Everyone\",\"Everyone\",\"Teen\",\"Teen\",\"Everyone\",\"Everyone\",\"Everyone\",\"Everyone\",\"Everyone\",\"Everyone\",\"Everyone\",\"Everyone\",\"Everyone\",\"Everyone\",\"Everyone\",\"Everyone\",\"Everyone\",\"Everyone\",\"Everyone\",\"Everyone\",\"Everyone\",\"Everyone\",\"Everyone\",\"Everyone\",\"Everyone\",\"Everyone\",\"Everyone\",\"Everyone\",\"Everyone\",\"Everyone\",\"Everyone\",\"Everyone\",\"Everyone\",\"Everyone\",\"Everyone\",\"Everyone\",\"Everyone\",\"Everyone\",\"Everyone\",\"Mature 17+\",\"Mature 17+\",\"Everyone\",\"Everyone\",\"Everyone\",\"Everyone\",\"Everyone\",\"Everyone\",\"Everyone\",\"Everyone\",\"Everyone\",\"Everyone\",\"Everyone\",\"Everyone\",\"Everyone\",\"Everyone\",\"Everyone\",\"Everyone\",\"Everyone\",\"Everyone\",\"Everyone\",\"Everyone\",\"Everyone\",\"Everyone\",\"Everyone\",\"Everyone\",\"Everyone\",\"Everyone\",\"Mature 17+\",\"Everyone\",\"Teen\",\"Everyone\",\"Teen\",\"Mature 17+\",\"Mature 17+\",\"Mature 17+\",\"Mature 17+\",\"Mature 17+\",\"Mature 17+\",\"Mature 17+\",\"Mature 17+\",\"Mature 17+\",\"Mature 17+\",\"Mature 17+\",\"Mature 17+\",\"Mature 17+\",\"Mature 17+\",\"Mature 17+\",\"Mature 17+\",\"Mature 17+\",\"Mature 17+\",\"Mature 17+\",\"Mature 17+\",\"Mature 17+\",\"Mature 17+\",\"Mature 17+\",\"Mature 17+\",\"Mature 17+\",\"Mature 17+\",\"Mature 17+\",\"Mature 17+\",\"Mature 17+\",\"Mature 17+\",\"Mature 17+\",\"Mature 17+\",\"Mature 17+\",\"Mature 17+\",\"Mature 17+\",\"Mature 17+\",\"Mature 17+\",\"Mature 17+\",\"Mature 17+\",\"Mature 17+\",\"Mature 17+\",\"Mature 17+\",\"Mature 17+\",\"Everyone\",\"Mature 17+\",\"Mature 17+\",\"Mature 17+\",\"Teen\",\"Mature 17+\",\"Mature 17+\",\"Mature 17+\",\"Mature 17+\",\"Mature 17+\",\"Mature 17+\",\"Mature 17+\",\"Mature 17+\",\"Mature 17+\",\"Mature 17+\",\"Mature 17+\",\"Mature 17+\",\"Mature 17+\",\"Mature 17+\",\"Mature 17+\",\"Mature 17+\",\"Teen\",\"Mature 17+\",\"Mature 17+\",\"Mature 17+\",\"Mature 17+\",\"Mature 17+\",\"Mature 17+\",\"Mature 17+\",\"Mature 17+\",\"Mature 17+\",\"Mature 17+\",\"Mature 17+\",\"Mature 17+\",\"Mature 17+\",\"Mature 17+\",\"Mature 17+\",\"Mature 17+\",\"Mature 17+\",\"Mature 17+\",\"Mature 17+\",\"Mature 17+\",\"Mature 17+\",\"Mature 17+\",\"Mature 17+\",\"Mature 17+\",\"Mature 17+\",\"Mature 17+\",\"Everyone\",\"Mature 17+\",\"Everyone\",\"Mature 17+\",\"Mature 17+\",\"Mature 17+\",\"Mature 17+\",\"Mature 17+\",\"Mature 17+\",\"Mature 17+\",\"Mature 17+\",\"Mature 17+\",\"Mature 17+\",\"Mature 17+\",\"Mature 17+\",\"Mature 17+\",\"Mature 17+\",\"Teen\",\"Mature 17+\",\"Mature 17+\",\"Mature 17+\",\"Mature 17+\",\"Mature 17+\",\"Everyone\",\"Mature 17+\",\"Everyone\",\"Mature 17+\",\"Mature 17+\",\"Mature 17+\",\"Mature 17+\",\"Teen\",\"Mature 17+\",\"Everyone\",\"Mature 17+\",\"Teen\",\"Everyone\",\"Everyone\",\"Mature 17+\",\"Mature 17+\",\"Mature 17+\",\"Everyone\",\"Teen\",\"Mature 17+\",\"Mature 17+\",\"Mature 17+\",\"Teen\",\"Everyone\",\"Mature 17+\",\"Mature 17+\",\"Mature 17+\",\"Everyone\",\"Mature 17+\",\"Mature 17+\",\"Mature 17+\",\"Mature 17+\",\"Mature 17+\",\"Everyone\",\"Everyone\",\"Mature 17+\",\"Mature 17+\",\"Mature 17+\",\"Mature 17+\",\"Mature 17+\",\"Mature 17+\",\"Mature 17+\",\"Mature 17+\",\"Mature 17+\",\"Mature 17+\",\"Mature 17+\",\"Mature 17+\",\"Everyone\",\"Everyone 10+\",\"Everyone\",\"Everyone\",\"Everyone\",\"Everyone\",\"Everyone\",\"Everyone\",\"Everyone\",\"Everyone\",\"Everyone\",\"Everyone\",\"Everyone\",\"Everyone\",\"Everyone\",\"Everyone\",\"Everyone\",\"Everyone\",\"Everyone\",\"Everyone\",\"Everyone\",\"Everyone\",\"Mature 17+\",\"Everyone\",\"Everyone\",\"Mature 17+\",\"Mature 17+\",\"Everyone\",\"Everyone\",\"Everyone\",\"Everyone\",\"Everyone\",\"Everyone\",\"Everyone\",\"Everyone\",\"Everyone\",\"Everyone\",\"Everyone\",\"Everyone\",\"Everyone\",\"Everyone\",\"Everyone\",\"Everyone 10+\",\"Everyone\",\"Everyone\",\"Everyone\",\"Everyone\",\"Everyone\",\"Everyone\",\"Everyone\",\"Everyone\",\"Everyone\",\"Everyone\",\"Everyone\",\"Everyone\",\"Everyone\",\"Everyone\",\"Everyone\",\"Everyone\",\"Everyone\",\"Everyone\",\"Everyone\",\"Everyone\",\"Everyone\",\"Everyone\",\"Everyone\",\"Everyone\",\"Everyone\",\"Everyone\",\"Everyone\",\"Everyone\",\"Everyone\",\"Everyone\",\"Everyone\",\"Everyone\",\"Everyone\",\"Everyone\",\"Everyone\",\"Everyone\",\"Everyone\",\"Everyone\",\"Everyone\",\"Everyone\",\"Everyone\",\"Everyone\",\"Everyone\",\"Everyone\",\"Everyone\",\"Everyone\",\"Everyone 10+\",\"Everyone\",\"Everyone\",\"Everyone\",\"Everyone\",\"Everyone\",\"Everyone\",\"Everyone\",\"Everyone\",\"Everyone\",\"Everyone\",\"Everyone\",\"Everyone\",\"Everyone\",\"Everyone\",\"Everyone\",\"Everyone\",\"Everyone\",\"Everyone\",\"Everyone\",\"Everyone\",\"Everyone\",\"Everyone\",\"Teen\",\"Everyone\",\"Everyone\",\"Everyone\",\"Everyone\",\"Everyone\",\"Everyone\",\"Teen\",\"Everyone\",\"Teen\",\"Teen\",\"Everyone\",\"Everyone\",\"Everyone\",\"Everyone\",\"Everyone\",\"Teen\",\"Teen\",\"Teen\",\"Teen\",\"Everyone\",\"Teen\",\"Everyone\",\"Everyone\",\"Mature 17+\",\"Everyone\",\"Everyone\",\"Teen\",\"Teen\",\"Everyone\",\"Teen\",\"Everyone\",\"Everyone\",\"Everyone\",\"Everyone\",\"Everyone\",\"Everyone\",\"Everyone\",\"Teen\",\"Everyone\",\"Teen\",\"Teen\",\"Teen\",\"Teen\",\"Everyone\",\"Everyone\",\"Teen\",\"Teen\",\"Teen\",\"Everyone\",\"Teen\",\"Everyone\",\"Everyone\",\"Everyone\",\"Teen\",\"Teen\",\"Teen\",\"Teen\",\"Teen\",\"Teen\",\"Teen\",\"Teen\",\"Teen\",\"Mature 17+\",\"Everyone\",\"Teen\",\"Everyone 10+\",\"Teen\",\"Teen\",\"Teen\",\"Teen\",\"Teen\",\"Teen\",\"Teen\",\"Teen\",\"Teen\",\"Teen\",\"Mature 17+\",\"Teen\",\"Teen\",\"Teen\",\"Teen\",\"Everyone\",\"Teen\",\"Everyone 10+\",\"Teen\",\"Teen\",\"Everyone\",\"Mature 17+\",\"Teen\",\"Teen\",\"Teen\",\"Everyone\",\"Teen\",\"Everyone\",\"Teen\",\"Everyone\",\"Teen\",\"Everyone\",\"Everyone\",\"Everyone\",\"Teen\",\"Teen\",\"Teen\",\"Mature 17+\",\"Teen\",\"Mature 17+\",\"Everyone\",\"Everyone\",\"Everyone\",\"Everyone\",\"Everyone\",\"Everyone\",\"Everyone\",\"Teen\",\"Everyone\",\"Everyone\",\"Everyone\",\"Everyone\",\"Everyone\",\"Everyone\",\"Everyone\",\"Everyone\",\"Everyone\",\"Teen\",\"Everyone\",\"Everyone\",\"Teen\",\"Everyone\",\"Everyone 10+\",\"Everyone\",\"Everyone 10+\",\"Everyone\",\"Everyone\",\"Everyone\",\"Everyone\",\"Everyone\",\"Everyone\",\"Everyone\",\"Everyone\",\"Teen\",\"Everyone 10+\",\"Everyone\",\"Everyone\",\"Everyone\",\"Everyone\",\"Everyone\",\"Everyone\",\"Everyone\",\"Everyone\",\"Everyone\",\"Everyone\",\"Teen\",\"Everyone\",\"Everyone\",\"Everyone\",\"Everyone\",\"Everyone\",\"Everyone\",\"Everyone\",\"Everyone\",\"Everyone\",\"Everyone\",\"Everyone\",\"Everyone\",\"Everyone\",\"Everyone\",\"Everyone\",\"Everyone\",\"Everyone\",\"Everyone\",\"Everyone\",\"Everyone\",\"Everyone\",\"Everyone\",\"Everyone\",\"Everyone\",\"Everyone\",\"Everyone\",\"Everyone\",\"Everyone\",\"Everyone\",\"Everyone\",\"Everyone\",\"Everyone\",\"Everyone\",\"Everyone\",\"Everyone\",\"Everyone\",\"Everyone\",\"Everyone\",\"Everyone\",\"Everyone\",\"Everyone\",\"Everyone\",\"Everyone\",\"Everyone\",\"Everyone\",\"Everyone\",\"Everyone\",\"Everyone\",\"Everyone\",\"Everyone\",\"Everyone\",\"Everyone\",\"Everyone\",\"Everyone\",\"Everyone\",\"Everyone\",\"Everyone\",\"Everyone\",\"Everyone\",\"Everyone\",\"Everyone\",\"Everyone\",\"Everyone\",\"Everyone\",\"Everyone\",\"Everyone\",\"Everyone\",\"Everyone\",\"Everyone\",\"Everyone\",\"Everyone\",\"Everyone\",\"Everyone\",\"Everyone\",\"Everyone\",\"Everyone\",\"Everyone\",\"Everyone\",\"Everyone\",\"Everyone\",\"Everyone\",\"Everyone\",\"Everyone\",\"Everyone\",\"Everyone\",\"Everyone\",\"Everyone\",\"Everyone\",\"Everyone\",\"Everyone\",\"Everyone\",\"Everyone\",\"Everyone\",\"Everyone\",\"Everyone\",\"Everyone\",\"Everyone\",\"Everyone\",\"Everyone\",\"Everyone\",\"Everyone\",\"Everyone\",\"Everyone\",\"Everyone\",\"Everyone\",\"Everyone\",\"Everyone\",\"Everyone\",\"Everyone\",\"Everyone\",\"Everyone\",\"Everyone\",\"Everyone\",\"Everyone\",\"Everyone\",\"Everyone\",\"Everyone\",\"Everyone\",\"Everyone\",\"Everyone\",\"Everyone\",\"Teen\",\"Everyone\",\"Everyone\",\"Everyone\",\"Everyone\",\"Everyone\",\"Everyone\",\"Everyone\",\"Everyone\",\"Everyone\",\"Everyone\",\"Everyone\",\"Everyone\",\"Everyone\",\"Everyone\",\"Everyone\",\"Everyone 10+\",\"Everyone\",\"Everyone\",\"Everyone\",\"Everyone\",\"Everyone\",\"Everyone\",\"Everyone\",\"Everyone\",\"Everyone\",\"Everyone\",\"Everyone\",\"Everyone\",\"Everyone\",\"Everyone\",\"Everyone\",\"Everyone\",\"Teen\",\"Everyone\",\"Everyone\",\"Everyone\",\"Everyone\",\"Teen\",\"Everyone\",\"Everyone\",\"Everyone\",\"Everyone 10+\",\"Everyone\",\"Everyone\",\"Everyone\",\"Everyone\",\"Everyone\",\"Everyone\",\"Everyone\",\"Teen\",\"Everyone\",\"Everyone\",\"Everyone\",\"Teen\",\"Everyone\",\"Everyone\",\"Everyone\",\"Everyone\",\"Everyone\",\"Everyone\",\"Everyone\",\"Everyone\",\"Everyone\",\"Everyone\",\"Everyone\",\"Everyone\",\"Everyone\",\"Everyone\",\"Everyone\",\"Everyone\",\"Everyone\",\"Everyone\",\"Everyone\",\"Everyone\",\"Everyone\",\"Everyone\",\"Everyone\",\"Everyone\",\"Everyone\",\"Everyone\",\"Everyone\",\"Everyone\",\"Everyone\",\"Everyone\",\"Everyone\",\"Everyone\",\"Everyone\",\"Everyone\",\"Everyone\",\"Everyone\",\"Everyone\",\"Everyone\",\"Everyone\",\"Everyone\",\"Teen\",\"Everyone\",\"Everyone\",\"Everyone\",\"Everyone\",\"Everyone\",\"Everyone\",\"Everyone\",\"Everyone\",\"Everyone\",\"Everyone\",\"Everyone\",\"Everyone\",\"Everyone\",\"Everyone\",\"Everyone\",\"Everyone\",\"Mature 17+\",\"Everyone\",\"Teen\",\"Everyone\",\"Teen\",\"Teen\",\"Everyone\",\"Everyone\",\"Everyone\",\"Everyone\",\"Everyone\",\"Everyone\",\"Everyone\",\"Everyone\",\"Teen\",\"Everyone\",\"Everyone\",\"Everyone\",\"Everyone\",\"Everyone\",\"Everyone\",\"Everyone\",\"Everyone\",\"Everyone\",\"Everyone\",\"Everyone\",\"Everyone\",\"Everyone\",\"Everyone\",\"Everyone\",\"Everyone\",\"Everyone\",\"Teen\",\"Everyone\",\"Everyone\",\"Everyone\",\"Everyone\",\"Everyone\",\"Everyone\",\"Everyone\",\"Everyone\",\"Everyone\",\"Everyone\",\"Everyone\",\"Everyone\",\"Everyone\",\"Everyone\",\"Everyone\",\"Teen\",\"Teen\",\"Everyone\",\"Everyone\",\"Everyone 10+\",\"Everyone\",\"Everyone\",\"Everyone\",\"Everyone\",\"Teen\",\"Everyone\",\"Everyone\",\"Everyone\",\"Everyone\",\"Everyone\",\"Teen\",\"Everyone 10+\",\"Everyone\",\"Everyone\",\"Everyone\",\"Everyone\",\"Everyone\",\"Everyone\",\"Everyone\",\"Everyone 10+\",\"Everyone\",\"Everyone\",\"Everyone\",\"Everyone\",\"Everyone\",\"Everyone\",\"Teen\",\"Everyone\",\"Everyone\",\"Everyone\",\"Everyone\",\"Everyone\",\"Everyone\",\"Everyone\",\"Everyone\",\"Teen\",\"Everyone\",\"Everyone\",\"Everyone\",\"Everyone 10+\",\"Everyone\",\"Everyone\",\"Teen\",\"Everyone\",\"Everyone\",\"Everyone\",\"Everyone\",\"Everyone\",\"Everyone\",\"Everyone\",\"Everyone\",\"Everyone\",\"Everyone\",\"Everyone\",\"Everyone\",\"Everyone\",\"Everyone\",\"Everyone\",\"Everyone\",\"Everyone\",\"Everyone\",\"Everyone\",\"Everyone\",\"Everyone\",\"Everyone\",\"Everyone\",\"Everyone\",\"Everyone\",\"Everyone\",\"Everyone\",\"Everyone\",\"Teen\",\"Everyone\",\"Everyone\",\"Everyone\",\"Everyone\",\"Everyone\",\"Everyone\",\"Everyone\",\"Everyone\",\"Everyone\",\"Everyone\",\"Everyone\",\"Teen\",\"Everyone\",\"Everyone\",\"Everyone\",\"Everyone\",\"Everyone\",\"Everyone\",\"Everyone\",\"Everyone\",\"Everyone\",\"Everyone\",\"Everyone\",\"Everyone\",\"Everyone\",\"Everyone\",\"Everyone\",\"Everyone\",\"Everyone\",\"Everyone\",\"Everyone\",\"Everyone\",\"Everyone\",\"Everyone\",\"Everyone\",\"Everyone\",\"Everyone\",\"Everyone\",\"Everyone\",\"Everyone\",\"Everyone\",\"Everyone\",\"Everyone\",\"Everyone\",\"Everyone\",\"Everyone\",\"Everyone\",\"Everyone\",\"Everyone\",\"Everyone\",\"Everyone\",\"Everyone\",\"Everyone\",\"Everyone\",\"Everyone\",\"Everyone\",\"Everyone\",\"Everyone\",\"Everyone\",\"Everyone\",\"Everyone\",\"Everyone\",\"Everyone\",\"Everyone\",\"Everyone\",\"Everyone\",\"Everyone\",\"Everyone\",\"Everyone\",\"Everyone\",\"Everyone\",\"Everyone\",\"Everyone\",\"Everyone\",\"Everyone\",\"Everyone\",\"Everyone\",\"Everyone\",\"Teen\",\"Everyone\",\"Everyone\",\"Everyone\",\"Everyone\",\"Everyone\",\"Everyone\",\"Everyone\",\"Everyone 10+\",\"Everyone\",\"Everyone\",\"Everyone\",\"Everyone\",\"Everyone\",\"Everyone\",\"Everyone\",\"Everyone\",\"Everyone\",\"Everyone\",\"Everyone\",\"Teen\",\"Everyone\",\"Everyone\",\"Everyone\",\"Everyone\",\"Everyone\",\"Everyone\",\"Everyone\",\"Everyone\",\"Everyone\",\"Everyone\",\"Mature 17+\",\"Everyone\",\"Everyone\",\"Everyone\",\"Everyone\",\"Everyone\",\"Teen\",\"Everyone\",\"Everyone\",\"Everyone\",\"Everyone\",\"Everyone\",\"Everyone\",\"Everyone\",\"Everyone\",\"Everyone\",\"Teen\",\"Everyone\",\"Everyone\",\"Everyone\",\"Everyone\",\"Everyone\",\"Everyone\",\"Everyone\",\"Teen\",\"Everyone\",\"Teen\",\"Everyone\",\"Everyone\",\"Everyone\",\"Everyone\",\"Everyone\",\"Everyone\",\"Everyone\",\"Everyone\",\"Everyone\",\"Everyone\",\"Everyone\",\"Everyone\",\"Everyone\",\"Everyone\",\"Everyone\",\"Everyone\",\"Everyone\",\"Everyone\",\"Everyone\",\"Everyone\",\"Everyone\",\"Everyone\",\"Teen\",\"Everyone 10+\",\"Everyone 10+\",\"Everyone\",\"Everyone\",\"Everyone\",\"Everyone\",\"Everyone\",\"Everyone 10+\",\"Everyone\",\"Everyone\",\"Everyone\",\"Everyone\",\"Everyone\",\"Everyone 10+\",\"Everyone\",\"Everyone\",\"Mature 17+\",\"Everyone 10+\",\"Teen\",\"Everyone\",\"Everyone\",\"Everyone\",\"Everyone\",\"Everyone\",\"Everyone\",\"Everyone\",\"Teen\",\"Everyone\",\"Everyone\",\"Teen\",\"Everyone\",\"Everyone\",\"Everyone 10+\",\"Everyone\",\"Everyone\",\"Everyone\",\"Everyone\",\"Everyone\",\"Everyone\",\"Everyone 10+\",\"Everyone\",\"Everyone 10+\",\"Everyone\",\"Everyone\",\"Everyone\",\"Everyone\",\"Mature 17+\",\"Everyone\",\"Everyone\",\"Everyone\",\"Everyone\",\"Everyone\",\"Everyone\",\"Teen\",\"Teen\",\"Everyone\",\"Everyone\",\"Teen\",\"Everyone\",\"Everyone\",\"Everyone\",\"Everyone\",\"Everyone\",\"Everyone\",\"Everyone\",\"Everyone\",\"Everyone\",\"Everyone\",\"Everyone\",\"Teen\",\"Everyone\",\"Everyone\",\"Everyone\",\"Teen\",\"Teen\",\"Everyone\",\"Teen\",\"Everyone 10+\",\"Everyone\",\"Everyone\",\"Everyone\",\"Everyone\",\"Everyone\",\"Everyone\",\"Everyone\",\"Everyone\",\"Everyone\",\"Everyone\",\"Everyone\",\"Everyone\",\"Teen\",\"Teen\",\"Everyone\",\"Everyone 10+\",\"Everyone 10+\",\"Everyone 10+\",\"Teen\",\"Everyone\",\"Everyone\",\"Everyone\",\"Everyone\",\"Everyone\",\"Teen\",\"Teen\",\"Teen\",\"Teen\",\"Everyone\",\"Teen\",\"Teen\",\"Everyone 10+\",\"Everyone\",\"Everyone\",\"Everyone\",\"Everyone\",\"Teen\",\"Everyone\",\"Everyone\",\"Everyone\",\"Everyone\",\"Teen\",\"Teen\",\"Mature 17+\",\"Everyone\",\"Teen\",\"Teen\",\"Teen\",\"Everyone 10+\",\"Teen\",\"Everyone 10+\",\"Teen\",\"Mature 17+\",\"Teen\",\"Teen\",\"Everyone\",\"Everyone 10+\",\"Everyone\",\"Teen\",\"Everyone\",\"Everyone\",\"Teen\",\"Teen\",\"Everyone\",\"Everyone\",\"Teen\",\"Teen\",\"Everyone\",\"Teen\",\"Everyone 10+\",\"Teen\",\"Everyone\",\"Mature 17+\",\"Everyone 10+\",\"Mature 17+\",\"Teen\",\"Everyone\",\"Teen\",\"Teen\",\"Everyone 10+\",\"Teen\",\"Teen\",\"Teen\",\"Teen\",\"Everyone\",\"Everyone\",\"Everyone\",\"Everyone\",\"Everyone\",\"Everyone\",\"Everyone 10+\",\"Teen\",\"Teen\",\"Everyone\",\"Everyone 10+\",\"Everyone\",\"Teen\",\"Mature 17+\",\"Teen\",\"Teen\",\"Everyone\",\"Everyone 10+\",\"Teen\",\"Teen\",\"Everyone\",\"Everyone\",\"Everyone 10+\",\"Teen\",\"Everyone\",\"Everyone 10+\",\"Everyone 10+\",\"Teen\",\"Everyone\",\"Everyone 10+\",\"Everyone\",\"Everyone 10+\",\"Teen\",\"Everyone\",\"Mature 17+\",\"Teen\",\"Everyone 10+\",\"Everyone 10+\",\"Teen\",\"Teen\",\"Everyone\",\"Everyone\",\"Everyone\",\"Everyone\",\"Everyone\",\"Teen\",\"Everyone\",\"Everyone\",\"Everyone\",\"Everyone\",\"Everyone\",\"Teen\",\"Everyone\",\"Everyone 10+\",\"Everyone\",\"Everyone 10+\",\"Everyone\",\"Everyone\",\"Everyone\",\"Everyone\",\"Everyone\",\"Everyone\",\"Everyone\",\"Everyone\",\"Everyone\",\"Everyone\",\"Everyone\",\"Everyone\",\"Everyone\",\"Everyone\",\"Everyone\",\"Everyone\",\"Everyone\",\"Everyone\",\"Everyone\",\"Everyone\",\"Everyone\",\"Everyone\",\"Everyone\",\"Everyone\",\"Everyone\",\"Everyone\",\"Everyone\",\"Everyone\",\"Everyone\",\"Everyone\",\"Everyone\",\"Everyone\",\"Everyone\",\"Everyone 10+\",\"Everyone\",\"Everyone\",\"Everyone\",\"Everyone\",\"Everyone\",\"Everyone\",\"Everyone\",\"Everyone\",\"Everyone\",\"Everyone\",\"Everyone\",\"Everyone\",\"Everyone\",\"Everyone\",\"Everyone\",\"Everyone\",\"Everyone 10+\",\"Everyone\",\"Everyone\",\"Everyone\",\"Everyone\",\"Everyone 10+\",\"Everyone\",\"Everyone\",\"Everyone\",\"Everyone\",\"Everyone\",\"Everyone\",\"Everyone\",\"Everyone\",\"Everyone\",\"Everyone\",\"Everyone\",\"Everyone\",\"Everyone\",\"Everyone\",\"Everyone\",\"Everyone\",\"Everyone\",\"Everyone\",\"Everyone\",\"Everyone 10+\",\"Everyone\",\"Everyone\",\"Everyone\",\"Everyone\",\"Everyone\",\"Everyone\",\"Everyone\",\"Everyone\",\"Everyone\",\"Everyone\",\"Everyone\",\"Everyone\",\"Everyone\",\"Everyone\",\"Everyone\",\"Everyone\",\"Everyone\",\"Everyone\",\"Everyone\",\"Everyone\",\"Everyone\",\"Everyone\",\"Everyone\",\"Everyone\",\"Everyone\",\"Everyone 10+\",\"Everyone\",\"Everyone\",\"Everyone\",\"Everyone\",\"Everyone\",\"Everyone\",\"Everyone\",\"Everyone\",\"Everyone\",\"Everyone\",\"Everyone\",\"Everyone\",\"Everyone\",\"Everyone\",\"Everyone\",\"Everyone\",\"Everyone\",\"Everyone\",\"Everyone\",\"Everyone\",\"Everyone\",\"Everyone\",\"Everyone\",\"Everyone\",\"Everyone\",\"Everyone\",\"Everyone\",\"Everyone\",\"Everyone\",\"Everyone\",\"Everyone\",\"Everyone\",\"Everyone\",\"Everyone\",\"Everyone\",\"Everyone\",\"Everyone\",\"Everyone\",\"Everyone\",\"Everyone\",\"Everyone\",\"Everyone\",\"Everyone\",\"Everyone\",\"Everyone\",\"Everyone\",\"Everyone\",\"Everyone\",\"Everyone\",\"Everyone\",\"Everyone\",\"Everyone\",\"Everyone\",\"Everyone\",\"Everyone\",\"Everyone\",\"Everyone\",\"Everyone\",\"Everyone\",\"Everyone\",\"Everyone\",\"Everyone\",\"Everyone\",\"Everyone\",\"Everyone\",\"Everyone\",\"Everyone\",\"Everyone\",\"Everyone 10+\",\"Everyone 10+\",\"Everyone\",\"Everyone\",\"Everyone\",\"Everyone\",\"Everyone\",\"Everyone 10+\",\"Everyone\",\"Everyone\",\"Everyone\",\"Mature 17+\",\"Everyone\",\"Everyone\",\"Everyone\",\"Everyone\",\"Everyone\",\"Everyone\",\"Everyone\",\"Everyone\",\"Everyone\",\"Everyone\",\"Everyone\",\"Everyone\",\"Everyone\",\"Everyone\",\"Everyone\",\"Teen\",\"Everyone\",\"Everyone\",\"Everyone\",\"Everyone\",\"Everyone\",\"Everyone\",\"Everyone\",\"Everyone\",\"Everyone\",\"Everyone\",\"Everyone\",\"Everyone\",\"Everyone\",\"Everyone\",\"Everyone\",\"Everyone\",\"Everyone\",\"Everyone\",\"Everyone\",\"Everyone\",\"Everyone 10+\",\"Everyone\",\"Everyone\",\"Everyone\",\"Everyone\",\"Everyone\",\"Everyone\",\"Everyone\",\"Everyone\",\"Everyone\",\"Everyone\",\"Everyone\",\"Everyone\",\"Everyone\",\"Everyone\",\"Everyone\",\"Everyone\",\"Everyone\",\"Everyone\",\"Everyone\",\"Everyone\",\"Everyone\",\"Everyone\",\"Everyone\",\"Everyone\",\"Everyone\",\"Everyone\",\"Everyone\",\"Everyone\",\"Everyone\",\"Everyone\",\"Everyone\",\"Everyone\",\"Everyone\",\"Everyone\",\"Everyone\",\"Everyone\",\"Everyone\",\"Everyone\",\"Everyone\",\"Everyone\",\"Everyone\",\"Everyone\",\"Everyone\",\"Everyone\",\"Everyone\",\"Everyone\",\"Everyone\",\"Everyone\",\"Everyone\",\"Everyone\",\"Everyone\",\"Everyone\",\"Everyone\",\"Everyone\",\"Everyone\",\"Everyone\",\"Everyone\",\"Everyone\",\"Everyone\",\"Everyone\",\"Everyone\",\"Everyone\",\"Everyone\",\"Everyone\",\"Everyone\",\"Everyone\",\"Everyone\",\"Everyone\",\"Everyone\",\"Everyone\",\"Everyone\",\"Everyone\",\"Everyone\",\"Everyone\",\"Mature 17+\",\"Everyone 10+\",\"Everyone\",\"Everyone\",\"Everyone\",\"Everyone\",\"Everyone\",\"Everyone\",\"Everyone\",\"Everyone\",\"Everyone\",\"Everyone\",\"Everyone\",\"Everyone\",\"Everyone\",\"Everyone\",\"Everyone\",\"Everyone\",\"Everyone\",\"Everyone\",\"Everyone\",\"Everyone\",\"Everyone\",\"Everyone\",\"Everyone\",\"Everyone\",\"Everyone\",\"Everyone\",\"Everyone\",\"Everyone\",\"Everyone\",\"Everyone\",\"Everyone\",\"Everyone\",\"Everyone\",\"Everyone\",\"Everyone\",\"Everyone\",\"Everyone\",\"Everyone\",\"Everyone\",\"Everyone\",\"Everyone\",\"Everyone\",\"Everyone\",\"Everyone\",\"Everyone\",\"Everyone\",\"Everyone\",\"Everyone 10+\",\"Everyone\",\"Everyone\",\"Everyone\",\"Everyone\",\"Everyone\",\"Everyone\",\"Everyone\",\"Everyone\",\"Mature 17+\",\"Everyone\",\"Everyone\",\"Everyone\",\"Everyone\",\"Everyone\",\"Everyone\",\"Everyone\",\"Everyone\",\"Everyone\",\"Everyone\",\"Everyone\",\"Everyone\",\"Everyone\",\"Everyone\",\"Everyone\",\"Everyone\",\"Everyone\",\"Everyone\",\"Everyone\",\"Everyone\",\"Everyone\",\"Everyone\",\"Everyone\",\"Everyone\",\"Everyone\",\"Everyone\",\"Everyone\",\"Everyone\",\"Everyone\",\"Everyone\",\"Everyone\",\"Everyone\",\"Everyone\",\"Everyone\",\"Everyone\",\"Everyone\",\"Everyone\",\"Everyone\",\"Everyone\",\"Everyone\",\"Everyone\",\"Everyone\",\"Everyone\",\"Everyone\",\"Everyone\",\"Everyone\",\"Everyone\",\"Everyone\",\"Everyone\",\"Everyone\",\"Everyone\",\"Everyone\",\"Everyone\",\"Everyone\",\"Everyone\",\"Everyone\",\"Everyone\",\"Everyone\",\"Mature 17+\",\"Everyone\",\"Everyone\",\"Everyone\",\"Teen\",\"Everyone\",\"Everyone\",\"Everyone\",\"Everyone\",\"Everyone\",\"Mature 17+\",\"Everyone\",\"Everyone\",\"Everyone\",\"Everyone\",\"Everyone\",\"Everyone\",\"Everyone\",\"Everyone\",\"Teen\",\"Teen\",\"Teen\",\"Everyone\",\"Mature 17+\",\"Everyone\",\"Teen\",\"Everyone\",\"Teen\",\"Everyone\",\"Teen\",\"Everyone\",\"Everyone\",\"Teen\",\"Teen\",\"Everyone\",\"Mature 17+\",\"Everyone\",\"Everyone\",\"Everyone\",\"Everyone\",\"Teen\",\"Teen\",\"Everyone\",\"Everyone\",\"Mature 17+\",\"Everyone\",\"Teen\",\"Teen\",\"Mature 17+\",\"Everyone 10+\",\"Everyone\",\"Everyone\",\"Mature 17+\",\"Mature 17+\",\"Teen\",\"Teen\",\"Everyone\",\"Everyone\",\"Teen\",\"Everyone\",\"Teen\",\"Everyone\",\"Mature 17+\",\"Everyone\",\"Everyone\",\"Everyone\",\"Mature 17+\",\"Mature 17+\",\"Mature 17+\",\"Everyone\",\"Mature 17+\",\"Teen\",\"Mature 17+\",\"Mature 17+\",\"Everyone\",\"Teen\",\"Teen\",\"Teen\",\"Teen\",\"Teen\",\"Teen\",\"Mature 17+\",\"Everyone\",\"Teen\",\"Teen\",\"Mature 17+\",\"Teen\",\"Everyone\",\"Mature 17+\",\"Mature 17+\",\"Mature 17+\",\"Mature 17+\",\"Everyone\",\"Everyone\",\"Mature 17+\",\"Teen\",\"Mature 17+\",\"Mature 17+\",\"Teen\",\"Everyone\",\"Everyone\",\"Everyone\",\"Everyone\",\"Everyone\",\"Teen\",\"Everyone\",\"Teen\",\"Teen\",\"Teen\",\"Everyone\",\"Everyone\",\"Everyone\",\"Everyone\",\"Everyone\",\"Everyone\",\"Everyone\",\"Everyone\",\"Everyone\",\"Teen\",\"Everyone\",\"Everyone\",\"Teen\",\"Everyone\",\"Everyone\",\"Everyone\",\"Everyone\",\"Everyone\",\"Teen\",\"Everyone\",\"Teen\",\"Everyone\",\"Everyone\",\"Everyone\",\"Everyone\",\"Everyone\",\"Everyone\",\"Everyone\",\"Everyone\",\"Everyone\",\"Everyone\",\"Everyone\",\"Everyone\",\"Teen\",\"Everyone\",\"Everyone\",\"Everyone\",\"Teen\",\"Everyone\",\"Everyone\",\"Everyone\",\"Everyone\",\"Everyone\",\"Everyone\",\"Everyone\",\"Everyone\",\"Everyone\",\"Everyone\",\"Everyone\",\"Everyone\",\"Teen\",\"Everyone\",\"Everyone\",\"Everyone\",\"Everyone\",\"Everyone\",\"Everyone\",\"Everyone\",\"Everyone\",\"Everyone\",\"Everyone\",\"Everyone\",\"Everyone\",\"Everyone\",\"Everyone\",\"Everyone\",\"Teen\",\"Everyone\",\"Everyone\",\"Teen\",\"Everyone\",\"Teen\",\"Everyone\",\"Everyone\",\"Everyone\",\"Teen\",\"Everyone\",\"Everyone\",\"Everyone\",\"Everyone\",\"Teen\",\"Everyone\",\"Teen\",\"Everyone\",\"Teen\",\"Everyone\",\"Everyone\",\"Everyone\",\"Everyone\",\"Everyone\",\"Everyone\",\"Everyone\",\"Everyone\",\"Everyone\",\"Everyone\",\"Everyone\",\"Everyone\",\"Everyone\",\"Everyone\",\"Everyone\",\"Everyone\",\"Everyone\",\"Everyone\",\"Everyone\",\"Everyone\",\"Everyone\",\"Everyone\",\"Everyone\",\"Everyone\",\"Everyone\",\"Everyone\",\"Everyone\",\"Everyone\",\"Mature 17+\",\"Everyone\",\"Everyone\",\"Everyone\",\"Everyone\",\"Everyone\",\"Everyone\",\"Everyone\",\"Everyone\",\"Everyone\",\"Everyone\",\"Everyone\",\"Everyone\",\"Everyone\",\"Everyone\",\"Everyone\",\"Everyone\",\"Everyone\",\"Everyone\",\"Everyone\",\"Everyone\",\"Everyone\",\"Everyone\",\"Everyone\",\"Everyone\",\"Everyone\",\"Everyone\",\"Everyone\",\"Everyone\",\"Everyone\",\"Everyone\",\"Teen\",\"Everyone\",\"Mature 17+\",\"Everyone\",\"Everyone\",\"Everyone\",\"Everyone\",\"Everyone\",\"Everyone\",\"Everyone\",\"Everyone\",\"Everyone\",\"Everyone\",\"Everyone\",\"Everyone\",\"Everyone\",\"Everyone\",\"Everyone\",\"Everyone\",\"Everyone\",\"Everyone\",\"Everyone\",\"Everyone\",\"Everyone\",\"Everyone\",\"Everyone\",\"Everyone\",\"Everyone\",\"Everyone\",\"Everyone\",\"Everyone\",\"Everyone\",\"Everyone\",\"Everyone\",\"Everyone\",\"Everyone\",\"Everyone\",\"Everyone\",\"Everyone\",\"Everyone\",\"Everyone\",\"Everyone\",\"Everyone\",\"Everyone\",\"Teen\",\"Everyone\",\"Everyone\",\"Everyone\",\"Everyone\",\"Everyone\",\"Everyone\",\"Everyone\",\"Everyone\",\"Everyone\",\"Everyone\",\"Everyone\",\"Everyone\",\"Everyone\",\"Teen\",\"Everyone\",\"Everyone\",\"Mature 17+\",\"Everyone\",\"Everyone\",\"Everyone\",\"Everyone\",\"Everyone\",\"Everyone\",\"Everyone\",\"Everyone\",\"Everyone\",\"Everyone\",\"Everyone 10+\",\"Everyone\",\"Everyone\",\"Everyone\",\"Everyone\",\"Everyone 10+\",\"Everyone\",\"Everyone\",\"Everyone\",\"Everyone\",\"Everyone\",\"Everyone\",\"Everyone\",\"Everyone\",\"Mature 17+\",\"Everyone\",\"Mature 17+\",\"Everyone\",\"Everyone\",\"Everyone\",\"Everyone\",\"Everyone\",\"Everyone\",\"Everyone\",\"Everyone\",\"Everyone\",\"Everyone\",\"Everyone\",\"Everyone\",\"Everyone\",\"Everyone\",\"Everyone\",\"Everyone 10+\",\"Everyone\",\"Teen\",\"Everyone\",\"Everyone\",\"Everyone\",\"Everyone\",\"Everyone\",\"Everyone\",\"Everyone\",\"Everyone\",\"Everyone\",\"Everyone\",\"Everyone\",\"Everyone\",\"Everyone\",\"Everyone\",\"Everyone\",\"Everyone\",\"Everyone\",\"Everyone\",\"Teen\",\"Everyone\",\"Everyone\",\"Everyone\",\"Everyone\",\"Everyone\",\"Everyone\",\"Everyone\",\"Everyone 10+\",\"Everyone\",\"Everyone\",\"Everyone\",\"Everyone\",\"Everyone\",\"Everyone\",\"Everyone\",\"Mature 17+\",\"Adults only 18+\",\"Everyone\",\"Everyone\",\"Everyone\",\"Everyone\",\"Everyone\",\"Everyone\",\"Everyone\",\"Everyone\",\"Everyone\",\"Everyone\",\"Everyone\",\"Teen\",\"Everyone\",\"Everyone\",\"Everyone\",\"Everyone\",\"Everyone\",\"Everyone\",\"Everyone\",\"Everyone\",\"Everyone\",\"Everyone\",\"Everyone\",\"Everyone\",\"Everyone\",\"Everyone\",\"Everyone\",\"Everyone\",\"Everyone\",\"Everyone\",\"Everyone\",\"Everyone\",\"Everyone\",\"Everyone\",\"Everyone\",\"Everyone\",\"Everyone\",\"Everyone\",\"Everyone\",\"Everyone\",\"Everyone\",\"Everyone\",\"Everyone\",\"Everyone\",\"Everyone\",\"Mature 17+\",\"Everyone\",\"Everyone\",\"Everyone\",\"Everyone\",\"Everyone\",\"Everyone\",\"Everyone\",\"Everyone\",\"Everyone\",\"Everyone\",\"Everyone\",\"Everyone\",\"Everyone\",\"Everyone\",\"Everyone\",\"Everyone\",\"Everyone\",\"Teen\",\"Everyone\",\"Everyone\",\"Everyone\",\"Everyone\",\"Everyone\",\"Everyone\",\"Everyone\",\"Everyone\",\"Everyone\",\"Everyone\",\"Everyone\",\"Everyone\",\"Everyone\",\"Everyone\",\"Everyone\",\"Everyone\",\"Everyone\",\"Everyone\",\"Everyone\",\"Everyone\",\"Everyone\",\"Everyone\",\"Everyone\",\"Everyone\",\"Teen\",\"Everyone\",\"Everyone\",\"Everyone\",\"Everyone\",\"Everyone\",\"Everyone\",\"Everyone\",\"Everyone\",\"Everyone\",\"Everyone\",\"Everyone\",\"Everyone\",\"Everyone\",\"Everyone\",\"Everyone\",\"Everyone\",\"Everyone\",\"Everyone\",\"Teen\",\"Everyone\",\"Everyone\",\"Everyone\",\"Everyone\",\"Everyone\",\"Everyone\",\"Everyone\",\"Everyone\",\"Everyone\",\"Everyone\",\"Everyone\",\"Everyone\",\"Everyone\",\"Everyone\",\"Everyone\",\"Everyone\",\"Teen\",\"Everyone\",\"Everyone\",\"Everyone\",\"Everyone\",\"Everyone\",\"Everyone\",\"Everyone\",\"Everyone\",\"Everyone\",\"Everyone\",\"Everyone\",\"Everyone\",\"Everyone\",\"Everyone\",\"Everyone\",\"Everyone\",\"Everyone\",\"Everyone\",\"Everyone\",\"Everyone\",\"Everyone\",\"Everyone\",\"Everyone\",\"Everyone\",\"Everyone\",\"Everyone\",\"Everyone\",\"Everyone\",\"Everyone\",\"Everyone\",\"Everyone\",\"Everyone\",\"Everyone\",\"Everyone\",\"Everyone\",\"Everyone\",\"Everyone\",\"Everyone\",\"Everyone\",\"Everyone\",\"Everyone\",\"Everyone\",\"Everyone\",\"Everyone\",\"Everyone\",\"Everyone\",\"Everyone\",\"Everyone\",\"Everyone\",\"Everyone\",\"Everyone\",\"Everyone\",\"Everyone\",\"Everyone\",\"Everyone\",\"Everyone\",\"Everyone\",\"Everyone\",\"Everyone\",\"Everyone\",\"Everyone\",\"Everyone\",\"Everyone\",\"Everyone\",\"Everyone\",\"Everyone\",\"Everyone\",\"Everyone\",\"Everyone\",\"Everyone\",\"Everyone\",\"Everyone\",\"Everyone\",\"Everyone\",\"Everyone\",\"Everyone\",\"Everyone\",\"Everyone\",\"Everyone\",\"Everyone\",\"Everyone\",\"Everyone\",\"Everyone\",\"Everyone\",\"Everyone\",\"Everyone\",\"Everyone\",\"Everyone\",\"Everyone\",\"Everyone\",\"Everyone\",\"Everyone\",\"Everyone\",\"Everyone\",\"Everyone\",\"Everyone\",\"Everyone\",\"Everyone\",\"Everyone\",\"Everyone\",\"Everyone\",\"Everyone\",\"Everyone\",\"Everyone\",\"Everyone\",\"Everyone\",\"Everyone\",\"Everyone\",\"Everyone\",\"Everyone\",\"Everyone\",\"Everyone\",\"Everyone\",\"Everyone\",\"Everyone\",\"Everyone\",\"Everyone\",\"Everyone\",\"Everyone\",\"Everyone\",\"Everyone 10+\",\"Teen\",\"Everyone\",\"Mature 17+\",\"Everyone\",\"Everyone\",\"Everyone\",\"Teen\",\"Everyone 10+\",\"Everyone\",\"Everyone 10+\",\"Everyone\",\"Everyone\",\"Everyone\",\"Everyone\",\"Everyone\",\"Everyone\",\"Everyone\",\"Teen\",\"Everyone\",\"Everyone\",\"Everyone\",\"Everyone\",\"Everyone\",\"Everyone\",\"Everyone\",\"Everyone\",\"Everyone\",\"Everyone\",\"Everyone\",\"Everyone\",\"Everyone\",\"Everyone\",\"Everyone\",\"Everyone\",\"Everyone\",\"Everyone\",\"Everyone\",\"Everyone\",\"Everyone\",\"Everyone\",\"Everyone\",\"Everyone\",\"Everyone\",\"Everyone\",\"Everyone\",\"Everyone\",\"Everyone\",\"Everyone\",\"Everyone\",\"Everyone\",\"Everyone\",\"Everyone\",\"Everyone\",\"Everyone\",\"Everyone\",\"Everyone\",\"Teen\",\"Everyone\",\"Everyone\",\"Teen\",\"Everyone\",\"Everyone\",\"Everyone\",\"Everyone\",\"Everyone\",\"Everyone\",\"Everyone\",\"Everyone\",\"Teen\",\"Teen\",\"Everyone\",\"Everyone\",\"Everyone\",\"Everyone\",\"Everyone\",\"Everyone\",\"Everyone\",\"Everyone\",\"Everyone\",\"Everyone\",\"Everyone\",\"Everyone\",\"Everyone\",\"Everyone\",\"Everyone\",\"Everyone\",\"Everyone\",\"Everyone\",\"Everyone\",\"Everyone\",\"Everyone\",\"Everyone\",\"Everyone\",\"Everyone\",\"Everyone\",\"Everyone\",\"Everyone\",\"Everyone\",\"Everyone\",\"Everyone\",\"Everyone\",\"Everyone\",\"Everyone\",\"Everyone\",\"Everyone\",\"Everyone\",\"Everyone\",\"Everyone\",\"Everyone\",\"Everyone\",\"Everyone\",\"Everyone\",\"Everyone\",\"Everyone\",\"Everyone\",\"Everyone\",\"Everyone\",\"Everyone\",\"Everyone\",\"Everyone\",\"Everyone\",\"Everyone\",\"Everyone\",\"Everyone\",\"Everyone\",\"Everyone\",\"Everyone\",\"Everyone\",\"Everyone\",\"Everyone\",\"Everyone\",\"Everyone\",\"Everyone\",\"Everyone\",\"Everyone\",\"Everyone\",\"Everyone\",\"Everyone\",\"Everyone\",\"Everyone\",\"Everyone\",\"Everyone\",\"Everyone\",\"Everyone\",\"Everyone\",\"Everyone\",\"Everyone\",\"Everyone\",\"Everyone\",\"Everyone\",\"Everyone\",\"Everyone\",\"Everyone\",\"Everyone\",\"Everyone\",\"Everyone\",\"Everyone\",\"Everyone\",\"Everyone\",\"Everyone\",\"Everyone\",\"Everyone\",\"Everyone\",\"Everyone\",\"Everyone\",\"Everyone\",\"Everyone\",\"Everyone\",\"Everyone\",\"Everyone\",\"Everyone\",\"Everyone\",\"Everyone\",\"Everyone\",\"Everyone\",\"Everyone\",\"Everyone\",\"Everyone\",\"Everyone\",\"Everyone\",\"Everyone\",\"Everyone\",\"Everyone\",\"Everyone\",\"Everyone\",\"Everyone\",\"Everyone\",\"Everyone\",\"Everyone\",\"Everyone\",\"Everyone\",\"Everyone\",\"Everyone\",\"Everyone\",\"Everyone\",\"Everyone\",\"Everyone\",\"Everyone\",\"Everyone\",\"Mature 17+\",\"Everyone\",\"Everyone\",\"Everyone\",\"Everyone\",\"Teen\",\"Everyone\",\"Everyone\",\"Everyone\",\"Everyone\",\"Everyone\",\"Everyone\",\"Everyone\",\"Everyone\",\"Everyone\",\"Everyone\",\"Everyone\",\"Everyone\",\"Everyone\",\"Everyone\",\"Everyone\",\"Everyone\",\"Everyone\",\"Everyone\",\"Everyone\",\"Everyone\",\"Everyone\",\"Everyone\",\"Everyone\",\"Everyone\",\"Everyone\",\"Everyone\",\"Everyone\",\"Everyone\",\"Everyone\",\"Everyone\",\"Everyone\",\"Everyone\",\"Everyone\",\"Everyone\",\"Everyone\",\"Everyone\",\"Everyone\",\"Everyone\",\"Everyone\",\"Everyone\",\"Everyone\",\"Everyone\",\"Everyone\",\"Everyone\",\"Everyone\",\"Everyone\",\"Everyone\",\"Everyone\",\"Everyone\",\"Everyone\",\"Everyone\",\"Everyone\",\"Everyone\",\"Everyone\",\"Everyone\",\"Everyone\",\"Everyone\",\"Everyone\",\"Everyone\",\"Everyone\",\"Everyone\",\"Everyone\",\"Everyone\",\"Everyone\",\"Everyone\",\"Everyone\",\"Everyone\",\"Everyone\",\"Everyone\",\"Everyone\",\"Everyone\",\"Everyone\",\"Everyone\",\"Teen\",\"Everyone\",\"Everyone\",\"Everyone\",\"Everyone\",\"Teen\",\"Everyone\",\"Everyone\",\"Everyone\",\"Teen\",\"Everyone\",\"Everyone\",\"Everyone\",\"Teen\",\"Everyone\",\"Everyone\",\"Everyone\",\"Teen\",\"Everyone\",\"Teen\",\"Everyone\",\"Everyone\",\"Everyone\",\"Everyone\",\"Teen\",\"Everyone\",\"Teen\",\"Teen\",\"Everyone\",\"Everyone\",\"Everyone\",\"Everyone\",\"Everyone\",\"Teen\",\"Everyone\",\"Everyone\",\"Everyone\",\"Everyone\",\"Everyone\",\"Everyone\",\"Everyone\",\"Everyone\",\"Everyone 10+\",\"Everyone\",\"Everyone\",\"Everyone\",\"Teen\",\"Teen\",\"Teen\",\"Everyone\",\"Everyone 10+\",\"Teen\",\"Everyone\",\"Everyone 10+\",\"Everyone\",\"Everyone 10+\",\"Everyone\",\"Everyone 10+\",\"Teen\",\"Everyone 10+\",\"Everyone\",\"Everyone\",\"Everyone 10+\",\"Everyone\",\"Teen\",\"Teen\",\"Teen\",\"Teen\",\"Everyone\",\"Everyone\",\"Everyone\",\"Teen\",\"Mature 17+\",\"Everyone\",\"Teen\",\"Teen\",\"Mature 17+\",\"Mature 17+\",\"Everyone\",\"Everyone\",\"Everyone\",\"Everyone 10+\",\"Everyone 10+\",\"Everyone 10+\",\"Mature 17+\",\"Teen\",\"Teen\",\"Everyone\",\"Everyone\",\"Everyone\",\"Everyone\",\"Everyone\",\"Everyone 10+\",\"Everyone 10+\",\"Everyone\",\"Everyone\",\"Teen\",\"Teen\",\"Teen\",\"Teen\",\"Everyone\",\"Everyone\",\"Everyone\",\"Teen\",\"Everyone 10+\",\"Everyone\",\"Everyone 10+\",\"Everyone\",\"Everyone 10+\",\"Mature 17+\",\"Everyone 10+\",\"Everyone 10+\",\"Teen\",\"Everyone 10+\",\"Teen\",\"Teen\",\"Teen\",\"Everyone\",\"Everyone 10+\",\"Everyone\",\"Everyone 10+\",\"Everyone 10+\",\"Everyone 10+\",\"Mature 17+\",\"Everyone 10+\",\"Everyone 10+\",\"Teen\",\"Everyone 10+\",\"Everyone\",\"Everyone\",\"Everyone 10+\",\"Everyone 10+\",\"Teen\",\"Everyone 10+\",\"Everyone\",\"Everyone 10+\",\"Mature 17+\",\"Everyone\",\"Everyone\",\"Everyone\",\"Everyone\",\"Everyone\",\"Everyone\",\"Everyone\",\"Everyone\",\"Everyone\",\"Everyone\",\"Everyone\",\"Everyone\",\"Everyone\",\"Everyone\",\"Everyone\",\"Everyone\",\"Everyone\",\"Everyone\",\"Everyone\",\"Everyone\",\"Everyone\",\"Everyone\",\"Everyone\",\"Everyone\",\"Everyone\",\"Everyone\",\"Everyone\",\"Everyone\",\"Everyone\",\"Everyone\",\"Everyone\",\"Everyone\",\"Everyone\",\"Everyone\",\"Everyone\",\"Everyone\",\"Everyone\",\"Everyone\",\"Everyone\",\"Everyone\",\"Everyone\",\"Everyone\",\"Everyone\",\"Everyone\",\"Everyone\",\"Everyone\",\"Everyone\",\"Everyone\",\"Everyone\",\"Everyone\",\"Everyone\",\"Everyone\",\"Mature 17+\",\"Everyone\",\"Everyone\",\"Teen\",\"Teen\",\"Everyone\",\"Everyone\",\"Everyone\",\"Everyone\",\"Everyone\",\"Everyone\",\"Everyone\",\"Teen\",\"Mature 17+\",\"Everyone\",\"Everyone\",\"Teen\",\"Teen\",\"Everyone\",\"Everyone\",\"Everyone\",\"Everyone\",\"Everyone\",\"Teen\",\"Everyone\",\"Everyone 10+\",\"Everyone\",\"Teen\",\"Mature 17+\",\"Everyone\",\"Everyone\",\"Everyone\",\"Everyone\",\"Everyone\",\"Everyone\",\"Everyone 10+\",\"Everyone\",\"Everyone 10+\",\"Teen\",\"Everyone\",\"Everyone\",\"Everyone\",\"Teen\",\"Everyone 10+\",\"Everyone\",\"Teen\",\"Everyone\",\"Mature 17+\",\"Everyone\",\"Everyone\",\"Teen\",\"Everyone\",\"Everyone\",\"Everyone\",\"Mature 17+\",\"Everyone\",\"Everyone 10+\",\"Everyone\",\"Everyone\",\"Everyone\",\"Everyone\",\"Everyone\",\"Teen\",\"Everyone\",\"Everyone\",\"Everyone\",\"Everyone\",\"Everyone\",\"Teen\",\"Everyone\",\"Everyone\",\"Everyone\",\"Everyone\",\"Everyone\",\"Everyone\",\"Mature 17+\",\"Everyone\",\"Everyone\",\"Everyone\",\"Teen\",\"Everyone\",\"Teen\",\"Everyone\",\"Everyone\",\"Everyone 10+\",\"Everyone\",\"Everyone\",\"Everyone\",\"Everyone\",\"Everyone\",\"Everyone\",\"Mature 17+\",\"Everyone\",\"Everyone\",\"Everyone\",\"Everyone\",\"Everyone\",\"Everyone\",\"Everyone\",\"Everyone\",\"Everyone\",\"Everyone\",\"Everyone\",\"Everyone\",\"Everyone\",\"Everyone\",\"Everyone\",\"Everyone\",\"Everyone\",\"Everyone\",\"Everyone\",\"Everyone\",\"Everyone\",\"Everyone\",\"Teen\",\"Teen\",\"Mature 17+\",\"Mature 17+\",\"Everyone\",\"Everyone\",\"Everyone\",\"Everyone 10+\",\"Everyone\",\"Teen\",\"Everyone\",\"Everyone\",\"Everyone\",\"Teen\",\"Everyone\",\"Everyone\",\"Everyone\",\"Everyone\",\"Everyone\",\"Everyone\",\"Everyone\",\"Everyone\",\"Teen\",\"Everyone\",\"Everyone\",\"Everyone\",\"Teen\",\"Teen\",\"Everyone\",\"Everyone\",\"Teen\",\"Mature 17+\",\"Everyone\",\"Everyone\",\"Everyone\",\"Everyone\",\"Everyone\",\"Everyone\",\"Everyone 10+\",\"Everyone\",\"Everyone\",\"Everyone\",\"Everyone\",\"Everyone\",\"Everyone\",\"Teen\",\"Everyone\",\"Everyone\",\"Everyone\",\"Everyone 10+\",\"Everyone\",\"Everyone\",\"Everyone\",\"Everyone\",\"Everyone\",\"Everyone\",\"Everyone\",\"Everyone\",\"Everyone\",\"Everyone\",\"Everyone\",\"Teen\",\"Everyone\",\"Teen\",\"Everyone\",\"Everyone\",\"Teen\",\"Everyone\",\"Everyone\",\"Everyone\",\"Everyone\",\"Everyone\",\"Everyone\",\"Everyone\",\"Everyone\",\"Everyone\",\"Everyone\",\"Everyone\",\"Mature 17+\",\"Everyone\",\"Everyone\",\"Everyone\",\"Everyone\",\"Everyone\",\"Everyone\",\"Teen\",\"Everyone\",\"Teen\",\"Everyone\",\"Everyone\",\"Everyone\",\"Everyone\",\"Everyone\",\"Everyone\",\"Everyone\",\"Everyone\",\"Everyone\",\"Everyone\",\"Everyone\",\"Everyone\",\"Everyone\",\"Everyone\",\"Everyone\",\"Everyone\",\"Everyone\",\"Everyone\",\"Everyone\",\"Everyone\",\"Everyone\",\"Everyone\",\"Everyone\",\"Everyone\",\"Everyone\",\"Everyone\",\"Mature 17+\",\"Everyone\",\"Everyone\",\"Everyone\",\"Everyone\",\"Mature 17+\",\"Everyone\",\"Everyone\",\"Everyone\",\"Everyone\",\"Teen\",\"Everyone\",\"Everyone 10+\",\"Everyone\",\"Everyone\",\"Everyone\",\"Everyone\",\"Everyone\",\"Everyone\",\"Everyone\",\"Everyone\",\"Everyone\",\"Everyone\",\"Everyone\",\"Everyone\",\"Everyone\",\"Everyone\",\"Everyone\",\"Everyone\",\"Everyone\",\"Everyone\",\"Everyone\",\"Everyone\",\"Everyone\",\"Everyone\",\"Everyone\",\"Everyone\",\"Everyone\",\"Everyone\",\"Everyone\",\"Teen\",\"Everyone\",\"Everyone\",\"Everyone\",\"Everyone\",\"Everyone 10+\",\"Everyone\",\"Everyone\",\"Teen\",\"Everyone\",\"Everyone\",\"Everyone\",\"Everyone 10+\",\"Teen\",\"Everyone\",\"Everyone\",\"Everyone\",\"Everyone\",\"Everyone\",\"Everyone\",\"Everyone\",\"Everyone\",\"Everyone\",\"Everyone\",\"Everyone\",\"Everyone\",\"Everyone\",\"Everyone\",\"Mature 17+\",\"Everyone\",\"Everyone\",\"Everyone\",\"Everyone\",\"Teen\",\"Teen\",\"Everyone\",\"Everyone\",\"Everyone\",\"Everyone\",\"Teen\",\"Everyone\",\"Everyone\",\"Teen\",\"Everyone\",\"Everyone\",\"Teen\",\"Everyone\",\"Mature 17+\",\"Everyone\",\"Everyone\",\"Everyone\",\"Everyone\",\"Everyone\",\"Everyone\",\"Everyone\",\"Everyone\",\"Everyone\",\"Everyone\",\"Everyone\",\"Everyone\",\"Everyone\",\"Everyone\",\"Teen\",\"Everyone\",\"Everyone\",\"Teen\",\"Mature 17+\",\"Everyone\",\"Everyone\",\"Everyone 10+\",\"Everyone 10+\",\"Everyone\",\"Everyone\",\"Everyone\",\"Everyone\",\"Everyone\",\"Everyone\",\"Teen\",\"Everyone\",\"Everyone\",\"Everyone\",\"Everyone\",\"Everyone\",\"Everyone\",\"Everyone\",\"Everyone\",\"Mature 17+\",\"Everyone\",\"Everyone\",\"Everyone\",\"Everyone\",\"Everyone\",\"Everyone\",\"Everyone 10+\",\"Everyone\",\"Everyone\",\"Everyone\",\"Everyone\",\"Everyone\",\"Everyone\",\"Everyone\",\"Everyone\",\"Everyone\",\"Everyone\",\"Everyone\",\"Everyone\",\"Everyone\",\"Everyone\",\"Everyone\",\"Everyone\",\"Everyone\",\"Everyone\",\"Everyone\",\"Everyone\",\"Everyone\",\"Everyone\",\"Everyone\",\"Everyone\",\"Everyone\",\"Teen\",\"Everyone\",\"Everyone 10+\",\"Everyone 10+\",\"Teen\",\"Everyone\",\"Everyone\",\"Everyone\",\"Everyone 10+\",\"Everyone\",\"Everyone\",\"Everyone 10+\",\"Everyone\",\"Everyone\",\"Everyone\",\"Everyone\",\"Everyone 10+\",\"Teen\",\"Everyone 10+\",\"Everyone\",\"Everyone 10+\",\"Everyone\",\"Everyone\",\"Everyone\",\"Everyone\",\"Everyone\",\"Everyone\",\"Everyone\",\"Everyone\",\"Everyone\",\"Everyone\",\"Teen\",\"Everyone\",\"Everyone\",\"Everyone 10+\",\"Everyone\",\"Everyone\",\"Everyone\",\"Everyone 10+\",\"Everyone\",\"Teen\",\"Teen\",\"Everyone\",\"Everyone\",\"Everyone\",\"Everyone\",\"Everyone\",\"Everyone\",\"Everyone\",\"Everyone\",\"Teen\",\"Everyone\",\"Everyone\",\"Mature 17+\",\"Everyone\",\"Everyone\",\"Everyone\",\"Everyone\",\"Everyone\",\"Everyone\",\"Teen\",\"Everyone\",\"Everyone\",\"Everyone\",\"Everyone\",\"Everyone\",\"Everyone\",\"Everyone\",\"Everyone\",\"Everyone\",\"Everyone\",\"Mature 17+\",\"Everyone\",\"Everyone\",\"Everyone\",\"Everyone\",\"Everyone\",\"Everyone\",\"Everyone\",\"Everyone\",\"Everyone\",\"Everyone\",\"Everyone\",\"Everyone\",\"Everyone\",\"Everyone\",\"Everyone\",\"Everyone\",\"Everyone\",\"Everyone\",\"Everyone\",\"Everyone\",\"Everyone\",\"Everyone\",\"Everyone\",\"Everyone\",\"Everyone\",\"Everyone\",\"Everyone\",\"Everyone\",\"Everyone\",\"Everyone\",\"Everyone\",\"Everyone\",\"Everyone\",\"Everyone\",\"Mature 17+\",\"Everyone\",\"Everyone\",\"Everyone\",\"Everyone\",\"Teen\",\"Everyone\",\"Everyone\",\"Everyone\",\"Everyone\",\"Teen\",\"Teen\",\"Everyone\",\"Everyone\",\"Everyone\",\"Everyone\",\"Teen\",\"Everyone\",\"Everyone\",\"Everyone\",\"Everyone\",\"Everyone\",\"Everyone\",\"Everyone\",\"Everyone\",\"Everyone\",\"Everyone\",\"Everyone\",\"Everyone\",\"Everyone\",\"Everyone\",\"Everyone\",\"Everyone\",\"Everyone\",\"Everyone\",\"Everyone\",\"Everyone\",\"Everyone\",\"Everyone\",\"Everyone\",\"Everyone\",\"Everyone\",\"Everyone\",\"Everyone\",\"Everyone\",\"Everyone\",\"Everyone\",\"Everyone\",\"Everyone\",\"Everyone\",\"Everyone\",\"Everyone\",\"Everyone\",\"Everyone\",\"Everyone\",\"Everyone\",\"Everyone\",\"Everyone\",\"Everyone\",\"Everyone\",\"Everyone\",\"Everyone\",\"Everyone\",\"Teen\",\"Teen\",\"Everyone\",\"Teen\",\"Everyone\",\"Everyone\",\"Everyone\",\"Mature 17+\",\"Everyone\",\"Everyone\",\"Everyone\",\"Everyone\",\"Everyone\",\"Everyone\",\"Everyone\",\"Everyone\",\"Everyone\",\"Everyone\",\"Teen\",\"Everyone\",\"Everyone\",\"Everyone\",\"Everyone\",\"Teen\",\"Teen\",\"Everyone\",\"Everyone\",\"Everyone\",\"Everyone\",\"Mature 17+\",\"Everyone\",\"Everyone\",\"Everyone\",\"Everyone\",\"Everyone\",\"Everyone\",\"Everyone\",\"Everyone\",\"Everyone\",\"Everyone\",\"Everyone\",\"Everyone\",\"Everyone\",\"Everyone\",\"Everyone\",\"Everyone\",\"Everyone\",\"Everyone\",\"Teen\",\"Teen\",\"Everyone\",\"Everyone\",\"Teen\",\"Everyone\",\"Everyone\",\"Teen\",\"Everyone\",\"Everyone 10+\",\"Everyone\",\"Everyone\",\"Everyone\",\"Everyone\",\"Everyone\",\"Everyone\",\"Mature 17+\",\"Everyone\",\"Teen\",\"Everyone 10+\",\"Mature 17+\",\"Everyone\",\"Mature 17+\",\"Everyone\",\"Everyone\",\"Everyone\",\"Everyone\",\"Everyone\",\"Everyone\",\"Everyone\",\"Everyone\",\"Everyone\",\"Everyone\",\"Everyone 10+\",\"Everyone\",\"Everyone\",\"Everyone\",\"Everyone\",\"Mature 17+\",\"Everyone\",\"Teen\",\"Everyone\",\"Everyone\",\"Everyone\",\"Everyone\",\"Everyone\",\"Teen\",\"Mature 17+\",\"Everyone\",\"Everyone\",\"Everyone\",\"Teen\",\"Everyone\",\"Everyone\",\"Everyone\",\"Everyone\",\"Everyone\",\"Teen\",\"Teen\",\"Teen\",\"Everyone\",\"Teen\",\"Teen\",\"Everyone 10+\",\"Mature 17+\",\"Teen\",\"Everyone\",\"Everyone\",\"Everyone\",\"Everyone\",\"Everyone\",\"Teen\",\"Everyone\",\"Everyone\",\"Mature 17+\",\"Everyone\",\"Everyone\",\"Teen\",\"Everyone\",\"Everyone\",\"Everyone\",\"Teen\",\"Everyone\",\"Everyone\",\"Everyone 10+\",\"Everyone\",\"Everyone\",\"Teen\",\"Everyone\",\"Everyone\",\"Everyone\",\"Mature 17+\",\"Mature 17+\",\"Mature 17+\",\"Teen\",\"Everyone\",\"Everyone\",\"Everyone\",\"Everyone\",\"Everyone\",\"Everyone\",\"Everyone 10+\",\"Everyone\",\"Everyone\",\"Everyone\",\"Everyone\",\"Everyone\",\"Everyone\",\"Everyone\",\"Everyone\",\"Everyone\",\"Everyone\",\"Everyone\",\"Everyone\",\"Everyone\",\"Everyone\",\"Teen\",\"Everyone\",\"Everyone\",\"Everyone\",\"Everyone\",\"Everyone\",\"Everyone\",\"Everyone\",\"Everyone\",\"Everyone\",\"Everyone\",\"Everyone\",\"Everyone\",\"Everyone\",\"Everyone\",\"Everyone\",\"Everyone\",\"Everyone\",\"Everyone\",\"Everyone\",\"Everyone\",\"Teen\",\"Everyone\",\"Teen\",\"Everyone 10+\",\"Everyone\",\"Everyone\",\"Everyone\",\"Everyone\",\"Everyone\",\"Everyone\",\"Everyone\",\"Everyone\",\"Teen\",\"Teen\",\"Everyone\",\"Everyone\",\"Everyone\",\"Everyone\",\"Mature 17+\",\"Everyone\",\"Everyone\",\"Everyone\",\"Everyone\",\"Everyone\",\"Everyone\",\"Everyone\",\"Everyone\",\"Teen\",\"Everyone\",\"Everyone\",\"Everyone\",\"Teen\",\"Teen\",\"Teen\",\"Everyone\",\"Everyone\",\"Teen\",\"Teen\",\"Everyone\",\"Teen\",\"Everyone\",\"Everyone\",\"Teen\",\"Everyone\",\"Teen\",\"Mature 17+\",\"Teen\",\"Teen\",\"Everyone 10+\",\"Teen\",\"Everyone\",\"Teen\",\"Teen\",\"Mature 17+\",\"Teen\",\"Everyone\",\"Teen\",\"Teen\",\"Everyone\",\"Everyone\",\"Teen\",\"Everyone\",\"Everyone 10+\",\"Mature 17+\",\"Teen\",\"Everyone\",\"Teen\",\"Teen\",\"Everyone\",\"Teen\",\"Everyone\",\"Everyone\",\"Everyone\",\"Everyone\",\"Teen\",\"Everyone\",\"Everyone 10+\",\"Everyone\",\"Everyone\",\"Everyone\",\"Teen\",\"Everyone\",\"Everyone\",\"Everyone\",\"Everyone\",\"Everyone\",\"Everyone\",\"Everyone\",\"Everyone\",\"Everyone\",\"Everyone\",\"Everyone\",\"Everyone\",\"Everyone\",\"Everyone\",\"Everyone\",\"Everyone\",\"Everyone\",\"Everyone\",\"Everyone\",\"Everyone\",\"Everyone\",\"Everyone\",\"Everyone\",\"Everyone\",\"Everyone\",\"Everyone\",\"Everyone\",\"Everyone\",\"Everyone\",\"Everyone\",\"Everyone\",\"Everyone\",\"Everyone\",\"Everyone\",\"Everyone\",\"Everyone\",\"Everyone\",\"Everyone\",\"Everyone\",\"Everyone\",\"Everyone\",\"Everyone\",\"Everyone\",\"Everyone\",\"Teen\",\"Everyone\",\"Everyone\",\"Everyone\",\"Everyone\",\"Everyone\",\"Everyone\",\"Everyone\",\"Everyone\",\"Everyone\",\"Everyone\",\"Everyone\",\"Everyone\",\"Everyone\",\"Everyone\",\"Everyone\",\"Everyone\",\"Everyone\",\"Everyone\",\"Everyone\",\"Everyone\",\"Everyone\",\"Everyone\",\"Everyone\",\"Everyone\",\"Everyone\",\"Everyone\",\"Everyone\",\"Everyone\",\"Everyone\",\"Everyone\",\"Everyone\",\"Everyone\",\"Everyone\",\"Everyone\",\"Everyone\",\"Everyone\",\"Everyone\",\"Everyone\",\"Everyone\",\"Everyone\",\"Everyone\",\"Everyone\",\"Everyone\",\"Everyone\",\"Everyone\",\"Everyone\",\"Everyone\",\"Everyone\",\"Everyone\",\"Everyone\",\"Everyone\",\"Everyone\",\"Everyone\",\"Everyone\",\"Everyone\",\"Teen\",\"Everyone\",\"Everyone\",\"Everyone\",\"Everyone\",\"Everyone\",\"Everyone\",\"Everyone\",\"Everyone\",\"Everyone\",\"Everyone\",\"Everyone\",\"Everyone\",\"Everyone\",\"Everyone\",\"Everyone\",\"Everyone\",\"Everyone\",\"Everyone\",\"Everyone\",\"Everyone\",\"Everyone\",\"Everyone\",\"Everyone\",\"Everyone\",\"Everyone\",\"Everyone\",\"Everyone\",\"Everyone\",\"Everyone\",\"Everyone\",\"Everyone\",\"Everyone\",\"Everyone\",\"Everyone\",\"Everyone\",\"Teen\",\"Everyone\",\"Everyone\",\"Teen\",\"Everyone\",\"Everyone\",\"Everyone\",\"Teen\",\"Teen\",\"Everyone\",\"Everyone\",\"Teen\",\"Everyone\",\"Everyone\",\"Everyone\",\"Everyone\",\"Everyone\",\"Everyone\",\"Everyone 10+\",\"Everyone 10+\",\"Everyone\",\"Everyone\",\"Everyone 10+\",\"Everyone\",\"Everyone\",\"Everyone\",\"Everyone\",\"Everyone\",\"Everyone\",\"Everyone\",\"Everyone\",\"Everyone\",\"Everyone\",\"Everyone\",\"Everyone\",\"Everyone\",\"Everyone\",\"Everyone\",\"Everyone\",\"Everyone\",\"Everyone\",\"Everyone\",\"Everyone\",\"Everyone\",\"Everyone\",\"Teen\",\"Everyone\",\"Everyone\",\"Mature 17+\",\"Everyone\",\"Teen\",\"Teen\",\"Everyone\",\"Everyone\",\"Everyone\",\"Teen\",\"Everyone\",\"Everyone\",\"Everyone\",\"Everyone\",\"Everyone\",\"Everyone\",\"Everyone\",\"Everyone\",\"Everyone\",\"Everyone\",\"Everyone\",\"Everyone\",\"Everyone\",\"Teen\",\"Everyone\",\"Everyone\",\"Teen\",\"Teen\",\"Everyone\",\"Everyone 10+\",\"Everyone\",\"Everyone\",\"Everyone\",\"Everyone\",\"Everyone\",\"Everyone\",\"Everyone\",\"Everyone\",\"Everyone\",\"Everyone\",\"Everyone\",\"Everyone\",\"Everyone\",\"Everyone\",\"Everyone\",\"Everyone\",\"Everyone\",\"Everyone\",\"Everyone\",\"Everyone\",\"Everyone\",\"Everyone\",\"Everyone\",\"Everyone\",\"Everyone\",\"Everyone\",\"Everyone\",\"Everyone\",\"Everyone\",\"Everyone\",\"Everyone\",\"Everyone\",\"Everyone\",\"Everyone\",\"Everyone\",\"Everyone\",\"Everyone\",\"Everyone\",\"Everyone\",\"Teen\",\"Everyone\",\"Everyone\",\"Everyone\",\"Everyone\",\"Everyone\",\"Everyone\",\"Everyone\",\"Everyone\",\"Everyone\",\"Everyone\",\"Everyone\",\"Everyone\",\"Everyone\",\"Everyone\",\"Everyone\",\"Everyone\",\"Everyone\",\"Everyone\",\"Everyone\",\"Everyone\",\"Everyone\",\"Everyone\",\"Everyone\",\"Everyone\",\"Everyone\",\"Everyone\",\"Everyone\",\"Everyone\",\"Everyone\",\"Everyone\",\"Teen\",\"Everyone\",\"Everyone\",\"Everyone\",\"Everyone\",\"Everyone\",\"Everyone\",\"Everyone\",\"Teen\",\"Everyone\",\"Everyone\",\"Everyone\",\"Everyone\",\"Everyone\",\"Everyone\",\"Everyone\",\"Everyone\",\"Everyone\",\"Everyone\",\"Everyone\",\"Everyone\",\"Everyone\",\"Everyone\",\"Everyone\",\"Everyone\",\"Everyone\",\"Everyone\",\"Everyone\",\"Mature 17+\",\"Everyone\",\"Everyone\",\"Everyone\",\"Everyone\",\"Everyone\",\"Everyone\",\"Everyone\",\"Everyone\",\"Everyone 10+\",\"Everyone\",\"Everyone\",\"Everyone\",\"Everyone\",\"Everyone\",\"Everyone\",\"Everyone\",\"Everyone\",\"Everyone\",\"Everyone\",\"Everyone\",\"Everyone\",\"Everyone\",\"Everyone\",\"Everyone\",\"Everyone\",\"Everyone\",\"Everyone\",\"Everyone\",\"Everyone\",\"Everyone\",\"Everyone\",\"Everyone\",\"Everyone\",\"Everyone\",\"Everyone\",\"Everyone\",\"Everyone\",\"Mature 17+\",\"Everyone\",\"Everyone\",\"Everyone\",\"Everyone\",\"Everyone\",\"Everyone\",\"Everyone\",\"Everyone\",\"Teen\",\"Everyone\",\"Everyone\",\"Everyone\",\"Everyone\",\"Teen\",\"Everyone\",\"Everyone\",\"Everyone\",\"Everyone\",\"Everyone\",\"Everyone\",\"Everyone\",\"Everyone\",\"Teen\",\"Everyone\",\"Everyone\",\"Everyone\",\"Everyone\",\"Everyone\",\"Everyone\",\"Everyone\",\"Everyone\",\"Everyone\",\"Everyone\",\"Everyone\",\"Everyone 10+\",\"Everyone\",\"Everyone\",\"Everyone\",\"Everyone\",\"Everyone\",\"Everyone\",\"Everyone\",\"Everyone\",\"Everyone\",\"Everyone\",\"Teen\",\"Everyone\",\"Everyone\",\"Everyone\",\"Everyone\",\"Everyone\",\"Everyone\",\"Everyone\",\"Everyone\",\"Everyone 10+\",\"Everyone\",\"Everyone 10+\",\"Everyone\",\"Everyone\",\"Everyone\",\"Everyone\",\"Teen\",\"Teen\",\"Teen\",\"Teen\",\"Everyone\",\"Everyone\",\"Everyone\",\"Everyone\",\"Everyone\",\"Everyone\",\"Teen\",\"Everyone\",\"Everyone\",\"Teen\",\"Everyone\",\"Teen\",\"Everyone\",\"Teen\",\"Mature 17+\",\"Everyone\",\"Teen\",\"Mature 17+\",\"Everyone\",\"Everyone\",\"Everyone\",\"Teen\",\"Teen\",\"Everyone\",\"Teen\",\"Everyone\",\"Everyone\",\"Teen\",\"Everyone 10+\",\"Everyone\",\"Everyone\",\"Everyone 10+\",\"Everyone\",\"Everyone\",\"Everyone\",\"Everyone\",\"Everyone\",\"Everyone\",\"Everyone\",\"Everyone\",\"Everyone\",\"Teen\",\"Everyone\",\"Everyone\",\"Everyone\",\"Everyone\",\"Everyone\",\"Everyone\",\"Everyone\",\"Everyone\",\"Everyone\",\"Everyone\",\"Everyone\",\"Everyone\",\"Everyone\",\"Everyone\",\"Everyone\",\"Everyone\",\"Everyone\",\"Everyone 10+\",\"Everyone\",\"Everyone\",\"Everyone\",\"Everyone\",\"Everyone\",\"Everyone\",\"Everyone\",\"Everyone\",\"Everyone\",\"Everyone\",\"Everyone\",\"Everyone\",\"Everyone\",\"Everyone\",\"Everyone\",\"Everyone\",\"Everyone\",\"Teen\",\"Teen\",\"Everyone\",\"Everyone\",\"Everyone\",\"Everyone\",\"Everyone\",\"Everyone\",\"Everyone\",\"Everyone\",\"Everyone\",\"Everyone\",\"Everyone\",\"Everyone\",\"Everyone\",\"Everyone\",\"Everyone 10+\",\"Everyone\",\"Teen\",\"Everyone\",\"Everyone\",\"Everyone\",\"Everyone 10+\",\"Everyone\",\"Everyone\",\"Everyone\",\"Teen\",\"Everyone\",\"Everyone\",\"Everyone\",\"Everyone 10+\",\"Everyone\",\"Everyone\",\"Everyone\",\"Everyone\",\"Everyone\",\"Everyone\",\"Everyone\",\"Teen\",\"Everyone\",\"Everyone\",\"Teen\",\"Everyone\",\"Mature 17+\",\"Everyone\",\"Everyone\",\"Teen\",\"Everyone\",\"Everyone\",\"Teen\",\"Teen\",\"Mature 17+\",\"Everyone\",\"Teen\",\"Mature 17+\",\"Teen\",\"Everyone\",\"Mature 17+\",\"Teen\",\"Everyone\",\"Everyone 10+\",\"Teen\",\"Everyone 10+\",\"Mature 17+\",\"Everyone\",\"Everyone\",\"Teen\",\"Mature 17+\",\"Everyone\",\"Everyone\",\"Everyone\",\"Everyone\",\"Mature 17+\",\"Everyone\",\"Teen\",\"Everyone\",\"Everyone\",\"Everyone\",\"Teen\",\"Everyone\",\"Everyone\",\"Everyone\",\"Everyone\",\"Everyone\",\"Everyone\",\"Everyone\",\"Everyone\",\"Everyone\",\"Everyone\",\"Everyone\",\"Everyone\",\"Everyone\",\"Everyone\",\"Everyone\",\"Everyone\",\"Everyone\",\"Everyone\",\"Everyone\",\"Everyone\",\"Everyone\",\"Everyone\",\"Everyone\",\"Everyone\",\"Everyone\",\"Everyone\",\"Everyone\",\"Everyone\",\"Everyone\",\"Everyone\",\"Everyone\",\"Everyone\",\"Everyone\",\"Everyone\",\"Everyone\",\"Everyone\",\"Everyone\",\"Everyone\",\"Teen\",\"Mature 17+\",\"Everyone\",\"Everyone\",\"Teen\",\"Everyone\",\"Everyone\",\"Everyone 10+\",\"Everyone 10+\",\"Everyone\",\"Everyone\",\"Everyone\",\"Everyone\",\"Everyone\",\"Everyone\",\"Everyone\",\"Everyone\",\"Everyone\",\"Everyone\",\"Everyone\",\"Everyone\",\"Everyone\",\"Everyone\",\"Everyone\",\"Everyone\",\"Everyone\",\"Mature 17+\",\"Everyone\",\"Everyone\",\"Everyone 10+\",\"Everyone 10+\",\"Teen\",\"Everyone 10+\",\"Teen\",\"Everyone\",\"Mature 17+\",\"Teen\",\"Teen\",\"Teen\",\"Teen\",\"Everyone\",\"Mature 17+\",\"Everyone\",\"Everyone\",\"Everyone\",\"Everyone 10+\",\"Everyone\",\"Teen\",\"Everyone 10+\",\"Everyone\",\"Everyone\",\"Everyone\",\"Everyone\",\"Everyone\",\"Everyone\",\"Everyone\",\"Everyone\",\"Teen\",\"Everyone\",\"Everyone\",\"Everyone\",\"Everyone\",\"Everyone 10+\",\"Everyone\",\"Everyone\",\"Everyone\",\"Everyone\",\"Everyone\",\"Everyone\",\"Everyone\",\"Everyone\",\"Everyone\",\"Everyone\",\"Everyone\",\"Teen\",\"Everyone\",\"Everyone\",\"Everyone\",\"Everyone\",\"Everyone\",\"Everyone\",\"Everyone\",\"Everyone\",\"Everyone\",\"Everyone\",\"Everyone\",\"Everyone\",\"Everyone\",\"Everyone 10+\",\"Everyone\",\"Everyone 10+\",\"Everyone\",\"Everyone\",\"Everyone\",\"Teen\",\"Everyone\",\"Everyone\",\"Everyone\",\"Everyone\",\"Everyone\",\"Everyone\",\"Everyone\",\"Everyone 10+\",\"Everyone\",\"Everyone\",\"Everyone\",\"Everyone\",\"Everyone\",\"Teen\",\"Everyone\",\"Everyone\",\"Everyone\",\"Everyone 10+\",\"Teen\",\"Teen\",\"Teen\",\"Mature 17+\",\"Everyone 10+\",\"Everyone 10+\",\"Teen\",\"Teen\",\"Everyone\",\"Teen\",\"Everyone\",\"Teen\",\"Everyone\",\"Teen\",\"Teen\",\"Teen\",\"Teen\",\"Teen\",\"Teen\",\"Teen\",\"Teen\",\"Everyone 10+\",\"Teen\",\"Teen\",\"Teen\",\"Teen\",\"Everyone 10+\",\"Teen\",\"Everyone\",\"Teen\",\"Teen\",\"Teen\",\"Everyone\",\"Teen\",\"Mature 17+\",\"Everyone\",\"Everyone\",\"Everyone\",\"Everyone\",\"Everyone\",\"Everyone\",\"Everyone\",\"Everyone\",\"Everyone\",\"Everyone\",\"Everyone\",\"Everyone\",\"Everyone\",\"Everyone\",\"Everyone\",\"Everyone\",\"Everyone\",\"Everyone\",\"Everyone\",\"Everyone\",\"Everyone\",\"Everyone\",\"Everyone\",\"Everyone\",\"Teen\",\"Everyone\",\"Everyone\",\"Everyone\",\"Everyone\",\"Everyone\",\"Everyone\",\"Teen\",\"Everyone\",\"Teen\",\"Everyone\",\"Teen\",\"Teen\",\"Everyone\",\"Everyone\",\"Everyone\",\"Everyone\",\"Everyone\",\"Everyone\",\"Everyone\",\"Teen\",\"Everyone\",\"Everyone\",\"Everyone\",\"Teen\",\"Everyone\",\"Everyone\",\"Everyone\",\"Everyone\",\"Everyone\",\"Everyone\",\"Everyone\",\"Teen\",\"Everyone\",\"Everyone\",\"Everyone\",\"Everyone\",\"Everyone\",\"Everyone\",\"Everyone\",\"Everyone\",\"Everyone\",\"Everyone\",\"Everyone\",\"Everyone\",\"Everyone\",\"Everyone\",\"Everyone\",\"Everyone\",\"Everyone\",\"Everyone\",\"Everyone\",\"Teen\",\"Everyone\",\"Everyone\",\"Everyone\",\"Everyone\",\"Everyone\",\"Everyone\",\"Everyone\",\"Everyone\",\"Everyone\",\"Everyone\",\"Everyone\",\"Everyone\",\"Everyone\",\"Everyone\",\"Everyone\",\"Everyone\",\"Everyone\",\"Everyone\",\"Everyone\",\"Everyone\",\"Everyone 10+\",\"Everyone\",\"Everyone\",\"Everyone\",\"Teen\",\"Everyone\",\"Everyone\",\"Teen\",\"Everyone\",\"Everyone\",\"Everyone\",\"Teen\",\"Everyone\",\"Teen\",\"Everyone\",\"Everyone 10+\",\"Everyone\",\"Everyone\",\"Everyone\",\"Everyone\",\"Everyone\",\"Everyone\",\"Everyone\",\"Everyone\",\"Everyone\",\"Everyone\",\"Everyone\",\"Everyone 10+\",\"Everyone 10+\",\"Everyone\",\"Everyone\",\"Everyone\",\"Everyone\",\"Everyone\",\"Everyone\",\"Everyone\",\"Everyone\",\"Everyone\",\"Everyone\",\"Everyone\",\"Everyone 10+\",\"Everyone\",\"Everyone\",\"Everyone\",\"Everyone\",\"Everyone\",\"Everyone\",\"Everyone\",\"Teen\",\"Everyone\",\"Everyone\",\"Everyone\",\"Teen\",\"Everyone\",\"Everyone\",\"Everyone\",\"Everyone\",\"Everyone\",\"Everyone\",\"Everyone\",\"Teen\",\"Everyone\",\"Everyone\",\"Everyone\",\"Everyone\",\"Everyone\",\"Everyone\",\"Everyone\",\"Everyone\",\"Everyone\",\"Everyone 10+\",\"Teen\",\"Everyone\",\"Teen\",\"Teen\",\"Everyone\",\"Everyone\",\"Everyone\",\"Everyone\",\"Everyone\",\"Everyone\",\"Mature 17+\",\"Everyone\",\"Mature 17+\",\"Everyone\",\"Everyone\",\"Everyone\",\"Everyone\",\"Everyone\",\"Everyone\",\"Everyone 10+\",\"Everyone\",\"Everyone\",\"Mature 17+\",\"Everyone\",\"Mature 17+\",\"Everyone\",\"Everyone\",\"Everyone\",\"Everyone\",\"Teen\",\"Everyone\",\"Everyone\",\"Everyone\",\"Everyone\",\"Mature 17+\",\"Everyone\",\"Mature 17+\",\"Teen\",\"Mature 17+\",\"Everyone\",\"Everyone\",\"Everyone\",\"Everyone\",\"Everyone\",\"Everyone\",\"Everyone\",\"Everyone\",\"Everyone\",\"Everyone\",\"Everyone\",\"Everyone\",\"Everyone\",\"Everyone\",\"Everyone\",\"Everyone\",\"Everyone\",\"Everyone\",\"Everyone\",\"Everyone\",\"Everyone\",\"Everyone\",\"Teen\",\"Everyone\",\"Everyone\",\"Everyone\",\"Everyone\",\"Everyone\",\"Everyone\",\"Everyone\",\"Everyone\",\"Everyone\",\"Everyone\",\"Everyone\",\"Everyone\",\"Everyone\",\"Everyone\",\"Everyone\",\"Everyone\",\"Everyone\",\"Everyone\",\"Everyone\",\"Everyone\",\"Everyone\",\"Everyone\",\"Everyone\",\"Everyone\",\"Everyone\",\"Everyone\",\"Everyone\",\"Everyone\",\"Everyone\",\"Everyone\",\"Everyone\",\"Everyone\",\"Everyone\",\"Everyone\",\"Everyone\",\"Everyone\",\"Everyone\",\"Everyone\",\"Everyone\",\"Everyone\",\"Everyone\",\"Everyone\",\"Everyone\",\"Everyone\",\"Everyone\",\"Everyone\",\"Everyone\",\"Everyone\",\"Everyone\",\"Everyone\",\"Everyone\",\"Everyone\",\"Everyone\",\"Everyone\",\"Everyone\",\"Everyone 10+\",\"Everyone\",\"Everyone\",\"Everyone\",\"Everyone\",\"Teen\",\"Everyone\",\"Everyone\",\"Everyone\",\"Everyone 10+\",\"Everyone\",\"Everyone\",\"Everyone\",\"Everyone\",\"Everyone\",\"Everyone\",\"Everyone\",\"Everyone\",\"Everyone 10+\",\"Everyone\",\"Everyone\",\"Everyone\",\"Everyone\",\"Everyone\",\"Everyone\",\"Everyone\",\"Teen\",\"Everyone\",\"Everyone\",\"Everyone\",\"Everyone\",\"Everyone\",\"Everyone\",\"Everyone\",\"Everyone\",\"Everyone\",\"Everyone\",\"Everyone\",\"Everyone\",\"Everyone\",\"Everyone\",\"Everyone\",\"Everyone\",\"Everyone\",\"Everyone\",\"Everyone\",\"Teen\",\"Everyone\",\"Everyone\",\"Everyone\",\"Everyone\",\"Everyone\",\"Everyone\",\"Everyone\",\"Everyone\",\"Everyone\",\"Everyone\",\"Everyone\",\"Everyone\",\"Teen\",\"Everyone\",\"Everyone\",\"Everyone\",\"Everyone\",\"Everyone\",\"Everyone\",\"Everyone\",\"Everyone\",\"Everyone\",\"Everyone\",\"Everyone\",\"Everyone\",\"Everyone\",\"Everyone\",\"Everyone\",\"Everyone\",\"Everyone\",\"Everyone\",\"Everyone\",\"Everyone\",\"Everyone\",\"Everyone\",\"Teen\",\"Everyone\",\"Everyone\",\"Everyone\",\"Everyone\",\"Everyone\",\"Everyone\",\"Everyone\",\"Everyone\",\"Everyone\",\"Everyone\",\"Everyone\",\"Everyone\",\"Everyone\",\"Everyone\",\"Everyone\",\"Everyone\",\"Everyone\",\"Everyone\",\"Everyone\",\"Everyone\",\"Teen\",\"Teen\",\"Everyone\",\"Teen\",\"Teen\",\"Everyone\",\"Everyone\",\"Teen\",\"Everyone\",\"Everyone\",\"Teen\",\"Everyone\",\"Everyone\",\"Everyone\",\"Everyone\",\"Everyone\",\"Teen\",\"Everyone\",\"Everyone\",\"Teen\",\"Everyone\",\"Teen\",\"Teen\",\"Teen\",\"Teen\",\"Everyone\",\"Everyone\",\"Everyone\",\"Everyone 10+\",\"Teen\",\"Everyone\",\"Everyone 10+\",\"Everyone 10+\",\"Everyone\",\"Teen\",\"Everyone\",\"Everyone\",\"Everyone\",\"Everyone\",\"Teen\",\"Teen\",\"Teen\",\"Everyone\",\"Everyone\",\"Everyone\",\"Everyone\",\"Teen\",\"Everyone\",\"Mature 17+\",\"Mature 17+\",\"Mature 17+\",\"Mature 17+\",\"Teen\",\"Teen\",\"Teen\",\"Mature 17+\",\"Everyone\",\"Mature 17+\",\"Everyone\",\"Everyone\",\"Teen\",\"Everyone\",\"Everyone\",\"Everyone\",\"Everyone\",\"Mature 17+\",\"Everyone\",\"Everyone\",\"Teen\",\"Everyone\",\"Everyone\",\"Everyone\",\"Everyone\",\"Everyone\",\"Everyone\",\"Everyone\",\"Everyone\",\"Everyone\",\"Everyone\",\"Everyone\",\"Everyone\",\"Everyone\",\"Everyone\",\"Everyone\",\"Everyone\",\"Everyone\",\"Everyone\",\"Mature 17+\",\"Everyone\",\"Everyone\",\"Everyone\",\"Everyone\",\"Everyone\",\"Everyone\",\"Everyone\",\"Everyone\",\"Everyone\",\"Everyone\",\"Teen\",\"Everyone\",\"Everyone\",\"Everyone\",\"Everyone\",\"Everyone\",\"Everyone\",\"Everyone\",\"Everyone\",\"Everyone\",\"Everyone\",\"Everyone\",\"Everyone\",\"Teen\",\"Everyone\",\"Everyone\",\"Everyone\",\"Everyone\",\"Everyone\",\"Everyone\",\"Everyone\",\"Everyone\",\"Everyone\",\"Teen\",\"Everyone\",\"Everyone\",\"Teen\",\"Teen\",\"Everyone\",\"Everyone\",\"Everyone\",\"Everyone\",\"Everyone\",\"Teen\",\"Teen\",\"Everyone\",\"Everyone\",\"Teen\",\"Everyone\",\"Everyone\",\"Everyone\",\"Everyone\",\"Everyone\",\"Everyone\",\"Everyone\",\"Everyone\",\"Everyone\",\"Everyone 10+\",\"Everyone\",\"Teen\",\"Everyone\",\"Everyone\",\"Everyone\",\"Everyone\",\"Everyone\",\"Everyone\",\"Everyone\",\"Everyone\",\"Teen\",\"Everyone\",\"Everyone\",\"Everyone\",\"Everyone\",\"Everyone\",\"Everyone\",\"Everyone\",\"Everyone\",\"Everyone\",\"Everyone\",\"Everyone\",\"Everyone\",\"Everyone\",\"Mature 17+\",\"Everyone\",\"Everyone\",\"Everyone\",\"Everyone\",\"Everyone\",\"Everyone\",\"Everyone\",\"Everyone\",\"Everyone\",\"Everyone\",\"Teen\",\"Everyone\",\"Everyone\",\"Everyone\",\"Everyone\",\"Everyone\",\"Everyone\",\"Everyone\",\"Everyone\",\"Everyone\",\"Everyone\",\"Teen\",\"Everyone\",\"Everyone\",\"Everyone\",\"Everyone\",\"Teen\",\"Everyone\",\"Everyone\",\"Everyone\",\"Everyone\",\"Everyone\",\"Mature 17+\",\"Everyone\",\"Everyone\",\"Everyone\",\"Everyone\",\"Everyone\",\"Teen\",\"Everyone\",\"Mature 17+\",\"Everyone\",\"Everyone\",\"Everyone\",\"Everyone\",\"Everyone\",\"Everyone\",\"Everyone\",\"Everyone\",\"Everyone\",\"Mature 17+\",\"Everyone\",\"Everyone\",\"Everyone\",\"Mature 17+\",\"Everyone\",\"Mature 17+\",\"Everyone\",\"Everyone\",\"Everyone\",\"Everyone\",\"Everyone\",\"Everyone\",\"Everyone\",\"Everyone\",\"Teen\",\"Everyone\",\"Everyone\",\"Everyone\",\"Everyone\",\"Teen\",\"Everyone\",\"Everyone\",\"Everyone\",\"Everyone\",\"Everyone\",\"Everyone\",\"Everyone\",\"Everyone\",\"Everyone\",\"Everyone\",\"Everyone\",\"Everyone\",\"Teen\",\"Everyone\",\"Everyone\",\"Teen\",\"Everyone\",\"Teen\",\"Teen\",\"Mature 17+\",\"Everyone\",\"Everyone\",\"Everyone\",\"Mature 17+\",\"Teen\",\"Everyone\",\"Teen\",\"Everyone\",\"Everyone\",\"Teen\",\"Teen\",\"Everyone\",\"Teen\",\"Everyone\",\"Everyone\",\"Everyone\",\"Teen\",\"Everyone\",\"Everyone\",\"Teen\",\"Everyone\",\"Teen\",\"Everyone\",\"Teen\",\"Everyone\",\"Everyone\",\"Teen\",\"Everyone\",\"Everyone\",\"Everyone\",\"Everyone\",\"Everyone\",\"Everyone\",\"Everyone\",\"Everyone\",\"Everyone\",\"Everyone\",\"Everyone\",\"Everyone\",\"Mature 17+\",\"Teen\",\"Everyone\",\"Mature 17+\",\"Everyone\",\"Everyone\",\"Everyone\",\"Everyone\",\"Teen\",\"Everyone\",\"Everyone\",\"Everyone\",\"Everyone\",\"Everyone\",\"Everyone\",\"Everyone\",\"Everyone\",\"Everyone\",\"Everyone\",\"Everyone\",\"Everyone\",\"Everyone\",\"Everyone\",\"Everyone\",\"Everyone\",\"Everyone\",\"Everyone\",\"Everyone\",\"Everyone\",\"Everyone\",\"Everyone\",\"Teen\",\"Mature 17+\",\"Mature 17+\",\"Teen\",\"Mature 17+\",\"Mature 17+\",\"Teen\",\"Teen\",\"Teen\",\"Everyone\",\"Teen\",\"Teen\",\"Teen\",\"Teen\",\"Teen\",\"Mature 17+\",\"Mature 17+\",\"Everyone\",\"Everyone\",\"Teen\",\"Everyone\",\"Everyone\",\"Adults only 18+\",\"Everyone\",\"Teen\",\"Everyone\",\"Everyone\",\"Everyone\",\"Everyone\",\"Teen\",\"Everyone\",\"Everyone\",\"Everyone\",\"Everyone\",\"Everyone\",\"Everyone\",\"Everyone\",\"Everyone\",\"Everyone\",\"Everyone\",\"Everyone\",\"Everyone\",\"Everyone\",\"Everyone\",\"Everyone\",\"Everyone\",\"Teen\",\"Everyone\",\"Everyone\",\"Everyone\",\"Everyone\",\"Everyone\",\"Everyone\",\"Everyone\",\"Everyone\",\"Everyone\",\"Teen\",\"Everyone\",\"Everyone\",\"Everyone\",\"Everyone\",\"Everyone\",\"Everyone\",\"Everyone\",\"Everyone\",\"Everyone\",\"Teen\",\"Everyone\",\"Everyone\",\"Everyone\",\"Everyone\",\"Everyone\",\"Everyone\",\"Everyone\",\"Everyone\",\"Everyone\",\"Everyone\",\"Everyone\",\"Everyone\",\"Everyone\",\"Everyone\",\"Everyone\",\"Everyone\",\"Everyone\",\"Everyone\",\"Everyone\",\"Everyone\",\"Everyone\",\"Everyone\",\"Everyone\",\"Everyone\",\"Everyone\",\"Everyone\",\"Everyone\",\"Everyone\",\"Everyone\",\"Everyone\",\"Everyone\",\"Everyone\",\"Everyone\",\"Everyone\",\"Everyone\",\"Everyone\",\"Everyone\",\"Everyone\",\"Everyone\",\"Everyone\",\"Everyone\",\"Everyone\",\"Everyone\",\"Everyone\",\"Everyone\",\"Teen\",\"Everyone\",\"Everyone\",\"Everyone\",\"Everyone\",\"Everyone\",\"Everyone\",\"Everyone\",\"Everyone\",\"Everyone\",\"Everyone\",\"Everyone\",\"Everyone\",\"Everyone\",\"Everyone\",\"Everyone\",\"Teen\",\"Everyone\",\"Everyone\",\"Everyone\",\"Everyone\",\"Everyone\",\"Everyone\",\"Everyone\",\"Everyone\",\"Everyone\",\"Everyone\",\"Everyone\",\"Everyone\",\"Everyone\",\"Everyone\",\"Everyone\",\"Everyone 10+\",\"Everyone\",\"Everyone\",\"Everyone\",\"Teen\",\"Everyone\",\"Teen\",\"Teen\",\"Everyone\",\"Everyone\",\"Everyone\",\"Teen\",\"Teen\",\"Everyone\",\"Teen\",\"Everyone\",\"Teen\",\"Everyone\",\"Everyone\",\"Everyone\",\"Teen\",\"Everyone 10+\",\"Teen\",\"Everyone\",\"Teen\",\"Everyone\",\"Everyone\",\"Everyone\",\"Everyone\",\"Everyone\",\"Everyone\",\"Everyone\",\"Everyone\",\"Everyone\",\"Everyone\",\"Everyone\",\"Everyone\",\"Everyone\",\"Everyone\",\"Everyone\",\"Everyone\",\"Everyone\",\"Everyone\",\"Everyone\",\"Everyone\",\"Everyone\",\"Everyone\",\"Everyone\",\"Everyone\",\"Everyone\",\"Everyone\",\"Everyone\",\"Everyone\",\"Everyone\",\"Everyone\",\"Everyone\",\"Everyone\",\"Everyone\",\"Everyone 10+\",\"Everyone\",\"Everyone\",\"Everyone\",\"Everyone\",\"Everyone\",\"Everyone\",\"Everyone\",\"Everyone\",\"Everyone 10+\",\"Everyone\",\"Everyone\",\"Everyone\",\"Everyone\",\"Everyone\",\"Everyone\",\"Everyone\",\"Everyone\",\"Teen\",\"Everyone 10+\",\"Everyone\",\"Everyone\",\"Everyone\",\"Everyone\",\"Everyone\",\"Everyone\",\"Everyone\",\"Everyone\",\"Everyone\",\"Everyone\",\"Everyone\",\"Everyone\",\"Everyone\",\"Everyone\",\"Everyone\",\"Everyone\",\"Everyone\",\"Everyone\",\"Everyone\",\"Everyone\",\"Everyone\",\"Everyone\",\"Everyone\",\"Teen\",\"Everyone\",\"Everyone\",\"Everyone\",\"Everyone\",\"Everyone\",\"Everyone\",\"Everyone 10+\",\"Everyone\",\"Everyone\",\"Everyone\",\"Everyone\",\"Everyone\",\"Everyone\",\"Everyone\",\"Everyone\",\"Everyone\",\"Everyone\",\"Everyone\",\"Everyone\",\"Everyone\",\"Everyone\",\"Everyone\",\"Everyone\",\"Everyone\",\"Teen\",\"Everyone\",\"Everyone\",\"Everyone\",\"Everyone\",\"Everyone\",\"Everyone\",\"Everyone 10+\",\"Teen\",\"Everyone\",\"Everyone\",\"Everyone\",\"Everyone\",\"Everyone\",\"Everyone\",\"Everyone\",\"Everyone\",\"Everyone\",\"Teen\",\"Everyone\",\"Teen\",\"Everyone 10+\",\"Teen\",\"Everyone\",\"Teen\",\"Teen\",\"Everyone\",\"Everyone\",\"Everyone\",\"Everyone\",\"Everyone\",\"Teen\",\"Everyone\",\"Everyone\",\"Teen\",\"Everyone\",\"Everyone\",\"Everyone\",\"Everyone\",\"Everyone\",\"Everyone\",\"Everyone\",\"Everyone\",\"Everyone\",\"Everyone\",\"Everyone\",\"Mature 17+\",\"Everyone\",\"Everyone\",\"Everyone\",\"Everyone\",\"Everyone\",\"Everyone\",\"Everyone\",\"Everyone\",\"Everyone\",\"Everyone\",\"Everyone\",\"Teen\",\"Everyone\",\"Everyone\",\"Everyone\",\"Everyone\",\"Everyone\",\"Everyone\",\"Everyone\",\"Everyone\",\"Teen\",\"Teen\",\"Everyone\",\"Everyone\",\"Everyone\",\"Everyone\",\"Everyone\",\"Everyone\",\"Everyone\",\"Teen\",\"Everyone\",\"Everyone\",\"Everyone\",\"Everyone\",\"Everyone\",\"Everyone\",\"Everyone\",\"Everyone\",\"Everyone\",\"Everyone\",\"Everyone\",\"Everyone\",\"Everyone\",\"Everyone\",\"Everyone\",\"Teen\",\"Everyone\",\"Everyone\",\"Everyone\",\"Everyone\",\"Everyone\",\"Everyone\",\"Everyone\",\"Everyone\",\"Everyone\",\"Everyone\",\"Everyone\",\"Everyone\",\"Mature 17+\",\"Everyone\",\"Everyone\",\"Everyone\",\"Everyone\",\"Everyone\",\"Everyone\",\"Everyone\",\"Everyone\",\"Everyone\",\"Everyone\",\"Everyone\",\"Everyone\",\"Everyone\",\"Everyone\",\"Everyone\",\"Everyone\",\"Everyone\",\"Everyone\",\"Everyone\",\"Everyone\",\"Everyone\",\"Everyone\",\"Everyone\",\"Everyone\",\"Everyone\",\"Teen\",\"Everyone\",\"Everyone\",\"Everyone\",\"Everyone\",\"Everyone\",\"Everyone\",\"Everyone\",\"Everyone\",\"Everyone\",\"Everyone\",\"Everyone\",\"Everyone\",\"Everyone\",\"Everyone\",\"Everyone\",\"Everyone\",\"Everyone\",\"Everyone\",\"Everyone\",\"Everyone\",\"Everyone\",\"Everyone\",\"Everyone\",\"Everyone\",\"Everyone\",\"Everyone\",\"Teen\",\"Everyone\",\"Mature 17+\",\"Everyone\",\"Everyone\",\"Everyone\",\"Everyone 10+\",\"Everyone\",\"Everyone\",\"Everyone\",\"Everyone\",\"Everyone\",\"Everyone\",\"Everyone\",\"Everyone\",\"Everyone\",\"Everyone\",\"Everyone\",\"Teen\",\"Everyone\",\"Everyone\",\"Everyone\",\"Everyone\",\"Everyone\",\"Everyone\",\"Everyone\",\"Everyone\",\"Everyone\",\"Everyone\",\"Everyone\",\"Everyone 10+\",\"Everyone\",\"Everyone\",\"Everyone\",\"Everyone\",\"Everyone\",\"Everyone\",\"Teen\",\"Everyone\",\"Teen\",\"Everyone\",\"Everyone\",\"Everyone\",\"Everyone\",\"Everyone\",\"Everyone\",\"Everyone\",\"Everyone\",\"Everyone\",\"Everyone\",\"Everyone\",\"Everyone\",\"Everyone\",\"Everyone\",\"Everyone\",\"Everyone\",\"Everyone\",\"Everyone\",\"Everyone\",\"Everyone\",\"Everyone\",\"Everyone\",\"Everyone\",\"Everyone\",\"Everyone\",\"Everyone\",\"Everyone\",\"Everyone\",\"Everyone\",\"Everyone\",\"Everyone\",\"Everyone\",\"Everyone\",\"Mature 17+\",\"Everyone\",\"Everyone\",\"Everyone\",\"Everyone\",\"Everyone 10+\",\"Everyone\",\"Everyone\",\"Everyone\",\"Everyone\",\"Everyone\",\"Everyone\",\"Everyone\",\"Everyone\",\"Everyone\",\"Everyone\",\"Everyone\",\"Everyone\",\"Everyone\",\"Everyone\",\"Everyone\",\"Everyone\",\"Everyone\",\"Everyone\",\"Everyone\",\"Everyone\",\"Everyone\",\"Everyone\",\"Everyone\",\"Everyone\",\"Everyone\",\"Everyone\",\"Everyone\",\"Everyone\",\"Everyone\",\"Everyone\",\"Everyone\",\"Everyone\",\"Everyone\",\"Everyone\",\"Everyone\",\"Teen\",\"Everyone\",\"Everyone\",\"Everyone\",\"Everyone\",\"Teen\",\"Teen\",\"Everyone\",\"Everyone\",\"Everyone\",\"Everyone\",\"Everyone\",\"Everyone 10+\",\"Everyone\",\"Everyone\",\"Everyone\",\"Everyone\",\"Everyone\",\"Everyone\",\"Everyone\",\"Everyone\",\"Everyone\",\"Everyone\",\"Teen\",\"Everyone\",\"Everyone\",\"Teen\",\"Everyone\",\"Everyone\",\"Everyone\",\"Everyone\",\"Everyone\",\"Everyone\",\"Everyone\",\"Everyone\",\"Everyone\",\"Everyone\",\"Everyone\",\"Everyone\",\"Everyone\",\"Everyone\",\"Everyone\",\"Everyone\",\"Teen\",\"Everyone\",\"Everyone\",\"Everyone\",\"Everyone\",\"Everyone\",\"Mature 17+\",\"Everyone\",\"Everyone\",\"Everyone\",\"Everyone\",\"Everyone\",\"Everyone\",\"Everyone\",\"Everyone\",\"Everyone\",\"Everyone\",\"Everyone\",\"Everyone\",\"Teen\",\"Everyone\",\"Everyone\",\"Mature 17+\",\"Everyone\",\"Everyone\",\"Teen\",\"Everyone\",\"Everyone\",\"Everyone\",\"Everyone\",\"Everyone\",\"Everyone\",\"Everyone\",\"Everyone\",\"Everyone\",\"Everyone\",\"Everyone\",\"Everyone\",\"Everyone\",\"Everyone\",\"Everyone\",\"Everyone\",\"Everyone\",\"Everyone\",\"Everyone\",\"Mature 17+\",\"Everyone\",\"Teen\",\"Everyone\",\"Everyone\",\"Everyone\",\"Everyone\",\"Teen\",\"Everyone\",\"Everyone\",\"Everyone\",\"Everyone\",\"Everyone\",\"Everyone\",\"Everyone\",\"Everyone\",\"Everyone\",\"Everyone\",\"Everyone\",\"Teen\",\"Everyone\",\"Everyone\",\"Everyone\",\"Everyone\",\"Teen\",\"Everyone\",\"Teen\",\"Teen\",\"Everyone\",\"Everyone\",\"Everyone\",\"Everyone\",\"Everyone\",\"Teen\",\"Everyone\",\"Teen\",\"Mature 17+\",\"Everyone\",\"Teen\",\"Everyone\",\"Everyone\",\"Everyone\",\"Everyone\",\"Everyone\",\"Everyone\",\"Everyone\",\"Everyone\",\"Everyone\",\"Everyone\",\"Everyone\",\"Everyone\",\"Everyone\",\"Everyone\",\"Teen\",\"Everyone\",\"Everyone\",\"Mature 17+\",\"Everyone\",\"Everyone\",\"Everyone\",\"Everyone\",\"Everyone\",\"Everyone\",\"Everyone\",\"Everyone\",\"Teen\",\"Everyone\",\"Everyone\",\"Everyone\",\"Everyone\",\"Everyone\",\"Everyone\",\"Everyone\",\"Everyone\",\"Everyone\",\"Everyone\",\"Everyone\",\"Everyone\",\"Everyone\",\"Everyone\",\"Everyone\",\"Teen\",\"Everyone\",\"Everyone\",\"Teen\",\"Everyone\",\"Everyone\",\"Everyone\",\"Everyone\",\"Everyone\",\"Everyone\",\"Everyone\",\"Everyone\",\"Everyone\",\"Everyone\",\"Everyone\",\"Everyone\",\"Everyone\",\"Everyone\",\"Everyone\",\"Everyone\",\"Everyone\",\"Everyone\",\"Everyone\",\"Everyone\",\"Everyone\",\"Everyone\",\"Everyone\",\"Everyone\",\"Everyone\",\"Everyone\",\"Everyone\",\"Everyone\",\"Everyone\",\"Everyone\",\"Everyone\",\"Everyone\",\"Everyone\",\"Everyone\",\"Everyone\",\"Everyone\",\"Everyone\",\"Mature 17+\",\"Everyone\",\"Everyone\",\"Everyone\",\"Everyone\",\"Everyone\",\"Everyone\",\"Everyone\",\"Everyone 10+\",\"Everyone\",\"Everyone\",\"Everyone\",\"Everyone\",\"Everyone\",\"Everyone\",\"Everyone\",\"Everyone 10+\",\"Everyone 10+\",\"Everyone\",\"Everyone\",\"Everyone 10+\",\"Everyone\",\"Everyone\",\"Everyone\",\"Everyone\",\"Everyone 10+\",\"Everyone\",\"Everyone\",\"Everyone\",\"Everyone\",\"Everyone\",\"Everyone\",\"Everyone\",\"Everyone\",\"Everyone\",\"Everyone\",\"Everyone\",\"Everyone\",\"Everyone\",\"Everyone\",\"Everyone\",\"Everyone\",\"Everyone\",\"Everyone\",\"Everyone\",\"Teen\",\"Everyone\",\"Everyone\",\"Everyone\",\"Everyone\",\"Everyone\",\"Everyone\",\"Everyone\",\"Everyone\",\"Everyone\",\"Teen\",\"Teen\",\"Everyone\",\"Everyone\",\"Everyone\",\"Everyone\",\"Teen\",\"Everyone\",\"Everyone\",\"Everyone\",\"Teen\",\"Teen\",\"Everyone\",\"Everyone\",\"Everyone\",\"Everyone\",\"Teen\",\"Everyone\",\"Everyone\",\"Everyone\",\"Everyone\",\"Mature 17+\",\"Everyone\",\"Everyone\",\"Everyone\",\"Teen\",\"Everyone\",\"Teen\",\"Everyone\",\"Everyone\",\"Everyone\",\"Everyone\",\"Teen\",\"Everyone\",\"Everyone\",\"Everyone\",\"Everyone\",\"Everyone\",\"Everyone\",\"Everyone 10+\",\"Everyone\",\"Teen\",\"Everyone\",\"Teen\",\"Everyone\",\"Everyone\",\"Everyone\",\"Everyone\",\"Everyone\",\"Teen\",\"Everyone\",\"Everyone\",\"Mature 17+\",\"Everyone\",\"Everyone\",\"Everyone\",\"Everyone\",\"Everyone\",\"Everyone\",\"Everyone\",\"Everyone\",\"Everyone\",\"Everyone\",\"Teen\",\"Everyone\",\"Teen\",\"Unrated\",\"Teen\",\"Teen\",\"Everyone\",\"Everyone\",\"Teen\",\"Everyone\",\"Everyone\",\"Everyone\",\"Everyone\",\"Everyone\",\"Teen\",\"Everyone\",\"Teen\",\"Everyone\",\"Everyone\",\"Everyone\",\"Teen\",\"Everyone\",\"Everyone\",\"Everyone\",\"Everyone\",\"Everyone\",\"Everyone\",\"Everyone 10+\",\"Everyone\",\"Teen\",\"Everyone\",\"Everyone\",\"Teen\",\"Everyone\",\"Everyone\",\"Everyone\",\"Everyone\",\"Everyone\",\"Everyone\",\"Everyone\",\"Everyone\",\"Everyone\",\"Everyone\",\"Everyone\",\"Everyone\",\"Everyone\",\"Everyone 10+\",\"Everyone\",\"Everyone\",\"Teen\",\"Everyone\",\"Everyone\",\"Everyone\",\"Everyone\",\"Everyone 10+\",\"Everyone\",\"Everyone\",\"Everyone\",\"Everyone\",\"Everyone\",\"Everyone\",\"Everyone\",\"Everyone\",\"Everyone\",\"Everyone\",\"Everyone\",\"Everyone\",\"Everyone\",\"Everyone\",\"Everyone\",\"Everyone\",\"Everyone\",\"Everyone\",\"Everyone\",\"Everyone\",\"Everyone\",\"Everyone\",\"Everyone\",\"Everyone\",\"Everyone\",\"Everyone\",\"Everyone\",\"Everyone\",\"Everyone\",\"Everyone\",\"Mature 17+\",\"Everyone\",\"Everyone\",\"Everyone\",\"Everyone\",\"Everyone\",\"Everyone\",\"Everyone 10+\",\"Everyone\",\"Everyone\",\"Mature 17+\",\"Everyone\",\"Everyone\",\"Everyone\",\"Everyone\",\"Everyone\",\"Everyone\",\"Teen\",\"Everyone\",\"Mature 17+\",\"Everyone\",\"Everyone\",\"Everyone\",\"Teen\",\"Everyone\",\"Everyone\",\"Everyone\",\"Everyone\",\"Everyone\",\"Everyone\",\"Teen\",\"Mature 17+\",\"Everyone\",\"Everyone\",\"Everyone\",\"Everyone\",\"Teen\",\"Everyone\",\"Everyone\",\"Everyone 10+\",\"Everyone\",\"Everyone\",\"Everyone\",\"Teen\",\"Everyone\",\"Mature 17+\",\"Everyone\",\"Everyone\",\"Everyone\",\"Everyone\",\"Teen\",\"Everyone 10+\",\"Mature 17+\",\"Teen\",\"Mature 17+\",\"Mature 17+\",\"Everyone\",\"Teen\",\"Everyone\",\"Everyone\",\"Everyone\",\"Mature 17+\",\"Everyone\",\"Everyone\",\"Everyone\",\"Teen\",\"Teen\",\"Mature 17+\",\"Everyone\",\"Mature 17+\",\"Everyone\",\"Everyone\",\"Everyone\",\"Everyone\",\"Mature 17+\",\"Mature 17+\",\"Teen\",\"Everyone\",\"Everyone\",\"Everyone\",\"Everyone\",\"Everyone\",\"Everyone\",\"Everyone 10+\",\"Everyone\",\"Everyone\",\"Everyone\",\"Teen\",\"Everyone\",\"Everyone\",\"Everyone\",\"Mature 17+\",\"Everyone\",\"Everyone\",\"Everyone\",\"Everyone\",\"Everyone\",\"Mature 17+\",\"Everyone\",\"Everyone\",\"Everyone\",\"Everyone\",\"Everyone\",\"Mature 17+\",\"Everyone\",\"Everyone\",\"Everyone\",\"Mature 17+\",\"Everyone\",\"Teen\",\"Everyone\",\"Everyone\",\"Everyone\",\"Everyone\",\"Teen\",\"Everyone\",\"Teen\",\"Everyone\",\"Mature 17+\",\"Mature 17+\",\"Everyone\",\"Everyone\",\"Everyone\",\"Everyone\",\"Teen\",\"Everyone\",\"Everyone\",\"Everyone\",\"Everyone\",\"Everyone\",\"Everyone\",\"Teen\",\"Everyone\",\"Everyone\",\"Everyone\",\"Everyone\",\"Everyone\",\"Everyone\",\"Everyone\",\"Everyone\",\"Everyone\",\"Everyone\",\"Everyone\",\"Everyone\",\"Everyone\",\"Everyone\",\"Everyone\",\"Everyone\",\"Everyone\",\"Everyone\",\"Everyone\",\"Everyone\",\"Everyone\",\"Everyone\",\"Everyone\",\"Everyone\",\"Everyone\",\"Everyone\",\"Everyone\",\"Everyone\",\"Everyone\",\"Everyone\",\"Everyone\",\"Everyone\",\"Everyone\",\"Everyone\",\"Everyone\",\"Everyone\",\"Everyone\",\"Everyone\",\"Everyone\",\"Everyone\",\"Everyone\",\"Everyone\",\"Everyone\",\"Everyone\",\"Everyone\",\"Everyone 10+\",\"Everyone\",\"Everyone 10+\",\"Everyone\",\"Everyone\",\"Everyone 10+\",\"Everyone\",\"Everyone\",\"Everyone 10+\",\"Everyone\",\"Everyone\",\"Everyone\",\"Everyone\",\"Mature 17+\",\"Everyone 10+\",\"Everyone\",\"Everyone\",\"Everyone 10+\",\"Everyone\",\"Everyone\",\"Everyone\",\"Everyone\",\"Everyone\",\"Everyone\",\"Everyone\",\"Everyone\",\"Everyone 10+\",\"Everyone\",\"Everyone 10+\",\"Everyone\",\"Everyone\",\"Everyone 10+\",\"Everyone\",\"Everyone 10+\",\"Everyone\",\"Everyone 10+\",\"Everyone\",\"Everyone\",\"Everyone\",\"Everyone\",\"Everyone\",\"Everyone\",\"Everyone\",\"Everyone\",\"Everyone\",\"Everyone\",\"Everyone\",\"Everyone\",\"Everyone\",\"Everyone\",\"Everyone\",\"Everyone\",\"Everyone\",\"Everyone\",\"Everyone\",\"Everyone\",\"Teen\",\"Everyone\",\"Everyone\",\"Everyone\",\"Everyone\",\"Everyone\",\"Everyone\",\"Everyone\",\"Everyone\",\"Everyone\",\"Everyone\",\"Everyone\",\"Everyone\",\"Everyone\",\"Everyone\",\"Everyone\",\"Everyone\",\"Teen\",\"Everyone\",\"Teen\",\"Everyone\",\"Everyone\",\"Everyone\",\"Teen\",\"Everyone\",\"Everyone\",\"Everyone\",\"Teen\",\"Everyone\",\"Everyone\",\"Everyone 10+\",\"Everyone\",\"Everyone\",\"Teen\",\"Everyone\",\"Everyone\",\"Everyone\",\"Everyone\",\"Everyone\",\"Everyone\",\"Everyone\",\"Teen\",\"Everyone\",\"Everyone\",\"Everyone\",\"Everyone\",\"Everyone\",\"Everyone\",\"Everyone\",\"Everyone\",\"Everyone\",\"Everyone\",\"Everyone\",\"Teen\",\"Everyone\",\"Everyone\",\"Everyone\",\"Everyone\",\"Everyone\",\"Everyone\",\"Everyone\",\"Teen\",\"Everyone\",\"Everyone\",\"Everyone\",\"Everyone\",\"Everyone\",\"Everyone\",\"Everyone\",\"Everyone\",\"Everyone\",\"Everyone\",\"Everyone 10+\",\"Everyone\",\"Everyone 10+\",\"Everyone 10+\",\"Everyone\",\"Everyone\",\"Everyone\",\"Everyone\",\"Everyone\",\"Everyone\",\"Everyone\",\"Everyone\",\"Everyone\",\"Everyone\",\"Everyone\",\"Everyone\",\"Everyone\",\"Everyone\",\"Everyone\",\"Everyone\",\"Everyone\",\"Everyone\",\"Everyone\",\"Everyone\",\"Teen\",\"Teen\",\"Everyone\",\"Everyone\",\"Teen\",\"Everyone\",\"Everyone\",\"Everyone\",\"Everyone\",\"Everyone\",\"Everyone\",\"Teen\",\"Everyone\",\"Teen\",\"Everyone\",\"Everyone 10+\",\"Everyone\",\"Everyone\",\"Everyone\",\"Everyone\",\"Everyone\",\"Everyone\",\"Everyone\",\"Everyone\",\"Everyone\",\"Everyone\",\"Everyone\",\"Everyone\",\"Everyone\",\"Everyone\",\"Everyone\",\"Everyone\",\"Everyone 10+\",\"Everyone\",\"Everyone\",\"Everyone\",\"Everyone\",\"Everyone\",\"Everyone\",\"Everyone\",\"Everyone\",\"Everyone\",\"Everyone\",\"Everyone\",\"Everyone\",\"Everyone\",\"Everyone\",\"Everyone\",\"Everyone\",\"Everyone\",\"Everyone\",\"Everyone\",\"Everyone\",\"Everyone\",\"Everyone\",\"Teen\",\"Everyone\",\"Everyone\",\"Everyone\",\"Everyone\",\"Everyone\",\"Everyone\",\"Everyone\",\"Everyone\",\"Everyone\",\"Everyone\",\"Everyone\",\"Everyone\",\"Everyone\",\"Mature 17+\",\"Everyone\",\"Mature 17+\",\"Mature 17+\",\"Teen\",\"Everyone\",\"Teen\",\"Everyone\",\"Everyone\",\"Everyone\",\"Teen\",\"Everyone\",\"Teen\",\"Everyone\",\"Everyone\",\"Teen\",\"Everyone\",\"Everyone\",\"Everyone\",\"Everyone\",\"Everyone\",\"Teen\",\"Everyone\",\"Everyone\",\"Teen\",\"Teen\",\"Everyone\",\"Teen\",\"Everyone\",\"Teen\",\"Everyone\",\"Everyone\",\"Teen\",\"Everyone\",\"Everyone\",\"Everyone\",\"Everyone\",\"Teen\",\"Everyone\",\"Everyone\",\"Everyone\",\"Everyone\",\"Everyone\",\"Everyone\",\"Everyone\",\"Everyone\",\"Everyone\",\"Everyone\",\"Everyone\",\"Everyone\",\"Everyone\",\"Everyone\",\"Everyone\",\"Everyone\",\"Everyone\",\"Everyone\",\"Everyone\",\"Everyone\",\"Everyone\",\"Everyone\",\"Everyone\",\"Everyone\",\"Everyone\",\"Everyone\",\"Everyone\",\"Everyone\",\"Everyone\",\"Teen\",\"Everyone\",\"Everyone\",\"Mature 17+\",\"Everyone\",\"Everyone\",\"Everyone\",\"Everyone\",\"Everyone\",\"Everyone\",\"Everyone\",\"Everyone\",\"Everyone\",\"Everyone\",\"Everyone\",\"Teen\",\"Everyone\",\"Everyone\",\"Everyone\",\"Everyone\",\"Everyone\",\"Everyone\",\"Everyone\",\"Everyone\",\"Everyone\",\"Teen\",\"Everyone\",\"Everyone\",\"Everyone\",\"Everyone\",\"Everyone\",\"Everyone\",\"Everyone\",\"Everyone\",\"Everyone\",\"Everyone\",\"Everyone\",\"Everyone\",\"Everyone\",\"Everyone\",\"Everyone\",\"Everyone\",\"Everyone\",\"Everyone\",\"Everyone\",\"Everyone\",\"Everyone\",\"Everyone\",\"Everyone\",\"Everyone\",\"Everyone\",\"Everyone\",\"Everyone\",\"Everyone\",\"Everyone\",\"Everyone\",\"Everyone\",\"Everyone\",\"Everyone\",\"Teen\",\"Teen\",\"Everyone\",\"Everyone\",\"Everyone\",\"Everyone\",\"Everyone\",\"Everyone\",\"Everyone\",\"Everyone\",\"Everyone\",\"Teen\",\"Everyone\",\"Everyone\",\"Everyone\",\"Everyone\",\"Everyone\",\"Everyone\",\"Everyone\",\"Everyone\",\"Everyone\",\"Everyone\",\"Everyone\",\"Everyone\",\"Everyone\",\"Everyone\",\"Everyone\",\"Everyone\",\"Everyone\",\"Everyone\",\"Everyone\",\"Everyone\",\"Everyone\",\"Everyone\",\"Everyone\",\"Everyone\",\"Everyone\",\"Everyone\",\"Everyone\",\"Everyone\",\"Everyone\",\"Everyone\",\"Everyone\",\"Everyone\",\"Everyone\",\"Everyone\",\"Everyone\",\"Everyone\",\"Everyone\",\"Everyone\",\"Everyone\",\"Everyone\",\"Everyone\",\"Everyone\",\"Everyone\",\"Teen\",\"Mature 17+\",\"Everyone\",\"Everyone\",\"Everyone\",\"Everyone\",\"Everyone\",\"Everyone\",\"Everyone\",\"Everyone\",\"Everyone\",\"Everyone\",\"Everyone\",\"Teen\",\"Everyone\",\"Teen\",\"Everyone\",\"Everyone\",\"Everyone\",\"Everyone\",\"Teen\",\"Everyone\",\"Everyone\",\"Everyone\",\"Everyone\",\"Teen\",\"Everyone\",\"Everyone\",\"Everyone\",\"Everyone\",\"Everyone\",\"Everyone\",\"Everyone\",\"Everyone\",\"Everyone\",\"Teen\",\"Everyone\",\"Teen\",\"Teen\",\"Teen\",\"Everyone\",\"Everyone\",\"Everyone\",\"Everyone\",\"Everyone\",\"Everyone\",\"Everyone\",\"Everyone\",\"Everyone\",\"Everyone\",\"Everyone\",\"Everyone\",\"Everyone\",\"Everyone\",\"Everyone\",\"Everyone\",\"Everyone\",\"Everyone\",\"Everyone\",\"Everyone\",\"Everyone\",\"Everyone\",\"Everyone\",\"Everyone\",\"Everyone\",\"Everyone\",\"Everyone\",\"Everyone\",\"Everyone\",\"Everyone\",\"Everyone\",\"Teen\",\"Everyone\",\"Everyone\",\"Everyone\",\"Everyone\",\"Teen\",\"Everyone\",\"Everyone\",\"Everyone\",\"Everyone\",\"Everyone\",\"Everyone\",\"Everyone\",\"Everyone\",\"Everyone\",\"Everyone\",\"Everyone\",\"Everyone 10+\",\"Everyone\",\"Everyone\",\"Everyone\",\"Everyone\",\"Everyone\",\"Everyone\",\"Everyone\",\"Everyone\",\"Everyone\",\"Everyone\",\"Everyone\",\"Everyone\",\"Everyone\",\"Everyone\",\"Everyone\",\"Everyone\",\"Everyone 10+\",\"Everyone\",\"Everyone\",\"Everyone\",\"Everyone\",\"Teen\",\"Everyone\",\"Everyone\",\"Everyone\",\"Everyone\",\"Everyone\",\"Everyone 10+\",\"Everyone\",\"Everyone\",\"Everyone\",\"Everyone\",\"Everyone 10+\",\"Everyone\",\"Everyone\",\"Everyone 10+\",\"Everyone\",\"Everyone 10+\",\"Everyone\",\"Teen\",\"Everyone\",\"Everyone\",\"Everyone\",\"Everyone\",\"Everyone\",\"Everyone\",\"Everyone\",\"Everyone\",\"Everyone\",\"Teen\",\"Everyone\",\"Everyone\",\"Everyone\",\"Everyone\",\"Mature 17+\",\"Teen\",\"Everyone\",\"Everyone\",\"Everyone\",\"Everyone\",\"Everyone\",\"Everyone\",\"Everyone\",\"Everyone\",\"Everyone\",\"Everyone\",\"Teen\",\"Everyone\",\"Everyone\",\"Everyone\",\"Everyone\",\"Everyone\",\"Everyone\",\"Everyone\",\"Everyone\",\"Everyone\",\"Everyone\",\"Everyone\",\"Everyone\",\"Everyone\",\"Everyone\",\"Everyone\",\"Everyone\",\"Everyone\",\"Teen\",\"Teen\",\"Everyone\",\"Everyone\",\"Everyone\",\"Everyone\",\"Everyone\",\"Everyone\",\"Mature 17+\",\"Teen\",\"Everyone\",\"Everyone\",\"Everyone\",\"Everyone 10+\",\"Everyone\",\"Everyone\",\"Teen\",\"Everyone\",\"Everyone\",\"Mature 17+\",\"Everyone\",\"Everyone\",\"Everyone\",\"Everyone\",\"Everyone\",\"Everyone\",\"Everyone\",\"Everyone\",\"Teen\",\"Everyone\",\"Everyone\",\"Everyone\",\"Everyone\",\"Everyone\",\"Everyone\",\"Everyone\",\"Everyone\",\"Everyone\",\"Everyone\",\"Everyone\",\"Everyone\",\"Everyone\",\"Everyone\",\"Everyone\",\"Everyone\",\"Everyone\",\"Everyone\",\"Everyone\",\"Everyone\",\"Everyone\",\"Everyone\",\"Teen\",\"Everyone\",\"Everyone\",\"Everyone\",\"Everyone\",\"Everyone\",\"Everyone\",\"Everyone\",\"Everyone\",\"Everyone\",\"Everyone 10+\",\"Everyone\",\"Everyone\",\"Everyone\",\"Everyone\",\"Teen\",\"Teen\",\"Teen\",\"Teen\",\"Mature 17+\",\"Everyone 10+\",\"Everyone\",\"Everyone\",\"Everyone 10+\",\"Everyone\",\"Teen\",\"Teen\",\"Everyone\",\"Everyone\",\"Everyone\",\"Everyone\",\"Teen\",\"Everyone\",\"Everyone\",\"Unrated\",\"Everyone\",\"Everyone\",\"Everyone\",\"Everyone\",\"Teen\",\"Everyone 10+\",\"Everyone\",\"Mature 17+\",\"Everyone\",\"Everyone\",\"Everyone 10+\",\"Everyone\",\"Everyone\",\"Everyone\",\"Everyone\",\"Everyone\",\"Everyone\",\"Everyone\",\"Everyone\",\"Everyone\",\"Everyone 10+\",\"Everyone\",\"Everyone\",\"Everyone\",\"Everyone\",\"Everyone\",\"Teen\",\"Everyone\",\"Everyone\",\"Everyone\",\"Everyone\",\"Everyone\",\"Everyone\",\"Everyone\",\"Everyone\",\"Everyone\",\"Everyone\",\"Everyone\",\"Everyone\",\"Everyone\",\"Everyone 10+\",\"Everyone\",\"Everyone\",\"Teen\",\"Everyone\",\"Everyone\",\"Everyone\",\"Everyone 10+\",\"Everyone\",\"Everyone\",\"Everyone\",\"Everyone\",\"Everyone\",\"Everyone\",\"Everyone\",\"Teen\",\"Everyone\",\"Everyone\",\"Everyone\",\"Everyone\",\"Everyone\",\"Everyone\",\"Everyone\",\"Everyone\",\"Everyone\",\"Everyone\",\"Everyone\",\"Everyone\",\"Everyone\",\"Everyone\",\"Everyone\",\"Everyone\",\"Everyone\",\"Everyone\",\"Everyone\",\"Everyone\",\"Everyone\",\"Everyone\",\"Everyone\",\"Everyone\",\"Everyone\",\"Everyone\",\"Everyone\",\"Everyone\",\"Everyone\",\"Everyone\",\"Everyone\",\"Everyone\",\"Everyone\",\"Everyone\",\"Everyone\",\"Everyone\",\"Everyone\",\"Everyone\",\"Everyone\",\"Everyone\",\"Everyone\",\"Everyone\",\"Everyone\",\"Everyone\",\"Everyone\",\"Everyone\",\"Everyone\",\"Everyone\",\"Everyone\",\"Everyone\",\"Everyone\",\"Everyone\",\"Everyone\",\"Everyone\",\"Everyone\",\"Everyone\",\"Everyone\",\"Everyone\",\"Everyone\",\"Everyone\",\"Everyone\",\"Everyone\",\"Everyone\",\"Teen\",\"Everyone\",\"Everyone\",\"Teen\",\"Teen\",\"Teen\",\"Teen\",\"Teen\",\"Everyone\",\"Everyone\",\"Teen\",\"Teen\",\"Everyone 10+\",\"Everyone\",\"Teen\",\"Everyone\",\"Teen\",\"Everyone\",\"Mature 17+\",\"Everyone\",\"Everyone\",\"Everyone\",\"Everyone\",\"Everyone 10+\",\"Everyone 10+\",\"Teen\",\"Everyone\",\"Mature 17+\",\"Everyone\",\"Everyone\",\"Everyone\",\"Everyone\",\"Everyone 10+\",\"Everyone\",\"Everyone\",\"Everyone\",\"Teen\",\"Everyone\",\"Everyone\",\"Teen\",\"Everyone\",\"Everyone 10+\",\"Everyone\",\"Mature 17+\",\"Everyone\",\"Everyone\",\"Teen\",\"Everyone\",\"Everyone\",\"Everyone\",\"Everyone\",\"Everyone 10+\",\"Everyone\",\"Everyone\",\"Everyone 10+\",\"Everyone 10+\",\"Everyone\",\"Everyone 10+\",\"Mature 17+\",\"Everyone\",\"Everyone\",\"Everyone\",\"Everyone\",\"Everyone\",\"Everyone\",\"Everyone\",\"Everyone\",\"Everyone\",\"Everyone\",\"Everyone\",\"Everyone\",\"Everyone\",\"Everyone\",\"Everyone\",\"Everyone\",\"Everyone\",\"Everyone\",\"Everyone\",\"Everyone\",\"Everyone\",\"Everyone\",\"Everyone\",\"Everyone\",\"Everyone\",\"Mature 17+\",\"Everyone\",\"Everyone\",\"Everyone\",\"Everyone\",\"Everyone\",\"Everyone\",\"Everyone\",\"Teen\",\"Everyone\",\"Everyone\",\"Everyone\",\"Everyone\",\"Everyone\",\"Everyone\",\"Everyone\",\"Teen\",\"Everyone\",\"Everyone\",\"Everyone\",\"Teen\",\"Everyone\",\"Teen\",\"Everyone\",\"Everyone\",\"Everyone\",\"Everyone\",\"Everyone\",\"Everyone\",\"Everyone\",\"Everyone\",\"Everyone\",\"Everyone\",\"Everyone\",\"Mature 17+\",\"Everyone\",\"Everyone\",\"Everyone\",\"Everyone\",\"Everyone\",\"Everyone\",\"Everyone\",\"Everyone\",\"Everyone\",\"Everyone\",\"Everyone\",\"Everyone\",\"Everyone\",\"Everyone\",\"Everyone\",\"Everyone\",\"Everyone\",\"Everyone\",\"Everyone\",\"Everyone\",\"Mature 17+\",\"Everyone 10+\",\"Teen\",\"Everyone\",\"Everyone\",\"Everyone\",\"Everyone\",\"Everyone\",\"Teen\",\"Everyone\",\"Everyone\",\"Everyone\",\"Everyone\",\"Teen\",\"Everyone\",\"Everyone\",\"Everyone\",\"Everyone\",\"Everyone\",\"Everyone\",\"Everyone\",\"Everyone\",\"Everyone\",\"Everyone\",\"Everyone\",\"Everyone\",\"Everyone\",\"Everyone\",\"Everyone\",\"Everyone\",\"Everyone\",\"Everyone\",\"Everyone\",\"Everyone\",\"Everyone\",\"Everyone\",\"Teen\",\"Everyone\",\"Everyone\",\"Everyone\",\"Everyone\",\"Everyone\",\"Everyone\",\"Everyone 10+\",\"Everyone\",\"Everyone\",\"Everyone 10+\",\"Everyone\",\"Teen\",\"Everyone\",\"Teen\",\"Everyone 10+\",\"Everyone\",\"Everyone\",\"Everyone\",\"Everyone\",\"Everyone\",\"Teen\",\"Everyone\",\"Everyone\",\"Everyone\",\"Everyone\",\"Everyone\",\"Everyone\",\"Teen\",\"Everyone\",\"Everyone\",\"Teen\",\"Teen\",\"Everyone\",\"Everyone 10+\",\"Everyone\",\"Everyone\",\"Everyone\",\"Everyone 10+\",\"Everyone\",\"Everyone\",\"Everyone\",\"Teen\",\"Everyone\",\"Everyone\",\"Teen\",\"Everyone 10+\",\"Everyone 10+\",\"Everyone\",\"Everyone\",\"Everyone\",\"Everyone\",\"Everyone\",\"Everyone\",\"Everyone\",\"Everyone\",\"Teen\",\"Everyone\",\"Teen\",\"Everyone\",\"Everyone\",\"Everyone\",\"Everyone\",\"Everyone\",\"Everyone\",\"Everyone\",\"Everyone\",\"Everyone\",\"Everyone\",\"Everyone\",\"Everyone\",\"Everyone\",\"Everyone\",\"Everyone\",\"Everyone\",\"Everyone\",\"Everyone\",\"Everyone\",\"Everyone\",\"Everyone\",\"Everyone\",\"Everyone\",\"Everyone\",\"Mature 17+\",\"Everyone\",\"Teen\",\"Everyone\",\"Everyone\",\"Everyone\",\"Everyone\",\"Everyone\",\"Mature 17+\",\"Everyone\",\"Everyone\",\"Everyone\",\"Everyone\",\"Teen\",\"Everyone\",\"Everyone\",\"Everyone\",\"Teen\",\"Everyone\",\"Teen\",\"Everyone\",\"Teen\",\"Everyone\",\"Everyone\",\"Everyone\",\"Everyone\",\"Teen\",\"Teen\",\"Mature 17+\",\"Everyone\",\"Everyone\",\"Everyone\",\"Everyone\",\"Everyone\",\"Everyone\",\"Everyone\",\"Everyone\",\"Everyone\",\"Everyone\",\"Everyone\",\"Everyone\",\"Everyone 10+\",\"Teen\",\"Everyone 10+\",\"Everyone\",\"Everyone\",\"Everyone\",\"Everyone\",\"Everyone\",\"Everyone\",\"Everyone\",\"Everyone\",\"Everyone\",\"Everyone\",\"Everyone\",\"Everyone 10+\",\"Everyone\",\"Everyone\",\"Everyone\",\"Everyone\",\"Teen\",\"Everyone\",\"Everyone\",\"Everyone\",\"Everyone\",\"Everyone\",\"Everyone\",\"Teen\",\"Everyone\",\"Everyone\",\"Everyone\",\"Everyone\",\"Mature 17+\",\"Everyone\",\"Everyone\",\"Everyone\",\"Everyone\",\"Everyone 10+\",\"Everyone\",\"Everyone\",\"Everyone\",\"Everyone\",\"Everyone\",\"Everyone\",\"Mature 17+\",\"Everyone\",\"Everyone\",\"Everyone\",\"Everyone\",\"Everyone\",\"Everyone\",\"Everyone\",\"Everyone\",\"Everyone\",\"Everyone\",\"Everyone\",\"Everyone\",\"Everyone\",\"Everyone\",\"Everyone\",\"Everyone\",\"Mature 17+\",\"Everyone\",\"Mature 17+\",\"Teen\",\"Everyone\",\"Everyone\",\"Everyone\",\"Everyone\",\"Everyone\",\"Everyone\",\"Everyone\",\"Everyone\",\"Everyone\",\"Everyone\",\"Everyone\",\"Everyone\",\"Everyone\",\"Everyone\",\"Everyone\",\"Everyone\",\"Everyone\",\"Everyone\",\"Everyone\",\"Everyone\",\"Everyone\",\"Everyone\",\"Everyone\",\"Everyone\",\"Everyone\",\"Everyone\",\"Everyone\",\"Everyone\",\"Everyone\",\"Everyone\",\"Everyone\",\"Everyone\",\"Everyone\",\"Everyone\",\"Everyone\",\"Everyone\",\"Everyone\",\"Everyone\",\"Everyone\",\"Everyone\",\"Everyone\",\"Everyone\",\"Everyone\",\"Everyone\",\"Everyone\",\"Everyone\",\"Everyone\",\"Everyone\",\"Everyone\",\"Everyone\",\"Everyone\",\"Everyone\",\"Everyone\",\"Everyone\",\"Everyone\",\"Everyone\",\"Everyone\",\"Everyone\",\"Everyone\",\"Everyone\",\"Everyone\",\"Everyone\",\"Everyone\",\"Everyone\",\"Everyone\",\"Everyone\",\"Everyone\",\"Everyone\",\"Everyone\",\"Everyone\",\"Everyone\",\"Everyone\",\"Everyone\",\"Everyone\",\"Everyone\",\"Everyone\",\"Everyone\",\"Everyone\",\"Everyone\",\"Everyone\",\"Everyone\",\"Everyone\",\"Everyone\",\"Everyone\",\"Everyone\",\"Everyone\",\"Everyone\",\"Everyone\",\"Everyone\",\"Everyone\",\"Everyone 10+\",\"Everyone\",\"Everyone\",\"Everyone\",\"Everyone\",\"Everyone\",\"Everyone\",\"Everyone\",\"Everyone\",\"Everyone\",\"Everyone\",\"Everyone\",\"Teen\",\"Everyone\",\"Everyone\",\"Everyone\",\"Everyone\",\"Everyone\",\"Everyone\",\"Everyone\",\"Everyone\",\"Everyone\",\"Everyone\",\"Everyone\",\"Everyone\",\"Teen\",\"Everyone\",\"Everyone\",\"Everyone\",\"Everyone\",\"Everyone\",\"Everyone\",\"Everyone\",\"Everyone\",\"Everyone\",\"Everyone\",\"Teen\",\"Everyone\",\"Everyone\",\"Everyone\",\"Everyone\",\"Everyone\",\"Everyone\",\"Everyone\",\"Everyone\",\"Everyone\",\"Everyone\",\"Everyone\",\"Everyone\",\"Everyone\",\"Everyone\",\"Everyone\",\"Everyone\",\"Everyone\",\"Everyone\",\"Everyone\",\"Everyone\",\"Everyone\",\"Everyone\",\"Everyone\",\"Everyone\",\"Everyone\",\"Everyone\",\"Everyone\",\"Everyone\",\"Everyone\",\"Everyone\",\"Everyone\",\"Everyone\",\"Everyone\",\"Everyone\",\"Everyone\",\"Everyone\",\"Everyone\",\"Everyone\",\"Everyone\",\"Everyone\",\"Everyone\",\"Everyone\",\"Everyone\",\"Everyone\",\"Everyone\",\"Everyone\",\"Everyone\",\"Everyone\",\"Everyone\",\"Everyone\",\"Everyone\",\"Teen\",\"Everyone\",\"Everyone\",\"Everyone\",\"Everyone\",\"Teen\",\"Everyone\",\"Everyone\",\"Everyone 10+\",\"Everyone\",\"Everyone\",\"Everyone\",\"Everyone\",\"Everyone\",\"Everyone\",\"Everyone\",\"Everyone 10+\",\"Everyone\",\"Everyone\",\"Everyone\",\"Everyone\",\"Everyone\",\"Everyone\",\"Everyone\",\"Everyone\",\"Everyone\",\"Everyone\",\"Teen\",\"Everyone\",\"Everyone\",\"Everyone\",\"Everyone\",\"Everyone\",\"Everyone\",\"Everyone\",\"Teen\",\"Everyone\",\"Everyone\",\"Everyone\",\"Everyone\",\"Everyone\",\"Everyone\",\"Everyone\",\"Everyone\",\"Everyone\",\"Everyone\",\"Everyone\",\"Everyone\",\"Everyone\",\"Everyone\",\"Everyone\",\"Everyone\",\"Everyone\",\"Everyone\",\"Everyone\",\"Teen\",\"Everyone\",\"Everyone\",\"Teen\",\"Everyone\",\"Everyone\",\"Everyone\",\"Everyone\",\"Everyone\",\"Everyone\",\"Everyone\",\"Teen\",\"Everyone\",\"Everyone\",\"Mature 17+\",\"Everyone\",\"Everyone\",\"Everyone 10+\",\"Everyone\",\"Everyone\",\"Everyone\",\"Everyone\",\"Everyone\",\"Everyone\",\"Everyone\",\"Everyone\",\"Everyone\",\"Everyone\",\"Everyone\",\"Everyone\",\"Everyone\",\"Everyone\",\"Teen\",\"Everyone\",\"Everyone\",\"Everyone\",\"Everyone\",\"Everyone\",\"Everyone\",\"Everyone\",\"Everyone\",\"Everyone\",\"Everyone\",\"Everyone\",\"Everyone\",\"Everyone\",\"Everyone\",\"Everyone\",\"Everyone\",\"Everyone\",\"Everyone\",\"Everyone\",\"Everyone\",\"Everyone\",\"Everyone\",\"Everyone\",\"Teen\",\"Everyone\",\"Everyone\",\"Everyone\",\"Everyone\",\"Everyone\",\"Everyone\",\"Everyone\",\"Teen\",\"Everyone\",\"Everyone\",\"Everyone\",\"Everyone\",\"Everyone\",\"Everyone\",\"Everyone\",\"Everyone\",\"Everyone\",\"Everyone\",\"Everyone\",\"Everyone\",\"Everyone\",\"Everyone\",\"Everyone\",\"Everyone\",\"Everyone\",\"Everyone\",\"Everyone\",\"Everyone\",\"Everyone\",\"Teen\",\"Teen\",\"Everyone\",\"Everyone\",\"Everyone\",\"Everyone\",\"Everyone\",\"Everyone\",\"Teen\",\"Teen\",\"Everyone\",\"Everyone\",\"Everyone\",\"Everyone\",\"Everyone\",\"Everyone\",\"Everyone\",\"Everyone\",\"Everyone\",\"Everyone\",\"Everyone\",\"Everyone\",\"Everyone\",\"Everyone\",\"Everyone\",\"Everyone\",\"Everyone\",\"Teen\",\"Everyone\",\"Everyone\",\"Teen\",\"Everyone\",\"Everyone 10+\",\"Everyone\",\"Everyone\",\"Teen\",\"Everyone 10+\",\"Everyone 10+\",\"Everyone 10+\",\"Everyone\",\"Everyone\",\"Everyone\",\"Everyone\",\"Everyone\",\"Everyone\",\"Everyone\",\"Everyone\",\"Everyone\",\"Everyone\",\"Teen\",\"Everyone\",\"Everyone\",\"Everyone\",\"Teen\",\"Mature 17+\",\"Everyone\",\"Everyone 10+\",\"Everyone\",\"Everyone 10+\",\"Everyone\",\"Everyone\",\"Everyone\",\"Everyone\",\"Everyone\",\"Everyone\",\"Everyone\",\"Teen\",\"Everyone\",\"Everyone\",\"Everyone\",\"Everyone\",\"Everyone\",\"Everyone\",\"Everyone\",\"Everyone\",\"Everyone\",\"Everyone\",\"Teen\",\"Teen\",\"Teen\",\"Teen\",\"Everyone\",\"Teen\",\"Everyone\",\"Everyone\",\"Everyone\",\"Everyone\",\"Teen\",\"Everyone\",\"Everyone\",\"Teen\",\"Everyone\",\"Everyone\",\"Everyone\",\"Everyone\",\"Everyone\",\"Everyone\",\"Everyone\",\"Everyone\",\"Teen\",\"Everyone\",\"Everyone\",\"Everyone\",\"Everyone\",\"Everyone\",\"Everyone\",\"Everyone\",\"Everyone\",\"Everyone\",\"Everyone\",\"Everyone\",\"Everyone\",\"Teen\",\"Everyone\",\"Everyone\",\"Everyone\",\"Everyone\",\"Everyone\",\"Everyone\",\"Everyone\",\"Everyone\",\"Everyone\",\"Everyone\",\"Everyone\",\"Everyone\",\"Everyone\",\"Everyone\",\"Everyone\",\"Everyone\",\"Everyone\",\"Everyone\",\"Everyone\",\"Everyone\",\"Teen\",\"Everyone\",\"Everyone\",\"Everyone\",\"Everyone\",\"Everyone\",\"Everyone\",\"Everyone\",\"Everyone\",\"Everyone\",\"Everyone\",\"Everyone\",\"Everyone\",\"Teen\",\"Everyone\",\"Everyone\",\"Everyone\",\"Everyone\",\"Everyone\",\"Everyone\",\"Everyone\",\"Everyone\",\"Everyone\",\"Teen\",\"Everyone\",\"Everyone\",\"Everyone\",\"Everyone\",\"Everyone\",\"Everyone\",\"Everyone\",\"Everyone\",\"Everyone\",\"Everyone\",\"Everyone\",\"Everyone\",\"Teen\",\"Teen\",\"Everyone\",\"Everyone\",\"Everyone\",\"Everyone\",\"Everyone\",\"Everyone\",\"Everyone\",\"Everyone\",\"Everyone\",\"Everyone\",\"Everyone\",\"Everyone\",\"Everyone\",\"Everyone\",\"Teen\",\"Teen\",\"Everyone\",\"Everyone\",\"Everyone\",\"Everyone\",\"Everyone\",\"Everyone\",\"Everyone\",\"Everyone\",\"Everyone\",\"Everyone 10+\",\"Everyone\",\"Everyone\",\"Everyone\",\"Everyone\",\"Everyone\",\"Everyone\",\"Everyone\",\"Everyone\",\"Everyone\",\"Teen\",\"Everyone\",\"Everyone\",\"Everyone\",\"Everyone\",\"Everyone\",\"Everyone\",\"Everyone\",\"Everyone\",\"Everyone\",\"Everyone\",\"Everyone\",\"Everyone\",\"Everyone\",\"Everyone\",\"Everyone\",\"Everyone\",\"Teen\",\"Everyone\",\"Everyone\",\"Everyone\",\"Everyone\",\"Everyone\",\"Everyone\",\"Everyone\",\"Everyone\",\"Everyone\",\"Teen\",\"Mature 17+\",\"Everyone\",\"Everyone\",\"Teen\",\"Everyone\",\"Mature 17+\",\"Everyone\",\"Everyone 10+\",\"Everyone\",\"Everyone\",\"Everyone\",\"Everyone\",\"Everyone\",\"Everyone\",\"Everyone\",\"Everyone\",\"Everyone\",\"Everyone\",\"Everyone\",\"Everyone\",\"Everyone\",\"Everyone\",\"Everyone\",\"Everyone\",\"Everyone\",\"Everyone\",\"Everyone 10+\",\"Everyone\",\"Everyone\",\"Teen\",\"Mature 17+\",\"Everyone\",\"Mature 17+\",\"Teen\",\"Everyone\",\"Everyone\",\"Teen\",\"Everyone\",\"Everyone\",\"Everyone\",\"Everyone\",\"Everyone\",\"Teen\",\"Everyone\",\"Everyone\",\"Teen\",\"Teen\",\"Everyone\",\"Everyone\",\"Teen\",\"Everyone\",\"Teen\",\"Everyone\",\"Teen\",\"Everyone\",\"Everyone\",\"Everyone\",\"Everyone\",\"Everyone\",\"Everyone\",\"Everyone\",\"Everyone\",\"Teen\",\"Everyone\",\"Everyone\",\"Everyone\",\"Everyone\",\"Everyone\",\"Everyone\",\"Everyone\",\"Everyone\",\"Everyone\",\"Everyone\",\"Everyone\",\"Everyone\",\"Everyone\",\"Mature 17+\",\"Everyone\",\"Everyone\",\"Everyone\",\"Everyone\",\"Everyone\",\"Mature 17+\",\"Everyone\",\"Everyone\",\"Everyone\",\"Everyone\",\"Everyone\",\"Everyone 10+\",\"Everyone\",\"Everyone\",\"Everyone\",\"Everyone\",\"Everyone\",\"Everyone\",\"Everyone\",\"Everyone\",\"Everyone\",\"Everyone\",\"Everyone\",\"Everyone\",\"Everyone\",\"Everyone\",\"Everyone\",\"Teen\",\"Teen\",\"Mature 17+\",\"Everyone\",\"Teen\",\"Everyone\",\"Everyone\",\"Everyone\",\"Everyone\",\"Everyone\",\"Everyone\",\"Everyone\",\"Teen\",\"Everyone 10+\",\"Teen\",\"Everyone\",\"Everyone\",\"Everyone\",\"Everyone\",\"Teen\",\"Everyone\",\"Teen\",\"Everyone\",\"Everyone\",\"Everyone\",\"Everyone\",\"Everyone\",\"Everyone\",\"Everyone\",\"Teen\",\"Everyone\",\"Everyone\",\"Everyone\",\"Everyone 10+\",\"Everyone\",\"Everyone\",\"Everyone\",\"Everyone\",\"Everyone\",\"Everyone\",\"Everyone\",\"Everyone\",\"Everyone\",\"Teen\",\"Everyone\",\"Everyone\",\"Everyone\",\"Everyone\",\"Everyone\",\"Everyone\",\"Everyone\",\"Everyone\",\"Everyone\",\"Teen\",\"Teen\",\"Everyone\",\"Teen\",\"Teen\",\"Everyone\",\"Everyone\",\"Everyone\",\"Everyone\",\"Everyone\",\"Everyone\",\"Everyone\",\"Everyone\",\"Everyone\",\"Everyone\",\"Everyone\",\"Everyone\",\"Everyone\",\"Everyone\",\"Everyone\",\"Everyone\",\"Everyone\",\"Everyone\",\"Everyone 10+\",\"Teen\",\"Everyone\",\"Everyone\",\"Everyone\",\"Everyone\",\"Everyone\",\"Everyone\",\"Everyone\",\"Everyone\",\"Everyone\",\"Everyone\",\"Everyone\",\"Everyone 10+\",\"Everyone\",\"Teen\",\"Teen\",\"Everyone\",\"Everyone\",\"Everyone\",\"Teen\",\"Everyone\",\"Everyone\",\"Everyone\",\"Everyone\",\"Everyone\",\"Everyone\",\"Everyone\",\"Everyone 10+\",\"Everyone\",\"Everyone\",\"Everyone\",\"Everyone\",\"Everyone\",\"Everyone\",\"Everyone\",\"Everyone\",\"Everyone\",\"Everyone\",\"Teen\",\"Everyone 10+\",\"Everyone\",\"Teen\",\"Everyone 10+\",\"Everyone\",\"Everyone 10+\",\"Teen\",\"Teen\",\"Teen\",\"Everyone\",\"Everyone\",\"Everyone\",\"Teen\",\"Mature 17+\",\"Everyone\",\"Teen\",\"Teen\",\"Teen\",\"Teen\",\"Everyone\",\"Teen\",\"Teen\",\"Teen\",\"Everyone\",\"Teen\",\"Teen\",\"Teen\",\"Teen\",\"Everyone\",\"Teen\",\"Everyone\",\"Teen\",\"Everyone\",\"Everyone\",\"Everyone 10+\",\"Teen\",\"Teen\",\"Everyone\",\"Everyone\",\"Teen\",\"Everyone\",\"Everyone\",\"Everyone\",\"Everyone 10+\",\"Everyone\",\"Everyone\",\"Everyone\",\"Everyone\",\"Everyone\",\"Mature 17+\",\"Everyone\",\"Everyone\",\"Everyone\",\"Everyone\",\"Everyone\",\"Everyone\",\"Everyone\",\"Everyone\",\"Everyone\",\"Everyone\",\"Everyone\",\"Teen\",\"Everyone\",\"Everyone\",\"Everyone\",\"Teen\",\"Teen\",\"Everyone\",\"Teen\",\"Teen\",\"Everyone\",\"Everyone\",\"Everyone\",\"Everyone\",\"Everyone\",\"Everyone\",\"Everyone\",\"Everyone\",\"Teen\",\"Everyone\",\"Everyone\",\"Everyone\",\"Everyone\",\"Everyone\",\"Everyone\",\"Everyone\",\"Everyone\",\"Everyone\",\"Everyone\",\"Everyone\",\"Everyone\",\"Everyone\",\"Everyone\",\"Everyone\",\"Everyone\",\"Everyone\",\"Everyone\",\"Everyone\",\"Everyone\",\"Everyone\",\"Everyone\",\"Everyone\",\"Everyone\",\"Everyone\",\"Everyone\",\"Everyone\",\"Everyone\",\"Everyone\",\"Everyone\",\"Teen\",\"Everyone\",\"Everyone\",\"Everyone\",\"Everyone\",\"Everyone\",\"Everyone\",\"Everyone\",\"Everyone\",\"Teen\",\"Everyone\",\"Everyone 10+\",\"Mature 17+\",\"Teen\",\"Everyone\",\"Everyone\",\"Everyone\",\"Everyone\",\"Everyone\",\"Everyone\",\"Everyone 10+\",\"Mature 17+\",\"Everyone\",\"Teen\",\"Teen\",\"Everyone\",\"Teen\",\"Everyone 10+\",\"Everyone\",\"Everyone\",\"Everyone\",\"Everyone\",\"Teen\",\"Everyone\",\"Teen\",\"Teen\",\"Everyone 10+\",\"Everyone\",\"Teen\",\"Everyone\",\"Everyone\",\"Everyone 10+\",\"Everyone\",\"Everyone\",\"Everyone\",\"Everyone\",\"Everyone\",\"Everyone\",\"Everyone\",\"Everyone\",\"Teen\",\"Everyone\",\"Everyone\",\"Teen\",\"Teen\",\"Teen\",\"Teen\",\"Teen\",\"Teen\",\"Everyone 10+\",\"Everyone 10+\",\"Teen\",\"Teen\",\"Everyone\",\"Everyone 10+\",\"Everyone\",\"Everyone 10+\",\"Teen\",\"Teen\",\"Everyone\",\"Teen\",\"Everyone\",\"Everyone\",\"Teen\",\"Everyone\",\"Everyone\",\"Teen\",\"Everyone\",\"Everyone\",\"Teen\",\"Everyone\",\"Everyone 10+\",\"Everyone\",\"Everyone\",\"Everyone\",\"Teen\",\"Everyone\",\"Everyone\",\"Everyone\",\"Everyone\",\"Everyone\",\"Everyone\",\"Everyone\",\"Everyone\",\"Everyone\",\"Everyone\",\"Everyone\",\"Everyone\",\"Everyone\",\"Everyone\",\"Everyone\",\"Everyone\",\"Everyone\",\"Everyone\",\"Everyone\",\"Everyone\",\"Everyone\",\"Everyone\",\"Everyone\",\"Everyone\",\"Everyone\",\"Everyone\",\"Everyone\",\"Everyone\",\"Everyone\",\"Everyone\",\"Everyone\",\"Everyone\",\"Everyone\",\"Everyone\",\"Everyone 10+\",\"Everyone\",\"Everyone\",\"Everyone\",\"Everyone\",\"Everyone\",\"Everyone\",\"Everyone\",\"Everyone\",\"Everyone\",\"Everyone\",\"Everyone\",\"Everyone\",\"Everyone\",\"Everyone\",\"Teen\",\"Everyone\",\"Teen\",\"Everyone\",\"Everyone\",\"Everyone 10+\",\"Everyone\",\"Mature 17+\",\"Teen\",\"Everyone\",\"Everyone\",\"Everyone\",\"Everyone\",\"Everyone\",\"Everyone\",\"Everyone\",\"Everyone\",\"Everyone\",\"Everyone\",\"Everyone\",\"Everyone\",\"Everyone\",\"Everyone\",\"Everyone\",\"Everyone\",\"Everyone\",\"Everyone\",\"Everyone\",\"Everyone\",\"Everyone\",\"Everyone\",\"Everyone\",\"Everyone\",\"Everyone\",\"Everyone\",\"Everyone\",\"Everyone\",\"Everyone\",\"Everyone\",\"Everyone\",\"Everyone\",\"Everyone\",\"Everyone\",\"Everyone\",\"Everyone 10+\",\"Everyone\",\"Everyone\",\"Teen\",\"Everyone\",\"Everyone\",\"Everyone\",\"Everyone\",\"Everyone\",\"Everyone\",\"Everyone\",\"Everyone\",\"Everyone\",\"Everyone\",\"Everyone\",\"Everyone\",\"Everyone\",\"Everyone\",\"Everyone\",\"Everyone\",\"Everyone\",\"Everyone\",\"Everyone\",\"Everyone\",\"Everyone\",\"Everyone\",\"Everyone\",\"Everyone\",\"Everyone\",\"Everyone\",\"Everyone\",\"Everyone\",\"Everyone\",\"Everyone\",\"Everyone\",\"Everyone\",\"Everyone\",\"Everyone\",\"Everyone 10+\",\"Everyone\",\"Everyone\",\"Everyone\",\"Everyone 10+\",\"Everyone\",\"Everyone\",\"Everyone\",\"Everyone\",\"Everyone\",\"Everyone\",\"Everyone\",\"Everyone\",\"Everyone\",\"Everyone\",\"Everyone\",\"Everyone\",\"Teen\",\"Everyone\",\"Everyone\",\"Everyone\",\"Everyone\",\"Everyone\",\"Everyone\",\"Everyone\",\"Everyone\",\"Everyone\",\"Everyone\",\"Everyone\",\"Everyone\",\"Everyone\",\"Everyone\",\"Everyone\",\"Everyone\",\"Everyone\",\"Everyone\",\"Everyone\",\"Everyone\",\"Everyone\",\"Everyone\",\"Everyone\",\"Everyone 10+\",\"Everyone\",\"Everyone\",\"Everyone\",\"Everyone\",\"Everyone\",\"Everyone\",\"Everyone\",\"Everyone\",\"Everyone\",\"Everyone\",\"Everyone\",\"Everyone\",\"Teen\",\"Everyone\",\"Everyone\",\"Everyone\",\"Everyone\",\"Everyone\",\"Everyone\",\"Everyone\",\"Teen\",\"Everyone\",\"Everyone\",\"Everyone\",\"Everyone\",\"Everyone\",\"Everyone\",\"Everyone\",\"Everyone\",\"Everyone\",\"Everyone\",\"Everyone\",\"Everyone\",\"Everyone\",\"Teen\",\"Mature 17+\",\"Everyone\",\"Everyone\",\"Mature 17+\",\"Everyone 10+\",\"Everyone 10+\",\"Everyone 10+\",\"Teen\",\"Everyone\",\"Everyone\",\"Teen\",\"Everyone 10+\",\"Everyone\",\"Everyone\",\"Everyone\",\"Everyone\",\"Everyone 10+\",\"Teen\",\"Everyone\",\"Everyone\",\"Everyone\",\"Everyone\",\"Everyone\",\"Everyone\",\"Everyone\",\"Teen\",\"Everyone\",\"Teen\",\"Everyone\",\"Everyone\",\"Everyone\",\"Everyone\",\"Everyone\",\"Everyone\",\"Everyone\",\"Everyone\",\"Everyone\",\"Everyone\",\"Everyone\",\"Everyone\",\"Everyone\",\"Everyone\",\"Everyone\",\"Everyone\",\"Everyone\",\"Everyone 10+\",\"Everyone\",\"Everyone\",\"Everyone\",\"Everyone\",\"Everyone\",\"Everyone\",\"Teen\",\"Everyone\",\"Everyone\",\"Everyone\",\"Everyone 10+\",\"Everyone\",\"Everyone\",\"Everyone\",\"Everyone\",\"Everyone 10+\",\"Everyone\",\"Everyone\",\"Everyone\",\"Everyone\",\"Teen\",\"Everyone\",\"Everyone\",\"Everyone\",\"Everyone\",\"Everyone\",\"Everyone\",\"Everyone\",\"Everyone\",\"Everyone\",\"Everyone\",\"Everyone\",\"Everyone\",\"Everyone\",\"Everyone\",\"Everyone\",\"Everyone\",\"Everyone\",\"Everyone\",\"Everyone\",\"Everyone\",\"Everyone\",\"Everyone\",\"Everyone\",\"Everyone\",\"Teen\",\"Everyone\",\"Teen\",\"Everyone\",\"Everyone\",\"Everyone\",\"Everyone\",\"Everyone\",\"Teen\",\"Everyone\",\"Teen\",\"Everyone\",\"Everyone\",\"Everyone\",\"Everyone\",\"Everyone\",\"Everyone\",\"Everyone\",\"Everyone\",\"Everyone\",\"Everyone\",\"Everyone\",\"Teen\",\"Everyone\",\"Everyone\",\"Everyone 10+\",\"Everyone\",\"Everyone\",\"Everyone\",\"Everyone\",\"Everyone\",\"Everyone\",\"Everyone\",\"Everyone\",\"Everyone\",\"Everyone\",\"Everyone\",\"Everyone\",\"Everyone\",\"Everyone\",\"Everyone\",\"Everyone\",\"Everyone\",\"Everyone\",\"Teen\",\"Everyone\",\"Everyone\",\"Everyone\",\"Everyone\",\"Everyone\",\"Everyone\",\"Everyone\",\"Everyone\",\"Everyone\",\"Everyone\",\"Everyone\",\"Everyone\",\"Everyone\",\"Everyone\",\"Everyone\",\"Everyone\",\"Everyone\",\"Everyone\",\"Everyone\",\"Everyone\",\"Everyone\",\"Everyone\",\"Mature 17+\",\"Everyone\",\"Everyone\",\"Everyone\",\"Teen\",\"Everyone\",\"Everyone\",\"Everyone\",\"Teen\",\"Everyone\",\"Teen\",\"Everyone\",\"Everyone\",\"Everyone\",\"Everyone\",\"Everyone\",\"Teen\",\"Everyone\",\"Everyone\",\"Everyone\",\"Everyone\",\"Everyone\",\"Everyone 10+\",\"Teen\",\"Teen\",\"Teen\",\"Everyone\",\"Teen\",\"Everyone\",\"Teen\",\"Teen\",\"Teen\",\"Everyone\",\"Everyone\",\"Everyone\",\"Everyone\",\"Teen\",\"Everyone\",\"Everyone\",\"Teen\",\"Everyone\",\"Everyone\",\"Everyone\",\"Teen\",\"Teen\",\"Everyone\",\"Everyone\",\"Everyone\",\"Everyone\",\"Everyone\",\"Everyone\",\"Everyone\",\"Teen\",\"Everyone\",\"Teen\",\"Teen\",\"Teen\",\"Everyone\",\"Mature 17+\",\"Teen\",\"Everyone\",\"Everyone\",\"Everyone\",\"Everyone\",\"Everyone\",\"Everyone\",\"Everyone\",\"Everyone\",\"Everyone\",\"Everyone\",\"Everyone\",\"Everyone\",\"Everyone\",\"Everyone\",\"Teen\",\"Everyone\",\"Everyone\",\"Everyone\",\"Everyone\",\"Everyone\",\"Everyone\",\"Everyone\",\"Everyone\",\"Everyone\",\"Everyone\",\"Everyone\",\"Everyone\",\"Everyone\",\"Everyone\",\"Everyone\",\"Teen\",\"Everyone\",\"Everyone\",\"Everyone\",\"Everyone\",\"Teen\",\"Everyone\",\"Everyone\",\"Everyone\",\"Teen\",\"Everyone\",\"Everyone\",\"Everyone\",\"Everyone\",\"Everyone\",\"Everyone\",\"Everyone\",\"Everyone\",\"Everyone\",\"Everyone\",\"Everyone\",\"Teen\",\"Everyone\",\"Everyone\",\"Everyone\",\"Everyone\",\"Everyone\",\"Everyone\",\"Everyone\",\"Everyone 10+\",\"Everyone\",\"Everyone\",\"Everyone\",\"Everyone\",\"Everyone\",\"Everyone\",\"Everyone\",\"Everyone\",\"Everyone\",\"Everyone\",\"Everyone\",\"Everyone\",\"Everyone\",\"Everyone\",\"Everyone\",\"Everyone\",\"Everyone\",\"Everyone\",\"Everyone\",\"Teen\",\"Everyone\",\"Teen\",\"Everyone\",\"Everyone\",\"Everyone\",\"Everyone\",\"Everyone\",\"Everyone\",\"Everyone\",\"Everyone\",\"Everyone\",\"Everyone\",\"Everyone\",\"Everyone\",\"Everyone\",\"Everyone\",\"Everyone\",\"Everyone\",\"Everyone\",\"Everyone\",\"Everyone\",\"Everyone\",\"Everyone\",\"Everyone\",\"Everyone\",\"Everyone\",\"Everyone\",\"Everyone\",\"Everyone\",\"Everyone\",\"Everyone\",\"Everyone\",\"Everyone\",\"Everyone\",\"Everyone\",\"Everyone\",\"Everyone 10+\",\"Everyone\",\"Everyone\",\"Everyone\",\"Everyone\",\"Everyone\",\"Teen\",\"Everyone\",\"Everyone\",\"Teen\",\"Everyone\",\"Everyone\",\"Everyone\",\"Everyone\",\"Teen\",\"Everyone\",\"Mature 17+\",\"Everyone\",\"Everyone 10+\",\"Everyone\",\"Everyone 10+\",\"Everyone\",\"Everyone\",\"Everyone\",\"Everyone\",\"Everyone 10+\",\"Everyone 10+\",\"Mature 17+\",\"Mature 17+\",\"Everyone\",\"Everyone\",\"Everyone\",\"Everyone\",\"Teen\",\"Everyone\",\"Teen\",\"Teen\",\"Everyone\",\"Everyone\",\"Mature 17+\",\"Teen\",\"Everyone\",\"Teen\",\"Everyone\",\"Everyone\",\"Teen\",\"Everyone\",\"Teen\",\"Teen\",\"Teen\",\"Teen\",\"Teen\",\"Teen\",\"Everyone\",\"Everyone\",\"Everyone\",\"Everyone\",\"Teen\",\"Teen\",\"Teen\",\"Everyone\",\"Everyone\",\"Everyone\",\"Everyone 10+\",\"Teen\",\"Teen\",\"Teen\",\"Teen\",\"Everyone\",\"Everyone\",\"Everyone\",\"Everyone\",\"Everyone\",\"Everyone\",\"Teen\",\"Teen\",\"Everyone\",\"Everyone\",\"Everyone\",\"Everyone\",\"Teen\",\"Everyone\",\"Everyone\",\"Everyone\",\"Teen\",\"Everyone\",\"Everyone\",\"Everyone\",\"Everyone\",\"Everyone\",\"Everyone\",\"Everyone\",\"Everyone\",\"Everyone\",\"Everyone\",\"Everyone\",\"Everyone\",\"Everyone\",\"Everyone\",\"Everyone\",\"Everyone\",\"Everyone\",\"Everyone\",\"Everyone\",\"Everyone\",\"Everyone\",\"Everyone\",\"Everyone\",\"Everyone\",\"Everyone\",\"Everyone\",\"Everyone\",\"Everyone\",\"Everyone\",\"Everyone\",\"Everyone\",\"Everyone\",\"Everyone\",\"Everyone\",\"Everyone\",\"Everyone\",\"Everyone\",\"Everyone\",\"Everyone\",\"Everyone\",\"Teen\",\"Teen\",\"Everyone\",\"Everyone\",\"Everyone\",\"Everyone\",\"Everyone\",\"Teen\",\"Everyone\",\"Everyone\",\"Everyone\",\"Teen\",\"Teen\",\"Teen\",\"Teen\",\"Everyone\",\"Teen\",\"Teen\",\"Teen\",\"Everyone\",\"Teen\",\"Everyone\",\"Everyone\",\"Mature 17+\",\"Everyone\",\"Everyone\",\"Everyone\",\"Everyone\",\"Mature 17+\",\"Everyone\",\"Everyone\",\"Teen\",\"Everyone\",\"Everyone\",\"Teen\",\"Everyone\",\"Everyone\",\"Teen\",\"Everyone\",\"Everyone\",\"Everyone\",\"Everyone\",\"Everyone\",\"Everyone\",\"Everyone\",\"Everyone\",\"Everyone\",\"Everyone\",\"Everyone\",\"Everyone\",\"Everyone\",\"Everyone\",\"Everyone\",\"Everyone\",\"Everyone\",\"Everyone\",\"Everyone\",\"Everyone\",\"Everyone\",\"Everyone\",\"Everyone\",\"Everyone\",\"Everyone\",\"Everyone\",\"Everyone\",\"Everyone\",\"Everyone\",\"Everyone\",\"Everyone\",\"Teen\",\"Everyone\",\"Everyone\",\"Everyone\",\"Everyone\",\"Everyone\",\"Everyone\",\"Everyone\",\"Everyone\",\"Everyone\",\"Everyone\",\"Everyone\",\"Everyone\",\"Everyone\",\"Everyone\",\"Everyone\",\"Everyone\",\"Everyone\",\"Everyone\",\"Teen\",\"Everyone\",\"Teen\",\"Everyone\",\"Everyone\",\"Everyone\",\"Teen\",\"Everyone\",\"Everyone\",\"Everyone\",\"Everyone\",\"Everyone\",\"Everyone\",\"Everyone\",\"Everyone\",\"Teen\",\"Everyone\",\"Everyone\",\"Everyone\",\"Everyone\",\"Everyone\",\"Teen\",\"Everyone\",\"Everyone\",\"Everyone\",\"Teen\",\"Everyone\",\"Everyone\",\"Everyone\",\"Everyone\",\"Everyone\",\"Everyone\",\"Everyone\",\"Everyone\",\"Everyone\",\"Everyone\",\"Everyone\",\"Everyone\",\"Everyone\",\"Everyone\",\"Everyone\",\"Everyone\",\"Everyone\",\"Everyone\",\"Teen\",\"Everyone\",\"Mature 17+\",\"Everyone\",\"Everyone\",\"Everyone\",\"Everyone\",\"Everyone\",\"Everyone\",\"Everyone\",\"Everyone\",\"Everyone\",\"Everyone\",\"Everyone\",\"Everyone\",\"Everyone\",\"Everyone\",\"Everyone\",\"Everyone\",\"Everyone\",\"Teen\",\"Everyone\",\"Everyone\",\"Everyone 10+\",\"Everyone\",\"Everyone\",\"Everyone\",\"Everyone\",\"Everyone\",\"Everyone\",\"Everyone\",\"Everyone\",\"Everyone\",\"Everyone\",\"Teen\",\"Teen\",\"Teen\",\"Teen\",\"Teen\",\"Teen\",\"Teen\",\"Everyone\",\"Teen\",\"Everyone\",\"Everyone\",\"Everyone\",\"Everyone\",\"Everyone\",\"Everyone\",\"Everyone\",\"Everyone\",\"Everyone\",\"Everyone\",\"Teen\",\"Everyone\",\"Teen\",\"Everyone\",\"Everyone\",\"Everyone\",\"Everyone\",\"Everyone\",\"Everyone\",\"Everyone\",\"Everyone\",\"Everyone\",\"Teen\",\"Teen\",\"Everyone\",\"Teen\",\"Teen\",\"Everyone\",\"Everyone\",\"Everyone\",\"Everyone\",\"Everyone\",\"Everyone\",\"Everyone\",\"Everyone\",\"Everyone\",\"Everyone\",\"Everyone\",\"Everyone\",\"Everyone\",\"Mature 17+\",\"Everyone\",\"Everyone\",\"Everyone\",\"Everyone\",\"Everyone\",\"Everyone\",\"Everyone\",\"Everyone\",\"Everyone\",\"Everyone\",\"Everyone\",\"Everyone\",\"Mature 17+\",\"Everyone\",\"Mature 17+\",\"Everyone\",\"Everyone\",\"Everyone\",\"Everyone\",\"Everyone\",\"Everyone\",\"Everyone\",\"Everyone\",\"Everyone\",\"Everyone\",\"Everyone\",\"Everyone\",\"Everyone\",\"Everyone\",\"Teen\",\"Mature 17+\",\"Everyone\",\"Everyone\",\"Everyone\",\"Everyone\",\"Everyone\",\"Everyone\",\"Everyone\",\"Everyone\",\"Everyone\",\"Everyone\",\"Everyone\",\"Everyone\",\"Teen\",\"Everyone\",\"Everyone\",\"Everyone\",\"Everyone\",\"Everyone\",\"Everyone\",\"Everyone\",\"Everyone\",\"Everyone\",\"Everyone\",\"Everyone\",\"Everyone\",\"Everyone\",\"Everyone\",\"Everyone\",\"Mature 17+\",\"Everyone\",\"Everyone\",\"Everyone\",\"Teen\",\"Everyone\",\"Everyone\",\"Everyone\",\"Everyone\",\"Everyone\",\"Everyone\",\"Everyone\",\"Everyone\",\"Everyone 10+\",\"Everyone\",\"Teen\",\"Teen\",\"Mature 17+\",\"Everyone 10+\",\"Everyone\",\"Everyone\",\"Teen\",\"Everyone\",\"Everyone 10+\",\"Everyone\",\"Everyone\",\"Everyone\",\"Teen\",\"Everyone\",\"Everyone\",\"Everyone\",\"Everyone\",\"Everyone\",\"Everyone\",\"Everyone\",\"Everyone\",\"Teen\",\"Teen\",\"Teen\",\"Everyone\",\"Everyone\",\"Everyone\",\"Everyone\",\"Everyone\",\"Everyone\",\"Everyone\",\"Everyone\",\"Everyone\",\"Teen\",\"Everyone\",\"Everyone\",\"Everyone\",\"Everyone\",\"Teen\",\"Teen\",\"Everyone\",\"Everyone\",\"Everyone\",\"Everyone\",\"Teen\",\"Mature 17+\",\"Everyone\",\"Everyone\",\"Everyone\",\"Everyone\",\"Everyone\",\"Everyone\",\"Everyone\",\"Everyone\",\"Everyone\",\"Everyone\",\"Everyone\",\"Everyone\",\"Mature 17+\",\"Everyone\"],\"legendgroup\":\"\",\"marker\":{\"colors\":[\"#636efa\",\"#636efa\",\"#636efa\",\"#EF553B\",\"#636efa\",\"#636efa\",\"#636efa\",\"#636efa\",\"#636efa\",\"#636efa\",\"#636efa\",\"#636efa\",\"#EF553B\",\"#636efa\",\"#636efa\",\"#636efa\",\"#636efa\",\"#636efa\",\"#636efa\",\"#636efa\",\"#636efa\",\"#00cc96\",\"#636efa\",\"#636efa\",\"#636efa\",\"#636efa\",\"#636efa\",\"#636efa\",\"#636efa\",\"#636efa\",\"#636efa\",\"#636efa\",\"#636efa\",\"#EF553B\",\"#636efa\",\"#636efa\",\"#636efa\",\"#636efa\",\"#636efa\",\"#636efa\",\"#636efa\",\"#636efa\",\"#636efa\",\"#636efa\",\"#636efa\",\"#636efa\",\"#636efa\",\"#636efa\",\"#636efa\",\"#636efa\",\"#636efa\",\"#636efa\",\"#636efa\",\"#636efa\",\"#636efa\",\"#636efa\",\"#636efa\",\"#636efa\",\"#636efa\",\"#636efa\",\"#636efa\",\"#636efa\",\"#636efa\",\"#636efa\",\"#636efa\",\"#636efa\",\"#636efa\",\"#636efa\",\"#636efa\",\"#636efa\",\"#636efa\",\"#EF553B\",\"#636efa\",\"#636efa\",\"#636efa\",\"#636efa\",\"#00cc96\",\"#636efa\",\"#636efa\",\"#636efa\",\"#636efa\",\"#636efa\",\"#636efa\",\"#636efa\",\"#636efa\",\"#636efa\",\"#636efa\",\"#636efa\",\"#636efa\",\"#636efa\",\"#636efa\",\"#636efa\",\"#636efa\",\"#636efa\",\"#636efa\",\"#636efa\",\"#636efa\",\"#636efa\",\"#636efa\",\"#636efa\",\"#636efa\",\"#636efa\",\"#636efa\",\"#636efa\",\"#636efa\",\"#636efa\",\"#636efa\",\"#636efa\",\"#636efa\",\"#636efa\",\"#636efa\",\"#EF553B\",\"#00cc96\",\"#636efa\",\"#636efa\",\"#636efa\",\"#636efa\",\"#636efa\",\"#636efa\",\"#636efa\",\"#636efa\",\"#636efa\",\"#636efa\",\"#636efa\",\"#636efa\",\"#EF553B\",\"#636efa\",\"#636efa\",\"#ab63fa\",\"#00cc96\",\"#636efa\",\"#636efa\",\"#ab63fa\",\"#ab63fa\",\"#636efa\",\"#636efa\",\"#636efa\",\"#636efa\",\"#EF553B\",\"#636efa\",\"#00cc96\",\"#636efa\",\"#EF553B\",\"#636efa\",\"#636efa\",\"#EF553B\",\"#636efa\",\"#EF553B\",\"#636efa\",\"#636efa\",\"#EF553B\",\"#EF553B\",\"#636efa\",\"#636efa\",\"#636efa\",\"#636efa\",\"#EF553B\",\"#636efa\",\"#636efa\",\"#636efa\",\"#636efa\",\"#636efa\",\"#636efa\",\"#636efa\",\"#EF553B\",\"#ab63fa\",\"#636efa\",\"#636efa\",\"#636efa\",\"#ab63fa\",\"#636efa\",\"#636efa\",\"#636efa\",\"#636efa\",\"#636efa\",\"#636efa\",\"#636efa\",\"#636efa\",\"#636efa\",\"#636efa\",\"#636efa\",\"#636efa\",\"#636efa\",\"#636efa\",\"#636efa\",\"#00cc96\",\"#636efa\",\"#636efa\",\"#636efa\",\"#636efa\",\"#636efa\",\"#636efa\",\"#636efa\",\"#636efa\",\"#636efa\",\"#636efa\",\"#636efa\",\"#636efa\",\"#636efa\",\"#636efa\",\"#636efa\",\"#636efa\",\"#636efa\",\"#636efa\",\"#636efa\",\"#636efa\",\"#636efa\",\"#636efa\",\"#636efa\",\"#636efa\",\"#636efa\",\"#636efa\",\"#636efa\",\"#636efa\",\"#636efa\",\"#636efa\",\"#636efa\",\"#636efa\",\"#636efa\",\"#636efa\",\"#636efa\",\"#636efa\",\"#636efa\",\"#636efa\",\"#636efa\",\"#636efa\",\"#636efa\",\"#636efa\",\"#636efa\",\"#636efa\",\"#636efa\",\"#636efa\",\"#636efa\",\"#636efa\",\"#636efa\",\"#636efa\",\"#636efa\",\"#636efa\",\"#636efa\",\"#636efa\",\"#636efa\",\"#636efa\",\"#636efa\",\"#636efa\",\"#636efa\",\"#636efa\",\"#636efa\",\"#636efa\",\"#636efa\",\"#636efa\",\"#636efa\",\"#636efa\",\"#636efa\",\"#636efa\",\"#636efa\",\"#636efa\",\"#636efa\",\"#636efa\",\"#636efa\",\"#636efa\",\"#EF553B\",\"#FFA15A\",\"#EF553B\",\"#636efa\",\"#636efa\",\"#ab63fa\",\"#ab63fa\",\"#EF553B\",\"#EF553B\",\"#636efa\",\"#636efa\",\"#00cc96\",\"#636efa\",\"#EF553B\",\"#EF553B\",\"#ab63fa\",\"#ab63fa\",\"#636efa\",\"#EF553B\",\"#EF553B\",\"#EF553B\",\"#EF553B\",\"#636efa\",\"#636efa\",\"#636efa\",\"#636efa\",\"#EF553B\",\"#ab63fa\",\"#EF553B\",\"#00cc96\",\"#ab63fa\",\"#636efa\",\"#636efa\",\"#636efa\",\"#EF553B\",\"#636efa\",\"#636efa\",\"#636efa\",\"#636efa\",\"#636efa\",\"#EF553B\",\"#636efa\",\"#636efa\",\"#636efa\",\"#636efa\",\"#636efa\",\"#636efa\",\"#636efa\",\"#636efa\",\"#636efa\",\"#636efa\",\"#636efa\",\"#636efa\",\"#636efa\",\"#636efa\",\"#636efa\",\"#636efa\",\"#636efa\",\"#636efa\",\"#636efa\",\"#636efa\",\"#636efa\",\"#636efa\",\"#636efa\",\"#636efa\",\"#ab63fa\",\"#EF553B\",\"#636efa\",\"#636efa\",\"#EF553B\",\"#636efa\",\"#636efa\",\"#636efa\",\"#ab63fa\",\"#636efa\",\"#636efa\",\"#636efa\",\"#636efa\",\"#636efa\",\"#636efa\",\"#EF553B\",\"#EF553B\",\"#636efa\",\"#636efa\",\"#636efa\",\"#636efa\",\"#636efa\",\"#636efa\",\"#636efa\",\"#636efa\",\"#636efa\",\"#636efa\",\"#636efa\",\"#636efa\",\"#636efa\",\"#636efa\",\"#636efa\",\"#636efa\",\"#636efa\",\"#636efa\",\"#636efa\",\"#636efa\",\"#636efa\",\"#636efa\",\"#636efa\",\"#636efa\",\"#636efa\",\"#636efa\",\"#636efa\",\"#636efa\",\"#636efa\",\"#636efa\",\"#636efa\",\"#636efa\",\"#636efa\",\"#636efa\",\"#636efa\",\"#ab63fa\",\"#ab63fa\",\"#636efa\",\"#636efa\",\"#636efa\",\"#636efa\",\"#636efa\",\"#636efa\",\"#636efa\",\"#636efa\",\"#636efa\",\"#636efa\",\"#636efa\",\"#636efa\",\"#636efa\",\"#636efa\",\"#636efa\",\"#636efa\",\"#636efa\",\"#636efa\",\"#636efa\",\"#636efa\",\"#636efa\",\"#636efa\",\"#636efa\",\"#636efa\",\"#636efa\",\"#636efa\",\"#ab63fa\",\"#636efa\",\"#EF553B\",\"#636efa\",\"#EF553B\",\"#ab63fa\",\"#ab63fa\",\"#ab63fa\",\"#ab63fa\",\"#ab63fa\",\"#ab63fa\",\"#ab63fa\",\"#ab63fa\",\"#ab63fa\",\"#ab63fa\",\"#ab63fa\",\"#ab63fa\",\"#ab63fa\",\"#ab63fa\",\"#ab63fa\",\"#ab63fa\",\"#ab63fa\",\"#ab63fa\",\"#ab63fa\",\"#ab63fa\",\"#ab63fa\",\"#ab63fa\",\"#ab63fa\",\"#ab63fa\",\"#ab63fa\",\"#ab63fa\",\"#ab63fa\",\"#ab63fa\",\"#ab63fa\",\"#ab63fa\",\"#ab63fa\",\"#ab63fa\",\"#ab63fa\",\"#ab63fa\",\"#ab63fa\",\"#ab63fa\",\"#ab63fa\",\"#ab63fa\",\"#ab63fa\",\"#ab63fa\",\"#ab63fa\",\"#ab63fa\",\"#ab63fa\",\"#636efa\",\"#ab63fa\",\"#ab63fa\",\"#ab63fa\",\"#EF553B\",\"#ab63fa\",\"#ab63fa\",\"#ab63fa\",\"#ab63fa\",\"#ab63fa\",\"#ab63fa\",\"#ab63fa\",\"#ab63fa\",\"#ab63fa\",\"#ab63fa\",\"#ab63fa\",\"#ab63fa\",\"#ab63fa\",\"#ab63fa\",\"#ab63fa\",\"#ab63fa\",\"#EF553B\",\"#ab63fa\",\"#ab63fa\",\"#ab63fa\",\"#ab63fa\",\"#ab63fa\",\"#ab63fa\",\"#ab63fa\",\"#ab63fa\",\"#ab63fa\",\"#ab63fa\",\"#ab63fa\",\"#ab63fa\",\"#ab63fa\",\"#ab63fa\",\"#ab63fa\",\"#ab63fa\",\"#ab63fa\",\"#ab63fa\",\"#ab63fa\",\"#ab63fa\",\"#ab63fa\",\"#ab63fa\",\"#ab63fa\",\"#ab63fa\",\"#ab63fa\",\"#ab63fa\",\"#636efa\",\"#ab63fa\",\"#636efa\",\"#ab63fa\",\"#ab63fa\",\"#ab63fa\",\"#ab63fa\",\"#ab63fa\",\"#ab63fa\",\"#ab63fa\",\"#ab63fa\",\"#ab63fa\",\"#ab63fa\",\"#ab63fa\",\"#ab63fa\",\"#ab63fa\",\"#ab63fa\",\"#EF553B\",\"#ab63fa\",\"#ab63fa\",\"#ab63fa\",\"#ab63fa\",\"#ab63fa\",\"#636efa\",\"#ab63fa\",\"#636efa\",\"#ab63fa\",\"#ab63fa\",\"#ab63fa\",\"#ab63fa\",\"#EF553B\",\"#ab63fa\",\"#636efa\",\"#ab63fa\",\"#EF553B\",\"#636efa\",\"#636efa\",\"#ab63fa\",\"#ab63fa\",\"#ab63fa\",\"#636efa\",\"#EF553B\",\"#ab63fa\",\"#ab63fa\",\"#ab63fa\",\"#EF553B\",\"#636efa\",\"#ab63fa\",\"#ab63fa\",\"#ab63fa\",\"#636efa\",\"#ab63fa\",\"#ab63fa\",\"#ab63fa\",\"#ab63fa\",\"#ab63fa\",\"#636efa\",\"#636efa\",\"#ab63fa\",\"#ab63fa\",\"#ab63fa\",\"#ab63fa\",\"#ab63fa\",\"#ab63fa\",\"#ab63fa\",\"#ab63fa\",\"#ab63fa\",\"#ab63fa\",\"#ab63fa\",\"#ab63fa\",\"#636efa\",\"#00cc96\",\"#636efa\",\"#636efa\",\"#636efa\",\"#636efa\",\"#636efa\",\"#636efa\",\"#636efa\",\"#636efa\",\"#636efa\",\"#636efa\",\"#636efa\",\"#636efa\",\"#636efa\",\"#636efa\",\"#636efa\",\"#636efa\",\"#636efa\",\"#636efa\",\"#636efa\",\"#636efa\",\"#ab63fa\",\"#636efa\",\"#636efa\",\"#ab63fa\",\"#ab63fa\",\"#636efa\",\"#636efa\",\"#636efa\",\"#636efa\",\"#636efa\",\"#636efa\",\"#636efa\",\"#636efa\",\"#636efa\",\"#636efa\",\"#636efa\",\"#636efa\",\"#636efa\",\"#636efa\",\"#636efa\",\"#00cc96\",\"#636efa\",\"#636efa\",\"#636efa\",\"#636efa\",\"#636efa\",\"#636efa\",\"#636efa\",\"#636efa\",\"#636efa\",\"#636efa\",\"#636efa\",\"#636efa\",\"#636efa\",\"#636efa\",\"#636efa\",\"#636efa\",\"#636efa\",\"#636efa\",\"#636efa\",\"#636efa\",\"#636efa\",\"#636efa\",\"#636efa\",\"#636efa\",\"#636efa\",\"#636efa\",\"#636efa\",\"#636efa\",\"#636efa\",\"#636efa\",\"#636efa\",\"#636efa\",\"#636efa\",\"#636efa\",\"#636efa\",\"#636efa\",\"#636efa\",\"#636efa\",\"#636efa\",\"#636efa\",\"#636efa\",\"#636efa\",\"#636efa\",\"#636efa\",\"#636efa\",\"#636efa\",\"#00cc96\",\"#636efa\",\"#636efa\",\"#636efa\",\"#636efa\",\"#636efa\",\"#636efa\",\"#636efa\",\"#636efa\",\"#636efa\",\"#636efa\",\"#636efa\",\"#636efa\",\"#636efa\",\"#636efa\",\"#636efa\",\"#636efa\",\"#636efa\",\"#636efa\",\"#636efa\",\"#636efa\",\"#636efa\",\"#636efa\",\"#EF553B\",\"#636efa\",\"#636efa\",\"#636efa\",\"#636efa\",\"#636efa\",\"#636efa\",\"#EF553B\",\"#636efa\",\"#EF553B\",\"#EF553B\",\"#636efa\",\"#636efa\",\"#636efa\",\"#636efa\",\"#636efa\",\"#EF553B\",\"#EF553B\",\"#EF553B\",\"#EF553B\",\"#636efa\",\"#EF553B\",\"#636efa\",\"#636efa\",\"#ab63fa\",\"#636efa\",\"#636efa\",\"#EF553B\",\"#EF553B\",\"#636efa\",\"#EF553B\",\"#636efa\",\"#636efa\",\"#636efa\",\"#636efa\",\"#636efa\",\"#636efa\",\"#636efa\",\"#EF553B\",\"#636efa\",\"#EF553B\",\"#EF553B\",\"#EF553B\",\"#EF553B\",\"#636efa\",\"#636efa\",\"#EF553B\",\"#EF553B\",\"#EF553B\",\"#636efa\",\"#EF553B\",\"#636efa\",\"#636efa\",\"#636efa\",\"#EF553B\",\"#EF553B\",\"#EF553B\",\"#EF553B\",\"#EF553B\",\"#EF553B\",\"#EF553B\",\"#EF553B\",\"#EF553B\",\"#ab63fa\",\"#636efa\",\"#EF553B\",\"#00cc96\",\"#EF553B\",\"#EF553B\",\"#EF553B\",\"#EF553B\",\"#EF553B\",\"#EF553B\",\"#EF553B\",\"#EF553B\",\"#EF553B\",\"#EF553B\",\"#ab63fa\",\"#EF553B\",\"#EF553B\",\"#EF553B\",\"#EF553B\",\"#636efa\",\"#EF553B\",\"#00cc96\",\"#EF553B\",\"#EF553B\",\"#636efa\",\"#ab63fa\",\"#EF553B\",\"#EF553B\",\"#EF553B\",\"#636efa\",\"#EF553B\",\"#636efa\",\"#EF553B\",\"#636efa\",\"#EF553B\",\"#636efa\",\"#636efa\",\"#636efa\",\"#EF553B\",\"#EF553B\",\"#EF553B\",\"#ab63fa\",\"#EF553B\",\"#ab63fa\",\"#636efa\",\"#636efa\",\"#636efa\",\"#636efa\",\"#636efa\",\"#636efa\",\"#636efa\",\"#EF553B\",\"#636efa\",\"#636efa\",\"#636efa\",\"#636efa\",\"#636efa\",\"#636efa\",\"#636efa\",\"#636efa\",\"#636efa\",\"#EF553B\",\"#636efa\",\"#636efa\",\"#EF553B\",\"#636efa\",\"#00cc96\",\"#636efa\",\"#00cc96\",\"#636efa\",\"#636efa\",\"#636efa\",\"#636efa\",\"#636efa\",\"#636efa\",\"#636efa\",\"#636efa\",\"#EF553B\",\"#00cc96\",\"#636efa\",\"#636efa\",\"#636efa\",\"#636efa\",\"#636efa\",\"#636efa\",\"#636efa\",\"#636efa\",\"#636efa\",\"#636efa\",\"#EF553B\",\"#636efa\",\"#636efa\",\"#636efa\",\"#636efa\",\"#636efa\",\"#636efa\",\"#636efa\",\"#636efa\",\"#636efa\",\"#636efa\",\"#636efa\",\"#636efa\",\"#636efa\",\"#636efa\",\"#636efa\",\"#636efa\",\"#636efa\",\"#636efa\",\"#636efa\",\"#636efa\",\"#636efa\",\"#636efa\",\"#636efa\",\"#636efa\",\"#636efa\",\"#636efa\",\"#636efa\",\"#636efa\",\"#636efa\",\"#636efa\",\"#636efa\",\"#636efa\",\"#636efa\",\"#636efa\",\"#636efa\",\"#636efa\",\"#636efa\",\"#636efa\",\"#636efa\",\"#636efa\",\"#636efa\",\"#636efa\",\"#636efa\",\"#636efa\",\"#636efa\",\"#636efa\",\"#636efa\",\"#636efa\",\"#636efa\",\"#636efa\",\"#636efa\",\"#636efa\",\"#636efa\",\"#636efa\",\"#636efa\",\"#636efa\",\"#636efa\",\"#636efa\",\"#636efa\",\"#636efa\",\"#636efa\",\"#636efa\",\"#636efa\",\"#636efa\",\"#636efa\",\"#636efa\",\"#636efa\",\"#636efa\",\"#636efa\",\"#636efa\",\"#636efa\",\"#636efa\",\"#636efa\",\"#636efa\",\"#636efa\",\"#636efa\",\"#636efa\",\"#636efa\",\"#636efa\",\"#636efa\",\"#636efa\",\"#636efa\",\"#636efa\",\"#636efa\",\"#636efa\",\"#636efa\",\"#636efa\",\"#636efa\",\"#636efa\",\"#636efa\",\"#636efa\",\"#636efa\",\"#636efa\",\"#636efa\",\"#636efa\",\"#636efa\",\"#636efa\",\"#636efa\",\"#636efa\",\"#636efa\",\"#636efa\",\"#636efa\",\"#636efa\",\"#636efa\",\"#636efa\",\"#636efa\",\"#636efa\",\"#636efa\",\"#636efa\",\"#636efa\",\"#636efa\",\"#636efa\",\"#636efa\",\"#636efa\",\"#636efa\",\"#636efa\",\"#636efa\",\"#636efa\",\"#636efa\",\"#636efa\",\"#636efa\",\"#EF553B\",\"#636efa\",\"#636efa\",\"#636efa\",\"#636efa\",\"#636efa\",\"#636efa\",\"#636efa\",\"#636efa\",\"#636efa\",\"#636efa\",\"#636efa\",\"#636efa\",\"#636efa\",\"#636efa\",\"#636efa\",\"#00cc96\",\"#636efa\",\"#636efa\",\"#636efa\",\"#636efa\",\"#636efa\",\"#636efa\",\"#636efa\",\"#636efa\",\"#636efa\",\"#636efa\",\"#636efa\",\"#636efa\",\"#636efa\",\"#636efa\",\"#636efa\",\"#636efa\",\"#EF553B\",\"#636efa\",\"#636efa\",\"#636efa\",\"#636efa\",\"#EF553B\",\"#636efa\",\"#636efa\",\"#636efa\",\"#00cc96\",\"#636efa\",\"#636efa\",\"#636efa\",\"#636efa\",\"#636efa\",\"#636efa\",\"#636efa\",\"#EF553B\",\"#636efa\",\"#636efa\",\"#636efa\",\"#EF553B\",\"#636efa\",\"#636efa\",\"#636efa\",\"#636efa\",\"#636efa\",\"#636efa\",\"#636efa\",\"#636efa\",\"#636efa\",\"#636efa\",\"#636efa\",\"#636efa\",\"#636efa\",\"#636efa\",\"#636efa\",\"#636efa\",\"#636efa\",\"#636efa\",\"#636efa\",\"#636efa\",\"#636efa\",\"#636efa\",\"#636efa\",\"#636efa\",\"#636efa\",\"#636efa\",\"#636efa\",\"#636efa\",\"#636efa\",\"#636efa\",\"#636efa\",\"#636efa\",\"#636efa\",\"#636efa\",\"#636efa\",\"#636efa\",\"#636efa\",\"#636efa\",\"#636efa\",\"#636efa\",\"#EF553B\",\"#636efa\",\"#636efa\",\"#636efa\",\"#636efa\",\"#636efa\",\"#636efa\",\"#636efa\",\"#636efa\",\"#636efa\",\"#636efa\",\"#636efa\",\"#636efa\",\"#636efa\",\"#636efa\",\"#636efa\",\"#636efa\",\"#ab63fa\",\"#636efa\",\"#EF553B\",\"#636efa\",\"#EF553B\",\"#EF553B\",\"#636efa\",\"#636efa\",\"#636efa\",\"#636efa\",\"#636efa\",\"#636efa\",\"#636efa\",\"#636efa\",\"#EF553B\",\"#636efa\",\"#636efa\",\"#636efa\",\"#636efa\",\"#636efa\",\"#636efa\",\"#636efa\",\"#636efa\",\"#636efa\",\"#636efa\",\"#636efa\",\"#636efa\",\"#636efa\",\"#636efa\",\"#636efa\",\"#636efa\",\"#636efa\",\"#EF553B\",\"#636efa\",\"#636efa\",\"#636efa\",\"#636efa\",\"#636efa\",\"#636efa\",\"#636efa\",\"#636efa\",\"#636efa\",\"#636efa\",\"#636efa\",\"#636efa\",\"#636efa\",\"#636efa\",\"#636efa\",\"#EF553B\",\"#EF553B\",\"#636efa\",\"#636efa\",\"#00cc96\",\"#636efa\",\"#636efa\",\"#636efa\",\"#636efa\",\"#EF553B\",\"#636efa\",\"#636efa\",\"#636efa\",\"#636efa\",\"#636efa\",\"#EF553B\",\"#00cc96\",\"#636efa\",\"#636efa\",\"#636efa\",\"#636efa\",\"#636efa\",\"#636efa\",\"#636efa\",\"#00cc96\",\"#636efa\",\"#636efa\",\"#636efa\",\"#636efa\",\"#636efa\",\"#636efa\",\"#EF553B\",\"#636efa\",\"#636efa\",\"#636efa\",\"#636efa\",\"#636efa\",\"#636efa\",\"#636efa\",\"#636efa\",\"#EF553B\",\"#636efa\",\"#636efa\",\"#636efa\",\"#00cc96\",\"#636efa\",\"#636efa\",\"#EF553B\",\"#636efa\",\"#636efa\",\"#636efa\",\"#636efa\",\"#636efa\",\"#636efa\",\"#636efa\",\"#636efa\",\"#636efa\",\"#636efa\",\"#636efa\",\"#636efa\",\"#636efa\",\"#636efa\",\"#636efa\",\"#636efa\",\"#636efa\",\"#636efa\",\"#636efa\",\"#636efa\",\"#636efa\",\"#636efa\",\"#636efa\",\"#636efa\",\"#636efa\",\"#636efa\",\"#636efa\",\"#636efa\",\"#EF553B\",\"#636efa\",\"#636efa\",\"#636efa\",\"#636efa\",\"#636efa\",\"#636efa\",\"#636efa\",\"#636efa\",\"#636efa\",\"#636efa\",\"#636efa\",\"#EF553B\",\"#636efa\",\"#636efa\",\"#636efa\",\"#636efa\",\"#636efa\",\"#636efa\",\"#636efa\",\"#636efa\",\"#636efa\",\"#636efa\",\"#636efa\",\"#636efa\",\"#636efa\",\"#636efa\",\"#636efa\",\"#636efa\",\"#636efa\",\"#636efa\",\"#636efa\",\"#636efa\",\"#636efa\",\"#636efa\",\"#636efa\",\"#636efa\",\"#636efa\",\"#636efa\",\"#636efa\",\"#636efa\",\"#636efa\",\"#636efa\",\"#636efa\",\"#636efa\",\"#636efa\",\"#636efa\",\"#636efa\",\"#636efa\",\"#636efa\",\"#636efa\",\"#636efa\",\"#636efa\",\"#636efa\",\"#636efa\",\"#636efa\",\"#636efa\",\"#636efa\",\"#636efa\",\"#636efa\",\"#636efa\",\"#636efa\",\"#636efa\",\"#636efa\",\"#636efa\",\"#636efa\",\"#636efa\",\"#636efa\",\"#636efa\",\"#636efa\",\"#636efa\",\"#636efa\",\"#636efa\",\"#636efa\",\"#636efa\",\"#636efa\",\"#636efa\",\"#636efa\",\"#636efa\",\"#EF553B\",\"#636efa\",\"#636efa\",\"#636efa\",\"#636efa\",\"#636efa\",\"#636efa\",\"#636efa\",\"#00cc96\",\"#636efa\",\"#636efa\",\"#636efa\",\"#636efa\",\"#636efa\",\"#636efa\",\"#636efa\",\"#636efa\",\"#636efa\",\"#636efa\",\"#636efa\",\"#EF553B\",\"#636efa\",\"#636efa\",\"#636efa\",\"#636efa\",\"#636efa\",\"#636efa\",\"#636efa\",\"#636efa\",\"#636efa\",\"#636efa\",\"#ab63fa\",\"#636efa\",\"#636efa\",\"#636efa\",\"#636efa\",\"#636efa\",\"#EF553B\",\"#636efa\",\"#636efa\",\"#636efa\",\"#636efa\",\"#636efa\",\"#636efa\",\"#636efa\",\"#636efa\",\"#636efa\",\"#EF553B\",\"#636efa\",\"#636efa\",\"#636efa\",\"#636efa\",\"#636efa\",\"#636efa\",\"#636efa\",\"#EF553B\",\"#636efa\",\"#EF553B\",\"#636efa\",\"#636efa\",\"#636efa\",\"#636efa\",\"#636efa\",\"#636efa\",\"#636efa\",\"#636efa\",\"#636efa\",\"#636efa\",\"#636efa\",\"#636efa\",\"#636efa\",\"#636efa\",\"#636efa\",\"#636efa\",\"#636efa\",\"#636efa\",\"#636efa\",\"#636efa\",\"#636efa\",\"#636efa\",\"#EF553B\",\"#00cc96\",\"#00cc96\",\"#636efa\",\"#636efa\",\"#636efa\",\"#636efa\",\"#636efa\",\"#00cc96\",\"#636efa\",\"#636efa\",\"#636efa\",\"#636efa\",\"#636efa\",\"#00cc96\",\"#636efa\",\"#636efa\",\"#ab63fa\",\"#00cc96\",\"#EF553B\",\"#636efa\",\"#636efa\",\"#636efa\",\"#636efa\",\"#636efa\",\"#636efa\",\"#636efa\",\"#EF553B\",\"#636efa\",\"#636efa\",\"#EF553B\",\"#636efa\",\"#636efa\",\"#00cc96\",\"#636efa\",\"#636efa\",\"#636efa\",\"#636efa\",\"#636efa\",\"#636efa\",\"#00cc96\",\"#636efa\",\"#00cc96\",\"#636efa\",\"#636efa\",\"#636efa\",\"#636efa\",\"#ab63fa\",\"#636efa\",\"#636efa\",\"#636efa\",\"#636efa\",\"#636efa\",\"#636efa\",\"#EF553B\",\"#EF553B\",\"#636efa\",\"#636efa\",\"#EF553B\",\"#636efa\",\"#636efa\",\"#636efa\",\"#636efa\",\"#636efa\",\"#636efa\",\"#636efa\",\"#636efa\",\"#636efa\",\"#636efa\",\"#636efa\",\"#EF553B\",\"#636efa\",\"#636efa\",\"#636efa\",\"#EF553B\",\"#EF553B\",\"#636efa\",\"#EF553B\",\"#00cc96\",\"#636efa\",\"#636efa\",\"#636efa\",\"#636efa\",\"#636efa\",\"#636efa\",\"#636efa\",\"#636efa\",\"#636efa\",\"#636efa\",\"#636efa\",\"#636efa\",\"#EF553B\",\"#EF553B\",\"#636efa\",\"#00cc96\",\"#00cc96\",\"#00cc96\",\"#EF553B\",\"#636efa\",\"#636efa\",\"#636efa\",\"#636efa\",\"#636efa\",\"#EF553B\",\"#EF553B\",\"#EF553B\",\"#EF553B\",\"#636efa\",\"#EF553B\",\"#EF553B\",\"#00cc96\",\"#636efa\",\"#636efa\",\"#636efa\",\"#636efa\",\"#EF553B\",\"#636efa\",\"#636efa\",\"#636efa\",\"#636efa\",\"#EF553B\",\"#EF553B\",\"#ab63fa\",\"#636efa\",\"#EF553B\",\"#EF553B\",\"#EF553B\",\"#00cc96\",\"#EF553B\",\"#00cc96\",\"#EF553B\",\"#ab63fa\",\"#EF553B\",\"#EF553B\",\"#636efa\",\"#00cc96\",\"#636efa\",\"#EF553B\",\"#636efa\",\"#636efa\",\"#EF553B\",\"#EF553B\",\"#636efa\",\"#636efa\",\"#EF553B\",\"#EF553B\",\"#636efa\",\"#EF553B\",\"#00cc96\",\"#EF553B\",\"#636efa\",\"#ab63fa\",\"#00cc96\",\"#ab63fa\",\"#EF553B\",\"#636efa\",\"#EF553B\",\"#EF553B\",\"#00cc96\",\"#EF553B\",\"#EF553B\",\"#EF553B\",\"#EF553B\",\"#636efa\",\"#636efa\",\"#636efa\",\"#636efa\",\"#636efa\",\"#636efa\",\"#00cc96\",\"#EF553B\",\"#EF553B\",\"#636efa\",\"#00cc96\",\"#636efa\",\"#EF553B\",\"#ab63fa\",\"#EF553B\",\"#EF553B\",\"#636efa\",\"#00cc96\",\"#EF553B\",\"#EF553B\",\"#636efa\",\"#636efa\",\"#00cc96\",\"#EF553B\",\"#636efa\",\"#00cc96\",\"#00cc96\",\"#EF553B\",\"#636efa\",\"#00cc96\",\"#636efa\",\"#00cc96\",\"#EF553B\",\"#636efa\",\"#ab63fa\",\"#EF553B\",\"#00cc96\",\"#00cc96\",\"#EF553B\",\"#EF553B\",\"#636efa\",\"#636efa\",\"#636efa\",\"#636efa\",\"#636efa\",\"#EF553B\",\"#636efa\",\"#636efa\",\"#636efa\",\"#636efa\",\"#636efa\",\"#EF553B\",\"#636efa\",\"#00cc96\",\"#636efa\",\"#00cc96\",\"#636efa\",\"#636efa\",\"#636efa\",\"#636efa\",\"#636efa\",\"#636efa\",\"#636efa\",\"#636efa\",\"#636efa\",\"#636efa\",\"#636efa\",\"#636efa\",\"#636efa\",\"#636efa\",\"#636efa\",\"#636efa\",\"#636efa\",\"#636efa\",\"#636efa\",\"#636efa\",\"#636efa\",\"#636efa\",\"#636efa\",\"#636efa\",\"#636efa\",\"#636efa\",\"#636efa\",\"#636efa\",\"#636efa\",\"#636efa\",\"#636efa\",\"#636efa\",\"#636efa\",\"#00cc96\",\"#636efa\",\"#636efa\",\"#636efa\",\"#636efa\",\"#636efa\",\"#636efa\",\"#636efa\",\"#636efa\",\"#636efa\",\"#636efa\",\"#636efa\",\"#636efa\",\"#636efa\",\"#636efa\",\"#636efa\",\"#636efa\",\"#00cc96\",\"#636efa\",\"#636efa\",\"#636efa\",\"#636efa\",\"#00cc96\",\"#636efa\",\"#636efa\",\"#636efa\",\"#636efa\",\"#636efa\",\"#636efa\",\"#636efa\",\"#636efa\",\"#636efa\",\"#636efa\",\"#636efa\",\"#636efa\",\"#636efa\",\"#636efa\",\"#636efa\",\"#636efa\",\"#636efa\",\"#636efa\",\"#636efa\",\"#00cc96\",\"#636efa\",\"#636efa\",\"#636efa\",\"#636efa\",\"#636efa\",\"#636efa\",\"#636efa\",\"#636efa\",\"#636efa\",\"#636efa\",\"#636efa\",\"#636efa\",\"#636efa\",\"#636efa\",\"#636efa\",\"#636efa\",\"#636efa\",\"#636efa\",\"#636efa\",\"#636efa\",\"#636efa\",\"#636efa\",\"#636efa\",\"#636efa\",\"#636efa\",\"#00cc96\",\"#636efa\",\"#636efa\",\"#636efa\",\"#636efa\",\"#636efa\",\"#636efa\",\"#636efa\",\"#636efa\",\"#636efa\",\"#636efa\",\"#636efa\",\"#636efa\",\"#636efa\",\"#636efa\",\"#636efa\",\"#636efa\",\"#636efa\",\"#636efa\",\"#636efa\",\"#636efa\",\"#636efa\",\"#636efa\",\"#636efa\",\"#636efa\",\"#636efa\",\"#636efa\",\"#636efa\",\"#636efa\",\"#636efa\",\"#636efa\",\"#636efa\",\"#636efa\",\"#636efa\",\"#636efa\",\"#636efa\",\"#636efa\",\"#636efa\",\"#636efa\",\"#636efa\",\"#636efa\",\"#636efa\",\"#636efa\",\"#636efa\",\"#636efa\",\"#636efa\",\"#636efa\",\"#636efa\",\"#636efa\",\"#636efa\",\"#636efa\",\"#636efa\",\"#636efa\",\"#636efa\",\"#636efa\",\"#636efa\",\"#636efa\",\"#636efa\",\"#636efa\",\"#636efa\",\"#636efa\",\"#636efa\",\"#636efa\",\"#636efa\",\"#636efa\",\"#636efa\",\"#636efa\",\"#636efa\",\"#636efa\",\"#00cc96\",\"#00cc96\",\"#636efa\",\"#636efa\",\"#636efa\",\"#636efa\",\"#636efa\",\"#00cc96\",\"#636efa\",\"#636efa\",\"#636efa\",\"#ab63fa\",\"#636efa\",\"#636efa\",\"#636efa\",\"#636efa\",\"#636efa\",\"#636efa\",\"#636efa\",\"#636efa\",\"#636efa\",\"#636efa\",\"#636efa\",\"#636efa\",\"#636efa\",\"#636efa\",\"#636efa\",\"#EF553B\",\"#636efa\",\"#636efa\",\"#636efa\",\"#636efa\",\"#636efa\",\"#636efa\",\"#636efa\",\"#636efa\",\"#636efa\",\"#636efa\",\"#636efa\",\"#636efa\",\"#636efa\",\"#636efa\",\"#636efa\",\"#636efa\",\"#636efa\",\"#636efa\",\"#636efa\",\"#636efa\",\"#00cc96\",\"#636efa\",\"#636efa\",\"#636efa\",\"#636efa\",\"#636efa\",\"#636efa\",\"#636efa\",\"#636efa\",\"#636efa\",\"#636efa\",\"#636efa\",\"#636efa\",\"#636efa\",\"#636efa\",\"#636efa\",\"#636efa\",\"#636efa\",\"#636efa\",\"#636efa\",\"#636efa\",\"#636efa\",\"#636efa\",\"#636efa\",\"#636efa\",\"#636efa\",\"#636efa\",\"#636efa\",\"#636efa\",\"#636efa\",\"#636efa\",\"#636efa\",\"#636efa\",\"#636efa\",\"#636efa\",\"#636efa\",\"#636efa\",\"#636efa\",\"#636efa\",\"#636efa\",\"#636efa\",\"#636efa\",\"#636efa\",\"#636efa\",\"#636efa\",\"#636efa\",\"#636efa\",\"#636efa\",\"#636efa\",\"#636efa\",\"#636efa\",\"#636efa\",\"#636efa\",\"#636efa\",\"#636efa\",\"#636efa\",\"#636efa\",\"#636efa\",\"#636efa\",\"#636efa\",\"#636efa\",\"#636efa\",\"#636efa\",\"#636efa\",\"#636efa\",\"#636efa\",\"#636efa\",\"#636efa\",\"#636efa\",\"#636efa\",\"#636efa\",\"#636efa\",\"#636efa\",\"#636efa\",\"#636efa\",\"#ab63fa\",\"#00cc96\",\"#636efa\",\"#636efa\",\"#636efa\",\"#636efa\",\"#636efa\",\"#636efa\",\"#636efa\",\"#636efa\",\"#636efa\",\"#636efa\",\"#636efa\",\"#636efa\",\"#636efa\",\"#636efa\",\"#636efa\",\"#636efa\",\"#636efa\",\"#636efa\",\"#636efa\",\"#636efa\",\"#636efa\",\"#636efa\",\"#636efa\",\"#636efa\",\"#636efa\",\"#636efa\",\"#636efa\",\"#636efa\",\"#636efa\",\"#636efa\",\"#636efa\",\"#636efa\",\"#636efa\",\"#636efa\",\"#636efa\",\"#636efa\",\"#636efa\",\"#636efa\",\"#636efa\",\"#636efa\",\"#636efa\",\"#636efa\",\"#636efa\",\"#636efa\",\"#636efa\",\"#636efa\",\"#636efa\",\"#00cc96\",\"#636efa\",\"#636efa\",\"#636efa\",\"#636efa\",\"#636efa\",\"#636efa\",\"#636efa\",\"#636efa\",\"#ab63fa\",\"#636efa\",\"#636efa\",\"#636efa\",\"#636efa\",\"#636efa\",\"#636efa\",\"#636efa\",\"#636efa\",\"#636efa\",\"#636efa\",\"#636efa\",\"#636efa\",\"#636efa\",\"#636efa\",\"#636efa\",\"#636efa\",\"#636efa\",\"#636efa\",\"#636efa\",\"#636efa\",\"#636efa\",\"#636efa\",\"#636efa\",\"#636efa\",\"#636efa\",\"#636efa\",\"#636efa\",\"#636efa\",\"#636efa\",\"#636efa\",\"#636efa\",\"#636efa\",\"#636efa\",\"#636efa\",\"#636efa\",\"#636efa\",\"#636efa\",\"#636efa\",\"#636efa\",\"#636efa\",\"#636efa\",\"#636efa\",\"#636efa\",\"#636efa\",\"#636efa\",\"#636efa\",\"#636efa\",\"#636efa\",\"#636efa\",\"#636efa\",\"#636efa\",\"#636efa\",\"#636efa\",\"#636efa\",\"#636efa\",\"#636efa\",\"#636efa\",\"#636efa\",\"#ab63fa\",\"#636efa\",\"#636efa\",\"#636efa\",\"#EF553B\",\"#636efa\",\"#636efa\",\"#636efa\",\"#636efa\",\"#636efa\",\"#ab63fa\",\"#636efa\",\"#636efa\",\"#636efa\",\"#636efa\",\"#636efa\",\"#636efa\",\"#636efa\",\"#636efa\",\"#EF553B\",\"#EF553B\",\"#EF553B\",\"#636efa\",\"#ab63fa\",\"#636efa\",\"#EF553B\",\"#636efa\",\"#EF553B\",\"#636efa\",\"#EF553B\",\"#636efa\",\"#636efa\",\"#EF553B\",\"#EF553B\",\"#636efa\",\"#ab63fa\",\"#636efa\",\"#636efa\",\"#636efa\",\"#636efa\",\"#EF553B\",\"#EF553B\",\"#636efa\",\"#636efa\",\"#ab63fa\",\"#636efa\",\"#EF553B\",\"#EF553B\",\"#ab63fa\",\"#00cc96\",\"#636efa\",\"#636efa\",\"#ab63fa\",\"#ab63fa\",\"#EF553B\",\"#EF553B\",\"#636efa\",\"#636efa\",\"#EF553B\",\"#636efa\",\"#EF553B\",\"#636efa\",\"#ab63fa\",\"#636efa\",\"#636efa\",\"#636efa\",\"#ab63fa\",\"#ab63fa\",\"#ab63fa\",\"#636efa\",\"#ab63fa\",\"#EF553B\",\"#ab63fa\",\"#ab63fa\",\"#636efa\",\"#EF553B\",\"#EF553B\",\"#EF553B\",\"#EF553B\",\"#EF553B\",\"#EF553B\",\"#ab63fa\",\"#636efa\",\"#EF553B\",\"#EF553B\",\"#ab63fa\",\"#EF553B\",\"#636efa\",\"#ab63fa\",\"#ab63fa\",\"#ab63fa\",\"#ab63fa\",\"#636efa\",\"#636efa\",\"#ab63fa\",\"#EF553B\",\"#ab63fa\",\"#ab63fa\",\"#EF553B\",\"#636efa\",\"#636efa\",\"#636efa\",\"#636efa\",\"#636efa\",\"#EF553B\",\"#636efa\",\"#EF553B\",\"#EF553B\",\"#EF553B\",\"#636efa\",\"#636efa\",\"#636efa\",\"#636efa\",\"#636efa\",\"#636efa\",\"#636efa\",\"#636efa\",\"#636efa\",\"#EF553B\",\"#636efa\",\"#636efa\",\"#EF553B\",\"#636efa\",\"#636efa\",\"#636efa\",\"#636efa\",\"#636efa\",\"#EF553B\",\"#636efa\",\"#EF553B\",\"#636efa\",\"#636efa\",\"#636efa\",\"#636efa\",\"#636efa\",\"#636efa\",\"#636efa\",\"#636efa\",\"#636efa\",\"#636efa\",\"#636efa\",\"#636efa\",\"#EF553B\",\"#636efa\",\"#636efa\",\"#636efa\",\"#EF553B\",\"#636efa\",\"#636efa\",\"#636efa\",\"#636efa\",\"#636efa\",\"#636efa\",\"#636efa\",\"#636efa\",\"#636efa\",\"#636efa\",\"#636efa\",\"#636efa\",\"#EF553B\",\"#636efa\",\"#636efa\",\"#636efa\",\"#636efa\",\"#636efa\",\"#636efa\",\"#636efa\",\"#636efa\",\"#636efa\",\"#636efa\",\"#636efa\",\"#636efa\",\"#636efa\",\"#636efa\",\"#636efa\",\"#EF553B\",\"#636efa\",\"#636efa\",\"#EF553B\",\"#636efa\",\"#EF553B\",\"#636efa\",\"#636efa\",\"#636efa\",\"#EF553B\",\"#636efa\",\"#636efa\",\"#636efa\",\"#636efa\",\"#EF553B\",\"#636efa\",\"#EF553B\",\"#636efa\",\"#EF553B\",\"#636efa\",\"#636efa\",\"#636efa\",\"#636efa\",\"#636efa\",\"#636efa\",\"#636efa\",\"#636efa\",\"#636efa\",\"#636efa\",\"#636efa\",\"#636efa\",\"#636efa\",\"#636efa\",\"#636efa\",\"#636efa\",\"#636efa\",\"#636efa\",\"#636efa\",\"#636efa\",\"#636efa\",\"#636efa\",\"#636efa\",\"#636efa\",\"#636efa\",\"#636efa\",\"#636efa\",\"#636efa\",\"#ab63fa\",\"#636efa\",\"#636efa\",\"#636efa\",\"#636efa\",\"#636efa\",\"#636efa\",\"#636efa\",\"#636efa\",\"#636efa\",\"#636efa\",\"#636efa\",\"#636efa\",\"#636efa\",\"#636efa\",\"#636efa\",\"#636efa\",\"#636efa\",\"#636efa\",\"#636efa\",\"#636efa\",\"#636efa\",\"#636efa\",\"#636efa\",\"#636efa\",\"#636efa\",\"#636efa\",\"#636efa\",\"#636efa\",\"#636efa\",\"#636efa\",\"#EF553B\",\"#636efa\",\"#ab63fa\",\"#636efa\",\"#636efa\",\"#636efa\",\"#636efa\",\"#636efa\",\"#636efa\",\"#636efa\",\"#636efa\",\"#636efa\",\"#636efa\",\"#636efa\",\"#636efa\",\"#636efa\",\"#636efa\",\"#636efa\",\"#636efa\",\"#636efa\",\"#636efa\",\"#636efa\",\"#636efa\",\"#636efa\",\"#636efa\",\"#636efa\",\"#636efa\",\"#636efa\",\"#636efa\",\"#636efa\",\"#636efa\",\"#636efa\",\"#636efa\",\"#636efa\",\"#636efa\",\"#636efa\",\"#636efa\",\"#636efa\",\"#636efa\",\"#636efa\",\"#636efa\",\"#636efa\",\"#636efa\",\"#636efa\",\"#EF553B\",\"#636efa\",\"#636efa\",\"#636efa\",\"#636efa\",\"#636efa\",\"#636efa\",\"#636efa\",\"#636efa\",\"#636efa\",\"#636efa\",\"#636efa\",\"#636efa\",\"#636efa\",\"#EF553B\",\"#636efa\",\"#636efa\",\"#ab63fa\",\"#636efa\",\"#636efa\",\"#636efa\",\"#636efa\",\"#636efa\",\"#636efa\",\"#636efa\",\"#636efa\",\"#636efa\",\"#636efa\",\"#00cc96\",\"#636efa\",\"#636efa\",\"#636efa\",\"#636efa\",\"#00cc96\",\"#636efa\",\"#636efa\",\"#636efa\",\"#636efa\",\"#636efa\",\"#636efa\",\"#636efa\",\"#636efa\",\"#ab63fa\",\"#636efa\",\"#ab63fa\",\"#636efa\",\"#636efa\",\"#636efa\",\"#636efa\",\"#636efa\",\"#636efa\",\"#636efa\",\"#636efa\",\"#636efa\",\"#636efa\",\"#636efa\",\"#636efa\",\"#636efa\",\"#636efa\",\"#636efa\",\"#00cc96\",\"#636efa\",\"#EF553B\",\"#636efa\",\"#636efa\",\"#636efa\",\"#636efa\",\"#636efa\",\"#636efa\",\"#636efa\",\"#636efa\",\"#636efa\",\"#636efa\",\"#636efa\",\"#636efa\",\"#636efa\",\"#636efa\",\"#636efa\",\"#636efa\",\"#636efa\",\"#636efa\",\"#EF553B\",\"#636efa\",\"#636efa\",\"#636efa\",\"#636efa\",\"#636efa\",\"#636efa\",\"#636efa\",\"#00cc96\",\"#636efa\",\"#636efa\",\"#636efa\",\"#636efa\",\"#636efa\",\"#636efa\",\"#636efa\",\"#ab63fa\",\"#FFA15A\",\"#636efa\",\"#636efa\",\"#636efa\",\"#636efa\",\"#636efa\",\"#636efa\",\"#636efa\",\"#636efa\",\"#636efa\",\"#636efa\",\"#636efa\",\"#EF553B\",\"#636efa\",\"#636efa\",\"#636efa\",\"#636efa\",\"#636efa\",\"#636efa\",\"#636efa\",\"#636efa\",\"#636efa\",\"#636efa\",\"#636efa\",\"#636efa\",\"#636efa\",\"#636efa\",\"#636efa\",\"#636efa\",\"#636efa\",\"#636efa\",\"#636efa\",\"#636efa\",\"#636efa\",\"#636efa\",\"#636efa\",\"#636efa\",\"#636efa\",\"#636efa\",\"#636efa\",\"#636efa\",\"#636efa\",\"#636efa\",\"#636efa\",\"#636efa\",\"#636efa\",\"#ab63fa\",\"#636efa\",\"#636efa\",\"#636efa\",\"#636efa\",\"#636efa\",\"#636efa\",\"#636efa\",\"#636efa\",\"#636efa\",\"#636efa\",\"#636efa\",\"#636efa\",\"#636efa\",\"#636efa\",\"#636efa\",\"#636efa\",\"#636efa\",\"#EF553B\",\"#636efa\",\"#636efa\",\"#636efa\",\"#636efa\",\"#636efa\",\"#636efa\",\"#636efa\",\"#636efa\",\"#636efa\",\"#636efa\",\"#636efa\",\"#636efa\",\"#636efa\",\"#636efa\",\"#636efa\",\"#636efa\",\"#636efa\",\"#636efa\",\"#636efa\",\"#636efa\",\"#636efa\",\"#636efa\",\"#636efa\",\"#636efa\",\"#EF553B\",\"#636efa\",\"#636efa\",\"#636efa\",\"#636efa\",\"#636efa\",\"#636efa\",\"#636efa\",\"#636efa\",\"#636efa\",\"#636efa\",\"#636efa\",\"#636efa\",\"#636efa\",\"#636efa\",\"#636efa\",\"#636efa\",\"#636efa\",\"#636efa\",\"#EF553B\",\"#636efa\",\"#636efa\",\"#636efa\",\"#636efa\",\"#636efa\",\"#636efa\",\"#636efa\",\"#636efa\",\"#636efa\",\"#636efa\",\"#636efa\",\"#636efa\",\"#636efa\",\"#636efa\",\"#636efa\",\"#636efa\",\"#EF553B\",\"#636efa\",\"#636efa\",\"#636efa\",\"#636efa\",\"#636efa\",\"#636efa\",\"#636efa\",\"#636efa\",\"#636efa\",\"#636efa\",\"#636efa\",\"#636efa\",\"#636efa\",\"#636efa\",\"#636efa\",\"#636efa\",\"#636efa\",\"#636efa\",\"#636efa\",\"#636efa\",\"#636efa\",\"#636efa\",\"#636efa\",\"#636efa\",\"#636efa\",\"#636efa\",\"#636efa\",\"#636efa\",\"#636efa\",\"#636efa\",\"#636efa\",\"#636efa\",\"#636efa\",\"#636efa\",\"#636efa\",\"#636efa\",\"#636efa\",\"#636efa\",\"#636efa\",\"#636efa\",\"#636efa\",\"#636efa\",\"#636efa\",\"#636efa\",\"#636efa\",\"#636efa\",\"#636efa\",\"#636efa\",\"#636efa\",\"#636efa\",\"#636efa\",\"#636efa\",\"#636efa\",\"#636efa\",\"#636efa\",\"#636efa\",\"#636efa\",\"#636efa\",\"#636efa\",\"#636efa\",\"#636efa\",\"#636efa\",\"#636efa\",\"#636efa\",\"#636efa\",\"#636efa\",\"#636efa\",\"#636efa\",\"#636efa\",\"#636efa\",\"#636efa\",\"#636efa\",\"#636efa\",\"#636efa\",\"#636efa\",\"#636efa\",\"#636efa\",\"#636efa\",\"#636efa\",\"#636efa\",\"#636efa\",\"#636efa\",\"#636efa\",\"#636efa\",\"#636efa\",\"#636efa\",\"#636efa\",\"#636efa\",\"#636efa\",\"#636efa\",\"#636efa\",\"#636efa\",\"#636efa\",\"#636efa\",\"#636efa\",\"#636efa\",\"#636efa\",\"#636efa\",\"#636efa\",\"#636efa\",\"#636efa\",\"#636efa\",\"#636efa\",\"#636efa\",\"#636efa\",\"#636efa\",\"#636efa\",\"#636efa\",\"#636efa\",\"#636efa\",\"#636efa\",\"#636efa\",\"#636efa\",\"#636efa\",\"#636efa\",\"#636efa\",\"#636efa\",\"#636efa\",\"#636efa\",\"#636efa\",\"#00cc96\",\"#EF553B\",\"#636efa\",\"#ab63fa\",\"#636efa\",\"#636efa\",\"#636efa\",\"#EF553B\",\"#00cc96\",\"#636efa\",\"#00cc96\",\"#636efa\",\"#636efa\",\"#636efa\",\"#636efa\",\"#636efa\",\"#636efa\",\"#636efa\",\"#EF553B\",\"#636efa\",\"#636efa\",\"#636efa\",\"#636efa\",\"#636efa\",\"#636efa\",\"#636efa\",\"#636efa\",\"#636efa\",\"#636efa\",\"#636efa\",\"#636efa\",\"#636efa\",\"#636efa\",\"#636efa\",\"#636efa\",\"#636efa\",\"#636efa\",\"#636efa\",\"#636efa\",\"#636efa\",\"#636efa\",\"#636efa\",\"#636efa\",\"#636efa\",\"#636efa\",\"#636efa\",\"#636efa\",\"#636efa\",\"#636efa\",\"#636efa\",\"#636efa\",\"#636efa\",\"#636efa\",\"#636efa\",\"#636efa\",\"#636efa\",\"#636efa\",\"#EF553B\",\"#636efa\",\"#636efa\",\"#EF553B\",\"#636efa\",\"#636efa\",\"#636efa\",\"#636efa\",\"#636efa\",\"#636efa\",\"#636efa\",\"#636efa\",\"#EF553B\",\"#EF553B\",\"#636efa\",\"#636efa\",\"#636efa\",\"#636efa\",\"#636efa\",\"#636efa\",\"#636efa\",\"#636efa\",\"#636efa\",\"#636efa\",\"#636efa\",\"#636efa\",\"#636efa\",\"#636efa\",\"#636efa\",\"#636efa\",\"#636efa\",\"#636efa\",\"#636efa\",\"#636efa\",\"#636efa\",\"#636efa\",\"#636efa\",\"#636efa\",\"#636efa\",\"#636efa\",\"#636efa\",\"#636efa\",\"#636efa\",\"#636efa\",\"#636efa\",\"#636efa\",\"#636efa\",\"#636efa\",\"#636efa\",\"#636efa\",\"#636efa\",\"#636efa\",\"#636efa\",\"#636efa\",\"#636efa\",\"#636efa\",\"#636efa\",\"#636efa\",\"#636efa\",\"#636efa\",\"#636efa\",\"#636efa\",\"#636efa\",\"#636efa\",\"#636efa\",\"#636efa\",\"#636efa\",\"#636efa\",\"#636efa\",\"#636efa\",\"#636efa\",\"#636efa\",\"#636efa\",\"#636efa\",\"#636efa\",\"#636efa\",\"#636efa\",\"#636efa\",\"#636efa\",\"#636efa\",\"#636efa\",\"#636efa\",\"#636efa\",\"#636efa\",\"#636efa\",\"#636efa\",\"#636efa\",\"#636efa\",\"#636efa\",\"#636efa\",\"#636efa\",\"#636efa\",\"#636efa\",\"#636efa\",\"#636efa\",\"#636efa\",\"#636efa\",\"#636efa\",\"#636efa\",\"#636efa\",\"#636efa\",\"#636efa\",\"#636efa\",\"#636efa\",\"#636efa\",\"#636efa\",\"#636efa\",\"#636efa\",\"#636efa\",\"#636efa\",\"#636efa\",\"#636efa\",\"#636efa\",\"#636efa\",\"#636efa\",\"#636efa\",\"#636efa\",\"#636efa\",\"#636efa\",\"#636efa\",\"#636efa\",\"#636efa\",\"#636efa\",\"#636efa\",\"#636efa\",\"#636efa\",\"#636efa\",\"#636efa\",\"#636efa\",\"#636efa\",\"#636efa\",\"#636efa\",\"#636efa\",\"#636efa\",\"#636efa\",\"#636efa\",\"#636efa\",\"#636efa\",\"#636efa\",\"#636efa\",\"#636efa\",\"#636efa\",\"#636efa\",\"#ab63fa\",\"#636efa\",\"#636efa\",\"#636efa\",\"#636efa\",\"#EF553B\",\"#636efa\",\"#636efa\",\"#636efa\",\"#636efa\",\"#636efa\",\"#636efa\",\"#636efa\",\"#636efa\",\"#636efa\",\"#636efa\",\"#636efa\",\"#636efa\",\"#636efa\",\"#636efa\",\"#636efa\",\"#636efa\",\"#636efa\",\"#636efa\",\"#636efa\",\"#636efa\",\"#636efa\",\"#636efa\",\"#636efa\",\"#636efa\",\"#636efa\",\"#636efa\",\"#636efa\",\"#636efa\",\"#636efa\",\"#636efa\",\"#636efa\",\"#636efa\",\"#636efa\",\"#636efa\",\"#636efa\",\"#636efa\",\"#636efa\",\"#636efa\",\"#636efa\",\"#636efa\",\"#636efa\",\"#636efa\",\"#636efa\",\"#636efa\",\"#636efa\",\"#636efa\",\"#636efa\",\"#636efa\",\"#636efa\",\"#636efa\",\"#636efa\",\"#636efa\",\"#636efa\",\"#636efa\",\"#636efa\",\"#636efa\",\"#636efa\",\"#636efa\",\"#636efa\",\"#636efa\",\"#636efa\",\"#636efa\",\"#636efa\",\"#636efa\",\"#636efa\",\"#636efa\",\"#636efa\",\"#636efa\",\"#636efa\",\"#636efa\",\"#636efa\",\"#636efa\",\"#636efa\",\"#EF553B\",\"#636efa\",\"#636efa\",\"#636efa\",\"#636efa\",\"#EF553B\",\"#636efa\",\"#636efa\",\"#636efa\",\"#EF553B\",\"#636efa\",\"#636efa\",\"#636efa\",\"#EF553B\",\"#636efa\",\"#636efa\",\"#636efa\",\"#EF553B\",\"#636efa\",\"#EF553B\",\"#636efa\",\"#636efa\",\"#636efa\",\"#636efa\",\"#EF553B\",\"#636efa\",\"#EF553B\",\"#EF553B\",\"#636efa\",\"#636efa\",\"#636efa\",\"#636efa\",\"#636efa\",\"#EF553B\",\"#636efa\",\"#636efa\",\"#636efa\",\"#636efa\",\"#636efa\",\"#636efa\",\"#636efa\",\"#636efa\",\"#00cc96\",\"#636efa\",\"#636efa\",\"#636efa\",\"#EF553B\",\"#EF553B\",\"#EF553B\",\"#636efa\",\"#00cc96\",\"#EF553B\",\"#636efa\",\"#00cc96\",\"#636efa\",\"#00cc96\",\"#636efa\",\"#00cc96\",\"#EF553B\",\"#00cc96\",\"#636efa\",\"#636efa\",\"#00cc96\",\"#636efa\",\"#EF553B\",\"#EF553B\",\"#EF553B\",\"#EF553B\",\"#636efa\",\"#636efa\",\"#636efa\",\"#EF553B\",\"#ab63fa\",\"#636efa\",\"#EF553B\",\"#EF553B\",\"#ab63fa\",\"#ab63fa\",\"#636efa\",\"#636efa\",\"#636efa\",\"#00cc96\",\"#00cc96\",\"#00cc96\",\"#ab63fa\",\"#EF553B\",\"#EF553B\",\"#636efa\",\"#636efa\",\"#636efa\",\"#636efa\",\"#636efa\",\"#00cc96\",\"#00cc96\",\"#636efa\",\"#636efa\",\"#EF553B\",\"#EF553B\",\"#EF553B\",\"#EF553B\",\"#636efa\",\"#636efa\",\"#636efa\",\"#EF553B\",\"#00cc96\",\"#636efa\",\"#00cc96\",\"#636efa\",\"#00cc96\",\"#ab63fa\",\"#00cc96\",\"#00cc96\",\"#EF553B\",\"#00cc96\",\"#EF553B\",\"#EF553B\",\"#EF553B\",\"#636efa\",\"#00cc96\",\"#636efa\",\"#00cc96\",\"#00cc96\",\"#00cc96\",\"#ab63fa\",\"#00cc96\",\"#00cc96\",\"#EF553B\",\"#00cc96\",\"#636efa\",\"#636efa\",\"#00cc96\",\"#00cc96\",\"#EF553B\",\"#00cc96\",\"#636efa\",\"#00cc96\",\"#ab63fa\",\"#636efa\",\"#636efa\",\"#636efa\",\"#636efa\",\"#636efa\",\"#636efa\",\"#636efa\",\"#636efa\",\"#636efa\",\"#636efa\",\"#636efa\",\"#636efa\",\"#636efa\",\"#636efa\",\"#636efa\",\"#636efa\",\"#636efa\",\"#636efa\",\"#636efa\",\"#636efa\",\"#636efa\",\"#636efa\",\"#636efa\",\"#636efa\",\"#636efa\",\"#636efa\",\"#636efa\",\"#636efa\",\"#636efa\",\"#636efa\",\"#636efa\",\"#636efa\",\"#636efa\",\"#636efa\",\"#636efa\",\"#636efa\",\"#636efa\",\"#636efa\",\"#636efa\",\"#636efa\",\"#636efa\",\"#636efa\",\"#636efa\",\"#636efa\",\"#636efa\",\"#636efa\",\"#636efa\",\"#636efa\",\"#636efa\",\"#636efa\",\"#636efa\",\"#636efa\",\"#ab63fa\",\"#636efa\",\"#636efa\",\"#EF553B\",\"#EF553B\",\"#636efa\",\"#636efa\",\"#636efa\",\"#636efa\",\"#636efa\",\"#636efa\",\"#636efa\",\"#EF553B\",\"#ab63fa\",\"#636efa\",\"#636efa\",\"#EF553B\",\"#EF553B\",\"#636efa\",\"#636efa\",\"#636efa\",\"#636efa\",\"#636efa\",\"#EF553B\",\"#636efa\",\"#00cc96\",\"#636efa\",\"#EF553B\",\"#ab63fa\",\"#636efa\",\"#636efa\",\"#636efa\",\"#636efa\",\"#636efa\",\"#636efa\",\"#00cc96\",\"#636efa\",\"#00cc96\",\"#EF553B\",\"#636efa\",\"#636efa\",\"#636efa\",\"#EF553B\",\"#00cc96\",\"#636efa\",\"#EF553B\",\"#636efa\",\"#ab63fa\",\"#636efa\",\"#636efa\",\"#EF553B\",\"#636efa\",\"#636efa\",\"#636efa\",\"#ab63fa\",\"#636efa\",\"#00cc96\",\"#636efa\",\"#636efa\",\"#636efa\",\"#636efa\",\"#636efa\",\"#EF553B\",\"#636efa\",\"#636efa\",\"#636efa\",\"#636efa\",\"#636efa\",\"#EF553B\",\"#636efa\",\"#636efa\",\"#636efa\",\"#636efa\",\"#636efa\",\"#636efa\",\"#ab63fa\",\"#636efa\",\"#636efa\",\"#636efa\",\"#EF553B\",\"#636efa\",\"#EF553B\",\"#636efa\",\"#636efa\",\"#00cc96\",\"#636efa\",\"#636efa\",\"#636efa\",\"#636efa\",\"#636efa\",\"#636efa\",\"#ab63fa\",\"#636efa\",\"#636efa\",\"#636efa\",\"#636efa\",\"#636efa\",\"#636efa\",\"#636efa\",\"#636efa\",\"#636efa\",\"#636efa\",\"#636efa\",\"#636efa\",\"#636efa\",\"#636efa\",\"#636efa\",\"#636efa\",\"#636efa\",\"#636efa\",\"#636efa\",\"#636efa\",\"#636efa\",\"#636efa\",\"#EF553B\",\"#EF553B\",\"#ab63fa\",\"#ab63fa\",\"#636efa\",\"#636efa\",\"#636efa\",\"#00cc96\",\"#636efa\",\"#EF553B\",\"#636efa\",\"#636efa\",\"#636efa\",\"#EF553B\",\"#636efa\",\"#636efa\",\"#636efa\",\"#636efa\",\"#636efa\",\"#636efa\",\"#636efa\",\"#636efa\",\"#EF553B\",\"#636efa\",\"#636efa\",\"#636efa\",\"#EF553B\",\"#EF553B\",\"#636efa\",\"#636efa\",\"#EF553B\",\"#ab63fa\",\"#636efa\",\"#636efa\",\"#636efa\",\"#636efa\",\"#636efa\",\"#636efa\",\"#00cc96\",\"#636efa\",\"#636efa\",\"#636efa\",\"#636efa\",\"#636efa\",\"#636efa\",\"#EF553B\",\"#636efa\",\"#636efa\",\"#636efa\",\"#00cc96\",\"#636efa\",\"#636efa\",\"#636efa\",\"#636efa\",\"#636efa\",\"#636efa\",\"#636efa\",\"#636efa\",\"#636efa\",\"#636efa\",\"#636efa\",\"#EF553B\",\"#636efa\",\"#EF553B\",\"#636efa\",\"#636efa\",\"#EF553B\",\"#636efa\",\"#636efa\",\"#636efa\",\"#636efa\",\"#636efa\",\"#636efa\",\"#636efa\",\"#636efa\",\"#636efa\",\"#636efa\",\"#636efa\",\"#ab63fa\",\"#636efa\",\"#636efa\",\"#636efa\",\"#636efa\",\"#636efa\",\"#636efa\",\"#EF553B\",\"#636efa\",\"#EF553B\",\"#636efa\",\"#636efa\",\"#636efa\",\"#636efa\",\"#636efa\",\"#636efa\",\"#636efa\",\"#636efa\",\"#636efa\",\"#636efa\",\"#636efa\",\"#636efa\",\"#636efa\",\"#636efa\",\"#636efa\",\"#636efa\",\"#636efa\",\"#636efa\",\"#636efa\",\"#636efa\",\"#636efa\",\"#636efa\",\"#636efa\",\"#636efa\",\"#636efa\",\"#636efa\",\"#ab63fa\",\"#636efa\",\"#636efa\",\"#636efa\",\"#636efa\",\"#ab63fa\",\"#636efa\",\"#636efa\",\"#636efa\",\"#636efa\",\"#EF553B\",\"#636efa\",\"#00cc96\",\"#636efa\",\"#636efa\",\"#636efa\",\"#636efa\",\"#636efa\",\"#636efa\",\"#636efa\",\"#636efa\",\"#636efa\",\"#636efa\",\"#636efa\",\"#636efa\",\"#636efa\",\"#636efa\",\"#636efa\",\"#636efa\",\"#636efa\",\"#636efa\",\"#636efa\",\"#636efa\",\"#636efa\",\"#636efa\",\"#636efa\",\"#636efa\",\"#636efa\",\"#636efa\",\"#636efa\",\"#EF553B\",\"#636efa\",\"#636efa\",\"#636efa\",\"#636efa\",\"#00cc96\",\"#636efa\",\"#636efa\",\"#EF553B\",\"#636efa\",\"#636efa\",\"#636efa\",\"#00cc96\",\"#EF553B\",\"#636efa\",\"#636efa\",\"#636efa\",\"#636efa\",\"#636efa\",\"#636efa\",\"#636efa\",\"#636efa\",\"#636efa\",\"#636efa\",\"#636efa\",\"#636efa\",\"#636efa\",\"#636efa\",\"#ab63fa\",\"#636efa\",\"#636efa\",\"#636efa\",\"#636efa\",\"#EF553B\",\"#EF553B\",\"#636efa\",\"#636efa\",\"#636efa\",\"#636efa\",\"#EF553B\",\"#636efa\",\"#636efa\",\"#EF553B\",\"#636efa\",\"#636efa\",\"#EF553B\",\"#636efa\",\"#ab63fa\",\"#636efa\",\"#636efa\",\"#636efa\",\"#636efa\",\"#636efa\",\"#636efa\",\"#636efa\",\"#636efa\",\"#636efa\",\"#636efa\",\"#636efa\",\"#636efa\",\"#636efa\",\"#636efa\",\"#EF553B\",\"#636efa\",\"#636efa\",\"#EF553B\",\"#ab63fa\",\"#636efa\",\"#636efa\",\"#00cc96\",\"#00cc96\",\"#636efa\",\"#636efa\",\"#636efa\",\"#636efa\",\"#636efa\",\"#636efa\",\"#EF553B\",\"#636efa\",\"#636efa\",\"#636efa\",\"#636efa\",\"#636efa\",\"#636efa\",\"#636efa\",\"#636efa\",\"#ab63fa\",\"#636efa\",\"#636efa\",\"#636efa\",\"#636efa\",\"#636efa\",\"#636efa\",\"#00cc96\",\"#636efa\",\"#636efa\",\"#636efa\",\"#636efa\",\"#636efa\",\"#636efa\",\"#636efa\",\"#636efa\",\"#636efa\",\"#636efa\",\"#636efa\",\"#636efa\",\"#636efa\",\"#636efa\",\"#636efa\",\"#636efa\",\"#636efa\",\"#636efa\",\"#636efa\",\"#636efa\",\"#636efa\",\"#636efa\",\"#636efa\",\"#636efa\",\"#636efa\",\"#EF553B\",\"#636efa\",\"#00cc96\",\"#00cc96\",\"#EF553B\",\"#636efa\",\"#636efa\",\"#636efa\",\"#00cc96\",\"#636efa\",\"#636efa\",\"#00cc96\",\"#636efa\",\"#636efa\",\"#636efa\",\"#636efa\",\"#00cc96\",\"#EF553B\",\"#00cc96\",\"#636efa\",\"#00cc96\",\"#636efa\",\"#636efa\",\"#636efa\",\"#636efa\",\"#636efa\",\"#636efa\",\"#636efa\",\"#636efa\",\"#636efa\",\"#636efa\",\"#EF553B\",\"#636efa\",\"#636efa\",\"#00cc96\",\"#636efa\",\"#636efa\",\"#636efa\",\"#00cc96\",\"#636efa\",\"#EF553B\",\"#EF553B\",\"#636efa\",\"#636efa\",\"#636efa\",\"#636efa\",\"#636efa\",\"#636efa\",\"#636efa\",\"#636efa\",\"#EF553B\",\"#636efa\",\"#636efa\",\"#ab63fa\",\"#636efa\",\"#636efa\",\"#636efa\",\"#636efa\",\"#636efa\",\"#636efa\",\"#EF553B\",\"#636efa\",\"#636efa\",\"#636efa\",\"#636efa\",\"#636efa\",\"#636efa\",\"#636efa\",\"#636efa\",\"#636efa\",\"#636efa\",\"#ab63fa\",\"#636efa\",\"#636efa\",\"#636efa\",\"#636efa\",\"#636efa\",\"#636efa\",\"#636efa\",\"#636efa\",\"#636efa\",\"#636efa\",\"#636efa\",\"#636efa\",\"#636efa\",\"#636efa\",\"#636efa\",\"#636efa\",\"#636efa\",\"#636efa\",\"#636efa\",\"#636efa\",\"#636efa\",\"#636efa\",\"#636efa\",\"#636efa\",\"#636efa\",\"#636efa\",\"#636efa\",\"#636efa\",\"#636efa\",\"#636efa\",\"#636efa\",\"#636efa\",\"#636efa\",\"#636efa\",\"#ab63fa\",\"#636efa\",\"#636efa\",\"#636efa\",\"#636efa\",\"#EF553B\",\"#636efa\",\"#636efa\",\"#636efa\",\"#636efa\",\"#EF553B\",\"#EF553B\",\"#636efa\",\"#636efa\",\"#636efa\",\"#636efa\",\"#EF553B\",\"#636efa\",\"#636efa\",\"#636efa\",\"#636efa\",\"#636efa\",\"#636efa\",\"#636efa\",\"#636efa\",\"#636efa\",\"#636efa\",\"#636efa\",\"#636efa\",\"#636efa\",\"#636efa\",\"#636efa\",\"#636efa\",\"#636efa\",\"#636efa\",\"#636efa\",\"#636efa\",\"#636efa\",\"#636efa\",\"#636efa\",\"#636efa\",\"#636efa\",\"#636efa\",\"#636efa\",\"#636efa\",\"#636efa\",\"#636efa\",\"#636efa\",\"#636efa\",\"#636efa\",\"#636efa\",\"#636efa\",\"#636efa\",\"#636efa\",\"#636efa\",\"#636efa\",\"#636efa\",\"#636efa\",\"#636efa\",\"#636efa\",\"#636efa\",\"#636efa\",\"#636efa\",\"#EF553B\",\"#EF553B\",\"#636efa\",\"#EF553B\",\"#636efa\",\"#636efa\",\"#636efa\",\"#ab63fa\",\"#636efa\",\"#636efa\",\"#636efa\",\"#636efa\",\"#636efa\",\"#636efa\",\"#636efa\",\"#636efa\",\"#636efa\",\"#636efa\",\"#EF553B\",\"#636efa\",\"#636efa\",\"#636efa\",\"#636efa\",\"#EF553B\",\"#EF553B\",\"#636efa\",\"#636efa\",\"#636efa\",\"#636efa\",\"#ab63fa\",\"#636efa\",\"#636efa\",\"#636efa\",\"#636efa\",\"#636efa\",\"#636efa\",\"#636efa\",\"#636efa\",\"#636efa\",\"#636efa\",\"#636efa\",\"#636efa\",\"#636efa\",\"#636efa\",\"#636efa\",\"#636efa\",\"#636efa\",\"#636efa\",\"#EF553B\",\"#EF553B\",\"#636efa\",\"#636efa\",\"#EF553B\",\"#636efa\",\"#636efa\",\"#EF553B\",\"#636efa\",\"#00cc96\",\"#636efa\",\"#636efa\",\"#636efa\",\"#636efa\",\"#636efa\",\"#636efa\",\"#ab63fa\",\"#636efa\",\"#EF553B\",\"#00cc96\",\"#ab63fa\",\"#636efa\",\"#ab63fa\",\"#636efa\",\"#636efa\",\"#636efa\",\"#636efa\",\"#636efa\",\"#636efa\",\"#636efa\",\"#636efa\",\"#636efa\",\"#636efa\",\"#00cc96\",\"#636efa\",\"#636efa\",\"#636efa\",\"#636efa\",\"#ab63fa\",\"#636efa\",\"#EF553B\",\"#636efa\",\"#636efa\",\"#636efa\",\"#636efa\",\"#636efa\",\"#EF553B\",\"#ab63fa\",\"#636efa\",\"#636efa\",\"#636efa\",\"#EF553B\",\"#636efa\",\"#636efa\",\"#636efa\",\"#636efa\",\"#636efa\",\"#EF553B\",\"#EF553B\",\"#EF553B\",\"#636efa\",\"#EF553B\",\"#EF553B\",\"#00cc96\",\"#ab63fa\",\"#EF553B\",\"#636efa\",\"#636efa\",\"#636efa\",\"#636efa\",\"#636efa\",\"#EF553B\",\"#636efa\",\"#636efa\",\"#ab63fa\",\"#636efa\",\"#636efa\",\"#EF553B\",\"#636efa\",\"#636efa\",\"#636efa\",\"#EF553B\",\"#636efa\",\"#636efa\",\"#00cc96\",\"#636efa\",\"#636efa\",\"#EF553B\",\"#636efa\",\"#636efa\",\"#636efa\",\"#ab63fa\",\"#ab63fa\",\"#ab63fa\",\"#EF553B\",\"#636efa\",\"#636efa\",\"#636efa\",\"#636efa\",\"#636efa\",\"#636efa\",\"#00cc96\",\"#636efa\",\"#636efa\",\"#636efa\",\"#636efa\",\"#636efa\",\"#636efa\",\"#636efa\",\"#636efa\",\"#636efa\",\"#636efa\",\"#636efa\",\"#636efa\",\"#636efa\",\"#636efa\",\"#EF553B\",\"#636efa\",\"#636efa\",\"#636efa\",\"#636efa\",\"#636efa\",\"#636efa\",\"#636efa\",\"#636efa\",\"#636efa\",\"#636efa\",\"#636efa\",\"#636efa\",\"#636efa\",\"#636efa\",\"#636efa\",\"#636efa\",\"#636efa\",\"#636efa\",\"#636efa\",\"#636efa\",\"#EF553B\",\"#636efa\",\"#EF553B\",\"#00cc96\",\"#636efa\",\"#636efa\",\"#636efa\",\"#636efa\",\"#636efa\",\"#636efa\",\"#636efa\",\"#636efa\",\"#EF553B\",\"#EF553B\",\"#636efa\",\"#636efa\",\"#636efa\",\"#636efa\",\"#ab63fa\",\"#636efa\",\"#636efa\",\"#636efa\",\"#636efa\",\"#636efa\",\"#636efa\",\"#636efa\",\"#636efa\",\"#EF553B\",\"#636efa\",\"#636efa\",\"#636efa\",\"#EF553B\",\"#EF553B\",\"#EF553B\",\"#636efa\",\"#636efa\",\"#EF553B\",\"#EF553B\",\"#636efa\",\"#EF553B\",\"#636efa\",\"#636efa\",\"#EF553B\",\"#636efa\",\"#EF553B\",\"#ab63fa\",\"#EF553B\",\"#EF553B\",\"#00cc96\",\"#EF553B\",\"#636efa\",\"#EF553B\",\"#EF553B\",\"#ab63fa\",\"#EF553B\",\"#636efa\",\"#EF553B\",\"#EF553B\",\"#636efa\",\"#636efa\",\"#EF553B\",\"#636efa\",\"#00cc96\",\"#ab63fa\",\"#EF553B\",\"#636efa\",\"#EF553B\",\"#EF553B\",\"#636efa\",\"#EF553B\",\"#636efa\",\"#636efa\",\"#636efa\",\"#636efa\",\"#EF553B\",\"#636efa\",\"#00cc96\",\"#636efa\",\"#636efa\",\"#636efa\",\"#EF553B\",\"#636efa\",\"#636efa\",\"#636efa\",\"#636efa\",\"#636efa\",\"#636efa\",\"#636efa\",\"#636efa\",\"#636efa\",\"#636efa\",\"#636efa\",\"#636efa\",\"#636efa\",\"#636efa\",\"#636efa\",\"#636efa\",\"#636efa\",\"#636efa\",\"#636efa\",\"#636efa\",\"#636efa\",\"#636efa\",\"#636efa\",\"#636efa\",\"#636efa\",\"#636efa\",\"#636efa\",\"#636efa\",\"#636efa\",\"#636efa\",\"#636efa\",\"#636efa\",\"#636efa\",\"#636efa\",\"#636efa\",\"#636efa\",\"#636efa\",\"#636efa\",\"#636efa\",\"#636efa\",\"#636efa\",\"#636efa\",\"#636efa\",\"#636efa\",\"#EF553B\",\"#636efa\",\"#636efa\",\"#636efa\",\"#636efa\",\"#636efa\",\"#636efa\",\"#636efa\",\"#636efa\",\"#636efa\",\"#636efa\",\"#636efa\",\"#636efa\",\"#636efa\",\"#636efa\",\"#636efa\",\"#636efa\",\"#636efa\",\"#636efa\",\"#636efa\",\"#636efa\",\"#636efa\",\"#636efa\",\"#636efa\",\"#636efa\",\"#636efa\",\"#636efa\",\"#636efa\",\"#636efa\",\"#636efa\",\"#636efa\",\"#636efa\",\"#636efa\",\"#636efa\",\"#636efa\",\"#636efa\",\"#636efa\",\"#636efa\",\"#636efa\",\"#636efa\",\"#636efa\",\"#636efa\",\"#636efa\",\"#636efa\",\"#636efa\",\"#636efa\",\"#636efa\",\"#636efa\",\"#636efa\",\"#636efa\",\"#636efa\",\"#636efa\",\"#636efa\",\"#636efa\",\"#636efa\",\"#636efa\",\"#EF553B\",\"#636efa\",\"#636efa\",\"#636efa\",\"#636efa\",\"#636efa\",\"#636efa\",\"#636efa\",\"#636efa\",\"#636efa\",\"#636efa\",\"#636efa\",\"#636efa\",\"#636efa\",\"#636efa\",\"#636efa\",\"#636efa\",\"#636efa\",\"#636efa\",\"#636efa\",\"#636efa\",\"#636efa\",\"#636efa\",\"#636efa\",\"#636efa\",\"#636efa\",\"#636efa\",\"#636efa\",\"#636efa\",\"#636efa\",\"#636efa\",\"#636efa\",\"#636efa\",\"#636efa\",\"#636efa\",\"#636efa\",\"#EF553B\",\"#636efa\",\"#636efa\",\"#EF553B\",\"#636efa\",\"#636efa\",\"#636efa\",\"#EF553B\",\"#EF553B\",\"#636efa\",\"#636efa\",\"#EF553B\",\"#636efa\",\"#636efa\",\"#636efa\",\"#636efa\",\"#636efa\",\"#636efa\",\"#00cc96\",\"#00cc96\",\"#636efa\",\"#636efa\",\"#00cc96\",\"#636efa\",\"#636efa\",\"#636efa\",\"#636efa\",\"#636efa\",\"#636efa\",\"#636efa\",\"#636efa\",\"#636efa\",\"#636efa\",\"#636efa\",\"#636efa\",\"#636efa\",\"#636efa\",\"#636efa\",\"#636efa\",\"#636efa\",\"#636efa\",\"#636efa\",\"#636efa\",\"#636efa\",\"#636efa\",\"#EF553B\",\"#636efa\",\"#636efa\",\"#ab63fa\",\"#636efa\",\"#EF553B\",\"#EF553B\",\"#636efa\",\"#636efa\",\"#636efa\",\"#EF553B\",\"#636efa\",\"#636efa\",\"#636efa\",\"#636efa\",\"#636efa\",\"#636efa\",\"#636efa\",\"#636efa\",\"#636efa\",\"#636efa\",\"#636efa\",\"#636efa\",\"#636efa\",\"#EF553B\",\"#636efa\",\"#636efa\",\"#EF553B\",\"#EF553B\",\"#636efa\",\"#00cc96\",\"#636efa\",\"#636efa\",\"#636efa\",\"#636efa\",\"#636efa\",\"#636efa\",\"#636efa\",\"#636efa\",\"#636efa\",\"#636efa\",\"#636efa\",\"#636efa\",\"#636efa\",\"#636efa\",\"#636efa\",\"#636efa\",\"#636efa\",\"#636efa\",\"#636efa\",\"#636efa\",\"#636efa\",\"#636efa\",\"#636efa\",\"#636efa\",\"#636efa\",\"#636efa\",\"#636efa\",\"#636efa\",\"#636efa\",\"#636efa\",\"#636efa\",\"#636efa\",\"#636efa\",\"#636efa\",\"#636efa\",\"#636efa\",\"#636efa\",\"#636efa\",\"#636efa\",\"#EF553B\",\"#636efa\",\"#636efa\",\"#636efa\",\"#636efa\",\"#636efa\",\"#636efa\",\"#636efa\",\"#636efa\",\"#636efa\",\"#636efa\",\"#636efa\",\"#636efa\",\"#636efa\",\"#636efa\",\"#636efa\",\"#636efa\",\"#636efa\",\"#636efa\",\"#636efa\",\"#636efa\",\"#636efa\",\"#636efa\",\"#636efa\",\"#636efa\",\"#636efa\",\"#636efa\",\"#636efa\",\"#636efa\",\"#636efa\",\"#636efa\",\"#EF553B\",\"#636efa\",\"#636efa\",\"#636efa\",\"#636efa\",\"#636efa\",\"#636efa\",\"#636efa\",\"#EF553B\",\"#636efa\",\"#636efa\",\"#636efa\",\"#636efa\",\"#636efa\",\"#636efa\",\"#636efa\",\"#636efa\",\"#636efa\",\"#636efa\",\"#636efa\",\"#636efa\",\"#636efa\",\"#636efa\",\"#636efa\",\"#636efa\",\"#636efa\",\"#636efa\",\"#636efa\",\"#ab63fa\",\"#636efa\",\"#636efa\",\"#636efa\",\"#636efa\",\"#636efa\",\"#636efa\",\"#636efa\",\"#636efa\",\"#00cc96\",\"#636efa\",\"#636efa\",\"#636efa\",\"#636efa\",\"#636efa\",\"#636efa\",\"#636efa\",\"#636efa\",\"#636efa\",\"#636efa\",\"#636efa\",\"#636efa\",\"#636efa\",\"#636efa\",\"#636efa\",\"#636efa\",\"#636efa\",\"#636efa\",\"#636efa\",\"#636efa\",\"#636efa\",\"#636efa\",\"#636efa\",\"#636efa\",\"#636efa\",\"#636efa\",\"#636efa\",\"#636efa\",\"#ab63fa\",\"#636efa\",\"#636efa\",\"#636efa\",\"#636efa\",\"#636efa\",\"#636efa\",\"#636efa\",\"#636efa\",\"#EF553B\",\"#636efa\",\"#636efa\",\"#636efa\",\"#636efa\",\"#EF553B\",\"#636efa\",\"#636efa\",\"#636efa\",\"#636efa\",\"#636efa\",\"#636efa\",\"#636efa\",\"#636efa\",\"#EF553B\",\"#636efa\",\"#636efa\",\"#636efa\",\"#636efa\",\"#636efa\",\"#636efa\",\"#636efa\",\"#636efa\",\"#636efa\",\"#636efa\",\"#636efa\",\"#00cc96\",\"#636efa\",\"#636efa\",\"#636efa\",\"#636efa\",\"#636efa\",\"#636efa\",\"#636efa\",\"#636efa\",\"#636efa\",\"#636efa\",\"#EF553B\",\"#636efa\",\"#636efa\",\"#636efa\",\"#636efa\",\"#636efa\",\"#636efa\",\"#636efa\",\"#636efa\",\"#00cc96\",\"#636efa\",\"#00cc96\",\"#636efa\",\"#636efa\",\"#636efa\",\"#636efa\",\"#EF553B\",\"#EF553B\",\"#EF553B\",\"#EF553B\",\"#636efa\",\"#636efa\",\"#636efa\",\"#636efa\",\"#636efa\",\"#636efa\",\"#EF553B\",\"#636efa\",\"#636efa\",\"#EF553B\",\"#636efa\",\"#EF553B\",\"#636efa\",\"#EF553B\",\"#ab63fa\",\"#636efa\",\"#EF553B\",\"#ab63fa\",\"#636efa\",\"#636efa\",\"#636efa\",\"#EF553B\",\"#EF553B\",\"#636efa\",\"#EF553B\",\"#636efa\",\"#636efa\",\"#EF553B\",\"#00cc96\",\"#636efa\",\"#636efa\",\"#00cc96\",\"#636efa\",\"#636efa\",\"#636efa\",\"#636efa\",\"#636efa\",\"#636efa\",\"#636efa\",\"#636efa\",\"#636efa\",\"#EF553B\",\"#636efa\",\"#636efa\",\"#636efa\",\"#636efa\",\"#636efa\",\"#636efa\",\"#636efa\",\"#636efa\",\"#636efa\",\"#636efa\",\"#636efa\",\"#636efa\",\"#636efa\",\"#636efa\",\"#636efa\",\"#636efa\",\"#636efa\",\"#00cc96\",\"#636efa\",\"#636efa\",\"#636efa\",\"#636efa\",\"#636efa\",\"#636efa\",\"#636efa\",\"#636efa\",\"#636efa\",\"#636efa\",\"#636efa\",\"#636efa\",\"#636efa\",\"#636efa\",\"#636efa\",\"#636efa\",\"#636efa\",\"#EF553B\",\"#EF553B\",\"#636efa\",\"#636efa\",\"#636efa\",\"#636efa\",\"#636efa\",\"#636efa\",\"#636efa\",\"#636efa\",\"#636efa\",\"#636efa\",\"#636efa\",\"#636efa\",\"#636efa\",\"#636efa\",\"#00cc96\",\"#636efa\",\"#EF553B\",\"#636efa\",\"#636efa\",\"#636efa\",\"#00cc96\",\"#636efa\",\"#636efa\",\"#636efa\",\"#EF553B\",\"#636efa\",\"#636efa\",\"#636efa\",\"#00cc96\",\"#636efa\",\"#636efa\",\"#636efa\",\"#636efa\",\"#636efa\",\"#636efa\",\"#636efa\",\"#EF553B\",\"#636efa\",\"#636efa\",\"#EF553B\",\"#636efa\",\"#ab63fa\",\"#636efa\",\"#636efa\",\"#EF553B\",\"#636efa\",\"#636efa\",\"#EF553B\",\"#EF553B\",\"#ab63fa\",\"#636efa\",\"#EF553B\",\"#ab63fa\",\"#EF553B\",\"#636efa\",\"#ab63fa\",\"#EF553B\",\"#636efa\",\"#00cc96\",\"#EF553B\",\"#00cc96\",\"#ab63fa\",\"#636efa\",\"#636efa\",\"#EF553B\",\"#ab63fa\",\"#636efa\",\"#636efa\",\"#636efa\",\"#636efa\",\"#ab63fa\",\"#636efa\",\"#EF553B\",\"#636efa\",\"#636efa\",\"#636efa\",\"#EF553B\",\"#636efa\",\"#636efa\",\"#636efa\",\"#636efa\",\"#636efa\",\"#636efa\",\"#636efa\",\"#636efa\",\"#636efa\",\"#636efa\",\"#636efa\",\"#636efa\",\"#636efa\",\"#636efa\",\"#636efa\",\"#636efa\",\"#636efa\",\"#636efa\",\"#636efa\",\"#636efa\",\"#636efa\",\"#636efa\",\"#636efa\",\"#636efa\",\"#636efa\",\"#636efa\",\"#636efa\",\"#636efa\",\"#636efa\",\"#636efa\",\"#636efa\",\"#636efa\",\"#636efa\",\"#636efa\",\"#636efa\",\"#636efa\",\"#636efa\",\"#636efa\",\"#EF553B\",\"#ab63fa\",\"#636efa\",\"#636efa\",\"#EF553B\",\"#636efa\",\"#636efa\",\"#00cc96\",\"#00cc96\",\"#636efa\",\"#636efa\",\"#636efa\",\"#636efa\",\"#636efa\",\"#636efa\",\"#636efa\",\"#636efa\",\"#636efa\",\"#636efa\",\"#636efa\",\"#636efa\",\"#636efa\",\"#636efa\",\"#636efa\",\"#636efa\",\"#636efa\",\"#ab63fa\",\"#636efa\",\"#636efa\",\"#00cc96\",\"#00cc96\",\"#EF553B\",\"#00cc96\",\"#EF553B\",\"#636efa\",\"#ab63fa\",\"#EF553B\",\"#EF553B\",\"#EF553B\",\"#EF553B\",\"#636efa\",\"#ab63fa\",\"#636efa\",\"#636efa\",\"#636efa\",\"#00cc96\",\"#636efa\",\"#EF553B\",\"#00cc96\",\"#636efa\",\"#636efa\",\"#636efa\",\"#636efa\",\"#636efa\",\"#636efa\",\"#636efa\",\"#636efa\",\"#EF553B\",\"#636efa\",\"#636efa\",\"#636efa\",\"#636efa\",\"#00cc96\",\"#636efa\",\"#636efa\",\"#636efa\",\"#636efa\",\"#636efa\",\"#636efa\",\"#636efa\",\"#636efa\",\"#636efa\",\"#636efa\",\"#636efa\",\"#EF553B\",\"#636efa\",\"#636efa\",\"#636efa\",\"#636efa\",\"#636efa\",\"#636efa\",\"#636efa\",\"#636efa\",\"#636efa\",\"#636efa\",\"#636efa\",\"#636efa\",\"#636efa\",\"#00cc96\",\"#636efa\",\"#00cc96\",\"#636efa\",\"#636efa\",\"#636efa\",\"#EF553B\",\"#636efa\",\"#636efa\",\"#636efa\",\"#636efa\",\"#636efa\",\"#636efa\",\"#636efa\",\"#00cc96\",\"#636efa\",\"#636efa\",\"#636efa\",\"#636efa\",\"#636efa\",\"#EF553B\",\"#636efa\",\"#636efa\",\"#636efa\",\"#00cc96\",\"#EF553B\",\"#EF553B\",\"#EF553B\",\"#ab63fa\",\"#00cc96\",\"#00cc96\",\"#EF553B\",\"#EF553B\",\"#636efa\",\"#EF553B\",\"#636efa\",\"#EF553B\",\"#636efa\",\"#EF553B\",\"#EF553B\",\"#EF553B\",\"#EF553B\",\"#EF553B\",\"#EF553B\",\"#EF553B\",\"#EF553B\",\"#00cc96\",\"#EF553B\",\"#EF553B\",\"#EF553B\",\"#EF553B\",\"#00cc96\",\"#EF553B\",\"#636efa\",\"#EF553B\",\"#EF553B\",\"#EF553B\",\"#636efa\",\"#EF553B\",\"#ab63fa\",\"#636efa\",\"#636efa\",\"#636efa\",\"#636efa\",\"#636efa\",\"#636efa\",\"#636efa\",\"#636efa\",\"#636efa\",\"#636efa\",\"#636efa\",\"#636efa\",\"#636efa\",\"#636efa\",\"#636efa\",\"#636efa\",\"#636efa\",\"#636efa\",\"#636efa\",\"#636efa\",\"#636efa\",\"#636efa\",\"#636efa\",\"#636efa\",\"#EF553B\",\"#636efa\",\"#636efa\",\"#636efa\",\"#636efa\",\"#636efa\",\"#636efa\",\"#EF553B\",\"#636efa\",\"#EF553B\",\"#636efa\",\"#EF553B\",\"#EF553B\",\"#636efa\",\"#636efa\",\"#636efa\",\"#636efa\",\"#636efa\",\"#636efa\",\"#636efa\",\"#EF553B\",\"#636efa\",\"#636efa\",\"#636efa\",\"#EF553B\",\"#636efa\",\"#636efa\",\"#636efa\",\"#636efa\",\"#636efa\",\"#636efa\",\"#636efa\",\"#EF553B\",\"#636efa\",\"#636efa\",\"#636efa\",\"#636efa\",\"#636efa\",\"#636efa\",\"#636efa\",\"#636efa\",\"#636efa\",\"#636efa\",\"#636efa\",\"#636efa\",\"#636efa\",\"#636efa\",\"#636efa\",\"#636efa\",\"#636efa\",\"#636efa\",\"#636efa\",\"#EF553B\",\"#636efa\",\"#636efa\",\"#636efa\",\"#636efa\",\"#636efa\",\"#636efa\",\"#636efa\",\"#636efa\",\"#636efa\",\"#636efa\",\"#636efa\",\"#636efa\",\"#636efa\",\"#636efa\",\"#636efa\",\"#636efa\",\"#636efa\",\"#636efa\",\"#636efa\",\"#636efa\",\"#00cc96\",\"#636efa\",\"#636efa\",\"#636efa\",\"#EF553B\",\"#636efa\",\"#636efa\",\"#EF553B\",\"#636efa\",\"#636efa\",\"#636efa\",\"#EF553B\",\"#636efa\",\"#EF553B\",\"#636efa\",\"#00cc96\",\"#636efa\",\"#636efa\",\"#636efa\",\"#636efa\",\"#636efa\",\"#636efa\",\"#636efa\",\"#636efa\",\"#636efa\",\"#636efa\",\"#636efa\",\"#00cc96\",\"#00cc96\",\"#636efa\",\"#636efa\",\"#636efa\",\"#636efa\",\"#636efa\",\"#636efa\",\"#636efa\",\"#636efa\",\"#636efa\",\"#636efa\",\"#636efa\",\"#00cc96\",\"#636efa\",\"#636efa\",\"#636efa\",\"#636efa\",\"#636efa\",\"#636efa\",\"#636efa\",\"#EF553B\",\"#636efa\",\"#636efa\",\"#636efa\",\"#EF553B\",\"#636efa\",\"#636efa\",\"#636efa\",\"#636efa\",\"#636efa\",\"#636efa\",\"#636efa\",\"#EF553B\",\"#636efa\",\"#636efa\",\"#636efa\",\"#636efa\",\"#636efa\",\"#636efa\",\"#636efa\",\"#636efa\",\"#636efa\",\"#00cc96\",\"#EF553B\",\"#636efa\",\"#EF553B\",\"#EF553B\",\"#636efa\",\"#636efa\",\"#636efa\",\"#636efa\",\"#636efa\",\"#636efa\",\"#ab63fa\",\"#636efa\",\"#ab63fa\",\"#636efa\",\"#636efa\",\"#636efa\",\"#636efa\",\"#636efa\",\"#636efa\",\"#00cc96\",\"#636efa\",\"#636efa\",\"#ab63fa\",\"#636efa\",\"#ab63fa\",\"#636efa\",\"#636efa\",\"#636efa\",\"#636efa\",\"#EF553B\",\"#636efa\",\"#636efa\",\"#636efa\",\"#636efa\",\"#ab63fa\",\"#636efa\",\"#ab63fa\",\"#EF553B\",\"#ab63fa\",\"#636efa\",\"#636efa\",\"#636efa\",\"#636efa\",\"#636efa\",\"#636efa\",\"#636efa\",\"#636efa\",\"#636efa\",\"#636efa\",\"#636efa\",\"#636efa\",\"#636efa\",\"#636efa\",\"#636efa\",\"#636efa\",\"#636efa\",\"#636efa\",\"#636efa\",\"#636efa\",\"#636efa\",\"#636efa\",\"#EF553B\",\"#636efa\",\"#636efa\",\"#636efa\",\"#636efa\",\"#636efa\",\"#636efa\",\"#636efa\",\"#636efa\",\"#636efa\",\"#636efa\",\"#636efa\",\"#636efa\",\"#636efa\",\"#636efa\",\"#636efa\",\"#636efa\",\"#636efa\",\"#636efa\",\"#636efa\",\"#636efa\",\"#636efa\",\"#636efa\",\"#636efa\",\"#636efa\",\"#636efa\",\"#636efa\",\"#636efa\",\"#636efa\",\"#636efa\",\"#636efa\",\"#636efa\",\"#636efa\",\"#636efa\",\"#636efa\",\"#636efa\",\"#636efa\",\"#636efa\",\"#636efa\",\"#636efa\",\"#636efa\",\"#636efa\",\"#636efa\",\"#636efa\",\"#636efa\",\"#636efa\",\"#636efa\",\"#636efa\",\"#636efa\",\"#636efa\",\"#636efa\",\"#636efa\",\"#636efa\",\"#636efa\",\"#636efa\",\"#636efa\",\"#00cc96\",\"#636efa\",\"#636efa\",\"#636efa\",\"#636efa\",\"#EF553B\",\"#636efa\",\"#636efa\",\"#636efa\",\"#00cc96\",\"#636efa\",\"#636efa\",\"#636efa\",\"#636efa\",\"#636efa\",\"#636efa\",\"#636efa\",\"#636efa\",\"#00cc96\",\"#636efa\",\"#636efa\",\"#636efa\",\"#636efa\",\"#636efa\",\"#636efa\",\"#636efa\",\"#EF553B\",\"#636efa\",\"#636efa\",\"#636efa\",\"#636efa\",\"#636efa\",\"#636efa\",\"#636efa\",\"#636efa\",\"#636efa\",\"#636efa\",\"#636efa\",\"#636efa\",\"#636efa\",\"#636efa\",\"#636efa\",\"#636efa\",\"#636efa\",\"#636efa\",\"#636efa\",\"#EF553B\",\"#636efa\",\"#636efa\",\"#636efa\",\"#636efa\",\"#636efa\",\"#636efa\",\"#636efa\",\"#636efa\",\"#636efa\",\"#636efa\",\"#636efa\",\"#636efa\",\"#EF553B\",\"#636efa\",\"#636efa\",\"#636efa\",\"#636efa\",\"#636efa\",\"#636efa\",\"#636efa\",\"#636efa\",\"#636efa\",\"#636efa\",\"#636efa\",\"#636efa\",\"#636efa\",\"#636efa\",\"#636efa\",\"#636efa\",\"#636efa\",\"#636efa\",\"#636efa\",\"#636efa\",\"#636efa\",\"#636efa\",\"#EF553B\",\"#636efa\",\"#636efa\",\"#636efa\",\"#636efa\",\"#636efa\",\"#636efa\",\"#636efa\",\"#636efa\",\"#636efa\",\"#636efa\",\"#636efa\",\"#636efa\",\"#636efa\",\"#636efa\",\"#636efa\",\"#636efa\",\"#636efa\",\"#636efa\",\"#636efa\",\"#636efa\",\"#EF553B\",\"#EF553B\",\"#636efa\",\"#EF553B\",\"#EF553B\",\"#636efa\",\"#636efa\",\"#EF553B\",\"#636efa\",\"#636efa\",\"#EF553B\",\"#636efa\",\"#636efa\",\"#636efa\",\"#636efa\",\"#636efa\",\"#EF553B\",\"#636efa\",\"#636efa\",\"#EF553B\",\"#636efa\",\"#EF553B\",\"#EF553B\",\"#EF553B\",\"#EF553B\",\"#636efa\",\"#636efa\",\"#636efa\",\"#00cc96\",\"#EF553B\",\"#636efa\",\"#00cc96\",\"#00cc96\",\"#636efa\",\"#EF553B\",\"#636efa\",\"#636efa\",\"#636efa\",\"#636efa\",\"#EF553B\",\"#EF553B\",\"#EF553B\",\"#636efa\",\"#636efa\",\"#636efa\",\"#636efa\",\"#EF553B\",\"#636efa\",\"#ab63fa\",\"#ab63fa\",\"#ab63fa\",\"#ab63fa\",\"#EF553B\",\"#EF553B\",\"#EF553B\",\"#ab63fa\",\"#636efa\",\"#ab63fa\",\"#636efa\",\"#636efa\",\"#EF553B\",\"#636efa\",\"#636efa\",\"#636efa\",\"#636efa\",\"#ab63fa\",\"#636efa\",\"#636efa\",\"#EF553B\",\"#636efa\",\"#636efa\",\"#636efa\",\"#636efa\",\"#636efa\",\"#636efa\",\"#636efa\",\"#636efa\",\"#636efa\",\"#636efa\",\"#636efa\",\"#636efa\",\"#636efa\",\"#636efa\",\"#636efa\",\"#636efa\",\"#636efa\",\"#636efa\",\"#ab63fa\",\"#636efa\",\"#636efa\",\"#636efa\",\"#636efa\",\"#636efa\",\"#636efa\",\"#636efa\",\"#636efa\",\"#636efa\",\"#636efa\",\"#EF553B\",\"#636efa\",\"#636efa\",\"#636efa\",\"#636efa\",\"#636efa\",\"#636efa\",\"#636efa\",\"#636efa\",\"#636efa\",\"#636efa\",\"#636efa\",\"#636efa\",\"#EF553B\",\"#636efa\",\"#636efa\",\"#636efa\",\"#636efa\",\"#636efa\",\"#636efa\",\"#636efa\",\"#636efa\",\"#636efa\",\"#EF553B\",\"#636efa\",\"#636efa\",\"#EF553B\",\"#EF553B\",\"#636efa\",\"#636efa\",\"#636efa\",\"#636efa\",\"#636efa\",\"#EF553B\",\"#EF553B\",\"#636efa\",\"#636efa\",\"#EF553B\",\"#636efa\",\"#636efa\",\"#636efa\",\"#636efa\",\"#636efa\",\"#636efa\",\"#636efa\",\"#636efa\",\"#636efa\",\"#00cc96\",\"#636efa\",\"#EF553B\",\"#636efa\",\"#636efa\",\"#636efa\",\"#636efa\",\"#636efa\",\"#636efa\",\"#636efa\",\"#636efa\",\"#EF553B\",\"#636efa\",\"#636efa\",\"#636efa\",\"#636efa\",\"#636efa\",\"#636efa\",\"#636efa\",\"#636efa\",\"#636efa\",\"#636efa\",\"#636efa\",\"#636efa\",\"#636efa\",\"#ab63fa\",\"#636efa\",\"#636efa\",\"#636efa\",\"#636efa\",\"#636efa\",\"#636efa\",\"#636efa\",\"#636efa\",\"#636efa\",\"#636efa\",\"#EF553B\",\"#636efa\",\"#636efa\",\"#636efa\",\"#636efa\",\"#636efa\",\"#636efa\",\"#636efa\",\"#636efa\",\"#636efa\",\"#636efa\",\"#EF553B\",\"#636efa\",\"#636efa\",\"#636efa\",\"#636efa\",\"#EF553B\",\"#636efa\",\"#636efa\",\"#636efa\",\"#636efa\",\"#636efa\",\"#ab63fa\",\"#636efa\",\"#636efa\",\"#636efa\",\"#636efa\",\"#636efa\",\"#EF553B\",\"#636efa\",\"#ab63fa\",\"#636efa\",\"#636efa\",\"#636efa\",\"#636efa\",\"#636efa\",\"#636efa\",\"#636efa\",\"#636efa\",\"#636efa\",\"#ab63fa\",\"#636efa\",\"#636efa\",\"#636efa\",\"#ab63fa\",\"#636efa\",\"#ab63fa\",\"#636efa\",\"#636efa\",\"#636efa\",\"#636efa\",\"#636efa\",\"#636efa\",\"#636efa\",\"#636efa\",\"#EF553B\",\"#636efa\",\"#636efa\",\"#636efa\",\"#636efa\",\"#EF553B\",\"#636efa\",\"#636efa\",\"#636efa\",\"#636efa\",\"#636efa\",\"#636efa\",\"#636efa\",\"#636efa\",\"#636efa\",\"#636efa\",\"#636efa\",\"#636efa\",\"#EF553B\",\"#636efa\",\"#636efa\",\"#EF553B\",\"#636efa\",\"#EF553B\",\"#EF553B\",\"#ab63fa\",\"#636efa\",\"#636efa\",\"#636efa\",\"#ab63fa\",\"#EF553B\",\"#636efa\",\"#EF553B\",\"#636efa\",\"#636efa\",\"#EF553B\",\"#EF553B\",\"#636efa\",\"#EF553B\",\"#636efa\",\"#636efa\",\"#636efa\",\"#EF553B\",\"#636efa\",\"#636efa\",\"#EF553B\",\"#636efa\",\"#EF553B\",\"#636efa\",\"#EF553B\",\"#636efa\",\"#636efa\",\"#EF553B\",\"#636efa\",\"#636efa\",\"#636efa\",\"#636efa\",\"#636efa\",\"#636efa\",\"#636efa\",\"#636efa\",\"#636efa\",\"#636efa\",\"#636efa\",\"#636efa\",\"#ab63fa\",\"#EF553B\",\"#636efa\",\"#ab63fa\",\"#636efa\",\"#636efa\",\"#636efa\",\"#636efa\",\"#EF553B\",\"#636efa\",\"#636efa\",\"#636efa\",\"#636efa\",\"#636efa\",\"#636efa\",\"#636efa\",\"#636efa\",\"#636efa\",\"#636efa\",\"#636efa\",\"#636efa\",\"#636efa\",\"#636efa\",\"#636efa\",\"#636efa\",\"#636efa\",\"#636efa\",\"#636efa\",\"#636efa\",\"#636efa\",\"#636efa\",\"#EF553B\",\"#ab63fa\",\"#ab63fa\",\"#EF553B\",\"#ab63fa\",\"#ab63fa\",\"#EF553B\",\"#EF553B\",\"#EF553B\",\"#636efa\",\"#EF553B\",\"#EF553B\",\"#EF553B\",\"#EF553B\",\"#EF553B\",\"#ab63fa\",\"#ab63fa\",\"#636efa\",\"#636efa\",\"#EF553B\",\"#636efa\",\"#636efa\",\"#FFA15A\",\"#636efa\",\"#EF553B\",\"#636efa\",\"#636efa\",\"#636efa\",\"#636efa\",\"#EF553B\",\"#636efa\",\"#636efa\",\"#636efa\",\"#636efa\",\"#636efa\",\"#636efa\",\"#636efa\",\"#636efa\",\"#636efa\",\"#636efa\",\"#636efa\",\"#636efa\",\"#636efa\",\"#636efa\",\"#636efa\",\"#636efa\",\"#EF553B\",\"#636efa\",\"#636efa\",\"#636efa\",\"#636efa\",\"#636efa\",\"#636efa\",\"#636efa\",\"#636efa\",\"#636efa\",\"#EF553B\",\"#636efa\",\"#636efa\",\"#636efa\",\"#636efa\",\"#636efa\",\"#636efa\",\"#636efa\",\"#636efa\",\"#636efa\",\"#EF553B\",\"#636efa\",\"#636efa\",\"#636efa\",\"#636efa\",\"#636efa\",\"#636efa\",\"#636efa\",\"#636efa\",\"#636efa\",\"#636efa\",\"#636efa\",\"#636efa\",\"#636efa\",\"#636efa\",\"#636efa\",\"#636efa\",\"#636efa\",\"#636efa\",\"#636efa\",\"#636efa\",\"#636efa\",\"#636efa\",\"#636efa\",\"#636efa\",\"#636efa\",\"#636efa\",\"#636efa\",\"#636efa\",\"#636efa\",\"#636efa\",\"#636efa\",\"#636efa\",\"#636efa\",\"#636efa\",\"#636efa\",\"#636efa\",\"#636efa\",\"#636efa\",\"#636efa\",\"#636efa\",\"#636efa\",\"#636efa\",\"#636efa\",\"#636efa\",\"#636efa\",\"#EF553B\",\"#636efa\",\"#636efa\",\"#636efa\",\"#636efa\",\"#636efa\",\"#636efa\",\"#636efa\",\"#636efa\",\"#636efa\",\"#636efa\",\"#636efa\",\"#636efa\",\"#636efa\",\"#636efa\",\"#636efa\",\"#EF553B\",\"#636efa\",\"#636efa\",\"#636efa\",\"#636efa\",\"#636efa\",\"#636efa\",\"#636efa\",\"#636efa\",\"#636efa\",\"#636efa\",\"#636efa\",\"#636efa\",\"#636efa\",\"#636efa\",\"#636efa\",\"#00cc96\",\"#636efa\",\"#636efa\",\"#636efa\",\"#EF553B\",\"#636efa\",\"#EF553B\",\"#EF553B\",\"#636efa\",\"#636efa\",\"#636efa\",\"#EF553B\",\"#EF553B\",\"#636efa\",\"#EF553B\",\"#636efa\",\"#EF553B\",\"#636efa\",\"#636efa\",\"#636efa\",\"#EF553B\",\"#00cc96\",\"#EF553B\",\"#636efa\",\"#EF553B\",\"#636efa\",\"#636efa\",\"#636efa\",\"#636efa\",\"#636efa\",\"#636efa\",\"#636efa\",\"#636efa\",\"#636efa\",\"#636efa\",\"#636efa\",\"#636efa\",\"#636efa\",\"#636efa\",\"#636efa\",\"#636efa\",\"#636efa\",\"#636efa\",\"#636efa\",\"#636efa\",\"#636efa\",\"#636efa\",\"#636efa\",\"#636efa\",\"#636efa\",\"#636efa\",\"#636efa\",\"#636efa\",\"#636efa\",\"#636efa\",\"#636efa\",\"#636efa\",\"#636efa\",\"#00cc96\",\"#636efa\",\"#636efa\",\"#636efa\",\"#636efa\",\"#636efa\",\"#636efa\",\"#636efa\",\"#636efa\",\"#00cc96\",\"#636efa\",\"#636efa\",\"#636efa\",\"#636efa\",\"#636efa\",\"#636efa\",\"#636efa\",\"#636efa\",\"#EF553B\",\"#00cc96\",\"#636efa\",\"#636efa\",\"#636efa\",\"#636efa\",\"#636efa\",\"#636efa\",\"#636efa\",\"#636efa\",\"#636efa\",\"#636efa\",\"#636efa\",\"#636efa\",\"#636efa\",\"#636efa\",\"#636efa\",\"#636efa\",\"#636efa\",\"#636efa\",\"#636efa\",\"#636efa\",\"#636efa\",\"#636efa\",\"#636efa\",\"#EF553B\",\"#636efa\",\"#636efa\",\"#636efa\",\"#636efa\",\"#636efa\",\"#636efa\",\"#00cc96\",\"#636efa\",\"#636efa\",\"#636efa\",\"#636efa\",\"#636efa\",\"#636efa\",\"#636efa\",\"#636efa\",\"#636efa\",\"#636efa\",\"#636efa\",\"#636efa\",\"#636efa\",\"#636efa\",\"#636efa\",\"#636efa\",\"#636efa\",\"#EF553B\",\"#636efa\",\"#636efa\",\"#636efa\",\"#636efa\",\"#636efa\",\"#636efa\",\"#00cc96\",\"#EF553B\",\"#636efa\",\"#636efa\",\"#636efa\",\"#636efa\",\"#636efa\",\"#636efa\",\"#636efa\",\"#636efa\",\"#636efa\",\"#EF553B\",\"#636efa\",\"#EF553B\",\"#00cc96\",\"#EF553B\",\"#636efa\",\"#EF553B\",\"#EF553B\",\"#636efa\",\"#636efa\",\"#636efa\",\"#636efa\",\"#636efa\",\"#EF553B\",\"#636efa\",\"#636efa\",\"#EF553B\",\"#636efa\",\"#636efa\",\"#636efa\",\"#636efa\",\"#636efa\",\"#636efa\",\"#636efa\",\"#636efa\",\"#636efa\",\"#636efa\",\"#636efa\",\"#ab63fa\",\"#636efa\",\"#636efa\",\"#636efa\",\"#636efa\",\"#636efa\",\"#636efa\",\"#636efa\",\"#636efa\",\"#636efa\",\"#636efa\",\"#636efa\",\"#EF553B\",\"#636efa\",\"#636efa\",\"#636efa\",\"#636efa\",\"#636efa\",\"#636efa\",\"#636efa\",\"#636efa\",\"#EF553B\",\"#EF553B\",\"#636efa\",\"#636efa\",\"#636efa\",\"#636efa\",\"#636efa\",\"#636efa\",\"#636efa\",\"#EF553B\",\"#636efa\",\"#636efa\",\"#636efa\",\"#636efa\",\"#636efa\",\"#636efa\",\"#636efa\",\"#636efa\",\"#636efa\",\"#636efa\",\"#636efa\",\"#636efa\",\"#636efa\",\"#636efa\",\"#636efa\",\"#EF553B\",\"#636efa\",\"#636efa\",\"#636efa\",\"#636efa\",\"#636efa\",\"#636efa\",\"#636efa\",\"#636efa\",\"#636efa\",\"#636efa\",\"#636efa\",\"#636efa\",\"#ab63fa\",\"#636efa\",\"#636efa\",\"#636efa\",\"#636efa\",\"#636efa\",\"#636efa\",\"#636efa\",\"#636efa\",\"#636efa\",\"#636efa\",\"#636efa\",\"#636efa\",\"#636efa\",\"#636efa\",\"#636efa\",\"#636efa\",\"#636efa\",\"#636efa\",\"#636efa\",\"#636efa\",\"#636efa\",\"#636efa\",\"#636efa\",\"#636efa\",\"#636efa\",\"#EF553B\",\"#636efa\",\"#636efa\",\"#636efa\",\"#636efa\",\"#636efa\",\"#636efa\",\"#636efa\",\"#636efa\",\"#636efa\",\"#636efa\",\"#636efa\",\"#636efa\",\"#636efa\",\"#636efa\",\"#636efa\",\"#636efa\",\"#636efa\",\"#636efa\",\"#636efa\",\"#636efa\",\"#636efa\",\"#636efa\",\"#636efa\",\"#636efa\",\"#636efa\",\"#636efa\",\"#EF553B\",\"#636efa\",\"#ab63fa\",\"#636efa\",\"#636efa\",\"#636efa\",\"#00cc96\",\"#636efa\",\"#636efa\",\"#636efa\",\"#636efa\",\"#636efa\",\"#636efa\",\"#636efa\",\"#636efa\",\"#636efa\",\"#636efa\",\"#636efa\",\"#EF553B\",\"#636efa\",\"#636efa\",\"#636efa\",\"#636efa\",\"#636efa\",\"#636efa\",\"#636efa\",\"#636efa\",\"#636efa\",\"#636efa\",\"#636efa\",\"#00cc96\",\"#636efa\",\"#636efa\",\"#636efa\",\"#636efa\",\"#636efa\",\"#636efa\",\"#EF553B\",\"#636efa\",\"#EF553B\",\"#636efa\",\"#636efa\",\"#636efa\",\"#636efa\",\"#636efa\",\"#636efa\",\"#636efa\",\"#636efa\",\"#636efa\",\"#636efa\",\"#636efa\",\"#636efa\",\"#636efa\",\"#636efa\",\"#636efa\",\"#636efa\",\"#636efa\",\"#636efa\",\"#636efa\",\"#636efa\",\"#636efa\",\"#636efa\",\"#636efa\",\"#636efa\",\"#636efa\",\"#636efa\",\"#636efa\",\"#636efa\",\"#636efa\",\"#636efa\",\"#636efa\",\"#636efa\",\"#636efa\",\"#ab63fa\",\"#636efa\",\"#636efa\",\"#636efa\",\"#636efa\",\"#00cc96\",\"#636efa\",\"#636efa\",\"#636efa\",\"#636efa\",\"#636efa\",\"#636efa\",\"#636efa\",\"#636efa\",\"#636efa\",\"#636efa\",\"#636efa\",\"#636efa\",\"#636efa\",\"#636efa\",\"#636efa\",\"#636efa\",\"#636efa\",\"#636efa\",\"#636efa\",\"#636efa\",\"#636efa\",\"#636efa\",\"#636efa\",\"#636efa\",\"#636efa\",\"#636efa\",\"#636efa\",\"#636efa\",\"#636efa\",\"#636efa\",\"#636efa\",\"#636efa\",\"#636efa\",\"#636efa\",\"#636efa\",\"#EF553B\",\"#636efa\",\"#636efa\",\"#636efa\",\"#636efa\",\"#EF553B\",\"#EF553B\",\"#636efa\",\"#636efa\",\"#636efa\",\"#636efa\",\"#636efa\",\"#00cc96\",\"#636efa\",\"#636efa\",\"#636efa\",\"#636efa\",\"#636efa\",\"#636efa\",\"#636efa\",\"#636efa\",\"#636efa\",\"#636efa\",\"#EF553B\",\"#636efa\",\"#636efa\",\"#EF553B\",\"#636efa\",\"#636efa\",\"#636efa\",\"#636efa\",\"#636efa\",\"#636efa\",\"#636efa\",\"#636efa\",\"#636efa\",\"#636efa\",\"#636efa\",\"#636efa\",\"#636efa\",\"#636efa\",\"#636efa\",\"#636efa\",\"#EF553B\",\"#636efa\",\"#636efa\",\"#636efa\",\"#636efa\",\"#636efa\",\"#ab63fa\",\"#636efa\",\"#636efa\",\"#636efa\",\"#636efa\",\"#636efa\",\"#636efa\",\"#636efa\",\"#636efa\",\"#636efa\",\"#636efa\",\"#636efa\",\"#636efa\",\"#EF553B\",\"#636efa\",\"#636efa\",\"#ab63fa\",\"#636efa\",\"#636efa\",\"#EF553B\",\"#636efa\",\"#636efa\",\"#636efa\",\"#636efa\",\"#636efa\",\"#636efa\",\"#636efa\",\"#636efa\",\"#636efa\",\"#636efa\",\"#636efa\",\"#636efa\",\"#636efa\",\"#636efa\",\"#636efa\",\"#636efa\",\"#636efa\",\"#636efa\",\"#636efa\",\"#ab63fa\",\"#636efa\",\"#EF553B\",\"#636efa\",\"#636efa\",\"#636efa\",\"#636efa\",\"#EF553B\",\"#636efa\",\"#636efa\",\"#636efa\",\"#636efa\",\"#636efa\",\"#636efa\",\"#636efa\",\"#636efa\",\"#636efa\",\"#636efa\",\"#636efa\",\"#EF553B\",\"#636efa\",\"#636efa\",\"#636efa\",\"#636efa\",\"#EF553B\",\"#636efa\",\"#EF553B\",\"#EF553B\",\"#636efa\",\"#636efa\",\"#636efa\",\"#636efa\",\"#636efa\",\"#EF553B\",\"#636efa\",\"#EF553B\",\"#ab63fa\",\"#636efa\",\"#EF553B\",\"#636efa\",\"#636efa\",\"#636efa\",\"#636efa\",\"#636efa\",\"#636efa\",\"#636efa\",\"#636efa\",\"#636efa\",\"#636efa\",\"#636efa\",\"#636efa\",\"#636efa\",\"#636efa\",\"#EF553B\",\"#636efa\",\"#636efa\",\"#ab63fa\",\"#636efa\",\"#636efa\",\"#636efa\",\"#636efa\",\"#636efa\",\"#636efa\",\"#636efa\",\"#636efa\",\"#EF553B\",\"#636efa\",\"#636efa\",\"#636efa\",\"#636efa\",\"#636efa\",\"#636efa\",\"#636efa\",\"#636efa\",\"#636efa\",\"#636efa\",\"#636efa\",\"#636efa\",\"#636efa\",\"#636efa\",\"#636efa\",\"#EF553B\",\"#636efa\",\"#636efa\",\"#EF553B\",\"#636efa\",\"#636efa\",\"#636efa\",\"#636efa\",\"#636efa\",\"#636efa\",\"#636efa\",\"#636efa\",\"#636efa\",\"#636efa\",\"#636efa\",\"#636efa\",\"#636efa\",\"#636efa\",\"#636efa\",\"#636efa\",\"#636efa\",\"#636efa\",\"#636efa\",\"#636efa\",\"#636efa\",\"#636efa\",\"#636efa\",\"#636efa\",\"#636efa\",\"#636efa\",\"#636efa\",\"#636efa\",\"#636efa\",\"#636efa\",\"#636efa\",\"#636efa\",\"#636efa\",\"#636efa\",\"#636efa\",\"#636efa\",\"#636efa\",\"#ab63fa\",\"#636efa\",\"#636efa\",\"#636efa\",\"#636efa\",\"#636efa\",\"#636efa\",\"#636efa\",\"#00cc96\",\"#636efa\",\"#636efa\",\"#636efa\",\"#636efa\",\"#636efa\",\"#636efa\",\"#636efa\",\"#00cc96\",\"#00cc96\",\"#636efa\",\"#636efa\",\"#00cc96\",\"#636efa\",\"#636efa\",\"#636efa\",\"#636efa\",\"#00cc96\",\"#636efa\",\"#636efa\",\"#636efa\",\"#636efa\",\"#636efa\",\"#636efa\",\"#636efa\",\"#636efa\",\"#636efa\",\"#636efa\",\"#636efa\",\"#636efa\",\"#636efa\",\"#636efa\",\"#636efa\",\"#636efa\",\"#636efa\",\"#636efa\",\"#636efa\",\"#EF553B\",\"#636efa\",\"#636efa\",\"#636efa\",\"#636efa\",\"#636efa\",\"#636efa\",\"#636efa\",\"#636efa\",\"#636efa\",\"#EF553B\",\"#EF553B\",\"#636efa\",\"#636efa\",\"#636efa\",\"#636efa\",\"#EF553B\",\"#636efa\",\"#636efa\",\"#636efa\",\"#EF553B\",\"#EF553B\",\"#636efa\",\"#636efa\",\"#636efa\",\"#636efa\",\"#EF553B\",\"#636efa\",\"#636efa\",\"#636efa\",\"#636efa\",\"#ab63fa\",\"#636efa\",\"#636efa\",\"#636efa\",\"#EF553B\",\"#636efa\",\"#EF553B\",\"#636efa\",\"#636efa\",\"#636efa\",\"#636efa\",\"#EF553B\",\"#636efa\",\"#636efa\",\"#636efa\",\"#636efa\",\"#636efa\",\"#636efa\",\"#00cc96\",\"#636efa\",\"#EF553B\",\"#636efa\",\"#EF553B\",\"#636efa\",\"#636efa\",\"#636efa\",\"#636efa\",\"#636efa\",\"#EF553B\",\"#636efa\",\"#636efa\",\"#ab63fa\",\"#636efa\",\"#636efa\",\"#636efa\",\"#636efa\",\"#636efa\",\"#636efa\",\"#636efa\",\"#636efa\",\"#636efa\",\"#636efa\",\"#EF553B\",\"#636efa\",\"#EF553B\",\"#19d3f3\",\"#EF553B\",\"#EF553B\",\"#636efa\",\"#636efa\",\"#EF553B\",\"#636efa\",\"#636efa\",\"#636efa\",\"#636efa\",\"#636efa\",\"#EF553B\",\"#636efa\",\"#EF553B\",\"#636efa\",\"#636efa\",\"#636efa\",\"#EF553B\",\"#636efa\",\"#636efa\",\"#636efa\",\"#636efa\",\"#636efa\",\"#636efa\",\"#00cc96\",\"#636efa\",\"#EF553B\",\"#636efa\",\"#636efa\",\"#EF553B\",\"#636efa\",\"#636efa\",\"#636efa\",\"#636efa\",\"#636efa\",\"#636efa\",\"#636efa\",\"#636efa\",\"#636efa\",\"#636efa\",\"#636efa\",\"#636efa\",\"#636efa\",\"#00cc96\",\"#636efa\",\"#636efa\",\"#EF553B\",\"#636efa\",\"#636efa\",\"#636efa\",\"#636efa\",\"#00cc96\",\"#636efa\",\"#636efa\",\"#636efa\",\"#636efa\",\"#636efa\",\"#636efa\",\"#636efa\",\"#636efa\",\"#636efa\",\"#636efa\",\"#636efa\",\"#636efa\",\"#636efa\",\"#636efa\",\"#636efa\",\"#636efa\",\"#636efa\",\"#636efa\",\"#636efa\",\"#636efa\",\"#636efa\",\"#636efa\",\"#636efa\",\"#636efa\",\"#636efa\",\"#636efa\",\"#636efa\",\"#636efa\",\"#636efa\",\"#636efa\",\"#ab63fa\",\"#636efa\",\"#636efa\",\"#636efa\",\"#636efa\",\"#636efa\",\"#636efa\",\"#00cc96\",\"#636efa\",\"#636efa\",\"#ab63fa\",\"#636efa\",\"#636efa\",\"#636efa\",\"#636efa\",\"#636efa\",\"#636efa\",\"#EF553B\",\"#636efa\",\"#ab63fa\",\"#636efa\",\"#636efa\",\"#636efa\",\"#EF553B\",\"#636efa\",\"#636efa\",\"#636efa\",\"#636efa\",\"#636efa\",\"#636efa\",\"#EF553B\",\"#ab63fa\",\"#636efa\",\"#636efa\",\"#636efa\",\"#636efa\",\"#EF553B\",\"#636efa\",\"#636efa\",\"#00cc96\",\"#636efa\",\"#636efa\",\"#636efa\",\"#EF553B\",\"#636efa\",\"#ab63fa\",\"#636efa\",\"#636efa\",\"#636efa\",\"#636efa\",\"#EF553B\",\"#00cc96\",\"#ab63fa\",\"#EF553B\",\"#ab63fa\",\"#ab63fa\",\"#636efa\",\"#EF553B\",\"#636efa\",\"#636efa\",\"#636efa\",\"#ab63fa\",\"#636efa\",\"#636efa\",\"#636efa\",\"#EF553B\",\"#EF553B\",\"#ab63fa\",\"#636efa\",\"#ab63fa\",\"#636efa\",\"#636efa\",\"#636efa\",\"#636efa\",\"#ab63fa\",\"#ab63fa\",\"#EF553B\",\"#636efa\",\"#636efa\",\"#636efa\",\"#636efa\",\"#636efa\",\"#636efa\",\"#00cc96\",\"#636efa\",\"#636efa\",\"#636efa\",\"#EF553B\",\"#636efa\",\"#636efa\",\"#636efa\",\"#ab63fa\",\"#636efa\",\"#636efa\",\"#636efa\",\"#636efa\",\"#636efa\",\"#ab63fa\",\"#636efa\",\"#636efa\",\"#636efa\",\"#636efa\",\"#636efa\",\"#ab63fa\",\"#636efa\",\"#636efa\",\"#636efa\",\"#ab63fa\",\"#636efa\",\"#EF553B\",\"#636efa\",\"#636efa\",\"#636efa\",\"#636efa\",\"#EF553B\",\"#636efa\",\"#EF553B\",\"#636efa\",\"#ab63fa\",\"#ab63fa\",\"#636efa\",\"#636efa\",\"#636efa\",\"#636efa\",\"#EF553B\",\"#636efa\",\"#636efa\",\"#636efa\",\"#636efa\",\"#636efa\",\"#636efa\",\"#EF553B\",\"#636efa\",\"#636efa\",\"#636efa\",\"#636efa\",\"#636efa\",\"#636efa\",\"#636efa\",\"#636efa\",\"#636efa\",\"#636efa\",\"#636efa\",\"#636efa\",\"#636efa\",\"#636efa\",\"#636efa\",\"#636efa\",\"#636efa\",\"#636efa\",\"#636efa\",\"#636efa\",\"#636efa\",\"#636efa\",\"#636efa\",\"#636efa\",\"#636efa\",\"#636efa\",\"#636efa\",\"#636efa\",\"#636efa\",\"#636efa\",\"#636efa\",\"#636efa\",\"#636efa\",\"#636efa\",\"#636efa\",\"#636efa\",\"#636efa\",\"#636efa\",\"#636efa\",\"#636efa\",\"#636efa\",\"#636efa\",\"#636efa\",\"#636efa\",\"#636efa\",\"#00cc96\",\"#636efa\",\"#00cc96\",\"#636efa\",\"#636efa\",\"#00cc96\",\"#636efa\",\"#636efa\",\"#00cc96\",\"#636efa\",\"#636efa\",\"#636efa\",\"#636efa\",\"#ab63fa\",\"#00cc96\",\"#636efa\",\"#636efa\",\"#00cc96\",\"#636efa\",\"#636efa\",\"#636efa\",\"#636efa\",\"#636efa\",\"#636efa\",\"#636efa\",\"#636efa\",\"#00cc96\",\"#636efa\",\"#00cc96\",\"#636efa\",\"#636efa\",\"#00cc96\",\"#636efa\",\"#00cc96\",\"#636efa\",\"#00cc96\",\"#636efa\",\"#636efa\",\"#636efa\",\"#636efa\",\"#636efa\",\"#636efa\",\"#636efa\",\"#636efa\",\"#636efa\",\"#636efa\",\"#636efa\",\"#636efa\",\"#636efa\",\"#636efa\",\"#636efa\",\"#636efa\",\"#636efa\",\"#636efa\",\"#636efa\",\"#636efa\",\"#EF553B\",\"#636efa\",\"#636efa\",\"#636efa\",\"#636efa\",\"#636efa\",\"#636efa\",\"#636efa\",\"#636efa\",\"#636efa\",\"#636efa\",\"#636efa\",\"#636efa\",\"#636efa\",\"#636efa\",\"#636efa\",\"#636efa\",\"#EF553B\",\"#636efa\",\"#EF553B\",\"#636efa\",\"#636efa\",\"#636efa\",\"#EF553B\",\"#636efa\",\"#636efa\",\"#636efa\",\"#EF553B\",\"#636efa\",\"#636efa\",\"#00cc96\",\"#636efa\",\"#636efa\",\"#EF553B\",\"#636efa\",\"#636efa\",\"#636efa\",\"#636efa\",\"#636efa\",\"#636efa\",\"#636efa\",\"#EF553B\",\"#636efa\",\"#636efa\",\"#636efa\",\"#636efa\",\"#636efa\",\"#636efa\",\"#636efa\",\"#636efa\",\"#636efa\",\"#636efa\",\"#636efa\",\"#EF553B\",\"#636efa\",\"#636efa\",\"#636efa\",\"#636efa\",\"#636efa\",\"#636efa\",\"#636efa\",\"#EF553B\",\"#636efa\",\"#636efa\",\"#636efa\",\"#636efa\",\"#636efa\",\"#636efa\",\"#636efa\",\"#636efa\",\"#636efa\",\"#636efa\",\"#00cc96\",\"#636efa\",\"#00cc96\",\"#00cc96\",\"#636efa\",\"#636efa\",\"#636efa\",\"#636efa\",\"#636efa\",\"#636efa\",\"#636efa\",\"#636efa\",\"#636efa\",\"#636efa\",\"#636efa\",\"#636efa\",\"#636efa\",\"#636efa\",\"#636efa\",\"#636efa\",\"#636efa\",\"#636efa\",\"#636efa\",\"#636efa\",\"#EF553B\",\"#EF553B\",\"#636efa\",\"#636efa\",\"#EF553B\",\"#636efa\",\"#636efa\",\"#636efa\",\"#636efa\",\"#636efa\",\"#636efa\",\"#EF553B\",\"#636efa\",\"#EF553B\",\"#636efa\",\"#00cc96\",\"#636efa\",\"#636efa\",\"#636efa\",\"#636efa\",\"#636efa\",\"#636efa\",\"#636efa\",\"#636efa\",\"#636efa\",\"#636efa\",\"#636efa\",\"#636efa\",\"#636efa\",\"#636efa\",\"#636efa\",\"#636efa\",\"#00cc96\",\"#636efa\",\"#636efa\",\"#636efa\",\"#636efa\",\"#636efa\",\"#636efa\",\"#636efa\",\"#636efa\",\"#636efa\",\"#636efa\",\"#636efa\",\"#636efa\",\"#636efa\",\"#636efa\",\"#636efa\",\"#636efa\",\"#636efa\",\"#636efa\",\"#636efa\",\"#636efa\",\"#636efa\",\"#636efa\",\"#EF553B\",\"#636efa\",\"#636efa\",\"#636efa\",\"#636efa\",\"#636efa\",\"#636efa\",\"#636efa\",\"#636efa\",\"#636efa\",\"#636efa\",\"#636efa\",\"#636efa\",\"#636efa\",\"#ab63fa\",\"#636efa\",\"#ab63fa\",\"#ab63fa\",\"#EF553B\",\"#636efa\",\"#EF553B\",\"#636efa\",\"#636efa\",\"#636efa\",\"#EF553B\",\"#636efa\",\"#EF553B\",\"#636efa\",\"#636efa\",\"#EF553B\",\"#636efa\",\"#636efa\",\"#636efa\",\"#636efa\",\"#636efa\",\"#EF553B\",\"#636efa\",\"#636efa\",\"#EF553B\",\"#EF553B\",\"#636efa\",\"#EF553B\",\"#636efa\",\"#EF553B\",\"#636efa\",\"#636efa\",\"#EF553B\",\"#636efa\",\"#636efa\",\"#636efa\",\"#636efa\",\"#EF553B\",\"#636efa\",\"#636efa\",\"#636efa\",\"#636efa\",\"#636efa\",\"#636efa\",\"#636efa\",\"#636efa\",\"#636efa\",\"#636efa\",\"#636efa\",\"#636efa\",\"#636efa\",\"#636efa\",\"#636efa\",\"#636efa\",\"#636efa\",\"#636efa\",\"#636efa\",\"#636efa\",\"#636efa\",\"#636efa\",\"#636efa\",\"#636efa\",\"#636efa\",\"#636efa\",\"#636efa\",\"#636efa\",\"#636efa\",\"#EF553B\",\"#636efa\",\"#636efa\",\"#ab63fa\",\"#636efa\",\"#636efa\",\"#636efa\",\"#636efa\",\"#636efa\",\"#636efa\",\"#636efa\",\"#636efa\",\"#636efa\",\"#636efa\",\"#636efa\",\"#EF553B\",\"#636efa\",\"#636efa\",\"#636efa\",\"#636efa\",\"#636efa\",\"#636efa\",\"#636efa\",\"#636efa\",\"#636efa\",\"#EF553B\",\"#636efa\",\"#636efa\",\"#636efa\",\"#636efa\",\"#636efa\",\"#636efa\",\"#636efa\",\"#636efa\",\"#636efa\",\"#636efa\",\"#636efa\",\"#636efa\",\"#636efa\",\"#636efa\",\"#636efa\",\"#636efa\",\"#636efa\",\"#636efa\",\"#636efa\",\"#636efa\",\"#636efa\",\"#636efa\",\"#636efa\",\"#636efa\",\"#636efa\",\"#636efa\",\"#636efa\",\"#636efa\",\"#636efa\",\"#636efa\",\"#636efa\",\"#636efa\",\"#636efa\",\"#EF553B\",\"#EF553B\",\"#636efa\",\"#636efa\",\"#636efa\",\"#636efa\",\"#636efa\",\"#636efa\",\"#636efa\",\"#636efa\",\"#636efa\",\"#EF553B\",\"#636efa\",\"#636efa\",\"#636efa\",\"#636efa\",\"#636efa\",\"#636efa\",\"#636efa\",\"#636efa\",\"#636efa\",\"#636efa\",\"#636efa\",\"#636efa\",\"#636efa\",\"#636efa\",\"#636efa\",\"#636efa\",\"#636efa\",\"#636efa\",\"#636efa\",\"#636efa\",\"#636efa\",\"#636efa\",\"#636efa\",\"#636efa\",\"#636efa\",\"#636efa\",\"#636efa\",\"#636efa\",\"#636efa\",\"#636efa\",\"#636efa\",\"#636efa\",\"#636efa\",\"#636efa\",\"#636efa\",\"#636efa\",\"#636efa\",\"#636efa\",\"#636efa\",\"#636efa\",\"#636efa\",\"#636efa\",\"#636efa\",\"#EF553B\",\"#ab63fa\",\"#636efa\",\"#636efa\",\"#636efa\",\"#636efa\",\"#636efa\",\"#636efa\",\"#636efa\",\"#636efa\",\"#636efa\",\"#636efa\",\"#636efa\",\"#EF553B\",\"#636efa\",\"#EF553B\",\"#636efa\",\"#636efa\",\"#636efa\",\"#636efa\",\"#EF553B\",\"#636efa\",\"#636efa\",\"#636efa\",\"#636efa\",\"#EF553B\",\"#636efa\",\"#636efa\",\"#636efa\",\"#636efa\",\"#636efa\",\"#636efa\",\"#636efa\",\"#636efa\",\"#636efa\",\"#EF553B\",\"#636efa\",\"#EF553B\",\"#EF553B\",\"#EF553B\",\"#636efa\",\"#636efa\",\"#636efa\",\"#636efa\",\"#636efa\",\"#636efa\",\"#636efa\",\"#636efa\",\"#636efa\",\"#636efa\",\"#636efa\",\"#636efa\",\"#636efa\",\"#636efa\",\"#636efa\",\"#636efa\",\"#636efa\",\"#636efa\",\"#636efa\",\"#636efa\",\"#636efa\",\"#636efa\",\"#636efa\",\"#636efa\",\"#636efa\",\"#636efa\",\"#636efa\",\"#636efa\",\"#636efa\",\"#636efa\",\"#636efa\",\"#EF553B\",\"#636efa\",\"#636efa\",\"#636efa\",\"#636efa\",\"#EF553B\",\"#636efa\",\"#636efa\",\"#636efa\",\"#636efa\",\"#636efa\",\"#636efa\",\"#636efa\",\"#636efa\",\"#636efa\",\"#636efa\",\"#636efa\",\"#00cc96\",\"#636efa\",\"#636efa\",\"#636efa\",\"#636efa\",\"#636efa\",\"#636efa\",\"#636efa\",\"#636efa\",\"#636efa\",\"#636efa\",\"#636efa\",\"#636efa\",\"#636efa\",\"#636efa\",\"#636efa\",\"#636efa\",\"#00cc96\",\"#636efa\",\"#636efa\",\"#636efa\",\"#636efa\",\"#EF553B\",\"#636efa\",\"#636efa\",\"#636efa\",\"#636efa\",\"#636efa\",\"#00cc96\",\"#636efa\",\"#636efa\",\"#636efa\",\"#636efa\",\"#00cc96\",\"#636efa\",\"#636efa\",\"#00cc96\",\"#636efa\",\"#00cc96\",\"#636efa\",\"#EF553B\",\"#636efa\",\"#636efa\",\"#636efa\",\"#636efa\",\"#636efa\",\"#636efa\",\"#636efa\",\"#636efa\",\"#636efa\",\"#EF553B\",\"#636efa\",\"#636efa\",\"#636efa\",\"#636efa\",\"#ab63fa\",\"#EF553B\",\"#636efa\",\"#636efa\",\"#636efa\",\"#636efa\",\"#636efa\",\"#636efa\",\"#636efa\",\"#636efa\",\"#636efa\",\"#636efa\",\"#EF553B\",\"#636efa\",\"#636efa\",\"#636efa\",\"#636efa\",\"#636efa\",\"#636efa\",\"#636efa\",\"#636efa\",\"#636efa\",\"#636efa\",\"#636efa\",\"#636efa\",\"#636efa\",\"#636efa\",\"#636efa\",\"#636efa\",\"#636efa\",\"#EF553B\",\"#EF553B\",\"#636efa\",\"#636efa\",\"#636efa\",\"#636efa\",\"#636efa\",\"#636efa\",\"#ab63fa\",\"#EF553B\",\"#636efa\",\"#636efa\",\"#636efa\",\"#00cc96\",\"#636efa\",\"#636efa\",\"#EF553B\",\"#636efa\",\"#636efa\",\"#ab63fa\",\"#636efa\",\"#636efa\",\"#636efa\",\"#636efa\",\"#636efa\",\"#636efa\",\"#636efa\",\"#636efa\",\"#EF553B\",\"#636efa\",\"#636efa\",\"#636efa\",\"#636efa\",\"#636efa\",\"#636efa\",\"#636efa\",\"#636efa\",\"#636efa\",\"#636efa\",\"#636efa\",\"#636efa\",\"#636efa\",\"#636efa\",\"#636efa\",\"#636efa\",\"#636efa\",\"#636efa\",\"#636efa\",\"#636efa\",\"#636efa\",\"#636efa\",\"#EF553B\",\"#636efa\",\"#636efa\",\"#636efa\",\"#636efa\",\"#636efa\",\"#636efa\",\"#636efa\",\"#636efa\",\"#636efa\",\"#00cc96\",\"#636efa\",\"#636efa\",\"#636efa\",\"#636efa\",\"#EF553B\",\"#EF553B\",\"#EF553B\",\"#EF553B\",\"#ab63fa\",\"#00cc96\",\"#636efa\",\"#636efa\",\"#00cc96\",\"#636efa\",\"#EF553B\",\"#EF553B\",\"#636efa\",\"#636efa\",\"#636efa\",\"#636efa\",\"#EF553B\",\"#636efa\",\"#636efa\",\"#19d3f3\",\"#636efa\",\"#636efa\",\"#636efa\",\"#636efa\",\"#EF553B\",\"#00cc96\",\"#636efa\",\"#ab63fa\",\"#636efa\",\"#636efa\",\"#00cc96\",\"#636efa\",\"#636efa\",\"#636efa\",\"#636efa\",\"#636efa\",\"#636efa\",\"#636efa\",\"#636efa\",\"#636efa\",\"#00cc96\",\"#636efa\",\"#636efa\",\"#636efa\",\"#636efa\",\"#636efa\",\"#EF553B\",\"#636efa\",\"#636efa\",\"#636efa\",\"#636efa\",\"#636efa\",\"#636efa\",\"#636efa\",\"#636efa\",\"#636efa\",\"#636efa\",\"#636efa\",\"#636efa\",\"#636efa\",\"#00cc96\",\"#636efa\",\"#636efa\",\"#EF553B\",\"#636efa\",\"#636efa\",\"#636efa\",\"#00cc96\",\"#636efa\",\"#636efa\",\"#636efa\",\"#636efa\",\"#636efa\",\"#636efa\",\"#636efa\",\"#EF553B\",\"#636efa\",\"#636efa\",\"#636efa\",\"#636efa\",\"#636efa\",\"#636efa\",\"#636efa\",\"#636efa\",\"#636efa\",\"#636efa\",\"#636efa\",\"#636efa\",\"#636efa\",\"#636efa\",\"#636efa\",\"#636efa\",\"#636efa\",\"#636efa\",\"#636efa\",\"#636efa\",\"#636efa\",\"#636efa\",\"#636efa\",\"#636efa\",\"#636efa\",\"#636efa\",\"#636efa\",\"#636efa\",\"#636efa\",\"#636efa\",\"#636efa\",\"#636efa\",\"#636efa\",\"#636efa\",\"#636efa\",\"#636efa\",\"#636efa\",\"#636efa\",\"#636efa\",\"#636efa\",\"#636efa\",\"#636efa\",\"#636efa\",\"#636efa\",\"#636efa\",\"#636efa\",\"#636efa\",\"#636efa\",\"#636efa\",\"#636efa\",\"#636efa\",\"#636efa\",\"#636efa\",\"#636efa\",\"#636efa\",\"#636efa\",\"#636efa\",\"#636efa\",\"#636efa\",\"#636efa\",\"#636efa\",\"#636efa\",\"#636efa\",\"#EF553B\",\"#636efa\",\"#636efa\",\"#EF553B\",\"#EF553B\",\"#EF553B\",\"#EF553B\",\"#EF553B\",\"#636efa\",\"#636efa\",\"#EF553B\",\"#EF553B\",\"#00cc96\",\"#636efa\",\"#EF553B\",\"#636efa\",\"#EF553B\",\"#636efa\",\"#ab63fa\",\"#636efa\",\"#636efa\",\"#636efa\",\"#636efa\",\"#00cc96\",\"#00cc96\",\"#EF553B\",\"#636efa\",\"#ab63fa\",\"#636efa\",\"#636efa\",\"#636efa\",\"#636efa\",\"#00cc96\",\"#636efa\",\"#636efa\",\"#636efa\",\"#EF553B\",\"#636efa\",\"#636efa\",\"#EF553B\",\"#636efa\",\"#00cc96\",\"#636efa\",\"#ab63fa\",\"#636efa\",\"#636efa\",\"#EF553B\",\"#636efa\",\"#636efa\",\"#636efa\",\"#636efa\",\"#00cc96\",\"#636efa\",\"#636efa\",\"#00cc96\",\"#00cc96\",\"#636efa\",\"#00cc96\",\"#ab63fa\",\"#636efa\",\"#636efa\",\"#636efa\",\"#636efa\",\"#636efa\",\"#636efa\",\"#636efa\",\"#636efa\",\"#636efa\",\"#636efa\",\"#636efa\",\"#636efa\",\"#636efa\",\"#636efa\",\"#636efa\",\"#636efa\",\"#636efa\",\"#636efa\",\"#636efa\",\"#636efa\",\"#636efa\",\"#636efa\",\"#636efa\",\"#636efa\",\"#636efa\",\"#ab63fa\",\"#636efa\",\"#636efa\",\"#636efa\",\"#636efa\",\"#636efa\",\"#636efa\",\"#636efa\",\"#EF553B\",\"#636efa\",\"#636efa\",\"#636efa\",\"#636efa\",\"#636efa\",\"#636efa\",\"#636efa\",\"#EF553B\",\"#636efa\",\"#636efa\",\"#636efa\",\"#EF553B\",\"#636efa\",\"#EF553B\",\"#636efa\",\"#636efa\",\"#636efa\",\"#636efa\",\"#636efa\",\"#636efa\",\"#636efa\",\"#636efa\",\"#636efa\",\"#636efa\",\"#636efa\",\"#ab63fa\",\"#636efa\",\"#636efa\",\"#636efa\",\"#636efa\",\"#636efa\",\"#636efa\",\"#636efa\",\"#636efa\",\"#636efa\",\"#636efa\",\"#636efa\",\"#636efa\",\"#636efa\",\"#636efa\",\"#636efa\",\"#636efa\",\"#636efa\",\"#636efa\",\"#636efa\",\"#636efa\",\"#ab63fa\",\"#00cc96\",\"#EF553B\",\"#636efa\",\"#636efa\",\"#636efa\",\"#636efa\",\"#636efa\",\"#EF553B\",\"#636efa\",\"#636efa\",\"#636efa\",\"#636efa\",\"#EF553B\",\"#636efa\",\"#636efa\",\"#636efa\",\"#636efa\",\"#636efa\",\"#636efa\",\"#636efa\",\"#636efa\",\"#636efa\",\"#636efa\",\"#636efa\",\"#636efa\",\"#636efa\",\"#636efa\",\"#636efa\",\"#636efa\",\"#636efa\",\"#636efa\",\"#636efa\",\"#636efa\",\"#636efa\",\"#636efa\",\"#EF553B\",\"#636efa\",\"#636efa\",\"#636efa\",\"#636efa\",\"#636efa\",\"#636efa\",\"#00cc96\",\"#636efa\",\"#636efa\",\"#00cc96\",\"#636efa\",\"#EF553B\",\"#636efa\",\"#EF553B\",\"#00cc96\",\"#636efa\",\"#636efa\",\"#636efa\",\"#636efa\",\"#636efa\",\"#EF553B\",\"#636efa\",\"#636efa\",\"#636efa\",\"#636efa\",\"#636efa\",\"#636efa\",\"#EF553B\",\"#636efa\",\"#636efa\",\"#EF553B\",\"#EF553B\",\"#636efa\",\"#00cc96\",\"#636efa\",\"#636efa\",\"#636efa\",\"#00cc96\",\"#636efa\",\"#636efa\",\"#636efa\",\"#EF553B\",\"#636efa\",\"#636efa\",\"#EF553B\",\"#00cc96\",\"#00cc96\",\"#636efa\",\"#636efa\",\"#636efa\",\"#636efa\",\"#636efa\",\"#636efa\",\"#636efa\",\"#636efa\",\"#EF553B\",\"#636efa\",\"#EF553B\",\"#636efa\",\"#636efa\",\"#636efa\",\"#636efa\",\"#636efa\",\"#636efa\",\"#636efa\",\"#636efa\",\"#636efa\",\"#636efa\",\"#636efa\",\"#636efa\",\"#636efa\",\"#636efa\",\"#636efa\",\"#636efa\",\"#636efa\",\"#636efa\",\"#636efa\",\"#636efa\",\"#636efa\",\"#636efa\",\"#636efa\",\"#636efa\",\"#ab63fa\",\"#636efa\",\"#EF553B\",\"#636efa\",\"#636efa\",\"#636efa\",\"#636efa\",\"#636efa\",\"#ab63fa\",\"#636efa\",\"#636efa\",\"#636efa\",\"#636efa\",\"#EF553B\",\"#636efa\",\"#636efa\",\"#636efa\",\"#EF553B\",\"#636efa\",\"#EF553B\",\"#636efa\",\"#EF553B\",\"#636efa\",\"#636efa\",\"#636efa\",\"#636efa\",\"#EF553B\",\"#EF553B\",\"#ab63fa\",\"#636efa\",\"#636efa\",\"#636efa\",\"#636efa\",\"#636efa\",\"#636efa\",\"#636efa\",\"#636efa\",\"#636efa\",\"#636efa\",\"#636efa\",\"#636efa\",\"#00cc96\",\"#EF553B\",\"#00cc96\",\"#636efa\",\"#636efa\",\"#636efa\",\"#636efa\",\"#636efa\",\"#636efa\",\"#636efa\",\"#636efa\",\"#636efa\",\"#636efa\",\"#636efa\",\"#00cc96\",\"#636efa\",\"#636efa\",\"#636efa\",\"#636efa\",\"#EF553B\",\"#636efa\",\"#636efa\",\"#636efa\",\"#636efa\",\"#636efa\",\"#636efa\",\"#EF553B\",\"#636efa\",\"#636efa\",\"#636efa\",\"#636efa\",\"#ab63fa\",\"#636efa\",\"#636efa\",\"#636efa\",\"#636efa\",\"#00cc96\",\"#636efa\",\"#636efa\",\"#636efa\",\"#636efa\",\"#636efa\",\"#636efa\",\"#ab63fa\",\"#636efa\",\"#636efa\",\"#636efa\",\"#636efa\",\"#636efa\",\"#636efa\",\"#636efa\",\"#636efa\",\"#636efa\",\"#636efa\",\"#636efa\",\"#636efa\",\"#636efa\",\"#636efa\",\"#636efa\",\"#636efa\",\"#ab63fa\",\"#636efa\",\"#ab63fa\",\"#EF553B\",\"#636efa\",\"#636efa\",\"#636efa\",\"#636efa\",\"#636efa\",\"#636efa\",\"#636efa\",\"#636efa\",\"#636efa\",\"#636efa\",\"#636efa\",\"#636efa\",\"#636efa\",\"#636efa\",\"#636efa\",\"#636efa\",\"#636efa\",\"#636efa\",\"#636efa\",\"#636efa\",\"#636efa\",\"#636efa\",\"#636efa\",\"#636efa\",\"#636efa\",\"#636efa\",\"#636efa\",\"#636efa\",\"#636efa\",\"#636efa\",\"#636efa\",\"#636efa\",\"#636efa\",\"#636efa\",\"#636efa\",\"#636efa\",\"#636efa\",\"#636efa\",\"#636efa\",\"#636efa\",\"#636efa\",\"#636efa\",\"#636efa\",\"#636efa\",\"#636efa\",\"#636efa\",\"#636efa\",\"#636efa\",\"#636efa\",\"#636efa\",\"#636efa\",\"#636efa\",\"#636efa\",\"#636efa\",\"#636efa\",\"#636efa\",\"#636efa\",\"#636efa\",\"#636efa\",\"#636efa\",\"#636efa\",\"#636efa\",\"#636efa\",\"#636efa\",\"#636efa\",\"#636efa\",\"#636efa\",\"#636efa\",\"#636efa\",\"#636efa\",\"#636efa\",\"#636efa\",\"#636efa\",\"#636efa\",\"#636efa\",\"#636efa\",\"#636efa\",\"#636efa\",\"#636efa\",\"#636efa\",\"#636efa\",\"#636efa\",\"#636efa\",\"#636efa\",\"#636efa\",\"#636efa\",\"#636efa\",\"#636efa\",\"#636efa\",\"#636efa\",\"#00cc96\",\"#636efa\",\"#636efa\",\"#636efa\",\"#636efa\",\"#636efa\",\"#636efa\",\"#636efa\",\"#636efa\",\"#636efa\",\"#636efa\",\"#636efa\",\"#EF553B\",\"#636efa\",\"#636efa\",\"#636efa\",\"#636efa\",\"#636efa\",\"#636efa\",\"#636efa\",\"#636efa\",\"#636efa\",\"#636efa\",\"#636efa\",\"#636efa\",\"#EF553B\",\"#636efa\",\"#636efa\",\"#636efa\",\"#636efa\",\"#636efa\",\"#636efa\",\"#636efa\",\"#636efa\",\"#636efa\",\"#636efa\",\"#EF553B\",\"#636efa\",\"#636efa\",\"#636efa\",\"#636efa\",\"#636efa\",\"#636efa\",\"#636efa\",\"#636efa\",\"#636efa\",\"#636efa\",\"#636efa\",\"#636efa\",\"#636efa\",\"#636efa\",\"#636efa\",\"#636efa\",\"#636efa\",\"#636efa\",\"#636efa\",\"#636efa\",\"#636efa\",\"#636efa\",\"#636efa\",\"#636efa\",\"#636efa\",\"#636efa\",\"#636efa\",\"#636efa\",\"#636efa\",\"#636efa\",\"#636efa\",\"#636efa\",\"#636efa\",\"#636efa\",\"#636efa\",\"#636efa\",\"#636efa\",\"#636efa\",\"#636efa\",\"#636efa\",\"#636efa\",\"#636efa\",\"#636efa\",\"#636efa\",\"#636efa\",\"#636efa\",\"#636efa\",\"#636efa\",\"#636efa\",\"#636efa\",\"#636efa\",\"#EF553B\",\"#636efa\",\"#636efa\",\"#636efa\",\"#636efa\",\"#EF553B\",\"#636efa\",\"#636efa\",\"#00cc96\",\"#636efa\",\"#636efa\",\"#636efa\",\"#636efa\",\"#636efa\",\"#636efa\",\"#636efa\",\"#00cc96\",\"#636efa\",\"#636efa\",\"#636efa\",\"#636efa\",\"#636efa\",\"#636efa\",\"#636efa\",\"#636efa\",\"#636efa\",\"#636efa\",\"#EF553B\",\"#636efa\",\"#636efa\",\"#636efa\",\"#636efa\",\"#636efa\",\"#636efa\",\"#636efa\",\"#EF553B\",\"#636efa\",\"#636efa\",\"#636efa\",\"#636efa\",\"#636efa\",\"#636efa\",\"#636efa\",\"#636efa\",\"#636efa\",\"#636efa\",\"#636efa\",\"#636efa\",\"#636efa\",\"#636efa\",\"#636efa\",\"#636efa\",\"#636efa\",\"#636efa\",\"#636efa\",\"#EF553B\",\"#636efa\",\"#636efa\",\"#EF553B\",\"#636efa\",\"#636efa\",\"#636efa\",\"#636efa\",\"#636efa\",\"#636efa\",\"#636efa\",\"#EF553B\",\"#636efa\",\"#636efa\",\"#ab63fa\",\"#636efa\",\"#636efa\",\"#00cc96\",\"#636efa\",\"#636efa\",\"#636efa\",\"#636efa\",\"#636efa\",\"#636efa\",\"#636efa\",\"#636efa\",\"#636efa\",\"#636efa\",\"#636efa\",\"#636efa\",\"#636efa\",\"#636efa\",\"#EF553B\",\"#636efa\",\"#636efa\",\"#636efa\",\"#636efa\",\"#636efa\",\"#636efa\",\"#636efa\",\"#636efa\",\"#636efa\",\"#636efa\",\"#636efa\",\"#636efa\",\"#636efa\",\"#636efa\",\"#636efa\",\"#636efa\",\"#636efa\",\"#636efa\",\"#636efa\",\"#636efa\",\"#636efa\",\"#636efa\",\"#636efa\",\"#EF553B\",\"#636efa\",\"#636efa\",\"#636efa\",\"#636efa\",\"#636efa\",\"#636efa\",\"#636efa\",\"#EF553B\",\"#636efa\",\"#636efa\",\"#636efa\",\"#636efa\",\"#636efa\",\"#636efa\",\"#636efa\",\"#636efa\",\"#636efa\",\"#636efa\",\"#636efa\",\"#636efa\",\"#636efa\",\"#636efa\",\"#636efa\",\"#636efa\",\"#636efa\",\"#636efa\",\"#636efa\",\"#636efa\",\"#636efa\",\"#EF553B\",\"#EF553B\",\"#636efa\",\"#636efa\",\"#636efa\",\"#636efa\",\"#636efa\",\"#636efa\",\"#EF553B\",\"#EF553B\",\"#636efa\",\"#636efa\",\"#636efa\",\"#636efa\",\"#636efa\",\"#636efa\",\"#636efa\",\"#636efa\",\"#636efa\",\"#636efa\",\"#636efa\",\"#636efa\",\"#636efa\",\"#636efa\",\"#636efa\",\"#636efa\",\"#636efa\",\"#EF553B\",\"#636efa\",\"#636efa\",\"#EF553B\",\"#636efa\",\"#00cc96\",\"#636efa\",\"#636efa\",\"#EF553B\",\"#00cc96\",\"#00cc96\",\"#00cc96\",\"#636efa\",\"#636efa\",\"#636efa\",\"#636efa\",\"#636efa\",\"#636efa\",\"#636efa\",\"#636efa\",\"#636efa\",\"#636efa\",\"#EF553B\",\"#636efa\",\"#636efa\",\"#636efa\",\"#EF553B\",\"#ab63fa\",\"#636efa\",\"#00cc96\",\"#636efa\",\"#00cc96\",\"#636efa\",\"#636efa\",\"#636efa\",\"#636efa\",\"#636efa\",\"#636efa\",\"#636efa\",\"#EF553B\",\"#636efa\",\"#636efa\",\"#636efa\",\"#636efa\",\"#636efa\",\"#636efa\",\"#636efa\",\"#636efa\",\"#636efa\",\"#636efa\",\"#EF553B\",\"#EF553B\",\"#EF553B\",\"#EF553B\",\"#636efa\",\"#EF553B\",\"#636efa\",\"#636efa\",\"#636efa\",\"#636efa\",\"#EF553B\",\"#636efa\",\"#636efa\",\"#EF553B\",\"#636efa\",\"#636efa\",\"#636efa\",\"#636efa\",\"#636efa\",\"#636efa\",\"#636efa\",\"#636efa\",\"#EF553B\",\"#636efa\",\"#636efa\",\"#636efa\",\"#636efa\",\"#636efa\",\"#636efa\",\"#636efa\",\"#636efa\",\"#636efa\",\"#636efa\",\"#636efa\",\"#636efa\",\"#EF553B\",\"#636efa\",\"#636efa\",\"#636efa\",\"#636efa\",\"#636efa\",\"#636efa\",\"#636efa\",\"#636efa\",\"#636efa\",\"#636efa\",\"#636efa\",\"#636efa\",\"#636efa\",\"#636efa\",\"#636efa\",\"#636efa\",\"#636efa\",\"#636efa\",\"#636efa\",\"#636efa\",\"#EF553B\",\"#636efa\",\"#636efa\",\"#636efa\",\"#636efa\",\"#636efa\",\"#636efa\",\"#636efa\",\"#636efa\",\"#636efa\",\"#636efa\",\"#636efa\",\"#636efa\",\"#EF553B\",\"#636efa\",\"#636efa\",\"#636efa\",\"#636efa\",\"#636efa\",\"#636efa\",\"#636efa\",\"#636efa\",\"#636efa\",\"#EF553B\",\"#636efa\",\"#636efa\",\"#636efa\",\"#636efa\",\"#636efa\",\"#636efa\",\"#636efa\",\"#636efa\",\"#636efa\",\"#636efa\",\"#636efa\",\"#636efa\",\"#EF553B\",\"#EF553B\",\"#636efa\",\"#636efa\",\"#636efa\",\"#636efa\",\"#636efa\",\"#636efa\",\"#636efa\",\"#636efa\",\"#636efa\",\"#636efa\",\"#636efa\",\"#636efa\",\"#636efa\",\"#636efa\",\"#EF553B\",\"#EF553B\",\"#636efa\",\"#636efa\",\"#636efa\",\"#636efa\",\"#636efa\",\"#636efa\",\"#636efa\",\"#636efa\",\"#636efa\",\"#00cc96\",\"#636efa\",\"#636efa\",\"#636efa\",\"#636efa\",\"#636efa\",\"#636efa\",\"#636efa\",\"#636efa\",\"#636efa\",\"#EF553B\",\"#636efa\",\"#636efa\",\"#636efa\",\"#636efa\",\"#636efa\",\"#636efa\",\"#636efa\",\"#636efa\",\"#636efa\",\"#636efa\",\"#636efa\",\"#636efa\",\"#636efa\",\"#636efa\",\"#636efa\",\"#636efa\",\"#EF553B\",\"#636efa\",\"#636efa\",\"#636efa\",\"#636efa\",\"#636efa\",\"#636efa\",\"#636efa\",\"#636efa\",\"#636efa\",\"#EF553B\",\"#ab63fa\",\"#636efa\",\"#636efa\",\"#EF553B\",\"#636efa\",\"#ab63fa\",\"#636efa\",\"#00cc96\",\"#636efa\",\"#636efa\",\"#636efa\",\"#636efa\",\"#636efa\",\"#636efa\",\"#636efa\",\"#636efa\",\"#636efa\",\"#636efa\",\"#636efa\",\"#636efa\",\"#636efa\",\"#636efa\",\"#636efa\",\"#636efa\",\"#636efa\",\"#636efa\",\"#00cc96\",\"#636efa\",\"#636efa\",\"#EF553B\",\"#ab63fa\",\"#636efa\",\"#ab63fa\",\"#EF553B\",\"#636efa\",\"#636efa\",\"#EF553B\",\"#636efa\",\"#636efa\",\"#636efa\",\"#636efa\",\"#636efa\",\"#EF553B\",\"#636efa\",\"#636efa\",\"#EF553B\",\"#EF553B\",\"#636efa\",\"#636efa\",\"#EF553B\",\"#636efa\",\"#EF553B\",\"#636efa\",\"#EF553B\",\"#636efa\",\"#636efa\",\"#636efa\",\"#636efa\",\"#636efa\",\"#636efa\",\"#636efa\",\"#636efa\",\"#EF553B\",\"#636efa\",\"#636efa\",\"#636efa\",\"#636efa\",\"#636efa\",\"#636efa\",\"#636efa\",\"#636efa\",\"#636efa\",\"#636efa\",\"#636efa\",\"#636efa\",\"#636efa\",\"#ab63fa\",\"#636efa\",\"#636efa\",\"#636efa\",\"#636efa\",\"#636efa\",\"#ab63fa\",\"#636efa\",\"#636efa\",\"#636efa\",\"#636efa\",\"#636efa\",\"#00cc96\",\"#636efa\",\"#636efa\",\"#636efa\",\"#636efa\",\"#636efa\",\"#636efa\",\"#636efa\",\"#636efa\",\"#636efa\",\"#636efa\",\"#636efa\",\"#636efa\",\"#636efa\",\"#636efa\",\"#636efa\",\"#EF553B\",\"#EF553B\",\"#ab63fa\",\"#636efa\",\"#EF553B\",\"#636efa\",\"#636efa\",\"#636efa\",\"#636efa\",\"#636efa\",\"#636efa\",\"#636efa\",\"#EF553B\",\"#00cc96\",\"#EF553B\",\"#636efa\",\"#636efa\",\"#636efa\",\"#636efa\",\"#EF553B\",\"#636efa\",\"#EF553B\",\"#636efa\",\"#636efa\",\"#636efa\",\"#636efa\",\"#636efa\",\"#636efa\",\"#636efa\",\"#EF553B\",\"#636efa\",\"#636efa\",\"#636efa\",\"#00cc96\",\"#636efa\",\"#636efa\",\"#636efa\",\"#636efa\",\"#636efa\",\"#636efa\",\"#636efa\",\"#636efa\",\"#636efa\",\"#EF553B\",\"#636efa\",\"#636efa\",\"#636efa\",\"#636efa\",\"#636efa\",\"#636efa\",\"#636efa\",\"#636efa\",\"#636efa\",\"#EF553B\",\"#EF553B\",\"#636efa\",\"#EF553B\",\"#EF553B\",\"#636efa\",\"#636efa\",\"#636efa\",\"#636efa\",\"#636efa\",\"#636efa\",\"#636efa\",\"#636efa\",\"#636efa\",\"#636efa\",\"#636efa\",\"#636efa\",\"#636efa\",\"#636efa\",\"#636efa\",\"#636efa\",\"#636efa\",\"#636efa\",\"#00cc96\",\"#EF553B\",\"#636efa\",\"#636efa\",\"#636efa\",\"#636efa\",\"#636efa\",\"#636efa\",\"#636efa\",\"#636efa\",\"#636efa\",\"#636efa\",\"#636efa\",\"#00cc96\",\"#636efa\",\"#EF553B\",\"#EF553B\",\"#636efa\",\"#636efa\",\"#636efa\",\"#EF553B\",\"#636efa\",\"#636efa\",\"#636efa\",\"#636efa\",\"#636efa\",\"#636efa\",\"#636efa\",\"#00cc96\",\"#636efa\",\"#636efa\",\"#636efa\",\"#636efa\",\"#636efa\",\"#636efa\",\"#636efa\",\"#636efa\",\"#636efa\",\"#636efa\",\"#EF553B\",\"#00cc96\",\"#636efa\",\"#EF553B\",\"#00cc96\",\"#636efa\",\"#00cc96\",\"#EF553B\",\"#EF553B\",\"#EF553B\",\"#636efa\",\"#636efa\",\"#636efa\",\"#EF553B\",\"#ab63fa\",\"#636efa\",\"#EF553B\",\"#EF553B\",\"#EF553B\",\"#EF553B\",\"#636efa\",\"#EF553B\",\"#EF553B\",\"#EF553B\",\"#636efa\",\"#EF553B\",\"#EF553B\",\"#EF553B\",\"#EF553B\",\"#636efa\",\"#EF553B\",\"#636efa\",\"#EF553B\",\"#636efa\",\"#636efa\",\"#00cc96\",\"#EF553B\",\"#EF553B\",\"#636efa\",\"#636efa\",\"#EF553B\",\"#636efa\",\"#636efa\",\"#636efa\",\"#00cc96\",\"#636efa\",\"#636efa\",\"#636efa\",\"#636efa\",\"#636efa\",\"#ab63fa\",\"#636efa\",\"#636efa\",\"#636efa\",\"#636efa\",\"#636efa\",\"#636efa\",\"#636efa\",\"#636efa\",\"#636efa\",\"#636efa\",\"#636efa\",\"#EF553B\",\"#636efa\",\"#636efa\",\"#636efa\",\"#EF553B\",\"#EF553B\",\"#636efa\",\"#EF553B\",\"#EF553B\",\"#636efa\",\"#636efa\",\"#636efa\",\"#636efa\",\"#636efa\",\"#636efa\",\"#636efa\",\"#636efa\",\"#EF553B\",\"#636efa\",\"#636efa\",\"#636efa\",\"#636efa\",\"#636efa\",\"#636efa\",\"#636efa\",\"#636efa\",\"#636efa\",\"#636efa\",\"#636efa\",\"#636efa\",\"#636efa\",\"#636efa\",\"#636efa\",\"#636efa\",\"#636efa\",\"#636efa\",\"#636efa\",\"#636efa\",\"#636efa\",\"#636efa\",\"#636efa\",\"#636efa\",\"#636efa\",\"#636efa\",\"#636efa\",\"#636efa\",\"#636efa\",\"#636efa\",\"#EF553B\",\"#636efa\",\"#636efa\",\"#636efa\",\"#636efa\",\"#636efa\",\"#636efa\",\"#636efa\",\"#636efa\",\"#EF553B\",\"#636efa\",\"#00cc96\",\"#ab63fa\",\"#EF553B\",\"#636efa\",\"#636efa\",\"#636efa\",\"#636efa\",\"#636efa\",\"#636efa\",\"#00cc96\",\"#ab63fa\",\"#636efa\",\"#EF553B\",\"#EF553B\",\"#636efa\",\"#EF553B\",\"#00cc96\",\"#636efa\",\"#636efa\",\"#636efa\",\"#636efa\",\"#EF553B\",\"#636efa\",\"#EF553B\",\"#EF553B\",\"#00cc96\",\"#636efa\",\"#EF553B\",\"#636efa\",\"#636efa\",\"#00cc96\",\"#636efa\",\"#636efa\",\"#636efa\",\"#636efa\",\"#636efa\",\"#636efa\",\"#636efa\",\"#636efa\",\"#EF553B\",\"#636efa\",\"#636efa\",\"#EF553B\",\"#EF553B\",\"#EF553B\",\"#EF553B\",\"#EF553B\",\"#EF553B\",\"#00cc96\",\"#00cc96\",\"#EF553B\",\"#EF553B\",\"#636efa\",\"#00cc96\",\"#636efa\",\"#00cc96\",\"#EF553B\",\"#EF553B\",\"#636efa\",\"#EF553B\",\"#636efa\",\"#636efa\",\"#EF553B\",\"#636efa\",\"#636efa\",\"#EF553B\",\"#636efa\",\"#636efa\",\"#EF553B\",\"#636efa\",\"#00cc96\",\"#636efa\",\"#636efa\",\"#636efa\",\"#EF553B\",\"#636efa\",\"#636efa\",\"#636efa\",\"#636efa\",\"#636efa\",\"#636efa\",\"#636efa\",\"#636efa\",\"#636efa\",\"#636efa\",\"#636efa\",\"#636efa\",\"#636efa\",\"#636efa\",\"#636efa\",\"#636efa\",\"#636efa\",\"#636efa\",\"#636efa\",\"#636efa\",\"#636efa\",\"#636efa\",\"#636efa\",\"#636efa\",\"#636efa\",\"#636efa\",\"#636efa\",\"#636efa\",\"#636efa\",\"#636efa\",\"#636efa\",\"#636efa\",\"#636efa\",\"#636efa\",\"#00cc96\",\"#636efa\",\"#636efa\",\"#636efa\",\"#636efa\",\"#636efa\",\"#636efa\",\"#636efa\",\"#636efa\",\"#636efa\",\"#636efa\",\"#636efa\",\"#636efa\",\"#636efa\",\"#636efa\",\"#EF553B\",\"#636efa\",\"#EF553B\",\"#636efa\",\"#636efa\",\"#00cc96\",\"#636efa\",\"#ab63fa\",\"#EF553B\",\"#636efa\",\"#636efa\",\"#636efa\",\"#636efa\",\"#636efa\",\"#636efa\",\"#636efa\",\"#636efa\",\"#636efa\",\"#636efa\",\"#636efa\",\"#636efa\",\"#636efa\",\"#636efa\",\"#636efa\",\"#636efa\",\"#636efa\",\"#636efa\",\"#636efa\",\"#636efa\",\"#636efa\",\"#636efa\",\"#636efa\",\"#636efa\",\"#636efa\",\"#636efa\",\"#636efa\",\"#636efa\",\"#636efa\",\"#636efa\",\"#636efa\",\"#636efa\",\"#636efa\",\"#636efa\",\"#636efa\",\"#00cc96\",\"#636efa\",\"#636efa\",\"#EF553B\",\"#636efa\",\"#636efa\",\"#636efa\",\"#636efa\",\"#636efa\",\"#636efa\",\"#636efa\",\"#636efa\",\"#636efa\",\"#636efa\",\"#636efa\",\"#636efa\",\"#636efa\",\"#636efa\",\"#636efa\",\"#636efa\",\"#636efa\",\"#636efa\",\"#636efa\",\"#636efa\",\"#636efa\",\"#636efa\",\"#636efa\",\"#636efa\",\"#636efa\",\"#636efa\",\"#636efa\",\"#636efa\",\"#636efa\",\"#636efa\",\"#636efa\",\"#636efa\",\"#636efa\",\"#636efa\",\"#00cc96\",\"#636efa\",\"#636efa\",\"#636efa\",\"#00cc96\",\"#636efa\",\"#636efa\",\"#636efa\",\"#636efa\",\"#636efa\",\"#636efa\",\"#636efa\",\"#636efa\",\"#636efa\",\"#636efa\",\"#636efa\",\"#636efa\",\"#EF553B\",\"#636efa\",\"#636efa\",\"#636efa\",\"#636efa\",\"#636efa\",\"#636efa\",\"#636efa\",\"#636efa\",\"#636efa\",\"#636efa\",\"#636efa\",\"#636efa\",\"#636efa\",\"#636efa\",\"#636efa\",\"#636efa\",\"#636efa\",\"#636efa\",\"#636efa\",\"#636efa\",\"#636efa\",\"#636efa\",\"#636efa\",\"#00cc96\",\"#636efa\",\"#636efa\",\"#636efa\",\"#636efa\",\"#636efa\",\"#636efa\",\"#636efa\",\"#636efa\",\"#636efa\",\"#636efa\",\"#636efa\",\"#636efa\",\"#EF553B\",\"#636efa\",\"#636efa\",\"#636efa\",\"#636efa\",\"#636efa\",\"#636efa\",\"#636efa\",\"#EF553B\",\"#636efa\",\"#636efa\",\"#636efa\",\"#636efa\",\"#636efa\",\"#636efa\",\"#636efa\",\"#636efa\",\"#636efa\",\"#636efa\",\"#636efa\",\"#636efa\",\"#636efa\",\"#EF553B\",\"#ab63fa\",\"#636efa\",\"#636efa\",\"#ab63fa\",\"#00cc96\",\"#00cc96\",\"#00cc96\",\"#EF553B\",\"#636efa\",\"#636efa\",\"#EF553B\",\"#00cc96\",\"#636efa\",\"#636efa\",\"#636efa\",\"#636efa\",\"#00cc96\",\"#EF553B\",\"#636efa\",\"#636efa\",\"#636efa\",\"#636efa\",\"#636efa\",\"#636efa\",\"#636efa\",\"#EF553B\",\"#636efa\",\"#EF553B\",\"#636efa\",\"#636efa\",\"#636efa\",\"#636efa\",\"#636efa\",\"#636efa\",\"#636efa\",\"#636efa\",\"#636efa\",\"#636efa\",\"#636efa\",\"#636efa\",\"#636efa\",\"#636efa\",\"#636efa\",\"#636efa\",\"#636efa\",\"#00cc96\",\"#636efa\",\"#636efa\",\"#636efa\",\"#636efa\",\"#636efa\",\"#636efa\",\"#EF553B\",\"#636efa\",\"#636efa\",\"#636efa\",\"#00cc96\",\"#636efa\",\"#636efa\",\"#636efa\",\"#636efa\",\"#00cc96\",\"#636efa\",\"#636efa\",\"#636efa\",\"#636efa\",\"#EF553B\",\"#636efa\",\"#636efa\",\"#636efa\",\"#636efa\",\"#636efa\",\"#636efa\",\"#636efa\",\"#636efa\",\"#636efa\",\"#636efa\",\"#636efa\",\"#636efa\",\"#636efa\",\"#636efa\",\"#636efa\",\"#636efa\",\"#636efa\",\"#636efa\",\"#636efa\",\"#636efa\",\"#636efa\",\"#636efa\",\"#636efa\",\"#636efa\",\"#EF553B\",\"#636efa\",\"#EF553B\",\"#636efa\",\"#636efa\",\"#636efa\",\"#636efa\",\"#636efa\",\"#EF553B\",\"#636efa\",\"#EF553B\",\"#636efa\",\"#636efa\",\"#636efa\",\"#636efa\",\"#636efa\",\"#636efa\",\"#636efa\",\"#636efa\",\"#636efa\",\"#636efa\",\"#636efa\",\"#EF553B\",\"#636efa\",\"#636efa\",\"#00cc96\",\"#636efa\",\"#636efa\",\"#636efa\",\"#636efa\",\"#636efa\",\"#636efa\",\"#636efa\",\"#636efa\",\"#636efa\",\"#636efa\",\"#636efa\",\"#636efa\",\"#636efa\",\"#636efa\",\"#636efa\",\"#636efa\",\"#636efa\",\"#636efa\",\"#EF553B\",\"#636efa\",\"#636efa\",\"#636efa\",\"#636efa\",\"#636efa\",\"#636efa\",\"#636efa\",\"#636efa\",\"#636efa\",\"#636efa\",\"#636efa\",\"#636efa\",\"#636efa\",\"#636efa\",\"#636efa\",\"#636efa\",\"#636efa\",\"#636efa\",\"#636efa\",\"#636efa\",\"#636efa\",\"#636efa\",\"#ab63fa\",\"#636efa\",\"#636efa\",\"#636efa\",\"#EF553B\",\"#636efa\",\"#636efa\",\"#636efa\",\"#EF553B\",\"#636efa\",\"#EF553B\",\"#636efa\",\"#636efa\",\"#636efa\",\"#636efa\",\"#636efa\",\"#EF553B\",\"#636efa\",\"#636efa\",\"#636efa\",\"#636efa\",\"#636efa\",\"#00cc96\",\"#EF553B\",\"#EF553B\",\"#EF553B\",\"#636efa\",\"#EF553B\",\"#636efa\",\"#EF553B\",\"#EF553B\",\"#EF553B\",\"#636efa\",\"#636efa\",\"#636efa\",\"#636efa\",\"#EF553B\",\"#636efa\",\"#636efa\",\"#EF553B\",\"#636efa\",\"#636efa\",\"#636efa\",\"#EF553B\",\"#EF553B\",\"#636efa\",\"#636efa\",\"#636efa\",\"#636efa\",\"#636efa\",\"#636efa\",\"#636efa\",\"#EF553B\",\"#636efa\",\"#EF553B\",\"#EF553B\",\"#EF553B\",\"#636efa\",\"#ab63fa\",\"#EF553B\",\"#636efa\",\"#636efa\",\"#636efa\",\"#636efa\",\"#636efa\",\"#636efa\",\"#636efa\",\"#636efa\",\"#636efa\",\"#636efa\",\"#636efa\",\"#636efa\",\"#636efa\",\"#636efa\",\"#EF553B\",\"#636efa\",\"#636efa\",\"#636efa\",\"#636efa\",\"#636efa\",\"#636efa\",\"#636efa\",\"#636efa\",\"#636efa\",\"#636efa\",\"#636efa\",\"#636efa\",\"#636efa\",\"#636efa\",\"#636efa\",\"#EF553B\",\"#636efa\",\"#636efa\",\"#636efa\",\"#636efa\",\"#EF553B\",\"#636efa\",\"#636efa\",\"#636efa\",\"#EF553B\",\"#636efa\",\"#636efa\",\"#636efa\",\"#636efa\",\"#636efa\",\"#636efa\",\"#636efa\",\"#636efa\",\"#636efa\",\"#636efa\",\"#636efa\",\"#EF553B\",\"#636efa\",\"#636efa\",\"#636efa\",\"#636efa\",\"#636efa\",\"#636efa\",\"#636efa\",\"#00cc96\",\"#636efa\",\"#636efa\",\"#636efa\",\"#636efa\",\"#636efa\",\"#636efa\",\"#636efa\",\"#636efa\",\"#636efa\",\"#636efa\",\"#636efa\",\"#636efa\",\"#636efa\",\"#636efa\",\"#636efa\",\"#636efa\",\"#636efa\",\"#636efa\",\"#636efa\",\"#EF553B\",\"#636efa\",\"#EF553B\",\"#636efa\",\"#636efa\",\"#636efa\",\"#636efa\",\"#636efa\",\"#636efa\",\"#636efa\",\"#636efa\",\"#636efa\",\"#636efa\",\"#636efa\",\"#636efa\",\"#636efa\",\"#636efa\",\"#636efa\",\"#636efa\",\"#636efa\",\"#636efa\",\"#636efa\",\"#636efa\",\"#636efa\",\"#636efa\",\"#636efa\",\"#636efa\",\"#636efa\",\"#636efa\",\"#636efa\",\"#636efa\",\"#636efa\",\"#636efa\",\"#636efa\",\"#636efa\",\"#636efa\",\"#636efa\",\"#00cc96\",\"#636efa\",\"#636efa\",\"#636efa\",\"#636efa\",\"#636efa\",\"#EF553B\",\"#636efa\",\"#636efa\",\"#EF553B\",\"#636efa\",\"#636efa\",\"#636efa\",\"#636efa\",\"#EF553B\",\"#636efa\",\"#ab63fa\",\"#636efa\",\"#00cc96\",\"#636efa\",\"#00cc96\",\"#636efa\",\"#636efa\",\"#636efa\",\"#636efa\",\"#00cc96\",\"#00cc96\",\"#ab63fa\",\"#ab63fa\",\"#636efa\",\"#636efa\",\"#636efa\",\"#636efa\",\"#EF553B\",\"#636efa\",\"#EF553B\",\"#EF553B\",\"#636efa\",\"#636efa\",\"#ab63fa\",\"#EF553B\",\"#636efa\",\"#EF553B\",\"#636efa\",\"#636efa\",\"#EF553B\",\"#636efa\",\"#EF553B\",\"#EF553B\",\"#EF553B\",\"#EF553B\",\"#EF553B\",\"#EF553B\",\"#636efa\",\"#636efa\",\"#636efa\",\"#636efa\",\"#EF553B\",\"#EF553B\",\"#EF553B\",\"#636efa\",\"#636efa\",\"#636efa\",\"#00cc96\",\"#EF553B\",\"#EF553B\",\"#EF553B\",\"#EF553B\",\"#636efa\",\"#636efa\",\"#636efa\",\"#636efa\",\"#636efa\",\"#636efa\",\"#EF553B\",\"#EF553B\",\"#636efa\",\"#636efa\",\"#636efa\",\"#636efa\",\"#EF553B\",\"#636efa\",\"#636efa\",\"#636efa\",\"#EF553B\",\"#636efa\",\"#636efa\",\"#636efa\",\"#636efa\",\"#636efa\",\"#636efa\",\"#636efa\",\"#636efa\",\"#636efa\",\"#636efa\",\"#636efa\",\"#636efa\",\"#636efa\",\"#636efa\",\"#636efa\",\"#636efa\",\"#636efa\",\"#636efa\",\"#636efa\",\"#636efa\",\"#636efa\",\"#636efa\",\"#636efa\",\"#636efa\",\"#636efa\",\"#636efa\",\"#636efa\",\"#636efa\",\"#636efa\",\"#636efa\",\"#636efa\",\"#636efa\",\"#636efa\",\"#636efa\",\"#636efa\",\"#636efa\",\"#636efa\",\"#636efa\",\"#636efa\",\"#636efa\",\"#EF553B\",\"#EF553B\",\"#636efa\",\"#636efa\",\"#636efa\",\"#636efa\",\"#636efa\",\"#EF553B\",\"#636efa\",\"#636efa\",\"#636efa\",\"#EF553B\",\"#EF553B\",\"#EF553B\",\"#EF553B\",\"#636efa\",\"#EF553B\",\"#EF553B\",\"#EF553B\",\"#636efa\",\"#EF553B\",\"#636efa\",\"#636efa\",\"#ab63fa\",\"#636efa\",\"#636efa\",\"#636efa\",\"#636efa\",\"#ab63fa\",\"#636efa\",\"#636efa\",\"#EF553B\",\"#636efa\",\"#636efa\",\"#EF553B\",\"#636efa\",\"#636efa\",\"#EF553B\",\"#636efa\",\"#636efa\",\"#636efa\",\"#636efa\",\"#636efa\",\"#636efa\",\"#636efa\",\"#636efa\",\"#636efa\",\"#636efa\",\"#636efa\",\"#636efa\",\"#636efa\",\"#636efa\",\"#636efa\",\"#636efa\",\"#636efa\",\"#636efa\",\"#636efa\",\"#636efa\",\"#636efa\",\"#636efa\",\"#636efa\",\"#636efa\",\"#636efa\",\"#636efa\",\"#636efa\",\"#636efa\",\"#636efa\",\"#636efa\",\"#636efa\",\"#EF553B\",\"#636efa\",\"#636efa\",\"#636efa\",\"#636efa\",\"#636efa\",\"#636efa\",\"#636efa\",\"#636efa\",\"#636efa\",\"#636efa\",\"#636efa\",\"#636efa\",\"#636efa\",\"#636efa\",\"#636efa\",\"#636efa\",\"#636efa\",\"#636efa\",\"#EF553B\",\"#636efa\",\"#EF553B\",\"#636efa\",\"#636efa\",\"#636efa\",\"#EF553B\",\"#636efa\",\"#636efa\",\"#636efa\",\"#636efa\",\"#636efa\",\"#636efa\",\"#636efa\",\"#636efa\",\"#EF553B\",\"#636efa\",\"#636efa\",\"#636efa\",\"#636efa\",\"#636efa\",\"#EF553B\",\"#636efa\",\"#636efa\",\"#636efa\",\"#EF553B\",\"#636efa\",\"#636efa\",\"#636efa\",\"#636efa\",\"#636efa\",\"#636efa\",\"#636efa\",\"#636efa\",\"#636efa\",\"#636efa\",\"#636efa\",\"#636efa\",\"#636efa\",\"#636efa\",\"#636efa\",\"#636efa\",\"#636efa\",\"#636efa\",\"#EF553B\",\"#636efa\",\"#ab63fa\",\"#636efa\",\"#636efa\",\"#636efa\",\"#636efa\",\"#636efa\",\"#636efa\",\"#636efa\",\"#636efa\",\"#636efa\",\"#636efa\",\"#636efa\",\"#636efa\",\"#636efa\",\"#636efa\",\"#636efa\",\"#636efa\",\"#636efa\",\"#EF553B\",\"#636efa\",\"#636efa\",\"#00cc96\",\"#636efa\",\"#636efa\",\"#636efa\",\"#636efa\",\"#636efa\",\"#636efa\",\"#636efa\",\"#636efa\",\"#636efa\",\"#636efa\",\"#EF553B\",\"#EF553B\",\"#EF553B\",\"#EF553B\",\"#EF553B\",\"#EF553B\",\"#EF553B\",\"#636efa\",\"#EF553B\",\"#636efa\",\"#636efa\",\"#636efa\",\"#636efa\",\"#636efa\",\"#636efa\",\"#636efa\",\"#636efa\",\"#636efa\",\"#636efa\",\"#EF553B\",\"#636efa\",\"#EF553B\",\"#636efa\",\"#636efa\",\"#636efa\",\"#636efa\",\"#636efa\",\"#636efa\",\"#636efa\",\"#636efa\",\"#636efa\",\"#EF553B\",\"#EF553B\",\"#636efa\",\"#EF553B\",\"#EF553B\",\"#636efa\",\"#636efa\",\"#636efa\",\"#636efa\",\"#636efa\",\"#636efa\",\"#636efa\",\"#636efa\",\"#636efa\",\"#636efa\",\"#636efa\",\"#636efa\",\"#636efa\",\"#ab63fa\",\"#636efa\",\"#636efa\",\"#636efa\",\"#636efa\",\"#636efa\",\"#636efa\",\"#636efa\",\"#636efa\",\"#636efa\",\"#636efa\",\"#636efa\",\"#636efa\",\"#ab63fa\",\"#636efa\",\"#ab63fa\",\"#636efa\",\"#636efa\",\"#636efa\",\"#636efa\",\"#636efa\",\"#636efa\",\"#636efa\",\"#636efa\",\"#636efa\",\"#636efa\",\"#636efa\",\"#636efa\",\"#636efa\",\"#636efa\",\"#EF553B\",\"#ab63fa\",\"#636efa\",\"#636efa\",\"#636efa\",\"#636efa\",\"#636efa\",\"#636efa\",\"#636efa\",\"#636efa\",\"#636efa\",\"#636efa\",\"#636efa\",\"#636efa\",\"#EF553B\",\"#636efa\",\"#636efa\",\"#636efa\",\"#636efa\",\"#636efa\",\"#636efa\",\"#636efa\",\"#636efa\",\"#636efa\",\"#636efa\",\"#636efa\",\"#636efa\",\"#636efa\",\"#636efa\",\"#636efa\",\"#ab63fa\",\"#636efa\",\"#636efa\",\"#636efa\",\"#EF553B\",\"#636efa\",\"#636efa\",\"#636efa\",\"#636efa\",\"#636efa\",\"#636efa\",\"#636efa\",\"#636efa\",\"#00cc96\",\"#636efa\",\"#EF553B\",\"#EF553B\",\"#ab63fa\",\"#00cc96\",\"#636efa\",\"#636efa\",\"#EF553B\",\"#636efa\",\"#00cc96\",\"#636efa\",\"#636efa\",\"#636efa\",\"#EF553B\",\"#636efa\",\"#636efa\",\"#636efa\",\"#636efa\",\"#636efa\",\"#636efa\",\"#636efa\",\"#636efa\",\"#EF553B\",\"#EF553B\",\"#EF553B\",\"#636efa\",\"#636efa\",\"#636efa\",\"#636efa\",\"#636efa\",\"#636efa\",\"#636efa\",\"#636efa\",\"#636efa\",\"#EF553B\",\"#636efa\",\"#636efa\",\"#636efa\",\"#636efa\",\"#EF553B\",\"#EF553B\",\"#636efa\",\"#636efa\",\"#636efa\",\"#636efa\",\"#EF553B\",\"#ab63fa\",\"#636efa\",\"#636efa\",\"#636efa\",\"#636efa\",\"#636efa\",\"#636efa\",\"#636efa\",\"#636efa\",\"#636efa\",\"#636efa\",\"#636efa\",\"#636efa\",\"#ab63fa\",\"#636efa\"]},\"name\":\"\",\"showlegend\":true,\"type\":\"pie\"}],                        {\"template\":{\"data\":{\"bar\":[{\"error_x\":{\"color\":\"#2a3f5f\"},\"error_y\":{\"color\":\"#2a3f5f\"},\"marker\":{\"line\":{\"color\":\"#E5ECF6\",\"width\":0.5},\"pattern\":{\"fillmode\":\"overlay\",\"size\":10,\"solidity\":0.2}},\"type\":\"bar\"}],\"barpolar\":[{\"marker\":{\"line\":{\"color\":\"#E5ECF6\",\"width\":0.5},\"pattern\":{\"fillmode\":\"overlay\",\"size\":10,\"solidity\":0.2}},\"type\":\"barpolar\"}],\"carpet\":[{\"aaxis\":{\"endlinecolor\":\"#2a3f5f\",\"gridcolor\":\"white\",\"linecolor\":\"white\",\"minorgridcolor\":\"white\",\"startlinecolor\":\"#2a3f5f\"},\"baxis\":{\"endlinecolor\":\"#2a3f5f\",\"gridcolor\":\"white\",\"linecolor\":\"white\",\"minorgridcolor\":\"white\",\"startlinecolor\":\"#2a3f5f\"},\"type\":\"carpet\"}],\"choropleth\":[{\"colorbar\":{\"outlinewidth\":0,\"ticks\":\"\"},\"type\":\"choropleth\"}],\"contour\":[{\"colorbar\":{\"outlinewidth\":0,\"ticks\":\"\"},\"colorscale\":[[0.0,\"#0d0887\"],[0.1111111111111111,\"#46039f\"],[0.2222222222222222,\"#7201a8\"],[0.3333333333333333,\"#9c179e\"],[0.4444444444444444,\"#bd3786\"],[0.5555555555555556,\"#d8576b\"],[0.6666666666666666,\"#ed7953\"],[0.7777777777777778,\"#fb9f3a\"],[0.8888888888888888,\"#fdca26\"],[1.0,\"#f0f921\"]],\"type\":\"contour\"}],\"contourcarpet\":[{\"colorbar\":{\"outlinewidth\":0,\"ticks\":\"\"},\"type\":\"contourcarpet\"}],\"heatmap\":[{\"colorbar\":{\"outlinewidth\":0,\"ticks\":\"\"},\"colorscale\":[[0.0,\"#0d0887\"],[0.1111111111111111,\"#46039f\"],[0.2222222222222222,\"#7201a8\"],[0.3333333333333333,\"#9c179e\"],[0.4444444444444444,\"#bd3786\"],[0.5555555555555556,\"#d8576b\"],[0.6666666666666666,\"#ed7953\"],[0.7777777777777778,\"#fb9f3a\"],[0.8888888888888888,\"#fdca26\"],[1.0,\"#f0f921\"]],\"type\":\"heatmap\"}],\"heatmapgl\":[{\"colorbar\":{\"outlinewidth\":0,\"ticks\":\"\"},\"colorscale\":[[0.0,\"#0d0887\"],[0.1111111111111111,\"#46039f\"],[0.2222222222222222,\"#7201a8\"],[0.3333333333333333,\"#9c179e\"],[0.4444444444444444,\"#bd3786\"],[0.5555555555555556,\"#d8576b\"],[0.6666666666666666,\"#ed7953\"],[0.7777777777777778,\"#fb9f3a\"],[0.8888888888888888,\"#fdca26\"],[1.0,\"#f0f921\"]],\"type\":\"heatmapgl\"}],\"histogram\":[{\"marker\":{\"pattern\":{\"fillmode\":\"overlay\",\"size\":10,\"solidity\":0.2}},\"type\":\"histogram\"}],\"histogram2d\":[{\"colorbar\":{\"outlinewidth\":0,\"ticks\":\"\"},\"colorscale\":[[0.0,\"#0d0887\"],[0.1111111111111111,\"#46039f\"],[0.2222222222222222,\"#7201a8\"],[0.3333333333333333,\"#9c179e\"],[0.4444444444444444,\"#bd3786\"],[0.5555555555555556,\"#d8576b\"],[0.6666666666666666,\"#ed7953\"],[0.7777777777777778,\"#fb9f3a\"],[0.8888888888888888,\"#fdca26\"],[1.0,\"#f0f921\"]],\"type\":\"histogram2d\"}],\"histogram2dcontour\":[{\"colorbar\":{\"outlinewidth\":0,\"ticks\":\"\"},\"colorscale\":[[0.0,\"#0d0887\"],[0.1111111111111111,\"#46039f\"],[0.2222222222222222,\"#7201a8\"],[0.3333333333333333,\"#9c179e\"],[0.4444444444444444,\"#bd3786\"],[0.5555555555555556,\"#d8576b\"],[0.6666666666666666,\"#ed7953\"],[0.7777777777777778,\"#fb9f3a\"],[0.8888888888888888,\"#fdca26\"],[1.0,\"#f0f921\"]],\"type\":\"histogram2dcontour\"}],\"mesh3d\":[{\"colorbar\":{\"outlinewidth\":0,\"ticks\":\"\"},\"type\":\"mesh3d\"}],\"parcoords\":[{\"line\":{\"colorbar\":{\"outlinewidth\":0,\"ticks\":\"\"}},\"type\":\"parcoords\"}],\"pie\":[{\"automargin\":true,\"type\":\"pie\"}],\"scatter\":[{\"marker\":{\"colorbar\":{\"outlinewidth\":0,\"ticks\":\"\"}},\"type\":\"scatter\"}],\"scatter3d\":[{\"line\":{\"colorbar\":{\"outlinewidth\":0,\"ticks\":\"\"}},\"marker\":{\"colorbar\":{\"outlinewidth\":0,\"ticks\":\"\"}},\"type\":\"scatter3d\"}],\"scattercarpet\":[{\"marker\":{\"colorbar\":{\"outlinewidth\":0,\"ticks\":\"\"}},\"type\":\"scattercarpet\"}],\"scattergeo\":[{\"marker\":{\"colorbar\":{\"outlinewidth\":0,\"ticks\":\"\"}},\"type\":\"scattergeo\"}],\"scattergl\":[{\"marker\":{\"colorbar\":{\"outlinewidth\":0,\"ticks\":\"\"}},\"type\":\"scattergl\"}],\"scattermapbox\":[{\"marker\":{\"colorbar\":{\"outlinewidth\":0,\"ticks\":\"\"}},\"type\":\"scattermapbox\"}],\"scatterpolar\":[{\"marker\":{\"colorbar\":{\"outlinewidth\":0,\"ticks\":\"\"}},\"type\":\"scatterpolar\"}],\"scatterpolargl\":[{\"marker\":{\"colorbar\":{\"outlinewidth\":0,\"ticks\":\"\"}},\"type\":\"scatterpolargl\"}],\"scatterternary\":[{\"marker\":{\"colorbar\":{\"outlinewidth\":0,\"ticks\":\"\"}},\"type\":\"scatterternary\"}],\"surface\":[{\"colorbar\":{\"outlinewidth\":0,\"ticks\":\"\"},\"colorscale\":[[0.0,\"#0d0887\"],[0.1111111111111111,\"#46039f\"],[0.2222222222222222,\"#7201a8\"],[0.3333333333333333,\"#9c179e\"],[0.4444444444444444,\"#bd3786\"],[0.5555555555555556,\"#d8576b\"],[0.6666666666666666,\"#ed7953\"],[0.7777777777777778,\"#fb9f3a\"],[0.8888888888888888,\"#fdca26\"],[1.0,\"#f0f921\"]],\"type\":\"surface\"}],\"table\":[{\"cells\":{\"fill\":{\"color\":\"#EBF0F8\"},\"line\":{\"color\":\"white\"}},\"header\":{\"fill\":{\"color\":\"#C8D4E3\"},\"line\":{\"color\":\"white\"}},\"type\":\"table\"}]},\"layout\":{\"annotationdefaults\":{\"arrowcolor\":\"#2a3f5f\",\"arrowhead\":0,\"arrowwidth\":1},\"autotypenumbers\":\"strict\",\"coloraxis\":{\"colorbar\":{\"outlinewidth\":0,\"ticks\":\"\"}},\"colorscale\":{\"diverging\":[[0,\"#8e0152\"],[0.1,\"#c51b7d\"],[0.2,\"#de77ae\"],[0.3,\"#f1b6da\"],[0.4,\"#fde0ef\"],[0.5,\"#f7f7f7\"],[0.6,\"#e6f5d0\"],[0.7,\"#b8e186\"],[0.8,\"#7fbc41\"],[0.9,\"#4d9221\"],[1,\"#276419\"]],\"sequential\":[[0.0,\"#0d0887\"],[0.1111111111111111,\"#46039f\"],[0.2222222222222222,\"#7201a8\"],[0.3333333333333333,\"#9c179e\"],[0.4444444444444444,\"#bd3786\"],[0.5555555555555556,\"#d8576b\"],[0.6666666666666666,\"#ed7953\"],[0.7777777777777778,\"#fb9f3a\"],[0.8888888888888888,\"#fdca26\"],[1.0,\"#f0f921\"]],\"sequentialminus\":[[0.0,\"#0d0887\"],[0.1111111111111111,\"#46039f\"],[0.2222222222222222,\"#7201a8\"],[0.3333333333333333,\"#9c179e\"],[0.4444444444444444,\"#bd3786\"],[0.5555555555555556,\"#d8576b\"],[0.6666666666666666,\"#ed7953\"],[0.7777777777777778,\"#fb9f3a\"],[0.8888888888888888,\"#fdca26\"],[1.0,\"#f0f921\"]]},\"colorway\":[\"#636efa\",\"#EF553B\",\"#00cc96\",\"#ab63fa\",\"#FFA15A\",\"#19d3f3\",\"#FF6692\",\"#B6E880\",\"#FF97FF\",\"#FECB52\"],\"font\":{\"color\":\"#2a3f5f\"},\"geo\":{\"bgcolor\":\"white\",\"lakecolor\":\"white\",\"landcolor\":\"#E5ECF6\",\"showlakes\":true,\"showland\":true,\"subunitcolor\":\"white\"},\"hoverlabel\":{\"align\":\"left\"},\"hovermode\":\"closest\",\"mapbox\":{\"style\":\"light\"},\"paper_bgcolor\":\"white\",\"plot_bgcolor\":\"#E5ECF6\",\"polar\":{\"angularaxis\":{\"gridcolor\":\"white\",\"linecolor\":\"white\",\"ticks\":\"\"},\"bgcolor\":\"#E5ECF6\",\"radialaxis\":{\"gridcolor\":\"white\",\"linecolor\":\"white\",\"ticks\":\"\"}},\"scene\":{\"xaxis\":{\"backgroundcolor\":\"#E5ECF6\",\"gridcolor\":\"white\",\"gridwidth\":2,\"linecolor\":\"white\",\"showbackground\":true,\"ticks\":\"\",\"zerolinecolor\":\"white\"},\"yaxis\":{\"backgroundcolor\":\"#E5ECF6\",\"gridcolor\":\"white\",\"gridwidth\":2,\"linecolor\":\"white\",\"showbackground\":true,\"ticks\":\"\",\"zerolinecolor\":\"white\"},\"zaxis\":{\"backgroundcolor\":\"#E5ECF6\",\"gridcolor\":\"white\",\"gridwidth\":2,\"linecolor\":\"white\",\"showbackground\":true,\"ticks\":\"\",\"zerolinecolor\":\"white\"}},\"shapedefaults\":{\"line\":{\"color\":\"#2a3f5f\"}},\"ternary\":{\"aaxis\":{\"gridcolor\":\"white\",\"linecolor\":\"white\",\"ticks\":\"\"},\"baxis\":{\"gridcolor\":\"white\",\"linecolor\":\"white\",\"ticks\":\"\"},\"bgcolor\":\"#E5ECF6\",\"caxis\":{\"gridcolor\":\"white\",\"linecolor\":\"white\",\"ticks\":\"\"}},\"title\":{\"x\":0.05},\"xaxis\":{\"automargin\":true,\"gridcolor\":\"white\",\"linecolor\":\"white\",\"ticks\":\"\",\"title\":{\"standoff\":15},\"zerolinecolor\":\"white\",\"zerolinewidth\":2},\"yaxis\":{\"automargin\":true,\"gridcolor\":\"white\",\"linecolor\":\"white\",\"ticks\":\"\",\"title\":{\"standoff\":15},\"zerolinecolor\":\"white\",\"zerolinewidth\":2}}},\"legend\":{\"tracegroupgap\":0},\"margin\":{\"t\":60},\"title\":{\"font\":{\"size\":30,\"color\":\"black\",\"family\":\"Arial , Halvetica\"},\"text\":\"Content Rating percentage wise\",\"x\":0.5}},                        {\"responsive\": true}                    ).then(function(){\n",
              "                            \n",
              "var gd = document.getElementById('07a100d7-6828-4a21-814b-cf8a08201e1d');\n",
              "var x = new MutationObserver(function (mutations, observer) {{\n",
              "        var display = window.getComputedStyle(gd).display;\n",
              "        if (!display || display === 'none') {{\n",
              "            console.log([gd, 'removed!']);\n",
              "            Plotly.purge(gd);\n",
              "            observer.disconnect();\n",
              "        }}\n",
              "}});\n",
              "\n",
              "// Listen for the removal of the full notebook cells\n",
              "var notebookContainer = gd.closest('#notebook-container');\n",
              "if (notebookContainer) {{\n",
              "    x.observe(notebookContainer, {childList: true});\n",
              "}}\n",
              "\n",
              "// Listen for the clearing of the current output cell\n",
              "var outputEl = gd.closest('.output');\n",
              "if (outputEl) {{\n",
              "    x.observe(outputEl, {childList: true});\n",
              "}}\n",
              "\n",
              "                        })                };                            </script>        </div>\n",
              "</body>\n",
              "</html>"
            ]
          },
          "metadata": {}
        }
      ],
      "source": [
        "# Plotting Content Rating using Pie-Chart.\n",
        "\n",
        "fig = px.pie(df['Content Rating'] , names='Content Rating' , color='Content Rating')\n",
        "fig.update_layout(title_text='Content Rating percentage wise',title_x=0.5,titlefont=dict(size=30,color='black',family='Arial , Halvetica'))\n",
        "fig.show()"
      ]
    },
    {
      "cell_type": "markdown",
      "metadata": {
        "id": "kGaNbHIB3YGk"
      },
      "source": [
        "# OBSERVATION"
      ]
    }
  ]
}